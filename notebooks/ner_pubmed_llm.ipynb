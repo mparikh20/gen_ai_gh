{
 "cells": [
  {
   "cell_type": "markdown",
   "id": "fd26f790",
   "metadata": {},
   "source": [
    "# Overview"
   ]
  },
  {
   "cell_type": "code",
   "execution_count": null,
   "id": "5264c049",
   "metadata": {},
   "outputs": [],
   "source": []
  },
  {
   "cell_type": "markdown",
   "id": "46e3eece",
   "metadata": {},
   "source": [
    "# Table of contents"
   ]
  },
  {
   "cell_type": "markdown",
   "id": "016fff3b",
   "metadata": {},
   "source": [
    "* [Imports](#imports)\n",
    "* [Paths](#paths)\n",
    "* [1.Get literature from PubMed](#pubmed)"
   ]
  },
  {
   "cell_type": "markdown",
   "id": "6b095348",
   "metadata": {},
   "source": [
    "# Imports<a id=\"imports\"></a>"
   ]
  },
  {
   "cell_type": "code",
   "execution_count": 1,
   "id": "6a61863d",
   "metadata": {},
   "outputs": [],
   "source": [
    "%load_ext autoreload\n",
    "%autoreload 2"
   ]
  },
  {
   "cell_type": "code",
   "execution_count": 2,
   "id": "72300313",
   "metadata": {},
   "outputs": [],
   "source": [
    "import json\n",
    "import pandas as pd\n",
    "from pathlib import Path\n",
    "import sys\n",
    "import tiktoken"
   ]
  },
  {
   "cell_type": "markdown",
   "id": "30643776",
   "metadata": {},
   "source": [
    "**Import the PubMed module.**"
   ]
  },
  {
   "cell_type": "code",
   "execution_count": 3,
   "id": "84af3bfc",
   "metadata": {},
   "outputs": [],
   "source": [
    "cwd = Path.cwd()"
   ]
  },
  {
   "cell_type": "code",
   "execution_count": 4,
   "id": "6647a3d0",
   "metadata": {},
   "outputs": [],
   "source": [
    "module_dir = cwd.parent / 'scripts'"
   ]
  },
  {
   "cell_type": "code",
   "execution_count": 5,
   "id": "b69f55c9",
   "metadata": {},
   "outputs": [],
   "source": [
    "sys.path.append(str(module_dir))"
   ]
  },
  {
   "cell_type": "code",
   "execution_count": 6,
   "id": "ba1d0ea1",
   "metadata": {},
   "outputs": [],
   "source": [
    "import pubmed"
   ]
  },
  {
   "cell_type": "markdown",
   "id": "4bfdf22e",
   "metadata": {},
   "source": [
    "**Import the openai module.**"
   ]
  },
  {
   "cell_type": "code",
   "execution_count": 7,
   "id": "142e08b8",
   "metadata": {},
   "outputs": [],
   "source": [
    "import openai_api"
   ]
  },
  {
   "cell_type": "markdown",
   "id": "5d5eaa7c",
   "metadata": {},
   "source": [
    "**Import the module containing utils functions eg. writing data from df to Google Sheets.**"
   ]
  },
  {
   "cell_type": "code",
   "execution_count": 53,
   "id": "118c3332",
   "metadata": {},
   "outputs": [],
   "source": [
    "import utils"
   ]
  },
  {
   "cell_type": "markdown",
   "id": "bd743ec9",
   "metadata": {},
   "source": [
    "# Paths"
   ]
  },
  {
   "cell_type": "markdown",
   "id": "eaf7f309",
   "metadata": {},
   "source": [
    "## PubMed output path"
   ]
  },
  {
   "cell_type": "code",
   "execution_count": 8,
   "id": "fc23aef9",
   "metadata": {},
   "outputs": [],
   "source": [
    "\n",
    "output_dir = cwd.parent / 'outputs'"
   ]
  },
  {
   "cell_type": "markdown",
   "id": "66111226",
   "metadata": {},
   "source": [
    "**Path to CSV containing literature from 87 papers from PubMed.**"
   ]
  },
  {
   "cell_type": "code",
   "execution_count": 42,
   "id": "a624e5b0",
   "metadata": {},
   "outputs": [],
   "source": [
    "pubmed_output = output_dir / 'pubmed_data_run_1.csv'"
   ]
  },
  {
   "cell_type": "markdown",
   "id": "b48b39b7",
   "metadata": {},
   "source": [
    "## Prompt language - system and user instructions"
   ]
  },
  {
   "cell_type": "code",
   "execution_count": 10,
   "id": "ac27a5a6",
   "metadata": {},
   "outputs": [],
   "source": [
    "input_dir = cwd.parent / 'inputs'"
   ]
  },
  {
   "cell_type": "code",
   "execution_count": 11,
   "id": "fea63a26",
   "metadata": {},
   "outputs": [],
   "source": [
    "system_path = input_dir / 'system_prompt_v1.json'\n",
    "user_path = input_dir / 'user_prompt_v1.json'"
   ]
  },
  {
   "cell_type": "markdown",
   "id": "9c87d48c",
   "metadata": {},
   "source": [
    "## Completions jsons"
   ]
  },
  {
   "cell_type": "markdown",
   "id": "f9bc1709",
   "metadata": {},
   "source": [
    "**Run 1 - Completions for 30 pubmed abstracts processed for entity extraction via OpenAI API.**"
   ]
  },
  {
   "cell_type": "code",
   "execution_count": 40,
   "id": "bb082afc",
   "metadata": {},
   "outputs": [],
   "source": [
    "completions_path = output_dir / 'completions_run_1.json'"
   ]
  },
  {
   "cell_type": "markdown",
   "id": "3610d629",
   "metadata": {},
   "source": [
    "**Run 1 - results from completions extracted into a CSV.**"
   ]
  },
  {
   "cell_type": "code",
   "execution_count": 44,
   "id": "087adc2d",
   "metadata": {},
   "outputs": [],
   "source": [
    "ner_path = output_dir / 'pubmed_ner_run_1.csv'"
   ]
  },
  {
   "cell_type": "markdown",
   "id": "a029459b",
   "metadata": {},
   "source": [
    "## Results"
   ]
  },
  {
   "cell_type": "code",
   "execution_count": null,
   "id": "afa05dc2",
   "metadata": {},
   "outputs": [],
   "source": []
  },
  {
   "cell_type": "code",
   "execution_count": null,
   "id": "a62127ed",
   "metadata": {},
   "outputs": [],
   "source": []
  },
  {
   "cell_type": "markdown",
   "id": "4e72c592",
   "metadata": {},
   "source": [
    "# 1. Get literature from PubMed"
   ]
  },
  {
   "cell_type": "markdown",
   "id": "62e0ac45",
   "metadata": {},
   "source": [
    "**Scope**\n",
    "\n",
    "We'll focus on getting ~30 articles each for breast cancer,lung cancer, and glioblastoma from 2023-present, and remove articles of the type Review or Systematic Review."
   ]
  },
  {
   "cell_type": "raw",
   "id": "597dbf8c",
   "metadata": {},
   "source": [
    "Query used for advanced search on the website:\n",
    "\n",
    "'''(((\"2023/01/01\"[Date - Publication] : \"3000\"[Date - Publication])) \n",
    "NOT (Review[Publication Type] OR Scientific Integrity Review OR Systematic Review[Publication Type])) \n",
    "AND (breast cancer[Title/Abstract])'''\n",
    "\n",
    "'''(((\"2023/01/01\"[Date - Publication] : \"3000\"[Date - Publication])) \n",
    "NOT (Review[Publication Type] OR Scientific Integrity Review OR Systematic Review[Publication Type])) \n",
    "AND (lung cancer[Title/Abstract])'''\n"
   ]
  },
  {
   "cell_type": "markdown",
   "id": "36776df8",
   "metadata": {},
   "source": [
    "**Establish base criteria for querying.**"
   ]
  },
  {
   "cell_type": "code",
   "execution_count": 12,
   "id": "49dcfbd1",
   "metadata": {},
   "outputs": [],
   "source": [
    "date_criteria = '(2023/01/01:3000[pdat])'\n",
    "drug_criteria = '(drug[tiab]+OR+inhibitor[tiab]+OR+compound[tiab]+OR+small+molecule[tiab]+OR+clinical+trial[tiab]+OR+therapy[tiab]+OR+agent[tiab])'\n",
    "pub_criteria = '(Review[pt]+OR+Scientific+Integrity+Review[pt]+OR+Systematic+Review[pt])'\n"
   ]
  },
  {
   "cell_type": "markdown",
   "id": "ad214665",
   "metadata": {},
   "source": [
    "**Run the PubMed pipeline for getting papers for 3 cancer types.**"
   ]
  },
  {
   "cell_type": "code",
   "execution_count": 13,
   "id": "0f539a22",
   "metadata": {
    "scrolled": false
   },
   "outputs": [
    {
     "name": "stdout",
     "output_type": "stream",
     "text": [
      "----Running pipeline for the following query:----\n",
      "(2023/01/01:3000[pdat])+AND+(breast+cancer[tiab])+AND+(drug[tiab]+OR+inhibitor[tiab]+OR+compound[tiab]+OR+small+molecule[tiab]+OR+clinical+trial[tiab]+OR+therapy[tiab]+OR+agent[tiab])+NOT+(Review[pt]+OR+Scientific+Integrity+Review[pt]+OR+Systematic+Review[pt])\n",
      "Using PubMed esearch API to get PMIDs matching the search query.\n",
      "\tThe actual total number of records matching the search for is 9701\n",
      "\tThe number of ids present in the esearch json is 9701\n",
      "\tFunction get_pmids complete.\n",
      "Collecting metadata about the search results into a dictionary.\n",
      "\tMetadata obtained and saved in a dictionary.\n",
      "Using PubMed efetch API to get abstract and other details for relevant PMIDs into an XML string.\n",
      "\tThe number of matching PMIDs based on the server: 30\n",
      "\tFunction get_abstracts complete.\n",
      "Extracting data from XML string and organizing it into a dataframe.\n",
      "\tPerforming basic cleanup.\n",
      "\t&#xa0 left: 0\n",
      "\t&#x3ba left: 0\n",
      "\t&# left: 0\n",
      "Iterating through each article and collecting information.\n",
      "\t<FLAG> Additional PMID 38323464 found in association with 37070653, not collected.\n",
      "\t<FLAG> Additional PMID 36585451 found in association with 36585452, not collected.\n",
      "\t<FLAG> Additional PMID 37322365 found in association with 36585452, not collected.\n",
      "\t<FLAG> Additional PMID 37322366 found in association with 36585452, not collected.\n",
      "\t<FLAG> Additional PMID 37205914 found in association with 36909163, not collected.\n",
      "\t<FLAG> Additional PMID 37779428 found in association with 37071495, not collected.\n",
      "\tFunction get_data_from_xml complete.\n",
      "Adding in metadata information.\n",
      "Pipeline complete, dataframe ready.\n",
      "Num rows in df: 30\n",
      "Pipeline complete for breast+cancer\n",
      "----Running pipeline for the following query:----\n",
      "(2023/01/01:3000[pdat])+AND+(lung+cancer[tiab])+AND+(drug[tiab]+OR+inhibitor[tiab]+OR+compound[tiab]+OR+small+molecule[tiab]+OR+clinical+trial[tiab]+OR+therapy[tiab]+OR+agent[tiab])+NOT+(Review[pt]+OR+Scientific+Integrity+Review[pt]+OR+Systematic+Review[pt])\n",
      "Using PubMed esearch API to get PMIDs matching the search query.\n",
      "\tThe actual total number of records matching the search for is 6642\n",
      "\tThe number of ids present in the esearch json is 6642\n",
      "\tFunction get_pmids complete.\n",
      "Collecting metadata about the search results into a dictionary.\n",
      "\tMetadata obtained and saved in a dictionary.\n",
      "Using PubMed efetch API to get abstract and other details for relevant PMIDs into an XML string.\n",
      "\tThe number of matching PMIDs based on the server: 30\n",
      "\tFunction get_abstracts complete.\n",
      "Extracting data from XML string and organizing it into a dataframe.\n",
      "\tPerforming basic cleanup.\n",
      "\t&#xa0 left: 0\n",
      "\t&#x3ba left: 0\n",
      "\t&# left: 0\n",
      "Iterating through each article and collecting information.\n",
      "\t<FLAG> Additional PMID 36812886 found in association with 36657446, not collected.\n",
      "\t<FLAG> Additional PMID 37524811 found in association with 37407818, not collected.\n",
      "\t<FLAG> Additional PMID 37269291 found in association with 37269335, not collected.\n",
      "\t<FLAG> Additional PMID 37348992 found in association with 36948246, not collected.\n",
      "\t<FLAG> Additional PMID 37620619 found in association with 36650267, not collected.\n",
      "\t<FLAG> Additional PMID 38366163 found in association with 37491889, not collected.\n",
      "\tFunction get_data_from_xml complete.\n",
      "Adding in metadata information.\n",
      "Pipeline complete, dataframe ready.\n",
      "Num rows in df: 27\n",
      "Pipeline complete for lung+cancer\n",
      "----Running pipeline for the following query:----\n",
      "(2023/01/01:3000[pdat])+AND+(glioblastoma[tiab])+AND+(drug[tiab]+OR+inhibitor[tiab]+OR+compound[tiab]+OR+small+molecule[tiab]+OR+clinical+trial[tiab]+OR+therapy[tiab]+OR+agent[tiab])+NOT+(Review[pt]+OR+Scientific+Integrity+Review[pt]+OR+Systematic+Review[pt])\n",
      "Using PubMed esearch API to get PMIDs matching the search query.\n",
      "\tThe actual total number of records matching the search for is 1886\n",
      "\tThe number of ids present in the esearch json is 1886\n",
      "\tFunction get_pmids complete.\n",
      "Collecting metadata about the search results into a dictionary.\n",
      "\tMetadata obtained and saved in a dictionary.\n",
      "Using PubMed efetch API to get abstract and other details for relevant PMIDs into an XML string.\n",
      "\tThe number of matching PMIDs based on the server: 30\n",
      "\tFunction get_abstracts complete.\n",
      "Extracting data from XML string and organizing it into a dataframe.\n",
      "\tPerforming basic cleanup.\n",
      "\t&#xa0 left: 0\n",
      "\t&#x3ba left: 0\n",
      "\t&# left: 0\n",
      "Iterating through each article and collecting information.\n",
      "\t<FLAG> Additional PMID 37477398 found in association with 37451272, not collected.\n",
      "\t<FLAG> Additional PMID 36750686 found in association with 36652537, not collected.\n",
      "\t<FLAG> Additional PMID 38171329 found in association with 38134929, not collected.\n",
      "\t<FLAG> Additional PMID 38443336 found in association with 37886538, not collected.\n",
      "\t<FLAG> Additional PMID 37523556 found in association with 37672559, not collected.\n",
      "\tFunction get_data_from_xml complete.\n",
      "Adding in metadata information.\n",
      "Pipeline complete, dataframe ready.\n",
      "Num rows in df: 30\n",
      "Pipeline complete for glioblastoma\n"
     ]
    }
   ],
   "source": [
    "# Collect all dfs to merge later\n",
    "all_dfs = []\n",
    "\n",
    "for cancer_type in ['breast+cancer','lung+cancer','glioblastoma']:\n",
    "    disease_criteria = f'({cancer_type}[tiab])'\n",
    "    \n",
    "    query = date_criteria + '+AND+' + disease_criteria + '+AND+' + drug_criteria + '+NOT+' + pub_criteria\n",
    "    \n",
    "    df = pubmed.run_pubmed_pipeline(query=query,\n",
    "                                    save_on_server='y',\n",
    "                                    search_format='json',\n",
    "                                    search_starting_index=0,\n",
    "                                    search_max_records=9999,\n",
    "                                    sorting_criteria='relevance',\n",
    "                                    content_type='abstract',\n",
    "                                    fetch_starting_index=0,\n",
    "                                    fetch_max_records=30)\n",
    "    \n",
    "    # Add an identifier column for cancer type for easy searching\n",
    "    df['disease'] = cancer_type\n",
    "    print(f'Num rows in df: {len(df)}')\n",
    "    all_dfs.append(df)\n",
    "    \n",
    "    print(f'Pipeline complete for {cancer_type}')\n",
    "\n",
    "# Combine all dfs\n",
    "final_df = pd.concat(all_dfs)"
   ]
  },
  {
   "cell_type": "code",
   "execution_count": 14,
   "id": "8a54daca",
   "metadata": {},
   "outputs": [
    {
     "data": {
      "text/plain": [
       "87"
      ]
     },
     "execution_count": 14,
     "metadata": {},
     "output_type": "execute_result"
    }
   ],
   "source": [
    "len(final_df)"
   ]
  },
  {
   "cell_type": "markdown",
   "id": "b81f9178",
   "metadata": {},
   "source": [
    "**Final dataframe ready with content extracted from PubMed.**"
   ]
  },
  {
   "cell_type": "code",
   "execution_count": 15,
   "id": "34b06813",
   "metadata": {},
   "outputs": [
    {
     "data": {
      "text/html": [
       "<div>\n",
       "<style scoped>\n",
       "    .dataframe tbody tr th:only-of-type {\n",
       "        vertical-align: middle;\n",
       "    }\n",
       "\n",
       "    .dataframe tbody tr th {\n",
       "        vertical-align: top;\n",
       "    }\n",
       "\n",
       "    .dataframe thead th {\n",
       "        text-align: right;\n",
       "    }\n",
       "</style>\n",
       "<table border=\"1\" class=\"dataframe\">\n",
       "  <thead>\n",
       "    <tr style=\"text-align: right;\">\n",
       "      <th></th>\n",
       "      <th>pmid</th>\n",
       "      <th>publication_date</th>\n",
       "      <th>publication_type</th>\n",
       "      <th>article_title</th>\n",
       "      <th>abstract</th>\n",
       "      <th>keywords</th>\n",
       "      <th>journal</th>\n",
       "      <th>num_abstracts_retrieved</th>\n",
       "      <th>num_abstracts_requested</th>\n",
       "      <th>query_string</th>\n",
       "      <th>num_total_matches</th>\n",
       "      <th>all_matching_pmids</th>\n",
       "      <th>acquisition_date</th>\n",
       "      <th>disease</th>\n",
       "    </tr>\n",
       "  </thead>\n",
       "  <tbody>\n",
       "    <tr>\n",
       "      <th>0</th>\n",
       "      <td>37256976</td>\n",
       "      <td>2023 Jun 01</td>\n",
       "      <td>Clinical Trial, Phase III|Journal Article|Rand...</td>\n",
       "      <td>Capivasertib in Hormone Receptor-Positive Adva...</td>\n",
       "      <td>[BACKGROUND]AKT pathway activation is implicat...</td>\n",
       "      <td></td>\n",
       "      <td>The New England journal of medicine</td>\n",
       "      <td>30</td>\n",
       "      <td>30</td>\n",
       "      <td>(2023/01/01:3000/12/31[Date - Publication] AND...</td>\n",
       "      <td>9701</td>\n",
       "      <td>37256976,37070653,37147285,37723305,36585452,3...</td>\n",
       "      <td>2024-03-21</td>\n",
       "      <td>breast+cancer</td>\n",
       "    </tr>\n",
       "    <tr>\n",
       "      <th>1</th>\n",
       "      <td>37070653</td>\n",
       "      <td>2023 Mar</td>\n",
       "      <td>Clinical Trial Protocol|Journal Article</td>\n",
       "      <td>Design of SERENA-6, a phase III switching tria...</td>\n",
       "      <td>ESR1 mutation (ESR1m) is a frequent cause of a...</td>\n",
       "      <td>ESR1 mutation|advanced breast cancer|camizestr...</td>\n",
       "      <td>Future oncology (London, England)</td>\n",
       "      <td>30</td>\n",
       "      <td>30</td>\n",
       "      <td>(2023/01/01:3000/12/31[Date - Publication] AND...</td>\n",
       "      <td>9701</td>\n",
       "      <td>37256976,37070653,37147285,37723305,36585452,3...</td>\n",
       "      <td>2024-03-21</td>\n",
       "      <td>breast+cancer</td>\n",
       "    </tr>\n",
       "    <tr>\n",
       "      <th>2</th>\n",
       "      <td>37147285</td>\n",
       "      <td>2023 May 05</td>\n",
       "      <td>Journal Article|Research Support, Non-U.S. Gov't</td>\n",
       "      <td>KK-LC-1 as a therapeutic target to eliminate ALDH</td>\n",
       "      <td>Failure to achieve complete elimination of tri...</td>\n",
       "      <td></td>\n",
       "      <td>Nature communications</td>\n",
       "      <td>30</td>\n",
       "      <td>30</td>\n",
       "      <td>(2023/01/01:3000/12/31[Date - Publication] AND...</td>\n",
       "      <td>9701</td>\n",
       "      <td>37256976,37070653,37147285,37723305,36585452,3...</td>\n",
       "      <td>2024-03-21</td>\n",
       "      <td>breast+cancer</td>\n",
       "    </tr>\n",
       "    <tr>\n",
       "      <th>3</th>\n",
       "      <td>37723305</td>\n",
       "      <td>2023 Oct</td>\n",
       "      <td>Journal Article</td>\n",
       "      <td>Acetate acts as a metabolic immunomodulator by...</td>\n",
       "      <td>Acetate metabolism is an important metabolic p...</td>\n",
       "      <td></td>\n",
       "      <td>Nature cancerMain References:Methods Only Refe...</td>\n",
       "      <td>30</td>\n",
       "      <td>30</td>\n",
       "      <td>(2023/01/01:3000/12/31[Date - Publication] AND...</td>\n",
       "      <td>9701</td>\n",
       "      <td>37256976,37070653,37147285,37723305,36585452,3...</td>\n",
       "      <td>2024-03-21</td>\n",
       "      <td>breast+cancer</td>\n",
       "    </tr>\n",
       "    <tr>\n",
       "      <th>4</th>\n",
       "      <td>36585452</td>\n",
       "      <td>2023 Feb</td>\n",
       "      <td>Journal Article|Research Support, Non-U.S. Gov...</td>\n",
       "      <td>Network-based assessment of HDAC6 activity pre...</td>\n",
       "      <td>Inhibiting individual histone deacetylase (HDA...</td>\n",
       "      <td></td>\n",
       "      <td>Nature cancerMETHODS-ONLY REFERENCES</td>\n",
       "      <td>30</td>\n",
       "      <td>30</td>\n",
       "      <td>(2023/01/01:3000/12/31[Date - Publication] AND...</td>\n",
       "      <td>9701</td>\n",
       "      <td>37256976,37070653,37147285,37723305,36585452,3...</td>\n",
       "      <td>2024-03-21</td>\n",
       "      <td>breast+cancer</td>\n",
       "    </tr>\n",
       "    <tr>\n",
       "      <th>...</th>\n",
       "      <td>...</td>\n",
       "      <td>...</td>\n",
       "      <td>...</td>\n",
       "      <td>...</td>\n",
       "      <td>...</td>\n",
       "      <td>...</td>\n",
       "      <td>...</td>\n",
       "      <td>...</td>\n",
       "      <td>...</td>\n",
       "      <td>...</td>\n",
       "      <td>...</td>\n",
       "      <td>...</td>\n",
       "      <td>...</td>\n",
       "      <td>...</td>\n",
       "    </tr>\n",
       "    <tr>\n",
       "      <th>25</th>\n",
       "      <td>37460404</td>\n",
       "      <td>2023 Nov</td>\n",
       "      <td>Journal Article</td>\n",
       "      <td>Drug Repurposing-Based Brain-Targeting Self-As...</td>\n",
       "      <td>Glioblastoma (GBM), the most aggressive and le...</td>\n",
       "      <td>blood-brain barriers|chemophototherapy|drug re...</td>\n",
       "      <td>Small (Weinheim an der Bergstrasse, Germany)</td>\n",
       "      <td>30</td>\n",
       "      <td>30</td>\n",
       "      <td>(2023/01/01:3000/12/31[Date - Publication] AND...</td>\n",
       "      <td>1886</td>\n",
       "      <td>36791206,37451272,36749723,37935665,36966152,3...</td>\n",
       "      <td>2024-03-21</td>\n",
       "      <td>glioblastoma</td>\n",
       "    </tr>\n",
       "    <tr>\n",
       "      <th>26</th>\n",
       "      <td>37244935</td>\n",
       "      <td>2023 May 27</td>\n",
       "      <td>Journal Article|Research Support, Non-U.S. Gov't</td>\n",
       "      <td>macroH2A2 antagonizes epigenetic programs of s...</td>\n",
       "      <td>Self-renewal is a crucial property of glioblas...</td>\n",
       "      <td></td>\n",
       "      <td>Nature communications</td>\n",
       "      <td>30</td>\n",
       "      <td>30</td>\n",
       "      <td>(2023/01/01:3000/12/31[Date - Publication] AND...</td>\n",
       "      <td>1886</td>\n",
       "      <td>36791206,37451272,36749723,37935665,36966152,3...</td>\n",
       "      <td>2024-03-21</td>\n",
       "      <td>glioblastoma</td>\n",
       "    </tr>\n",
       "    <tr>\n",
       "      <th>27</th>\n",
       "      <td>37886538</td>\n",
       "      <td>2023 Oct 05</td>\n",
       "      <td>Preprint</td>\n",
       "      <td>LDHA-regulated tumor-macrophage symbiosis prom...</td>\n",
       "      <td>Abundant macrophage infiltration and altered t...</td>\n",
       "      <td></td>\n",
       "      <td>Research square</td>\n",
       "      <td>30</td>\n",
       "      <td>30</td>\n",
       "      <td>(2023/01/01:3000/12/31[Date - Publication] AND...</td>\n",
       "      <td>1886</td>\n",
       "      <td>36791206,37451272,36749723,37935665,36966152,3...</td>\n",
       "      <td>2024-03-21</td>\n",
       "      <td>glioblastoma</td>\n",
       "    </tr>\n",
       "    <tr>\n",
       "      <th>28</th>\n",
       "      <td>37672559</td>\n",
       "      <td>2023 Sep 19</td>\n",
       "      <td>Research Support, N.I.H., Extramural|Editorial...</td>\n",
       "      <td>Overcoming EGFR inhibitor resistance in Gliobl...</td>\n",
       "      <td></td>\n",
       "      <td></td>\n",
       "      <td>Proceedings of the National Academy of Science...</td>\n",
       "      <td>30</td>\n",
       "      <td>30</td>\n",
       "      <td>(2023/01/01:3000/12/31[Date - Publication] AND...</td>\n",
       "      <td>1886</td>\n",
       "      <td>36791206,37451272,36749723,37935665,36966152,3...</td>\n",
       "      <td>2024-03-21</td>\n",
       "      <td>glioblastoma</td>\n",
       "    </tr>\n",
       "    <tr>\n",
       "      <th>29</th>\n",
       "      <td>37147437</td>\n",
       "      <td>2023 Jun</td>\n",
       "      <td>Journal Article</td>\n",
       "      <td>EZH2-Myc driven glioblastoma elicited by cytom...</td>\n",
       "      <td>Mounting evidence is identifying human cytomeg...</td>\n",
       "      <td></td>\n",
       "      <td>Oncogene</td>\n",
       "      <td>30</td>\n",
       "      <td>30</td>\n",
       "      <td>(2023/01/01:3000/12/31[Date - Publication] AND...</td>\n",
       "      <td>1886</td>\n",
       "      <td>36791206,37451272,36749723,37935665,36966152,3...</td>\n",
       "      <td>2024-03-21</td>\n",
       "      <td>glioblastoma</td>\n",
       "    </tr>\n",
       "  </tbody>\n",
       "</table>\n",
       "<p>87 rows × 14 columns</p>\n",
       "</div>"
      ],
      "text/plain": [
       "        pmid publication_date   \n",
       "0   37256976      2023 Jun 01  \\\n",
       "1   37070653         2023 Mar   \n",
       "2   37147285      2023 May 05   \n",
       "3   37723305         2023 Oct   \n",
       "4   36585452         2023 Feb   \n",
       "..       ...              ...   \n",
       "25  37460404         2023 Nov   \n",
       "26  37244935      2023 May 27   \n",
       "27  37886538      2023 Oct 05   \n",
       "28  37672559      2023 Sep 19   \n",
       "29  37147437         2023 Jun   \n",
       "\n",
       "                                     publication_type   \n",
       "0   Clinical Trial, Phase III|Journal Article|Rand...  \\\n",
       "1             Clinical Trial Protocol|Journal Article   \n",
       "2    Journal Article|Research Support, Non-U.S. Gov't   \n",
       "3                                     Journal Article   \n",
       "4   Journal Article|Research Support, Non-U.S. Gov...   \n",
       "..                                                ...   \n",
       "25                                    Journal Article   \n",
       "26   Journal Article|Research Support, Non-U.S. Gov't   \n",
       "27                                           Preprint   \n",
       "28  Research Support, N.I.H., Extramural|Editorial...   \n",
       "29                                    Journal Article   \n",
       "\n",
       "                                        article_title   \n",
       "0   Capivasertib in Hormone Receptor-Positive Adva...  \\\n",
       "1   Design of SERENA-6, a phase III switching tria...   \n",
       "2   KK-LC-1 as a therapeutic target to eliminate ALDH   \n",
       "3   Acetate acts as a metabolic immunomodulator by...   \n",
       "4   Network-based assessment of HDAC6 activity pre...   \n",
       "..                                                ...   \n",
       "25  Drug Repurposing-Based Brain-Targeting Self-As...   \n",
       "26  macroH2A2 antagonizes epigenetic programs of s...   \n",
       "27  LDHA-regulated tumor-macrophage symbiosis prom...   \n",
       "28  Overcoming EGFR inhibitor resistance in Gliobl...   \n",
       "29  EZH2-Myc driven glioblastoma elicited by cytom...   \n",
       "\n",
       "                                             abstract   \n",
       "0   [BACKGROUND]AKT pathway activation is implicat...  \\\n",
       "1   ESR1 mutation (ESR1m) is a frequent cause of a...   \n",
       "2   Failure to achieve complete elimination of tri...   \n",
       "3   Acetate metabolism is an important metabolic p...   \n",
       "4   Inhibiting individual histone deacetylase (HDA...   \n",
       "..                                                ...   \n",
       "25  Glioblastoma (GBM), the most aggressive and le...   \n",
       "26  Self-renewal is a crucial property of glioblas...   \n",
       "27  Abundant macrophage infiltration and altered t...   \n",
       "28                                                      \n",
       "29  Mounting evidence is identifying human cytomeg...   \n",
       "\n",
       "                                             keywords   \n",
       "0                                                      \\\n",
       "1   ESR1 mutation|advanced breast cancer|camizestr...   \n",
       "2                                                       \n",
       "3                                                       \n",
       "4                                                       \n",
       "..                                                ...   \n",
       "25  blood-brain barriers|chemophototherapy|drug re...   \n",
       "26                                                      \n",
       "27                                                      \n",
       "28                                                      \n",
       "29                                                      \n",
       "\n",
       "                                              journal   \n",
       "0                 The New England journal of medicine  \\\n",
       "1                   Future oncology (London, England)   \n",
       "2                               Nature communications   \n",
       "3   Nature cancerMain References:Methods Only Refe...   \n",
       "4                Nature cancerMETHODS-ONLY REFERENCES   \n",
       "..                                                ...   \n",
       "25       Small (Weinheim an der Bergstrasse, Germany)   \n",
       "26                              Nature communications   \n",
       "27                                    Research square   \n",
       "28  Proceedings of the National Academy of Science...   \n",
       "29                                           Oncogene   \n",
       "\n",
       "    num_abstracts_retrieved  num_abstracts_requested   \n",
       "0                        30                       30  \\\n",
       "1                        30                       30   \n",
       "2                        30                       30   \n",
       "3                        30                       30   \n",
       "4                        30                       30   \n",
       "..                      ...                      ...   \n",
       "25                       30                       30   \n",
       "26                       30                       30   \n",
       "27                       30                       30   \n",
       "28                       30                       30   \n",
       "29                       30                       30   \n",
       "\n",
       "                                         query_string  num_total_matches   \n",
       "0   (2023/01/01:3000/12/31[Date - Publication] AND...               9701  \\\n",
       "1   (2023/01/01:3000/12/31[Date - Publication] AND...               9701   \n",
       "2   (2023/01/01:3000/12/31[Date - Publication] AND...               9701   \n",
       "3   (2023/01/01:3000/12/31[Date - Publication] AND...               9701   \n",
       "4   (2023/01/01:3000/12/31[Date - Publication] AND...               9701   \n",
       "..                                                ...                ...   \n",
       "25  (2023/01/01:3000/12/31[Date - Publication] AND...               1886   \n",
       "26  (2023/01/01:3000/12/31[Date - Publication] AND...               1886   \n",
       "27  (2023/01/01:3000/12/31[Date - Publication] AND...               1886   \n",
       "28  (2023/01/01:3000/12/31[Date - Publication] AND...               1886   \n",
       "29  (2023/01/01:3000/12/31[Date - Publication] AND...               1886   \n",
       "\n",
       "                                   all_matching_pmids acquisition_date   \n",
       "0   37256976,37070653,37147285,37723305,36585452,3...       2024-03-21  \\\n",
       "1   37256976,37070653,37147285,37723305,36585452,3...       2024-03-21   \n",
       "2   37256976,37070653,37147285,37723305,36585452,3...       2024-03-21   \n",
       "3   37256976,37070653,37147285,37723305,36585452,3...       2024-03-21   \n",
       "4   37256976,37070653,37147285,37723305,36585452,3...       2024-03-21   \n",
       "..                                                ...              ...   \n",
       "25  36791206,37451272,36749723,37935665,36966152,3...       2024-03-21   \n",
       "26  36791206,37451272,36749723,37935665,36966152,3...       2024-03-21   \n",
       "27  36791206,37451272,36749723,37935665,36966152,3...       2024-03-21   \n",
       "28  36791206,37451272,36749723,37935665,36966152,3...       2024-03-21   \n",
       "29  36791206,37451272,36749723,37935665,36966152,3...       2024-03-21   \n",
       "\n",
       "          disease  \n",
       "0   breast+cancer  \n",
       "1   breast+cancer  \n",
       "2   breast+cancer  \n",
       "3   breast+cancer  \n",
       "4   breast+cancer  \n",
       "..            ...  \n",
       "25   glioblastoma  \n",
       "26   glioblastoma  \n",
       "27   glioblastoma  \n",
       "28   glioblastoma  \n",
       "29   glioblastoma  \n",
       "\n",
       "[87 rows x 14 columns]"
      ]
     },
     "execution_count": 15,
     "metadata": {},
     "output_type": "execute_result"
    }
   ],
   "source": [
    "final_df"
   ]
  },
  {
   "cell_type": "markdown",
   "id": "91e59ff2",
   "metadata": {},
   "source": [
    "**Final df with the PubMed data showing the information extracted and their dtypes.**"
   ]
  },
  {
   "cell_type": "code",
   "execution_count": 16,
   "id": "1c65f0ee",
   "metadata": {},
   "outputs": [
    {
     "data": {
      "text/plain": [
       "pmid                       object\n",
       "publication_date           object\n",
       "publication_type           object\n",
       "article_title              object\n",
       "abstract                   object\n",
       "keywords                   object\n",
       "journal                    object\n",
       "num_abstracts_retrieved     int64\n",
       "num_abstracts_requested     int64\n",
       "query_string               object\n",
       "num_total_matches           int64\n",
       "all_matching_pmids         object\n",
       "acquisition_date           object\n",
       "disease                    object\n",
       "dtype: object"
      ]
     },
     "execution_count": 16,
     "metadata": {},
     "output_type": "execute_result"
    }
   ],
   "source": [
    "final_df.dtypes"
   ]
  },
  {
   "cell_type": "markdown",
   "id": "53e6d697",
   "metadata": {},
   "source": [
    "**Save the df as a CSV.**"
   ]
  },
  {
   "cell_type": "code",
   "execution_count": 43,
   "id": "126c8f7a",
   "metadata": {},
   "outputs": [],
   "source": [
    "final_df.to_csv(pubmed_output,index=False)"
   ]
  },
  {
   "cell_type": "markdown",
   "id": "e539de9f",
   "metadata": {},
   "source": [
    "# 2. Prepare prompt text"
   ]
  },
  {
   "cell_type": "markdown",
   "id": "3881acd0",
   "metadata": {},
   "source": [
    "**Following system text and user instructions will be the basis of the prompt text going inside the messages list when calling the openai API. These are first saved into json files.\n",
    "The abstract text will have to be appended to the user text, beneath 'TASKS'.**"
   ]
  },
  {
   "cell_type": "code",
   "execution_count": 20,
   "id": "2844d380",
   "metadata": {},
   "outputs": [
    {
     "data": {
      "text/plain": [
       "{'role': 'system',\n",
       " 'content': 'You are a meticulous data scientist working on named entity recognition and building out a drug-target dataset from biomedical text. Only consider the text given to you.'}"
      ]
     },
     "execution_count": 20,
     "metadata": {},
     "output_type": "execute_result"
    }
   ],
   "source": [
    "system_data = {\"role\":\"system\",\"content\": \"You are a meticulous data scientist working on named entity recognition and building out a drug-target dataset from biomedical text. Only consider the text given to you.\"}\n",
    "system_data"
   ]
  },
  {
   "cell_type": "code",
   "execution_count": 21,
   "id": "d53b5dca",
   "metadata": {},
   "outputs": [],
   "source": [
    "user_data = {\"role\":\"user\",\"content\":\"\"\"Look at the examples delimited by ### and the rules delimited by ***.\n",
    "*** RULES\n",
    "For each of the text shown under TASKS, do the following:\n",
    "1. Identify which drugs have been tested and create a set for each. \n",
    "2. Return multiple sets if more than drug is present in the text.\n",
    "For each drug:\n",
    "3. Get direct target: Use the following logic: if the text clearly and directly mentions that the drug targets a gene and has also defined the type of interaction\n",
    "4. Get interaction type between the drug and direct target: if explicitly and clearly mentioned, then get the drug-direct target relationship type. What does the drug do to the direct target? inhibitor, activator, etc.?\n",
    "5. Get groups tested: specify which type of genes was the drug tested on, eg. if drug was tested on samples showing high expression of certain gene.\n",
    "6. Collect all disease names for which the drug has been tested into 1 list.\n",
    "7. Extract any specific ClinicalTrials.gov identifier or number.\n",
    "8. For each drug, construct a set consisting of (drug name, direct target, drug-direct target interaction, tested or effective group, ClinicalTrials.gov number, all diseases that the drug is tested in)\n",
    "9. Any empty values should be indicated by null and not an empty string.\n",
    "10. Double check your logic and see if the data you have collected is actually reflected in the text. If not, make revisions.\n",
    "11. Both, direct target, and drug-direct target interaction fields should have been filled or both should be null. Only one of these fields cannot be null.\n",
    "12. Assemble all sets and produce 1 final JSON output in a single line without any whitespaces.\n",
    "***\n",
    "### EXAMPLES\n",
    "PMID23:LKB1/STK11 is a serine/threonine kinase that plays a major role in controlling cell metabolism, resulting in potential therapeutic vulnerabilities in LKB1-mutant cancers. Here, we identify the NAD + degrading ectoenzyme, CD38, as a new target in LKB1-mutant NSCLC. Metabolic profiling of genetically engineered mouse models (GEMMs) revealed that LKB1 mutant lung cancers have a striking increase in ADP-ribose, a breakdown product of the critical redox co-factor, NAD + . Surprisingly, compared with other genetic subsets, murine and human LKB1-mutant NSCLC show marked overexpression of the NAD+-catabolizing ectoenzyme, CD38 on the surface of tumor cells. Loss of LKB1 or inactivation of Salt-Inducible Kinases (SIKs)-key downstream effectors of LKB1- induces CD38 transcription induction via a CREB binding site in the CD38 promoter. Treatment with the FDA-approved anti-CD38 antibody, daratumumab, inhibited growth of LKB1-mutant NSCLC xenografts. Together, these results reveal CD38 as a promising therapeutic target in patients with LKB1 mutant lung cancer.\n",
    "Output:{\"PMID23\": [{\"drug name\": \"daratumumab\",\"target\": [{\"direct target\": \"CD38\",\"drug-direct target interaction\": \"anti-CD38 monoclonal antibody\"},],\"tested or effective group\": [\"LKB-1/STK-11 mutant NSCLC\"],\"drug tested in following diseases\": [\"lung cancer\", \"NSCLC\"],\"ClinicalTrials.gov ID\": []}]}\n",
    "###\n",
    "TASKS:\n",
    "Use the RULES and EXAMPLES and create a similar outputs for the following text delimited by ID:\n",
    "\"\"\"}"
   ]
  },
  {
   "cell_type": "markdown",
   "id": "366c0834",
   "metadata": {},
   "source": [
    "**Save these in json files.**"
   ]
  },
  {
   "cell_type": "code",
   "execution_count": 22,
   "id": "b861c076",
   "metadata": {},
   "outputs": [],
   "source": [
    "with open(system_path, \"w\") as json_file:\n",
    "    json.dump(system_data, json_file)"
   ]
  },
  {
   "cell_type": "code",
   "execution_count": 23,
   "id": "a1e209f5",
   "metadata": {},
   "outputs": [],
   "source": [
    "with open(user_path, \"w\") as json_file:\n",
    "    json.dump(user_data, json_file)"
   ]
  },
  {
   "cell_type": "markdown",
   "id": "8af1e314",
   "metadata": {},
   "source": [
    "# 3. Run a pipeline to process 30 randomly selected abstracts"
   ]
  },
  {
   "cell_type": "markdown",
   "id": "83e44684",
   "metadata": {},
   "source": [
    "**Get the df containing pubmed data.**"
   ]
  },
  {
   "cell_type": "code",
   "execution_count": 24,
   "id": "2ed4a5fa",
   "metadata": {},
   "outputs": [],
   "source": [
    "df = pd.read_csv(pubmed_output,dtype={'pmid':'str'})"
   ]
  },
  {
   "cell_type": "code",
   "execution_count": 25,
   "id": "fc4b5ce4",
   "metadata": {},
   "outputs": [
    {
     "name": "stdout",
     "output_type": "stream",
     "text": [
      "Function select_pubmed_data complete.\n"
     ]
    }
   ],
   "source": [
    "df1 = openai_api.select_pubmed_data(data_df=df,\n",
    "                                    cols=['pmid','abstract'],\n",
    "                                    num_rows=30,\n",
    "                                    random_state=1)"
   ]
  },
  {
   "cell_type": "markdown",
   "id": "65911df3",
   "metadata": {},
   "source": [
    "**ADD NOTE.**"
   ]
  },
  {
   "cell_type": "code",
   "execution_count": 26,
   "id": "35e674e2",
   "metadata": {
    "scrolled": false
   },
   "outputs": [
    {
     "data": {
      "text/html": [
       "<div>\n",
       "<style scoped>\n",
       "    .dataframe tbody tr th:only-of-type {\n",
       "        vertical-align: middle;\n",
       "    }\n",
       "\n",
       "    .dataframe tbody tr th {\n",
       "        vertical-align: top;\n",
       "    }\n",
       "\n",
       "    .dataframe thead th {\n",
       "        text-align: right;\n",
       "    }\n",
       "</style>\n",
       "<table border=\"1\" class=\"dataframe\">\n",
       "  <thead>\n",
       "    <tr style=\"text-align: right;\">\n",
       "      <th></th>\n",
       "      <th>pmid</th>\n",
       "      <th>abstract</th>\n",
       "    </tr>\n",
       "  </thead>\n",
       "  <tbody>\n",
       "    <tr>\n",
       "      <th>10</th>\n",
       "      <td>36841821</td>\n",
       "      <td>Pellino-1 (PELI1) is an E3 ubiquitin ligase ac...</td>\n",
       "    </tr>\n",
       "    <tr>\n",
       "      <th>69</th>\n",
       "      <td>36399643</td>\n",
       "      <td>Durable glioblastoma multiforme (GBM) manageme...</td>\n",
       "    </tr>\n",
       "    <tr>\n",
       "      <th>61</th>\n",
       "      <td>36966152</td>\n",
       "      <td>Glioblastoma multiforme (GBM) is the most comm...</td>\n",
       "    </tr>\n",
       "    <tr>\n",
       "      <th>34</th>\n",
       "      <td>37321064</td>\n",
       "      <td>Drug resistance is a major challenge in cancer...</td>\n",
       "    </tr>\n",
       "    <tr>\n",
       "      <th>86</th>\n",
       "      <td>37147437</td>\n",
       "      <td>Mounting evidence is identifying human cytomeg...</td>\n",
       "    </tr>\n",
       "  </tbody>\n",
       "</table>\n",
       "</div>"
      ],
      "text/plain": [
       "        pmid                                           abstract\n",
       "10  36841821  Pellino-1 (PELI1) is an E3 ubiquitin ligase ac...\n",
       "69  36399643  Durable glioblastoma multiforme (GBM) manageme...\n",
       "61  36966152  Glioblastoma multiforme (GBM) is the most comm...\n",
       "34  37321064  Drug resistance is a major challenge in cancer...\n",
       "86  37147437  Mounting evidence is identifying human cytomeg..."
      ]
     },
     "execution_count": 26,
     "metadata": {},
     "output_type": "execute_result"
    }
   ],
   "source": [
    "df1.head()"
   ]
  },
  {
   "cell_type": "code",
   "execution_count": 27,
   "id": "435ead0c",
   "metadata": {},
   "outputs": [
    {
     "data": {
      "text/plain": [
       "30"
      ]
     },
     "execution_count": 27,
     "metadata": {},
     "output_type": "execute_result"
    }
   ],
   "source": [
    "len(df1)"
   ]
  },
  {
   "cell_type": "code",
   "execution_count": 28,
   "id": "3b36fd73",
   "metadata": {},
   "outputs": [
    {
     "data": {
      "text/plain": [
       "30"
      ]
     },
     "execution_count": 28,
     "metadata": {},
     "output_type": "execute_result"
    }
   ],
   "source": [
    "df1['pmid'].nunique()"
   ]
  },
  {
   "cell_type": "code",
   "execution_count": 29,
   "id": "2a9ccd36",
   "metadata": {},
   "outputs": [
    {
     "data": {
      "text/plain": [
       "dtype('O')"
      ]
     },
     "execution_count": 29,
     "metadata": {},
     "output_type": "execute_result"
    }
   ],
   "source": [
    "df1['pmid'].dtype"
   ]
  },
  {
   "cell_type": "markdown",
   "id": "6809136b",
   "metadata": {},
   "source": [
    "**ADD NOTE.**"
   ]
  },
  {
   "cell_type": "code",
   "execution_count": 32,
   "id": "831f66ac",
   "metadata": {
    "scrolled": false
   },
   "outputs": [
    {
     "name": "stdout",
     "output_type": "stream",
     "text": [
      "\tBase prompt messages loaded.\n",
      "\tNecessary columns present in the input df.\n",
      "Function setup_client complete.\n",
      "\tClient setup complete.\n",
      "\tProcessing abstracts through the API.\n",
      "Function process_pubmed_data complete in 0:03:21.925227. This run costed $0.41.\n"
     ]
    }
   ],
   "source": [
    "all_completions = openai_api.process_pubmed_data(system_path=system_path,\n",
    "                                                 user_path=user_path,\n",
    "                                                 data_df1=df1,\n",
    "                                                 openai_key_path=openai_key_path,\n",
    "                                                 seed=1,\n",
    "                                                 temperature=0.0)"
   ]
  },
  {
   "cell_type": "markdown",
   "id": "b7096c45",
   "metadata": {},
   "source": [
    "**Save the completions dictionary as a JSON.**"
   ]
  },
  {
   "cell_type": "code",
   "execution_count": 41,
   "id": "27954afa",
   "metadata": {},
   "outputs": [],
   "source": [
    "with open(completions_path, \"w\") as json_file:\n",
    "    json.dump(all_completions, json_file)"
   ]
  },
  {
   "cell_type": "markdown",
   "id": "2ff7d739",
   "metadata": {},
   "source": [
    "**ADD NOTE**"
   ]
  },
  {
   "cell_type": "code",
   "execution_count": 33,
   "id": "5d6c46d7",
   "metadata": {},
   "outputs": [
    {
     "name": "stdout",
     "output_type": "stream",
     "text": [
      "Function get_df_from_completions complete.\n"
     ]
    }
   ],
   "source": [
    "ner_df = openai_api.get_df_from_completions(all_completions=all_completions)"
   ]
  },
  {
   "cell_type": "code",
   "execution_count": 39,
   "id": "d754918a",
   "metadata": {},
   "outputs": [
    {
     "data": {
      "text/html": [
       "<div>\n",
       "<style scoped>\n",
       "    .dataframe tbody tr th:only-of-type {\n",
       "        vertical-align: middle;\n",
       "    }\n",
       "\n",
       "    .dataframe tbody tr th {\n",
       "        vertical-align: top;\n",
       "    }\n",
       "\n",
       "    .dataframe thead th {\n",
       "        text-align: right;\n",
       "    }\n",
       "</style>\n",
       "<table border=\"1\" class=\"dataframe\">\n",
       "  <thead>\n",
       "    <tr style=\"text-align: right;\">\n",
       "      <th></th>\n",
       "      <th>completion_id</th>\n",
       "      <th>completion_tokens</th>\n",
       "      <th>prompt_tokens</th>\n",
       "      <th>total_tokens</th>\n",
       "      <th>drug_name</th>\n",
       "      <th>tested_or_effective_group</th>\n",
       "      <th>drug_tested_in_diseases</th>\n",
       "      <th>clinical_trials_id</th>\n",
       "      <th>direct_target</th>\n",
       "      <th>drug-direct_target_interaction</th>\n",
       "      <th>pmid</th>\n",
       "    </tr>\n",
       "  </thead>\n",
       "  <tbody>\n",
       "    <tr>\n",
       "      <th>0</th>\n",
       "      <td>chatcmpl-95Fz5ygwhHbh6fS34y9rl6UCQzw7V</td>\n",
       "      <td>61.0</td>\n",
       "      <td>1073.0</td>\n",
       "      <td>1134.0</td>\n",
       "      <td>S62</td>\n",
       "      <td>None</td>\n",
       "      <td>[breast cancer]</td>\n",
       "      <td>None</td>\n",
       "      <td>PELI1/EGFR</td>\n",
       "      <td>disruptor</td>\n",
       "      <td>36841821</td>\n",
       "    </tr>\n",
       "    <tr>\n",
       "      <th>1</th>\n",
       "      <td>chatcmpl-95FzB5d0oHjWiZz8uYJofalUBnFuB</td>\n",
       "      <td>99.0</td>\n",
       "      <td>1131.0</td>\n",
       "      <td>1230.0</td>\n",
       "      <td>regorafenib</td>\n",
       "      <td>None</td>\n",
       "      <td>[GBM]</td>\n",
       "      <td>None</td>\n",
       "      <td>autophagosome-lysosome fusion</td>\n",
       "      <td>inhibitor</td>\n",
       "      <td>36399643</td>\n",
       "    </tr>\n",
       "    <tr>\n",
       "      <th>2</th>\n",
       "      <td>chatcmpl-95FzLUxdFBE1KNul7adDXyaq1Ds0Q</td>\n",
       "      <td>70.0</td>\n",
       "      <td>1086.0</td>\n",
       "      <td>1156.0</td>\n",
       "      <td>fatostatin</td>\n",
       "      <td>[null]</td>\n",
       "      <td>[glioblastoma, GBM]</td>\n",
       "      <td>[]</td>\n",
       "      <td>AKT/mTORC1/GPX4 signaling pathway</td>\n",
       "      <td>inhibitor</td>\n",
       "      <td>36966152</td>\n",
       "    </tr>\n",
       "    <tr>\n",
       "      <th>3</th>\n",
       "      <td>chatcmpl-95FzTMkaW3MDTzy0nvTisQfDIP9bc</td>\n",
       "      <td>78.0</td>\n",
       "      <td>1171.0</td>\n",
       "      <td>1249.0</td>\n",
       "      <td>MAM</td>\n",
       "      <td>[cisplatin-resistant A549, AZD9291-resistant H...</td>\n",
       "      <td>[non-small cell lung cancer, NSCLC]</td>\n",
       "      <td>None</td>\n",
       "      <td>NQO1</td>\n",
       "      <td>activator</td>\n",
       "      <td>37321064</td>\n",
       "    </tr>\n",
       "    <tr>\n",
       "      <th>4</th>\n",
       "      <td>chatcmpl-95FzZlGTV1CFR13ye9QStxhproc0a</td>\n",
       "      <td>130.0</td>\n",
       "      <td>1111.0</td>\n",
       "      <td>1241.0</td>\n",
       "      <td>ganciclovir</td>\n",
       "      <td>[HCMV-induced glioblastoma]</td>\n",
       "      <td>[glioblastoma]</td>\n",
       "      <td>None</td>\n",
       "      <td>EZH2</td>\n",
       "      <td>inhibitor</td>\n",
       "      <td>37147437</td>\n",
       "    </tr>\n",
       "  </tbody>\n",
       "</table>\n",
       "</div>"
      ],
      "text/plain": [
       "                            completion_id  completion_tokens  prompt_tokens   \n",
       "0  chatcmpl-95Fz5ygwhHbh6fS34y9rl6UCQzw7V               61.0         1073.0  \\\n",
       "1  chatcmpl-95FzB5d0oHjWiZz8uYJofalUBnFuB               99.0         1131.0   \n",
       "2  chatcmpl-95FzLUxdFBE1KNul7adDXyaq1Ds0Q               70.0         1086.0   \n",
       "3  chatcmpl-95FzTMkaW3MDTzy0nvTisQfDIP9bc               78.0         1171.0   \n",
       "4  chatcmpl-95FzZlGTV1CFR13ye9QStxhproc0a              130.0         1111.0   \n",
       "\n",
       "   total_tokens    drug_name   \n",
       "0        1134.0          S62  \\\n",
       "1        1230.0  regorafenib   \n",
       "2        1156.0   fatostatin   \n",
       "3        1249.0          MAM   \n",
       "4        1241.0  ganciclovir   \n",
       "\n",
       "                           tested_or_effective_group   \n",
       "0                                               None  \\\n",
       "1                                               None   \n",
       "2                                             [null]   \n",
       "3  [cisplatin-resistant A549, AZD9291-resistant H...   \n",
       "4                        [HCMV-induced glioblastoma]   \n",
       "\n",
       "               drug_tested_in_diseases clinical_trials_id   \n",
       "0                      [breast cancer]               None  \\\n",
       "1                                [GBM]               None   \n",
       "2                  [glioblastoma, GBM]                 []   \n",
       "3  [non-small cell lung cancer, NSCLC]               None   \n",
       "4                       [glioblastoma]               None   \n",
       "\n",
       "                       direct_target drug-direct_target_interaction      pmid  \n",
       "0                         PELI1/EGFR                      disruptor  36841821  \n",
       "1      autophagosome-lysosome fusion                      inhibitor  36399643  \n",
       "2  AKT/mTORC1/GPX4 signaling pathway                      inhibitor  36966152  \n",
       "3                               NQO1                      activator  37321064  \n",
       "4                               EZH2                      inhibitor  37147437  "
      ]
     },
     "execution_count": 39,
     "metadata": {},
     "output_type": "execute_result"
    }
   ],
   "source": [
    "ner_df.head()"
   ]
  },
  {
   "cell_type": "markdown",
   "id": "fb53e4e2",
   "metadata": {},
   "source": [
    "**Save the results from the API as a CSV.**"
   ]
  },
  {
   "cell_type": "code",
   "execution_count": 45,
   "id": "3cea72ef",
   "metadata": {},
   "outputs": [],
   "source": [
    "ner_df.to_csv(ner_path,index=False)"
   ]
  },
  {
   "cell_type": "markdown",
   "id": "a857f444",
   "metadata": {},
   "source": [
    "**Write the PMIDs to Google Sheets so that manually curated data can be added in Sheets.**"
   ]
  },
  {
   "cell_type": "code",
   "execution_count": 62,
   "id": "2449ac2f",
   "metadata": {},
   "outputs": [],
   "source": [
    "utils.write_data_to_sheets(df=ner_df,\n",
    "                           credentials_path=credentials_path,\n",
    "                           sheets_filename='pubmed_manual_curated',\n",
    "                           sheets_sheetname='run_1',\n",
    "                           columns_to_write=['pmid'])"
   ]
  },
  {
   "cell_type": "code",
   "execution_count": null,
   "id": "6e88ab3a",
   "metadata": {},
   "outputs": [],
   "source": []
  }
 ],
 "metadata": {
  "kernelspec": {
   "display_name": "Python 3 (ipykernel)",
   "language": "python",
   "name": "python3"
  },
  "language_info": {
   "codemirror_mode": {
    "name": "ipython",
    "version": 3
   },
   "file_extension": ".py",
   "mimetype": "text/x-python",
   "name": "python",
   "nbconvert_exporter": "python",
   "pygments_lexer": "ipython3",
   "version": "3.9.12"
  }
 },
 "nbformat": 4,
 "nbformat_minor": 5
}
