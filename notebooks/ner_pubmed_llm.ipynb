{
 "cells": [
  {
   "cell_type": "markdown",
   "id": "fd26f790",
   "metadata": {},
   "source": [
    "# Overview"
   ]
  },
  {
   "cell_type": "code",
   "execution_count": null,
   "id": "5264c049",
   "metadata": {},
   "outputs": [],
   "source": []
  },
  {
   "cell_type": "markdown",
   "id": "46e3eece",
   "metadata": {},
   "source": [
    "# Table of contents"
   ]
  },
  {
   "cell_type": "markdown",
   "id": "016fff3b",
   "metadata": {},
   "source": [
    "* [Imports](#imports)"
   ]
  },
  {
   "cell_type": "markdown",
   "id": "6b095348",
   "metadata": {},
   "source": [
    "# Imports<a id=\"imports\"></a>"
   ]
  },
  {
   "cell_type": "code",
   "execution_count": 27,
   "id": "6a61863d",
   "metadata": {},
   "outputs": [
    {
     "name": "stdout",
     "output_type": "stream",
     "text": [
      "The autoreload extension is already loaded. To reload it, use:\n",
      "  %reload_ext autoreload\n"
     ]
    }
   ],
   "source": [
    "%load_ext autoreload\n",
    "%autoreload 2"
   ]
  },
  {
   "cell_type": "code",
   "execution_count": 28,
   "id": "72300313",
   "metadata": {},
   "outputs": [],
   "source": [
    "import pandas as pd\n",
    "from pathlib import Path\n",
    "import sys"
   ]
  },
  {
   "cell_type": "markdown",
   "id": "30643776",
   "metadata": {},
   "source": [
    "**Import the PubMed module.**"
   ]
  },
  {
   "cell_type": "code",
   "execution_count": 29,
   "id": "84af3bfc",
   "metadata": {},
   "outputs": [],
   "source": [
    "cwd = Path.cwd()"
   ]
  },
  {
   "cell_type": "code",
   "execution_count": 30,
   "id": "6647a3d0",
   "metadata": {},
   "outputs": [],
   "source": [
    "module_dir = cwd.parent / 'scripts'"
   ]
  },
  {
   "cell_type": "code",
   "execution_count": 31,
   "id": "b69f55c9",
   "metadata": {},
   "outputs": [],
   "source": [
    "sys.path.append(str(module_dir))"
   ]
  },
  {
   "cell_type": "code",
   "execution_count": 32,
   "id": "ba1d0ea1",
   "metadata": {},
   "outputs": [],
   "source": [
    "import pubmed"
   ]
  },
  {
   "cell_type": "markdown",
   "id": "4e72c592",
   "metadata": {},
   "source": [
    "# 1. Get literature from PubMed"
   ]
  },
  {
   "cell_type": "markdown",
   "id": "62e0ac45",
   "metadata": {},
   "source": [
    "**Scope**\n",
    "\n",
    "We'll focus on getting 50 articles each for breast and lung cancers, from 2023-present, and remove articles of the type Review or Systematic Review."
   ]
  },
  {
   "cell_type": "code",
   "execution_count": 33,
   "id": "ff645f23",
   "metadata": {},
   "outputs": [],
   "source": [
    "bc_query = '''(((\"2023/01/01\"[Date - Publication] : \"3000\"[Date - Publication])) \n",
    "NOT (Review[Publication Type] OR Scientific Integrity Review OR Systematic Review[Publication Type])) \n",
    "AND (breast cancer[Title/Abstract])'''\n",
    "\n",
    "lc_query = '''(((\"2023/01/01\"[Date - Publication] : \"3000\"[Date - Publication])) \n",
    "NOT (Review[Publication Type] OR Scientific Integrity Review OR Systematic Review[Publication Type])) \n",
    "AND (lung cancer[Title/Abstract])'''\n"
   ]
  },
  {
   "cell_type": "markdown",
   "id": "ad214665",
   "metadata": {},
   "source": [
    "**Get matching PubMed IDs (PMIDs) for breast and lung cancer.**"
   ]
  },
  {
   "cell_type": "code",
   "execution_count": 60,
   "id": "8d6061c1",
   "metadata": {},
   "outputs": [],
   "source": [
    "base_url = 'https://eutils.ncbi.nlm.nih.gov/entrez/eutils/'\n",
    "\n",
    "database='pubmed'\n",
    "# query='(breast+cancer[tiab]+OR+breast+carcinoma[tiab])'\n",
    "# query = '2023/01/01:2024/01/01[pdat]'\n",
    "query = '(breast+cancer[tiab]+OR+breast+carcinoma[tiab])+AND+(2023/01/01:3000[pdat])'\n",
    "save_on_server='y'\n",
    "search_format='json'\n",
    "starting_index=0\n",
    "max_records=3\n",
    "\n",
    "search_suffix = (f'esearch.fcgi?db={database}'\n",
    "                     f'&term={query}'\n",
    "                     f'&usehistory={save_on_server}'\n",
    "                     f'&retmode={search_format}'\n",
    "                     f'&retstart={starting_index}'\n",
    "                     f'&retmax={max_records}')\n",
    "\n",
    "# Construct url\n",
    "search_url = base_url + search_suffix"
   ]
  },
  {
   "cell_type": "code",
   "execution_count": 61,
   "id": "327f42bb",
   "metadata": {},
   "outputs": [
    {
     "data": {
      "text/plain": [
       "'https://eutils.ncbi.nlm.nih.gov/entrez/eutils/esearch.fcgi?db=pubmed&term=(breast+cancer[tiab]+OR+breast+carcinoma[tiab])+AND+(2023/01/01:3000[pdat])&usehistory=y&retmode=json&retstart=0&retmax=3'"
      ]
     },
     "execution_count": 61,
     "metadata": {},
     "output_type": "execute_result"
    }
   ],
   "source": [
    "search_url"
   ]
  },
  {
   "cell_type": "code",
   "execution_count": null,
   "id": "d2cb3123",
   "metadata": {},
   "outputs": [],
   "source": []
  },
  {
   "cell_type": "code",
   "execution_count": 43,
   "id": "9c44703c",
   "metadata": {},
   "outputs": [
    {
     "name": "stdout",
     "output_type": "stream",
     "text": [
      "Query string:(((\"2023/01/01\"[Date - Publication] : \"3000\"[Date - Publication])) \n",
      "NOT (Review[Publication Type] OR Scientific Integrity Review OR Systematic Review[Publication Type])) \n",
      "AND (breast cancer[Title/Abstract])\n",
      "The actual total number of records matching the search for is 23691\n",
      "The number of ids retrieved using the esearch utility is 3\n",
      "Function get_pmids complete.\n"
     ]
    }
   ],
   "source": [
    "\n",
    "\n",
    "save_on_server = 'y'\n",
    "search_format = 'json'\n",
    "starting_index = 0\n",
    "max_records = 3\n",
    "\n",
    "bc_output = pubmed.get_pmids(query=bc_query,\n",
    "                             save_on_server=save_on_server,\n",
    "                             search_format=search_format,\n",
    "                             starting_index=starting_index,\n",
    "                             max_records=max_records)\n"
   ]
  },
  {
   "cell_type": "code",
   "execution_count": 44,
   "id": "c4be4154",
   "metadata": {},
   "outputs": [
    {
     "data": {
      "text/plain": [
       "{'header': {'type': 'esearch', 'version': '0.3'},\n",
       " 'esearchresult': {'count': '23691',\n",
       "  'retmax': '3',\n",
       "  'retstart': '0',\n",
       "  'querykey': '1',\n",
       "  'webenv': 'MCID_65e7631010c8237d0e20e7f2',\n",
       "  'idlist': ['38441959', '38441847', '38441769'],\n",
       "  'translationset': [{'from': 'Scientific Integrity Review',\n",
       "    'to': '\"scientific integrity review\"[Publication Type] OR \"scientific integrity review\"[All Fields]'}],\n",
       "  'querytranslation': '(2023/01/01:3000/12/31[Date - Publication] NOT (\"Review\"[Publication Type] OR (\"scientific integrity review\"[Publication Type] OR \"scientific integrity review\"[All Fields]) OR \"systematic review\"[Publication Type])) AND \"breast cancer\"[Title/Abstract]'}}"
      ]
     },
     "execution_count": 44,
     "metadata": {},
     "output_type": "execute_result"
    }
   ],
   "source": [
    "bc_output"
   ]
  },
  {
   "cell_type": "code",
   "execution_count": 45,
   "id": "07980bd3",
   "metadata": {},
   "outputs": [],
   "source": [
    "base_url = 'https://eutils.ncbi.nlm.nih.gov/entrez/eutils/'\n",
    "database = 'pubmed'\n",
    "query_key = bc_output['esearchresult']['querykey']\n",
    "web_env = bc_output['esearchresult']['webenv']\n",
    "content_type = 'abstract'\n",
    "\n",
    "fetchurl_suffix = f'efetch.fcgi?db={database}&query_key={query_key}&WebEnv={web_env}&rettype={content_type}&retmode=xml'\n"
   ]
  },
  {
   "cell_type": "code",
   "execution_count": 46,
   "id": "da660438",
   "metadata": {},
   "outputs": [],
   "source": [
    "import requests"
   ]
  },
  {
   "cell_type": "code",
   "execution_count": 48,
   "id": "98f32744",
   "metadata": {},
   "outputs": [],
   "source": [
    "fetch_url = base_url + fetchurl_suffix\n"
   ]
  },
  {
   "cell_type": "code",
   "execution_count": 49,
   "id": "271f7fa9",
   "metadata": {},
   "outputs": [
    {
     "data": {
      "text/plain": [
       "'https://eutils.ncbi.nlm.nih.gov/entrez/eutils/efetch.fcgi?db=pubmed&query_key=1&WebEnv=MCID_65e7631010c8237d0e20e7f2&rettype=abstract&retmode=xml'"
      ]
     },
     "execution_count": 49,
     "metadata": {},
     "output_type": "execute_result"
    }
   ],
   "source": [
    "fetch_url"
   ]
  },
  {
   "cell_type": "code",
   "execution_count": null,
   "id": "a226c968",
   "metadata": {},
   "outputs": [],
   "source": []
  },
  {
   "cell_type": "code",
   "execution_count": 35,
   "id": "fa7bbb95",
   "metadata": {},
   "outputs": [
    {
     "name": "stdout",
     "output_type": "stream",
     "text": [
      "Query string:(((\"2023/01/01\"[Date - Publication] : \"3000\"[Date - Publication])) \n",
      "NOT (Review[Publication Type] OR Scientific Integrity Review OR Systematic Review[Publication Type])) \n",
      "AND (lung cancer[Title/Abstract])\n",
      "The actual total number of records matching the search for is 16238\n",
      "The number of ids retrieved using the esearch utility is 5\n",
      "Function get_pmids complete.\n"
     ]
    }
   ],
   "source": [
    "lc_output = pubmed.get_pmids(query=lc_query,\n",
    "                             save_on_server=save_on_server,\n",
    "                             search_format=search_format,\n",
    "                             starting_index=starting_index,\n",
    "                             max_records=max_records)\n"
   ]
  },
  {
   "cell_type": "markdown",
   "id": "93b5bc46",
   "metadata": {},
   "source": [
    "**Collect metadata about the search results.**"
   ]
  },
  {
   "cell_type": "code",
   "execution_count": 36,
   "id": "45fd8da1",
   "metadata": {},
   "outputs": [
    {
     "name": "stdout",
     "output_type": "stream",
     "text": [
      "Metadata obtained and saved in a df.\n"
     ]
    }
   ],
   "source": [
    "metadata_df1 = pubmed.query_and_ids(bc_output)"
   ]
  },
  {
   "cell_type": "code",
   "execution_count": 37,
   "id": "7abaf4fb",
   "metadata": {},
   "outputs": [
    {
     "data": {
      "text/html": [
       "<div>\n",
       "<style scoped>\n",
       "    .dataframe tbody tr th:only-of-type {\n",
       "        vertical-align: middle;\n",
       "    }\n",
       "\n",
       "    .dataframe tbody tr th {\n",
       "        vertical-align: top;\n",
       "    }\n",
       "\n",
       "    .dataframe thead th {\n",
       "        text-align: right;\n",
       "    }\n",
       "</style>\n",
       "<table border=\"1\" class=\"dataframe\">\n",
       "  <thead>\n",
       "    <tr style=\"text-align: right;\">\n",
       "      <th></th>\n",
       "      <th>query_string</th>\n",
       "      <th>pmid</th>\n",
       "      <th>num_total_matches</th>\n",
       "      <th>num_retrieved_papers</th>\n",
       "    </tr>\n",
       "  </thead>\n",
       "  <tbody>\n",
       "    <tr>\n",
       "      <th>0</th>\n",
       "      <td>(2023/01/01:3000/12/31[Date - Publication] NOT...</td>\n",
       "      <td>38441959</td>\n",
       "      <td>23691</td>\n",
       "      <td>5</td>\n",
       "    </tr>\n",
       "    <tr>\n",
       "      <th>1</th>\n",
       "      <td>(2023/01/01:3000/12/31[Date - Publication] NOT...</td>\n",
       "      <td>38441847</td>\n",
       "      <td>23691</td>\n",
       "      <td>5</td>\n",
       "    </tr>\n",
       "    <tr>\n",
       "      <th>2</th>\n",
       "      <td>(2023/01/01:3000/12/31[Date - Publication] NOT...</td>\n",
       "      <td>38441769</td>\n",
       "      <td>23691</td>\n",
       "      <td>5</td>\n",
       "    </tr>\n",
       "    <tr>\n",
       "      <th>3</th>\n",
       "      <td>(2023/01/01:3000/12/31[Date - Publication] NOT...</td>\n",
       "      <td>38441716</td>\n",
       "      <td>23691</td>\n",
       "      <td>5</td>\n",
       "    </tr>\n",
       "    <tr>\n",
       "      <th>4</th>\n",
       "      <td>(2023/01/01:3000/12/31[Date - Publication] NOT...</td>\n",
       "      <td>38441572</td>\n",
       "      <td>23691</td>\n",
       "      <td>5</td>\n",
       "    </tr>\n",
       "  </tbody>\n",
       "</table>\n",
       "</div>"
      ],
      "text/plain": [
       "                                        query_string      pmid   \n",
       "0  (2023/01/01:3000/12/31[Date - Publication] NOT...  38441959  \\\n",
       "1  (2023/01/01:3000/12/31[Date - Publication] NOT...  38441847   \n",
       "2  (2023/01/01:3000/12/31[Date - Publication] NOT...  38441769   \n",
       "3  (2023/01/01:3000/12/31[Date - Publication] NOT...  38441716   \n",
       "4  (2023/01/01:3000/12/31[Date - Publication] NOT...  38441572   \n",
       "\n",
       "   num_total_matches  num_retrieved_papers  \n",
       "0              23691                     5  \n",
       "1              23691                     5  \n",
       "2              23691                     5  \n",
       "3              23691                     5  \n",
       "4              23691                     5  "
      ]
     },
     "execution_count": 37,
     "metadata": {},
     "output_type": "execute_result"
    }
   ],
   "source": [
    "metadata_df1.head()"
   ]
  },
  {
   "cell_type": "code",
   "execution_count": 38,
   "id": "630aa08c",
   "metadata": {},
   "outputs": [
    {
     "name": "stdout",
     "output_type": "stream",
     "text": [
      "Metadata obtained and saved in a df.\n"
     ]
    }
   ],
   "source": [
    "metadata_df2 = pubmed.query_and_ids(lc_output)"
   ]
  },
  {
   "cell_type": "markdown",
   "id": "7b9ea4be",
   "metadata": {},
   "source": [
    "**Get title, abstracts, and some other details for all PMIDs in XML format.**"
   ]
  },
  {
   "cell_type": "code",
   "execution_count": 39,
   "id": "b4eb7f14",
   "metadata": {},
   "outputs": [
    {
     "name": "stdout",
     "output_type": "stream",
     "text": [
      "Function get_abstracts complete.\n"
     ]
    }
   ],
   "source": [
    "content_type='abstract'\n",
    "ids_from_server=True                 \n",
    "                  \n",
    "bc_xml = pubmed.get_abstracts(search_output=bc_output,\n",
    "                              content_type=content_type,\n",
    "                              ids_from_server=ids_from_server)"
   ]
  },
  {
   "cell_type": "code",
   "execution_count": 19,
   "id": "eadbec23",
   "metadata": {},
   "outputs": [
    {
     "name": "stdout",
     "output_type": "stream",
     "text": [
      "Function get_abstracts complete.\n"
     ]
    }
   ],
   "source": [
    "content_type='abstract'\n",
    "ids_from_server=True                 \n",
    "                  \n",
    "lc_xml = pubmed.get_abstracts(search_output=lc_output,\n",
    "                              content_type=content_type,\n",
    "                              ids_from_server=ids_from_server)"
   ]
  },
  {
   "cell_type": "markdown",
   "id": "70447aca",
   "metadata": {},
   "source": [
    "Confirm content in the xml strings."
   ]
  },
  {
   "cell_type": "code",
   "execution_count": 41,
   "id": "9c8805df",
   "metadata": {},
   "outputs": [
    {
     "data": {
      "text/plain": [
       "{'header': {'type': 'esearch', 'version': '0.3'},\n",
       " 'esearchresult': {'count': '23691',\n",
       "  'retmax': '5',\n",
       "  'retstart': '0',\n",
       "  'querykey': '1',\n",
       "  'webenv': 'MCID_65e76236b21fee512418163d',\n",
       "  'idlist': ['38441959', '38441847', '38441769', '38441716', '38441572'],\n",
       "  'translationset': [{'from': 'Scientific Integrity Review',\n",
       "    'to': '\"scientific integrity review\"[Publication Type] OR \"scientific integrity review\"[All Fields]'}],\n",
       "  'querytranslation': '(2023/01/01:3000/12/31[Date - Publication] NOT (\"Review\"[Publication Type] OR (\"scientific integrity review\"[Publication Type] OR \"scientific integrity review\"[All Fields]) OR \"systematic review\"[Publication Type])) AND \"breast cancer\"[Title/Abstract]'}}"
      ]
     },
     "execution_count": 41,
     "metadata": {},
     "output_type": "execute_result"
    }
   ],
   "source": [
    "bc_output"
   ]
  },
  {
   "cell_type": "code",
   "execution_count": 40,
   "id": "2d836ae9",
   "metadata": {},
   "outputs": [
    {
     "data": {
      "text/plain": [
       "193483738"
      ]
     },
     "execution_count": 40,
     "metadata": {},
     "output_type": "execute_result"
    }
   ],
   "source": [
    "len(bc_xml)"
   ]
  },
  {
   "cell_type": "code",
   "execution_count": 21,
   "id": "7ba1ee9f",
   "metadata": {},
   "outputs": [
    {
     "data": {
      "text/plain": [
       "184297189"
      ]
     },
     "execution_count": 21,
     "metadata": {},
     "output_type": "execute_result"
    }
   ],
   "source": [
    "len(lc_xml)"
   ]
  },
  {
   "cell_type": "markdown",
   "id": "5d0b1232",
   "metadata": {},
   "source": [
    "**Extract data from the XML into a df.**"
   ]
  },
  {
   "cell_type": "code",
   "execution_count": 22,
   "id": "9ee6ea09",
   "metadata": {},
   "outputs": [
    {
     "name": "stdout",
     "output_type": "stream",
     "text": [
      "Performing basic cleanup.\n",
      "&#xa0 left: 0\n",
      "&#x3ba left: 0\n",
      "&# left: 44\n",
      "Iterating through each article and collecting information.\n"
     ]
    },
    {
     "ename": "TypeError",
     "evalue": "can only concatenate str (not \"NoneType\") to str",
     "output_type": "error",
     "traceback": [
      "\u001b[0;31m---------------------------------------------------------------------------\u001b[0m",
      "\u001b[0;31mTypeError\u001b[0m                                 Traceback (most recent call last)",
      "\u001b[0;32m/var/folders/dk/wfg559q158x290pwcj2w20dc0000gp/T/ipykernel_52570/1170846156.py\u001b[0m in \u001b[0;36m<module>\u001b[0;34m\u001b[0m\n\u001b[0;32m----> 1\u001b[0;31m \u001b[0mbc_df\u001b[0m \u001b[0;34m=\u001b[0m \u001b[0mpubmed\u001b[0m\u001b[0;34m.\u001b[0m\u001b[0mget_data_from_xml\u001b[0m\u001b[0;34m(\u001b[0m\u001b[0mbc_xml\u001b[0m\u001b[0;34m)\u001b[0m\u001b[0;34m\u001b[0m\u001b[0;34m\u001b[0m\u001b[0m\n\u001b[0m",
      "\u001b[0;32m~/Library/CloudStorage/GoogleDrive-muktirparikh@gmail.com/My Drive/learning_courses/mparikh20_github/gen_ai_gh/scripts/pubmed.py\u001b[0m in \u001b[0;36mget_data_from_xml\u001b[0;34m(pmid_data)\u001b[0m\n\u001b[1;32m    212\u001b[0m \u001b[0;34m\u001b[0m\u001b[0m\n\u001b[1;32m    213\u001b[0m         \u001b[0;32mfor\u001b[0m \u001b[0mtitle\u001b[0m \u001b[0;32min\u001b[0m \u001b[0mchild\u001b[0m\u001b[0;34m.\u001b[0m\u001b[0miter\u001b[0m\u001b[0;34m(\u001b[0m\u001b[0;34m'ArticleTitle'\u001b[0m\u001b[0;34m)\u001b[0m\u001b[0;34m:\u001b[0m\u001b[0;34m\u001b[0m\u001b[0;34m\u001b[0m\u001b[0m\n\u001b[0;32m--> 214\u001b[0;31m             \u001b[0mtitle_val\u001b[0m \u001b[0;34m+=\u001b[0m \u001b[0mtitle\u001b[0m\u001b[0;34m.\u001b[0m\u001b[0mtext\u001b[0m\u001b[0;34m\u001b[0m\u001b[0;34m\u001b[0m\u001b[0m\n\u001b[0m\u001b[1;32m    215\u001b[0m \u001b[0;34m\u001b[0m\u001b[0m\n\u001b[1;32m    216\u001b[0m         \u001b[0;32mfor\u001b[0m \u001b[0mabstract\u001b[0m \u001b[0;32min\u001b[0m \u001b[0mchild\u001b[0m\u001b[0;34m.\u001b[0m\u001b[0miter\u001b[0m\u001b[0;34m(\u001b[0m\u001b[0;34m'AbstractText'\u001b[0m\u001b[0;34m)\u001b[0m\u001b[0;34m:\u001b[0m\u001b[0;34m\u001b[0m\u001b[0;34m\u001b[0m\u001b[0m\n",
      "\u001b[0;31mTypeError\u001b[0m: can only concatenate str (not \"NoneType\") to str"
     ]
    }
   ],
   "source": [
    "bc_df = pubmed.get_data_from_xml(bc_xml)"
   ]
  },
  {
   "cell_type": "code",
   "execution_count": 23,
   "id": "7ac1cd09",
   "metadata": {},
   "outputs": [],
   "source": []
  },
  {
   "cell_type": "code",
   "execution_count": 24,
   "id": "69866e36",
   "metadata": {},
   "outputs": [
    {
     "ename": "TypeError",
     "evalue": "unsupported operand type(s) for +: 'NoneType' and 'str'",
     "output_type": "error",
     "traceback": [
      "\u001b[0;31m---------------------------------------------------------------------------\u001b[0m",
      "\u001b[0;31mTypeError\u001b[0m                                 Traceback (most recent call last)",
      "\u001b[0;32m/var/folders/dk/wfg559q158x290pwcj2w20dc0000gp/T/ipykernel_52570/2156127002.py\u001b[0m in \u001b[0;36m<module>\u001b[0;34m\u001b[0m\n\u001b[0;32m----> 1\u001b[0;31m \u001b[0ma\u001b[0m \u001b[0;34m+\u001b[0m\u001b[0mb\u001b[0m\u001b[0;34m\u001b[0m\u001b[0;34m\u001b[0m\u001b[0m\n\u001b[0m",
      "\u001b[0;31mTypeError\u001b[0m: unsupported operand type(s) for +: 'NoneType' and 'str'"
     ]
    }
   ],
   "source": []
  },
  {
   "cell_type": "code",
   "execution_count": null,
   "id": "8032f4ba",
   "metadata": {},
   "outputs": [],
   "source": []
  }
 ],
 "metadata": {
  "kernelspec": {
   "display_name": "Python 3 (ipykernel)",
   "language": "python",
   "name": "python3"
  },
  "language_info": {
   "codemirror_mode": {
    "name": "ipython",
    "version": 3
   },
   "file_extension": ".py",
   "mimetype": "text/x-python",
   "name": "python",
   "nbconvert_exporter": "python",
   "pygments_lexer": "ipython3",
   "version": "3.9.12"
  }
 },
 "nbformat": 4,
 "nbformat_minor": 5
}
