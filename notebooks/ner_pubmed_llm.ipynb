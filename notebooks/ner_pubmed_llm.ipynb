{
 "cells": [
  {
   "cell_type": "markdown",
   "id": "fd26f790",
   "metadata": {},
   "source": [
    "# Overview"
   ]
  },
  {
   "cell_type": "code",
   "execution_count": null,
   "id": "5264c049",
   "metadata": {},
   "outputs": [],
   "source": []
  },
  {
   "cell_type": "markdown",
   "id": "46e3eece",
   "metadata": {},
   "source": [
    "# Table of contents"
   ]
  },
  {
   "cell_type": "markdown",
   "id": "016fff3b",
   "metadata": {},
   "source": [
    "* [Imports](#imports)\n",
    "* [Paths](#paths)\n",
    "* [1.Get literature from PubMed](#pubmed)"
   ]
  },
  {
   "cell_type": "markdown",
   "id": "6b095348",
   "metadata": {},
   "source": [
    "# Imports<a id=\"imports\"></a>"
   ]
  },
  {
   "cell_type": "code",
   "execution_count": 161,
   "id": "6a61863d",
   "metadata": {},
   "outputs": [
    {
     "name": "stdout",
     "output_type": "stream",
     "text": [
      "The autoreload extension is already loaded. To reload it, use:\n",
      "  %reload_ext autoreload\n"
     ]
    }
   ],
   "source": [
    "%load_ext autoreload\n",
    "%autoreload 2"
   ]
  },
  {
   "cell_type": "code",
   "execution_count": 97,
   "id": "72300313",
   "metadata": {},
   "outputs": [],
   "source": [
    "import json\n",
    "import pandas as pd\n",
    "from pathlib import Path\n",
    "import sys\n",
    "import tiktoken"
   ]
  },
  {
   "cell_type": "markdown",
   "id": "30643776",
   "metadata": {},
   "source": [
    "**Import the PubMed module.**"
   ]
  },
  {
   "cell_type": "code",
   "execution_count": 162,
   "id": "84af3bfc",
   "metadata": {},
   "outputs": [],
   "source": [
    "cwd = Path.cwd()"
   ]
  },
  {
   "cell_type": "code",
   "execution_count": 163,
   "id": "6647a3d0",
   "metadata": {},
   "outputs": [],
   "source": [
    "module_dir = cwd.parent / 'scripts'"
   ]
  },
  {
   "cell_type": "code",
   "execution_count": 164,
   "id": "b69f55c9",
   "metadata": {},
   "outputs": [],
   "source": [
    "sys.path.append(str(module_dir))"
   ]
  },
  {
   "cell_type": "code",
   "execution_count": 6,
   "id": "ba1d0ea1",
   "metadata": {},
   "outputs": [],
   "source": [
    "import pubmed"
   ]
  },
  {
   "cell_type": "markdown",
   "id": "a234259f",
   "metadata": {},
   "source": [
    "**Import the openai module.**"
   ]
  },
  {
   "cell_type": "code",
   "execution_count": 167,
   "id": "4b10f0b4",
   "metadata": {},
   "outputs": [],
   "source": [
    "import openai_api"
   ]
  },
  {
   "cell_type": "markdown",
   "id": "bd743ec9",
   "metadata": {},
   "source": [
    "# Paths"
   ]
  },
  {
   "cell_type": "markdown",
   "id": "284546cc",
   "metadata": {},
   "source": [
    "## PubMed output path"
   ]
  },
  {
   "cell_type": "code",
   "execution_count": 8,
   "id": "fc23aef9",
   "metadata": {},
   "outputs": [],
   "source": [
    "\n",
    "output_dir = cwd.parent / 'outputs'"
   ]
  },
  {
   "cell_type": "markdown",
   "id": "66111226",
   "metadata": {},
   "source": [
    "**Path to CSV containing literature from 87 papers from PubMed.**"
   ]
  },
  {
   "cell_type": "code",
   "execution_count": 9,
   "id": "a624e5b0",
   "metadata": {},
   "outputs": [],
   "source": [
    "pubmed_output = output_dir / 'pubmed_data.csv'"
   ]
  },
  {
   "cell_type": "markdown",
   "id": "52e4bd0f",
   "metadata": {},
   "source": [
    "## Prompt language - system and user instructions"
   ]
  },
  {
   "cell_type": "code",
   "execution_count": 98,
   "id": "5a437e89",
   "metadata": {},
   "outputs": [],
   "source": [
    "input_dir = cwd.parent / 'inputs'"
   ]
  },
  {
   "cell_type": "code",
   "execution_count": 99,
   "id": "1f74ed72",
   "metadata": {},
   "outputs": [],
   "source": [
    "system_path = input_dir / 'system_prompt.json'\n",
    "user_path = input_dir / 'user_prompt.json'"
   ]
  },
  {
   "cell_type": "code",
   "execution_count": 179,
   "id": "d26d3034",
   "metadata": {},
   "outputs": [],
   "source": [
    "openai_key_path = '/Users/mukti/myproject_creds/.env.openai'"
   ]
  },
  {
   "cell_type": "markdown",
   "id": "4e72c592",
   "metadata": {},
   "source": [
    "# 1. Get literature from PubMed"
   ]
  },
  {
   "cell_type": "markdown",
   "id": "62e0ac45",
   "metadata": {},
   "source": [
    "**Scope**\n",
    "\n",
    "We'll focus on getting ~30 articles each for breast cancer,lung cancer, and glioblastoma from 2023-present, and remove articles of the type Review or Systematic Review."
   ]
  },
  {
   "cell_type": "raw",
   "id": "597dbf8c",
   "metadata": {},
   "source": [
    "Query used for advanced search on the website:\n",
    "\n",
    "'''(((\"2023/01/01\"[Date - Publication] : \"3000\"[Date - Publication])) \n",
    "NOT (Review[Publication Type] OR Scientific Integrity Review OR Systematic Review[Publication Type])) \n",
    "AND (breast cancer[Title/Abstract])'''\n",
    "\n",
    "'''(((\"2023/01/01\"[Date - Publication] : \"3000\"[Date - Publication])) \n",
    "NOT (Review[Publication Type] OR Scientific Integrity Review OR Systematic Review[Publication Type])) \n",
    "AND (lung cancer[Title/Abstract])'''\n"
   ]
  },
  {
   "cell_type": "markdown",
   "id": "36776df8",
   "metadata": {},
   "source": [
    "**Establish base criteria for querying.**"
   ]
  },
  {
   "cell_type": "code",
   "execution_count": 7,
   "id": "49dcfbd1",
   "metadata": {},
   "outputs": [],
   "source": [
    "date_criteria = '(2023/01/01:3000[pdat])'\n",
    "drug_criteria = '(drug[tiab]+OR+inhibitor[tiab]+OR+compound[tiab]+OR+small+molecule[tiab]+OR+clinical+trial[tiab]+OR+therapy[tiab]+OR+agent[tiab])'\n",
    "pub_criteria = '(Review[pt]+OR+Scientific+Integrity+Review[pt]+OR+Systematic+Review[pt])'\n"
   ]
  },
  {
   "cell_type": "markdown",
   "id": "ad214665",
   "metadata": {},
   "source": [
    "**Run the PubMed pipeline for getting papers for 3 cancer types.**"
   ]
  },
  {
   "cell_type": "code",
   "execution_count": 8,
   "id": "0f539a22",
   "metadata": {
    "scrolled": false
   },
   "outputs": [
    {
     "name": "stdout",
     "output_type": "stream",
     "text": [
      "----Running pipeline for the following query:----\n",
      "(2023/01/01:3000[pdat])+AND+(breast+cancer[tiab])+AND+(drug[tiab]+OR+inhibitor[tiab]+OR+compound[tiab]+OR+small+molecule[tiab]+OR+clinical+trial[tiab]+OR+therapy[tiab]+OR+agent[tiab])+NOT+(Review[pt]+OR+Scientific+Integrity+Review[pt]+OR+Systematic+Review[pt])\n",
      "Using PubMed esearch API to get PMIDs matching the search query.\n",
      "\tThe actual total number of records matching the search for is 9403\n",
      "\tThe number of ids present in the esearch json is 9403\n",
      "\tFunction get_pmids complete.\n",
      "Collecting metadata about the search results into a dictionary.\n",
      "\tMetadata obtained and saved in a dictionary.\n",
      "Using PubMed efetch API to get abstract and other details for relevant PMIDs into an XML string.\n",
      "\tThe number of matching PMIDs based on the server: 30\n",
      "\tFunction get_abstracts complete.\n",
      "Extracting data from XML string and organizing it into a dataframe.\n",
      "\tPerforming basic cleanup.\n",
      "\t&#xa0 left: 0\n",
      "\t&#x3ba left: 0\n",
      "\t&# left: 0\n",
      "Iterating through each article and collecting information.\n",
      "\t<FLAG> Additional PMID 37863030 found in association with 37557181, not collected.\n",
      "\t<FLAG> Additional PMID 38323464 found in association with 37070653, not collected.\n",
      "\t<FLAG> Additional PMID 36585451 found in association with 36585452, not collected.\n",
      "\t<FLAG> Additional PMID 37322365 found in association with 36585452, not collected.\n",
      "\t<FLAG> Additional PMID 37322366 found in association with 36585452, not collected.\n",
      "\t<FLAG> Additional PMID 37205914 found in association with 36909163, not collected.\n",
      "\t<FLAG> Additional PMID 37779428 found in association with 37071495, not collected.\n",
      "\tFunction get_data_from_xml complete.\n",
      "Adding in metadata information.\n",
      "Pipeline complete, dataframe ready.\n",
      "Num rows in df: 30\n",
      "Pipeline complete for breast+cancer\n",
      "----Running pipeline for the following query:----\n",
      "(2023/01/01:3000[pdat])+AND+(lung+cancer[tiab])+AND+(drug[tiab]+OR+inhibitor[tiab]+OR+compound[tiab]+OR+small+molecule[tiab]+OR+clinical+trial[tiab]+OR+therapy[tiab]+OR+agent[tiab])+NOT+(Review[pt]+OR+Scientific+Integrity+Review[pt]+OR+Systematic+Review[pt])\n",
      "Using PubMed esearch API to get PMIDs matching the search query.\n",
      "\tThe actual total number of records matching the search for is 6412\n",
      "\tThe number of ids present in the esearch json is 6412\n",
      "\tFunction get_pmids complete.\n",
      "Collecting metadata about the search results into a dictionary.\n",
      "\tMetadata obtained and saved in a dictionary.\n",
      "Using PubMed efetch API to get abstract and other details for relevant PMIDs into an XML string.\n",
      "\tThe number of matching PMIDs based on the server: 30\n",
      "\tFunction get_abstracts complete.\n",
      "Extracting data from XML string and organizing it into a dataframe.\n",
      "\tPerforming basic cleanup.\n",
      "\t&#xa0 left: 0\n",
      "\t&#x3ba left: 0\n",
      "\t&# left: 0\n",
      "Iterating through each article and collecting information.\n",
      "\t<FLAG> Additional PMID 36812886 found in association with 36657446, not collected.\n",
      "\t<FLAG> Additional PMID 37524811 found in association with 37407818, not collected.\n",
      "\t<FLAG> Additional PMID 37269291 found in association with 37269335, not collected.\n",
      "\t<FLAG> Additional PMID 37348992 found in association with 36948246, not collected.\n",
      "\t<FLAG> Additional PMID 37620619 found in association with 36650267, not collected.\n",
      "\t<FLAG> Additional PMID 38366163 found in association with 37491889, not collected.\n",
      "\tFunction get_data_from_xml complete.\n",
      "Adding in metadata information.\n",
      "Pipeline complete, dataframe ready.\n",
      "Num rows in df: 27\n",
      "Pipeline complete for lung+cancer\n",
      "----Running pipeline for the following query:----\n",
      "(2023/01/01:3000[pdat])+AND+(glioblastoma[tiab])+AND+(drug[tiab]+OR+inhibitor[tiab]+OR+compound[tiab]+OR+small+molecule[tiab]+OR+clinical+trial[tiab]+OR+therapy[tiab]+OR+agent[tiab])+NOT+(Review[pt]+OR+Scientific+Integrity+Review[pt]+OR+Systematic+Review[pt])\n",
      "Using PubMed esearch API to get PMIDs matching the search query.\n",
      "\tThe actual total number of records matching the search for is 1817\n",
      "\tThe number of ids present in the esearch json is 1817\n",
      "\tFunction get_pmids complete.\n",
      "Collecting metadata about the search results into a dictionary.\n",
      "\tMetadata obtained and saved in a dictionary.\n",
      "Using PubMed efetch API to get abstract and other details for relevant PMIDs into an XML string.\n",
      "\tThe number of matching PMIDs based on the server: 30\n",
      "\tFunction get_abstracts complete.\n",
      "Extracting data from XML string and organizing it into a dataframe.\n",
      "\tPerforming basic cleanup.\n",
      "\t&#xa0 left: 0\n",
      "\t&#x3ba left: 0\n",
      "\t&# left: 0\n",
      "Iterating through each article and collecting information.\n",
      "\t<FLAG> Additional PMID 37477398 found in association with 37451272, not collected.\n",
      "\t<FLAG> Additional PMID 36750686 found in association with 36652537, not collected.\n",
      "\tFunction get_data_from_xml complete.\n",
      "Adding in metadata information.\n",
      "Pipeline complete, dataframe ready.\n",
      "Num rows in df: 30\n",
      "Pipeline complete for glioblastoma\n"
     ]
    }
   ],
   "source": [
    "# Collect all dfs to merge later\n",
    "all_dfs = []\n",
    "\n",
    "for cancer_type in ['breast+cancer','lung+cancer','glioblastoma']:\n",
    "    disease_criteria = f'({cancer_type}[tiab])'\n",
    "    \n",
    "    query = date_criteria + '+AND+' + disease_criteria + '+AND+' + drug_criteria + '+NOT+' + pub_criteria\n",
    "    \n",
    "    df = pubmed.run_pubmed_pipeline(query=query,\n",
    "                                    save_on_server='y',\n",
    "                                    search_format='json',\n",
    "                                    search_starting_index=0,\n",
    "                                    search_max_records=9999,\n",
    "                                    sorting_criteria='relevance',\n",
    "                                    content_type='abstract',\n",
    "                                    fetch_starting_index=0,\n",
    "                                    fetch_max_records=30)\n",
    "    \n",
    "    # Add an identifier column for cancer type for easy searching\n",
    "    df['disease'] = cancer_type\n",
    "    print(f'Num rows in df: {len(df)}')\n",
    "    all_dfs.append(df)\n",
    "    \n",
    "    print(f'Pipeline complete for {cancer_type}')\n",
    "\n",
    "# Combine all dfs\n",
    "final_df = pd.concat(all_dfs)"
   ]
  },
  {
   "cell_type": "code",
   "execution_count": 9,
   "id": "8a54daca",
   "metadata": {},
   "outputs": [
    {
     "data": {
      "text/plain": [
       "87"
      ]
     },
     "execution_count": 9,
     "metadata": {},
     "output_type": "execute_result"
    }
   ],
   "source": [
    "len(final_df)"
   ]
  },
  {
   "cell_type": "markdown",
   "id": "b81f9178",
   "metadata": {},
   "source": [
    "**Final dataframe ready with content extracted from PubMed.**"
   ]
  },
  {
   "cell_type": "code",
   "execution_count": 15,
   "id": "34b06813",
   "metadata": {},
   "outputs": [
    {
     "data": {
      "text/html": [
       "<div>\n",
       "<style scoped>\n",
       "    .dataframe tbody tr th:only-of-type {\n",
       "        vertical-align: middle;\n",
       "    }\n",
       "\n",
       "    .dataframe tbody tr th {\n",
       "        vertical-align: top;\n",
       "    }\n",
       "\n",
       "    .dataframe thead th {\n",
       "        text-align: right;\n",
       "    }\n",
       "</style>\n",
       "<table border=\"1\" class=\"dataframe\">\n",
       "  <thead>\n",
       "    <tr style=\"text-align: right;\">\n",
       "      <th></th>\n",
       "      <th>pmid</th>\n",
       "      <th>publication_date</th>\n",
       "      <th>publication_type</th>\n",
       "      <th>article_title</th>\n",
       "      <th>abstract</th>\n",
       "      <th>keywords</th>\n",
       "      <th>journal</th>\n",
       "      <th>num_abstracts_retrieved</th>\n",
       "      <th>num_abstracts_requested</th>\n",
       "      <th>query_string</th>\n",
       "      <th>num_total_matches</th>\n",
       "      <th>all_matching_pmids</th>\n",
       "      <th>acquisition_date</th>\n",
       "      <th>disease</th>\n",
       "    </tr>\n",
       "  </thead>\n",
       "  <tbody>\n",
       "    <tr>\n",
       "      <th>0</th>\n",
       "      <td>37256976</td>\n",
       "      <td>2023 Jun 01</td>\n",
       "      <td>Clinical Trial, Phase III|Journal Article|Rand...</td>\n",
       "      <td>Capivasertib in Hormone Receptor-Positive Adva...</td>\n",
       "      <td>[BACKGROUND]AKT pathway activation is implicat...</td>\n",
       "      <td></td>\n",
       "      <td>The New England journal of medicine</td>\n",
       "      <td>30</td>\n",
       "      <td>30</td>\n",
       "      <td>(2023/01/01:3000/12/31[Date - Publication] AND...</td>\n",
       "      <td>9403</td>\n",
       "      <td>37256976,37557181,37070653,37147285,37723305,3...</td>\n",
       "      <td>2024-03-06</td>\n",
       "      <td>breast+cancer</td>\n",
       "    </tr>\n",
       "    <tr>\n",
       "      <th>1</th>\n",
       "      <td>37557181</td>\n",
       "      <td>2023 Oct 19</td>\n",
       "      <td>Journal Article|Research Support, Non-U.S. Gov't</td>\n",
       "      <td>Discovery of a highly potent, selective, orall...</td>\n",
       "      <td>KAT6A, and its paralog KAT6B, are histone lysi...</td>\n",
       "      <td>CTx-648|KAT6A|KAT6B|PF-9363|breast cancer|cell...</td>\n",
       "      <td>Cell chemical biology</td>\n",
       "      <td>30</td>\n",
       "      <td>30</td>\n",
       "      <td>(2023/01/01:3000/12/31[Date - Publication] AND...</td>\n",
       "      <td>9403</td>\n",
       "      <td>37256976,37557181,37070653,37147285,37723305,3...</td>\n",
       "      <td>2024-03-06</td>\n",
       "      <td>breast+cancer</td>\n",
       "    </tr>\n",
       "    <tr>\n",
       "      <th>2</th>\n",
       "      <td>37070653</td>\n",
       "      <td>2023 Mar</td>\n",
       "      <td>Clinical Trial Protocol|Journal Article</td>\n",
       "      <td>Design of SERENA-6, a phase III switching tria...</td>\n",
       "      <td>ESR1 mutation (ESR1m) is a frequent cause of a...</td>\n",
       "      <td>ESR1 mutation|advanced breast cancer|camizestr...</td>\n",
       "      <td>Future oncology (London, England)</td>\n",
       "      <td>30</td>\n",
       "      <td>30</td>\n",
       "      <td>(2023/01/01:3000/12/31[Date - Publication] AND...</td>\n",
       "      <td>9403</td>\n",
       "      <td>37256976,37557181,37070653,37147285,37723305,3...</td>\n",
       "      <td>2024-03-06</td>\n",
       "      <td>breast+cancer</td>\n",
       "    </tr>\n",
       "    <tr>\n",
       "      <th>3</th>\n",
       "      <td>37147285</td>\n",
       "      <td>2023 May 05</td>\n",
       "      <td>Journal Article|Research Support, Non-U.S. Gov't</td>\n",
       "      <td>KK-LC-1 as a therapeutic target to eliminate ALDH</td>\n",
       "      <td>Failure to achieve complete elimination of tri...</td>\n",
       "      <td></td>\n",
       "      <td>Nature communications</td>\n",
       "      <td>30</td>\n",
       "      <td>30</td>\n",
       "      <td>(2023/01/01:3000/12/31[Date - Publication] AND...</td>\n",
       "      <td>9403</td>\n",
       "      <td>37256976,37557181,37070653,37147285,37723305,3...</td>\n",
       "      <td>2024-03-06</td>\n",
       "      <td>breast+cancer</td>\n",
       "    </tr>\n",
       "    <tr>\n",
       "      <th>4</th>\n",
       "      <td>37723305</td>\n",
       "      <td>2023 Oct</td>\n",
       "      <td>Journal Article</td>\n",
       "      <td>Acetate acts as a metabolic immunomodulator by...</td>\n",
       "      <td>Acetate metabolism is an important metabolic p...</td>\n",
       "      <td></td>\n",
       "      <td>Nature cancerMain References:Methods Only Refe...</td>\n",
       "      <td>30</td>\n",
       "      <td>30</td>\n",
       "      <td>(2023/01/01:3000/12/31[Date - Publication] AND...</td>\n",
       "      <td>9403</td>\n",
       "      <td>37256976,37557181,37070653,37147285,37723305,3...</td>\n",
       "      <td>2024-03-06</td>\n",
       "      <td>breast+cancer</td>\n",
       "    </tr>\n",
       "    <tr>\n",
       "      <th>...</th>\n",
       "      <td>...</td>\n",
       "      <td>...</td>\n",
       "      <td>...</td>\n",
       "      <td>...</td>\n",
       "      <td>...</td>\n",
       "      <td>...</td>\n",
       "      <td>...</td>\n",
       "      <td>...</td>\n",
       "      <td>...</td>\n",
       "      <td>...</td>\n",
       "      <td>...</td>\n",
       "      <td>...</td>\n",
       "      <td>...</td>\n",
       "      <td>...</td>\n",
       "    </tr>\n",
       "    <tr>\n",
       "      <th>25</th>\n",
       "      <td>37886538</td>\n",
       "      <td>2023 Oct 05</td>\n",
       "      <td>Preprint</td>\n",
       "      <td>LDHA-regulated tumor-macrophage symbiosis prom...</td>\n",
       "      <td>Abundant macrophage infiltration and altered t...</td>\n",
       "      <td></td>\n",
       "      <td>Research square</td>\n",
       "      <td>30</td>\n",
       "      <td>30</td>\n",
       "      <td>(2023/01/01:3000/12/31[Date - Publication] AND...</td>\n",
       "      <td>1817</td>\n",
       "      <td>36791206,37451272,36749723,37935665,38215747,3...</td>\n",
       "      <td>2024-03-06</td>\n",
       "      <td>glioblastoma</td>\n",
       "    </tr>\n",
       "    <tr>\n",
       "      <th>26</th>\n",
       "      <td>37417769</td>\n",
       "      <td>2023 Oct</td>\n",
       "      <td>Journal Article</td>\n",
       "      <td>Engineering and Characterization of an Artific...</td>\n",
       "      <td>Glioblastoma multiforme (GBM) treatment is hin...</td>\n",
       "      <td>blood-brain barrier|engineered artificial vesi...</td>\n",
       "      <td>Advanced materials (Deerfield Beach, Fla.)</td>\n",
       "      <td>30</td>\n",
       "      <td>30</td>\n",
       "      <td>(2023/01/01:3000/12/31[Date - Publication] AND...</td>\n",
       "      <td>1817</td>\n",
       "      <td>36791206,37451272,36749723,37935665,38215747,3...</td>\n",
       "      <td>2024-03-06</td>\n",
       "      <td>glioblastoma</td>\n",
       "    </tr>\n",
       "    <tr>\n",
       "      <th>27</th>\n",
       "      <td>37147437</td>\n",
       "      <td>2023 Jun</td>\n",
       "      <td>Journal Article</td>\n",
       "      <td>EZH2-Myc driven glioblastoma elicited by cytom...</td>\n",
       "      <td>Mounting evidence is identifying human cytomeg...</td>\n",
       "      <td></td>\n",
       "      <td>Oncogene</td>\n",
       "      <td>30</td>\n",
       "      <td>30</td>\n",
       "      <td>(2023/01/01:3000/12/31[Date - Publication] AND...</td>\n",
       "      <td>1817</td>\n",
       "      <td>36791206,37451272,36749723,37935665,38215747,3...</td>\n",
       "      <td>2024-03-06</td>\n",
       "      <td>glioblastoma</td>\n",
       "    </tr>\n",
       "    <tr>\n",
       "      <th>28</th>\n",
       "      <td>37572644</td>\n",
       "      <td>2023 Sep</td>\n",
       "      <td>Journal Article</td>\n",
       "      <td>Combination drug screen targeting glioblastoma...</td>\n",
       "      <td>[BACKGROUND]Pharmacological synergisms are an ...</td>\n",
       "      <td>Cancer vulnerabilities|Drug combination screen...</td>\n",
       "      <td>EBioMedicine</td>\n",
       "      <td>30</td>\n",
       "      <td>30</td>\n",
       "      <td>(2023/01/01:3000/12/31[Date - Publication] AND...</td>\n",
       "      <td>1817</td>\n",
       "      <td>36791206,37451272,36749723,37935665,38215747,3...</td>\n",
       "      <td>2024-03-06</td>\n",
       "      <td>glioblastoma</td>\n",
       "    </tr>\n",
       "    <tr>\n",
       "      <th>29</th>\n",
       "      <td>36718723</td>\n",
       "      <td>2023 Mar</td>\n",
       "      <td>Journal Article</td>\n",
       "      <td>Glioblastoma treatment slowly moves toward cha...</td>\n",
       "      <td>[INTRODUCTION]Glioblastoma (GBM) is the most c...</td>\n",
       "      <td>CAR T cells|Glioblastoma|NTRK|bevacizumab|bupa...</td>\n",
       "      <td>Expert opinion on drug discovery</td>\n",
       "      <td>30</td>\n",
       "      <td>30</td>\n",
       "      <td>(2023/01/01:3000/12/31[Date - Publication] AND...</td>\n",
       "      <td>1817</td>\n",
       "      <td>36791206,37451272,36749723,37935665,38215747,3...</td>\n",
       "      <td>2024-03-06</td>\n",
       "      <td>glioblastoma</td>\n",
       "    </tr>\n",
       "  </tbody>\n",
       "</table>\n",
       "<p>87 rows × 14 columns</p>\n",
       "</div>"
      ],
      "text/plain": [
       "        pmid publication_date   \n",
       "0   37256976      2023 Jun 01  \\\n",
       "1   37557181      2023 Oct 19   \n",
       "2   37070653         2023 Mar   \n",
       "3   37147285      2023 May 05   \n",
       "4   37723305         2023 Oct   \n",
       "..       ...              ...   \n",
       "25  37886538      2023 Oct 05   \n",
       "26  37417769         2023 Oct   \n",
       "27  37147437         2023 Jun   \n",
       "28  37572644         2023 Sep   \n",
       "29  36718723         2023 Mar   \n",
       "\n",
       "                                     publication_type   \n",
       "0   Clinical Trial, Phase III|Journal Article|Rand...  \\\n",
       "1    Journal Article|Research Support, Non-U.S. Gov't   \n",
       "2             Clinical Trial Protocol|Journal Article   \n",
       "3    Journal Article|Research Support, Non-U.S. Gov't   \n",
       "4                                     Journal Article   \n",
       "..                                                ...   \n",
       "25                                           Preprint   \n",
       "26                                    Journal Article   \n",
       "27                                    Journal Article   \n",
       "28                                    Journal Article   \n",
       "29                                    Journal Article   \n",
       "\n",
       "                                        article_title   \n",
       "0   Capivasertib in Hormone Receptor-Positive Adva...  \\\n",
       "1   Discovery of a highly potent, selective, orall...   \n",
       "2   Design of SERENA-6, a phase III switching tria...   \n",
       "3   KK-LC-1 as a therapeutic target to eliminate ALDH   \n",
       "4   Acetate acts as a metabolic immunomodulator by...   \n",
       "..                                                ...   \n",
       "25  LDHA-regulated tumor-macrophage symbiosis prom...   \n",
       "26  Engineering and Characterization of an Artific...   \n",
       "27  EZH2-Myc driven glioblastoma elicited by cytom...   \n",
       "28  Combination drug screen targeting glioblastoma...   \n",
       "29  Glioblastoma treatment slowly moves toward cha...   \n",
       "\n",
       "                                             abstract   \n",
       "0   [BACKGROUND]AKT pathway activation is implicat...  \\\n",
       "1   KAT6A, and its paralog KAT6B, are histone lysi...   \n",
       "2   ESR1 mutation (ESR1m) is a frequent cause of a...   \n",
       "3   Failure to achieve complete elimination of tri...   \n",
       "4   Acetate metabolism is an important metabolic p...   \n",
       "..                                                ...   \n",
       "25  Abundant macrophage infiltration and altered t...   \n",
       "26  Glioblastoma multiforme (GBM) treatment is hin...   \n",
       "27  Mounting evidence is identifying human cytomeg...   \n",
       "28  [BACKGROUND]Pharmacological synergisms are an ...   \n",
       "29  [INTRODUCTION]Glioblastoma (GBM) is the most c...   \n",
       "\n",
       "                                             keywords   \n",
       "0                                                      \\\n",
       "1   CTx-648|KAT6A|KAT6B|PF-9363|breast cancer|cell...   \n",
       "2   ESR1 mutation|advanced breast cancer|camizestr...   \n",
       "3                                                       \n",
       "4                                                       \n",
       "..                                                ...   \n",
       "25                                                      \n",
       "26  blood-brain barrier|engineered artificial vesi...   \n",
       "27                                                      \n",
       "28  Cancer vulnerabilities|Drug combination screen...   \n",
       "29  CAR T cells|Glioblastoma|NTRK|bevacizumab|bupa...   \n",
       "\n",
       "                                              journal   \n",
       "0                 The New England journal of medicine  \\\n",
       "1                               Cell chemical biology   \n",
       "2                   Future oncology (London, England)   \n",
       "3                               Nature communications   \n",
       "4   Nature cancerMain References:Methods Only Refe...   \n",
       "..                                                ...   \n",
       "25                                    Research square   \n",
       "26         Advanced materials (Deerfield Beach, Fla.)   \n",
       "27                                           Oncogene   \n",
       "28                                       EBioMedicine   \n",
       "29                   Expert opinion on drug discovery   \n",
       "\n",
       "    num_abstracts_retrieved  num_abstracts_requested   \n",
       "0                        30                       30  \\\n",
       "1                        30                       30   \n",
       "2                        30                       30   \n",
       "3                        30                       30   \n",
       "4                        30                       30   \n",
       "..                      ...                      ...   \n",
       "25                       30                       30   \n",
       "26                       30                       30   \n",
       "27                       30                       30   \n",
       "28                       30                       30   \n",
       "29                       30                       30   \n",
       "\n",
       "                                         query_string  num_total_matches   \n",
       "0   (2023/01/01:3000/12/31[Date - Publication] AND...               9403  \\\n",
       "1   (2023/01/01:3000/12/31[Date - Publication] AND...               9403   \n",
       "2   (2023/01/01:3000/12/31[Date - Publication] AND...               9403   \n",
       "3   (2023/01/01:3000/12/31[Date - Publication] AND...               9403   \n",
       "4   (2023/01/01:3000/12/31[Date - Publication] AND...               9403   \n",
       "..                                                ...                ...   \n",
       "25  (2023/01/01:3000/12/31[Date - Publication] AND...               1817   \n",
       "26  (2023/01/01:3000/12/31[Date - Publication] AND...               1817   \n",
       "27  (2023/01/01:3000/12/31[Date - Publication] AND...               1817   \n",
       "28  (2023/01/01:3000/12/31[Date - Publication] AND...               1817   \n",
       "29  (2023/01/01:3000/12/31[Date - Publication] AND...               1817   \n",
       "\n",
       "                                   all_matching_pmids acquisition_date   \n",
       "0   37256976,37557181,37070653,37147285,37723305,3...       2024-03-06  \\\n",
       "1   37256976,37557181,37070653,37147285,37723305,3...       2024-03-06   \n",
       "2   37256976,37557181,37070653,37147285,37723305,3...       2024-03-06   \n",
       "3   37256976,37557181,37070653,37147285,37723305,3...       2024-03-06   \n",
       "4   37256976,37557181,37070653,37147285,37723305,3...       2024-03-06   \n",
       "..                                                ...              ...   \n",
       "25  36791206,37451272,36749723,37935665,38215747,3...       2024-03-06   \n",
       "26  36791206,37451272,36749723,37935665,38215747,3...       2024-03-06   \n",
       "27  36791206,37451272,36749723,37935665,38215747,3...       2024-03-06   \n",
       "28  36791206,37451272,36749723,37935665,38215747,3...       2024-03-06   \n",
       "29  36791206,37451272,36749723,37935665,38215747,3...       2024-03-06   \n",
       "\n",
       "          disease  \n",
       "0   breast+cancer  \n",
       "1   breast+cancer  \n",
       "2   breast+cancer  \n",
       "3   breast+cancer  \n",
       "4   breast+cancer  \n",
       "..            ...  \n",
       "25   glioblastoma  \n",
       "26   glioblastoma  \n",
       "27   glioblastoma  \n",
       "28   glioblastoma  \n",
       "29   glioblastoma  \n",
       "\n",
       "[87 rows x 14 columns]"
      ]
     },
     "execution_count": 15,
     "metadata": {},
     "output_type": "execute_result"
    }
   ],
   "source": [
    "final_df"
   ]
  },
  {
   "cell_type": "markdown",
   "id": "53e6d697",
   "metadata": {},
   "source": [
    "**Save the df as a CSV.**"
   ]
  },
  {
   "cell_type": "code",
   "execution_count": 17,
   "id": "126c8f7a",
   "metadata": {},
   "outputs": [],
   "source": [
    "final_df.to_csv(pubmed_output,index=False)"
   ]
  },
  {
   "cell_type": "markdown",
   "id": "2af39f2c",
   "metadata": {},
   "source": [
    "# 2. Prepare prompt text"
   ]
  },
  {
   "cell_type": "markdown",
   "id": "b879e4c7",
   "metadata": {},
   "source": [
    "**Following system text and user instructions will be the basis of the prompt text going inside the messages list when calling the openai API. These are first saved into json files.\n",
    "The abstract text will have to be appended to the user text, beneath 'TASKS'.**"
   ]
  },
  {
   "cell_type": "code",
   "execution_count": 105,
   "id": "42cef68a",
   "metadata": {},
   "outputs": [
    {
     "data": {
      "text/plain": [
       "{'role': 'system',\n",
       " 'content': 'You are a meticulous data scientist working on named entity recognition and building out a drug-target dataset from biomedical text. Only consider the text given to you.'}"
      ]
     },
     "execution_count": 105,
     "metadata": {},
     "output_type": "execute_result"
    }
   ],
   "source": [
    "system_data = {\"role\":\"system\",\"content\": \"You are a meticulous data scientist working on named entity recognition and building out a drug-target dataset from biomedical text. Only consider the text given to you.\"}\n",
    "system_data"
   ]
  },
  {
   "cell_type": "code",
   "execution_count": 104,
   "id": "41b286be",
   "metadata": {},
   "outputs": [],
   "source": [
    "user_data = {\"role\":\"user\",\"content\":\"\"\"Look at the examples delimited by ### and the rules delimited by ***.\n",
    "*** RULES\n",
    "For each of the text shown under TASKS, do the following:\n",
    "1. Identify which drugs have been tested and create a set for each. \n",
    "2. Return multiple sets if more than drug is present in the text.\n",
    "For each drug:\n",
    "3. Get direct target: Use the following logic: if the text clearly and directly mentions that the drug targets a gene and has also defined the type of interaction\n",
    "4. Get interaction type between the drug and direct target: if explicitly and clearly mentioned, then get the drug-direct target relationship type. What does the drug do to the direct target? inhibitor, activator, etc.?\n",
    "5. Get groups tested: specify which type of genes was the drug tested on, eg. if drug was tested on samples showing high expression of certain gene.\n",
    "6. Collect all disease names for which the drug has been tested into 1 list.\n",
    "7. Extract any specific ClinicalTrials.gov identifier or number.\n",
    "8. For each drug, construct a set consisting of (drug name, direct target, drug-direct target interaction, tested or effective group, ClinicalTrials.gov number, all diseases that the drug is tested in)\n",
    "9. Any empty values should be indicated by null and not an empty string.\n",
    "10. Double check your logic and see if the data you have collected is actually reflected in the text. If not, make revisions.\n",
    "11. Both, direct target, and drug-direct target interaction fields should have been filled or both should be null. Only one of these fields cannot be null.\n",
    "12. Assemble all sets and produce 1 final JSON output in a single line without any whitespaces.\n",
    "***\n",
    "### EXAMPLES\n",
    "PMID23:LKB1/STK11 is a serine/threonine kinase that plays a major role in controlling cell metabolism, resulting in potential therapeutic vulnerabilities in LKB1-mutant cancers. Here, we identify the NAD + degrading ectoenzyme, CD38, as a new target in LKB1-mutant NSCLC. Metabolic profiling of genetically engineered mouse models (GEMMs) revealed that LKB1 mutant lung cancers have a striking increase in ADP-ribose, a breakdown product of the critical redox co-factor, NAD + . Surprisingly, compared with other genetic subsets, murine and human LKB1-mutant NSCLC show marked overexpression of the NAD+-catabolizing ectoenzyme, CD38 on the surface of tumor cells. Loss of LKB1 or inactivation of Salt-Inducible Kinases (SIKs)-key downstream effectors of LKB1- induces CD38 transcription induction via a CREB binding site in the CD38 promoter. Treatment with the FDA-approved anti-CD38 antibody, daratumumab, inhibited growth of LKB1-mutant NSCLC xenografts. Together, these results reveal CD38 as a promising therapeutic target in patients with LKB1 mutant lung cancer.\n",
    "Output:{\"PMID23\": [{\"drug name\": \"daratumumab\",\"target\": [{\"direct target\": \"CD38\",\"drug-direct target interaction\": \"anti-CD38 monoclonal antibody\"},],\"tested or effective group\": [\"LKB-1/STK-11 mutant NSCLC\"],\"drug tested in following diseases\": [\"lung cancer\", \"NSCLC\"],\"ClinicalTrials.gov ID\": []}]}\n",
    "###\n",
    "TASKS:\n",
    "Use the RULES and EXAMPLES and create a similar outputs for the following text delimited by ID:\n",
    "\"\"\"}"
   ]
  },
  {
   "cell_type": "markdown",
   "id": "271f10c1",
   "metadata": {},
   "source": [
    "**Save these in json files.**"
   ]
  },
  {
   "cell_type": "code",
   "execution_count": 106,
   "id": "b15937db",
   "metadata": {},
   "outputs": [],
   "source": [
    "with open(system_path, \"w\") as json_file:\n",
    "    json.dump(system_data, json_file)"
   ]
  },
  {
   "cell_type": "code",
   "execution_count": 107,
   "id": "e5bb66f7",
   "metadata": {},
   "outputs": [],
   "source": [
    "with open(user_path, \"w\") as json_file:\n",
    "    json.dump(user_data, json_file)"
   ]
  },
  {
   "cell_type": "markdown",
   "id": "8af1e314",
   "metadata": {},
   "source": [
    "# 3. Run a pipeline to process 30 randomly selected abstracts"
   ]
  },
  {
   "cell_type": "markdown",
   "id": "9fb27299",
   "metadata": {},
   "source": [
    "**Get the df containing pubmed data.**"
   ]
  },
  {
   "cell_type": "code",
   "execution_count": 157,
   "id": "2790fd61",
   "metadata": {},
   "outputs": [],
   "source": [
    "df = pd.read_csv(pubmed_output)"
   ]
  },
  {
   "cell_type": "code",
   "execution_count": 177,
   "id": "581fcac6",
   "metadata": {},
   "outputs": [
    {
     "name": "stdout",
     "output_type": "stream",
     "text": [
      "Function select_pubmed_data complete.\n"
     ]
    }
   ],
   "source": [
    "df1 = openai_api.select_pubmed_data(data_df=df,\n",
    "                                    cols=['pmid','abstract'],\n",
    "                                    num_rows=3,\n",
    "                                    random_state=1)"
   ]
  },
  {
   "cell_type": "code",
   "execution_count": 178,
   "id": "1ecce3d1",
   "metadata": {},
   "outputs": [
    {
     "data": {
      "text/html": [
       "<div>\n",
       "<style scoped>\n",
       "    .dataframe tbody tr th:only-of-type {\n",
       "        vertical-align: middle;\n",
       "    }\n",
       "\n",
       "    .dataframe tbody tr th {\n",
       "        vertical-align: top;\n",
       "    }\n",
       "\n",
       "    .dataframe thead th {\n",
       "        text-align: right;\n",
       "    }\n",
       "</style>\n",
       "<table border=\"1\" class=\"dataframe\">\n",
       "  <thead>\n",
       "    <tr style=\"text-align: right;\">\n",
       "      <th></th>\n",
       "      <th>pmid</th>\n",
       "      <th>abstract</th>\n",
       "    </tr>\n",
       "  </thead>\n",
       "  <tbody>\n",
       "    <tr>\n",
       "      <th>39</th>\n",
       "      <td>36240971</td>\n",
       "      <td>[INTRODUCTION]Increased insight into the mutat...</td>\n",
       "    </tr>\n",
       "    <tr>\n",
       "      <th>46</th>\n",
       "      <td>36650267</td>\n",
       "      <td>Type II topoisomerases (TOP2) poisons represen...</td>\n",
       "    </tr>\n",
       "    <tr>\n",
       "      <th>28</th>\n",
       "      <td>37044095</td>\n",
       "      <td>A genome-wide PiggyBac transposon-mediated scr...</td>\n",
       "    </tr>\n",
       "  </tbody>\n",
       "</table>\n",
       "</div>"
      ],
      "text/plain": [
       "        pmid                                           abstract\n",
       "39  36240971  [INTRODUCTION]Increased insight into the mutat...\n",
       "46  36650267  Type II topoisomerases (TOP2) poisons represen...\n",
       "28  37044095  A genome-wide PiggyBac transposon-mediated scr..."
      ]
     },
     "execution_count": 178,
     "metadata": {},
     "output_type": "execute_result"
    }
   ],
   "source": [
    "df1"
   ]
  },
  {
   "cell_type": "code",
   "execution_count": 185,
   "id": "3afec948",
   "metadata": {},
   "outputs": [
    {
     "name": "stdout",
     "output_type": "stream",
     "text": [
      "\tNecessary columns present in the input df.\n",
      "Function setup_client complete.\n",
      "Function call_api complete.\n",
      "Function call_api complete.\n",
      "Function call_api complete.\n",
      "Function process_pubmed_data complete. The cost of the run is 0.04.\n"
     ]
    }
   ],
   "source": [
    "completions = openai_api.process_pubmed_data(system_path=system_path,\n",
    "                                  user_path=user_path,\n",
    "                                  data_df1=df1,\n",
    "                                  openai_key_path=openai_key_path,\n",
    "                                  seed=1,\n",
    "                                  temperature=0.0)"
   ]
  },
  {
   "cell_type": "code",
   "execution_count": 186,
   "id": "a15ff85e",
   "metadata": {},
   "outputs": [
    {
     "data": {
      "text/plain": [
       "{'chatcmpl-91hv6k50eNcXthuoMki8pXdqXk6hw': {'usage_dict': {'completion_tokens': 105,\n",
       "   'prompt_tokens': 1129,\n",
       "   'total_tokens': 1234},\n",
       "  'data_dict': {'PMID36240971': [{'drug name': 'TAK-228',\n",
       "     'target': [{'direct target': 'TORC1/2',\n",
       "       'drug-direct target interaction': 'inhibitor'}],\n",
       "     'tested or effective group': ['NFE2L2-mutated LUSC',\n",
       "      'KEAP1-mutated LUSC',\n",
       "      'KRAS/NFE2L2- or KEAP1-mutated NSCLC'],\n",
       "     'drug tested in following diseases': ['NSCLC', 'LUSC'],\n",
       "     'ClinicalTrials.gov ID': None}]},\n",
       "  'model_str': 'gpt-4-0125-preview'},\n",
       " 'chatcmpl-91hvBPdBSPkQy8SFSc1B9VcRfJqcM': {'usage_dict': {'completion_tokens': 115,\n",
       "   'prompt_tokens': 1069,\n",
       "   'total_tokens': 1184},\n",
       "  'data_dict': {'PMID36650267': [{'drug name': 'KU60019',\n",
       "     'target': [{'direct target': 'ATM',\n",
       "       'drug-direct target interaction': 'inhibitor'}],\n",
       "     'tested or effective group': None,\n",
       "     'drug tested in following diseases': ['lung cancer'],\n",
       "     'ClinicalTrials.gov ID': None},\n",
       "    {'drug name': 'VP-16',\n",
       "     'target': [{'direct target': 'TOP2β',\n",
       "       'drug-direct target interaction': None}],\n",
       "     'tested or effective group': None,\n",
       "     'drug tested in following diseases': ['lymphomas',\n",
       "      'leukemias',\n",
       "      'lung cancer'],\n",
       "     'ClinicalTrials.gov ID': None}]},\n",
       "  'model_str': 'gpt-4-0125-preview'},\n",
       " 'chatcmpl-91hvJtCKMP9uuNUSvacO9pqFSvFqD': {'usage_dict': {'completion_tokens': 141,\n",
       "   'prompt_tokens': 1045,\n",
       "   'total_tokens': 1186},\n",
       "  'data_dict': {'PMID37044095': [{'drug name': 'alpelisib',\n",
       "     'target': [{'direct target': 'PI3Kα',\n",
       "       'drug-direct target interaction': 'selective inhibitor'}],\n",
       "     'tested or effective group': ['PIK3CAH1047R mutated', 'NF1 loss'],\n",
       "     'drug tested in following diseases': ['breast cancer'],\n",
       "     'ClinicalTrials.gov ID': None},\n",
       "    {'drug name': 'N-acetylcysteine',\n",
       "     'target': [{'direct target': 'NF1 knockout cells',\n",
       "       'drug-direct target interaction': 'sensitizer'}],\n",
       "     'tested or effective group': ['NF1 loss', 'PIK3CAH1047R mutated'],\n",
       "     'drug tested in following diseases': ['breast cancer'],\n",
       "     'ClinicalTrials.gov ID': None}]},\n",
       "  'model_str': 'gpt-4-0125-preview'}}"
      ]
     },
     "execution_count": 186,
     "metadata": {},
     "output_type": "execute_result"
    }
   ],
   "source": [
    "completions"
   ]
  },
  {
   "cell_type": "code",
   "execution_count": null,
   "id": "d4adb997",
   "metadata": {},
   "outputs": [],
   "source": []
  },
  {
   "cell_type": "code",
   "execution_count": null,
   "id": "31121137",
   "metadata": {},
   "outputs": [],
   "source": []
  },
  {
   "cell_type": "raw",
   "id": "65b0ff38",
   "metadata": {},
   "source": [
    "return JSON in a single-line without whitespaces"
   ]
  },
  {
   "cell_type": "code",
   "execution_count": 19,
   "id": "782525ac",
   "metadata": {},
   "outputs": [
    {
     "data": {
      "text/plain": [
       "'[BACKGROUND]AKT pathway activation is implicated in endocrine-therapy resistance. Data on the efficacy and safety of the AKT inhibitor capivasertib, as an addition to fulvestrant therapy, in patients with hormone receptor-positive advanced breast cancer are limited.[METHODS]In a phase 3, randomized, double-blind trial, we enrolled eligible pre-, peri-, and postmenopausal women and men with hormone receptor-positive, human epidermal growth factor receptor 2-negative advanced breast cancer who had had a relapse or disease progression during or after treatment with an aromatase inhibitor, with or without previous cyclin-dependent kinase 4 and 6 (CDK4/6) inhibitor therapy. Patients were randomly assigned in a 1:1 ratio to receive capivasertib plus fulvestrant or placebo plus fulvestrant. The dual primary end point was investigator-assessed progression-free survival assessed both in the overall population and among patients with AKT pathway-altered ([RESULTS]Overall, 708 patients underwent randomization; 289 patients (40.8%) had AKT pathway alterations, and 489 (69.1%) had received a CDK4/6 inhibitor previously for advanced breast cancer. In the overall population, the median progression-free survival was 7.2 months in the capivasertib-fulvestrant group, as compared with 3.6 months in the placebo-fulvestrant group (hazard ratio for progression or death, 0.60; 95% confidence interval [CI], 0.51 to 0.71; P<0.001). In the AKT pathway-altered population, the median progression-free survival was 7.3 months in the capivasertib-fulvestrant group, as compared with 3.1 months in the placebo-fulvestrant group (hazard ratio, 0.50; 95% CI, 0.38 to 0.65; P<0.001). The most frequent adverse events of grade 3 or higher in patients receiving capivasertib-fulvestrant were rash (in 12.1% of patients, vs. in 0.3% of those receiving placebo-fulvestrant) and diarrhea (in 9.3% vs. 0.3%). Adverse events leading to discontinuation were reported in 13.0% of the patients receiving capivasertib and in 2.3% of those receiving placebo.[CONCLUSIONS]Capivasertib-fulvestrant therapy resulted in significantly longer progression-free survival than treatment with fulvestrant alone among patients with hormone receptor-positive advanced breast cancer whose disease had progressed during or after previous aromatase inhibitor therapy with or without a CDK4/6 inhibitor. (Funded by AstraZeneca and the National Cancer Institute; CAPItello-291 ClinicalTrials.gov number, NCT04305496.).'"
      ]
     },
     "execution_count": 19,
     "metadata": {},
     "output_type": "execute_result"
    }
   ],
   "source": [
    "text"
   ]
  },
  {
   "cell_type": "code",
   "execution_count": null,
   "id": "8116df02",
   "metadata": {},
   "outputs": [],
   "source": []
  }
 ],
 "metadata": {
  "kernelspec": {
   "display_name": "Python 3 (ipykernel)",
   "language": "python",
   "name": "python3"
  },
  "language_info": {
   "codemirror_mode": {
    "name": "ipython",
    "version": 3
   },
   "file_extension": ".py",
   "mimetype": "text/x-python",
   "name": "python",
   "nbconvert_exporter": "python",
   "pygments_lexer": "ipython3",
   "version": "3.9.12"
  }
 },
 "nbformat": 4,
 "nbformat_minor": 5
}
