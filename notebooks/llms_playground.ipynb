{
 "cells": [
  {
   "cell_type": "markdown",
   "id": "a0c49e88",
   "metadata": {},
   "source": [
    "# Table of contents\n",
    "\n"
   ]
  },
  {
   "cell_type": "markdown",
   "id": "b94c4ba3",
   "metadata": {},
   "source": [
    "* [Overview](#overview)\n",
    "* [Notes and links about LLMs](#notes)\n",
    "* [Imports](#imports)\n",
    "* [Gemini](#gemini)\n",
    "* [GPT](#gpt)\n",
    "    * [Set-up](#setup)\n",
    "    * [Use cases - Q/A and entity extraction](#usecases)\n",
    "    * [Ideas to reduce the cost per query](#cost)\n",
    "        * [Model alternatives](#models)\n",
    "    * [Testing some examples for drug and gene name extraction](#druggene)\n",
    "    * [Testing tiktoken to estimate token size](#tik)"
   ]
  },
  {
   "cell_type": "markdown",
   "id": "415b5046",
   "metadata": {},
   "source": [
    "# Overview<a id=\"overview\"></a>\n",
    "\n",
    "Purpose of this notebook is to try out different LLMs."
   ]
  },
  {
   "cell_type": "markdown",
   "id": "83ba8b8d",
   "metadata": {},
   "source": [
    "FREE:\n",
    "* Llama-2 [encoder-decoder]\n",
    "* BERT [encoder only]\n",
    "* Gemini [encoder-decoder]\n",
    "* T5 [encoder-decoder]\n",
    "\n",
    "PAID:\n",
    "GPT4 (OpenAI) [decoder only]"
   ]
  },
  {
   "cell_type": "markdown",
   "id": "d4b7a1c6",
   "metadata": {},
   "source": [
    "# Notes and links about LLMs<a id=\"notes\"></a>\n",
    "\n",
    "1. Gemini 1.0 [Google]\n",
    "    * is free to use: https://ai.google.dev/pricing\n",
    "    * Python package: https://pypi.org/project/google-generativeai/\n",
    "    * How to: https://ai.google.dev/tutorials/python_quickstart\n",
    "    * API key was obtained by going to Create API Key (New Project) - https://aistudio.google.com/app/apikey\n",
    "    * Free v 1.0 and allows 60 queries per minute. The prompts and responses are used to improve their products.\n",
    "    \n",
    "    \n",
    "2. OpenAI API\n",
    "    * Is not free but it doesn't require upgrading to Plus.\n",
    "    * You have to first purchase credits (\\\\$ 5 minimum) to use the API.\n",
    "    * Pricing for GPT4: https://openai.com/pricing#language-models\n",
    "    \n",
    "        Input: \\\\$0.03 / 1K tokens\n",
    "        \n",
    "        Output: \\\\$0.06 / 1K tokens\n",
    "        \n",
    "    * API ref: https://platform.openai.com/docs/api-reference\n",
    "    * Python quickstart: https://platform.openai.com/docs/quickstart?context=python\n",
    "    * How to / cookbook on formatting inputs. https://cookbook.openai.com/examples/how_to_format_inputs_to_chatgpt_models\n",
    "    * Model types and compatibility with endpoints - https://platform.openai.com/docs/models/model-endpoint-compatibility\n",
    "    * How to count tokens to get an estimate of cost: https://cookbook.openai.com/examples/how_to_format_inputs_to_chatgpt_models#4-counting-tokens\n",
    "    * Parameters that can be passed into the Chat Completions endpoint: https://platform.openai.com/docs/api-reference/chat/create\n",
    "    * https://cookbook.openai.com/examples/how_to_format_inputs_to_chatgpt_models#4-counting-tokens\n",
    "    * Tiktoken to estimate token size: https://cookbook.openai.com/examples/how_to_count_tokens_with_tiktoken\n",
    "    * Context window limits https://community.openai.com/t/what-does-context-window-mean-in-the-documentation/566158\n",
    "    * How to reduce cost https://www.reddit.com/r/OpenAI/comments/13scry1/how_to_reduce_your_openai_costs_by_up_to_30_3/\n",
    "    \n",
    "    \n",
    "3. Llama-2\n",
    "    * Free to use from Meta\n",
    "    * Getting started guide - https://ai.meta.com/blog/5-steps-to-getting-started-with-llama-2/#:~:text=Llama%202%20is%20available%20for%20free%20for%20research%20and%20commercial%20use.\n",
    "    * Does not have an API through Meta.\n",
    "    * Try Hugging Face https://huggingface.co/docs/transformers/v4.38.1/en/autoclass_tutorial\n",
    "\n",
    "4. Prompting\n",
    "    * https://www.promptingguide.ai/techniques/cot#zero-shot-cot-prompting\n",
    "    * https://community.openai.com/t/cheat-sheet-mastering-temperature-and-top-p-in-chatgpt-api/172683\n",
    "    * https://help.openai.com/en/articles/6654000-best-practices-for-prompt-engineering-with-the-openai-api\n",
    "    * https://cookbook.openai.com/articles/related_resources\n",
    "    * https://community.openai.com/t/convert-few-shot-example-to-api-code/325614\n",
    "    * https://cookbook.openai.com/examples/reproducible_outputs_with_the_seed_parameter"
   ]
  },
  {
   "cell_type": "markdown",
   "id": "27c915eb",
   "metadata": {},
   "source": [
    "# Imports<a id=\"imports\"></a>"
   ]
  },
  {
   "cell_type": "code",
   "execution_count": 1,
   "id": "ff0667ca",
   "metadata": {},
   "outputs": [],
   "source": [
    "from dotenv import load_dotenv\n",
    "import google.generativeai as genai\n",
    "import json\n",
    "from openai import OpenAI\n",
    "import os\n",
    "import pandas as pd\n",
    "from pathlib import Path\n",
    "import tiktoken\n",
    "import torch\n",
    "import transformers"
   ]
  },
  {
   "cell_type": "markdown",
   "id": "e72efb88",
   "metadata": {},
   "source": [
    "# Gemini<a id=\"gemini\"></a>"
   ]
  },
  {
   "cell_type": "markdown",
   "id": "158dd5e2",
   "metadata": {},
   "source": [
    "**Load environment variables.**"
   ]
  },
  {
   "cell_type": "code",
   "execution_count": 14,
   "id": "a0adae9c",
   "metadata": {},
   "outputs": [
    {
     "data": {
      "text/plain": [
       "True"
      ]
     },
     "execution_count": 14,
     "metadata": {},
     "output_type": "execute_result"
    }
   ],
   "source": [
    "load_dotenv(dotenv_path=dotenv_path)"
   ]
  },
  {
   "cell_type": "markdown",
   "id": "83ff664f",
   "metadata": {},
   "source": [
    "**Access environment variables.**"
   ]
  },
  {
   "cell_type": "code",
   "execution_count": 17,
   "id": "3df2b020",
   "metadata": {},
   "outputs": [],
   "source": [
    "api_key_gemini = os.environ['API_KEY_GEMINI']"
   ]
  },
  {
   "cell_type": "markdown",
   "id": "91eaa534",
   "metadata": {},
   "source": [
    "**Pass the key to the gemini API.**"
   ]
  },
  {
   "cell_type": "code",
   "execution_count": 18,
   "id": "e4e5c405",
   "metadata": {},
   "outputs": [],
   "source": [
    "genai.configure(api_key=api_key_gemini)"
   ]
  },
  {
   "cell_type": "code",
   "execution_count": 26,
   "id": "b40a2d60",
   "metadata": {},
   "outputs": [
    {
     "data": {
      "text/plain": [
       "generator"
      ]
     },
     "execution_count": 26,
     "metadata": {},
     "output_type": "execute_result"
    }
   ],
   "source": [
    "genai.list_models()  "
   ]
  },
  {
   "cell_type": "markdown",
   "id": "3e42844e",
   "metadata": {},
   "source": [
    "**This code from the Python tutorial - does not work and gives an AttributeError**\n",
    "https://ai.google.dev/tutorials/python_quickstart\n",
    "This should show a list of available models. This problem persists with other users too but it looks like it hasn't been solved. https://github.com/google/generative-ai-python/issues/145"
   ]
  },
  {
   "cell_type": "raw",
   "id": "1447c5ac",
   "metadata": {},
   "source": [
    "\n",
    "for m in genai.list_models():\n",
    "    if 'generateContent' in m.supported_generation_methods:\n",
    "        print(m.name)"
   ]
  },
  {
   "cell_type": "markdown",
   "id": "49f8cb9f",
   "metadata": {},
   "source": [
    "**Try some queries with Gemini-Pro**"
   ]
  },
  {
   "cell_type": "markdown",
   "id": "710dc4a6",
   "metadata": {},
   "source": [
    "Load the model."
   ]
  },
  {
   "cell_type": "code",
   "execution_count": 39,
   "id": "fa5979df",
   "metadata": {},
   "outputs": [],
   "source": [
    "model = genai.GenerativeModel('gemini-pro')"
   ]
  },
  {
   "cell_type": "code",
   "execution_count": 38,
   "id": "e032abd3",
   "metadata": {},
   "outputs": [],
   "source": [
    "response = model.generate_content('What is BRCA1?')"
   ]
  },
  {
   "cell_type": "code",
   "execution_count": 42,
   "id": "f5c90c34",
   "metadata": {},
   "outputs": [
    {
     "ename": "TypeError",
     "evalue": "argument of type 'Part' is not iterable",
     "output_type": "error",
     "traceback": [
      "\u001b[0;31m---------------------------------------------------------------------------\u001b[0m",
      "\u001b[0;31mTypeError\u001b[0m                                 Traceback (most recent call last)",
      "\u001b[0;32m/var/folders/dk/wfg559q158x290pwcj2w20dc0000gp/T/ipykernel_6681/2651009382.py\u001b[0m in \u001b[0;36m<module>\u001b[0;34m\u001b[0m\n\u001b[0;32m----> 1\u001b[0;31m \u001b[0mprint\u001b[0m\u001b[0;34m(\u001b[0m\u001b[0mresponse\u001b[0m\u001b[0;34m.\u001b[0m\u001b[0mtext\u001b[0m\u001b[0;34m)\u001b[0m\u001b[0;34m\u001b[0m\u001b[0;34m\u001b[0m\u001b[0m\n\u001b[0m",
      "\u001b[0;32m~/miniconda3/lib/python3.9/site-packages/google/generativeai/types/generation_types.py\u001b[0m in \u001b[0;36mtext\u001b[0;34m(self)\u001b[0m\n\u001b[1;32m    325\u001b[0m         \"\"\"\n\u001b[1;32m    326\u001b[0m         \u001b[0mparts\u001b[0m \u001b[0;34m=\u001b[0m \u001b[0mself\u001b[0m\u001b[0;34m.\u001b[0m\u001b[0mparts\u001b[0m\u001b[0;34m\u001b[0m\u001b[0;34m\u001b[0m\u001b[0m\n\u001b[0;32m--> 327\u001b[0;31m         \u001b[0;32mif\u001b[0m \u001b[0mlen\u001b[0m\u001b[0;34m(\u001b[0m\u001b[0mparts\u001b[0m\u001b[0;34m)\u001b[0m \u001b[0;34m!=\u001b[0m \u001b[0;36m1\u001b[0m \u001b[0;32mor\u001b[0m \u001b[0;34m\"text\"\u001b[0m \u001b[0;32mnot\u001b[0m \u001b[0;32min\u001b[0m \u001b[0mparts\u001b[0m\u001b[0;34m[\u001b[0m\u001b[0;36m0\u001b[0m\u001b[0;34m]\u001b[0m\u001b[0;34m:\u001b[0m\u001b[0;34m\u001b[0m\u001b[0;34m\u001b[0m\u001b[0m\n\u001b[0m\u001b[1;32m    328\u001b[0m             raise ValueError(\n\u001b[1;32m    329\u001b[0m                 \u001b[0;34m\"The `response.text` quick accessor only works for \"\u001b[0m\u001b[0;34m\u001b[0m\u001b[0;34m\u001b[0m\u001b[0m\n",
      "\u001b[0;31mTypeError\u001b[0m: argument of type 'Part' is not iterable"
     ]
    }
   ],
   "source": [
    "print(response.text)"
   ]
  },
  {
   "cell_type": "markdown",
   "id": "7d360a20",
   "metadata": {},
   "source": [
    "# GPT4<a id=\"gpt\"></a>"
   ]
  },
  {
   "cell_type": "markdown",
   "id": "b7551c62",
   "metadata": {},
   "source": [
    "## Set up the client.<a id=\"setup\"></a>"
   ]
  },
  {
   "cell_type": "markdown",
   "id": "400469b8",
   "metadata": {},
   "source": [
    "**Load API key.**"
   ]
  },
  {
   "cell_type": "code",
   "execution_count": 8,
   "id": "8d38fbd1",
   "metadata": {
    "scrolled": false
   },
   "outputs": [
    {
     "data": {
      "text/plain": [
       "True"
      ]
     },
     "execution_count": 8,
     "metadata": {},
     "output_type": "execute_result"
    }
   ],
   "source": [
    "load_dotenv(dotenv_path=openai_key_path)"
   ]
  },
  {
   "cell_type": "markdown",
   "id": "3bfba5d2",
   "metadata": {},
   "source": [
    "**Access the API key.**"
   ]
  },
  {
   "cell_type": "code",
   "execution_count": 9,
   "id": "f8687c46",
   "metadata": {},
   "outputs": [],
   "source": [
    "openai_api_key = os.environ['OPENAI_API_KEY']"
   ]
  },
  {
   "cell_type": "code",
   "execution_count": 10,
   "id": "6c2e1029",
   "metadata": {},
   "outputs": [],
   "source": [
    "client = OpenAI(api_key=openai_api_key)"
   ]
  },
  {
   "cell_type": "markdown",
   "id": "f2da53d4",
   "metadata": {},
   "source": [
    "**Use the chat completions endpoint.**\n",
    "\n",
    "First try with just the two required arguments.\n",
    "\n",
    "The messages input is basically a list of dictionaries, where each dictionary also shows where the instruction or content is coming from. \n",
    "In short: \n",
    "\n",
    "    * 'user' role means you as a user who is talking to the model\n",
    "    \n",
    "    * 'assistant' role means the GPT server\n",
    "    \n",
    "    * 'system' role means you can as a developer set instructions such as 'Frame the answer for a non-engineer'.\n",
    "    "
   ]
  },
  {
   "cell_type": "markdown",
   "id": "7b991d58",
   "metadata": {},
   "source": [
    "## Try a Q/A and a entity recognition use case.<a id=\"usecases\"></a>"
   ]
  },
  {
   "cell_type": "markdown",
   "id": "382ff86b",
   "metadata": {},
   "source": [
    "**USE CASE 1 - Q/A.**"
   ]
  },
  {
   "cell_type": "markdown",
   "id": "bcd7e222",
   "metadata": {},
   "source": [
    "**You can see that a slight change in the query can produce different results.**"
   ]
  },
  {
   "cell_type": "code",
   "execution_count": 67,
   "id": "f2007a52",
   "metadata": {},
   "outputs": [],
   "source": [
    "MODEL = \"gpt-4\"\n",
    "response = client.chat.completions.create(\n",
    "    model=MODEL,\n",
    "    messages=[\n",
    "        {\"role\": \"system\", \"content\": \"Provide explanation to a lay audience in JSON format.\"},\n",
    "        {\"role\": \"user\", \"content\": \"What is BRCA1?\"}\n",
    "    ]\n",
    ")\n"
   ]
  },
  {
   "cell_type": "code",
   "execution_count": 68,
   "id": "a36c2e6b",
   "metadata": {},
   "outputs": [
    {
     "data": {
      "text/plain": [
       "ChatCompletion(id='chatcmpl-8vqqmLFCoJSAcoEQxWHNVsLdX9Mgh', choices=[Choice(finish_reason='stop', index=0, logprobs=None, message=ChatCompletionMessage(content='{\\n  \"BRCA1\": {\\n    \"Definition\": \"BRCA1 is a gene that produces a protein responsible for repairing damaged DNA and maintaining the cell\\'s genetic stability.\",\\n    \"Significance\": \"Mutations or changes in this gene can lead to the development of hereditary breast and ovarian cancer. When functioning normally, this gene helps prevent uncontrolled cell growth. However, a mutation can lead to an increased risk of developing cancer.\",\\n    \"Testing\": \"Genetic tests are available to check for BRCA1 mutations. These tests are often recommended for individuals with a strong family history of breast or ovarian cancer.\"\\n  }\\n}', role='assistant', function_call=None, tool_calls=None))], created=1708798544, model='gpt-4-0613', object='chat.completion', system_fingerprint=None, usage=CompletionUsage(completion_tokens=128, prompt_tokens=27, total_tokens=155))"
      ]
     },
     "execution_count": 68,
     "metadata": {},
     "output_type": "execute_result"
    }
   ],
   "source": [
    "response"
   ]
  },
  {
   "cell_type": "code",
   "execution_count": 65,
   "id": "ca3d4c77",
   "metadata": {},
   "outputs": [],
   "source": [
    "MODEL = \"gpt-4\"\n",
    "response = client.chat.completions.create(\n",
    "    model=MODEL,\n",
    "    messages=[\n",
    "        {\"role\": \"system\", \"content\": \"Explain to a lay audience.\"},\n",
    "        {\"role\": \"user\", \"content\": \"What is BRCA1?\"}\n",
    "    ]\n",
    ")\n"
   ]
  },
  {
   "cell_type": "code",
   "execution_count": 66,
   "id": "2ccd7399",
   "metadata": {},
   "outputs": [
    {
     "data": {
      "text/plain": [
       "ChatCompletion(id='chatcmpl-8vqnbzu6mE7CIFprnlx6qGbHe5waT', choices=[Choice(finish_reason='stop', index=0, logprobs=None, message=ChatCompletionMessage(content=\"BRCA1 is a gene that everyone has in their cells. This gene plays an important role in repairing damaged DNA and keeping our cells' genetic material stable. When this gene works properly, it helps prevent uncontrolled cell growth that could otherwise lead to cancer.\\n\\nHowever, some people carry changes or mutations in the BRCA1 gene that they inherited from their parents. These changes can prevent the gene from working properly, which increases the risk of breast and ovarian cancer, and to a lesser extent, other types of cancer.\\n\\nTesting for these gene changes is sometimes recommended for people with a strong family history of breast or ovarian cancer. If an individual knows they carry a mutated BRCA1 gene, they can make certain decisions about preventative measures, early detection and treatment options.\", role='assistant', function_call=None, tool_calls=None))], created=1708798347, model='gpt-4-0613', object='chat.completion', system_fingerprint=None, usage=CompletionUsage(completion_tokens=153, prompt_tokens=24, total_tokens=177))"
      ]
     },
     "execution_count": 66,
     "metadata": {},
     "output_type": "execute_result"
    }
   ],
   "source": [
    "response"
   ]
  },
  {
   "cell_type": "markdown",
   "id": "70a83538",
   "metadata": {},
   "source": [
    "**USE CASE 2 - EXTRACT ENTITIES FROM GIVEN INFORMATION.**"
   ]
  },
  {
   "cell_type": "code",
   "execution_count": 8,
   "id": "49253151",
   "metadata": {},
   "outputs": [],
   "source": [
    "MODEL = \"gpt-4\"\n",
    "response = client.chat.completions.create(\n",
    "    model=MODEL,\n",
    "    messages=[\n",
    "        {\"role\": \"user\", \"content\": \"\"\"Extract the target gene name and associated drug names from a chunk of text:\n",
    "        In this phase 1 study, patients with ALK-positive stage III or IV NSCLC received oral crizotinib 250 mg twice daily in 28-day cycles. \n",
    "        Endpoints included tumour responses, duration of response, time to tumour response, progression-free survival (PFS), overall survival at 6 and 12 months, and determination of the safety and tolerability and characterisation of the plasma pharmacokinetic profile of crizotinib after oral administration. \n",
    "        Responses were analysed in evaluable patients and PFS and safety were analysed in all patients. \n",
    "        This study is registered with ClinicalTrials.gov, number NCT00585195.\n",
    "        \"\"\"}\n",
    "    ]\n",
    ")\n"
   ]
  },
  {
   "cell_type": "code",
   "execution_count": 9,
   "id": "51232c90",
   "metadata": {},
   "outputs": [
    {
     "data": {
      "text/plain": [
       "ChatCompletion(id='chatcmpl-8wXyu0JFHegsYnSMhXuBgfGUlrmVQ', choices=[Choice(finish_reason='stop', index=0, logprobs=None, message=ChatCompletionMessage(content='Target Gene Name: ALK \\n\\nAssociated Drug Names: Crizotinib', role='assistant', function_call=None, tool_calls=None))], created=1708964340, model='gpt-4-0613', object='chat.completion', system_fingerprint=None, usage=CompletionUsage(completion_tokens=16, prompt_tokens=164, total_tokens=180))"
      ]
     },
     "execution_count": 9,
     "metadata": {},
     "output_type": "execute_result"
    }
   ],
   "source": [
    "response"
   ]
  },
  {
   "cell_type": "code",
   "execution_count": 10,
   "id": "bb82a2e4",
   "metadata": {},
   "outputs": [],
   "source": [
    "MODEL = \"gpt-4\"\n",
    "response = client.chat.completions.create(\n",
    "    model=MODEL,\n",
    "    messages=[\n",
    "        {\"role\": \"user\", \"content\": \"\"\"Extract the target gene name and associated drug names from a chunk of text:\n",
    "        In this phase 1 study, patients with ALK-positive stage III or IV NSCLC received oral crizotinib 250 mg twice daily in 28-day cycles. \n",
    "        Endpoints included tumour responses, duration of response, time to tumour response, progression-free survival (PFS), overall survival at 6 and 12 months, and determination of the safety and tolerability and characterisation of the plasma pharmacokinetic profile of crizotinib after oral administration. \n",
    "        Responses were analysed in evaluable patients and PFS and safety were analysed in all patients. \n",
    "        This study is registered with ClinicalTrials.gov, number NCT00585195.\n",
    "        \"\"\"},\n",
    "        {\"role\":\"system\",\"content\":\"Try to also extract any aliases for gene or drug names from any external links to other databases provided in the text.\"}\n",
    "    ]\n",
    ")"
   ]
  },
  {
   "cell_type": "code",
   "execution_count": 11,
   "id": "a08db6fc",
   "metadata": {},
   "outputs": [
    {
     "data": {
      "text/plain": [
       "ChatCompletion(id='chatcmpl-8wY80Uwnsruad1FSr3QpcTPSbbd1R', choices=[Choice(finish_reason='stop', index=0, logprobs=None, message=ChatCompletionMessage(content='The text does not provide information about any external links to other databases for gene or drug names. Please provide the text that contains these details.', role='assistant', function_call=None, tool_calls=None))], created=1708964904, model='gpt-4-0613', object='chat.completion', system_fingerprint=None, usage=CompletionUsage(completion_tokens=28, prompt_tokens=191, total_tokens=219))"
      ]
     },
     "execution_count": 11,
     "metadata": {},
     "output_type": "execute_result"
    }
   ],
   "source": [
    "response"
   ]
  },
  {
   "cell_type": "code",
   "execution_count": 12,
   "id": "bcdfedf8",
   "metadata": {},
   "outputs": [],
   "source": [
    "MODEL = \"gpt-4\"\n",
    "response = client.chat.completions.create(\n",
    "    model=MODEL,\n",
    "    messages=[\n",
    "        {\"role\": \"user\", \"content\": \"\"\"Extract the target gene name and associated drug names from a chunk of text:\n",
    "        In this phase 1 study, patients with ALK-positive stage III or IV NSCLC received oral crizotinib 250 mg twice daily in 28-day cycles. \n",
    "        Endpoints included tumour responses, duration of response, time to tumour response, progression-free survival (PFS), overall survival at 6 and 12 months, and determination of the safety and tolerability and characterisation of the plasma pharmacokinetic profile of crizotinib after oral administration. \n",
    "        Responses were analysed in evaluable patients and PFS and safety were analysed in all patients. \n",
    "        This study is registered with ClinicalTrials.gov, number NCT00585195.\n",
    "        \"\"\"},\n",
    "        {\"role\":\"system\",\"content\":\"Extract details if any of the following database ids are provided: Clinical trials, PubChem, Entrez or similar.\"}\n",
    "    ]\n",
    ")"
   ]
  },
  {
   "cell_type": "code",
   "execution_count": 13,
   "id": "65022359",
   "metadata": {},
   "outputs": [
    {
     "data": {
      "text/plain": [
       "ChatCompletion(id='chatcmpl-8wYA7dq8MRbcDKGgaK2qHi7d1RNPE', choices=[Choice(finish_reason='stop', index=0, logprobs=None, message=ChatCompletionMessage(content='The text does not provide database ids for Clinical trials, PubChem, Entrez or similar.', role='assistant', function_call=None, tool_calls=None))], created=1708965035, model='gpt-4-0613', object='chat.completion', system_fingerprint=None, usage=CompletionUsage(completion_tokens=19, prompt_tokens=191, total_tokens=210))"
      ]
     },
     "execution_count": 13,
     "metadata": {},
     "output_type": "execute_result"
    }
   ],
   "source": [
    "response"
   ]
  },
  {
   "cell_type": "code",
   "execution_count": 14,
   "id": "54887af9",
   "metadata": {},
   "outputs": [],
   "source": [
    "MODEL = \"gpt-4\"\n",
    "response = client.chat.completions.create(\n",
    "    model=MODEL,\n",
    "    messages=[\n",
    "        {\"role\": \"user\", \"content\": \"\"\"Extract the target gene name and associated drug names from a chunk of text:\n",
    "        In this phase 1 study, patients with ALK-positive stage III or IV NSCLC received oral crizotinib 250 mg twice daily in 28-day cycles. \n",
    "        Endpoints included tumour responses, duration of response, time to tumour response, progression-free survival (PFS), overall survival at 6 and 12 months, and determination of the safety and tolerability and characterisation of the plasma pharmacokinetic profile of crizotinib after oral administration. \n",
    "        Responses were analysed in evaluable patients and PFS and safety were analysed in all patients. \n",
    "        This study is registered with ClinicalTrials.gov, number NCT00585195.\n",
    "        \"\"\"},\n",
    "        {\"role\":\"system\",\"content\":\"If ClinicalTrials.gov id or a number starting with NCT is given, extract the title of the study.\"}\n",
    "    ]\n",
    ")"
   ]
  },
  {
   "cell_type": "code",
   "execution_count": 15,
   "id": "546101aa",
   "metadata": {},
   "outputs": [
    {
     "data": {
      "text/plain": [
       "ChatCompletion(id='chatcmpl-8wYBQttEtHrUrQgz3gUNs8c6PE0EG', choices=[Choice(finish_reason='stop', index=0, logprobs=None, message=ChatCompletionMessage(content='The target gene name is \"ALK\". The associated drug name is \"crizotinib\".', role='assistant', function_call=None, tool_calls=None))], created=1708965116, model='gpt-4-0613', object='chat.completion', system_fingerprint=None, usage=CompletionUsage(completion_tokens=20, prompt_tokens=191, total_tokens=211))"
      ]
     },
     "execution_count": 15,
     "metadata": {},
     "output_type": "execute_result"
    }
   ],
   "source": [
    "response"
   ]
  },
  {
   "cell_type": "markdown",
   "id": "79e7070c",
   "metadata": {},
   "source": [
    "**Looks like it's not good to have 2 sets of instructions coming from the user vs the system. The system instructions will override the user instructions.**"
   ]
  },
  {
   "cell_type": "code",
   "execution_count": 16,
   "id": "9f0b8094",
   "metadata": {},
   "outputs": [],
   "source": [
    "MODEL = \"gpt-4\"\n",
    "response = client.chat.completions.create(\n",
    "    model=MODEL,\n",
    "    messages=[\n",
    "        {\"role\": \"user\", \"content\": \"\"\"Extract the target gene name and associated drug names from a chunk of text:\n",
    "        In this phase 1 study, patients with ALK-positive stage III or IV NSCLC received oral crizotinib 250 mg twice daily in 28-day cycles. \n",
    "        Endpoints included tumour responses, duration of response, time to tumour response, progression-free survival (PFS), overall survival at 6 and 12 months, and determination of the safety and tolerability and characterisation of the plasma pharmacokinetic profile of crizotinib after oral administration. \n",
    "        Responses were analysed in evaluable patients and PFS and safety were analysed in all patients. \n",
    "        This study is registered with ClinicalTrials.gov, number NCT00585195.\n",
    "        \"\"\"},\n",
    "        {\"role\":\"system\",\"content\":\"Extract ClinicalTrials.gov number.\"}\n",
    "    ]\n",
    ")"
   ]
  },
  {
   "cell_type": "code",
   "execution_count": 17,
   "id": "fab315af",
   "metadata": {},
   "outputs": [
    {
     "data": {
      "text/plain": [
       "ChatCompletion(id='chatcmpl-8wYCITXZRp7j1KllxerKfpTb9pOUx', choices=[Choice(finish_reason='stop', index=0, logprobs=None, message=ChatCompletionMessage(content='NCT00585195', role='assistant', function_call=None, tool_calls=None))], created=1708965170, model='gpt-4-0613', object='chat.completion', system_fingerprint=None, usage=CompletionUsage(completion_tokens=5, prompt_tokens=175, total_tokens=180))"
      ]
     },
     "execution_count": 17,
     "metadata": {},
     "output_type": "execute_result"
    }
   ],
   "source": [
    "response"
   ]
  },
  {
   "cell_type": "markdown",
   "id": "2b212a49",
   "metadata": {},
   "source": [
    "**Put all instructions as system.**\n",
    "This seems to have worked better."
   ]
  },
  {
   "cell_type": "code",
   "execution_count": 20,
   "id": "a64fde4b",
   "metadata": {},
   "outputs": [],
   "source": [
    "MODEL = \"gpt-4\"\n",
    "response = client.chat.completions.create(\n",
    "    model=MODEL,\n",
    "    messages=[\n",
    "        {\"role\": \"user\", \"content\": \"\"\"\n",
    "        In this phase 1 study, patients with ALK-positive stage III or IV NSCLC received oral crizotinib 250 mg twice daily in 28-day cycles. \n",
    "        Endpoints included tumour responses, duration of response, time to tumour response, progression-free survival (PFS), overall survival at 6 and 12 months, and determination of the safety and tolerability and characterisation of the plasma pharmacokinetic profile of crizotinib after oral administration. \n",
    "        Responses were analysed in evaluable patients and PFS and safety were analysed in all patients. \n",
    "        This study is registered with ClinicalTrials.gov, number NCT00585195.\n",
    "        \"\"\"},\n",
    "        {\"role\":\"system\",\"content\":\"Extract the target gene name, associated drug names, and ClinicalTrials.gov number.\"}\n",
    "    ]\n",
    ")"
   ]
  },
  {
   "cell_type": "code",
   "execution_count": 19,
   "id": "807d99b4",
   "metadata": {},
   "outputs": [
    {
     "data": {
      "text/plain": [
       "ChatCompletion(id='chatcmpl-8wYEbRAu9nGXArcK5FlJXNi4o8W4O', choices=[Choice(finish_reason='stop', index=0, logprobs=None, message=ChatCompletionMessage(content='Target Gene Name: ALK\\nAssociated Drug Names: Crizotinib\\nClinicalTrials.gov number: NCT00585195', role='assistant', function_call=None, tool_calls=None))], created=1708965313, model='gpt-4-0613', object='chat.completion', system_fingerprint=None, usage=CompletionUsage(completion_tokens=28, prompt_tokens=171, total_tokens=199))"
      ]
     },
     "execution_count": 19,
     "metadata": {},
     "output_type": "execute_result"
    }
   ],
   "source": [
    "response"
   ]
  },
  {
   "cell_type": "markdown",
   "id": "25c1827d",
   "metadata": {},
   "source": [
    "## Ideas to reduce the cost per query.<a id=\"cost\"></a>"
   ]
  },
  {
   "cell_type": "markdown",
   "id": "8e75575c",
   "metadata": {},
   "source": [
    "1. Calculate the length of different text queries and see how many tokens they would be. Even an estimate will give an idea about whether it will be feasible to use GPT 3.5 and reduce the cost. The context window should be able to take in the whole input text along with the role and content key-values.\n",
    "\n",
    "2. If step 1 confirms that the longest text query in the dataset can fit in the context window for GPT-4 and GPT-3.5, then test if GPT-3.5 gives the same quality of response as GPT-4. \n",
    "\n",
    "3. Perform a cleaning step on the text from the dataset before it goes into a prompt - remove extra spaces, trailing spaces and the last period. This small step can reduce the total number of tokens."
   ]
  },
  {
   "cell_type": "markdown",
   "id": "abb5ed63",
   "metadata": {},
   "source": [
    "### Model alternatives - shortlist acceptable models based on context window size, cost, and use case.<a id=\"models\"></a>"
   ]
  },
  {
   "cell_type": "markdown",
   "id": "7b69a641",
   "metadata": {},
   "source": [
    "1. gpt-3.5-turbo-0125\n",
    "    * 16,385 tokens\n",
    "    * But training data only upto Sep 2021\n",
    "    * Input - \\$0.0005 / 1K tokens\n",
    "    * Output - \\$0.0015 / 1K tokens\n",
    "    * you can set response_format to { \"type\": \"json_object\" } to enable JSON mode.\n",
    "\n",
    "\n",
    "2. gpt-4\n",
    "    * Currently points to gpt-4-0613.\n",
    "    * 8,192 tokens\n",
    "    * Up to Sep 2021\n",
    "    * Input - \\$0.03 / 1K tokens\n",
    "    * Output - \\$0.06 / 1K tokens\n",
    "    \n",
    "\n",
    "3. gpt-4-turbo-preview\n",
    "    * New\n",
    "    * 128,000 tokens\n",
    "    * Up to Dec 2023\n",
    "    * Input - \\$0.01 / 1K tokens\n",
    "    * Output - \\$0.03 / 1K tokens\n",
    "    * you can set response_format to { \"type\": \"json_object\" } to enable JSON mode."
   ]
  },
  {
   "cell_type": "markdown",
   "id": "eb499ef6",
   "metadata": {},
   "source": [
    "#### Test if these 3 models give the same response quality."
   ]
  },
  {
   "cell_type": "markdown",
   "id": "708d8482",
   "metadata": {},
   "source": [
    "This is the model we've used so far: "
   ]
  },
  {
   "cell_type": "code",
   "execution_count": 21,
   "id": "a771720c",
   "metadata": {},
   "outputs": [],
   "source": [
    "MODEL = \"gpt-4\"\n",
    "response = client.chat.completions.create(\n",
    "    model=MODEL,\n",
    "    messages=[\n",
    "        {\"role\": \"user\", \"content\": \"\"\"\n",
    "        In this phase 1 study, patients with ALK-positive stage III or IV NSCLC received oral crizotinib 250 mg twice daily in 28-day cycles. \n",
    "        Endpoints included tumour responses, duration of response, time to tumour response, progression-free survival (PFS), overall survival at 6 and 12 months, and determination of the safety and tolerability and characterisation of the plasma pharmacokinetic profile of crizotinib after oral administration. \n",
    "        Responses were analysed in evaluable patients and PFS and safety were analysed in all patients. \n",
    "        This study is registered with ClinicalTrials.gov, number NCT00585195.\n",
    "        \"\"\"},\n",
    "        {\"role\":\"system\",\"content\":\"Extract the target gene name, associated drug names, and ClinicalTrials.gov number.\"}\n",
    "    ]\n",
    ")"
   ]
  },
  {
   "cell_type": "code",
   "execution_count": 22,
   "id": "c2257f0e",
   "metadata": {},
   "outputs": [
    {
     "data": {
      "text/plain": [
       "ChatCompletion(id='chatcmpl-8wZ4ANHsg2yXIrK1GeXF2aRXcDpPA', choices=[Choice(finish_reason='stop', index=0, logprobs=None, message=ChatCompletionMessage(content='Target gene name: ALK\\nAssociated drug names: Crizotinib\\nClinicalTrials.gov number: NCT00585195', role='assistant', function_call=None, tool_calls=None))], created=1708968510, model='gpt-4-0613', object='chat.completion', system_fingerprint=None, usage=CompletionUsage(completion_tokens=28, prompt_tokens=171, total_tokens=199))"
      ]
     },
     "execution_count": 22,
     "metadata": {},
     "output_type": "execute_result"
    }
   ],
   "source": [
    "response"
   ]
  },
  {
   "cell_type": "markdown",
   "id": "becf9403",
   "metadata": {},
   "source": [
    "Test these 2 models - the first one is more expensive but most updated and the last one is lease expensive but less updated compared to the first one."
   ]
  },
  {
   "cell_type": "markdown",
   "id": "84e1da22",
   "metadata": {},
   "source": [
    "**Conclusion - GPT-4-turbo-preview is more accurate compared to the cheaper gpt-3.5. GPT-4-turbo-preview produces the same output as GPT-4 and is less expensive than GPT-4.**"
   ]
  },
  {
   "cell_type": "code",
   "execution_count": 26,
   "id": "212d78ae",
   "metadata": {},
   "outputs": [
    {
     "name": "stdout",
     "output_type": "stream",
     "text": [
      "ChatCompletion(id='chatcmpl-8wZ9kPCdHjS0SIdLUSv9ZQpFK4O23', choices=[Choice(finish_reason='stop', index=0, logprobs=None, message=ChatCompletionMessage(content='{\\n  \"target_gene\": \"ALK\",\\n  \"associated_drug_names\": [\"crizotinib\"],\\n  \"ClinicalTrials.gov_number\": \"NCT00585195\"\\n}', role='assistant', function_call=None, tool_calls=None))], created=1708968856, model='gpt-4-0125-preview', object='chat.completion', system_fingerprint='fp_91aa3742b1', usage=CompletionUsage(completion_tokens=39, prompt_tokens=174, total_tokens=213))\n",
      "ChatCompletion(id='chatcmpl-8wZ9mw6TGouFg8MuIl1D1P5P5Xz1t', choices=[Choice(finish_reason='stop', index=0, logprobs=None, message=ChatCompletionMessage(content='{\\n  \"target_gene\": \"ALK-positive\",\\n  \"drug_name\": \"crizotinib\",\\n  \"ClinicalTrials.gov_number\": \"NCT00585195\"\\n}', role='assistant', function_call=None, tool_calls=None))], created=1708968858, model='gpt-3.5-turbo-0125', object='chat.completion', system_fingerprint='fp_86156a94a0', usage=CompletionUsage(completion_tokens=38, prompt_tokens=174, total_tokens=212))\n"
     ]
    }
   ],
   "source": [
    "models_to_test = ['gpt-4-turbo-preview', 'gpt-3.5-turbo-0125']\n",
    "# models_to_test = ['gpt-3.5-turbo-0125']\n",
    "\n",
    "# Here we can add an additional argument for JSON format.\n",
    "\n",
    "for MODEL in models_to_test:\n",
    "    \n",
    "    response = client.chat.completions.create(\n",
    "        model=MODEL,\n",
    "        response_format={ \"type\": \"json_object\" },\n",
    "        messages=[\n",
    "            {\"role\": \"user\", \"content\": \"\"\"\n",
    "            In this phase 1 study, patients with ALK-positive stage III or IV NSCLC received oral crizotinib 250 mg twice daily in 28-day cycles. \n",
    "            Endpoints included tumour responses, duration of response, time to tumour response, progression-free survival (PFS), overall survival at 6 and 12 months, and determination of the safety and tolerability and characterisation of the plasma pharmacokinetic profile of crizotinib after oral administration. \n",
    "            Responses were analysed in evaluable patients and PFS and safety were analysed in all patients. \n",
    "            This study is registered with ClinicalTrials.gov, number NCT00585195.\n",
    "            \"\"\"},\n",
    "            {\"role\":\"system\",\"content\":\"Extract the target gene name, associated drug names, and ClinicalTrials.gov number and give JSON.\"}\n",
    "        ]\n",
    "    )\n",
    "    \n",
    "    print(response)"
   ]
  },
  {
   "cell_type": "markdown",
   "id": "3504b30e",
   "metadata": {},
   "source": [
    "## Testing some more use cases for entity extraction - gene name and drug names<a id=\"druggene\"></a>"
   ]
  },
  {
   "cell_type": "markdown",
   "id": "00edef03",
   "metadata": {},
   "source": [
    "First, create a messages variable to swap out different abstract examples and system level instructions."
   ]
  },
  {
   "cell_type": "code",
   "execution_count": 45,
   "id": "4ad8a4b0",
   "metadata": {},
   "outputs": [],
   "source": [
    "MODEL = 'gpt-4-turbo-preview'\n",
    "\n",
    "messages = [{\"role\": \"user\", \"content\": \"\"\"\"\"\"},\n",
    "            {'role': 'system',\"content\": \"\"\"\"\"\"}]"
   ]
  },
  {
   "cell_type": "code",
   "execution_count": 53,
   "id": "ee273974",
   "metadata": {},
   "outputs": [],
   "source": [
    "user_content = [\"\"\"\n",
    "In this phase 1 study, patients with ALK-positive stage III or IV NSCLC received oral crizotinib 250 mg twice daily in 28-day cycles.\n",
    "Endpoints included tumour responses, duration of response, time to tumour response, progression-free survival (PFS), overall survival at 6 and 12 months, and determination of the safety and tolerability and characterisation of the plasma pharmacokinetic profile of crizotinib after oral administration. \n",
    "Responses were analysed in evaluable patients and PFS and safety were analysed in all patients. \n",
    "This study is registered with ClinicalTrials.gov, number NCT00585195.\n",
    "\"\"\",\n",
    "\"\"\"\n",
    "Conventional chemotherapeutic drugs such as doxorubicin (DOX) are associated with severe adverse effects such as cardiac, hepatic, and gastrointestinal (GI) toxicities. Excessive production of reactive oxygen species (ROS) was reported to be one of the main mechanisms underlying these severe adverse effects. Recently, we have developed 2 types of novel redox nanoparticles (RNPs) including pH-sensitive redox nanoparticle (RNP(N)) and pH-insensitive redox nanoparticle (RNP(O)), which effectively scavenge overproduced ROS in inflamed and cancerous tissues. In this study, we investigated the effects of these RNPs on DOX-induced adverse effects during cancer chemotherapy. The DOX-induced body weight loss was significantly attenuated in the mice treated with RNPs, particularly pH-insensitive RNP(O). We also found that cardiac ROS levels in the DOX-treated mice were dramatically decreased by treatment with RNPs, resulting in the reversal of cardiac damage, as confirmed by both plasma cardiac biomarkers and histological analysis. It was interesting to notice that, during cotreatment with DOX and RNPs, the DOX uptake was significantly enhanced in the cancer cells, but not in healthy aortic endothelial cells in vitro. Treatment with RNPs also improved anticancer efficacy of DOX in the colitis-associated colon cancer model mice in vivo. On the basis of these results, a combination of the novel antioxidative nanotherapeutics (RNPs) with conventional anticancer drugs seems to be a robust strategy for well-tolerated anticancer therapy.\n",
    "\"\"\",\n",
    "\"\"\"\n",
    "Background: Sotorasib showed anticancer activity in patients with KRAS p.G12C-mutated advanced solid tumors in a phase 1 study, and particularly promising anticancer activity was observed in a subgroup of patients with non-small-cell lung cancer (NSCLC).\n",
    "Methods: In a single-group, phase 2 trial, we investigated the activity of sotorasib, administered orally at a dose of 960 mg once daily, in patients with KRAS p.G12C-mutated advanced NSCLC previously treated with standard therapies. The primary end point was objective response (complete or partial response) according to independent central review. Key secondary end points included duration of response, disease control (defined as complete response, partial response, or stable disease), progression-free survival, overall survival, and safety. Exploratory biomarkers were evaluated for their association with response to sotorasib therapy.\n",
    "Results: Among the 126 enrolled patients, the majority (81.0%) had previously received both platinum-based chemotherapy and inhibitors of programmed death 1 (PD-1) or programmed death ligand 1 (PD-L1). According to central review, 124 patients had measurable disease at baseline and were evaluated for response. An objective response was observed in 46 patients (37.1%; 95% confidence interval [CI], 28.6 to 46.2), including in 4 (3.2%) who had a complete response and in 42 (33.9%) who had a partial response. The median duration of response was 11.1 months (95% CI, 6.9 to could not be evaluated). Disease control occurred in 100 patients (80.6%; 95% CI, 72.6 to 87.2). The median progression-free survival was 6.8 months (95% CI, 5.1 to 8.2), and the median overall survival was 12.5 months (95% CI, 10.0 to could not be evaluated). Treatment-related adverse events occurred in 88 of 126 patients (69.8%), including grade 3 events in 25 patients (19.8%) and a grade 4 event in 1 (0.8%). Responses were observed in subgroups defined according to PD-L1 expression, tumor mutational burden, and co-occurring mutations in STK11, KEAP1, or TP53.\n",
    "\"\"\",\n",
    "\n",
    "\"\"\"\n",
    "Background: KRAS G12C is a mutation that occurs in approximately 3 to 4% of patients with metastatic colorectal cancer. Monotherapy with KRAS G12C inhibitors has yielded only modest efficacy. Combining the KRAS G12C inhibitor sotorasib with panitumumab, an epidermal growth factor receptor (EGFR) inhibitor, may be an effective strategy.\n",
    "Methods: In this phase 3, multicenter, open-label, randomized trial, we assigned patients with chemorefractory metastatic colorectal cancer with mutated KRAS G12C who had not received previous treatment with a KRAS G12C inhibitor to receive sotorasib at a dose of 960 mg once daily plus panitumumab (53 patients), sotorasib at a dose of 240 mg once daily plus panitumumab (53 patients), or the investigator's choice of trifluridine-tipiracil or regorafenib (standard care; 54 patients). The primary end point was progression-free survival as assessed by blinded independent central review according to the Response Evaluation Criteria in Solid Tumors, version 1.1. Key secondary end points were overall survival and objective response.\n",
    "Results: After a median follow-up of 7.8 months (range, 0.1 to 13.9), the median progression-free survival was 5.6 months (95% confidence interval [CI], 4.2 to 6.3) and 3.9 months (95% CI, 3.7 to 5.8) in the 960-mg sotorasib-panitumumab and 240-mg sotorasib-panitumumab groups, respectively, as compared with 2.2 months (95% CI, 1.9 to 3.9) in the standard-care group. The hazard ratio for disease progression or death in the 960-mg sotorasib-panitumumab group as compared with the standard-care group was 0.49 (95% CI, 0.30 to 0.80; P = 0.006), and the hazard ratio in the 240-mg sotorasib-panitumumab group was 0.58 (95% CI, 0.36 to 0.93; P = 0.03). Overall survival data are maturing. The objective response was 26.4% (95% CI, 15.3 to 40.3), 5.7% (95% CI, 1.2 to 15.7), and 0% (95% CI, 0.0 to 6.6) in the 960-mg sotorasib-panitumumab, 240-mg sotorasib-panitumumab, and standard-care groups, respectively. Treatment-related adverse events of grade 3 or higher occurred in 35.8%, 30.2%, and 43.1% of patients, respectively. Skin-related toxic effects and hypomagnesemia were the most common adverse events observed with sotorasib-panitumumab.\n",
    "Conclusions: In this phase 3 trial of a KRAS G12C inhibitor plus an EGFR inhibitor in patients with chemorefractory metastatic colorectal cancer, both doses of sotorasib in combination with panitumumab resulted in longer progression-free survival than standard treatment. Toxic effects were as expected for either agent alone and resulted in few discontinuations of treatment. (Funded by Amgen; CodeBreaK 300 ClinicalTrials.gov number, NCT05198934.).\n",
    "\"\"\"\n",
    "]"
   ]
  },
  {
   "cell_type": "code",
   "execution_count": 54,
   "id": "557f62e5",
   "metadata": {},
   "outputs": [],
   "source": [
    "system_content = [\"\"\"\n",
    "Extract the target gene name, associated drug names, and ClinicalTrials.gov number and give JSON.\n",
    "\"\"\"]"
   ]
  },
  {
   "cell_type": "code",
   "execution_count": 55,
   "id": "e290ce6f",
   "metadata": {
    "scrolled": false
   },
   "outputs": [
    {
     "name": "stdout",
     "output_type": "stream",
     "text": [
      "----RESULT---- ChatCompletion(id='chatcmpl-8wadqdx5J8ZLVT8EM27zqROfaHvIL', choices=[Choice(finish_reason='stop', index=0, logprobs=None, message=ChatCompletionMessage(content='{\\n  \"target_gene\": \"ALK\",\\n  \"associated_drug_names\": [\"crizotinib\"],\\n  \"ClinicalTrials.gov_number\": \"NCT00585195\"\\n}', role='assistant', function_call=None, tool_calls=None))], created=1708974566, model='gpt-4-0125-preview', object='chat.completion', system_fingerprint='fp_89b1a570e1', usage=CompletionUsage(completion_tokens=39, prompt_tokens=168, total_tokens=207))\n",
      "----RESULT---- ChatCompletion(id='chatcmpl-8wadtC7gTMDxkBKgAlQM6UJEcd6Ui', choices=[Choice(finish_reason='stop', index=0, logprobs=None, message=ChatCompletionMessage(content='\\n{\\n  \"target_gene_name\": null,\\n  \"associated_drug_names\": [\"doxorubicin (DOX)\"],\\n  \"ClinicalTrials.gov_number\": null\\n}', role='assistant', function_call=None, tool_calls=None))], created=1708974569, model='gpt-4-0125-preview', object='chat.completion', system_fingerprint='fp_89b1a570e1', usage=CompletionUsage(completion_tokens=38, prompt_tokens=352, total_tokens=390))\n",
      "----RESULT---- ChatCompletion(id='chatcmpl-8wadxT90RZWUB6tNsTJviV5iVpv9a', choices=[Choice(finish_reason='stop', index=0, logprobs=None, message=ChatCompletionMessage(content='{\\n  \"target_gene\": \"KRAS p.G12C\",\\n  \"associated_drug\": \"Sotorasib\",\\n  \"ClinicalTrials.gov_number\": null\\n}', role='assistant', function_call=None, tool_calls=None))], created=1708974573, model='gpt-4-0125-preview', object='chat.completion', system_fingerprint='fp_89b1a570e1', usage=CompletionUsage(completion_tokens=37, prompt_tokens=532, total_tokens=569))\n",
      "----RESULT---- ChatCompletion(id='chatcmpl-8wae0OXlsT5BndFjKltijDecDHW2r', choices=[Choice(finish_reason='stop', index=0, logprobs=None, message=ChatCompletionMessage(content='{\\n  \"target_gene\": \"KRAS G12C\",\\n  \"associated_drug_names\": [\\n    \"sotorasib\",\\n    \"panitumumab\",\\n    \"trifluridine-tipiracil\",\\n    \"regorafenib\"\\n  ],\\n  \"ClinicalTrials.gov_number\": \"NCT05198934\"\\n}', role='assistant', function_call=None, tool_calls=None))], created=1708974576, model='gpt-4-0125-preview', object='chat.completion', system_fingerprint='fp_89b1a570e1', usage=CompletionUsage(completion_tokens=72, prompt_tokens=808, total_tokens=880))\n"
     ]
    }
   ],
   "source": [
    "for user_text in user_content:\n",
    "    messages[0]['content'] = user_text\n",
    "    messages[1]['content'] = system_content[0]\n",
    "    \n",
    "    response = client.chat.completions.create(\n",
    "        model=MODEL,\n",
    "        response_format={ \"type\": \"json_object\" },\n",
    "        messages=messages\n",
    "    )\n",
    "    print(f'''----RESULT---- {response}''')"
   ]
  },
  {
   "cell_type": "markdown",
   "id": "7a3f79c0",
   "metadata": {},
   "source": [
    "## Test use cases to see if any drug-target interaction type can also be extracted from the abstract"
   ]
  },
  {
   "cell_type": "code",
   "execution_count": 3,
   "id": "7cf98bf4",
   "metadata": {},
   "outputs": [],
   "source": [
    "MODEL = 'gpt-4-turbo-preview'\n",
    "\n",
    "messages = [{\"role\": \"user\", \"content\": \"\"\"\"\"\"},\n",
    "            {'role': 'system',\"content\": \"\"\"\"\"\"}]"
   ]
  },
  {
   "cell_type": "code",
   "execution_count": 4,
   "id": "0260f97b",
   "metadata": {},
   "outputs": [],
   "source": [
    "system_content = [\"\"\"\n",
    "Extract the target gene name, associated drug names, type of drug mechanism or interaction, and ClinicalTrials.gov number as JSON\n",
    "\"\"\"]"
   ]
  },
  {
   "cell_type": "code",
   "execution_count": 5,
   "id": "9094f796",
   "metadata": {},
   "outputs": [],
   "source": [
    "user_content = [\n",
    "\"\"\"\n",
    "Background: Sotorasib is a specific, irreversible inhibitor of the GTPase protein, KRASG12C. \n",
    "We compared the efficacy and safety of sotorasib with a standard-of-care treatment in patients with non-small-cell lung cancer (NSCLC) with the KRASG12C mutation who had been previously treated with other anticancer drugs.\n",
    "\"\"\"\n",
    "    \n",
    "]"
   ]
  },
  {
   "cell_type": "markdown",
   "id": "d3079735",
   "metadata": {},
   "source": [
    "**This 1 example shows that it is able to extract the type of drug-target interaction as well. \n",
    "Test another example where it's worded differently.**"
   ]
  },
  {
   "cell_type": "code",
   "execution_count": 11,
   "id": "0b449f06",
   "metadata": {},
   "outputs": [
    {
     "name": "stdout",
     "output_type": "stream",
     "text": [
      "----RESULT---- ChatCompletion(id='chatcmpl-8wuvDO53HHEH4kvYtUjwzdqlIRkEj', choices=[Choice(finish_reason='stop', index=0, logprobs=None, message=ChatCompletionMessage(content='{\\n  \"target_gene_name\": \"KRASG12C\",\\n  \"associated_drug_names\": [\"Sotorasib\"],\\n  \"type_of_drug_mechanism\": \"Specific, irreversible inhibitor of the GTPase protein\",\\n  \"ClinicalTrials.gov_number\": null\\n}', role='assistant', function_call=None, tool_calls=None))], created=1709052523, model='gpt-4-0125-preview', object='chat.completion', system_fingerprint='fp_91aa3742b1', usage=CompletionUsage(completion_tokens=60, prompt_tokens=114, total_tokens=174))\n"
     ]
    }
   ],
   "source": [
    "for user_text in user_content:\n",
    "    messages[0]['content'] = user_text\n",
    "    messages[1]['content'] = system_content[0]\n",
    "    \n",
    "    response = client.chat.completions.create(\n",
    "        model=MODEL,\n",
    "        response_format={ \"type\": \"json_object\" },\n",
    "        messages=messages\n",
    "    )\n",
    "    print(f'''----RESULT---- {response}''')"
   ]
  },
  {
   "cell_type": "markdown",
   "id": "6ce01eea",
   "metadata": {},
   "source": [
    "**Here too, it was able to extract the correct drug and gene name.**"
   ]
  },
  {
   "cell_type": "code",
   "execution_count": 12,
   "id": "04717748",
   "metadata": {},
   "outputs": [],
   "source": [
    "user_content = [\n",
    "\"\"\"\n",
    "Lung adenocarcinoma (LUAD) is the most common lung cancer, with high mortality. \n",
    "As a tumor-suppressor gene, JWA plays an important role in blocking pan-tumor progression. \n",
    "JAC4, a small molecular-compound agonist, transcriptionally activates JWA expression both in vivo and in vitro.\n",
    "\"\"\"\n",
    "    \n",
    "]"
   ]
  },
  {
   "cell_type": "code",
   "execution_count": 13,
   "id": "2379beda",
   "metadata": {},
   "outputs": [
    {
     "name": "stdout",
     "output_type": "stream",
     "text": [
      "----RESULT---- ChatCompletion(id='chatcmpl-8wuzc0WQUb3FOcxnCIhJT6e3H2cWR', choices=[Choice(finish_reason='stop', index=0, logprobs=None, message=ChatCompletionMessage(content='{\\n  \"target_gene\": \"JWA\",\\n  \"associated_drug_names\": [\\n    \"JAC4\"\\n  ],\\n  \"type_of_drug_mechanism_or_interaction\": \"agonist\",\\n  \"ClinicalTrials.gov_number\": null\\n}', role='assistant', function_call=None, tool_calls=None))], created=1709052796, model='gpt-4-0125-preview', object='chat.completion', system_fingerprint='fp_91aa3742b1', usage=CompletionUsage(completion_tokens=53, prompt_tokens=108, total_tokens=161))\n"
     ]
    }
   ],
   "source": [
    "for user_text in user_content:\n",
    "    messages[0]['content'] = user_text\n",
    "    messages[1]['content'] = system_content[0]\n",
    "    \n",
    "    response = client.chat.completions.create(\n",
    "        model=MODEL,\n",
    "        response_format={ \"type\": \"json_object\" },\n",
    "        messages=messages\n",
    "    )\n",
    "    print(f'''----RESULT---- {response}''')"
   ]
  },
  {
   "cell_type": "markdown",
   "id": "62c10db9",
   "metadata": {},
   "source": [
    "## Modify the prompt for it to return pairs or a set consisting of {gene, drug, interaction, clinical trial}. There should be a separate set if multiple entities are present"
   ]
  },
  {
   "cell_type": "markdown",
   "id": "16650e34",
   "metadata": {},
   "source": [
    "First test the usual prompt:\n",
    "Here the output is incomplete as it didn't catch the second gene BRAF and associated drug."
   ]
  },
  {
   "cell_type": "code",
   "execution_count": 14,
   "id": "ee288452",
   "metadata": {},
   "outputs": [
    {
     "name": "stdout",
     "output_type": "stream",
     "text": [
      "----RESULT---- ChatCompletion(id='chatcmpl-8wvEkFhdoII94FjUa1DL3rlxNpNO5', choices=[Choice(finish_reason='stop', index=0, logprobs=None, message=ChatCompletionMessage(content='{\\n  \"target_gene_name\": \"AXL\",\\n  \"associated_drug_names\": [\\n    \"BGB324\",\\n    \"vemurafenib\"\\n  ],\\n  \"type_of_drug_mechanism_or_interaction\": [\\n    \"AXLi (AXL inhibitor) potentiates BRAFi (BRAF inhibitor)-induced apoptosis\",\\n    \"stimulates ferroptosis\",\\n    \"inhibits autophagy\"\\n  ],\\n  \"ClinicalTrials.gov_number\": null\\n}', role='assistant', function_call=None, tool_calls=None))], created=1709053734, model='gpt-4-0125-preview', object='chat.completion', system_fingerprint='fp_91aa3742b1', usage=CompletionUsage(completion_tokens=103, prompt_tokens=291, total_tokens=394))\n"
     ]
    }
   ],
   "source": [
    "MODEL = 'gpt-4-turbo-preview'\n",
    "\n",
    "messages = [{\"role\": \"user\", \"content\": \"\"\"\"\"\"},\n",
    "            {'role': 'system',\"content\": \"\"\"\"\"\"}]\n",
    "\n",
    "system_content = [\"\"\"\n",
    "Extract the target gene name, associated drug names, type of drug mechanism or interaction, and ClinicalTrials.gov number as JSON\n",
    "\"\"\"]\n",
    "\n",
    "user_content = [\n",
    "\"\"\"\n",
    "More than half of metastatic melanoma patients receiving standard therapy fail to achieve a long-term survival due to primary and/or acquired resistance. \n",
    "Tumor cell ability to switch from epithelial to a more aggressive mesenchymal phenotype, attributed with AXLhigh molecular profile in melanoma, has been recently linked to such event, limiting treatment efficacy. \n",
    "In the current study, we investigated the therapeutic potential of the AXL inhibitor (AXLi) BGB324 alone or in combination with the clinically relevant BRAF inhibitor (BRAFi) vemurafenib. \n",
    "Firstly, AXL was shown to be expressed in majority of melanoma lymph node metastases.\n",
    "When treated ex vivo, the largest reduction in cell viability was observed when the two drugs were combined. \n",
    "In addition, a therapeutic benefit of adding AXLi to the BRAF-targeted therapy was observed in pre-clinical AXLhigh melanoma models in vitro and in vivo. When searching for mechanistic insights, AXLi was found to potentiate BRAFi-induced apoptosis, stimulate ferroptosis and inhibit autophagy. Altogether, our findings propose AXLi as a promising treatment in combination with standard therapy to improve therapeutic outcome in metastatic melanoma.\n",
    "\"\"\"\n",
    "    \n",
    "]\n",
    "\n",
    "for user_text in user_content:\n",
    "    messages[0]['content'] = user_text\n",
    "    messages[1]['content'] = system_content[0]\n",
    "    \n",
    "    response = client.chat.completions.create(\n",
    "        model=MODEL,\n",
    "        response_format={ \"type\": \"json_object\" },\n",
    "        messages=messages\n",
    "    )\n",
    "    print(f'''----RESULT---- {response}''')"
   ]
  },
  {
   "cell_type": "markdown",
   "id": "879df742",
   "metadata": {},
   "source": [
    "**Try changing the prompt instruction to get the intended output.\n",
    "We can see that changing the instruction and asking the model to discriminate between different combinations of gene-drug pairs works.\n",
    "The output could be cleaner and more concise by using a 1 shot approach. This should be the next test.**"
   ]
  },
  {
   "cell_type": "code",
   "execution_count": 17,
   "id": "677afbc8",
   "metadata": {},
   "outputs": [],
   "source": [
    "system_content = [\"\"\"\n",
    "Return a JSON output with a set consisting of (target gene name,drug name, drug-target interaction, ClinicalTrials.gov number).\n",
    "Return multiple sets if more than 1 gene-drug combinations are present in the text.\n",
    "\"\"\"]\n"
   ]
  },
  {
   "cell_type": "markdown",
   "id": "24151b06",
   "metadata": {},
   "source": [
    "**It extracts multiple drug-target combinations correctly for the first article. \n",
    "However, for the second article it returns inaccurate information and places the drug type as the drug name.\n",
    "Also, it just reproduces the sentence from the paper to inform us about the type of drug interaction.\n",
    "This present an opportunity for:**\n",
    "1. Experimenting with the system instruction within the prompt.\n",
    "2. Testing if a one-shot approach gives a cleaner output."
   ]
  },
  {
   "cell_type": "code",
   "execution_count": 25,
   "id": "a7c68a5c",
   "metadata": {},
   "outputs": [
    {
     "name": "stdout",
     "output_type": "stream",
     "text": [
      "----RESULT---- ChatCompletion(id='chatcmpl-8wwTTSJhidKa2PRZamGg8Wn0USUCf', choices=[Choice(finish_reason='stop', index=0, logprobs=None, message=ChatCompletionMessage(content='{\\n  \"gene-drug combinations\": [\\n    {\\n      \"target gene name\": \"AXL\",\\n      \"drug name\": \"BGB324\",\\n      \"drug-target interaction\": \"AXL inhibitor (AXLi)\",\\n      \"ClinicalTrials.gov number\": null\\n    },\\n    {\\n      \"target gene name\": \"BRAF\",\\n      \"drug name\": \"vemurafenib\",\\n      \"drug-target interaction\": \"BRAF inhibitor (BRAFi)\",\\n      \"ClinicalTrials.gov number\": null\\n    }\\n  ]\\n}', role='assistant', function_call=None, tool_calls=None))], created=1709058491, model='gpt-4-0125-preview', object='chat.completion', system_fingerprint='fp_91aa3742b1', usage=CompletionUsage(completion_tokens=113, prompt_tokens=310, total_tokens=423))\n"
     ]
    }
   ],
   "source": [
    "MODEL = 'gpt-4-turbo-preview'\n",
    "\n",
    "messages = [{\"role\": \"user\", \"content\": \"\"\"\"\"\"},\n",
    "            {'role': 'system',\"content\": \"\"\"\"\"\"}]\n",
    "\n",
    "user_content = [\n",
    "\"\"\"\n",
    "More than half of metastatic melanoma patients receiving standard therapy fail to achieve a long-term survival due to primary and/or acquired resistance. \n",
    "Tumor cell ability to switch from epithelial to a more aggressive mesenchymal phenotype, attributed with AXLhigh molecular profile in melanoma, has been recently linked to such event, limiting treatment efficacy. \n",
    "In the current study, we investigated the therapeutic potential of the AXL inhibitor (AXLi) BGB324 alone or in combination with the clinically relevant BRAF inhibitor (BRAFi) vemurafenib. \n",
    "Firstly, AXL was shown to be expressed in majority of melanoma lymph node metastases.\n",
    "When treated ex vivo, the largest reduction in cell viability was observed when the two drugs were combined. \n",
    "In addition, a therapeutic benefit of adding AXLi to the BRAF-targeted therapy was observed in pre-clinical AXLhigh melanoma models in vitro and in vivo. When searching for mechanistic insights, AXLi was found to potentiate BRAFi-induced apoptosis, stimulate ferroptosis and inhibit autophagy. Altogether, our findings propose AXLi as a promising treatment in combination with standard therapy to improve therapeutic outcome in metastatic melanoma.\n",
    "\"\"\"\n",
    "    \n",
    "]\n",
    "\n",
    "for user_text in user_content:\n",
    "    messages[0]['content'] = user_text\n",
    "    messages[1]['content'] = system_content[0]\n",
    "    \n",
    "    response = client.chat.completions.create(\n",
    "        model=MODEL,\n",
    "        response_format={ \"type\": \"json_object\" },\n",
    "        messages=messages\n",
    "    )\n",
    "    print(f'''----RESULT---- {response}''')"
   ]
  },
  {
   "cell_type": "markdown",
   "id": "c1f29754",
   "metadata": {},
   "source": [
    "* Entities captured correctly."
   ]
  },
  {
   "cell_type": "code",
   "execution_count": 26,
   "id": "746be0f5",
   "metadata": {},
   "outputs": [
    {
     "name": "stdout",
     "output_type": "stream",
     "text": [
      "{\n",
      "  \"gene-drug combinations\": [\n",
      "    {\n",
      "      \"target gene name\": \"AXL\",\n",
      "      \"drug name\": \"BGB324\",\n",
      "      \"drug-target interaction\": \"AXL inhibitor (AXLi)\",\n",
      "      \"ClinicalTrials.gov number\": null\n",
      "    },\n",
      "    {\n",
      "      \"target gene name\": \"BRAF\",\n",
      "      \"drug name\": \"vemurafenib\",\n",
      "      \"drug-target interaction\": \"BRAF inhibitor (BRAFi)\",\n",
      "      \"ClinicalTrials.gov number\": null\n",
      "    }\n",
      "  ]\n",
      "}\n"
     ]
    }
   ],
   "source": [
    "print(response.choices[0].message.content)"
   ]
  },
  {
   "cell_type": "code",
   "execution_count": 27,
   "id": "83b00a11",
   "metadata": {},
   "outputs": [
    {
     "name": "stdout",
     "output_type": "stream",
     "text": [
      "----RESULT---- ChatCompletion(id='chatcmpl-8wwTvHEIUzOfazMNWe66ycUfjgiq8', choices=[Choice(finish_reason='stop', index=0, logprobs=None, message=ChatCompletionMessage(content='{\\n  \"gene-drug combinations\": [\\n    {\\n      \"target gene name\": \"MDM2\",\\n      \"drug name\": \"MDM2-PROTAC\",\\n      \"drug-target interaction\": \"PROTAC selectively targets MDM2 for proteasome-mediated degradation with high-affinity binding and VHL recruitment\",\\n      \"ClinicalTrials.gov number\": null\\n    }\\n  ]\\n}', role='assistant', function_call=None, tool_calls=None))], created=1709058519, model='gpt-4-0125-preview', object='chat.completion', system_fingerprint='fp_8c864dca93', usage=CompletionUsage(completion_tokens=82, prompt_tokens=312, total_tokens=394))\n"
     ]
    }
   ],
   "source": [
    "MODEL = 'gpt-4-turbo-preview'\n",
    "\n",
    "messages = [{\"role\": \"user\", \"content\": \"\"\"\"\"\"},\n",
    "            {'role': 'system',\"content\": \"\"\"\"\"\"}]\n",
    "\n",
    "user_content = [\n",
    "\"\"\"\n",
    "Triple-negative breast cancers (TNBC) frequently inactivate p53, increasing their aggressiveness and therapy resistance. We identified an unexpected protein vulnerability in p53-inactivated TNBC and designed a new PROteolysis TArgeting Chimera (PROTAC) to target it. Our PROTAC selectively targets MDM2 for proteasome-mediated degradation with high-affinity binding and VHL recruitment. MDM2 loss in p53 mutant/deleted TNBC cells in two-dimensional/three-dimensional culture and TNBC patient explants, including relapsed tumors, causes apoptosis while sparing normal cells. Our MDM2-PROTAC is stable in vivo, and treatment of TNBC xenograft-bearing mice demonstrates tumor on-target efficacy with no toxicity to normal cells, significantly extending survival. Transcriptomic analyses revealed upregulation of p53 family target genes. Investigations showed activation and a required role for TAp73 to mediate MDM2-PROTAC-induced apoptosis. Our data, challenging the current MDM2/p53 paradigm, show MDM2 is required for p53-inactivated TNBC cell survival, and PROTAC-targeted MDM2 degradation is an innovative potential therapeutic strategy for TNBC and superior to existing MDM2 inhibitors.\n",
    "\"\"\"\n",
    "    \n",
    "]\n",
    "\n",
    "for user_text in user_content:\n",
    "    messages[0]['content'] = user_text\n",
    "    messages[1]['content'] = system_content[0]\n",
    "    \n",
    "    response = client.chat.completions.create(\n",
    "        model=MODEL,\n",
    "        response_format={ \"type\": \"json_object\" },\n",
    "        messages=messages\n",
    "    )\n",
    "    print(f'''----RESULT---- {response}''')"
   ]
  },
  {
   "cell_type": "markdown",
   "id": "66f89fa3",
   "metadata": {},
   "source": [
    "* Entities captured incorrectly."
   ]
  },
  {
   "cell_type": "code",
   "execution_count": 28,
   "id": "e8096f35",
   "metadata": {
    "scrolled": true
   },
   "outputs": [
    {
     "name": "stdout",
     "output_type": "stream",
     "text": [
      "{\n",
      "  \"gene-drug combinations\": [\n",
      "    {\n",
      "      \"target gene name\": \"MDM2\",\n",
      "      \"drug name\": \"MDM2-PROTAC\",\n",
      "      \"drug-target interaction\": \"PROTAC selectively targets MDM2 for proteasome-mediated degradation with high-affinity binding and VHL recruitment\",\n",
      "      \"ClinicalTrials.gov number\": null\n",
      "    }\n",
      "  ]\n",
      "}\n"
     ]
    }
   ],
   "source": [
    "print(response.choices[0].message.content)"
   ]
  },
  {
   "cell_type": "markdown",
   "id": "3ac2c2f8",
   "metadata": {},
   "source": [
    "## Can multiple abstracts be sent in 1 call with just one system instruction?\n",
    "\n",
    "Answer: Yes"
   ]
  },
  {
   "cell_type": "code",
   "execution_count": 29,
   "id": "1c147768",
   "metadata": {},
   "outputs": [],
   "source": [
    "MODEL = 'gpt-4-turbo-preview'\n",
    "\n",
    "messages = [\n",
    "    {\"role\": \"system\",\"content\": \"\"\"\n",
    "    For each of the user text delimited by triple quotes, do the following:\n",
    "    1. Return a set consisting of (target gene name,drug name, drug-target interaction, ClinicalTrials.gov number).\n",
    "    2. Return multiple sets if more than 1 gene-drug combinations are present in the text.\n",
    "    3. Assemble all sets and produce 1 final JSON output.\n",
    "    \"\"\" },\n",
    "    {\n",
    "        \"role\": \"user\", \"content\": \"\"\"\n",
    "        More than half of metastatic melanoma patients receiving standard therapy fail to achieve a long-term survival due to primary and/or acquired resistance. \n",
    "Tumor cell ability to switch from epithelial to a more aggressive mesenchymal phenotype, attributed with AXLhigh molecular profile in melanoma, has been recently linked to such event, limiting treatment efficacy. \n",
    "In the current study, we investigated the therapeutic potential of the AXL inhibitor (AXLi) BGB324 alone or in combination with the clinically relevant BRAF inhibitor (BRAFi) vemurafenib. \n",
    "Firstly, AXL was shown to be expressed in majority of melanoma lymph node metastases.\n",
    "When treated ex vivo, the largest reduction in cell viability was observed when the two drugs were combined. \n",
    "In addition, a therapeutic benefit of adding AXLi to the BRAF-targeted therapy was observed in pre-clinical AXLhigh melanoma models in vitro and in vivo. When searching for mechanistic insights, AXLi was found to potentiate BRAFi-induced apoptosis, stimulate ferroptosis and inhibit autophagy. Altogether, our findings propose AXLi as a promising treatment in combination with standard therapy to improve therapeutic outcome in metastatic melanoma.\n",
    "        \"\"\"\n",
    "    },\n",
    "    {\n",
    "        \"role\": \"user\", \"content\": \"\"\"\n",
    "        Lung adenocarcinoma (LUAD) is the most common lung cancer, with high mortality. \n",
    "As a tumor-suppressor gene, JWA plays an important role in blocking pan-tumor progression. \n",
    "JAC4, a small molecular-compound agonist, transcriptionally activates JWA expression both in vivo and in vitro.\n",
    "        \"\"\"\n",
    "    }\n",
    "]\n",
    "\n",
    "response = client.chat.completions.create(\n",
    "        model=MODEL,\n",
    "        response_format={ \"type\": \"json_object\" },\n",
    "        messages=messages\n",
    "    )"
   ]
  },
  {
   "cell_type": "code",
   "execution_count": 35,
   "id": "76b36d28",
   "metadata": {},
   "outputs": [
    {
     "data": {
      "text/plain": [
       "ChatCompletion(id='chatcmpl-8wzCWPeaRKazsJa7W5gRPuqgGPj09', choices=[Choice(finish_reason='stop', index=0, logprobs=None, message=ChatCompletionMessage(content='{\\n  \"sets\": [\\n    {\\n      \"target gene name\": \"AXL\",\\n      \"drug name\": \"BGB324\",\\n      \"drug-target interaction\": \"inhibitor\",\\n      \"ClinicalTrials.gov number\": null\\n    },\\n    {\\n      \"target gene name\": \"BRAF\",\\n      \"drug name\": \"vemurafenib\",\\n      \"drug-target interaction\": \"inhibitor\",\\n      \"ClinicalTrials.gov number\": null\\n    },\\n    {\\n      \"target gene name\": \"JWA\",\\n      \"drug name\": \"JAC4\",\\n      \"drug-target interaction\": \"agonist\",\\n      \"ClinicalTrials.gov number\": null\\n    }\\n  ]\\n}', role='assistant', function_call=None, tool_calls=None))], created=1709068972, model='gpt-4-0125-preview', object='chat.completion', system_fingerprint='fp_89b1a570e1', usage=CompletionUsage(completion_tokens=146, prompt_tokens=424, total_tokens=570))"
      ]
     },
     "execution_count": 35,
     "metadata": {},
     "output_type": "execute_result"
    }
   ],
   "source": [
    "response"
   ]
  },
  {
   "cell_type": "code",
   "execution_count": 31,
   "id": "8bf6a4c9",
   "metadata": {},
   "outputs": [
    {
     "name": "stdout",
     "output_type": "stream",
     "text": [
      "{\n",
      "  \"sets\": [\n",
      "    {\n",
      "      \"target gene name\": \"AXL\",\n",
      "      \"drug name\": \"BGB324\",\n",
      "      \"drug-target interaction\": \"inhibitor\",\n",
      "      \"ClinicalTrials.gov number\": null\n",
      "    },\n",
      "    {\n",
      "      \"target gene name\": \"BRAF\",\n",
      "      \"drug name\": \"vemurafenib\",\n",
      "      \"drug-target interaction\": \"inhibitor\",\n",
      "      \"ClinicalTrials.gov number\": null\n",
      "    },\n",
      "    {\n",
      "      \"target gene name\": \"JWA\",\n",
      "      \"drug name\": \"JAC4\",\n",
      "      \"drug-target interaction\": \"agonist\",\n",
      "      \"ClinicalTrials.gov number\": null\n",
      "    }\n",
      "  ]\n",
      "}\n"
     ]
    }
   ],
   "source": [
    "print(response.choices[0].message.content)"
   ]
  },
  {
   "cell_type": "markdown",
   "id": "558c439d",
   "metadata": {},
   "source": [
    "## How to extract details from the Chat completion object?\n",
    "\n",
    "* In addition to the results, it's useful to extract the model and usage details.\n",
    "* While constructing the main code processing abstracts in batches, have a batch ID to track which PMIDs got processed in which batch and then add model and usage / token details for each batch. This metadata would help to plan future costs based on abstract lengths."
   ]
  },
  {
   "cell_type": "markdown",
   "id": "779ae42b",
   "metadata": {},
   "source": [
    "**The response JSON object can be loaded as a Python object.**"
   ]
  },
  {
   "cell_type": "code",
   "execution_count": 58,
   "id": "263c2a3a",
   "metadata": {},
   "outputs": [],
   "source": [
    "result = json.loads(response.model_dump_json())"
   ]
  },
  {
   "cell_type": "markdown",
   "id": "438d3952",
   "metadata": {},
   "source": [
    "* Model string can be extracted like:"
   ]
  },
  {
   "cell_type": "code",
   "execution_count": 81,
   "id": "842f4f11",
   "metadata": {},
   "outputs": [
    {
     "data": {
      "text/plain": [
       "'gpt-4-0125-preview'"
      ]
     },
     "execution_count": 81,
     "metadata": {},
     "output_type": "execute_result"
    }
   ],
   "source": [
    "result['model']"
   ]
  },
  {
   "cell_type": "markdown",
   "id": "90fc5897",
   "metadata": {},
   "source": [
    "* Usage details can be extracted like:"
   ]
  },
  {
   "cell_type": "code",
   "execution_count": 82,
   "id": "4d048817",
   "metadata": {},
   "outputs": [
    {
     "data": {
      "text/plain": [
       "{'completion_tokens': 146, 'prompt_tokens': 424, 'total_tokens': 570}"
      ]
     },
     "execution_count": 82,
     "metadata": {},
     "output_type": "execute_result"
    }
   ],
   "source": [
    "result['usage']"
   ]
  },
  {
   "cell_type": "markdown",
   "id": "3a0aad6a",
   "metadata": {},
   "source": [
    "**The main results are contained within 'message' key in the 'choices' list.**"
   ]
  },
  {
   "cell_type": "code",
   "execution_count": 80,
   "id": "15403d16",
   "metadata": {},
   "outputs": [
    {
     "data": {
      "text/plain": [
       "{'id': 'chatcmpl-8wzCWPeaRKazsJa7W5gRPuqgGPj09',\n",
       " 'choices': [{'finish_reason': 'stop',\n",
       "   'index': 0,\n",
       "   'logprobs': None,\n",
       "   'message': {'content': '{\\n  \"sets\": [\\n    {\\n      \"target gene name\": \"AXL\",\\n      \"drug name\": \"BGB324\",\\n      \"drug-target interaction\": \"inhibitor\",\\n      \"ClinicalTrials.gov number\": null\\n    },\\n    {\\n      \"target gene name\": \"BRAF\",\\n      \"drug name\": \"vemurafenib\",\\n      \"drug-target interaction\": \"inhibitor\",\\n      \"ClinicalTrials.gov number\": null\\n    },\\n    {\\n      \"target gene name\": \"JWA\",\\n      \"drug name\": \"JAC4\",\\n      \"drug-target interaction\": \"agonist\",\\n      \"ClinicalTrials.gov number\": null\\n    }\\n  ]\\n}',\n",
       "    'role': 'assistant',\n",
       "    'function_call': None,\n",
       "    'tool_calls': None}}],\n",
       " 'created': 1709068972,\n",
       " 'model': 'gpt-4-0125-preview',\n",
       " 'object': 'chat.completion',\n",
       " 'system_fingerprint': 'fp_89b1a570e1',\n",
       " 'usage': {'completion_tokens': 146,\n",
       "  'prompt_tokens': 424,\n",
       "  'total_tokens': 570}}"
      ]
     },
     "execution_count": 80,
     "metadata": {},
     "output_type": "execute_result"
    }
   ],
   "source": [
    "result"
   ]
  },
  {
   "cell_type": "markdown",
   "id": "b45142e2",
   "metadata": {},
   "source": [
    "**Extract the results into a df.**"
   ]
  },
  {
   "cell_type": "code",
   "execution_count": 75,
   "id": "b05430bd",
   "metadata": {},
   "outputs": [],
   "source": [
    "data_dict = json.loads(result['choices'][0]['message']['content'])"
   ]
  },
  {
   "cell_type": "code",
   "execution_count": 77,
   "id": "d975a16f",
   "metadata": {},
   "outputs": [
    {
     "data": {
      "text/plain": [
       "[{'target gene name': 'AXL',\n",
       "  'drug name': 'BGB324',\n",
       "  'drug-target interaction': 'inhibitor',\n",
       "  'ClinicalTrials.gov number': None},\n",
       " {'target gene name': 'BRAF',\n",
       "  'drug name': 'vemurafenib',\n",
       "  'drug-target interaction': 'inhibitor',\n",
       "  'ClinicalTrials.gov number': None},\n",
       " {'target gene name': 'JWA',\n",
       "  'drug name': 'JAC4',\n",
       "  'drug-target interaction': 'agonist',\n",
       "  'ClinicalTrials.gov number': None}]"
      ]
     },
     "execution_count": 77,
     "metadata": {},
     "output_type": "execute_result"
    }
   ],
   "source": [
    "data_dict['sets']"
   ]
  },
  {
   "cell_type": "code",
   "execution_count": 79,
   "id": "5e6a3ba7",
   "metadata": {},
   "outputs": [
    {
     "data": {
      "text/html": [
       "<div>\n",
       "<style scoped>\n",
       "    .dataframe tbody tr th:only-of-type {\n",
       "        vertical-align: middle;\n",
       "    }\n",
       "\n",
       "    .dataframe tbody tr th {\n",
       "        vertical-align: top;\n",
       "    }\n",
       "\n",
       "    .dataframe thead th {\n",
       "        text-align: right;\n",
       "    }\n",
       "</style>\n",
       "<table border=\"1\" class=\"dataframe\">\n",
       "  <thead>\n",
       "    <tr style=\"text-align: right;\">\n",
       "      <th></th>\n",
       "      <th>target gene name</th>\n",
       "      <th>drug name</th>\n",
       "      <th>drug-target interaction</th>\n",
       "      <th>ClinicalTrials.gov number</th>\n",
       "    </tr>\n",
       "  </thead>\n",
       "  <tbody>\n",
       "    <tr>\n",
       "      <th>0</th>\n",
       "      <td>AXL</td>\n",
       "      <td>BGB324</td>\n",
       "      <td>inhibitor</td>\n",
       "      <td>None</td>\n",
       "    </tr>\n",
       "    <tr>\n",
       "      <th>1</th>\n",
       "      <td>BRAF</td>\n",
       "      <td>vemurafenib</td>\n",
       "      <td>inhibitor</td>\n",
       "      <td>None</td>\n",
       "    </tr>\n",
       "    <tr>\n",
       "      <th>2</th>\n",
       "      <td>JWA</td>\n",
       "      <td>JAC4</td>\n",
       "      <td>agonist</td>\n",
       "      <td>None</td>\n",
       "    </tr>\n",
       "  </tbody>\n",
       "</table>\n",
       "</div>"
      ],
      "text/plain": [
       "  target gene name    drug name drug-target interaction   \n",
       "0              AXL       BGB324               inhibitor  \\\n",
       "1             BRAF  vemurafenib               inhibitor   \n",
       "2              JWA         JAC4                 agonist   \n",
       "\n",
       "  ClinicalTrials.gov number  \n",
       "0                      None  \n",
       "1                      None  \n",
       "2                      None  "
      ]
     },
     "execution_count": 79,
     "metadata": {},
     "output_type": "execute_result"
    }
   ],
   "source": [
    "pd.DataFrame(data_dict['sets'])"
   ]
  },
  {
   "cell_type": "markdown",
   "id": "d0da3bc8",
   "metadata": {},
   "source": [
    "## Test extraction of disease name in addition to target, drug, disease it is tested in, and clinical trial number\n",
    "\n",
    "**An important note is that while it will be great to also collect the specific cancer subtype, it will increase the output token size quite a bit.**\n",
    "* Creating unique sets if multiple diseases are tested for a gene-drug combination, generates 478 tokens.\n",
    "* Also, for the last paper, it missed out on capturing all diseases that the drug was tested it.\n",
    "* For the last paper, it hasn't been explicitly mentioned that vemurafenib is a BRAF inhibitor but it showed that set anyway. In order to avoid inaccuracies, add in the prompt that a gene-drug interaction should be explicitly mentioned."
   ]
  },
  {
   "cell_type": "code",
   "execution_count": 91,
   "id": "376ab86e",
   "metadata": {},
   "outputs": [],
   "source": [
    "MODEL = 'gpt-4-turbo-preview'\n",
    "\n",
    "messages = [\n",
    "    {\"role\": \"system\",\"content\": \"\"\"\n",
    "    You are a helpful biologist and data scientist.\n",
    "    For each of the user text delimited by triple quotes, do the following:\n",
    "    1. Return a set consisting of (target gene name,drug name, drug-target interaction, ClinicalTrials.gov number, cancer type the drug is tested in).\n",
    "    2. Return multiple sets if more than 1 gene-drug combinations-cancer are present in the text.\n",
    "    3. Identify the relationships accurately to construct each set rather than just extracting information.\n",
    "    4. Assemble all sets and produce 1 final JSON output.\n",
    "    \"\"\" },\n",
    "    {\n",
    "        \"role\": \"user\", \"content\": \"\"\"\n",
    "        More than half of metastatic melanoma patients receiving standard therapy fail to achieve a long-term survival due to primary and/or acquired resistance. \n",
    "Tumor cell ability to switch from epithelial to a more aggressive mesenchymal phenotype, attributed with AXLhigh molecular profile in melanoma, has been recently linked to such event, limiting treatment efficacy. \n",
    "In the current study, we investigated the therapeutic potential of the AXL inhibitor (AXLi) BGB324 alone or in combination with the clinically relevant BRAF inhibitor (BRAFi) vemurafenib. \n",
    "Firstly, AXL was shown to be expressed in majority of melanoma lymph node metastases.\n",
    "When treated ex vivo, the largest reduction in cell viability was observed when the two drugs were combined. \n",
    "In addition, a therapeutic benefit of adding AXLi to the BRAF-targeted therapy was observed in pre-clinical AXLhigh melanoma models in vitro and in vivo. When searching for mechanistic insights, AXLi was found to potentiate BRAFi-induced apoptosis, stimulate ferroptosis and inhibit autophagy. Altogether, our findings propose AXLi as a promising treatment in combination with standard therapy to improve therapeutic outcome in metastatic melanoma.\n",
    "        \"\"\"\n",
    "    },\n",
    "    {\n",
    "        \"role\": \"user\", \"content\": \"\"\"\n",
    "        Lung adenocarcinoma (LUAD) is the most common lung cancer, with high mortality. \n",
    "As a tumor-suppressor gene, JWA plays an important role in blocking pan-tumor progression. \n",
    "JAC4, a small molecular-compound agonist, transcriptionally activates JWA expression both in vivo and in vitro.\n",
    "        \"\"\"\n",
    "    },\n",
    "    {\n",
    "        \"role\": \"user\", \"content\": \"\"\"\n",
    "        Background: BRAF V600 mutations occur in various nonmelanoma cancers. We undertook a histology-independent phase 2 \"basket\" study of vemurafenib in BRAF V600 mutation-positive nonmelanoma cancers.\n",
    "        Methods: We enrolled patients in six prespecified cancer cohorts; patients with all other tumor types were enrolled in a seventh cohort. A total of 122 patients with BRAF V600 mutation-positive cancer were treated, including 27 patients with colorectal cancer who received vemurafenib and cetuximab. The primary end point was the response rate; secondary end points included progression-free and overall survival.\n",
    "        Results: In the cohort with non-small-cell lung cancer, the response rate was 42% (95% confidence interval [CI], 20 to 67) and median progression-free survival was 7.3 months (95% CI, 3.5 to 10.8). In the cohort with Erdheim-Chester disease or Langerhans'-cell histiocytosis, the response rate was 43% (95% CI, 18 to 71); the median treatment duration was 5.9 months (range, 0.6 to 18.6), and no patients had disease progression during therapy. There were anecdotal responses among patients with pleomorphic xanthoastrocytoma, anaplastic thyroid cancer, cholangiocarcinoma, salivary-duct cancer, ovarian cancer, and clear-cell sarcoma and among patients with colorectal cancer who received vemurafenib and cetuximab. Safety was similar to that in prior studies of vemurafenib for melanoma.\n",
    "        Conclusions: BRAF V600 appears to be a targetable oncogene in some, but not all, nonmelanoma cancers. Preliminary vemurafenib activity was observed in non-small-cell lung cancer and in Erdheim-Chester disease and Langerhans'-cell histiocytosis. The histologic context is an important determinant of response in BRAF V600-mutated cancers. (Funded by F. Hoffmann-La Roche/Genentech; ClinicalTrials.gov number, NCT01524978.).\n",
    "        \"\"\"\n",
    "    }\n",
    "]\n",
    "\n",
    "response = client.chat.completions.create(\n",
    "        model=MODEL,\n",
    "        response_format={ \"type\": \"json_object\" },\n",
    "        messages=messages\n",
    "    )"
   ]
  },
  {
   "cell_type": "code",
   "execution_count": 92,
   "id": "c57329e1",
   "metadata": {},
   "outputs": [],
   "source": [
    "result = json.loads(response.model_dump_json())"
   ]
  },
  {
   "cell_type": "code",
   "execution_count": 93,
   "id": "93a6624c",
   "metadata": {},
   "outputs": [
    {
     "data": {
      "text/plain": [
       "{'id': 'chatcmpl-8x2Aa7KXIdUNTptebMgIl2ezC8FZI',\n",
       " 'choices': [{'finish_reason': 'stop',\n",
       "   'index': 0,\n",
       "   'logprobs': None,\n",
       "   'message': {'content': '{\\n  \"sets\": [\\n    {\\n      \"target gene name\": \"AXL\",\\n      \"drug name\": \"BGB324\",\\n      \"drug-target interaction\": \"inhibitor\",\\n      \"ClinicalTrials.gov number\": null,\\n      \"cancer type tested in\": \"metastatic melanoma\"\\n    },\\n    {\\n      \"target gene name\": \"BRAF\",\\n      \"drug name\": \"vemurafenib\",\\n      \"drug-target interaction\": \"inhibitor\",\\n      \"ClinicalTrials.gov number\": null,\\n      \"cancer type tested in\": \"metastatic melanoma\"\\n    },\\n    {\\n      \"target gene name\": \"JWA\",\\n      \"drug name\": \"JAC4\",\\n      \"drug-target interaction\": \"agonist\",\\n      \"ClinicalTrials.gov number\": null,\\n      \"cancer type tested in\": \"lung adenocarcinoma\"\\n    },\\n    {\\n      \"target gene name\": \"BRAF V600\",\\n      \"drug name\": \"vemurafenib\",\\n      \"drug-target interaction\": \"inhibitor\",\\n      \"ClinicalTrials.gov number\": \"NCT01524978\",\\n      \"cancer type tested in\": \"non-small-cell lung cancer\"\\n    },\\n    {\\n      \"target gene name\": \"BRAF V600\",\\n      \"drug name\": \"vemurafenib\",\\n      \"drug-target interaction\": \"inhibitor\",\\n      \"ClinicalTrials.gov number\": \"NCT01524978\",\\n      \"cancer type tested in\": \"Erdheim-Chester disease\"\\n    },\\n    {\\n      \"target gene name\": \"BRAF V600\",\\n      \"drug name\": \"vemurafenib\",\\n      \"drug-target interaction\": \"inhibitor\",\\n      \"ClinicalTrials.gov number\": \"NCT01524978\",\\n      \"cancer type tested in\": \"Langerhans\\'-cell histiocytosis\"\\n    },\\n    {\\n      \"target gene name\": \"BRAF V600\",\\n      \"drug name\": \"vemurafenib\",\\n      \"drug-target interaction\": \"inhibitor\",\\n      \"ClinicalTrials.gov number\": \"NCT01524978\",\\n      \"cancer type tested in\": \"colorectal cancer\"\\n    }\\n  ]\\n}',\n",
       "    'role': 'assistant',\n",
       "    'function_call': None,\n",
       "    'tool_calls': None}}],\n",
       " 'created': 1709080384,\n",
       " 'model': 'gpt-4-0125-preview',\n",
       " 'object': 'chat.completion',\n",
       " 'system_fingerprint': 'fp_89b1a570e1',\n",
       " 'usage': {'completion_tokens': 478,\n",
       "  'prompt_tokens': 926,\n",
       "  'total_tokens': 1404}}"
      ]
     },
     "execution_count": 93,
     "metadata": {},
     "output_type": "execute_result"
    }
   ],
   "source": [
    "result"
   ]
  },
  {
   "cell_type": "code",
   "execution_count": 94,
   "id": "b93065ae",
   "metadata": {},
   "outputs": [],
   "source": [
    "data_dict = json.loads(result['choices'][0]['message']['content'])"
   ]
  },
  {
   "cell_type": "code",
   "execution_count": 95,
   "id": "fa10b630",
   "metadata": {},
   "outputs": [
    {
     "data": {
      "text/plain": [
       "[{'target gene name': 'AXL',\n",
       "  'drug name': 'BGB324',\n",
       "  'drug-target interaction': 'inhibitor',\n",
       "  'ClinicalTrials.gov number': None,\n",
       "  'cancer type tested in': 'metastatic melanoma'},\n",
       " {'target gene name': 'BRAF',\n",
       "  'drug name': 'vemurafenib',\n",
       "  'drug-target interaction': 'inhibitor',\n",
       "  'ClinicalTrials.gov number': None,\n",
       "  'cancer type tested in': 'metastatic melanoma'},\n",
       " {'target gene name': 'JWA',\n",
       "  'drug name': 'JAC4',\n",
       "  'drug-target interaction': 'agonist',\n",
       "  'ClinicalTrials.gov number': None,\n",
       "  'cancer type tested in': 'lung adenocarcinoma'},\n",
       " {'target gene name': 'BRAF V600',\n",
       "  'drug name': 'vemurafenib',\n",
       "  'drug-target interaction': 'inhibitor',\n",
       "  'ClinicalTrials.gov number': 'NCT01524978',\n",
       "  'cancer type tested in': 'non-small-cell lung cancer'},\n",
       " {'target gene name': 'BRAF V600',\n",
       "  'drug name': 'vemurafenib',\n",
       "  'drug-target interaction': 'inhibitor',\n",
       "  'ClinicalTrials.gov number': 'NCT01524978',\n",
       "  'cancer type tested in': 'Erdheim-Chester disease'},\n",
       " {'target gene name': 'BRAF V600',\n",
       "  'drug name': 'vemurafenib',\n",
       "  'drug-target interaction': 'inhibitor',\n",
       "  'ClinicalTrials.gov number': 'NCT01524978',\n",
       "  'cancer type tested in': \"Langerhans'-cell histiocytosis\"},\n",
       " {'target gene name': 'BRAF V600',\n",
       "  'drug name': 'vemurafenib',\n",
       "  'drug-target interaction': 'inhibitor',\n",
       "  'ClinicalTrials.gov number': 'NCT01524978',\n",
       "  'cancer type tested in': 'colorectal cancer'}]"
      ]
     },
     "execution_count": 95,
     "metadata": {},
     "output_type": "execute_result"
    }
   ],
   "source": [
    "data_dict['sets']"
   ]
  },
  {
   "cell_type": "markdown",
   "id": "add59495",
   "metadata": {},
   "source": [
    "**Modifying the prompt to decrease output size.**"
   ]
  },
  {
   "cell_type": "code",
   "execution_count": 96,
   "id": "1b077c16",
   "metadata": {},
   "outputs": [],
   "source": [
    "MODEL = 'gpt-4-turbo-preview'\n",
    "\n",
    "messages = [\n",
    "    {\"role\": \"system\",\"content\": \"\"\"\n",
    "    You are a helpful biologist and data scientist.\n",
    "    For each of the user text delimited by triple quotes, do the following:\n",
    "    1. Return a set consisting of (target gene name,drug name, drug-target interaction, ClinicalTrials.gov number, all diseases that the drug is tested in).\n",
    "    2. Return multiple sets if more than 1 gene-drug combinations are present in the text.\n",
    "    3. Identify the relationships accurately to construct each set rather than just extracting information.\n",
    "    4. Assemble all sets and produce 1 final JSON output.\n",
    "    \"\"\" },\n",
    "    {\n",
    "        \"role\": \"user\", \"content\": \"\"\"\n",
    "        More than half of metastatic melanoma patients receiving standard therapy fail to achieve a long-term survival due to primary and/or acquired resistance. \n",
    "Tumor cell ability to switch from epithelial to a more aggressive mesenchymal phenotype, attributed with AXLhigh molecular profile in melanoma, has been recently linked to such event, limiting treatment efficacy. \n",
    "In the current study, we investigated the therapeutic potential of the AXL inhibitor (AXLi) BGB324 alone or in combination with the clinically relevant BRAF inhibitor (BRAFi) vemurafenib. \n",
    "Firstly, AXL was shown to be expressed in majority of melanoma lymph node metastases.\n",
    "When treated ex vivo, the largest reduction in cell viability was observed when the two drugs were combined. \n",
    "In addition, a therapeutic benefit of adding AXLi to the BRAF-targeted therapy was observed in pre-clinical AXLhigh melanoma models in vitro and in vivo. When searching for mechanistic insights, AXLi was found to potentiate BRAFi-induced apoptosis, stimulate ferroptosis and inhibit autophagy. Altogether, our findings propose AXLi as a promising treatment in combination with standard therapy to improve therapeutic outcome in metastatic melanoma.\n",
    "        \"\"\"\n",
    "    },\n",
    "    {\n",
    "        \"role\": \"user\", \"content\": \"\"\"\n",
    "        Lung adenocarcinoma (LUAD) is the most common lung cancer, with high mortality. \n",
    "As a tumor-suppressor gene, JWA plays an important role in blocking pan-tumor progression. \n",
    "JAC4, a small molecular-compound agonist, transcriptionally activates JWA expression both in vivo and in vitro.\n",
    "        \"\"\"\n",
    "    },\n",
    "    {\n",
    "        \"role\": \"user\", \"content\": \"\"\"\n",
    "        Background: BRAF V600 mutations occur in various nonmelanoma cancers. We undertook a histology-independent phase 2 \"basket\" study of vemurafenib in BRAF V600 mutation-positive nonmelanoma cancers.\n",
    "        Methods: We enrolled patients in six prespecified cancer cohorts; patients with all other tumor types were enrolled in a seventh cohort. A total of 122 patients with BRAF V600 mutation-positive cancer were treated, including 27 patients with colorectal cancer who received vemurafenib and cetuximab. The primary end point was the response rate; secondary end points included progression-free and overall survival.\n",
    "        Results: In the cohort with non-small-cell lung cancer, the response rate was 42% (95% confidence interval [CI], 20 to 67) and median progression-free survival was 7.3 months (95% CI, 3.5 to 10.8). In the cohort with Erdheim-Chester disease or Langerhans'-cell histiocytosis, the response rate was 43% (95% CI, 18 to 71); the median treatment duration was 5.9 months (range, 0.6 to 18.6), and no patients had disease progression during therapy. There were anecdotal responses among patients with pleomorphic xanthoastrocytoma, anaplastic thyroid cancer, cholangiocarcinoma, salivary-duct cancer, ovarian cancer, and clear-cell sarcoma and among patients with colorectal cancer who received vemurafenib and cetuximab. Safety was similar to that in prior studies of vemurafenib for melanoma.\n",
    "        Conclusions: BRAF V600 appears to be a targetable oncogene in some, but not all, nonmelanoma cancers. Preliminary vemurafenib activity was observed in non-small-cell lung cancer and in Erdheim-Chester disease and Langerhans'-cell histiocytosis. The histologic context is an important determinant of response in BRAF V600-mutated cancers. (Funded by F. Hoffmann-La Roche/Genentech; ClinicalTrials.gov number, NCT01524978.).\n",
    "        \"\"\"\n",
    "    }\n",
    "]\n",
    "\n",
    "response = client.chat.completions.create(\n",
    "        model=MODEL,\n",
    "        response_format={ \"type\": \"json_object\" },\n",
    "        messages=messages\n",
    "    )"
   ]
  },
  {
   "cell_type": "markdown",
   "id": "3c4f4ed5",
   "metadata": {},
   "source": [
    "**Here, the token size decreased from 478 with the above prompt to 433 with the new one. For the last paper, it captured all the missing disease names that weren't captured with the above prompt. \n",
    "However, it also returned an inaccurate combination - cetuximab and BRAF combination is inaccurate and shouldn't have been captured.\n",
    "Try modifying the prompt to get complete and accurate outputs.**"
   ]
  },
  {
   "cell_type": "code",
   "execution_count": 97,
   "id": "7c67b85c",
   "metadata": {},
   "outputs": [],
   "source": [
    "result = json.loads(response.model_dump_json())"
   ]
  },
  {
   "cell_type": "code",
   "execution_count": 98,
   "id": "6f580be1",
   "metadata": {},
   "outputs": [
    {
     "data": {
      "text/plain": [
       "{'completion_tokens': 433, 'prompt_tokens': 925, 'total_tokens': 1358}"
      ]
     },
     "execution_count": 98,
     "metadata": {},
     "output_type": "execute_result"
    }
   ],
   "source": [
    "result['usage']"
   ]
  },
  {
   "cell_type": "code",
   "execution_count": 99,
   "id": "e36486e2",
   "metadata": {},
   "outputs": [
    {
     "data": {
      "text/plain": [
       "[{'target gene name': 'AXL',\n",
       "  'drug name': 'BGB324',\n",
       "  'drug-target interaction': 'inhibitor',\n",
       "  'ClinicalTrials.gov number': '',\n",
       "  'all diseases that the drug is tested in': ['metastatic melanoma']},\n",
       " {'target gene name': 'BRAF',\n",
       "  'drug name': 'vemurafenib',\n",
       "  'drug-target interaction': 'inhibitor',\n",
       "  'ClinicalTrials.gov number': '',\n",
       "  'all diseases that the drug is tested in': ['metastatic melanoma']},\n",
       " {'target gene name': 'JWA',\n",
       "  'drug name': 'JAC4',\n",
       "  'drug-target interaction': 'agonist',\n",
       "  'ClinicalTrials.gov number': '',\n",
       "  'all diseases that the drug is tested in': ['Lung adenocarcinoma']},\n",
       " {'target gene name': 'BRAF',\n",
       "  'drug name': 'vemurafenib',\n",
       "  'drug-target interaction': '',\n",
       "  'ClinicalTrials.gov number': 'NCT01524978',\n",
       "  'all diseases that the drug is tested in': ['non-small-cell lung cancer',\n",
       "   'Erdheim-Chester disease',\n",
       "   \"Langerhans'-cell histiocytosis\",\n",
       "   'pleomorphic xanthoastrocytoma',\n",
       "   'anaplastic thyroid cancer',\n",
       "   'cholangiocarcinoma',\n",
       "   'salivary-duct cancer',\n",
       "   'ovarian cancer',\n",
       "   'clear-cell sarcoma',\n",
       "   'colorectal cancer']},\n",
       " {'target gene name': 'BRAF',\n",
       "  'drug name': 'cetuximab',\n",
       "  'drug-target interaction': '',\n",
       "  'ClinicalTrials.gov number': 'NCT01524978',\n",
       "  'all diseases that the drug is tested in': ['colorectal cancer']}]"
      ]
     },
     "execution_count": 99,
     "metadata": {},
     "output_type": "execute_result"
    }
   ],
   "source": [
    "data_dict = json.loads(result['choices'][0]['message']['content'])\n",
    "data_dict['sets']"
   ]
  },
  {
   "cell_type": "markdown",
   "id": "becae44e",
   "metadata": {},
   "source": [
    "**Testing different prompts for this 1 use case to resolve the following:**\n",
    "1. It should create a set with drug-gene both mentioned together only if the drug is explicitly described to be acting on the target gene.\n",
    "2. It should pull all possible diseases that the drug is tested in.\n",
    "\n",
    "**Test different system instructions on just this one abstract as it has multiple gene, drug, and disease names. Then, re-test the final selected prompt on all other text chunks used in above cells.**"
   ]
  },
  {
   "cell_type": "code",
   "execution_count": 100,
   "id": "af26ea3a",
   "metadata": {},
   "outputs": [],
   "source": [
    "MODEL = 'gpt-4-turbo-preview'\n",
    "\n",
    "messages = [\n",
    "    {\"role\": \"system\",\"content\": \"\"\"\n",
    "    You are a helpful biologist and meticulous data scientist.\n",
    "    For each of the user text delimited by triple quotes, do the following:\n",
    "    1.Identify which drugs have been tested and create a set for each.\n",
    "    2.For each drug, construct a set consisting of (drug name, target gene name, drug-target interaction, ClinicalTrials.gov number, all diseases that the drug is tested in)\n",
    "    To collect these details and build these sets, use the following rules:\n",
    "    2a)target gene name: only mention if it is explicitly mentioned that the drug targets the gene in some way\n",
    "    2b)drug-target interaction: only mention if the interaction type is clearly specified in the text\n",
    "    3.Identify the relationships accurately to construct each set rather than just extracting information.\n",
    "    4.Assemble all sets and produce 1 final JSON output.\n",
    "    \"\"\" },\n",
    "    {\n",
    "        \"role\": \"user\", \"content\": \"\"\"\n",
    "        Background: BRAF V600 mutations occur in various nonmelanoma cancers. We undertook a histology-independent phase 2 \"basket\" study of vemurafenib in BRAF V600 mutation-positive nonmelanoma cancers.\n",
    "        Methods: We enrolled patients in six prespecified cancer cohorts; patients with all other tumor types were enrolled in a seventh cohort. A total of 122 patients with BRAF V600 mutation-positive cancer were treated, including 27 patients with colorectal cancer who received vemurafenib and cetuximab. The primary end point was the response rate; secondary end points included progression-free and overall survival.\n",
    "        Results: In the cohort with non-small-cell lung cancer, the response rate was 42% (95% confidence interval [CI], 20 to 67) and median progression-free survival was 7.3 months (95% CI, 3.5 to 10.8). In the cohort with Erdheim-Chester disease or Langerhans'-cell histiocytosis, the response rate was 43% (95% CI, 18 to 71); the median treatment duration was 5.9 months (range, 0.6 to 18.6), and no patients had disease progression during therapy. There were anecdotal responses among patients with pleomorphic xanthoastrocytoma, anaplastic thyroid cancer, cholangiocarcinoma, salivary-duct cancer, ovarian cancer, and clear-cell sarcoma and among patients with colorectal cancer who received vemurafenib and cetuximab. Safety was similar to that in prior studies of vemurafenib for melanoma.\n",
    "        Conclusions: BRAF V600 appears to be a targetable oncogene in some, but not all, nonmelanoma cancers. Preliminary vemurafenib activity was observed in non-small-cell lung cancer and in Erdheim-Chester disease and Langerhans'-cell histiocytosis. The histologic context is an important determinant of response in BRAF V600-mutated cancers. (Funded by F. Hoffmann-La Roche/Genentech; ClinicalTrials.gov number, NCT01524978.).\n",
    "        \"\"\"\n",
    "    }\n",
    "]\n",
    "\n",
    "response = client.chat.completions.create(\n",
    "        model=MODEL,\n",
    "        response_format={ \"type\": \"json_object\" },\n",
    "        messages=messages\n",
    "    )"
   ]
  },
  {
   "cell_type": "code",
   "execution_count": 101,
   "id": "deb31930",
   "metadata": {},
   "outputs": [],
   "source": [
    "result = json.loads(response.model_dump_json())"
   ]
  },
  {
   "cell_type": "code",
   "execution_count": 104,
   "id": "ab2dc36f",
   "metadata": {},
   "outputs": [
    {
     "data": {
      "text/plain": [
       "{'drugs_tested': ['vemurafenib', 'cetuximab'],\n",
       " 'vemurafenib': [{'drug_name': 'vemurafenib',\n",
       "   'target_gene_name': 'BRAF V600',\n",
       "   'drug-target_interaction': '',\n",
       "   'ClinicalTrials.gov_number': 'NCT01524978',\n",
       "   'diseases_tested_in': ['non-small-cell lung cancer',\n",
       "    'Erdheim-Chester disease',\n",
       "    \"Langerhans'-cell histiocytosis\",\n",
       "    'pleomorphic xanthoastrocytoma',\n",
       "    'anaplastic thyroid cancer',\n",
       "    'cholangiocarcinoma',\n",
       "    'salivary-duct cancer',\n",
       "    'ovarian cancer',\n",
       "    'clear-cell sarcoma',\n",
       "    'colorectal cancer']}],\n",
       " 'cetuximab': [{'drug_name': 'cetuximab',\n",
       "   'target_gene_name': '',\n",
       "   'drug-target_interaction': '',\n",
       "   'ClinicalTrials.gov_number': '',\n",
       "   'diseases_tested_in': ['colorectal cancer']}]}"
      ]
     },
     "execution_count": 104,
     "metadata": {},
     "output_type": "execute_result"
    }
   ],
   "source": [
    "data_dict = json.loads(result['choices'][0]['message']['content'])\n",
    "data_dict"
   ]
  },
  {
   "cell_type": "markdown",
   "id": "99919053",
   "metadata": {},
   "source": [
    "**It is still showing vemurafenib-BRAF as a pair. Although this is true, it is not actually specified in the text.**\n",
    "Test some more prompts to change this behavior."
   ]
  },
  {
   "cell_type": "code",
   "execution_count": 105,
   "id": "d1c4fd3e",
   "metadata": {},
   "outputs": [],
   "source": [
    "MODEL = 'gpt-4-turbo-preview'\n",
    "\n",
    "messages = [\n",
    "    {\"role\": \"system\",\"content\": \"\"\"\n",
    "    You are a helpful biologist and meticulous data scientist.\n",
    "    For each of the user text delimited by triple quotes, do the following:\n",
    "    1.Identify which drugs have been tested and create a set for each.\n",
    "    2.For each drug, construct a set consisting of (drug name, target gene name, drug-target interaction, ClinicalTrials.gov number, all diseases that the drug is tested in)\n",
    "    To collect these details and build these sets, use the following rules:\n",
    "    2a)target gene name: properly inspect the text to see if it has been mentioned clearly that the said drug interacts with the target. Basically, the drug-target interaction should be mentioned.\n",
    "    2b)drug-target interaction: only mention if the interaction type is clearly specified in the text\n",
    "    3.Identify the relationships accurately to construct each set rather than just extracting information.\n",
    "    4.Assemble all sets and produce 1 final JSON output.\n",
    "    \"\"\" },\n",
    "    {\n",
    "        \"role\": \"user\", \"content\": \"\"\"\n",
    "        Background: BRAF V600 mutations occur in various nonmelanoma cancers. We undertook a histology-independent phase 2 \"basket\" study of vemurafenib in BRAF V600 mutation-positive nonmelanoma cancers.\n",
    "        Methods: We enrolled patients in six prespecified cancer cohorts; patients with all other tumor types were enrolled in a seventh cohort. A total of 122 patients with BRAF V600 mutation-positive cancer were treated, including 27 patients with colorectal cancer who received vemurafenib and cetuximab. The primary end point was the response rate; secondary end points included progression-free and overall survival.\n",
    "        Results: In the cohort with non-small-cell lung cancer, the response rate was 42% (95% confidence interval [CI], 20 to 67) and median progression-free survival was 7.3 months (95% CI, 3.5 to 10.8). In the cohort with Erdheim-Chester disease or Langerhans'-cell histiocytosis, the response rate was 43% (95% CI, 18 to 71); the median treatment duration was 5.9 months (range, 0.6 to 18.6), and no patients had disease progression during therapy. There were anecdotal responses among patients with pleomorphic xanthoastrocytoma, anaplastic thyroid cancer, cholangiocarcinoma, salivary-duct cancer, ovarian cancer, and clear-cell sarcoma and among patients with colorectal cancer who received vemurafenib and cetuximab. Safety was similar to that in prior studies of vemurafenib for melanoma.\n",
    "        Conclusions: BRAF V600 appears to be a targetable oncogene in some, but not all, nonmelanoma cancers. Preliminary vemurafenib activity was observed in non-small-cell lung cancer and in Erdheim-Chester disease and Langerhans'-cell histiocytosis. The histologic context is an important determinant of response in BRAF V600-mutated cancers. (Funded by F. Hoffmann-La Roche/Genentech; ClinicalTrials.gov number, NCT01524978.).\n",
    "        \"\"\"\n",
    "    }\n",
    "]\n",
    "\n",
    "response = client.chat.completions.create(\n",
    "        model=MODEL,\n",
    "        response_format={ \"type\": \"json_object\" },\n",
    "        messages=messages\n",
    "    )"
   ]
  },
  {
   "cell_type": "code",
   "execution_count": 106,
   "id": "b8bec0c4",
   "metadata": {},
   "outputs": [
    {
     "data": {
      "text/plain": [
       "{'tested_drugs': ['vemurafenib', 'cetuximab'],\n",
       " 'vemurafenib': [{'drug_name': 'vemurafenib',\n",
       "   'target_gene_name': 'BRAF V600',\n",
       "   'drug-target_interaction': 'mutation-positive',\n",
       "   'ClinicalTrials.gov_number': 'NCT01524978',\n",
       "   'diseases_tested_in': ['non-small-cell lung cancer',\n",
       "    'Erdheim-Chester disease',\n",
       "    \"Langerhans'-cell histiocytosis\",\n",
       "    'pleomorphic xanthoastrocytoma',\n",
       "    'anaplastic thyroid cancer',\n",
       "    'cholangiocarcinoma',\n",
       "    'salivary-duct cancer',\n",
       "    'ovarian cancer',\n",
       "    'clear-cell sarcoma',\n",
       "    'colorectal cancer']}],\n",
       " 'cetuximab': [{'drug_name': 'cetuximab',\n",
       "   'target_gene_name': 'BRAF V600',\n",
       "   'drug-target_interaction': 'mutation-positive',\n",
       "   'ClinicalTrials.gov_number': 'NCT01524978',\n",
       "   'diseases_tested_in': ['colorectal cancer']}]}"
      ]
     },
     "execution_count": 106,
     "metadata": {},
     "output_type": "execute_result"
    }
   ],
   "source": [
    "result = json.loads(response.model_dump_json())\n",
    "data_dict = json.loads(result['choices'][0]['message']['content'])\n",
    "data_dict"
   ]
  },
  {
   "cell_type": "code",
   "execution_count": null,
   "id": "e185791e",
   "metadata": {},
   "outputs": [],
   "source": []
  },
  {
   "cell_type": "code",
   "execution_count": 107,
   "id": "bf9fd243",
   "metadata": {},
   "outputs": [],
   "source": [
    "MODEL = 'gpt-4-turbo-preview'\n",
    "\n",
    "messages = [\n",
    "    {\"role\": \"system\",\"content\": \"\"\"\n",
    "    You are a helpful biologist and meticulous data scientist.\n",
    "    For each of the user text delimited by triple quotes, do the following:\n",
    "    1. Identify which drugs have been tested and create a set for each.\n",
    "    2. Look for any mention of the drug's target, which gene does the drug target or against what gene was the drug developed? Collect the gene name as target gene name. It is possible for this value to be null if the text does not contain sufficient proof.\n",
    "    3. Briefly indicate how you found this drug-gene combination (logic for identifying gene-drug pair)\n",
    "    4. If target gene name is found, then get the type of drug-target interaction.\n",
    "    5. Collect all diseases for which the drug has been tested.\n",
    "    6. Extract any specific ClinicalTrials.gov identifier or number.\n",
    "    7. For each drug, construct a set consisting of (drug name, target gene name, drug-target interaction, logic, ClinicalTrials.gov number, all diseases that the drug is tested in)\n",
    "    8. Assemble all sets and produce 1 final JSON output.\n",
    "    \"\"\" },\n",
    "    {\n",
    "        \"role\": \"user\", \"content\": \"\"\"\n",
    "        Background: BRAF V600 mutations occur in various nonmelanoma cancers. We undertook a histology-independent phase 2 \"basket\" study of vemurafenib in BRAF V600 mutation-positive nonmelanoma cancers.\n",
    "        Methods: We enrolled patients in six prespecified cancer cohorts; patients with all other tumor types were enrolled in a seventh cohort. A total of 122 patients with BRAF V600 mutation-positive cancer were treated, including 27 patients with colorectal cancer who received vemurafenib and cetuximab. The primary end point was the response rate; secondary end points included progression-free and overall survival.\n",
    "        Results: In the cohort with non-small-cell lung cancer, the response rate was 42% (95% confidence interval [CI], 20 to 67) and median progression-free survival was 7.3 months (95% CI, 3.5 to 10.8). In the cohort with Erdheim-Chester disease or Langerhans'-cell histiocytosis, the response rate was 43% (95% CI, 18 to 71); the median treatment duration was 5.9 months (range, 0.6 to 18.6), and no patients had disease progression during therapy. There were anecdotal responses among patients with pleomorphic xanthoastrocytoma, anaplastic thyroid cancer, cholangiocarcinoma, salivary-duct cancer, ovarian cancer, and clear-cell sarcoma and among patients with colorectal cancer who received vemurafenib and cetuximab. Safety was similar to that in prior studies of vemurafenib for melanoma.\n",
    "        Conclusions: BRAF V600 appears to be a targetable oncogene in some, but not all, nonmelanoma cancers. Preliminary vemurafenib activity was observed in non-small-cell lung cancer and in Erdheim-Chester disease and Langerhans'-cell histiocytosis. The histologic context is an important determinant of response in BRAF V600-mutated cancers. (Funded by F. Hoffmann-La Roche/Genentech; ClinicalTrials.gov number, NCT01524978.).\n",
    "        \"\"\"\n",
    "    }\n",
    "]\n",
    "\n",
    "response = client.chat.completions.create(\n",
    "        model=MODEL,\n",
    "        response_format={ \"type\": \"json_object\" },\n",
    "        messages=messages\n",
    "    )"
   ]
  },
  {
   "cell_type": "markdown",
   "id": "112d0806",
   "metadata": {},
   "source": [
    "**Pros and cons of the result**\n",
    "\n",
    "PROS:\n",
    "1. Shows the logic of ID'ing a drug-target pair.\n",
    "2. It didn't put any target for Cetuximab.\n",
    "3. Correctly ID'd all diseases.\n",
    "\n",
    "CONS:\n",
    "1. Incorrectly puts mutation-targeting as an interaction type. We're looking for specific types like inhibitor, agonist, blocker, etc."
   ]
  },
  {
   "cell_type": "code",
   "execution_count": 108,
   "id": "7560d0a3",
   "metadata": {},
   "outputs": [
    {
     "data": {
      "text/plain": [
       "{'sets': [{'drug name': 'vemurafenib',\n",
       "   'target gene name': 'BRAF',\n",
       "   'drug-target interaction': 'mutation-targeting',\n",
       "   'logic': 'The text specifies that vemurafenib was used in the context of BRAF V600 mutation-positive cancers, indicating the drug targets BRAF V600 mutations.',\n",
       "   'ClinicalTrials.gov number': 'NCT01524978',\n",
       "   'all diseases that the drug is tested in': ['nonmelanoma cancers',\n",
       "    'colorectal cancer',\n",
       "    'non-small-cell lung cancer',\n",
       "    'Erdheim-Chester disease',\n",
       "    \"Langerhans'-cell histiocytosis\",\n",
       "    'pleomorphic xanthoastrocytoma',\n",
       "    'anaplastic thyroid cancer',\n",
       "    'cholangiocarcinoma',\n",
       "    'salivary-duct cancer',\n",
       "    'ovarian cancer',\n",
       "    'clear-cell sarcoma']},\n",
       "  {'drug name': 'cetuximab',\n",
       "   'target gene name': None,\n",
       "   'drug-target interaction': None,\n",
       "   'logic': 'The text mentions cetuximab was received by patients with colorectal cancer in combination with vemurafenib, but does not specify the gene target for cetuximab.',\n",
       "   'ClinicalTrials.gov number': 'NCT01524978',\n",
       "   'all diseases that the drug is tested in': ['colorectal cancer']}]}"
      ]
     },
     "execution_count": 108,
     "metadata": {},
     "output_type": "execute_result"
    }
   ],
   "source": [
    "result = json.loads(response.model_dump_json())\n",
    "data_dict = json.loads(result['choices'][0]['message']['content'])\n",
    "data_dict"
   ]
  },
  {
   "cell_type": "code",
   "execution_count": 113,
   "id": "babccb6a",
   "metadata": {},
   "outputs": [],
   "source": [
    "MODEL = 'gpt-4-turbo-preview'\n",
    "\n",
    "messages = [\n",
    "    {\"role\": \"system\",\"content\": \"\"\"\n",
    "    You are a meticulous data scientist.\n",
    "    For each of the user text delimited by triple quotes, do the following:\n",
    "    1. Identify which drugs have been tested and create a set for each.\n",
    "    2. For this step be very conservative: If and only if the text explicitly mentions the drug's target, collect it as target gene name.\n",
    "    Just because a drug is tested in samples having a certain gene, doesn't mean that gene is a target. Do not imply or extrapolate information.\n",
    "    This fact should be directly present in the text and clearly mentioned.\n",
    "    3. If you do find a target gene name, briefly indicate how you found this drug-gene combination (logic for identifying gene-drug pair)\n",
    "    4. If target gene name is found, then get the type of drug - example, is it an inhibitor, blocker, etc. for the target gene?\n",
    "    5. Collect all diseases for which the drug has been tested.\n",
    "    6. Extract any specific ClinicalTrials.gov identifier or number.\n",
    "    7. For each drug, construct a set consisting of (drug name, target gene name, drug-target interaction, logic, ClinicalTrials.gov number, all diseases that the drug is tested in)\n",
    "    8. Any empty values should be indicated by null and not an empty string.\n",
    "    9. Assemble all sets and produce 1 final JSON output.\n",
    "    \"\"\" },\n",
    "    {\n",
    "        \"role\": \"user\", \"content\": \"\"\"\n",
    "        Background: BRAF V600 mutations occur in various nonmelanoma cancers. We undertook a histology-independent phase 2 \"basket\" study of vemurafenib in BRAF V600 mutation-positive nonmelanoma cancers.\n",
    "        Methods: We enrolled patients in six prespecified cancer cohorts; patients with all other tumor types were enrolled in a seventh cohort. A total of 122 patients with BRAF V600 mutation-positive cancer were treated, including 27 patients with colorectal cancer who received vemurafenib and cetuximab. The primary end point was the response rate; secondary end points included progression-free and overall survival.\n",
    "        Results: In the cohort with non-small-cell lung cancer, the response rate was 42% (95% confidence interval [CI], 20 to 67) and median progression-free survival was 7.3 months (95% CI, 3.5 to 10.8). In the cohort with Erdheim-Chester disease or Langerhans'-cell histiocytosis, the response rate was 43% (95% CI, 18 to 71); the median treatment duration was 5.9 months (range, 0.6 to 18.6), and no patients had disease progression during therapy. There were anecdotal responses among patients with pleomorphic xanthoastrocytoma, anaplastic thyroid cancer, cholangiocarcinoma, salivary-duct cancer, ovarian cancer, and clear-cell sarcoma and among patients with colorectal cancer who received vemurafenib and cetuximab. Safety was similar to that in prior studies of vemurafenib for melanoma.\n",
    "        Conclusions: BRAF V600 appears to be a targetable oncogene in some, but not all, nonmelanoma cancers. Preliminary vemurafenib activity was observed in non-small-cell lung cancer and in Erdheim-Chester disease and Langerhans'-cell histiocytosis. The histologic context is an important determinant of response in BRAF V600-mutated cancers. (Funded by F. Hoffmann-La Roche/Genentech; ClinicalTrials.gov number, NCT01524978.).\n",
    "        \"\"\"\n",
    "    }\n",
    "]\n",
    "\n",
    "response = client.chat.completions.create(\n",
    "        model=MODEL,\n",
    "        response_format={ \"type\": \"json_object\" },\n",
    "        messages=messages\n",
    "    )"
   ]
  },
  {
   "cell_type": "markdown",
   "id": "e84ae1e8",
   "metadata": {},
   "source": [
    "**Still, it extracts BRAF as a target. Again, this is true but it actually is not directly mentioned in the text. It is implying this information. While this fact is true here, it may not be true for some other case.**"
   ]
  },
  {
   "cell_type": "code",
   "execution_count": 114,
   "id": "1c881251",
   "metadata": {},
   "outputs": [
    {
     "data": {
      "text/plain": [
       "{'sets': [{'drug name': 'vemurafenib',\n",
       "   'target gene name': 'BRAF',\n",
       "   'drug-target interaction': 'Inhibitor',\n",
       "   'logic': 'The text explicitly mentions vemurafenib in the context of BRAF V600 mutation-positive cancers, indicating BRAF as the target gene vemurafenib inhibits.',\n",
       "   'ClinicalTrials.gov number': 'NCT01524978',\n",
       "   'all diseases that the drug is tested in': ['non-small-cell lung cancer',\n",
       "    'Erdheim-Chester disease',\n",
       "    \"Langerhans'-cell histiocytosis\",\n",
       "    'pleomorphic xanthoastrocytoma',\n",
       "    'anaplastic thyroid cancer',\n",
       "    'cholangiocarcinoma',\n",
       "    'salivary-duct cancer',\n",
       "    'ovarian cancer',\n",
       "    'clear-cell sarcoma',\n",
       "    'colorectal cancer']},\n",
       "  {'drug name': 'cetuximab',\n",
       "   'target gene name': None,\n",
       "   'drug-target interaction': None,\n",
       "   'logic': None,\n",
       "   'ClinicalTrials.gov number': None,\n",
       "   'all diseases that the drug is tested in': ['colorectal cancer']}]}"
      ]
     },
     "execution_count": 114,
     "metadata": {},
     "output_type": "execute_result"
    }
   ],
   "source": [
    "result = json.loads(response.model_dump_json())\n",
    "data_dict = json.loads(result['choices'][0]['message']['content'])\n",
    "data_dict"
   ]
  },
  {
   "cell_type": "markdown",
   "id": "3057036b",
   "metadata": {},
   "source": [
    "**Create a few examples to test few shot inferencing and identify the optimal prompt, before applying it to abstracts.**"
   ]
  },
  {
   "cell_type": "code",
   "execution_count": 115,
   "id": "d62291ff",
   "metadata": {},
   "outputs": [],
   "source": [
    "MODEL = 'gpt-4-turbo-preview'\n",
    "\n",
    "messages = [\n",
    "    {\"role\": \"system\",\"content\": \"\"\"\n",
    "    You are a meticulous data scientist.\n",
    "    For each of the user text delimited by triple quotes, do the following:\n",
    "    1. Identify which drugs have been tested and create a set for each.\n",
    "    2. For this step be very conservative: If and only if the text explicitly mentions the drug's target, collect it as target gene name.\n",
    "    Just because a drug is tested in samples having a certain gene, doesn't mean that gene is a target. Do not imply or extrapolate information.\n",
    "    This fact should be directly present in the text and clearly mentioned.\n",
    "    3. If you do find a target gene name, briefly indicate how you found this drug-gene combination (logic for identifying gene-drug pair)\n",
    "    4. If target gene name is found, then get the type of drug - example, is it an inhibitor, blocker, etc. for the target gene?\n",
    "    5. Collect all diseases for which the drug has been tested.\n",
    "    6. Extract any specific ClinicalTrials.gov identifier or number.\n",
    "    7. For each drug, construct a set consisting of (drug name, target gene name, drug-target interaction, logic, ClinicalTrials.gov number, all diseases that the drug is tested in)\n",
    "    8. Any empty values should be indicated by null and not an empty string.\n",
    "    9. Assemble all sets and produce 1 final JSON output.\n",
    "    \"\"\" },\n",
    "    {\n",
    "        \"role\": \"user\", \"content\": \"\"\"\n",
    "        Drug ABC has been widely tested for ovarian cancers. \n",
    "        However, it's applications have been unknown in hematological cancers. \n",
    "        In this study, we show that ABC, a gene X inhibitor, shows efficacy in cell lines for the following cancer types: ALL, AML, CML, and myeloma.\n",
    "        Furthermore, we also discover a vulnerability in these cancers specific to the gene Y, where cancers with high expression of gene Y are more sensitive to ABC.        \n",
    "        \"\"\"\n",
    "    },\n",
    "    {\n",
    "        \"role\": \"assistant\", \"content\":\"\"\"\n",
    "        drug name: ABC\n",
    "        target gene name: X\n",
    "        drug-target-interaction: inhibitor\n",
    "        logic: Text explicitly mentions that ABC is an inhibitor for X. Although it was tested and shown to be effective in Y- high expressing cancers, it is not explicitly mentioned that Y is also a target of ABC. \n",
    "        all diseases drug is tested in: hematological cancers, ALL, AML, CML, myeloma\n",
    "        ClinicalTrials.gov ID: null\n",
    "        \"\"\"\n",
    "    },\n",
    "    {\n",
    "        \"role\": \"user\", \"content\": \"\"\"\n",
    "        Background: BRAF V600 mutations occur in various nonmelanoma cancers. We undertook a histology-independent phase 2 \"basket\" study of vemurafenib in BRAF V600 mutation-positive nonmelanoma cancers.\n",
    "        Methods: We enrolled patients in six prespecified cancer cohorts; patients with all other tumor types were enrolled in a seventh cohort. A total of 122 patients with BRAF V600 mutation-positive cancer were treated, including 27 patients with colorectal cancer who received vemurafenib and cetuximab. The primary end point was the response rate; secondary end points included progression-free and overall survival.\n",
    "        Results: In the cohort with non-small-cell lung cancer, the response rate was 42% (95% confidence interval [CI], 20 to 67) and median progression-free survival was 7.3 months (95% CI, 3.5 to 10.8). In the cohort with Erdheim-Chester disease or Langerhans'-cell histiocytosis, the response rate was 43% (95% CI, 18 to 71); the median treatment duration was 5.9 months (range, 0.6 to 18.6), and no patients had disease progression during therapy. There were anecdotal responses among patients with pleomorphic xanthoastrocytoma, anaplastic thyroid cancer, cholangiocarcinoma, salivary-duct cancer, ovarian cancer, and clear-cell sarcoma and among patients with colorectal cancer who received vemurafenib and cetuximab. Safety was similar to that in prior studies of vemurafenib for melanoma.\n",
    "        Conclusions: BRAF V600 appears to be a targetable oncogene in some, but not all, nonmelanoma cancers. Preliminary vemurafenib activity was observed in non-small-cell lung cancer and in Erdheim-Chester disease and Langerhans'-cell histiocytosis. The histologic context is an important determinant of response in BRAF V600-mutated cancers. (Funded by F. Hoffmann-La Roche/Genentech; ClinicalTrials.gov number, NCT01524978.).\n",
    "\n",
    "        \"\"\"\n",
    "    }\n",
    "]\n",
    "\n",
    "response = client.chat.completions.create(\n",
    "        model=MODEL,\n",
    "        response_format={ \"type\": \"json_object\" },\n",
    "        messages=messages\n",
    "    )"
   ]
  },
  {
   "cell_type": "code",
   "execution_count": 116,
   "id": "e8cf8787",
   "metadata": {},
   "outputs": [
    {
     "data": {
      "text/plain": [
       "{'vemurafenib': [{'drug name': 'vemurafenib',\n",
       "   'target gene name': 'BRAF',\n",
       "   'drug-target interaction': 'null',\n",
       "   'logic': 'null',\n",
       "   'ClinicalTrials.gov number': 'NCT01524978',\n",
       "   'all diseases drug is tested in': ['nonmelanoma cancers',\n",
       "    'non-small-cell lung cancer',\n",
       "    'Erdheim-Chester disease',\n",
       "    \"Langerhans'-cell histiocytosis\",\n",
       "    'pleomorphic xanthoastrocytoma',\n",
       "    'anaplastic thyroid cancer',\n",
       "    'cholangiocarcinoma',\n",
       "    'salivary-duct cancer',\n",
       "    'ovarian cancer',\n",
       "    'clear-cell sarcoma',\n",
       "    'colorectal cancer']}],\n",
       " 'cetuximab': [{'drug name': 'cetuximab',\n",
       "   'target gene name': 'null',\n",
       "   'drug-target interaction': 'null',\n",
       "   'logic': 'null',\n",
       "   'ClinicalTrials.gov number': 'null',\n",
       "   'all diseases drug is tested in': ['colorectal cancer']}]}"
      ]
     },
     "execution_count": 116,
     "metadata": {},
     "output_type": "execute_result"
    }
   ],
   "source": [
    "result = json.loads(response.model_dump_json())\n",
    "data_dict = json.loads(result['choices'][0]['message']['content'])\n",
    "data_dict"
   ]
  },
  {
   "cell_type": "code",
   "execution_count": 117,
   "id": "0d1258d2",
   "metadata": {},
   "outputs": [],
   "source": [
    "MODEL = 'gpt-4-turbo-preview'\n",
    "\n",
    "messages = [\n",
    "    {\"role\": \"system\",\"content\": \"\"\"\n",
    "    You are a meticulous data scientist.\n",
    "    For each of the user text delimited by triple quotes, do the following:\n",
    "    1. Identify which drugs have been tested and create a set for each.\n",
    "    2. Identify the drug targets and categorize them as direct or indirect: Use the following logic.\n",
    "    direct target: if the text clearly and directly mentions that the drug targets a gene\n",
    "    indirect target: if the text does not explicitly mention the drug and target relationship but the drug is tested on some gene, then put that gene name here.\n",
    "    3. Briefly indicate the logic for identifying the direct and indirect targets. \n",
    "    4. Again if explicitly and clearly mentioned, then get the drug-direct target relationship type. What does the drug do to the direct target? inhibitor, activator, etc.?\n",
    "    5. Collect all diseases for which the drug has been tested.\n",
    "    6. Extract any specific ClinicalTrials.gov identifier or number.\n",
    "    7. For each drug, construct a set consisting of (drug name, direct target, indirect target, drug-direct target interaction, logic for direct target, logic for indirect target, ClinicalTrials.gov number, all diseases that the drug is tested in)\n",
    "    8. Any empty values should be indicated by null and not an empty string.\n",
    "    9. Assemble all sets and produce 1 final JSON output.\n",
    "    \"\"\" },\n",
    "    {\n",
    "        \"role\": \"user\", \"content\": \"\"\"\n",
    "        Drug ABC has been widely tested for ovarian cancers. \n",
    "        However, it's applications have been unknown in hematological cancers. \n",
    "        In this study, we show that ABC, a gene X inhibitor, shows efficacy in cell lines for the following cancer types: ALL, AML, CML, and myeloma.\n",
    "        Furthermore, we also discover a vulnerability in these cancers specific to the gene Y, where cancers with high expression of gene Y are more sensitive to ABC.        \n",
    "        \"\"\"\n",
    "    },\n",
    "    {\n",
    "        \"role\": \"assistant\", \"content\":\"\"\"\n",
    "        drug name: ABC\n",
    "        direct target: X\n",
    "        indirect target: Y\n",
    "        drug-direct target-interaction: inhibitor\n",
    "        logic for direct target: Text explicitly mentions that ABC is an inhibitor for X, so X is a direct target. \n",
    "        logic for indirect target: Although ABC was tested and shown to be effective in Y- high expressing cancers, it is not explicitly mentioned that Y is also a target of ABC. So, Y is an indirect target of drug ABC.\n",
    "        all diseases drug is tested in: hematological cancers, ALL, AML, CML, myeloma\n",
    "        ClinicalTrials.gov ID: null\n",
    "        \"\"\"\n",
    "    },\n",
    "    {\n",
    "        \"role\": \"user\", \"content\": \"\"\"\n",
    "        Background: BRAF V600 mutations occur in various nonmelanoma cancers. We undertook a histology-independent phase 2 \"basket\" study of vemurafenib in BRAF V600 mutation-positive nonmelanoma cancers.\n",
    "        Methods: We enrolled patients in six prespecified cancer cohorts; patients with all other tumor types were enrolled in a seventh cohort. A total of 122 patients with BRAF V600 mutation-positive cancer were treated, including 27 patients with colorectal cancer who received vemurafenib and cetuximab. The primary end point was the response rate; secondary end points included progression-free and overall survival.\n",
    "        Results: In the cohort with non-small-cell lung cancer, the response rate was 42% (95% confidence interval [CI], 20 to 67) and median progression-free survival was 7.3 months (95% CI, 3.5 to 10.8). In the cohort with Erdheim-Chester disease or Langerhans'-cell histiocytosis, the response rate was 43% (95% CI, 18 to 71); the median treatment duration was 5.9 months (range, 0.6 to 18.6), and no patients had disease progression during therapy. There were anecdotal responses among patients with pleomorphic xanthoastrocytoma, anaplastic thyroid cancer, cholangiocarcinoma, salivary-duct cancer, ovarian cancer, and clear-cell sarcoma and among patients with colorectal cancer who received vemurafenib and cetuximab. Safety was similar to that in prior studies of vemurafenib for melanoma.\n",
    "        Conclusions: BRAF V600 appears to be a targetable oncogene in some, but not all, nonmelanoma cancers. Preliminary vemurafenib activity was observed in non-small-cell lung cancer and in Erdheim-Chester disease and Langerhans'-cell histiocytosis. The histologic context is an important determinant of response in BRAF V600-mutated cancers. (Funded by F. Hoffmann-La Roche/Genentech; ClinicalTrials.gov number, NCT01524978.).\n",
    "\n",
    "        \"\"\"\n",
    "    }\n",
    "]\n",
    "\n",
    "response = client.chat.completions.create(\n",
    "        model=MODEL,\n",
    "        response_format={ \"type\": \"json_object\" },\n",
    "        messages=messages\n",
    "    )"
   ]
  },
  {
   "cell_type": "code",
   "execution_count": 118,
   "id": "5eab3b55",
   "metadata": {},
   "outputs": [
    {
     "data": {
      "text/plain": [
       "{'ABC': {'drug name': 'ABC',\n",
       "  'direct target': 'X',\n",
       "  'indirect target': 'Y',\n",
       "  'drug-direct target interaction': 'inhibitor',\n",
       "  'logic for direct target': 'Explicitly mentioned as a gene X inhibitor.',\n",
       "  'logic for indirect target': 'ABC shown effective in Y-high expressing cancers without explicitly mentioning Y as a target.',\n",
       "  'ClinicalTrials.gov number': None,\n",
       "  'all diseases that the drug is tested in': ['ovarian cancer',\n",
       "   'hematological cancers',\n",
       "   'ALL',\n",
       "   'AML',\n",
       "   'CML',\n",
       "   'myeloma']},\n",
       " 'vemurafenib': {'drug name': 'vemurafenib',\n",
       "  'direct target': 'BRAF V600',\n",
       "  'indirect target': None,\n",
       "  'drug-direct target interaction': None,\n",
       "  'logic for direct target': 'Study on vemurafenib in BRAF V600 mutation-positive nonmelanoma cancers.',\n",
       "  'logic for indirect target': None,\n",
       "  'ClinicalTrials.gov number': 'NCT01524978',\n",
       "  'all diseases that the drug is tested in': ['non-small-cell lung cancer',\n",
       "   'Erdheim-Chester disease',\n",
       "   \"Langerhans'-cell histiocytosis\",\n",
       "   'pleomorphic xanthoastrocytoma',\n",
       "   'anaplastic thyroid cancer',\n",
       "   'cholangiocarcinoma',\n",
       "   'salivary-duct cancer',\n",
       "   'ovarian cancer',\n",
       "   'clear-cell sarcoma',\n",
       "   'colorectal cancer']}}"
      ]
     },
     "execution_count": 118,
     "metadata": {},
     "output_type": "execute_result"
    }
   ],
   "source": [
    "result = json.loads(response.model_dump_json())\n",
    "data_dict = json.loads(result['choices'][0]['message']['content'])\n",
    "data_dict"
   ]
  },
  {
   "cell_type": "code",
   "execution_count": 120,
   "id": "82f8d509",
   "metadata": {},
   "outputs": [],
   "source": [
    "MODEL = 'gpt-4-turbo-preview'\n",
    "\n",
    "messages = [\n",
    "    {\"role\": \"system\",\"content\": \"\"\"\n",
    "    You are a meticulous data scientist.\n",
    "    For each of the user text delimited by triple quotes, do the following:\n",
    "    1. Identify which drugs have been tested and create a set for each.\n",
    "    2. Identify the drug targets and categorize them as direct or indirect: Use the following logic.\n",
    "    direct target: if the text clearly and directly mentions that the drug targets a gene\n",
    "    indirect target: if the text does not explicitly mention the drug and target relationship but the drug is tested on some gene, then put that gene name here.\n",
    "    3. Briefly indicate the logic for identifying the direct and indirect targets. \n",
    "    4. Again if explicitly and clearly mentioned, then get the drug-direct target relationship type. What does the drug do to the direct target? inhibitor, activator, etc.?\n",
    "    5. Collect all diseases for which the drug has been tested.\n",
    "    6. Extract any specific ClinicalTrials.gov identifier or number.\n",
    "    7. For each drug, construct a set consisting of (drug name, direct target, indirect target, drug-direct target interaction, logic for direct target, logic for indirect target, ClinicalTrials.gov number, all diseases that the drug is tested in)\n",
    "    8. Any empty values should be indicated by null and not an empty string.\n",
    "    9. Double check your logic and see if the data you have collected is actually reflected in the text. If not, make revisions.\n",
    "    9. Assemble all sets and produce 1 final JSON output.\n",
    "    \"\"\" },\n",
    "    {\n",
    "        \"role\": \"user\", \"content\": \"\"\"\n",
    "        Drug ABC has been widely tested for ovarian cancers. \n",
    "        However, it's applications have been unknown in hematological cancers. \n",
    "        In this study, we show that ABC, a gene X inhibitor, shows efficacy in cell lines for the following cancer types: ALL, AML, CML, and myeloma.\n",
    "        Furthermore, we also discover a vulnerability in these cancers specific to the gene Y, where cancers with high expression of gene Y are more sensitive to ABC.        \n",
    "        \"\"\"\n",
    "    },\n",
    "    {\n",
    "        \"role\": \"assistant\", \"content\":\"\"\"\n",
    "        drug name: ABC\n",
    "        direct target: X\n",
    "        indirect target: Y\n",
    "        drug-direct target-interaction: inhibitor\n",
    "        logic for direct target: Text explicitly mentions that ABC is an inhibitor for X, so X is a direct target. \n",
    "        logic for indirect target: Although ABC was tested and shown to be effective in Y- high expressing cancers, it is not explicitly mentioned that Y is also a target of ABC. So, Y is an indirect target of drug ABC.\n",
    "        all diseases drug is tested in: hematological cancers, ALL, AML, CML, myeloma\n",
    "        ClinicalTrials.gov ID: null\n",
    "        \"\"\"\n",
    "    },\n",
    "    {\n",
    "        \"role\":\"user\",\"content\":\"Great, you correctly identified that Y is not a direct target but that X is a direct target of ABC.\"\n",
    "    },\n",
    "    {\n",
    "        \"role\": \"user\", \"content\": \"\"\"\n",
    "        Background: BRAF V600 mutations occur in various nonmelanoma cancers. We undertook a histology-independent phase 2 \"basket\" study of vemurafenib in BRAF V600 mutation-positive nonmelanoma cancers.\n",
    "        Methods: We enrolled patients in six prespecified cancer cohorts; patients with all other tumor types were enrolled in a seventh cohort. A total of 122 patients with BRAF V600 mutation-positive cancer were treated, including 27 patients with colorectal cancer who received vemurafenib and cetuximab. The primary end point was the response rate; secondary end points included progression-free and overall survival.\n",
    "        Results: In the cohort with non-small-cell lung cancer, the response rate was 42% (95% confidence interval [CI], 20 to 67) and median progression-free survival was 7.3 months (95% CI, 3.5 to 10.8). In the cohort with Erdheim-Chester disease or Langerhans'-cell histiocytosis, the response rate was 43% (95% CI, 18 to 71); the median treatment duration was 5.9 months (range, 0.6 to 18.6), and no patients had disease progression during therapy. There were anecdotal responses among patients with pleomorphic xanthoastrocytoma, anaplastic thyroid cancer, cholangiocarcinoma, salivary-duct cancer, ovarian cancer, and clear-cell sarcoma and among patients with colorectal cancer who received vemurafenib and cetuximab. Safety was similar to that in prior studies of vemurafenib for melanoma.\n",
    "        Conclusions: BRAF V600 appears to be a targetable oncogene in some, but not all, nonmelanoma cancers. Preliminary vemurafenib activity was observed in non-small-cell lung cancer and in Erdheim-Chester disease and Langerhans'-cell histiocytosis. The histologic context is an important determinant of response in BRAF V600-mutated cancers. (Funded by F. Hoffmann-La Roche/Genentech; ClinicalTrials.gov number, NCT01524978.).\n",
    "\n",
    "        \"\"\"\n",
    "    }\n",
    "]\n",
    "\n",
    "response = client.chat.completions.create(\n",
    "        model=MODEL,\n",
    "        response_format={ \"type\": \"json_object\" },\n",
    "        messages=messages\n",
    "    )"
   ]
  },
  {
   "cell_type": "code",
   "execution_count": 121,
   "id": "5cf7c941",
   "metadata": {},
   "outputs": [
    {
     "data": {
      "text/plain": [
       "{'drugs': [{'drug name': 'vemurafenib',\n",
       "   'direct target': 'BRAF V600',\n",
       "   'indirect target': None,\n",
       "   'drug-direct target interaction': None,\n",
       "   'logic for direct target': 'The study involved vemurafenib targeting BRAF V600 mutation-positive nonmelanoma cancers, thus BRAF V600 is a direct target.',\n",
       "   'logic for indirect target': 'There is no explicit mention of an indirect target in the provided text.',\n",
       "   'ClinicalTrials.gov number': 'NCT01524978',\n",
       "   'all diseases drug is tested in': ['non-small-cell lung cancer',\n",
       "    'Erdheim-Chester disease',\n",
       "    \"Langerhans'-cell histiocytosis\",\n",
       "    'colorectal cancer',\n",
       "    'pleomorphic xanthoastrocytoma',\n",
       "    'anaplastic thyroid cancer',\n",
       "    'cholangiocarcinoma',\n",
       "    'salivary-duct cancer',\n",
       "    'ovarian cancer',\n",
       "    'clear-cell sarcoma']},\n",
       "  {'drug name': 'cetuximab',\n",
       "   'direct target': None,\n",
       "   'indirect target': None,\n",
       "   'drug-direct target interaction': None,\n",
       "   'logic for direct target': \"There is no explicit information provided about cetuximab's direct target within the text.\",\n",
       "   'logic for indirect target': 'There is no explicit mention of an indirect target for cetuximab in the provided text.',\n",
       "   'ClinicalTrials.gov number': 'NCT01524978',\n",
       "   'all diseases drug is tested in': ['colorectal cancer']}]}"
      ]
     },
     "execution_count": 121,
     "metadata": {},
     "output_type": "execute_result"
    }
   ],
   "source": [
    "result = json.loads(response.model_dump_json())\n",
    "data_dict = json.loads(result['choices'][0]['message']['content'])\n",
    "data_dict"
   ]
  },
  {
   "cell_type": "code",
   "execution_count": 122,
   "id": "cbe45ed7",
   "metadata": {},
   "outputs": [],
   "source": [
    "MODEL = 'gpt-4-turbo-preview'\n",
    "\n",
    "messages = [\n",
    "    {\"role\": \"system\",\"content\": \"\"\"\n",
    "    You are a meticulous data scientist.\n",
    "    For each of the user text delimited by triple quotes, do the following:\n",
    "    1. Identify which drugs have been tested and create a set for each.\n",
    "    2. Identify the drug targets and categorize them as direct or indirect: Use the following logic.\n",
    "    direct target: if the text clearly and directly mentions that the drug targets a gene\n",
    "    indirect target: if the text does not explicitly mention the drug and target relationship but the drug is tested on some gene, then put that gene name here.\n",
    "    3. Briefly indicate the logic for identifying the direct and indirect targets. \n",
    "    4. Again if explicitly and clearly mentioned, then get the drug-direct target relationship type. What does the drug do to the direct target? inhibitor, activator, etc.?\n",
    "    5. Collect all diseases for which the drug has been tested.\n",
    "    6. Extract any specific ClinicalTrials.gov identifier or number.\n",
    "    7. For each drug, construct a set consisting of (drug name, direct target, indirect target, drug-direct target interaction, logic for direct target, logic for indirect target, ClinicalTrials.gov number, all diseases that the drug is tested in)\n",
    "    8. Any empty values should be indicated by null and not an empty string.\n",
    "    9. Double check your logic and see if the data you have collected is actually reflected in the text. If not, make revisions.\n",
    "    9. Assemble all sets and produce 1 final JSON output.\n",
    "    \"\"\" },\n",
    "    {\n",
    "        \"role\": \"user\", \"content\": \"\"\"\n",
    "        Drug ABC has been widely tested for ovarian cancers. \n",
    "        However, it's applications have been unknown in hematological cancers. \n",
    "        In this study, we show that ABC, a gene X inhibitor, shows efficacy in cell lines for the following cancer types: ALL, AML, CML, and myeloma.\n",
    "        Furthermore, we also discover a vulnerability in these cancers specific to the gene Y, where cancers with high expression of gene Y are more sensitive to ABC.        \n",
    "        \"\"\"\n",
    "    },\n",
    "    {\n",
    "        \"role\": \"assistant\", \"content\":\"\"\"\n",
    "        drug name: ABC\n",
    "        direct target: X\n",
    "        indirect target: Y\n",
    "        drug-direct target-interaction: inhibitor\n",
    "        logic for direct target: Text explicitly mentions that ABC is an inhibitor for X, so X is a direct target. \n",
    "        logic for indirect target: Although ABC was tested and shown to be effective in Y- high expressing cancers, it is not explicitly mentioned that Y is also a target of ABC. So, Y is an indirect target of drug ABC.\n",
    "        all diseases drug is tested in: hematological cancers, ALL, AML, CML, myeloma\n",
    "        ClinicalTrials.gov ID: null\n",
    "        \"\"\"\n",
    "    },\n",
    "    {\n",
    "        \"role\":\"user\",\"content\":\"Great, you correctly identified that Y is not a direct target but that X is a direct target of ABC.\"\n",
    "    },\n",
    "    {\n",
    "        \"role\": \"user\", \"content\": \"\"\"\n",
    "        Treatment-refractory lupus nephritis (LN) has a high risk of a poor outcome and is often life-threatening. Here we report a case series of six patients (one male and five females) with a median age of 41.3 years (range, 20-61 years) with refractory LN who received renal biopsies and were subsequently treated with intravenous daratumumab, an anti-CD38 monoclonal antibody (weekly for 8 weeks, followed by eight biweekly infusions and up to eight monthly infusions). One patient did not show any improvement after 6 months of therapy, and daratumumab was discontinued. In five patients, the mean disease activity, as assessed by the Systemic Lupus Erythematosus Disease Activity 2000 index, decreased from 10.8 before treatment to 3.6 at 12 months after treatment. Mean proteinuria (5.6 g per 24 h to 0.8 g per 24 h) and mean serum creatinine (2.3 mg dl-1 to 1.5 mg dl-1) also decreased after 12 months. Improvement of clinical symptoms was accompanied by seroconversion of anti-double-stranded DNA antibodies; decreases in median interferon-gamma levels, B cell maturation antigen and soluble CD163 levels; and increases in C4 and interleukin-10 levels. These data suggest that daratumumab monotherapy warrants further exploration as a potential treatment for refractory LN.\n",
    "        \"\"\"\n",
    "    }\n",
    "]\n",
    "\n",
    "response = client.chat.completions.create(\n",
    "        model=MODEL,\n",
    "        response_format={ \"type\": \"json_object\" },\n",
    "        messages=messages\n",
    "    )"
   ]
  },
  {
   "cell_type": "code",
   "execution_count": 123,
   "id": "cec09e8c",
   "metadata": {},
   "outputs": [
    {
     "data": {
      "text/plain": [
       "{'daratumumab': {'direct_target': 'CD38',\n",
       "  'indirect_target': None,\n",
       "  'drug_direct_target_interaction': 'anti-CD38 monoclonal antibody',\n",
       "  'logic_for_direct_target': 'The text explicitly mentions daratumumab as an anti-CD38 monoclonal antibody, indicating a direct interaction with CD38 as its target.',\n",
       "  'logic_for_indirect_target': 'No indirect targets are mentioned as being affected by daratumumab; the effects on other molecules like interferon-gamma, B cell maturation antigen, soluble CD163, C4, and interleukin-10 are likely downstream consequences rather than direct targets.',\n",
       "  'clinical_trials_gov_id': None,\n",
       "  'all_diseases_tested_in': 'lupus nephritis (LN)'}}"
      ]
     },
     "execution_count": 123,
     "metadata": {},
     "output_type": "execute_result"
    }
   ],
   "source": [
    "result = json.loads(response.model_dump_json())\n",
    "data_dict = json.loads(result['choices'][0]['message']['content'])\n",
    "data_dict"
   ]
  },
  {
   "cell_type": "code",
   "execution_count": 124,
   "id": "6a4672d9",
   "metadata": {},
   "outputs": [],
   "source": [
    "MODEL = 'gpt-4-turbo-preview'\n",
    "\n",
    "messages = [\n",
    "    {\"role\": \"system\",\"content\": \"\"\"\n",
    "    You are a meticulous data scientist.\n",
    "    For each of the user text delimited by triple quotes, do the following:\n",
    "    1. Identify which drugs have been tested and create a set for each.\n",
    "    2. Identify the drug targets and categorize them as direct or indirect: Use the following logic.\n",
    "    direct target: if the text clearly and directly mentions that the drug targets a gene\n",
    "    indirect target: if the text does not explicitly mention the drug and target relationship but the drug is tested on some gene, then put that gene name here.\n",
    "    3. Briefly indicate the logic for identifying the direct and indirect targets. \n",
    "    4. Again if explicitly and clearly mentioned, then get the drug-direct target relationship type. What does the drug do to the direct target? inhibitor, activator, etc.?\n",
    "    5. Collect all diseases for which the drug has been tested.\n",
    "    6. Extract any specific ClinicalTrials.gov identifier or number.\n",
    "    7. For each drug, construct a set consisting of (drug name, direct target, indirect target, drug-direct target interaction, logic for direct target, logic for indirect target, ClinicalTrials.gov number, all diseases that the drug is tested in)\n",
    "    8. Any empty values should be indicated by null and not an empty string.\n",
    "    9. Double check your logic and see if the data you have collected is actually reflected in the text. If not, make revisions.\n",
    "    9. Assemble all sets and produce 1 final JSON output.\n",
    "    \"\"\" },\n",
    "    {\n",
    "        \"role\": \"user\", \"content\": \"\"\"\n",
    "        Drug ABC has been widely tested for ovarian cancers. \n",
    "        However, it's applications have been unknown in hematological cancers. \n",
    "        In this study, we show that ABC, a gene X inhibitor, shows efficacy in cell lines for the following cancer types: ALL, AML, CML, and myeloma.\n",
    "        Furthermore, we also discover a vulnerability in these cancers specific to the gene Y, where cancers with high expression of gene Y are more sensitive to ABC.        \n",
    "        \"\"\"\n",
    "    },\n",
    "    {\n",
    "        \"role\": \"assistant\", \"content\":\"\"\"\n",
    "        drug name: ABC\n",
    "        direct target: X\n",
    "        indirect target: Y\n",
    "        drug-direct target-interaction: inhibitor\n",
    "        logic for direct target: Text explicitly mentions that ABC is an inhibitor for X, so X is a direct target. \n",
    "        logic for indirect target: Although ABC was tested and shown to be effective in Y- high expressing cancers, it is not explicitly mentioned that Y is also a target of ABC. So, Y is an indirect target of drug ABC.\n",
    "        all diseases drug is tested in: hematological cancers, ALL, AML, CML, myeloma\n",
    "        ClinicalTrials.gov ID: null\n",
    "        \"\"\"\n",
    "    },\n",
    "    {\n",
    "        \"role\":\"user\",\"content\":\"Great, you correctly identified that Y is not a direct target but that X is a direct target of ABC.\"\n",
    "    },\n",
    "    {\n",
    "        \"role\": \"user\", \"content\": \"\"\"\n",
    "        LKB1/STK11 is a serine/threonine kinase that plays a major role in controlling cell metabolism, resulting in potential therapeutic vulnerabilities in LKB1-mutant cancers. Here, we identify the NAD + degrading ectoenzyme, CD38, as a new target in LKB1-mutant NSCLC. Metabolic profiling of genetically engineered mouse models (GEMMs) revealed that LKB1 mutant lung cancers have a striking increase in ADP-ribose, a breakdown product of the critical redox co-factor, NAD + . Surprisingly, compared with other genetic subsets, murine and human LKB1-mutant NSCLC show marked overexpression of the NAD+-catabolizing ectoenzyme, CD38 on the surface of tumor cells. Loss of LKB1 or inactivation of Salt-Inducible Kinases (SIKs)-key downstream effectors of LKB1- induces CD38 transcription induction via a CREB binding site in the CD38 promoter. Treatment with the FDA-approved anti-CD38 antibody, daratumumab, inhibited growth of LKB1-mutant NSCLC xenografts. Together, these results reveal CD38 as a promising therapeutic target in patients with LKB1 mutant lung cancer.\n",
    "        \"\"\"\n",
    "    }\n",
    "]\n",
    "\n",
    "response = client.chat.completions.create(\n",
    "        model=MODEL,\n",
    "        response_format={ \"type\": \"json_object\" },\n",
    "        messages=messages\n",
    "    )"
   ]
  },
  {
   "cell_type": "markdown",
   "id": "644512a6",
   "metadata": {},
   "source": [
    "**It should have pulled LKB-1 as an indirect target.**"
   ]
  },
  {
   "cell_type": "code",
   "execution_count": 125,
   "id": "6cf05ff8",
   "metadata": {
    "scrolled": true
   },
   "outputs": [
    {
     "data": {
      "text/plain": [
       "{'drugs': [{'drug name': 'daratumumab',\n",
       "   'direct target': 'CD38',\n",
       "   'indirect target': None,\n",
       "   'drug-direct target interaction': 'inhibitor',\n",
       "   'logic for direct target': 'Text explicitly mentions daratumumab as an FDA-approved anti-CD38 antibody, indicating it targets CD38 directly.',\n",
       "   'logic for indirect target': \"No indirect targets are explicitly mentioned in relation to daratumumab's action.\",\n",
       "   'ClinicalTrials.gov number': None,\n",
       "   'all diseases that the drug is tested in': ['LKB1-mutant NSCLC']}]}"
      ]
     },
     "execution_count": 125,
     "metadata": {},
     "output_type": "execute_result"
    }
   ],
   "source": [
    "result = json.loads(response.model_dump_json())\n",
    "data_dict = json.loads(result['choices'][0]['message']['content'])\n",
    "data_dict"
   ]
  },
  {
   "cell_type": "markdown",
   "id": "af8c6a68",
   "metadata": {},
   "source": [
    "**Change the format of the prompt by explicitly highlighting an examples section.**"
   ]
  },
  {
   "cell_type": "code",
   "execution_count": 126,
   "id": "792ce786",
   "metadata": {},
   "outputs": [],
   "source": [
    "MODEL = 'gpt-4-turbo-preview'\n",
    "\n",
    "messages = [\n",
    "    {\"role\": \"system\",\"content\": \"\"\"\n",
    "    You are a meticulous data scientist building out a drug-target dataset from biomedical text.\n",
    "    \"\"\" },\n",
    "    {\n",
    "        \"role\": \"user\", \"content\": \"\"\"\n",
    "        Look at the examples delimited by ### and the rules delimited by ***.\n",
    "        *** RULES ***\n",
    "        For each of the user text delimited by triple quotes, do the following:\n",
    "    1. Identify which drugs have been tested and create a set for each.\n",
    "    2. Identify the drug targets and categorize them as direct or indirect: Use the following logic.\n",
    "    direct target: if the text clearly and directly mentions that the drug targets a gene\n",
    "    indirect target: if the text does not explicitly mention the drug and target relationship but the drug is tested on some gene, then put that gene name here.\n",
    "    3. Briefly indicate the logic for identifying the direct and indirect targets. \n",
    "    4. Again if explicitly and clearly mentioned, then get the drug-direct target relationship type. What does the drug do to the direct target? inhibitor, activator, etc.?\n",
    "    5. Collect all diseases for which the drug has been tested.\n",
    "    6. Extract any specific ClinicalTrials.gov identifier or number.\n",
    "    7. For each drug, construct a set consisting of (drug name, direct target, indirect target, drug-direct target interaction, logic for direct target, logic for indirect target, ClinicalTrials.gov number, all diseases that the drug is tested in)\n",
    "    8. Any empty values should be indicated by null and not an empty string.\n",
    "    9. Double check your logic and see if the data you have collected is actually reflected in the text. If not, make revisions.\n",
    "    9. Assemble all sets and produce 1 final JSON output.\n",
    "    \n",
    "        ### EXAMPLES \n",
    "        Example 1: LKB1/STK11 is a serine/threonine kinase that plays a major role in controlling cell metabolism, resulting in potential therapeutic vulnerabilities in LKB1-mutant cancers. Here, we identify the NAD + degrading ectoenzyme, CD38, as a new target in LKB1-mutant NSCLC. Metabolic profiling of genetically engineered mouse models (GEMMs) revealed that LKB1 mutant lung cancers have a striking increase in ADP-ribose, a breakdown product of the critical redox co-factor, NAD + . Surprisingly, compared with other genetic subsets, murine and human LKB1-mutant NSCLC show marked overexpression of the NAD+-catabolizing ectoenzyme, CD38 on the surface of tumor cells. Loss of LKB1 or inactivation of Salt-Inducible Kinases (SIKs)-key downstream effectors of LKB1- induces CD38 transcription induction via a CREB binding site in the CD38 promoter. Treatment with the FDA-approved anti-CD38 antibody, daratumumab, inhibited growth of LKB1-mutant NSCLC xenografts. Together, these results reveal CD38 as a promising therapeutic target in patients with LKB1 mutant lung cancer.\n",
    "        Output: {drug name: daratumumab,\n",
    "        direct target: CD38, \n",
    "        indirect target: LKB-1/STK-11, \n",
    "        drug-direct target interaction: anti-CD38 monoclonal antibody,\n",
    "        direct target logic: explicitly mentioned,\n",
    "        indirect target logic: drug shown to be effective in cancers with LKB-1 mutations,\n",
    "        drug tested in following diseases: lung cancer, NSCLC,\n",
    "        ClinicalTrials.gov ID: null}\n",
    "        \n",
    "        Example 2: Triple-negative breast cancers (TNBC) frequently inactivate p53, increasing their aggressiveness and therapy resistance. We identified an unexpected protein vulnerability in p53-inactivated TNBC and designed a new PROteolysis TArgeting Chimera (PROTAC) to target it. Our PROTAC selectively targets MDM2 for proteasome-mediated degradation with high-affinity binding and VHL recruitment. MDM2 loss in p53 mutant/deleted TNBC cells in two-dimensional/three-dimensional culture and TNBC patient explants, including relapsed tumors, causes apoptosis while sparing normal cells. Our MDM2-PROTAC is stable in vivo, and treatment of TNBC xenograft-bearing mice demonstrates tumor on-target efficacy with no toxicity to normal cells, significantly extending survival. Transcriptomic analyses revealed upregulation of p53 family target genes. Investigations showed activation and a required role for TAp73 to mediate MDM2-PROTAC-induced apoptosis. Our data, challenging the current MDM2/p53 paradigm, show MDM2 is required for p53-inactivated TNBC cell survival, and PROTAC-targeted MDM2 degradation is an innovative potential therapeutic strategy for TNBC and superior to existing MDM2 inhibitors. \n",
    "        Output: {drug name: MDM2-PROTAC,\n",
    "        direct target: MDM2\n",
    "        indirect target: p53, \n",
    "        drug-direct target interaction: degrader,\n",
    "        direct target logic: explicit mention - PROTAC selectively targets MDM2 for degradation,\n",
    "        indirect target logic: drug kills cells with inactive p53 ,\n",
    "        drug tested in following diseases: breast cancer, Triple-negative breast cancer TNBC\n",
    "        ClinicalTrials.gov ID: null}\n",
    "        \n",
    "    Use the RULES and EXAMPLES and create a similar output for the following text:\n",
    "        Background: BRAF V600 mutations occur in various nonmelanoma cancers. We undertook a histology-independent phase 2 \"basket\" study of vemurafenib in BRAF V600 mutation-positive nonmelanoma cancers.\n",
    "        Methods: We enrolled patients in six prespecified cancer cohorts; patients with all other tumor types were enrolled in a seventh cohort. A total of 122 patients with BRAF V600 mutation-positive cancer were treated, including 27 patients with colorectal cancer who received vemurafenib and cetuximab. The primary end point was the response rate; secondary end points included progression-free and overall survival.\n",
    "        Results: In the cohort with non-small-cell lung cancer, the response rate was 42% (95% confidence interval [CI], 20 to 67) and median progression-free survival was 7.3 months (95% CI, 3.5 to 10.8). In the cohort with Erdheim-Chester disease or Langerhans'-cell histiocytosis, the response rate was 43% (95% CI, 18 to 71); the median treatment duration was 5.9 months (range, 0.6 to 18.6), and no patients had disease progression during therapy. There were anecdotal responses among patients with pleomorphic xanthoastrocytoma, anaplastic thyroid cancer, cholangiocarcinoma, salivary-duct cancer, ovarian cancer, and clear-cell sarcoma and among patients with colorectal cancer who received vemurafenib and cetuximab. Safety was similar to that in prior studies of vemurafenib for melanoma.\n",
    "        Conclusions: BRAF V600 appears to be a targetable oncogene in some, but not all, nonmelanoma cancers. Preliminary vemurafenib activity was observed in non-small-cell lung cancer and in Erdheim-Chester disease and Langerhans'-cell histiocytosis. The histologic context is an important determinant of response in BRAF V600-mutated cancers. (Funded by F. Hoffmann-La Roche/Genentech; ClinicalTrials.gov number, NCT01524978.).\n",
    "\n",
    "        \"\"\"\n",
    "    }\n",
    "]\n",
    "\n",
    "response = client.chat.completions.create(\n",
    "        model=MODEL,\n",
    "        response_format={ \"type\": \"json_object\" },\n",
    "        messages=messages\n",
    "    )"
   ]
  },
  {
   "cell_type": "code",
   "execution_count": 127,
   "id": "cbb67590",
   "metadata": {},
   "outputs": [
    {
     "data": {
      "text/plain": [
       "{'drug name': 'vemurafenib',\n",
       " 'direct target': 'BRAF V600',\n",
       " 'indirect target': None,\n",
       " 'drug-direct target interaction': 'null',\n",
       " 'direct target logic': 'explicit mention - study of vemurafenib in BRAF V600 mutation-positive nonmelanoma cancers',\n",
       " 'indirect target logic': 'null',\n",
       " 'drug tested in following diseases': ['non-small-cell lung cancer',\n",
       "  'Erdheim-Chester disease',\n",
       "  \"Langerhans'-cell histiocytosis\",\n",
       "  'colorectal cancer',\n",
       "  'pleomorphic xanthoastrocytoma',\n",
       "  'anaplastic thyroid cancer',\n",
       "  'cholangiocarcinoma',\n",
       "  'salivary-duct cancer',\n",
       "  'ovarian cancer',\n",
       "  'clear-cell sarcoma'],\n",
       " 'ClinicalTrials.gov ID': 'NCT01524978'}"
      ]
     },
     "execution_count": 127,
     "metadata": {},
     "output_type": "execute_result"
    }
   ],
   "source": [
    "result = json.loads(response.model_dump_json())\n",
    "data_dict = json.loads(result['choices'][0]['message']['content'])\n",
    "data_dict"
   ]
  },
  {
   "cell_type": "code",
   "execution_count": 139,
   "id": "7dd00891",
   "metadata": {},
   "outputs": [],
   "source": [
    "MODEL = 'gpt-4-turbo-preview'\n",
    "\n",
    "messages = [\n",
    "    {\"role\": \"system\",\"content\": \"\"\"\n",
    "    You are a meticulous data scientist building out a drug-target dataset from biomedical text.\n",
    "    \"\"\" },\n",
    "    {\n",
    "        \"role\": \"user\", \"content\": \"\"\"\n",
    "        Look at the examples delimited by ### and the rules delimited by ***.\n",
    "        *** RULES \n",
    "        For each of the text shown under TASKS, do the following:\n",
    "    1. Identify which drugs have been tested and create a set for each. \n",
    "    2. Return multiple sets if more than drug is present in the text.\n",
    "    \n",
    "    For each drug:\n",
    "    3. Get direct target: Use the following logic: if the text clearly and directly mentions that the drug targets a gene and has also defined the type of interaction\n",
    "    4. Get interaction type between the drug and direct target: if explicitly and clearly mentioned, then get the drug-direct target relationship type. What does the drug do to the direct target? inhibitor, activator, etc.?\n",
    "    5. Get groups tested: specify which type of genes was the drug tested on, eg. if drug was tested on samples showing high expression of certain gene.\n",
    "    6. Collect all disease names for which the drug has been tested.\n",
    "    7. Extract any specific ClinicalTrials.gov identifier or number.\n",
    "    8. For each drug, construct a set consisting of (drug name, direct target, drug-direct target interaction, tested or effective group, logic for direct target, ClinicalTrials.gov number, all diseases that the drug is tested in)\n",
    "    9. Any empty values should be indicated by null and not an empty string.\n",
    "    10. Double check your logic and see if the data you have collected is actually reflected in the text. If not, make revisions.\n",
    "    11. Both, direct target, and drug-direct target interaction fields should have been filled or both should be null. Only one of these fields cannot be null.\n",
    "    11. Assemble all sets and produce 1 final JSON output.\n",
    "    ***\n",
    "        ### EXAMPLES \n",
    "        Example 1: LKB1/STK11 is a serine/threonine kinase that plays a major role in controlling cell metabolism, resulting in potential therapeutic vulnerabilities in LKB1-mutant cancers. Here, we identify the NAD + degrading ectoenzyme, CD38, as a new target in LKB1-mutant NSCLC. Metabolic profiling of genetically engineered mouse models (GEMMs) revealed that LKB1 mutant lung cancers have a striking increase in ADP-ribose, a breakdown product of the critical redox co-factor, NAD + . Surprisingly, compared with other genetic subsets, murine and human LKB1-mutant NSCLC show marked overexpression of the NAD+-catabolizing ectoenzyme, CD38 on the surface of tumor cells. Loss of LKB1 or inactivation of Salt-Inducible Kinases (SIKs)-key downstream effectors of LKB1- induces CD38 transcription induction via a CREB binding site in the CD38 promoter. Treatment with the FDA-approved anti-CD38 antibody, daratumumab, inhibited growth of LKB1-mutant NSCLC xenografts. Together, these results reveal CD38 as a promising therapeutic target in patients with LKB1 mutant lung cancer.\n",
    "        Output: {drug name: daratumumab,\n",
    "        direct target: CD38, \n",
    "        tested or effective group: LKB-1/STK-11 mutant NSCLC, \n",
    "        drug-direct target interaction: anti-CD38 monoclonal antibody,\n",
    "        drug tested in following diseases: lung cancer, NSCLC,\n",
    "        ClinicalTrials.gov ID: null}\n",
    "        ###\n",
    "        TASKS:\n",
    "    Use the RULES and EXAMPLES and create a similar outputs for the following text delimited by ID:\n",
    "    ID1:Triple-negative breast cancers (TNBC) frequently inactivate p53, increasing their aggressiveness and therapy resistance. We identified an unexpected protein vulnerability in p53-inactivated TNBC and designed a new PROteolysis TArgeting Chimera (PROTAC) to target it. Our PROTAC selectively targets MDM2 for proteasome-mediated degradation with high-affinity binding and VHL recruitment. MDM2 loss in p53 mutant/deleted TNBC cells in two-dimensional/three-dimensional culture and TNBC patient explants, including relapsed tumors, causes apoptosis while sparing normal cells. Our MDM2-PROTAC is stable in vivo, and treatment of TNBC xenograft-bearing mice demonstrates tumor on-target efficacy with no toxicity to normal cells, significantly extending survival. Transcriptomic analyses revealed upregulation of p53 family target genes. Investigations showed activation and a required role for TAp73 to mediate MDM2-PROTAC-induced apoptosis. Our data, challenging the current MDM2/p53 paradigm, show MDM2 is required for p53-inactivated TNBC cell survival, and PROTAC-targeted MDM2 degradation is an innovative potential therapeutic strategy for TNBC and superior to existing MDM2 inhibitors. \n",
    "    \n",
    "    ID2:Background: BRAF V600 mutations occur in various nonmelanoma cancers. We undertook a histology-independent phase 2 \"basket\" study of vemurafenib in BRAF V600 mutation-positive nonmelanoma cancers.\n",
    "        Methods: We enrolled patients in six prespecified cancer cohorts; patients with all other tumor types were enrolled in a seventh cohort. A total of 122 patients with BRAF V600 mutation-positive cancer were treated, including 27 patients with colorectal cancer who received vemurafenib and cetuximab. The primary end point was the response rate; secondary end points included progression-free and overall survival.\n",
    "        Results: In the cohort with non-small-cell lung cancer, the response rate was 42% (95% confidence interval [CI], 20 to 67) and median progression-free survival was 7.3 months (95% CI, 3.5 to 10.8). In the cohort with Erdheim-Chester disease or Langerhans'-cell histiocytosis, the response rate was 43% (95% CI, 18 to 71); the median treatment duration was 5.9 months (range, 0.6 to 18.6), and no patients had disease progression during therapy. There were anecdotal responses among patients with pleomorphic xanthoastrocytoma, anaplastic thyroid cancer, cholangiocarcinoma, salivary-duct cancer, ovarian cancer, and clear-cell sarcoma and among patients with colorectal cancer who received vemurafenib and cetuximab. Safety was similar to that in prior studies of vemurafenib for melanoma.\n",
    "        Conclusions: BRAF V600 appears to be a targetable oncogene in some, but not all, nonmelanoma cancers. Preliminary vemurafenib activity was observed in non-small-cell lung cancer and in Erdheim-Chester disease and Langerhans'-cell histiocytosis. The histologic context is an important determinant of response in BRAF V600-mutated cancers. (Funded by F. Hoffmann-La Roche/Genentech; ClinicalTrials.gov number, NCT01524978.).\n",
    "\n",
    "        \"\"\"\n",
    "    }\n",
    "]\n",
    "\n",
    "response = client.chat.completions.create(\n",
    "        model=MODEL,\n",
    "        response_format={ \"type\": \"json_object\" },\n",
    "        messages=messages\n",
    "    )"
   ]
  },
  {
   "cell_type": "markdown",
   "id": "0e49c650",
   "metadata": {},
   "source": [
    "**This solution looks reasonable. It captured Cetuximab as well, however it again tagged BRAF as a direct target even though this is not explicitly mentioned in the text.**"
   ]
  },
  {
   "cell_type": "code",
   "execution_count": 140,
   "id": "50929423",
   "metadata": {},
   "outputs": [
    {
     "data": {
      "text/plain": [
       "{'ID1': {'drug name': 'PROTAC',\n",
       "  'direct target': 'MDM2',\n",
       "  'drug-direct target interaction': 'proteasome-mediated degradation',\n",
       "  'tested or effective group': 'p53 mutant/deleted TNBC',\n",
       "  'logic for direct target': None,\n",
       "  'ClinicalTrials.gov ID': None,\n",
       "  'drug tested in following diseases': ['Triple-negative breast cancer (TNBC)']},\n",
       " 'ID2': [{'drug name': 'vemurafenib',\n",
       "   'direct target': 'BRAF V600',\n",
       "   'drug-direct target interaction': 'inhibitor',\n",
       "   'tested or effective group': 'BRAF V600 mutation-positive nonmelanoma cancers',\n",
       "   'logic for direct target': None,\n",
       "   'ClinicalTrials.gov ID': 'NCT01524978',\n",
       "   'drug tested in following diseases': ['non-small-cell lung cancer',\n",
       "    'Erdheim-Chester disease',\n",
       "    \"Langerhans'-cell histiocytosis\",\n",
       "    'pleomorphic xanthoastrocytoma',\n",
       "    'anaplastic thyroid cancer',\n",
       "    'cholangiocarcinoma',\n",
       "    'salivary-duct cancer',\n",
       "    'ovarian cancer',\n",
       "    'clear-cell sarcoma']},\n",
       "  {'drug name': 'cetuximab',\n",
       "   'direct target': None,\n",
       "   'drug-direct target interaction': None,\n",
       "   'tested or effective group': 'colorectal cancer',\n",
       "   'logic for direct target': None,\n",
       "   'ClinicalTrials.gov ID': 'NCT01524978',\n",
       "   'drug tested in following diseases': ['colorectal cancer']}]}"
      ]
     },
     "execution_count": 140,
     "metadata": {},
     "output_type": "execute_result"
    }
   ],
   "source": [
    "result = json.loads(response.model_dump_json())\n",
    "data_dict = json.loads(result['choices'][0]['message']['content'])\n",
    "data_dict"
   ]
  },
  {
   "cell_type": "code",
   "execution_count": 141,
   "id": "aaa709b1",
   "metadata": {},
   "outputs": [],
   "source": [
    "MODEL = 'gpt-4-turbo-preview'\n",
    "\n",
    "messages = [\n",
    "    {\"role\": \"system\",\"content\": \"\"\"\n",
    "    You are a meticulous data scientist working on named entity recognition and building out a drug-target dataset from biomedical text.\n",
    "    \"\"\" },\n",
    "    {\n",
    "        \"role\": \"user\", \"content\": \"\"\"\n",
    "        Look at the examples delimited by ### and the rules delimited by ***.\n",
    "        *** RULES \n",
    "        For each of the text shown under TASKS, do the following:\n",
    "    1. Identify which drugs have been tested and create a set for each. \n",
    "    2. Return multiple sets if more than drug is present in the text.\n",
    "    \n",
    "    For each drug:\n",
    "    3. Get direct target: Use the following logic: if the text clearly and directly mentions that the drug targets a gene and has also defined the type of interaction\n",
    "    4. Get interaction type between the drug and direct target: if explicitly and clearly mentioned, then get the drug-direct target relationship type. What does the drug do to the direct target? inhibitor, activator, etc.?\n",
    "    5. Get groups tested: specify which type of genes was the drug tested on, eg. if drug was tested on samples showing high expression of certain gene.\n",
    "    6. Collect all disease names for which the drug has been tested.\n",
    "    7. Extract any specific ClinicalTrials.gov identifier or number.\n",
    "    8. For each drug, construct a set consisting of (drug name, direct target, drug-direct target interaction, tested or effective group, logic for direct target, ClinicalTrials.gov number, all diseases that the drug is tested in)\n",
    "    9. Any empty values should be indicated by null and not an empty string.\n",
    "    10. Double check your logic and see if the data you have collected is actually reflected in the text. If not, make revisions.\n",
    "    11. Both, direct target, and drug-direct target interaction fields should have been filled or both should be null. Only one of these fields cannot be null.\n",
    "    11. Assemble all sets and produce 1 final JSON output.\n",
    "    ***\n",
    "        ### EXAMPLES \n",
    "        Example 1: LKB1/STK11 is a serine/threonine kinase that plays a major role in controlling cell metabolism, resulting in potential therapeutic vulnerabilities in LKB1-mutant cancers. Here, we identify the NAD + degrading ectoenzyme, CD38, as a new target in LKB1-mutant NSCLC. Metabolic profiling of genetically engineered mouse models (GEMMs) revealed that LKB1 mutant lung cancers have a striking increase in ADP-ribose, a breakdown product of the critical redox co-factor, NAD + . Surprisingly, compared with other genetic subsets, murine and human LKB1-mutant NSCLC show marked overexpression of the NAD+-catabolizing ectoenzyme, CD38 on the surface of tumor cells. Loss of LKB1 or inactivation of Salt-Inducible Kinases (SIKs)-key downstream effectors of LKB1- induces CD38 transcription induction via a CREB binding site in the CD38 promoter. Treatment with the FDA-approved anti-CD38 antibody, daratumumab, inhibited growth of LKB1-mutant NSCLC xenografts. Together, these results reveal CD38 as a promising therapeutic target in patients with LKB1 mutant lung cancer.\n",
    "        Output: {drug name: daratumumab,\n",
    "        direct target: CD38, \n",
    "        tested or effective group: LKB-1/STK-11 mutant NSCLC, \n",
    "        logic for direct target: text mentioned it is an anti-CD38 antibody\n",
    "        drug-direct target interaction: anti-CD38 monoclonal antibody,\n",
    "        drug tested in following diseases: lung cancer, NSCLC,\n",
    "        ClinicalTrials.gov ID: null}\n",
    "        ###\n",
    "        TASKS:\n",
    "    Use the RULES and EXAMPLES and create a similar outputs for the following text delimited by ID:\n",
    "    ID1:Triple-negative breast cancers (TNBC) frequently inactivate p53, increasing their aggressiveness and therapy resistance. We identified an unexpected protein vulnerability in p53-inactivated TNBC and designed a new PROteolysis TArgeting Chimera (PROTAC) to target it. Our PROTAC selectively targets MDM2 for proteasome-mediated degradation with high-affinity binding and VHL recruitment. MDM2 loss in p53 mutant/deleted TNBC cells in two-dimensional/three-dimensional culture and TNBC patient explants, including relapsed tumors, causes apoptosis while sparing normal cells. Our MDM2-PROTAC is stable in vivo, and treatment of TNBC xenograft-bearing mice demonstrates tumor on-target efficacy with no toxicity to normal cells, significantly extending survival. Transcriptomic analyses revealed upregulation of p53 family target genes. Investigations showed activation and a required role for TAp73 to mediate MDM2-PROTAC-induced apoptosis. Our data, challenging the current MDM2/p53 paradigm, show MDM2 is required for p53-inactivated TNBC cell survival, and PROTAC-targeted MDM2 degradation is an innovative potential therapeutic strategy for TNBC and superior to existing MDM2 inhibitors. \n",
    "    \n",
    "    ID2:Background: BRAF V600 mutations occur in various nonmelanoma cancers. We undertook a histology-independent phase 2 \"basket\" study of vemurafenib in BRAF V600 mutation-positive nonmelanoma cancers.\n",
    "        Methods: We enrolled patients in six prespecified cancer cohorts; patients with all other tumor types were enrolled in a seventh cohort. A total of 122 patients with BRAF V600 mutation-positive cancer were treated, including 27 patients with colorectal cancer who received vemurafenib and cetuximab. The primary end point was the response rate; secondary end points included progression-free and overall survival.\n",
    "        Results: In the cohort with non-small-cell lung cancer, the response rate was 42% (95% confidence interval [CI], 20 to 67) and median progression-free survival was 7.3 months (95% CI, 3.5 to 10.8). In the cohort with Erdheim-Chester disease or Langerhans'-cell histiocytosis, the response rate was 43% (95% CI, 18 to 71); the median treatment duration was 5.9 months (range, 0.6 to 18.6), and no patients had disease progression during therapy. There were anecdotal responses among patients with pleomorphic xanthoastrocytoma, anaplastic thyroid cancer, cholangiocarcinoma, salivary-duct cancer, ovarian cancer, and clear-cell sarcoma and among patients with colorectal cancer who received vemurafenib and cetuximab. Safety was similar to that in prior studies of vemurafenib for melanoma.\n",
    "        Conclusions: BRAF V600 appears to be a targetable oncogene in some, but not all, nonmelanoma cancers. Preliminary vemurafenib activity was observed in non-small-cell lung cancer and in Erdheim-Chester disease and Langerhans'-cell histiocytosis. The histologic context is an important determinant of response in BRAF V600-mutated cancers. (Funded by F. Hoffmann-La Roche/Genentech; ClinicalTrials.gov number, NCT01524978.).\n",
    "\n",
    "        \"\"\"\n",
    "    }\n",
    "]\n",
    "\n",
    "response = client.chat.completions.create(\n",
    "        model=MODEL,\n",
    "        response_format={ \"type\": \"json_object\" },\n",
    "        messages=messages,\n",
    "        seed=0\n",
    "    )"
   ]
  },
  {
   "cell_type": "code",
   "execution_count": 142,
   "id": "29b3c542",
   "metadata": {},
   "outputs": [
    {
     "data": {
      "text/plain": [
       "{'ID1': {'drug name': 'MDM2-PROTAC',\n",
       "  'direct target': 'MDM2',\n",
       "  'tested or effective group': 'p53 mutant/deleted TNBC',\n",
       "  'logic for direct target': 'Our PROTAC selectively targets MDM2 for proteasome-mediated degradation with high-affinity binding and VHL recruitment',\n",
       "  'drug-direct target interaction': 'proteasome-mediated degradation',\n",
       "  'drug tested in following diseases': 'Triple-negative breast cancer (TNBC)',\n",
       "  'ClinicalTrials.gov ID': None},\n",
       " 'ID2': {'drug name': 'vemurafenib',\n",
       "  'direct target': 'BRAF V600',\n",
       "  'tested or effective group': 'BRAF V600 mutation-positive nonmelanoma cancers',\n",
       "  'logic for direct target': 'vemurafenib in BRAF V600 mutation-positive nonmelanoma cancers',\n",
       "  'drug-direct target interaction': 'inhibitor',\n",
       "  'drug tested in following diseases': \"non-small-cell lung cancer, Erdheim-Chester disease, Langerhans'-cell histiocytosis, pleomorphic xanthoastrocytoma, anaplastic thyroid cancer, cholangiocarcinoma, salivary-duct cancer, ovarian cancer, clear-cell sarcoma, colorectal cancer\",\n",
       "  'ClinicalTrials.gov ID': 'NCT01524978'},\n",
       " 'ID2_extra': {'drug name': 'cetuximab',\n",
       "  'direct target': None,\n",
       "  'tested or effective group': 'colorectal cancer in combination with vemurafenib',\n",
       "  'logic for direct target': None,\n",
       "  'drug-direct target interaction': None,\n",
       "  'drug tested in following diseases': 'colorectal cancer',\n",
       "  'ClinicalTrials.gov ID': 'NCT01524978'}}"
      ]
     },
     "execution_count": 142,
     "metadata": {},
     "output_type": "execute_result"
    }
   ],
   "source": [
    "result = json.loads(response.model_dump_json())\n",
    "data_dict = json.loads(result['choices'][0]['message']['content'])\n",
    "data_dict"
   ]
  },
  {
   "cell_type": "code",
   "execution_count": 143,
   "id": "e08caeb6",
   "metadata": {},
   "outputs": [
    {
     "data": {
      "text/plain": [
       "{'completion_tokens': 414, 'prompt_tokens': 1532, 'total_tokens': 1946}"
      ]
     },
     "execution_count": 143,
     "metadata": {},
     "output_type": "execute_result"
    }
   ],
   "source": [
    "result['usage']"
   ]
  },
  {
   "cell_type": "markdown",
   "id": "aff108a9",
   "metadata": {},
   "source": [
    "**Since it is still catching targets by implying from text, let's try some smaller phrases to see it's behavior. Also try chain of thought prompting.**"
   ]
  },
  {
   "cell_type": "code",
   "execution_count": 150,
   "id": "d941097f",
   "metadata": {},
   "outputs": [],
   "source": [
    "MODEL = 'gpt-4-turbo-preview'\n",
    "\n",
    "messages = [\n",
    "    {\"role\": \"system\",\"content\": \"\"\"\n",
    "    You are a meticulous data scientist working on named entity recognition and building out a drug-target dataset from biomedical text.\n",
    "    Return a single JSON output combining outputs from all tasks contained within ###.\n",
    "    \"\"\" },\n",
    "    {\n",
    "        \"role\": \"user\", \"content\": \"\"\"\n",
    "        Look at this example and logically arriving at any drug and target information. Return a set capturing drug target information. \n",
    "        Example: We tested Vemurafenib in KRASG12C mutated cancers and showed that is very effective in these cancers.\n",
    "        \n",
    "        Answer=The text talks about the drug Vemurafenib. It was tested in cancers with a gene mutation in KRAS gene.\n",
    "        However, it does not say that the drug is designed to target the KRAS gene. So, KRAS should not be labeled as a target for Vemurafenib.\n",
    "        The answer is {drug name: Vemurafenib, target name: None}\n",
    "        \n",
    "        ### TASKS\n",
    "        Task 1 - Sotorosib is a newly approved FDA drug and is designed to inhibit the KRAS gene.\n",
    "        Task 2 - Venetoclax efficacy was shown to be very poor in AXL mutated cancers.\n",
    "        Task 3 - Paclitaxel is a very common chemotherapy known to deregulate the microtubule dynamics.\n",
    "        \n",
    "        \"\"\"\n",
    "    }\n",
    "]\n",
    "\n",
    "response = client.chat.completions.create(\n",
    "        model=MODEL,\n",
    "        response_format={ \"type\": \"json_object\" },\n",
    "        messages=messages,\n",
    "        seed=0\n",
    "    )"
   ]
  },
  {
   "cell_type": "code",
   "execution_count": 151,
   "id": "3a7dd965",
   "metadata": {},
   "outputs": [
    {
     "data": {
      "text/plain": [
       "ChatCompletion(id='chatcmpl-8xQlSVIvrgHv6pKNky15sTmgTVhfO', choices=[Choice(finish_reason='stop', index=0, logprobs=None, message=ChatCompletionMessage(content='{\\n  \"Task 1\": {\\n    \"drug name\": \"Sotorosib\",\\n    \"target name\": \"KRAS\"\\n  },\\n  \"Task 2\": {\\n    \"drug name\": \"Venetoclax\",\\n    \"target name\": \"None\"\\n  },\\n  \"Task 3\": {\\n    \"drug name\": \"Paclitaxel\",\\n    \"target name\": \"microtubule dynamics\"\\n  }\\n}', role='assistant', function_call=None, tool_calls=None))], created=1709174926, model='gpt-4-0125-preview', object='chat.completion', system_fingerprint='fp_89b1a570e1', usage=CompletionUsage(completion_tokens=92, prompt_tokens=271, total_tokens=363))"
      ]
     },
     "execution_count": 151,
     "metadata": {},
     "output_type": "execute_result"
    }
   ],
   "source": [
    "response"
   ]
  },
  {
   "cell_type": "markdown",
   "id": "32d2e08e",
   "metadata": {},
   "source": [
    "**Let's run the exact same prompt again - many times, it actually changes the behavior.**"
   ]
  },
  {
   "cell_type": "code",
   "execution_count": 155,
   "id": "394cfe39",
   "metadata": {},
   "outputs": [],
   "source": [
    "MODEL = 'gpt-4-turbo-preview'\n",
    "\n",
    "messages = [\n",
    "    {\"role\": \"system\",\"content\": \"\"\"\n",
    "    You are a meticulous data scientist working on named entity recognition and building out a drug-target dataset from biomedical text.\n",
    "    Return a single JSON output combining outputs from all tasks contained within ###.\n",
    "    \"\"\" },\n",
    "    {\n",
    "        \"role\": \"user\", \"content\": \"\"\"\n",
    "        Look at this example and logically arriving at any drug and target information. Return a set capturing drug target information. \n",
    "        Example: We tested Vemurafenib in KRASG12C mutated cancers and showed that is very effective in these cancers.\n",
    "        \n",
    "        Answer=The text talks about the drug Vemurafenib. It was tested in cancers with a gene mutation in KRAS gene.\n",
    "        However, it does not say that the drug is designed to target the KRAS gene. So, KRAS should not be labeled as a target for Vemurafenib.\n",
    "        The answer is {drug name: Vemurafenib, target name: None}\n",
    "        \n",
    "        ### TASKS\n",
    "        Task 1 - Sotorosib is a newly approved FDA drug and is designed to inhibit the KRAS gene.\n",
    "        Task 2 - Venetoclax efficacy was shown to be very poor in AXL mutated cancers.\n",
    "        Task 3 - Paclitaxel is a very common chemotherapy known to deregulate the microtubule dynamics.\n",
    "        \n",
    "        \"\"\"\n",
    "    }\n",
    "]\n",
    "\n",
    "response = client.chat.completions.create(\n",
    "        model=MODEL,\n",
    "        response_format={ \"type\": \"json_object\" },\n",
    "        messages=messages,\n",
    "        seed=0\n",
    "    )"
   ]
  },
  {
   "cell_type": "markdown",
   "id": "21247bee",
   "metadata": {},
   "source": [
    "**We can see that there is no change in the prompt text. Yet, in the above result, it correctly captured the relationships. But here, it incorrectly says AXL is a target for Venetoclax. This also confirms that the seed parameter does not really lead to consistent outputs.**"
   ]
  },
  {
   "cell_type": "code",
   "execution_count": 156,
   "id": "cb1faf72",
   "metadata": {},
   "outputs": [
    {
     "data": {
      "text/plain": [
       "ChatCompletion(id='chatcmpl-8xQnD7HVtiOBvOKXJ5gRhgooY3GNH', choices=[Choice(finish_reason='stop', index=0, logprobs=None, message=ChatCompletionMessage(content='{\\n  \"Task 1\": {\\n    \"drug name\": \"Sotorosib\",\\n    \"target name\": \"KRAS\"\\n  },\\n  \"Task 2\": {\\n    \"drug name\": \"Venetoclax\",\\n    \"target name\": \"AXL\"\\n  },\\n  \"Task 3\": {\\n    \"drug name\": \"Paclitaxel\",\\n    \"target name\": \"Microtubule dynamics\"\\n  }\\n}', role='assistant', function_call=None, tool_calls=None))], created=1709175035, model='gpt-4-0125-preview', object='chat.completion', system_fingerprint='fp_89b1a570e1', usage=CompletionUsage(completion_tokens=93, prompt_tokens=271, total_tokens=364))"
      ]
     },
     "execution_count": 156,
     "metadata": {},
     "output_type": "execute_result"
    }
   ],
   "source": [
    "response"
   ]
  },
  {
   "cell_type": "markdown",
   "id": "4dc25291",
   "metadata": {},
   "source": [
    "**Lowering the temperature might help since it tends to produce more deterministic output.**"
   ]
  },
  {
   "cell_type": "code",
   "execution_count": 161,
   "id": "e6b2e4d3",
   "metadata": {},
   "outputs": [
    {
     "name": "stdout",
     "output_type": "stream",
     "text": [
      "Temperature=0.2\n",
      "{'Task 1': {'drug name': 'Sotorosib', 'target name': 'KRAS'}, 'Task 2': {'drug name': 'Venetoclax', 'target name': 'None'}, 'Task 3': {'drug name': 'Paclitaxel', 'target name': 'microtubule dynamics'}}\n",
      "Temperature=0.5\n",
      "{'Task 1': {'drug name': 'Sotorosib', 'target name': 'KRAS'}, 'Task 2': {'drug name': 'Venetoclax', 'target name': 'None'}, 'Task 3': {'drug name': 'Paclitaxel', 'target name': 'microtubule dynamics'}}\n",
      "Temperature=0.7\n",
      "{'Task 1': {'drug name': 'Sotorosib', 'target name': 'KRAS'}, 'Task 2': {'drug name': 'Venetoclax', 'target name': 'None'}, 'Task 3': {'drug name': 'Paclitaxel', 'target name': 'microtubule dynamics'}}\n",
      "Temperature=1.0\n",
      "{'Task 1': {'drug name': 'Sotorosib', 'target name': 'KRAS'}, 'Task 2': {'drug name': 'Venetoclax', 'target name': 'AXL'}, 'Task 3': {'drug name': 'Paclitaxel', 'target name': 'microtubule dynamics'}}\n",
      "Temperature=1.2\n",
      "{'Task 1': {'drug name': 'Sotorosib', 'target name': 'KRAS'}, 'Task 2': {'drug name': 'Venetoclax', 'target name': 'None'}, 'Task 3': {'drug name': 'Paclitaxel', 'target name': 'microtubule dynamics'}}\n",
      "Temperature=1.5\n",
      "{'Task 1': {'drug name': 'Sotorosib', 'target name': 'KRAS'}, 'Task 2': {'drug name': 'Venetoclax', 'target name': 'None'}, 'Task 3': {'drug-name': 'Paclitaxel', 'target name': 'microtubule dynamics'}}\n"
     ]
    }
   ],
   "source": [
    "MODEL = 'gpt-4-turbo-preview'\n",
    "\n",
    "messages = [\n",
    "    {\"role\": \"system\",\"content\": \"\"\"\n",
    "    You are a meticulous data scientist working on named entity recognition and building out a drug-target dataset from biomedical text.\n",
    "    Return a single JSON output combining outputs from all tasks contained within ###.\n",
    "    \"\"\" },\n",
    "    {\n",
    "        \"role\": \"user\", \"content\": \"\"\"\n",
    "        Look at this example and logically arriving at any drug and target information. Return a set capturing drug target information. \n",
    "        Example: We tested Vemurafenib in KRASG12C mutated cancers and showed that is very effective in these cancers.\n",
    "        \n",
    "        Answer=The text talks about the drug Vemurafenib. It was tested in cancers with a gene mutation in KRAS gene.\n",
    "        However, it does not say that the drug is designed to target the KRAS gene. So, KRAS should not be labeled as a target for Vemurafenib.\n",
    "        The answer is {drug name: Vemurafenib, target name: None}\n",
    "        \n",
    "        ### TASKS\n",
    "        Task 1 - Sotorosib is a newly approved FDA drug and is designed to inhibit the KRAS gene.\n",
    "        Task 2 - Venetoclax efficacy was shown to be very poor in AXL mutated cancers.\n",
    "        Task 3 - Paclitaxel is a very common chemotherapy known to deregulate the microtubule dynamics.\n",
    "        \n",
    "        \"\"\"\n",
    "    }\n",
    "]\n",
    "\n",
    "\n",
    "temperatures = [0.2, 0.5, 0.7, 1.0, 1.2, 1.5]\n",
    "\n",
    "for temperature in temperatures:\n",
    "    response = client.chat.completions.create(\n",
    "        model=MODEL,\n",
    "        response_format={ \"type\": \"json_object\" },\n",
    "        messages=messages,\n",
    "        seed=0,\n",
    "        temperature=temperature\n",
    "    )\n",
    "    \n",
    "    result = json.loads(response.model_dump_json())\n",
    "    data_dict = json.loads(result['choices'][0]['message']['content'])\n",
    "    \n",
    "    print(f'Temperature={temperature}')\n",
    "    print(data_dict)"
   ]
  },
  {
   "cell_type": "markdown",
   "id": "9d9ebc8f",
   "metadata": {},
   "source": [
    "**FEW SHOT: Adding a mix of positive and negative examples is supposed to improve performance. Here, including 2 negative cases and 1 positive case seems to have improved the output. It no longer tags BRAF as a target for Vemurafenib. But, here and in above tests, it mentions microtubule dynamics as a target. In. a way, it is correct, but for a dataset this might lead to some messiness as it isn't a gene but rather a term. We haven't tried if we got back to a 1 shot prompt, would it still gives us the same result with a low temperature of 0.2?** "
   ]
  },
  {
   "cell_type": "code",
   "execution_count": 162,
   "id": "987411df",
   "metadata": {},
   "outputs": [
    {
     "name": "stdout",
     "output_type": "stream",
     "text": [
      "Temperature=0.2\n",
      "{'Task 1': {'drug name': 'Sotorosib', 'target name': 'KRAS'}, 'Task 2': {'drug name': 'Venetoclax', 'target name': 'None'}, 'Task 3': {'drug name': 'Paclitaxel', 'target name': 'microtubule dynamics'}, 'Task 4': {'drug name': 'Vemurafenib', 'target name': 'None'}}\n",
      "Temperature=0.5\n",
      "{'Task 1': {'drug name': 'Sotorosib', 'target name': 'KRAS'}, 'Task 2': {'drug name': 'Venetoclax', 'target name': 'None'}, 'Task 3': {'drug name': 'Paclitaxel', 'target name': 'microtubule dynamics'}, 'Task 4': {'drug name': 'Vemurafenib', 'target name': 'BRAFV600E'}}\n",
      "Temperature=0.7\n",
      "{'Task 1': {'drug name': 'Sotorosib', 'target name': 'KRAS'}, 'Task 2': {'drug name': 'Venetoclax', 'target name': 'None'}, 'Task 3': {'drug name': 'Paclitaxel', 'target name': 'microtubule dynamics'}, 'Task 4': {'drug name': 'Vemurafenib', 'target name': 'BRAFV600E'}}\n",
      "Temperature=1.0\n",
      "{'Task 1': {'drug name': 'Sotorosib', 'target name': 'KRAS'}, 'Task 2': {'drug name': 'Venetoclax', 'target name': 'None'}, 'Task 3': {'drug name': 'Paclitaxel', 'target name': 'microtubule dynamics'}, 'Task 4': {'drug name': 'Vemurafenib', 'target name': 'BRAFV600E'}}\n",
      "Temperature=1.2\n",
      "{'Task 1': {'drug name': 'Sotorosib', 'target name': 'KRAS'}, 'Task 2': {'drug name': 'Venetoclax', 'target name': 'None'}, 'Task 3': {'drug name': 'Paclitaxel', 'target name': 'microtubule dynamics'}, 'Task 4': {'drug name': 'Vemurafenib', 'target name': 'BRAFV600E'}}\n",
      "Temperature=1.5\n",
      "{'Task1': {'drug name': 'Sotorosib', 'target name': 'KRAS'}, 'Task2': {'drug name': 'Venetoclax', 'target name': 'None'}, 'Task3': {'drug name': 'Paclitaxel', 'target name': 'microtubule dynamics'}, 'Task4': {'drug name': 'Vemurafenib', 'target name': 'BRAFV600E'}}\n"
     ]
    }
   ],
   "source": [
    "MODEL = 'gpt-4-turbo-preview'\n",
    "\n",
    "messages = [\n",
    "    {\"role\": \"system\",\"content\": \"\"\"\n",
    "    You are a meticulous data scientist working on named entity recognition and building out a drug-target dataset from biomedical text.\n",
    "    Return a single JSON output combining outputs from all tasks contained within ###.\n",
    "    \"\"\" },\n",
    "    {\n",
    "        \"role\": \"user\", \"content\": \"\"\"\n",
    "        Look at these examples and logically arriving at any drug and target information. Return a set capturing drug target information. \n",
    "        \n",
    "        Example 1: We tested Vemurafenib in KRASG12C mutated cancers and showed that is very effective in these cancers.\n",
    "        Answer=The text talks about the drug Vemurafenib. It was tested in cancers with a gene mutation in KRAS gene.\n",
    "        However, it does not say that the drug is designed to target the KRAS gene. So, KRAS should not be labeled as a target for Vemurafenib.\n",
    "        The answer is {drug name: Vemurafenib, target name: None}\n",
    "        \n",
    "        Example 2: Erlotinib is a kinase inihibitor, with binding activites showed for EGFR and downstream effects seen on PKA, PKC. \n",
    "        Answer=The drug name is Erlotinib. There are 3 genes mentioned here - EGFR, PKA, PKC. Erlotinib is said to bind to EGFR and hence EGFR is a target. Erlotinib has effects on PKA and PKC but that doesn't mean it directly binds and targets them, so they are not targets.\n",
    "        The answer is {drug name: Erlotinib, target name: EGFR}\n",
    "        \n",
    "        Example 3: Metformin is a drug commonly used for people with type 2 diabetes. But in cancer, Metformin has been shown to decrease KI-67 expression.\n",
    "        Answer=The drug name is Metformin. Although it can impact Ki-67 expression in cancers, the text doesn't explicitly say that Ki-67 is a direct target. So, in this text no target is mentioned for Metformin.\n",
    "        The answer is {drug name: Metformin, target name: None}\n",
    "       \n",
    "        \n",
    "        ### TASKS\n",
    "        Task 1 - Sotorosib is a newly approved FDA drug and is designed to inhibit the KRAS gene.\n",
    "        Task 2 - Venetoclax efficacy was shown to be very poor in AXL mutated cancers.\n",
    "        Task 3 - Paclitaxel is a very common chemotherapy known to deregulate the microtubule dynamics.\n",
    "        Task 4 - Vemurafenib was tested and showed positive results in patients with a BRAFV600E mutation.\n",
    "        \"\"\"\n",
    "    }\n",
    "]\n",
    "\n",
    "\n",
    "temperatures = [0.2, 0.5, 0.7, 1.0, 1.2, 1.5]\n",
    "\n",
    "for temperature in temperatures:\n",
    "    response = client.chat.completions.create(\n",
    "        model=MODEL,\n",
    "        response_format={ \"type\": \"json_object\" },\n",
    "        messages=messages,\n",
    "        seed=0,\n",
    "        temperature=temperature\n",
    "    )\n",
    "    \n",
    "    result = json.loads(response.model_dump_json())\n",
    "    data_dict = json.loads(result['choices'][0]['message']['content'])\n",
    "    \n",
    "    print(f'Temperature={temperature}')\n",
    "    print(data_dict)"
   ]
  },
  {
   "cell_type": "markdown",
   "id": "dd7150be",
   "metadata": {},
   "source": [
    "**Let's split up the instructions between the system and the user and refine the structure. Test a temperature of 0.2**"
   ]
  },
  {
   "cell_type": "code",
   "execution_count": 165,
   "id": "8874a954",
   "metadata": {},
   "outputs": [],
   "source": [
    "MODEL = 'gpt-4-turbo-preview'\n",
    "\n",
    "messages = [\n",
    "    {\"role\": \"system\",\"content\": \"\"\"\n",
    "    You are a meticulous data scientist working on named entity recognition and building out a drug-target dataset from biomedical text.\n",
    "    You will look at instructions from the ###instruction section, see examples from the ***example sections. Produce an output similar to shown for examples for each of the sections identified as TASK.   \n",
    "    Then generate a single JSON output from all tasks.\n",
    "    \"\"\" },\n",
    "    {\n",
    "        \"role\": \"user\", \"content\": \"\"\"\n",
    "        ###Instruction: Extract drug and target names from text by following these steps:\n",
    "        First, identify all drug names.\n",
    "        If no drug name is present, completely skip the task and go to the next one.\n",
    "        Then, check if any targets are mentioned for each drug.This fact should be clearly mentioned in the text.\n",
    "        Generate a separate set for each drug and then combine all into 1 JSON. \n",
    "        Follow the 'output' pattern shown in ###example sections.\n",
    "        \"\"\"\n",
    "    },\n",
    "    {\n",
    "        \"role\": \"user\", \"content\": \"\"\"\n",
    "        ***example: We tested Vemurafenib in KRASG12C mutated cancers and showed that is very effective in these cancers.\n",
    "        Let's follow ###Instruction and think step by step.\n",
    "        The text talks about the drug Vemurafenib. It was tested in cancers with a gene mutation in KRAS gene.\n",
    "        However, it does not say that the drug is designed to target the KRAS gene. So, KRAS should not be labeled as a target for Vemurafenib.\n",
    "        Output={drug name: Vemurafenib, target name:None}\n",
    "        \"\"\"\n",
    "        \n",
    "    },\n",
    "    {\n",
    "        \"role\": \"user\", \"content\":\"\"\"\n",
    "        TASKS\n",
    "        Task 1 - Sotorosib is a newly approved FDA drug and is designed to inhibit the KRAS gene.\n",
    "        Task 2 - Venetoclax efficacy was shown to be very poor in AXL mutated cancers.\n",
    "        Task 3 - Paclitaxel is a very common chemotherapy known to deregulate the microtubule dynamics.\n",
    "        Task 4 - Vemurafenib was tested and showed positive results in patients with a BRAFV600E mutation.\n",
    "        \"\"\"\n",
    "    }\n",
    "]\n",
    "\n",
    "temperature=0.2"
   ]
  },
  {
   "cell_type": "markdown",
   "id": "e45a7908",
   "metadata": {},
   "source": [
    "**Oddly, here the problem is back again. It did better with the prompt above where there were actually fewer instructions.\n",
    "Delineate the following: is it the prompt itself that's the problem or the fact that the number of examples reduced from 3 to just 1?\n",
    "Let's test the two scenarios.**"
   ]
  },
  {
   "cell_type": "code",
   "execution_count": 166,
   "id": "27596cd3",
   "metadata": {},
   "outputs": [],
   "source": [
    "response = client.chat.completions.create(\n",
    "        model=MODEL,\n",
    "        response_format={ \"type\": \"json_object\" },\n",
    "        messages=messages,\n",
    "        seed=0,\n",
    "        temperature=temperature\n",
    "    )\n",
    "\n",
    "result = json.loads(response.model_dump_json())\n",
    "data_dict = json.loads(result['choices'][0]['message']['content'])"
   ]
  },
  {
   "cell_type": "code",
   "execution_count": 167,
   "id": "5cdff2ff",
   "metadata": {},
   "outputs": [
    {
     "data": {
      "text/plain": [
       "{'Task 1': {'drug name': 'Sotorosib', 'target name': 'KRAS'},\n",
       " 'Task 2': {'drug name': 'Venetoclax', 'target name': 'None'},\n",
       " 'Task 3': {'drug name': 'Paclitaxel', 'target name': 'microtubule dynamics'},\n",
       " 'Task 4': {'drug name': 'Vemurafenib', 'target name': 'BRAFV600E'}}"
      ]
     },
     "execution_count": 167,
     "metadata": {},
     "output_type": "execute_result"
    }
   ],
   "source": [
    "data_dict"
   ]
  },
  {
   "cell_type": "markdown",
   "id": "4ac8ed36",
   "metadata": {},
   "source": [
    "**Older prompt language with just 1 example but the text is distributed differently across system and user.**"
   ]
  },
  {
   "cell_type": "code",
   "execution_count": 168,
   "id": "f3e072f2",
   "metadata": {},
   "outputs": [],
   "source": [
    "MODEL = 'gpt-4-turbo-preview'\n",
    "\n",
    "messages = [\n",
    "    {\"role\": \"system\",\"content\": \"\"\"\n",
    "    You are a meticulous data scientist working on named entity recognition and building out a drug-target dataset from biomedical text.\n",
    "    Return a single JSON output combining outputs from all tasks contained within ###\n",
    "    \"\"\" },\n",
    "    {\n",
    "        \"role\": \"user\", \"content\": \"\"\"\n",
    "        Look at these examples and logically arriving at any drug and target information. Return a set capturing drug target information.\n",
    "        \"\"\"\n",
    "    },\n",
    "    {\n",
    "        \"role\": \"user\", \"content\": \"\"\"\n",
    "        Example 1: We tested Vemurafenib in KRASG12C mutated cancers and showed that is very effective in these cancers.\n",
    "        Answer=The text talks about the drug Vemurafenib. It was tested in cancers with a gene mutation in KRAS gene.\n",
    "        However, it does not say that the drug is designed to target the KRAS gene. So, KRAS should not be labeled as a target for Vemurafenib.\n",
    "        The answer is {drug name: Vemurafenib, target name: None}\n",
    "        \"\"\"\n",
    "    },\n",
    "    {\n",
    "        \"role\": \"user\", \"content\":\"\"\"\n",
    "        ### TASKS\n",
    "        Task 1 - Sotorosib is a newly approved FDA drug and is designed to inhibit the KRAS gene.\n",
    "        Task 2 - Venetoclax efficacy was shown to be very poor in AXL mutated cancers.\n",
    "        Task 3 - Paclitaxel is a very common chemotherapy known to deregulate the microtubule dynamics.\n",
    "        Task 4 - Vemurafenib was tested and showed positive results in patients with a BRAFV600E mutation.\n",
    "        \"\"\"\n",
    "    }\n",
    "]\n",
    "\n",
    "temperature=0.2\n",
    "\n",
    "response = client.chat.completions.create(\n",
    "        model=MODEL,\n",
    "        response_format={ \"type\": \"json_object\" },\n",
    "        messages=messages,\n",
    "        seed=0,\n",
    "        temperature=temperature\n",
    "    )\n",
    "\n",
    "result = json.loads(response.model_dump_json())\n",
    "data_dict = json.loads(result['choices'][0]['message']['content'])"
   ]
  },
  {
   "cell_type": "code",
   "execution_count": 169,
   "id": "939b1813",
   "metadata": {},
   "outputs": [
    {
     "data": {
      "text/plain": [
       "{'Task 1': {'drug name': 'Sotorosib', 'target name': 'KRAS'},\n",
       " 'Task 2': {'drug name': 'Venetoclax', 'target name': 'None'},\n",
       " 'Task 3': {'drug name': 'Paclitaxel', 'target name': 'microtubule dynamics'},\n",
       " 'Task 4': {'drug name': 'Vemurafenib', 'target name': 'BRAFV600E'}}"
      ]
     },
     "execution_count": 169,
     "metadata": {},
     "output_type": "execute_result"
    }
   ],
   "source": [
    "data_dict"
   ]
  },
  {
   "cell_type": "code",
   "execution_count": 174,
   "id": "6e3860f9",
   "metadata": {},
   "outputs": [],
   "source": [
    "MODEL = 'gpt-4-turbo-preview'\n",
    "\n",
    "messages = [\n",
    "    {\"role\": \"system\",\"content\": \"\"\"\n",
    "    You are a meticulous data scientist working on named entity recognition and building out a drug-target dataset from biomedical text.\n",
    "    Return a single JSON output combining outputs from all tasks contained within ###\n",
    "    \"\"\" },\n",
    "    {\n",
    "        \"role\": \"user\", \"content\": \"\"\"\n",
    "        Look at these examples and logically arriving at any drug and target information. Return a set capturing drug target information.\n",
    "        \"\"\"\n",
    "    },\n",
    "    {\n",
    "        \"role\": \"user\", \"content\": \"\"\"\n",
    "        Example 1: We tested Vemurafenib in KRASG12C mutated cancers and showed that is very effective in these cancers.\n",
    "        \"\"\"\n",
    "    },\n",
    "    {\n",
    "        \"role\":\"user\",\"content\":\"\"\"\n",
    "        Let's think about this step by step.\n",
    "        The text talks about the drug Vemurafenib. It was tested in cancers with a gene mutation in KRAS gene.\n",
    "        However, it does not say that the drug is designed to target the KRAS gene. So, KRAS should not be labeled as a target for Vemurafenib.\n",
    "        The output should be {drug name: Vemurafenib, target name: None}\n",
    "        \"\"\"\n",
    "    },\n",
    "    {\n",
    "        \"role\": \"user\", \"content\":\"\"\"\n",
    "        ### TASKS\n",
    "        Task 1 - Sotorosib is a newly approved FDA drug and is designed to inhibit the KRAS gene.\n",
    "        Task 2 - Venetoclax efficacy was shown to be very poor in AXL mutated cancers.\n",
    "        Task 3 - Paclitaxel is a very common chemotherapy known to deregulate the microtubule dynamics.\n",
    "        Task 4 - Vemurafenib was tested and showed positive results in patients with a BRAFV600E mutation.\n",
    "        \"\"\"\n",
    "    }\n",
    "]\n",
    "\n",
    "temperature=0.2\n",
    "\n",
    "response = client.chat.completions.create(\n",
    "        model=MODEL,\n",
    "        response_format={ \"type\": \"json_object\" },\n",
    "        messages=messages,\n",
    "        seed=0,\n",
    "        temperature=temperature\n",
    "    )\n",
    "\n",
    "result = json.loads(response.model_dump_json())\n",
    "data_dict = json.loads(result['choices'][0]['message']['content'])"
   ]
  },
  {
   "cell_type": "code",
   "execution_count": 175,
   "id": "a7ab27f0",
   "metadata": {},
   "outputs": [
    {
     "data": {
      "text/plain": [
       "{'Task 1': {'drug name': 'Sotorosib', 'target name': 'KRAS'},\n",
       " 'Task 2': {'drug name': 'Venetoclax', 'target name': 'None'},\n",
       " 'Task 3': {'drug name': 'Paclitaxel', 'target name': 'microtubule dynamics'},\n",
       " 'Task 4': {'drug name': 'Vemurafenib', 'target name': 'BRAFV600E'}}"
      ]
     },
     "execution_count": 175,
     "metadata": {},
     "output_type": "execute_result"
    }
   ],
   "source": [
    "data_dict"
   ]
  },
  {
   "cell_type": "markdown",
   "id": "5e28ea2a",
   "metadata": {},
   "source": [
    "**That didn't work. So, let's try keeping the new language but increasing the number of examples to 3.\n",
    "Let's go back to the new prompt language but add 2 more examples.**"
   ]
  },
  {
   "cell_type": "code",
   "execution_count": 177,
   "id": "23b8caf2",
   "metadata": {},
   "outputs": [],
   "source": [
    "MODEL = 'gpt-4-turbo-preview'\n",
    "\n",
    "messages = [\n",
    "    {\"role\": \"system\",\"content\": \"\"\"\n",
    "    You are a meticulous data scientist working on named entity recognition and building out a drug-target dataset from biomedical text.\n",
    "    You will look at instructions from the ###Instruction ### section, see examples from the ***examples sections. Produce an output similar to shown for examples for each of the sections identified as TASK.   \n",
    "    Then generate a single JSON output from all tasks.\n",
    "    \"\"\" },\n",
    "    {\n",
    "        \"role\": \"user\", \"content\": \"\"\"\n",
    "        ###Instruction: Extract drug and target names from text by following these steps:\n",
    "        First, identify all drug names.\n",
    "        If no drug name is present, completely skip the task and go to the next one.\n",
    "        Then, check if any targets are mentioned for each drug.This fact should be clearly mentioned in the text.\n",
    "        Generate a separate set for each drug and then combine all into 1 JSON. \n",
    "        Follow the 'output' pattern shown in ***examples*** sections.\n",
    "        ###\n",
    "        \"\"\"\n",
    "    },\n",
    "    {\n",
    "        \"role\": \"user\", \"content\": \"\"\"\n",
    "        ***examples\n",
    "        Example 1: We tested Vemurafenib in KRASG12C mutated cancers and showed that is very effective in these cancers.\n",
    "        Answer=The text talks about the drug Vemurafenib. It was tested in cancers with a gene mutation in KRAS gene.\n",
    "        However, it does not say that the drug is designed to target the KRAS gene. So, KRAS should not be labeled as a target for Vemurafenib.\n",
    "        The answer is {drug name: Vemurafenib, target name: None}\n",
    "        \n",
    "        Example 2: Erlotinib is a kinase inihibitor, with binding activites showed for EGFR and downstream effects seen on PKA, PKC. \n",
    "        Answer=The drug name is Erlotinib. There are 3 genes mentioned here - EGFR, PKA, PKC. Erlotinib is said to bind to EGFR and hence EGFR is a target. Erlotinib has effects on PKA and PKC but that doesn't mean it directly binds and targets them, so they are not targets.\n",
    "        The answer is {drug name: Erlotinib, target name: EGFR}\n",
    "        \n",
    "        Example 3: Metformin is a drug commonly used for people with type 2 diabetes. But in cancer, Metformin has been shown to decrease KI-67 expression.\n",
    "        Answer=The drug name is Metformin. Although it can impact Ki-67 expression in cancers, the text doesn't explicitly say that Ki-67 is a direct target. So, in this text no target is mentioned for Metformin.\n",
    "        The answer is {drug name: Metformin, target name: None}\n",
    "        ***\n",
    "        \"\"\"\n",
    "        \n",
    "    },\n",
    "    {\n",
    "        \"role\": \"user\", \"content\":\"\"\"\n",
    "        TASKS\n",
    "        Task 1 - Sotorosib is a newly approved FDA drug and is designed to inhibit the KRAS gene.\n",
    "        Task 2 - Venetoclax efficacy was shown to be very poor in AXL mutated cancers.\n",
    "        Task 3 - Paclitaxel is a very common chemotherapy known to deregulate the microtubule dynamics.\n",
    "        Task 4 - Vemurafenib was tested and showed positive results in patients with a BRAFV600E mutation.\n",
    "        \"\"\"\n",
    "    }\n",
    "]\n",
    "\n",
    "temperature=0.2\n",
    "\n",
    "response = client.chat.completions.create(\n",
    "        model=MODEL,\n",
    "        response_format={ \"type\": \"json_object\" },\n",
    "        messages=messages,\n",
    "        seed=0,\n",
    "        temperature=temperature\n",
    "    )\n",
    "\n",
    "result = json.loads(response.model_dump_json())\n",
    "data_dict = json.loads(result['choices'][0]['message']['content'])"
   ]
  },
  {
   "cell_type": "markdown",
   "id": "b753f5a0",
   "metadata": {},
   "source": [
    "**So, it looks like adding the number of examples helped.But this is a lot of tokens, so we need to reduce the text somehow.**"
   ]
  },
  {
   "cell_type": "code",
   "execution_count": 178,
   "id": "a01373dd",
   "metadata": {
    "scrolled": true
   },
   "outputs": [
    {
     "data": {
      "text/plain": [
       "{'Task 1': {'drug name': 'Sotorosib', 'target name': 'KRAS'},\n",
       " 'Task 2': {'drug name': 'Venetoclax', 'target name': 'None'},\n",
       " 'Task 3': {'drug name': 'Paclitaxel', 'target name': 'None'},\n",
       " 'Task 4': {'drug name': 'Vemurafenib', 'target name': 'None'}}"
      ]
     },
     "execution_count": 178,
     "metadata": {},
     "output_type": "execute_result"
    }
   ],
   "source": [
    "data_dict"
   ]
  },
  {
   "cell_type": "markdown",
   "id": "3bbbecd6",
   "metadata": {},
   "source": [
    "**Reduce the prompt size.**"
   ]
  },
  {
   "cell_type": "code",
   "execution_count": 215,
   "id": "bdee6199",
   "metadata": {},
   "outputs": [],
   "source": [
    "MODEL = 'gpt-4-turbo-preview'\n",
    "\n",
    "messages = [\n",
    "    {\"role\": \"system\",\"content\": \"\"\"\n",
    "    You are a meticulous data scientist working on named entity recognition.\n",
    "    Look at instructions from the ###Instruction ### section, see examples from the ***examples sections. Produce an output similar to shown for examples for each of the sections identified as TASK.   \n",
    "    Then generate a single JSON output from all tasks.\n",
    "    \"\"\" },\n",
    "    {\n",
    "        \"role\": \"user\", \"content\": \"\"\"\n",
    "        ###Instruction: Extract drug and target names from text by following these steps:\n",
    "        First, identify all drug names.If no drug name is present, completely skip the task and go to the next one.\n",
    "        Check if targets are mentioned for each drug. Only extract target if drug-target relationship is clearly defined.\n",
    "        ###\n",
    "        \"\"\"\n",
    "    },\n",
    "    {\n",
    "        \"role\": \"user\", \"content\": \"\"\"\n",
    "        ***examples\n",
    "        Example 1: We tested Vemurafenib in KRASG12C mutated cancers and showed that is very effective in these cancers.\n",
    "        Answer=The text talks about the drug Vemurafenib. It was tested in cancers with a gene mutation in KRAS gene.\n",
    "        However, it does not say that the drug is designed to target the KRAS gene. So, KRAS should not be labeled as a target for Vemurafenib.\n",
    "        The answer is {drug name: Vemurafenib, target name: None}\n",
    "        \n",
    "        Example 2: Erlotinib is a kinase inihibitor, with binding activites showed for EGFR and downstream effects seen on PKA, PKC. \n",
    "        Answer=The drug name is Erlotinib. There are 3 genes mentioned here - EGFR, PKA, PKC. Erlotinib is said to bind to EGFR and hence EGFR is a target. Erlotinib has effects on PKA and PKC but that doesn't mean it directly binds and targets them, so they are not targets.\n",
    "        The answer is {drug name: Erlotinib, target name: EGFR}\n",
    "        \n",
    "        Example 3: Metformin is a drug commonly used for people with type 2 diabetes. But in cancer, Metformin has been shown to decrease KI-67 expression.\n",
    "        Answer=The drug name is Metformin. Although it can impact Ki-67 expression in cancers, the text doesn't explicitly say that Ki-67 is a direct target. So, in this text no target is mentioned for Metformin.\n",
    "        The answer is {drug name: Metformin, target name: None}\n",
    "        ***\n",
    "        \"\"\"\n",
    "        \n",
    "    },\n",
    "    {\n",
    "        \"role\": \"user\", \"content\":\"\"\"\n",
    "        TASKS\n",
    "        Task 1 - Sotorosib is a newly approved FDA drug and is designed to inhibit the KRAS gene.\n",
    "        Task 2 - Venetoclax efficacy was shown to be very poor in AXL mutated cancers.\n",
    "        Task 3 - Paclitaxel is a very common chemotherapy known to deregulate the microtubule dynamics.\n",
    "        Task 4 - Vemurafenib was tested and showed positive results in patients with a BRAFV600E mutation.\n",
    "        \"\"\"\n",
    "    }\n",
    "]\n",
    "\n",
    "temperature=0\n",
    "\n",
    "response = client.chat.completions.create(\n",
    "        model=MODEL,\n",
    "        response_format={ \"type\": \"json_object\" },\n",
    "        messages=messages,\n",
    "        seed=0,\n",
    "        temperature=temperature\n",
    "    )\n",
    "\n",
    "result = json.loads(response.model_dump_json())\n",
    "data_dict = json.loads(result['choices'][0]['message']['content'])"
   ]
  },
  {
   "cell_type": "code",
   "execution_count": 216,
   "id": "60976769",
   "metadata": {},
   "outputs": [
    {
     "data": {
      "text/plain": [
       "{'Task 1': {'drug name': 'Sotorosib', 'target name': 'KRAS'},\n",
       " 'Task 2': {'drug name': 'Venetoclax', 'target name': 'None'},\n",
       " 'Task 3': {'drug name': 'Paclitaxel', 'target name': 'None'},\n",
       " 'Task 4': {'drug name': 'Vemurafenib', 'target name': 'None'}}"
      ]
     },
     "execution_count": 216,
     "metadata": {},
     "output_type": "execute_result"
    }
   ],
   "source": [
    "data_dict"
   ]
  },
  {
   "cell_type": "code",
   "execution_count": 217,
   "id": "e118702c",
   "metadata": {},
   "outputs": [
    {
     "data": {
      "text/plain": [
       "{'completion_tokens': 117, 'prompt_tokens': 619, 'total_tokens': 736}"
      ]
     },
     "execution_count": 217,
     "metadata": {},
     "output_type": "execute_result"
    }
   ],
   "source": [
    "result['usage']"
   ]
  },
  {
   "cell_type": "markdown",
   "id": "475859db",
   "metadata": {},
   "source": [
    "**Can we remove 1 of the examples?**\n",
    "\n",
    "Not shown, but notes from testing:\n",
    "\n",
    "* Removing example 2 about EGFR, changes the Paclitaxel output.\n",
    "\n",
    "* Removing the Metformin example keeps the same result."
   ]
  },
  {
   "cell_type": "code",
   "execution_count": 225,
   "id": "552bbf50",
   "metadata": {},
   "outputs": [],
   "source": [
    "MODEL = 'gpt-4-turbo-preview'\n",
    "\n",
    "messages = [\n",
    "    {\"role\": \"system\",\"content\": \"\"\"\n",
    "    You are a meticulous data scientist working on named entity recognition.\n",
    "    Look at instructions from the ###Instruction ### section, see examples from the ***examples sections.Produce an output similar to shown for examples for each of the sections identified as TASK.   \n",
    "    Then generate a single JSON output from all tasks.\n",
    "    \"\"\" },\n",
    "    {\n",
    "        \"role\": \"user\", \"content\": \"\"\"\n",
    "        ###Instruction: Extract drug and target names from text by following these steps:\n",
    "        First, identify all drug names.If no drug name is present, completely skip the task and go to the next one.\n",
    "        Check if targets are mentioned for each drug. Only extract target if drug-target relationship is clearly defined.\n",
    "        ###\n",
    "        \"\"\"\n",
    "    },\n",
    "    {\n",
    "        \"role\": \"user\", \"content\": \"\"\"\n",
    "        ***examples\n",
    "        Example 1: We tested Vemurafenib in KRASG12C mutated cancers and showed that is very effective in these cancers.\n",
    "        Answer=The text talks about the drug Vemurafenib.It was tested in cancers with a gene mutation in KRAS gene.\n",
    "        However, it does not say that the drug is designed to target the KRAS gene.So, KRAS should not be labeled as a target for Vemurafenib.\n",
    "        The answer is {drug name: Vemurafenib, target name: None}\n",
    "        Example 2: Erlotinib is a kinase inihibitor, with binding activites showed for EGFR and downstream effects seen on PKA, PKC. \n",
    "        Answer=The drug name is Erlotinib.There are 3 genes mentioned here - EGFR, PKA, PKC.Erlotinib is said to bind to EGFR and hence EGFR is a target.Erlotinib has effects on PKA and PKC but that doesn't mean it directly binds and targets them, so they are not targets.\n",
    "        The answer is {drug name: Erlotinib, target name: EGFR}\n",
    "        ***\n",
    "        \"\"\"\n",
    "        \n",
    "    },\n",
    "    {\n",
    "        \"role\": \"user\", \"content\":\"\"\"\n",
    "        TASKS\n",
    "        Task 1 - Sotorosib is a newly approved FDA drug and is designed to inhibit the KRAS gene.\n",
    "        Task 2 - Venetoclax efficacy was shown to be very poor in AXL mutated cancers.\n",
    "        Task 3 - Paclitaxel is a very common chemotherapy known to deregulate the microtubule dynamics.\n",
    "        Task 4 - Vemurafenib was tested and showed positive results in patients with a BRAFV600E mutation.\n",
    "        \"\"\"\n",
    "    }\n",
    "]\n",
    "\n",
    "temperature=0\n",
    "\n",
    "response = client.chat.completions.create(\n",
    "        model=MODEL,\n",
    "        response_format={ \"type\": \"json_object\" },\n",
    "        messages=messages,\n",
    "        seed=0,\n",
    "        temperature=temperature\n",
    "    )\n",
    "\n",
    "result = json.loads(response.model_dump_json())\n",
    "data_dict = json.loads(result['choices'][0]['message']['content'])"
   ]
  },
  {
   "cell_type": "code",
   "execution_count": 226,
   "id": "567d4906",
   "metadata": {},
   "outputs": [
    {
     "data": {
      "text/plain": [
       "{'Task 1': {'drug name': 'Sotorosib', 'target name': 'KRAS'},\n",
       " 'Task 2': {'drug name': 'Venetoclax', 'target name': 'None'},\n",
       " 'Task 3': {'drug name': 'Paclitaxel', 'target name': 'None'},\n",
       " 'Task 4': {'drug name': 'Vemurafenib', 'target name': 'None'}}"
      ]
     },
     "execution_count": 226,
     "metadata": {},
     "output_type": "execute_result"
    }
   ],
   "source": [
    "data_dict"
   ]
  },
  {
   "cell_type": "code",
   "execution_count": 222,
   "id": "755b0fc2",
   "metadata": {},
   "outputs": [
    {
     "data": {
      "text/plain": [
       "{'completion_tokens': 117, 'prompt_tokens': 612, 'total_tokens': 729}"
      ]
     },
     "execution_count": 222,
     "metadata": {},
     "output_type": "execute_result"
    }
   ],
   "source": [
    "result['usage']"
   ]
  },
  {
   "cell_type": "markdown",
   "id": "9e8f9584",
   "metadata": {},
   "source": [
    "**Let's test a full abstract. When the abstracts were tested with the exact above prompt language, it failed to extract Cetuximab as a drug name. Upon experimenting with the Instructions language, it captured Cetuximab but then it combined the drugs as a list [vemurafenib, cetuximab]. Also, it again incorrectly defined BRAF as a target for the second text.\n",
    "This text was able to capture all drugs but then it still gives BRAF as a target for vemurafenib.\n",
    "\n",
    "IMPORTANT NOTE: When this cell was copied and run again, it again omitted Cetuximab. This should not happen with a low temperature of 0. This has been widely documented by various developers as well that even with a 0 temperature, the output could be different.**"
   ]
  },
  {
   "cell_type": "code",
   "execution_count": 241,
   "id": "a8b21432",
   "metadata": {},
   "outputs": [],
   "source": [
    "MODEL = 'gpt-4-turbo-preview'\n",
    "\n",
    "messages = [\n",
    "    {\"role\": \"system\",\"content\": \"\"\"\n",
    "    You are a meticulous data scientist working on named entity recognition.\n",
    "    Look at instructions from the ###Instruction ### section, see examples from the ***examples sections.Produce an output similar to shown for examples for each of the sections identified as TASK.   \n",
    "    Then generate a single JSON output from all tasks.\n",
    "    \"\"\" },\n",
    "    {\n",
    "        \"role\": \"user\", \"content\": \"\"\"\n",
    "        ###Instruction: For each of the text shown under TASKS, do the following:\n",
    "    1.Identify which drug names are mentioned and create a set for each drug. \n",
    "    2.Check if targets are mentioned for each drug.Only extract target if drug-target relationship is clearly defined.\n",
    "    3.Return multiple sets if more than 1 drug is present in the text.\n",
    "\n",
    "        ###\n",
    "        \"\"\"\n",
    "    },\n",
    "    {\n",
    "        \"role\": \"user\", \"content\": \"\"\"\n",
    "        ***examples\n",
    "        Example 1: We tested Vemurafenib in KRASG12C mutated cancers and showed that is very effective in these cancers.\n",
    "        Answer=The text talks about the drug Vemurafenib.It was tested in cancers with a gene mutation in KRAS gene.\n",
    "        However, it does not say that the drug is designed to target the KRAS gene.So, KRAS should not be labeled as a target for Vemurafenib.\n",
    "        The answer is {drug name: Vemurafenib, target name: None}\n",
    "        Example 2: Erlotinib is a kinase inihibitor, with binding activites showed for EGFR and downstream effects seen on PKA, PKC. \n",
    "        Answer=The drug name is Erlotinib.There are 3 genes mentioned here - EGFR, PKA, PKC.Erlotinib is said to bind to EGFR and hence EGFR is a target.Erlotinib has effects on PKA and PKC but that doesn't mean it directly binds and targets them, so they are not targets.\n",
    "        The answer is {drug name: Erlotinib, target name: EGFR}\n",
    "        ***\n",
    "        \"\"\"\n",
    "        \n",
    "    },\n",
    "    {\n",
    "        \"role\": \"user\", \"content\":\"\"\"\n",
    "        TASKS\n",
    "        Task 1-LKB1/STK11 is a serine/threonine kinase that plays a major role in controlling cell metabolism, resulting in potential therapeutic vulnerabilities in LKB1-mutant cancers. Here, we identify the NAD + degrading ectoenzyme, CD38, as a new target in LKB1-mutant NSCLC. Metabolic profiling of genetically engineered mouse models (GEMMs) revealed that LKB1 mutant lung cancers have a striking increase in ADP-ribose, a breakdown product of the critical redox co-factor, NAD + . Surprisingly, compared with other genetic subsets, murine and human LKB1-mutant NSCLC show marked overexpression of the NAD+-catabolizing ectoenzyme, CD38 on the surface of tumor cells. Loss of LKB1 or inactivation of Salt-Inducible Kinases (SIKs)-key downstream effectors of LKB1- induces CD38 transcription induction via a CREB binding site in the CD38 promoter. Treatment with the FDA-approved anti-CD38 antibody, daratumumab, inhibited growth of LKB1-mutant NSCLC xenografts. Together, these results reveal CD38 as a promising therapeutic target in patients with LKB1 mutant lung cancer.\n",
    "        Task 2-Background: BRAF V600 mutations occur in various nonmelanoma cancers. We undertook a histology-independent phase 2 \"basket\" study of vemurafenib in BRAF V600 mutation-positive nonmelanoma cancers. Methods: We enrolled patients in six prespecified cancer cohorts; patients with all other tumor types were enrolled in a seventh cohort. A total of 122 patients with BRAF V600 mutation-positive cancer were treated, including 27 patients with colorectal cancer who received vemurafenib and cetuximab. The primary end point was the response rate; secondary end points included progression-free and overall survival. Results: In the cohort with non-small-cell lung cancer, the response rate was 42% (95% confidence interval [CI], 20 to 67) and median progression-free survival was 7.3 months (95% CI, 3.5 to 10.8). In the cohort with Erdheim-Chester disease or Langerhans'-cell histiocytosis, the response rate was 43% (95% CI, 18 to 71); the median treatment duration was 5.9 months (range, 0.6 to 18.6), and no patients had disease progression during therapy. There were anecdotal responses among patients with pleomorphic xanthoastrocytoma, anaplastic thyroid cancer, cholangiocarcinoma, salivary-duct cancer, ovarian cancer, and clear-cell sarcoma and among patients with colorectal cancer who received vemurafenib and cetuximab. Safety was similar to that in prior studies of vemurafenib for melanoma. Conclusions: BRAF V600 appears to be a targetable oncogene in some, but not all, nonmelanoma cancers. Preliminary vemurafenib activity was observed in non-small-cell lung cancer and in Erdheim-Chester disease and Langerhans'-cell histiocytosis. The histologic context is an important determinant of response in BRAF V600-mutated cancers. (Funded by F. Hoffmann-La Roche/Genentech; ClinicalTrials.gov number, NCT01524978.).\n",
    "        \"\"\"\n",
    "    }\n",
    "]\n",
    "\n",
    "temperature=0\n",
    "\n",
    "response = client.chat.completions.create(\n",
    "        model=MODEL,\n",
    "        response_format={ \"type\": \"json_object\" },\n",
    "        messages=messages,\n",
    "        seed=0,\n",
    "        temperature=temperature\n",
    "    )\n",
    "\n",
    "result = json.loads(response.model_dump_json())\n",
    "data_dict = json.loads(result['choices'][0]['message']['content'])"
   ]
  },
  {
   "cell_type": "code",
   "execution_count": 242,
   "id": "f43f73bb",
   "metadata": {},
   "outputs": [
    {
     "data": {
      "text/plain": [
       "{'Task 1': {'drug name': 'daratumumab', 'target name': 'CD38'},\n",
       " 'Task 2': {'drug names': [{'drug name': 'vemurafenib',\n",
       "    'target name': 'BRAF V600'},\n",
       "   {'drug name': 'cetuximab', 'target name': None}]}}"
      ]
     },
     "execution_count": 242,
     "metadata": {},
     "output_type": "execute_result"
    }
   ],
   "source": [
    "data_dict"
   ]
  },
  {
   "cell_type": "markdown",
   "id": "ada5a6c8",
   "metadata": {},
   "source": [
    "**Show only 2 examples instead of 3. - Behavior changed again and adding back the example didn't help!**"
   ]
  },
  {
   "cell_type": "code",
   "execution_count": 287,
   "id": "b5431dba",
   "metadata": {},
   "outputs": [
    {
     "data": {
      "text/plain": [
       "{'Task 1': {'drug name': 'daratumumab', 'target name': 'CD38'},\n",
       " 'Task 2': {'drug name': 'vemurafenib', 'target name': 'BRAF V600'},\n",
       " 'Task 3': {'drug name': 'durafenib', 'target name': 'BRAFV600E'},\n",
       " 'Task 4': {'drug name': 'venetoclax', 'target name': 'None'}}"
      ]
     },
     "execution_count": 287,
     "metadata": {},
     "output_type": "execute_result"
    }
   ],
   "source": [
    "MODEL = 'gpt-4-turbo-preview'\n",
    "\n",
    "messages = [\n",
    "    {\"role\": \"system\",\"content\": \"\"\"\n",
    "    You are a meticulous data scientist working on named entity recognition.\n",
    "    Look at instructions from the ###Instruction ### section, see examples from the ***examples sections.Produce an output similar to shown for examples for each of the sections identified as TASK.   \n",
    "    Then generate a single JSON output from all tasks.\n",
    "    \"\"\" },\n",
    "    {\n",
    "        \"role\": \"user\", \"content\": \"\"\"\n",
    "        ###Instruction: For each of the text shown under TASKS, extract drug and target names from text by following these steps:\n",
    "        1.Identify all drug names and create a set for each drug.Return multiple sets if more than 1 drug is present in the text.\n",
    "        2.Check if targets are mentioned for each drug.Only extract target if drug-target relationship is clearly defined.\n",
    "        3.Return multiple sets if more than 1 drug is present in the text.\n",
    "        ###\n",
    "        \"\"\"\n",
    "    },\n",
    "    {\n",
    "        \"role\": \"user\", \"content\": \"\"\"\n",
    "        ***examples\n",
    "        Example 1: We tested Crizotinib in KRASG12C mutated cancers and showed that is very effective in these cancers.\n",
    "        Answer=The text talks about the drug Crizotinib.It was tested in cancers with a gene mutation in KRAS gene.\n",
    "        However, it does not say that the drug is designed to target the KRAS gene.So, KRAS should not be labeled as a target for Crizotinib.\n",
    "        The answer is {drug name: crizotinib, target name: None}\n",
    "        Example 2: Erlotinib is a kinase inihibitor, with binding activites showed for EGFR and downstream effects seen on PKA, PKC. \n",
    "        Answer=The drug name is Erlotinib.There are 3 genes mentioned here - EGFR, PKA, PKC.Erlotinib is said to bind to EGFR and hence EGFR is a target.Erlotinib has effects on PKA and PKC but that doesn't mean it directly binds and targets them, so they are not targets.\n",
    "        The answer is {drug name: erlotinib, target name: EGFR}\n",
    "        ***\n",
    "        \"\"\"\n",
    "        \n",
    "    },\n",
    "    {\n",
    "        \"role\": \"user\", \"content\":\"\"\"\n",
    "        TASKS\n",
    "        Task 1-LKB1/STK11 is a serine/threonine kinase that plays a major role in controlling cell metabolism, resulting in potential therapeutic vulnerabilities in LKB1-mutant cancers. Here, we identify the NAD + degrading ectoenzyme, CD38, as a new target in LKB1-mutant NSCLC. Metabolic profiling of genetically engineered mouse models (GEMMs) revealed that LKB1 mutant lung cancers have a striking increase in ADP-ribose, a breakdown product of the critical redox co-factor, NAD + . Surprisingly, compared with other genetic subsets, murine and human LKB1-mutant NSCLC show marked overexpression of the NAD+-catabolizing ectoenzyme, CD38 on the surface of tumor cells. Loss of LKB1 or inactivation of Salt-Inducible Kinases (SIKs)-key downstream effectors of LKB1- induces CD38 transcription induction via a CREB binding site in the CD38 promoter. Treatment with the FDA-approved anti-CD38 antibody, daratumumab, inhibited growth of LKB1-mutant NSCLC xenografts. Together, these results reveal CD38 as a promising therapeutic target in patients with LKB1 mutant lung cancer.\n",
    "        Task 2-Background: BRAF V600 mutations occur in various nonmelanoma cancers. We undertook a histology-independent phase 2 \"basket\" study of vemurafenib in BRAF V600 mutation-positive nonmelanoma cancers. Methods: We enrolled patients in six prespecified cancer cohorts; patients with all other tumor types were enrolled in a seventh cohort. A total of 122 patients with BRAF V600 mutation-positive cancer were treated, including 27 patients with colorectal cancer who received vemurafenib and cetuximab. The primary end point was the response rate; secondary end points included progression-free and overall survival. Results: In the cohort with non-small-cell lung cancer, the response rate was 42% (95% confidence interval [CI], 20 to 67) and median progression-free survival was 7.3 months (95% CI, 3.5 to 10.8). In the cohort with Erdheim-Chester disease or Langerhans'-cell histiocytosis, the response rate was 43% (95% CI, 18 to 71); the median treatment duration was 5.9 months (range, 0.6 to 18.6), and no patients had disease progression during therapy. There were anecdotal responses among patients with pleomorphic xanthoastrocytoma, anaplastic thyroid cancer, cholangiocarcinoma, salivary-duct cancer, ovarian cancer, and clear-cell sarcoma and among patients with colorectal cancer who received vemurafenib and cetuximab. Safety was similar to that in prior studies of vemurafenib for melanoma. Conclusions: BRAF V600 appears to be a targetable oncogene in some, but not all, nonmelanoma cancers. Preliminary vemurafenib activity was observed in non-small-cell lung cancer and in Erdheim-Chester disease and Langerhans'-cell histiocytosis. The histologic context is an important determinant of response in BRAF V600-mutated cancers. (Funded by F. Hoffmann-La Roche/Genentech; ClinicalTrials.gov number, NCT01524978.).\n",
    "        Task 3-Durafenib was tested and showed positive results in patients with a BRAFV600E mutation.\n",
    "        Task 4-Venetoclax efficacy was shown to be very poor in AXL mutated cancers.\n",
    "        \"\"\"\n",
    "    }\n",
    "]\n",
    "\n",
    "temperature=0\n",
    "\n",
    "response = client.chat.completions.create(\n",
    "        model=MODEL,\n",
    "        response_format={ \"type\": \"json_object\" },\n",
    "        messages=messages,\n",
    "        seed=0,\n",
    "        temperature=temperature\n",
    "    )\n",
    "\n",
    "result = json.loads(response.model_dump_json())\n",
    "data_dict = json.loads(result['choices'][0]['message']['content'])\n",
    "data_dict"
   ]
  },
  {
   "cell_type": "code",
   "execution_count": 266,
   "id": "baa67d28",
   "metadata": {},
   "outputs": [
    {
     "data": {
      "text/plain": [
       "{'completion_tokens': 124, 'prompt_tokens': 1329, 'total_tokens': 1453}"
      ]
     },
     "execution_count": 266,
     "metadata": {},
     "output_type": "execute_result"
    }
   ],
   "source": [
    "result['usage']"
   ]
  },
  {
   "cell_type": "markdown",
   "id": "2af5bd7a",
   "metadata": {},
   "source": [
    "**PROBLEMS AND PROMPT SELECTED FOR THE PIPELINE:**\n",
    "\n",
    "1. Needs to ID and return mutliple drugs from each text.\n",
    "2. Should give accurate output for the self-made sentences.\n",
    "3. Shouldn't clump all drugs into 1 list.\n",
    "4. Since the outputs vary quite a bit when self-made/dummy 1-2 line sentences are shown vs when 1 full actual abstract is shown as an example. So, it's best to go back to the following longer prompt as it extracts multiple entities at once."
   ]
  },
  {
   "cell_type": "markdown",
   "id": "f8ba448a",
   "metadata": {},
   "source": [
    "**CONCLUSION - SELECT THE FOLLOWING FORMAT AND CREATE A PIPELINE TO TEST ON 20-30 ABSTRACTS.**"
   ]
  },
  {
   "cell_type": "code",
   "execution_count": 324,
   "id": "8f67bb84",
   "metadata": {},
   "outputs": [],
   "source": [
    "MODEL = 'gpt-4-turbo-preview'\n",
    "\n",
    "messages = [\n",
    "    {\"role\": \"system\",\"content\": \"\"\"\n",
    "    You are a meticulous data scientist working on named entity recognition and building out a drug-target dataset from biomedical text.\n",
    "    \"\"\" },\n",
    "    {\n",
    "        \"role\": \"user\", \"content\": \"\"\"\n",
    "        Look at the examples delimited by ### and the rules delimited by ***.\n",
    "        *** RULES \n",
    "        For each of the text shown under TASKS, do the following:\n",
    "    1. Identify which drugs have been tested and create a set for each. \n",
    "    2. Return multiple sets if more than drug is present in the text.\n",
    "    \n",
    "    For each drug:\n",
    "    3. Get direct target: Use the following logic: if the text clearly and directly mentions that the drug targets a gene and has also defined the type of interaction\n",
    "    4. Get interaction type between the drug and direct target: if explicitly and clearly mentioned, then get the drug-direct target relationship type. What does the drug do to the direct target? inhibitor, activator, etc.?\n",
    "    5. Get groups tested: specify which type of genes was the drug tested on, eg. if drug was tested on samples showing high expression of certain gene.\n",
    "    6. Collect all disease names for which the drug has been tested into 1 list.\n",
    "    7. Extract any specific ClinicalTrials.gov identifier or number.\n",
    "    8. For each drug, construct a set consisting of (drug name, direct target, drug-direct target interaction, tested or effective group, logic for direct target, ClinicalTrials.gov number, all diseases that the drug is tested in)\n",
    "    9. Any empty values should be indicated by null and not an empty string.\n",
    "    10. Double check your logic and see if the data you have collected is actually reflected in the text. If not, make revisions.\n",
    "    11. Both, direct target, and drug-direct target interaction fields should have been filled or both should be null. Only one of these fields cannot be null.\n",
    "    11. Assemble all sets and produce 1 final JSON output.\n",
    "    ***\n",
    "        ### EXAMPLES \n",
    "        Example 1: LKB1/STK11 is a serine/threonine kinase that plays a major role in controlling cell metabolism, resulting in potential therapeutic vulnerabilities in LKB1-mutant cancers. Here, we identify the NAD + degrading ectoenzyme, CD38, as a new target in LKB1-mutant NSCLC. Metabolic profiling of genetically engineered mouse models (GEMMs) revealed that LKB1 mutant lung cancers have a striking increase in ADP-ribose, a breakdown product of the critical redox co-factor, NAD + . Surprisingly, compared with other genetic subsets, murine and human LKB1-mutant NSCLC show marked overexpression of the NAD+-catabolizing ectoenzyme, CD38 on the surface of tumor cells. Loss of LKB1 or inactivation of Salt-Inducible Kinases (SIKs)-key downstream effectors of LKB1- induces CD38 transcription induction via a CREB binding site in the CD38 promoter. Treatment with the FDA-approved anti-CD38 antibody, daratumumab, inhibited growth of LKB1-mutant NSCLC xenografts. Together, these results reveal CD38 as a promising therapeutic target in patients with LKB1 mutant lung cancer.\n",
    "        Output: {drug name: daratumumab,\n",
    "        direct target: CD38, \n",
    "        tested or effective group: LKB-1/STK-11 mutant NSCLC, \n",
    "        logic for direct target: text mentioned it is an anti-CD38 antibody\n",
    "        drug-direct target interaction: anti-CD38 monoclonal antibody,\n",
    "        drug tested in following diseases: lung cancer, NSCLC,\n",
    "        ClinicalTrials.gov ID: null}\n",
    "        ###\n",
    "        TASKS:\n",
    "    Use the RULES and EXAMPLES and create a similar outputs for the following text delimited by ID:\n",
    "    ID1:Triple-negative breast cancers (TNBC) frequently inactivate p53, increasing their aggressiveness and therapy resistance. We identified an unexpected protein vulnerability in p53-inactivated TNBC and designed a new PROteolysis TArgeting Chimera (PROTAC) to target it. Our PROTAC selectively targets MDM2 for proteasome-mediated degradation with high-affinity binding and VHL recruitment. MDM2 loss in p53 mutant/deleted TNBC cells in two-dimensional/three-dimensional culture and TNBC patient explants, including relapsed tumors, causes apoptosis while sparing normal cells. Our MDM2-PROTAC is stable in vivo, and treatment of TNBC xenograft-bearing mice demonstrates tumor on-target efficacy with no toxicity to normal cells, significantly extending survival. Transcriptomic analyses revealed upregulation of p53 family target genes. Investigations showed activation and a required role for TAp73 to mediate MDM2-PROTAC-induced apoptosis. Our data, challenging the current MDM2/p53 paradigm, show MDM2 is required for p53-inactivated TNBC cell survival, and PROTAC-targeted MDM2 degradation is an innovative potential therapeutic strategy for TNBC and superior to existing MDM2 inhibitors. \n",
    "    \n",
    "    ID2:Background: BRAF V600 mutations occur in various nonmelanoma cancers. We undertook a histology-independent phase 2 \"basket\" study of vemurafenib in BRAF V600 mutation-positive nonmelanoma cancers.\n",
    "        Methods: We enrolled patients in six prespecified cancer cohorts; patients with all other tumor types were enrolled in a seventh cohort. A total of 122 patients with BRAF V600 mutation-positive cancer were treated, including 27 patients with colorectal cancer who received vemurafenib and cetuximab. The primary end point was the response rate; secondary end points included progression-free and overall survival.\n",
    "        Results: In the cohort with non-small-cell lung cancer, the response rate was 42% (95% confidence interval [CI], 20 to 67) and median progression-free survival was 7.3 months (95% CI, 3.5 to 10.8). In the cohort with Erdheim-Chester disease or Langerhans'-cell histiocytosis, the response rate was 43% (95% CI, 18 to 71); the median treatment duration was 5.9 months (range, 0.6 to 18.6), and no patients had disease progression during therapy. There were anecdotal responses among patients with pleomorphic xanthoastrocytoma, anaplastic thyroid cancer, cholangiocarcinoma, salivary-duct cancer, ovarian cancer, and clear-cell sarcoma and among patients with colorectal cancer who received vemurafenib and cetuximab. Safety was similar to that in prior studies of vemurafenib for melanoma.\n",
    "        Conclusions: BRAF V600 appears to be a targetable oncogene in some, but not all, nonmelanoma cancers. Preliminary vemurafenib activity was observed in non-small-cell lung cancer and in Erdheim-Chester disease and Langerhans'-cell histiocytosis. The histologic context is an important determinant of response in BRAF V600-mutated cancers. (Funded by F. Hoffmann-La Roche/Genentech; ClinicalTrials.gov number, NCT01524978.).\n",
    "\n",
    "        \"\"\"\n",
    "    }\n",
    "]\n",
    "\n",
    "response = client.chat.completions.create(\n",
    "        model=MODEL,\n",
    "        response_format={ \"type\": \"json_object\" },\n",
    "        messages=messages,\n",
    "        seed=0,\n",
    "        temperature=0\n",
    "    )\n"
   ]
  },
  {
   "cell_type": "code",
   "execution_count": 325,
   "id": "90bd5c7b",
   "metadata": {},
   "outputs": [
    {
     "data": {
      "text/plain": [
       "{'ID1': {'drug name': 'MDM2-PROTAC',\n",
       "  'direct target': 'MDM2',\n",
       "  'tested or effective group': 'p53 mutant/deleted TNBC',\n",
       "  'logic for direct target': 'text mentioned it selectively targets MDM2 for proteasome-mediated degradation with high-affinity binding and VHL recruitment',\n",
       "  'drug-direct target interaction': 'proteasome-mediated degradation',\n",
       "  'drug tested in following diseases': ['Triple-negative breast cancer (TNBC)'],\n",
       "  'ClinicalTrials.gov ID': None},\n",
       " 'ID2': {'drug name': 'vemurafenib',\n",
       "  'direct target': 'BRAF V600',\n",
       "  'tested or effective group': None,\n",
       "  'logic for direct target': 'text mentioned BRAF V600 mutation-positive nonmelanoma cancers',\n",
       "  'drug-direct target interaction': None,\n",
       "  'drug tested in following diseases': ['non-small-cell lung cancer',\n",
       "   'Erdheim-Chester disease',\n",
       "   \"Langerhans'-cell histiocytosis\",\n",
       "   'pleomorphic xanthoastrocytoma',\n",
       "   'anaplastic thyroid cancer',\n",
       "   'cholangiocarcinoma',\n",
       "   'salivary-duct cancer',\n",
       "   'ovarian cancer',\n",
       "   'clear-cell sarcoma',\n",
       "   'colorectal cancer'],\n",
       "  'ClinicalTrials.gov ID': 'NCT01524978'},\n",
       " 'ID2_additional': {'drug name': 'cetuximab',\n",
       "  'direct target': None,\n",
       "  'tested or effective group': None,\n",
       "  'logic for direct target': None,\n",
       "  'drug-direct target interaction': None,\n",
       "  'drug tested in following diseases': ['colorectal cancer'],\n",
       "  'ClinicalTrials.gov ID': 'NCT01524978'}}"
      ]
     },
     "execution_count": 325,
     "metadata": {},
     "output_type": "execute_result"
    }
   ],
   "source": [
    "result = json.loads(response.model_dump_json())\n",
    "data_dict = json.loads(result['choices'][0]['message']['content'])\n",
    "data_dict"
   ]
  },
  {
   "cell_type": "code",
   "execution_count": 326,
   "id": "37c76a46",
   "metadata": {},
   "outputs": [
    {
     "data": {
      "text/plain": [
       "{'completion_tokens': 403, 'prompt_tokens': 1536, 'total_tokens': 1939}"
      ]
     },
     "execution_count": 326,
     "metadata": {},
     "output_type": "execute_result"
    }
   ],
   "source": [
    "result['usage']"
   ]
  },
  {
   "cell_type": "markdown",
   "id": "1a53ae19",
   "metadata": {},
   "source": [
    "**Cleaned up the above prompt.**"
   ]
  },
  {
   "cell_type": "code",
   "execution_count": 327,
   "id": "7792585e",
   "metadata": {},
   "outputs": [],
   "source": [
    "MODEL = 'gpt-4-turbo-preview'\n",
    "\n",
    "messages = [\n",
    "    {\"role\": \"system\",\"content\": \"\"\"\n",
    "    You are a meticulous data scientist working on named entity recognition and building out a drug-target dataset from biomedical text.\n",
    "    Only consider the text given to you.\"\"\" },\n",
    "    {\n",
    "        \"role\": \"user\", \"content\": \"\"\"\n",
    "        Look at the examples delimited by ### and the rules delimited by ***.\n",
    "        *** RULES \n",
    "        For each of the text shown under TASKS, do the following:\n",
    "    1. Identify which drugs have been tested and create a set for each. \n",
    "    2. Return multiple sets if more than drug is present in the text.\n",
    "    \n",
    "    For each drug:\n",
    "    3. Get direct target: Use the following logic: if the text clearly and directly mentions that the drug targets a gene and has also defined the type of interaction\n",
    "    4. Get interaction type between the drug and direct target: if explicitly and clearly mentioned, then get the drug-direct target relationship type. What does the drug do to the direct target? inhibitor, activator, etc.?\n",
    "    5. Get groups tested: specify which type of genes was the drug tested on, eg. if drug was tested on samples showing high expression of certain gene.\n",
    "    6. Collect all disease names for which the drug has been tested into 1 list.\n",
    "    7. Extract any specific ClinicalTrials.gov identifier or number.\n",
    "    8. For each drug, construct a set consisting of (drug name, direct target, drug-direct target interaction, tested or effective group, ClinicalTrials.gov number, all diseases that the drug is tested in)\n",
    "    9. Any empty values should be indicated by null and not an empty string.\n",
    "    10. Double check your logic and see if the data you have collected is actually reflected in the text. If not, make revisions.\n",
    "    11. Both, direct target, and drug-direct target interaction fields should have been filled or both should be null. Only one of these fields cannot be null.\n",
    "    12. Assemble all sets and produce 1 final JSON output.\n",
    "    ***\n",
    "        ### EXAMPLES \n",
    "        PMID23: LKB1/STK11 is a serine/threonine kinase that plays a major role in controlling cell metabolism, resulting in potential therapeutic vulnerabilities in LKB1-mutant cancers. Here, we identify the NAD + degrading ectoenzyme, CD38, as a new target in LKB1-mutant NSCLC. Metabolic profiling of genetically engineered mouse models (GEMMs) revealed that LKB1 mutant lung cancers have a striking increase in ADP-ribose, a breakdown product of the critical redox co-factor, NAD + . Surprisingly, compared with other genetic subsets, murine and human LKB1-mutant NSCLC show marked overexpression of the NAD+-catabolizing ectoenzyme, CD38 on the surface of tumor cells. Loss of LKB1 or inactivation of Salt-Inducible Kinases (SIKs)-key downstream effectors of LKB1- induces CD38 transcription induction via a CREB binding site in the CD38 promoter. Treatment with the FDA-approved anti-CD38 antibody, daratumumab, inhibited growth of LKB1-mutant NSCLC xenografts. Together, these results reveal CD38 as a promising therapeutic target in patients with LKB1 mutant lung cancer.\n",
    "        Output: {\"PMID23\": [{\"drug name\": \"daratumumab\",\n",
    "                            \"target\": [\n",
    "                                {\"direct target\": \"CD38\",\n",
    "                                  \"drug-direct target interaction\": \"anti-CD38 monoclonal antibody\"},],\n",
    "                            \"tested or effective group\": [\"LKB-1/STK-11 mutant NSCLC\"],\n",
    "                             \"drug tested in following diseases\": [\"lung cancer\", \"NSCLC\"],\n",
    "                             \"ClinicalTrials.gov ID\": []\n",
    "                             }]}\n",
    "        ###\n",
    "        TASKS:\n",
    "    Use the RULES and EXAMPLES and create a similar outputs for the following text delimited by ID:\n",
    "    PMID345:Triple-negative breast cancers (TNBC) frequently inactivate p53, increasing their aggressiveness and therapy resistance. We identified an unexpected protein vulnerability in p53-inactivated TNBC and designed a new PROteolysis TArgeting Chimera (PROTAC) to target it. Our PROTAC selectively targets MDM2 for proteasome-mediated degradation with high-affinity binding and VHL recruitment. MDM2 loss in p53 mutant/deleted TNBC cells in two-dimensional/three-dimensional culture and TNBC patient explants, including relapsed tumors, causes apoptosis while sparing normal cells. Our MDM2-PROTAC is stable in vivo, and treatment of TNBC xenograft-bearing mice demonstrates tumor on-target efficacy with no toxicity to normal cells, significantly extending survival. Transcriptomic analyses revealed upregulation of p53 family target genes. Investigations showed activation and a required role for TAp73 to mediate MDM2-PROTAC-induced apoptosis. Our data, challenging the current MDM2/p53 paradigm, show MDM2 is required for p53-inactivated TNBC cell survival, and PROTAC-targeted MDM2 degradation is an innovative potential therapeutic strategy for TNBC and superior to existing MDM2 inhibitors. \n",
    "    \n",
    "    PMID567:Background: BRAF V600 mutations occur in various nonmelanoma cancers. We undertook a histology-independent phase 2 \"basket\" study of vemurafenib in BRAF V600 mutation-positive nonmelanoma cancers.\n",
    "        Methods: We enrolled patients in six prespecified cancer cohorts; patients with all other tumor types were enrolled in a seventh cohort. A total of 122 patients with BRAF V600 mutation-positive cancer were treated, including 27 patients with colorectal cancer who received vemurafenib and cetuximab. The primary end point was the response rate; secondary end points included progression-free and overall survival.\n",
    "        Results: In the cohort with non-small-cell lung cancer, the response rate was 42% (95% confidence interval [CI], 20 to 67) and median progression-free survival was 7.3 months (95% CI, 3.5 to 10.8). In the cohort with Erdheim-Chester disease or Langerhans'-cell histiocytosis, the response rate was 43% (95% CI, 18 to 71); the median treatment duration was 5.9 months (range, 0.6 to 18.6), and no patients had disease progression during therapy. There were anecdotal responses among patients with pleomorphic xanthoastrocytoma, anaplastic thyroid cancer, cholangiocarcinoma, salivary-duct cancer, ovarian cancer, and clear-cell sarcoma and among patients with colorectal cancer who received vemurafenib and cetuximab. Safety was similar to that in prior studies of vemurafenib for melanoma.\n",
    "        Conclusions: BRAF V600 appears to be a targetable oncogene in some, but not all, nonmelanoma cancers. Preliminary vemurafenib activity was observed in non-small-cell lung cancer and in Erdheim-Chester disease and Langerhans'-cell histiocytosis. The histologic context is an important determinant of response in BRAF V600-mutated cancers. (Funded by F. Hoffmann-La Roche/Genentech; ClinicalTrials.gov number, NCT01524978.).\n",
    "\n",
    "        \"\"\"\n",
    "    }\n",
    "]\n",
    "\n",
    "response = client.chat.completions.create(\n",
    "        model=MODEL,\n",
    "        response_format={ \"type\": \"json_object\" },\n",
    "        messages=messages,\n",
    "        seed=0,\n",
    "        temperature=0\n",
    "    )\n"
   ]
  },
  {
   "cell_type": "code",
   "execution_count": 328,
   "id": "9c636e58",
   "metadata": {},
   "outputs": [
    {
     "data": {
      "text/plain": [
       "{'PMID345': [{'drug name': 'MDM2-PROTAC',\n",
       "   'target': [{'direct target': 'MDM2',\n",
       "     'drug-direct target interaction': 'proteasome-mediated degradation'}],\n",
       "   'tested or effective group': ['p53 mutant/deleted TNBC'],\n",
       "   'drug tested in following diseases': ['TNBC'],\n",
       "   'ClinicalTrials.gov ID': None}],\n",
       " 'PMID567': [{'drug name': 'vemurafenib',\n",
       "   'target': [{'direct target': None, 'drug-direct target interaction': None}],\n",
       "   'tested or effective group': None,\n",
       "   'drug tested in following diseases': ['non-small-cell lung cancer',\n",
       "    'Erdheim-Chester disease',\n",
       "    \"Langerhans'-cell histiocytosis\",\n",
       "    'pleomorphic xanthoastrocytoma',\n",
       "    'anaplastic thyroid cancer',\n",
       "    'cholangiocarcinoma',\n",
       "    'salivary-duct cancer',\n",
       "    'ovarian cancer',\n",
       "    'clear-cell sarcoma'],\n",
       "   'ClinicalTrials.gov ID': ['NCT01524978']},\n",
       "  {'drug name': 'cetuximab',\n",
       "   'target': [{'direct target': None, 'drug-direct target interaction': None}],\n",
       "   'tested or effective group': None,\n",
       "   'drug tested in following diseases': ['colorectal cancer'],\n",
       "   'ClinicalTrials.gov ID': ['NCT01524978']}]}"
      ]
     },
     "execution_count": 328,
     "metadata": {},
     "output_type": "execute_result"
    }
   ],
   "source": [
    "result = json.loads(response.model_dump_json())\n",
    "data_dict = json.loads(result['choices'][0]['message']['content'])\n",
    "data_dict"
   ]
  },
  {
   "cell_type": "code",
   "execution_count": 329,
   "id": "436b6b19",
   "metadata": {},
   "outputs": [
    {
     "data": {
      "text/plain": [
       "{'completion_tokens': 341, 'prompt_tokens': 1543, 'total_tokens': 1884}"
      ]
     },
     "execution_count": 329,
     "metadata": {},
     "output_type": "execute_result"
    }
   ],
   "source": [
    "result['usage']"
   ]
  },
  {
   "cell_type": "markdown",
   "id": "9c028f05",
   "metadata": {},
   "source": [
    "**PROBLEMS**\n",
    "\n",
    "1. Needs to ID and return mutliple drugs from each text. - Add example?\n",
    "2. Should give accurate output for the self-made sentences.\n",
    "3. Shouldn't clump all drugs into 1 list."
   ]
  },
  {
   "cell_type": "code",
   "execution_count": null,
   "id": "67263405",
   "metadata": {},
   "outputs": [],
   "source": []
  },
  {
   "cell_type": "markdown",
   "id": "7e6048d6",
   "metadata": {},
   "source": [
    "Things to figure out / next steps:\n",
    "\n",
    "1. How to send multiple abstracts and how many? - for the first part, test 3 text chunks. - DONE\n",
    "2. How to extract details from a JSON object? - DONE\n",
    "3. Experiment with the temperature setting?\n",
    "4. One shot learning"
   ]
  },
  {
   "cell_type": "markdown",
   "id": "9bf353e6",
   "metadata": {},
   "source": [
    "## Abstracts and some example sentences for checking the quality of responses."
   ]
  },
  {
   "cell_type": "markdown",
   "id": "51144f7a",
   "metadata": {},
   "source": [
    "**Two really good abstracts to check:**\n",
    "\n",
    "LKB1/STK11 is a serine/threonine kinase that plays a major role in controlling cell metabolism, resulting in potential therapeutic vulnerabilities in LKB1-mutant cancers. Here, we identify the NAD + degrading ectoenzyme, CD38, as a new target in LKB1-mutant NSCLC. Metabolic profiling of genetically engineered mouse models (GEMMs) revealed that LKB1 mutant lung cancers have a striking increase in ADP-ribose, a breakdown product of the critical redox co-factor, NAD + . Surprisingly, compared with other genetic subsets, murine and human LKB1-mutant NSCLC show marked overexpression of the NAD+-catabolizing ectoenzyme, CD38 on the surface of tumor cells. Loss of LKB1 or inactivation of Salt-Inducible Kinases (SIKs)-key downstream effectors of LKB1- induces CD38 transcription induction via a CREB binding site in the CD38 promoter. Treatment with the FDA-approved anti-CD38 antibody, daratumumab, inhibited growth of LKB1-mutant NSCLC xenografts. Together, these results reveal CD38 as a promising therapeutic target in patients with LKB1 mutant lung cancer.\n",
    "\n",
    "\n",
    "AND \n",
    "\n",
    "Background: BRAF V600 mutations occur in various nonmelanoma cancers. We undertook a histology-independent phase 2 \"basket\" study of vemurafenib in BRAF V600 mutation-positive nonmelanoma cancers.\n",
    "Methods: We enrolled patients in six prespecified cancer cohorts; patients with all other tumor types were enrolled in a seventh cohort. A total of 122 patients with BRAF V600 mutation-positive cancer were treated, including 27 patients with colorectal cancer who received vemurafenib and cetuximab. The primary end point was the response rate; secondary end points included progression-free and overall survival.\n",
    "        Results: In the cohort with non-small-cell lung cancer, the response rate was 42% (95% confidence interval [CI], 20 to 67) and median progression-free survival was 7.3 months (95% CI, 3.5 to 10.8). In the cohort with Erdheim-Chester disease or Langerhans'-cell histiocytosis, the response rate was 43% (95% CI, 18 to 71); the median treatment duration was 5.9 months (range, 0.6 to 18.6), and no patients had disease progression during therapy. There were anecdotal responses among patients with pleomorphic xanthoastrocytoma, anaplastic thyroid cancer, cholangiocarcinoma, salivary-duct cancer, ovarian cancer, and clear-cell sarcoma and among patients with colorectal cancer who received vemurafenib and cetuximab. Safety was similar to that in prior studies of vemurafenib for melanoma.\n",
    "        Conclusions: BRAF V600 appears to be a targetable oncogene in some, but not all, nonmelanoma cancers. Preliminary vemurafenib activity was observed in non-small-cell lung cancer and in Erdheim-Chester disease and Langerhans'-cell histiocytosis. The histologic context is an important determinant of response in BRAF V600-mutated cancers. (Funded by F. Hoffmann-La Roche/Genentech; ClinicalTrials.gov number, NCT01524978.).\n",
    "\n",
    "\n",
    "**Example/made-up sentences for few shot.**\n",
    "\n",
    "Example 2: Erlotinib is a kinase inihibitor, with binding activites showed for EGFR and downstream effects seen on PKA, PKC. \n",
    "Answer=The drug name is Erlotinib.There are 3 genes mentioned here - EGFR, PKA, PKC.Erlotinib is said to bind to EGFR and hence EGFR is a target.Erlotinib has effects on PKA and PKC but that doesn't mean it directly binds and targets them, so they are not targets.\n",
    "The answer is {drug name: Erlotinib, target name: EGFR}\n",
    "\n",
    "Example 3: Metformin is a drug commonly used for people with type 2 diabetes.But in cancer, Metformin has been shown to decrease KI-67 expression.\n",
    "Answer=The drug name is Metformin.Although it can impact Ki-67 expression in cancers, the text doesn't explicitly say that Ki-67 is a direct target.So, in this text no target is mentioned for Metformin.\n",
    "The answer is {drug name: Metformin, target name: None}"
   ]
  },
  {
   "cell_type": "markdown",
   "id": "54b52a57",
   "metadata": {},
   "source": [
    "## Testing tiktoken to estimate token size<a id=\"tik\"></a>"
   ]
  },
  {
   "cell_type": "markdown",
   "id": "0ee6a70d",
   "metadata": {},
   "source": [
    "**Tiktoken is a library that takes a string and splits it into a list of tokens. There are different encoding models available specific to each LLM. These models differ in how they convert text into tokens.**\n",
    "\n",
    "Here we can see that the encoding used for GPT-4-turbo-preview model is cl100kbase."
   ]
  },
  {
   "cell_type": "code",
   "execution_count": 3,
   "id": "71354761",
   "metadata": {},
   "outputs": [],
   "source": [
    "encoding = tiktoken.encoding_for_model('gpt-4-turbo-preview')"
   ]
  },
  {
   "cell_type": "code",
   "execution_count": 4,
   "id": "731abfd3",
   "metadata": {},
   "outputs": [
    {
     "data": {
      "text/plain": [
       "<Encoding 'cl100k_base'>"
      ]
     },
     "execution_count": 4,
     "metadata": {},
     "output_type": "execute_result"
    }
   ],
   "source": [
    "encoding"
   ]
  },
  {
   "cell_type": "markdown",
   "id": "c3a51d5c",
   "metadata": {},
   "source": [
    "**Load an encoding model.**"
   ]
  },
  {
   "cell_type": "code",
   "execution_count": 5,
   "id": "7765395c",
   "metadata": {},
   "outputs": [],
   "source": [
    "encoding = tiktoken.encoding_for_model(\"gpt-4-turbo-preview\")"
   ]
  },
  {
   "cell_type": "markdown",
   "id": "a8eae265",
   "metadata": {},
   "source": [
    "**Convert string into a list of tokens.**"
   ]
  },
  {
   "cell_type": "code",
   "execution_count": 37,
   "id": "e585cecd",
   "metadata": {},
   "outputs": [],
   "source": [
    "test_str = 'ZNF10.1 is a gene that encodes a zinc-finger protein.'"
   ]
  },
  {
   "cell_type": "code",
   "execution_count": 38,
   "id": "d6f1d61c",
   "metadata": {},
   "outputs": [],
   "source": [
    "tokens = encoding.encode(test_str)"
   ]
  },
  {
   "cell_type": "code",
   "execution_count": 39,
   "id": "1c8a853f",
   "metadata": {},
   "outputs": [
    {
     "data": {
      "text/plain": [
       "[57,\n",
       " 39167,\n",
       " 605,\n",
       " 13,\n",
       " 16,\n",
       " 374,\n",
       " 264,\n",
       " 15207,\n",
       " 430,\n",
       " 3289,\n",
       " 2601,\n",
       " 264,\n",
       " 49601,\n",
       " 2269,\n",
       " 5248,\n",
       " 13128,\n",
       " 13]"
      ]
     },
     "execution_count": 39,
     "metadata": {},
     "output_type": "execute_result"
    }
   ],
   "source": [
    "tokens"
   ]
  },
  {
   "cell_type": "code",
   "execution_count": 40,
   "id": "c7ba9993",
   "metadata": {},
   "outputs": [
    {
     "data": {
      "text/plain": [
       "53"
      ]
     },
     "execution_count": 40,
     "metadata": {},
     "output_type": "execute_result"
    }
   ],
   "source": [
    "len(test_str)"
   ]
  },
  {
   "cell_type": "code",
   "execution_count": 41,
   "id": "3962773b",
   "metadata": {},
   "outputs": [
    {
     "data": {
      "text/plain": [
       "17"
      ]
     },
     "execution_count": 41,
     "metadata": {},
     "output_type": "execute_result"
    }
   ],
   "source": [
    "len(tokens)"
   ]
  },
  {
   "cell_type": "markdown",
   "id": "ed475b68",
   "metadata": {},
   "source": [
    "**A list of tokens can be converted to a string.**"
   ]
  },
  {
   "cell_type": "code",
   "execution_count": 42,
   "id": "e9417ed7",
   "metadata": {
    "scrolled": true
   },
   "outputs": [
    {
     "data": {
      "text/plain": [
       "'ZNF10.1 is a gene that encodes a zinc-finger protein.'"
      ]
     },
     "execution_count": 42,
     "metadata": {},
     "output_type": "execute_result"
    }
   ],
   "source": [
    "encoding.decode(tokens)"
   ]
  },
  {
   "cell_type": "markdown",
   "id": "ab9500e0",
   "metadata": {},
   "source": [
    "**Single tokens can be decoded like this:**\n",
    "\n",
    "Here we can see that spaces or other characters may be grouped with a letter or string and represent 1 token.\n",
    "The b in front indicates byte strings."
   ]
  },
  {
   "cell_type": "code",
   "execution_count": 43,
   "id": "9a3586f4",
   "metadata": {},
   "outputs": [
    {
     "name": "stdout",
     "output_type": "stream",
     "text": [
      "57- b'Z'\n",
      "39167- b'NF'\n",
      "605- b'10'\n",
      "13- b'.'\n",
      "16- b'1'\n",
      "374- b' is'\n",
      "264- b' a'\n",
      "15207- b' gene'\n",
      "430- b' that'\n",
      "3289- b' enc'\n",
      "2601- b'odes'\n",
      "264- b' a'\n",
      "49601- b' zinc'\n",
      "2269- b'-f'\n",
      "5248- b'inger'\n",
      "13128- b' protein'\n",
      "13- b'.'\n"
     ]
    }
   ],
   "source": [
    "for token in tokens:\n",
    "    print(f'{token}-',encoding.decode_single_token_bytes(token))"
   ]
  },
  {
   "cell_type": "markdown",
   "id": "ffbea557",
   "metadata": {},
   "source": [
    "**Using tiktoken estimation before calling the API would be helpful for determining the number of prompts to send in 1 call and also confirm that the input size meets the token limit criteria based on the model.**"
   ]
  },
  {
   "cell_type": "code",
   "execution_count": 14,
   "id": "2dd20eb6",
   "metadata": {},
   "outputs": [],
   "source": [
    "str_a = 'All written in 1 line.'\n",
    "str_b = '''\n",
    "    All written in \n",
    "    1 line\n",
    "'''"
   ]
  },
  {
   "cell_type": "code",
   "execution_count": 16,
   "id": "7c22ac47",
   "metadata": {},
   "outputs": [
    {
     "data": {
      "text/plain": [
       "7"
      ]
     },
     "execution_count": 16,
     "metadata": {},
     "output_type": "execute_result"
    }
   ],
   "source": [
    "len(encoding.encode(str_a))"
   ]
  },
  {
   "cell_type": "code",
   "execution_count": 17,
   "id": "cda16fa2",
   "metadata": {
    "scrolled": true
   },
   "outputs": [
    {
     "data": {
      "text/plain": [
       "11"
      ]
     },
     "execution_count": 17,
     "metadata": {},
     "output_type": "execute_result"
    }
   ],
   "source": [
    "len(encoding.encode(str_b))"
   ]
  },
  {
   "cell_type": "markdown",
   "id": "0481fc66",
   "metadata": {},
   "source": [
    "### Following data cleaning steps would help before the text is passed into a prompt."
   ]
  },
  {
   "cell_type": "markdown",
   "id": "cbff1c6f",
   "metadata": {},
   "source": [
    "Let's try a bunch of scenarios. As we can see, this is a small example, however for large text sizes, incorporating small clean up steps will still help in reducing the number of tokens.\n",
    "Something trivial like removing the last period also helps in decreasing token size."
   ]
  },
  {
   "cell_type": "code",
   "execution_count": 20,
   "id": "55876ae1",
   "metadata": {},
   "outputs": [],
   "source": [
    "base_str = 'This is a string.'\n",
    "trail_str = ' This is a string. '\n",
    "double_str = 'This is  a string.'\n",
    "broken_str = '''This\n",
    "is a string.'''\n",
    "tab_str = '''This is a \n",
    "    string.'''\n",
    "noperiod_str = 'This is a string'"
   ]
  },
  {
   "cell_type": "code",
   "execution_count": 22,
   "id": "5f32306e",
   "metadata": {},
   "outputs": [
    {
     "name": "stdout",
     "output_type": "stream",
     "text": [
      "This is a string.\n",
      "Token size=5\n",
      " This is a string. \n",
      "Token size=6\n",
      "This is  a string.\n",
      "Token size=6\n",
      "This\n",
      "is a string.\n",
      "Token size=6\n",
      "This is a \n",
      "    string.\n",
      "Token size=7\n",
      "This is a string\n",
      "Token size=4\n"
     ]
    }
   ],
   "source": [
    "for text in [base_str,trail_str,double_str,broken_str,tab_str,noperiod_str]:\n",
    "    \n",
    "    size = len(encoding.encode(text))\n",
    "    print(text)\n",
    "    print(f'Token size={size}')"
   ]
  },
  {
   "cell_type": "code",
   "execution_count": 24,
   "id": "3c4fb653",
   "metadata": {},
   "outputs": [],
   "source": [
    "a = 'This is a line. This is a second line.'\n",
    "\n",
    "b = 'This is a line.This is a second line.'"
   ]
  },
  {
   "cell_type": "markdown",
   "id": "7e76601c",
   "metadata": {},
   "source": [
    "**Test an example abstract.**"
   ]
  },
  {
   "cell_type": "code",
   "execution_count": 50,
   "id": "e441a6b8",
   "metadata": {},
   "outputs": [],
   "source": [
    "abstract = '[BACKGROUND]AKT pathway activation is implicated in endocrine-therapy resistance. Data on the efficacy and safety of the AKT inhibitor capivasertib, as an addition to fulvestrant therapy, in patients with hormone receptor-positive advanced breast cancer are limited.[METHODS]In a phase 3, randomized, double-blind trial, we enrolled eligible pre-, peri-, and postmenopausal women and men with hormone receptor-positive, human epidermal growth factor receptor 2-negative advanced breast cancer who had had a relapse or disease progression during or after treatment with an aromatase inhibitor, with or without previous cyclin-dependent kinase 4 and 6 (CDK4/6) inhibitor therapy. Patients were randomly assigned in a 1:1 ratio to receive capivasertib plus fulvestrant or placebo plus fulvestrant. The dual primary end point was investigator-assessed progression-free survival assessed both in the overall population and among patients with AKT pathway-altered ([RESULTS]Overall, 708 patients underwent randomization; 289 patients (40.8%) had AKT pathway alterations, and 489 (69.1%) had received a CDK4/6 inhibitor previously for advanced breast cancer. In the overall population, the median progression-free survival was 7.2 months in the capivasertib-fulvestrant group, as compared with 3.6 months in the placebo-fulvestrant group (hazard ratio for progression or death, 0.60; 95% confidence interval [CI], 0.51 to 0.71; P<0.001). In the AKT pathway-altered population, the median progression-free survival was 7.3 months in the capivasertib-fulvestrant group, as compared with 3.1 months in the placebo-fulvestrant group (hazard ratio, 0.50; 95% CI, 0.38 to 0.65; P<0.001). The most frequent adverse events of grade 3 or higher in patients receiving capivasertib-fulvestrant were rash (in 12.1% of patients, vs. in 0.3% of those receiving placebo-fulvestrant) and diarrhea (in 9.3% vs. 0.3%). Adverse events leading to discontinuation were reported in 13.0% of the patients receiving capivasertib and in 2.3% of those receiving placebo.[CONCLUSIONS]Capivasertib-fulvestrant therapy resulted in significantly longer progression-free survival than treatment with fulvestrant alone among patients with hormone receptor-positive advanced breast cancer whose disease had progressed during or after previous aromatase inhibitor therapy with or without a CDK4/6 inhibitor. (Funded by AstraZeneca and the National Cancer Institute; CAPItello-291 ClinicalTrials.gov number, NCT04305496.).'\n"
   ]
  },
  {
   "cell_type": "code",
   "execution_count": 51,
   "id": "60c6b467",
   "metadata": {},
   "outputs": [
    {
     "data": {
      "text/plain": [
       "603"
      ]
     },
     "execution_count": 51,
     "metadata": {},
     "output_type": "execute_result"
    }
   ],
   "source": [
    "len(encoding.encode(abstract))"
   ]
  },
  {
   "cell_type": "code",
   "execution_count": 52,
   "id": "30d6f564",
   "metadata": {},
   "outputs": [
    {
     "data": {
      "text/plain": [
       "2480"
      ]
     },
     "execution_count": 52,
     "metadata": {},
     "output_type": "execute_result"
    }
   ],
   "source": [
    "len(abstract)"
   ]
  },
  {
   "cell_type": "markdown",
   "id": "240cfaad",
   "metadata": {},
   "source": [
    "# Langchain trial"
   ]
  },
  {
   "cell_type": "code",
   "execution_count": 7,
   "id": "e6292243",
   "metadata": {},
   "outputs": [],
   "source": [
    "from langchain_openai import ChatOpenAI\n",
    "from langchain_core.output_parsers import StrOutputParser\n",
    "from langchain_core.prompts import ChatPromptTemplate"
   ]
  },
  {
   "cell_type": "code",
   "execution_count": 5,
   "id": "3b784848",
   "metadata": {},
   "outputs": [],
   "source": [
    "# Load the API key\n",
    "load_dotenv(dotenv_path=openai_key_path)\n",
    "\n",
    "# Access the key\n",
    "openai_api_key = os.environ['OPENAI_API_KEY']"
   ]
  },
  {
   "cell_type": "code",
   "execution_count": 21,
   "id": "5472d2e6",
   "metadata": {},
   "outputs": [],
   "source": [
    "model = ChatOpenAI(model=\"gpt-4-turbo-preview\",\n",
    "                   openai_api_key=openai_api_key)"
   ]
  },
  {
   "cell_type": "code",
   "execution_count": 22,
   "id": "3ba53da7",
   "metadata": {},
   "outputs": [],
   "source": [
    "messages = [('system','You are working on named entity recognition from biomedical text. Only consider the text given to you.'),\n",
    "            ('user',\"\"\"Identify drug names from the following text delimited by ID.Only list the names. \n",
    "            {task}\"\"\")]"
   ]
  },
  {
   "cell_type": "code",
   "execution_count": 23,
   "id": "d30ee3fc",
   "metadata": {},
   "outputs": [],
   "source": [
    "prompt = ChatPromptTemplate.from_messages(messages)"
   ]
  },
  {
   "cell_type": "code",
   "execution_count": 24,
   "id": "f88dabdb",
   "metadata": {},
   "outputs": [],
   "source": [
    "output_parser = StrOutputParser()"
   ]
  },
  {
   "cell_type": "code",
   "execution_count": 25,
   "id": "9a7c81a7",
   "metadata": {},
   "outputs": [],
   "source": [
    "chain = prompt | model | output_parser"
   ]
  },
  {
   "cell_type": "code",
   "execution_count": 26,
   "id": "b0b116fe",
   "metadata": {},
   "outputs": [],
   "source": [
    "drug_name = chain.invoke({'task':\"\"\"IDXYZ: Sorafenib has been recently used to treat many lung cancers. It is a KRAS inhibitor.\"\"\"})"
   ]
  },
  {
   "cell_type": "code",
   "execution_count": 27,
   "id": "be91262a",
   "metadata": {},
   "outputs": [
    {
     "data": {
      "text/plain": [
       "'Sorafenib'"
      ]
     },
     "execution_count": 27,
     "metadata": {},
     "output_type": "execute_result"
    }
   ],
   "source": [
    "drug_name"
   ]
  },
  {
   "cell_type": "markdown",
   "id": "61fafab3",
   "metadata": {},
   "source": [
    "**Try a chained pipeline for a paper.**"
   ]
  },
  {
   "cell_type": "code",
   "execution_count": 37,
   "id": "8213ae0d",
   "metadata": {},
   "outputs": [],
   "source": [
    "abstract = \"\"\"BRAF V600 mutations occur in various nonmelanoma cancers. We undertook a histology-independent phase 2 \"basket\" study of vemurafenib in BRAF V600 mutation-positive nonmelanoma cancers. Methods: We enrolled patients in six prespecified cancer cohorts; patients with all other tumor types were enrolled in a seventh cohort. A total of 122 patients with BRAF V600 mutation-positive cancer were treated, including 27 patients with colorectal cancer who received vemurafenib and cetuximab. The primary end point was the response rate; secondary end points included progression-free and overall survival. Results: In the cohort with non-small-cell lung cancer, the response rate was 42% (95% confidence interval [CI], 20 to 67) and median progression-free survival was 7.3 months (95% CI, 3.5 to 10.8). In the cohort with Erdheim-Chester disease or Langerhans'-cell histiocytosis, the response rate was 43% (95% CI, 18 to 71); the median treatment duration was 5.9 months (range, 0.6 to 18.6), and no patients had disease progression during therapy. There were anecdotal responses among patients with pleomorphic xanthoastrocytoma, anaplastic thyroid cancer, cholangiocarcinoma, salivary-duct cancer, ovarian cancer, and clear-cell sarcoma and among patients with colorectal cancer who received vemurafenib and cetuximab. Safety was similar to that in prior studies of vemurafenib for melanoma. Conclusions: BRAF V600 appears to be a targetable oncogene in some, but not all, nonmelanoma cancers. Preliminary vemurafenib activity was observed in non-small-cell lung cancer and in Erdheim-Chester disease and Langerhans'-cell histiocytosis. The histologic context is an important determinant of response in BRAF V600-mutated cancers. (Funded by F. Hoffmann-La Roche/Genentech; ClinicalTrials.gov number, NCT01524978.).\"\"\""
   ]
  },
  {
   "cell_type": "code",
   "execution_count": 29,
   "id": "d470dbe8",
   "metadata": {},
   "outputs": [],
   "source": [
    "from langchain_core.output_parsers import JsonOutputParser"
   ]
  },
  {
   "cell_type": "code",
   "execution_count": 51,
   "id": "8536136b",
   "metadata": {},
   "outputs": [],
   "source": [
    "messages = [('system','You are working on named entity recognition from biomedical text. Only consider the text given to you.'),\n",
    "            ('user','Look at the given text delimited by PMID and identify drug names in a JSON output.The output should be a dictionary with keys as drug names: {task}')]\n"
   ]
  },
  {
   "cell_type": "code",
   "execution_count": 52,
   "id": "142dc2c7",
   "metadata": {},
   "outputs": [],
   "source": [
    "prompt = ChatPromptTemplate.from_messages(messages)\n",
    "output_parser = JsonOutputParser()"
   ]
  },
  {
   "cell_type": "code",
   "execution_count": 53,
   "id": "6bebb5d2",
   "metadata": {},
   "outputs": [],
   "source": [
    "chain = prompt | model | output_parser"
   ]
  },
  {
   "cell_type": "code",
   "execution_count": 55,
   "id": "fd7f9c8f",
   "metadata": {},
   "outputs": [],
   "source": [
    "drugs = chain.invoke({'task':abstract})"
   ]
  },
  {
   "cell_type": "markdown",
   "id": "0300b83e",
   "metadata": {},
   "source": [
    "**Try chaining outputs on a simple sentence.**"
   ]
  },
  {
   "cell_type": "code",
   "execution_count": 65,
   "id": "2b3239da",
   "metadata": {},
   "outputs": [],
   "source": [
    "sentence = 'The blue cat jumped over the red fence. The fence was surrounding a white house that had black windows.'"
   ]
  },
  {
   "cell_type": "code",
   "execution_count": 116,
   "id": "4ebe5c94",
   "metadata": {},
   "outputs": [],
   "source": [
    "questions = ['What are the colors in this text {sentence}?',\n",
    "             'Take this {ans0} and for each color identify which entities are of that color (objects) based on the text {sentence}',\n",
    "             'Take this {ans1} and for each color add which word preceeds each color based on the text {sentence}.']\n"
   ]
  },
  {
   "cell_type": "code",
   "execution_count": 117,
   "id": "fa22e73a",
   "metadata": {},
   "outputs": [],
   "source": [
    "message_0 = [('system','You are working on entity recognition. Only consider the text and the question given to you and generate JSON.'),\n",
    "            ('user',questions[0])]\n",
    "message_1 = [('system','You are working on entity recognition. Only consider the text given to you and generate JSON..'),\n",
    "            ('user',questions[1])]\n",
    "message_2 = [('system','You are working on entity recognition. Only consider the text given to you and generate JSON..'),\n",
    "            ('user',questions[2])]"
   ]
  },
  {
   "cell_type": "code",
   "execution_count": 118,
   "id": "66782895",
   "metadata": {},
   "outputs": [],
   "source": [
    "prompt_0 = ChatPromptTemplate.from_messages(message_0)\n",
    "prompt_1 = ChatPromptTemplate.from_messages(message_1)\n",
    "prompt_2 = ChatPromptTemplate.from_messages(message_2)"
   ]
  },
  {
   "cell_type": "code",
   "execution_count": 119,
   "id": "19fd1ca9",
   "metadata": {},
   "outputs": [
    {
     "data": {
      "text/plain": [
       "{'colors': ['blue', 'red', 'white', 'black']}"
      ]
     },
     "execution_count": 119,
     "metadata": {},
     "output_type": "execute_result"
    }
   ],
   "source": [
    "chain = prompt_0 | model | output_parser\n",
    "ans0 = chain.invoke({'sentence':sentence})\n",
    "ans0"
   ]
  },
  {
   "cell_type": "code",
   "execution_count": 120,
   "id": "add39876",
   "metadata": {},
   "outputs": [
    {
     "data": {
      "text/plain": [
       "{'colors': {'blue': ['cat'],\n",
       "  'red': ['fence'],\n",
       "  'white': ['house'],\n",
       "  'black': ['windows']}}"
      ]
     },
     "execution_count": 120,
     "metadata": {},
     "output_type": "execute_result"
    }
   ],
   "source": [
    "chain = prompt_1 | model | output_parser\n",
    "ans1 = chain.invoke({'sentence':sentence,'ans0':ans0})\n",
    "ans1"
   ]
  },
  {
   "cell_type": "code",
   "execution_count": 121,
   "id": "4fb59614",
   "metadata": {},
   "outputs": [],
   "source": [
    "chain = prompt_2 | model | output_parser\n",
    "ans2 = chain.invoke({'sentence':sentence,'ans0':ans0,'ans1':ans1})"
   ]
  },
  {
   "cell_type": "code",
   "execution_count": 122,
   "id": "dbf02368",
   "metadata": {},
   "outputs": [
    {
     "data": {
      "text/plain": [
       "{'colors': {'blue': {'preceding_word': 'the', 'examples': ['cat']},\n",
       "  'red': {'preceding_word': 'the', 'examples': ['fence']},\n",
       "  'white': {'preceding_word': 'a', 'examples': ['house']},\n",
       "  'black': {'preceding_word': 'had', 'examples': ['windows']}}}"
      ]
     },
     "execution_count": 122,
     "metadata": {},
     "output_type": "execute_result"
    }
   ],
   "source": [
    "ans2"
   ]
  },
  {
   "cell_type": "markdown",
   "id": "00c2dc49",
   "metadata": {},
   "source": [
    "**Check drug overlap with drugbank and TTD.**"
   ]
  },
  {
   "cell_type": "code",
   "execution_count": 147,
   "id": "0dd9bf9d",
   "metadata": {},
   "outputs": [],
   "source": [
    "messages = [('system','Strictly generate JSON output.'),('user','Does the drug {drug_name} exist in Drugbank online?')]"
   ]
  },
  {
   "cell_type": "code",
   "execution_count": 148,
   "id": "40423756",
   "metadata": {},
   "outputs": [],
   "source": [
    "prompt = ChatPromptTemplate.from_messages(messages)"
   ]
  },
  {
   "cell_type": "code",
   "execution_count": 149,
   "id": "46de5ebf",
   "metadata": {},
   "outputs": [],
   "source": [
    "chain = prompt | model | output_parser"
   ]
  },
  {
   "cell_type": "code",
   "execution_count": 150,
   "id": "938488cc",
   "metadata": {},
   "outputs": [
    {
     "data": {
      "text/plain": [
       "{'exists_in_DrugBank': True,\n",
       " 'DrugBank_ID': 'DB00072',\n",
       " 'name': 'Trastuzumab',\n",
       " 'common_brand_names': ['Herceptin']}"
      ]
     },
     "execution_count": 150,
     "metadata": {},
     "output_type": "execute_result"
    }
   ],
   "source": [
    "chain.invoke({'drug_name':'herceptin'})"
   ]
  },
  {
   "cell_type": "code",
   "execution_count": 151,
   "id": "2f59ce15",
   "metadata": {},
   "outputs": [],
   "source": [
    "messages = [('system','Strictly generate JSON output.'),('user','Does the drug {drug_name} exist in Therapeutic Targets Database online?')]"
   ]
  },
  {
   "cell_type": "code",
   "execution_count": 152,
   "id": "770f96cc",
   "metadata": {},
   "outputs": [],
   "source": [
    "prompt = ChatPromptTemplate.from_messages(messages)"
   ]
  },
  {
   "cell_type": "code",
   "execution_count": 153,
   "id": "1c8329cd",
   "metadata": {},
   "outputs": [],
   "source": [
    "chain = prompt | model | output_parser"
   ]
  },
  {
   "cell_type": "code",
   "execution_count": 154,
   "id": "7f8e711d",
   "metadata": {},
   "outputs": [
    {
     "data": {
      "text/plain": [
       "{'exists_in_TTD': True,\n",
       " 'TTD_ID': 'DAP000633',\n",
       " 'drug_name': 'Herceptin',\n",
       " 'active_ingredient': 'Trastuzumab'}"
      ]
     },
     "execution_count": 154,
     "metadata": {},
     "output_type": "execute_result"
    }
   ],
   "source": [
    "chain.invoke({'drug_name':'herceptin'})"
   ]
  },
  {
   "cell_type": "markdown",
   "id": "0bba8dec",
   "metadata": {},
   "source": [
    "**Conduct checks in Drugbank and TTD in parallel using RunnableParallel.**"
   ]
  },
  {
   "cell_type": "code",
   "execution_count": 157,
   "id": "9ee0e193",
   "metadata": {},
   "outputs": [],
   "source": [
    "from langchain_core.runnables import RunnableParallel"
   ]
  },
  {
   "cell_type": "code",
   "execution_count": 169,
   "id": "d1c9dfb6",
   "metadata": {},
   "outputs": [],
   "source": [
    "db_messages = [('system','Strictly generate JSON output and include database IDs.'),('user','Does the drug {drug_name} exist in Drugbank online?')]\n",
    "db_prompt = ChatPromptTemplate.from_messages(db_messages)\n",
    "drugbank_chain = db_prompt | model | output_parser"
   ]
  },
  {
   "cell_type": "code",
   "execution_count": 170,
   "id": "5f23b5d0",
   "metadata": {},
   "outputs": [],
   "source": [
    "ttd_messages = [('system','Strictly generate JSON output and include database IDs.'),('user','Does the drug {drug_name} exist in Therapeutic Targets Database online?')]\n",
    "ttd_prompt = ChatPromptTemplate.from_messages(ttd_messages)\n",
    "ttd_chain = ttd_prompt | model | output_parser"
   ]
  },
  {
   "cell_type": "code",
   "execution_count": 171,
   "id": "a6edcb90",
   "metadata": {},
   "outputs": [],
   "source": [
    "map_chain = RunnableParallel(db=drugbank_chain, ttd=ttd_chain)"
   ]
  },
  {
   "cell_type": "code",
   "execution_count": 172,
   "id": "69cb4741",
   "metadata": {},
   "outputs": [
    {
     "data": {
      "text/plain": [
       "{'db': {'exists_in_drugbank': True,\n",
       "  'drugbank_id': 'DB00072',\n",
       "  'name': 'Herceptin',\n",
       "  'generic_name': 'Trastuzumab'},\n",
       " 'ttd': {'exists': True,\n",
       "  'database_id': None,\n",
       "  'name': 'Herceptin',\n",
       "  'alternative_names': ['Trastuzumab'],\n",
       "  'database': 'Therapeutic Targets Database',\n",
       "  'url': 'https://db.idrblab.net/ttd/',\n",
       "  'note': 'The database ID for specific drugs can change and may need to be directly queried from the database for the most accurate and up-to-date reference.'}}"
      ]
     },
     "execution_count": 172,
     "metadata": {},
     "output_type": "execute_result"
    }
   ],
   "source": [
    "map_chain.invoke({\"drug_name\": \"herceptin\"})\n"
   ]
  },
  {
   "cell_type": "code",
   "execution_count": 173,
   "id": "4675e7a2",
   "metadata": {},
   "outputs": [
    {
     "data": {
      "text/plain": [
       "{'db': {'exists': False,\n",
       "  'message': \"As of the current knowledge, there is no drug with the identifier 'S62' listed in the DrugBank database.\"},\n",
       " 'ttd': {'exists': False,\n",
       "  'error': \"Unable to verify the existence of drug 'S62' in the Therapeutic Targets Database without current access.\"}}"
      ]
     },
     "execution_count": 173,
     "metadata": {},
     "output_type": "execute_result"
    }
   ],
   "source": [
    "map_chain.invoke({'drug_name':'S62'})"
   ]
  },
  {
   "cell_type": "code",
   "execution_count": 174,
   "id": "d7ea9a8c",
   "metadata": {},
   "outputs": [
    {
     "data": {
      "text/plain": [
       "{'db': {'exists': True,\n",
       "  'drugbank_id': 'DB00398',\n",
       "  'name': 'Sorafenib',\n",
       "  'status': 'confirmed'},\n",
       " 'ttd': {'exists': True,\n",
       "  'database_ID': 'TTD Drug ID: D0R8SO',\n",
       "  'name': 'Sorafenib',\n",
       "  'source': 'Therapeutic Targets Database'}}"
      ]
     },
     "execution_count": 174,
     "metadata": {},
     "output_type": "execute_result"
    }
   ],
   "source": [
    "map_chain.invoke({'drug_name':'sorafenib'})"
   ]
  },
  {
   "cell_type": "code",
   "execution_count": null,
   "id": "055fab20",
   "metadata": {},
   "outputs": [],
   "source": []
  }
 ],
 "metadata": {
  "kernelspec": {
   "display_name": "Python 3 (ipykernel)",
   "language": "python",
   "name": "python3"
  },
  "language_info": {
   "codemirror_mode": {
    "name": "ipython",
    "version": 3
   },
   "file_extension": ".py",
   "mimetype": "text/x-python",
   "name": "python",
   "nbconvert_exporter": "python",
   "pygments_lexer": "ipython3",
   "version": "3.9.12"
  }
 },
 "nbformat": 4,
 "nbformat_minor": 5
}
