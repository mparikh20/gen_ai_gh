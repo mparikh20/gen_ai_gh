{
 "cells": [
  {
   "cell_type": "markdown",
   "id": "b5daa8ff",
   "metadata": {},
   "source": [
    "# Table of contents"
   ]
  },
  {
   "cell_type": "markdown",
   "id": "120e7ba0",
   "metadata": {},
   "source": [
    "* [Overview](#overview)"
   ]
  },
  {
   "cell_type": "markdown",
   "id": "ef36821e",
   "metadata": {},
   "source": [
    "# Overview<a id=\"overview\"></a>"
   ]
  },
  {
   "cell_type": "markdown",
   "id": "fb16e96b",
   "metadata": {},
   "source": [
    "Fine tune a GPT 3.5 model for improved performance on named entity recognition tasks on pubmed abstracts."
   ]
  },
  {
   "cell_type": "markdown",
   "id": "04cdf122",
   "metadata": {},
   "source": [
    "# Imports"
   ]
  },
  {
   "cell_type": "code",
   "execution_count": 1,
   "id": "62acc919",
   "metadata": {},
   "outputs": [],
   "source": [
    "%load_ext autoreload\n",
    "%autoreload 2"
   ]
  },
  {
   "cell_type": "code",
   "execution_count": 162,
   "id": "f09a467f",
   "metadata": {},
   "outputs": [],
   "source": [
    "import json\n",
    "import numpy as np\n",
    "import pandas as pd\n",
    "from matplotlib import pyplot as plt\n",
    "from pathlib import Path\n",
    "import seaborn as sns\n",
    "import sys"
   ]
  },
  {
   "cell_type": "markdown",
   "id": "922f34ae",
   "metadata": {},
   "source": [
    "**Import the openai module.**"
   ]
  },
  {
   "cell_type": "code",
   "execution_count": 5,
   "id": "2c2357cb",
   "metadata": {},
   "outputs": [],
   "source": [
    "import openai_api"
   ]
  },
  {
   "cell_type": "markdown",
   "id": "05c1fba2",
   "metadata": {},
   "source": [
    "**Import the module containing utils functions eg. writing data from df to Google Sheets.**"
   ]
  },
  {
   "cell_type": "code",
   "execution_count": 6,
   "id": "e0393d8f",
   "metadata": {},
   "outputs": [],
   "source": [
    "import utils"
   ]
  },
  {
   "cell_type": "markdown",
   "id": "8992c9f8",
   "metadata": {},
   "source": [
    "**Import the finetuning module.**"
   ]
  },
  {
   "cell_type": "code",
   "execution_count": 7,
   "id": "1a20384e",
   "metadata": {},
   "outputs": [],
   "source": [
    "import openai_finetuning"
   ]
  },
  {
   "cell_type": "markdown",
   "id": "9d630b14",
   "metadata": {},
   "source": [
    "**Import the evaluation module.**"
   ]
  },
  {
   "cell_type": "code",
   "execution_count": 115,
   "id": "b4ff844e",
   "metadata": {},
   "outputs": [],
   "source": [
    "import ner_evaluation"
   ]
  },
  {
   "cell_type": "markdown",
   "id": "a6620075",
   "metadata": {},
   "source": [
    "# Paths"
   ]
  },
  {
   "cell_type": "code",
   "execution_count": 3,
   "id": "4272e56f",
   "metadata": {},
   "outputs": [],
   "source": [
    "cwd = Path.cwd()"
   ]
  },
  {
   "cell_type": "code",
   "execution_count": 4,
   "id": "79ce489f",
   "metadata": {},
   "outputs": [],
   "source": [
    "module_dir = cwd.parent / 'scripts'\n",
    "sys.path.append(str(module_dir))"
   ]
  },
  {
   "cell_type": "markdown",
   "id": "4831afdd",
   "metadata": {},
   "source": [
    "### Path to CSV containing literature from 87 papers from PubMed"
   ]
  },
  {
   "cell_type": "code",
   "execution_count": 10,
   "id": "75826d4a",
   "metadata": {},
   "outputs": [],
   "source": [
    "pubmed_path = cwd.parent/'outputs'/ 'pubmed_data_run_1.csv'"
   ]
  },
  {
   "cell_type": "markdown",
   "id": "7692bb37",
   "metadata": {},
   "source": [
    "### Prompt language - system and user instructions for generating starting training data"
   ]
  },
  {
   "cell_type": "code",
   "execution_count": 11,
   "id": "8bbd120e",
   "metadata": {},
   "outputs": [],
   "source": [
    "system_path = cwd.parent / 'inputs'/'system_prompt_v1.json'\n",
    "user_path = cwd.parent /'inputs'/'user_prompt_v1.json'"
   ]
  },
  {
   "cell_type": "markdown",
   "id": "9d9daba7",
   "metadata": {},
   "source": [
    "### Completions for 87 pubmed abstracts processed for entity extraction via GPT-4"
   ]
  },
  {
   "cell_type": "code",
   "execution_count": 23,
   "id": "47f00e48",
   "metadata": {},
   "outputs": [],
   "source": [
    "completions_path = cwd.parent/'outputs'/'gpt4_completions_run_2.json'"
   ]
  },
  {
   "cell_type": "markdown",
   "id": "e191c1f9",
   "metadata": {},
   "source": [
    "### Results from completions extracted into a CSV"
   ]
  },
  {
   "cell_type": "code",
   "execution_count": 28,
   "id": "236126b7",
   "metadata": {},
   "outputs": [],
   "source": [
    "ner_path = cwd.parent/'outputs'/ 'pubmed_ner_gpt4_run_2.csv'"
   ]
  },
  {
   "cell_type": "markdown",
   "id": "792a3818",
   "metadata": {},
   "source": [
    "### Prompt language for finetuning"
   ]
  },
  {
   "cell_type": "markdown",
   "id": "01354155",
   "metadata": {},
   "source": [
    "**Option 1 - a shortened prompt.**"
   ]
  },
  {
   "cell_type": "code",
   "execution_count": 169,
   "id": "c3e2b7f5",
   "metadata": {},
   "outputs": [],
   "source": [
    "ft_user_path = cwd.parent /'inputs'/'user_prompt_v2.json'"
   ]
  },
  {
   "cell_type": "markdown",
   "id": "380f9144",
   "metadata": {},
   "source": [
    "**Option 2 - a longer prompt but this is the subset taken from the same prompt used for generating training data by GPT-4.**"
   ]
  },
  {
   "cell_type": "code",
   "execution_count": 12,
   "id": "6c18ed75",
   "metadata": {},
   "outputs": [],
   "source": [
    "ft_user_path_2 = cwd.parent /'inputs'/'user_prompt_v3.json'"
   ]
  },
  {
   "cell_type": "markdown",
   "id": "f77132c4",
   "metadata": {},
   "source": [
    "### Training data jsonl file"
   ]
  },
  {
   "cell_type": "code",
   "execution_count": 210,
   "id": "732db6da",
   "metadata": {},
   "outputs": [],
   "source": [
    "training_path = cwd.parent / 'inputs'/'training_finetuning_v1.jsonl'"
   ]
  },
  {
   "cell_type": "markdown",
   "id": "f17a7947",
   "metadata": {},
   "source": [
    "### Test data jsonl file"
   ]
  },
  {
   "cell_type": "code",
   "execution_count": 229,
   "id": "5b8b0856",
   "metadata": {},
   "outputs": [],
   "source": [
    "test_path = cwd.parent / 'inputs'/'test_finetuning_v1.jsonl'"
   ]
  },
  {
   "cell_type": "markdown",
   "id": "ee93782e",
   "metadata": {},
   "source": [
    "### Finetuning results (loss metrics) saved into a CSV along with hyperparameter info"
   ]
  },
  {
   "cell_type": "code",
   "execution_count": 8,
   "id": "36920e19",
   "metadata": {},
   "outputs": [],
   "source": [
    "ft_results_path = cwd.parent/'outputs'/'pubmed_ft1_model_loss_metrics.csv'"
   ]
  },
  {
   "cell_type": "markdown",
   "id": "22157745",
   "metadata": {},
   "source": [
    "### Completions for pubmed abstracts from the test set, inference by a finetuned GPT-3.5"
   ]
  },
  {
   "cell_type": "code",
   "execution_count": 60,
   "id": "6bbc6208",
   "metadata": {},
   "outputs": [],
   "source": [
    "ft_completions_path = cwd.parent/'outputs'/'gpt3_5_completions_run_3.json'"
   ]
  },
  {
   "cell_type": "markdown",
   "id": "5881e1b8",
   "metadata": {},
   "source": [
    "### Results from completions from the finetuned model extracted into a CSV"
   ]
  },
  {
   "cell_type": "code",
   "execution_count": 8,
   "id": "2d020b4f",
   "metadata": {},
   "outputs": [],
   "source": [
    "ft_ner_path = cwd.parent/'outputs'/ 'pubmed_ner_gpt3_5_run_3.csv'"
   ]
  },
  {
   "cell_type": "markdown",
   "id": "c1c86d50",
   "metadata": {},
   "source": [
    "# Step 1 - PubMed abstracts extracted using the NCBI PubMed API"
   ]
  },
  {
   "cell_type": "markdown",
   "id": "fc8a2573",
   "metadata": {},
   "source": [
    "This data is ready and was performed in the ner_pubmed_llm notebook. This is how the extracted data looks:\n",
    "\n",
    "1. Total 87 papers pertaining to 3 cancer types glioblastoma, lung cancer, and breast cancer.\n",
    "2. Full papers have not been extracted - only the metadata such as title, abstract, keywords, etc."
   ]
  },
  {
   "cell_type": "code",
   "execution_count": 6,
   "id": "ad4306e9",
   "metadata": {},
   "outputs": [],
   "source": [
    "pubmed_df = pd.read_csv(pubmed_path,dtype={'pmid':'str'})"
   ]
  },
  {
   "cell_type": "code",
   "execution_count": 8,
   "id": "9776acd3",
   "metadata": {},
   "outputs": [
    {
     "data": {
      "text/html": [
       "<div>\n",
       "<style scoped>\n",
       "    .dataframe tbody tr th:only-of-type {\n",
       "        vertical-align: middle;\n",
       "    }\n",
       "\n",
       "    .dataframe tbody tr th {\n",
       "        vertical-align: top;\n",
       "    }\n",
       "\n",
       "    .dataframe thead th {\n",
       "        text-align: right;\n",
       "    }\n",
       "</style>\n",
       "<table border=\"1\" class=\"dataframe\">\n",
       "  <thead>\n",
       "    <tr style=\"text-align: right;\">\n",
       "      <th></th>\n",
       "      <th>pmid</th>\n",
       "      <th>publication_date</th>\n",
       "      <th>publication_type</th>\n",
       "      <th>article_title</th>\n",
       "      <th>abstract</th>\n",
       "      <th>keywords</th>\n",
       "      <th>journal</th>\n",
       "      <th>num_abstracts_retrieved</th>\n",
       "      <th>num_abstracts_requested</th>\n",
       "      <th>query_string</th>\n",
       "      <th>num_total_matches</th>\n",
       "      <th>all_matching_pmids</th>\n",
       "      <th>acquisition_date</th>\n",
       "      <th>disease</th>\n",
       "    </tr>\n",
       "  </thead>\n",
       "  <tbody>\n",
       "    <tr>\n",
       "      <th>0</th>\n",
       "      <td>37256976</td>\n",
       "      <td>2023 Jun 01</td>\n",
       "      <td>Clinical Trial, Phase III|Journal Article|Rand...</td>\n",
       "      <td>Capivasertib in Hormone Receptor-Positive Adva...</td>\n",
       "      <td>[BACKGROUND]AKT pathway activation is implicat...</td>\n",
       "      <td>NaN</td>\n",
       "      <td>The New England journal of medicine</td>\n",
       "      <td>30</td>\n",
       "      <td>30</td>\n",
       "      <td>(2023/01/01:3000/12/31[Date - Publication] AND...</td>\n",
       "      <td>9701</td>\n",
       "      <td>37256976,37070653,37147285,37723305,36585452,3...</td>\n",
       "      <td>2024-03-21</td>\n",
       "      <td>breast+cancer</td>\n",
       "    </tr>\n",
       "    <tr>\n",
       "      <th>1</th>\n",
       "      <td>37070653</td>\n",
       "      <td>2023 Mar</td>\n",
       "      <td>Clinical Trial Protocol|Journal Article</td>\n",
       "      <td>Design of SERENA-6, a phase III switching tria...</td>\n",
       "      <td>ESR1 mutation (ESR1m) is a frequent cause of a...</td>\n",
       "      <td>ESR1 mutation|advanced breast cancer|camizestr...</td>\n",
       "      <td>Future oncology (London, England)</td>\n",
       "      <td>30</td>\n",
       "      <td>30</td>\n",
       "      <td>(2023/01/01:3000/12/31[Date - Publication] AND...</td>\n",
       "      <td>9701</td>\n",
       "      <td>37256976,37070653,37147285,37723305,36585452,3...</td>\n",
       "      <td>2024-03-21</td>\n",
       "      <td>breast+cancer</td>\n",
       "    </tr>\n",
       "    <tr>\n",
       "      <th>2</th>\n",
       "      <td>37147285</td>\n",
       "      <td>2023 May 05</td>\n",
       "      <td>Journal Article|Research Support, Non-U.S. Gov't</td>\n",
       "      <td>KK-LC-1 as a therapeutic target to eliminate ALDH</td>\n",
       "      <td>Failure to achieve complete elimination of tri...</td>\n",
       "      <td>NaN</td>\n",
       "      <td>Nature communications</td>\n",
       "      <td>30</td>\n",
       "      <td>30</td>\n",
       "      <td>(2023/01/01:3000/12/31[Date - Publication] AND...</td>\n",
       "      <td>9701</td>\n",
       "      <td>37256976,37070653,37147285,37723305,36585452,3...</td>\n",
       "      <td>2024-03-21</td>\n",
       "      <td>breast+cancer</td>\n",
       "    </tr>\n",
       "    <tr>\n",
       "      <th>3</th>\n",
       "      <td>37723305</td>\n",
       "      <td>2023 Oct</td>\n",
       "      <td>Journal Article</td>\n",
       "      <td>Acetate acts as a metabolic immunomodulator by...</td>\n",
       "      <td>Acetate metabolism is an important metabolic p...</td>\n",
       "      <td>NaN</td>\n",
       "      <td>Nature cancerMain References:Methods Only Refe...</td>\n",
       "      <td>30</td>\n",
       "      <td>30</td>\n",
       "      <td>(2023/01/01:3000/12/31[Date - Publication] AND...</td>\n",
       "      <td>9701</td>\n",
       "      <td>37256976,37070653,37147285,37723305,36585452,3...</td>\n",
       "      <td>2024-03-21</td>\n",
       "      <td>breast+cancer</td>\n",
       "    </tr>\n",
       "    <tr>\n",
       "      <th>4</th>\n",
       "      <td>36585452</td>\n",
       "      <td>2023 Feb</td>\n",
       "      <td>Journal Article|Research Support, Non-U.S. Gov...</td>\n",
       "      <td>Network-based assessment of HDAC6 activity pre...</td>\n",
       "      <td>Inhibiting individual histone deacetylase (HDA...</td>\n",
       "      <td>NaN</td>\n",
       "      <td>Nature cancerMETHODS-ONLY REFERENCES</td>\n",
       "      <td>30</td>\n",
       "      <td>30</td>\n",
       "      <td>(2023/01/01:3000/12/31[Date - Publication] AND...</td>\n",
       "      <td>9701</td>\n",
       "      <td>37256976,37070653,37147285,37723305,36585452,3...</td>\n",
       "      <td>2024-03-21</td>\n",
       "      <td>breast+cancer</td>\n",
       "    </tr>\n",
       "  </tbody>\n",
       "</table>\n",
       "</div>"
      ],
      "text/plain": [
       "       pmid publication_date   \n",
       "0  37256976      2023 Jun 01  \\\n",
       "1  37070653         2023 Mar   \n",
       "2  37147285      2023 May 05   \n",
       "3  37723305         2023 Oct   \n",
       "4  36585452         2023 Feb   \n",
       "\n",
       "                                    publication_type   \n",
       "0  Clinical Trial, Phase III|Journal Article|Rand...  \\\n",
       "1            Clinical Trial Protocol|Journal Article   \n",
       "2   Journal Article|Research Support, Non-U.S. Gov't   \n",
       "3                                    Journal Article   \n",
       "4  Journal Article|Research Support, Non-U.S. Gov...   \n",
       "\n",
       "                                       article_title   \n",
       "0  Capivasertib in Hormone Receptor-Positive Adva...  \\\n",
       "1  Design of SERENA-6, a phase III switching tria...   \n",
       "2  KK-LC-1 as a therapeutic target to eliminate ALDH   \n",
       "3  Acetate acts as a metabolic immunomodulator by...   \n",
       "4  Network-based assessment of HDAC6 activity pre...   \n",
       "\n",
       "                                            abstract   \n",
       "0  [BACKGROUND]AKT pathway activation is implicat...  \\\n",
       "1  ESR1 mutation (ESR1m) is a frequent cause of a...   \n",
       "2  Failure to achieve complete elimination of tri...   \n",
       "3  Acetate metabolism is an important metabolic p...   \n",
       "4  Inhibiting individual histone deacetylase (HDA...   \n",
       "\n",
       "                                            keywords   \n",
       "0                                                NaN  \\\n",
       "1  ESR1 mutation|advanced breast cancer|camizestr...   \n",
       "2                                                NaN   \n",
       "3                                                NaN   \n",
       "4                                                NaN   \n",
       "\n",
       "                                             journal  num_abstracts_retrieved   \n",
       "0                The New England journal of medicine                       30  \\\n",
       "1                  Future oncology (London, England)                       30   \n",
       "2                              Nature communications                       30   \n",
       "3  Nature cancerMain References:Methods Only Refe...                       30   \n",
       "4               Nature cancerMETHODS-ONLY REFERENCES                       30   \n",
       "\n",
       "   num_abstracts_requested                                       query_string   \n",
       "0                       30  (2023/01/01:3000/12/31[Date - Publication] AND...  \\\n",
       "1                       30  (2023/01/01:3000/12/31[Date - Publication] AND...   \n",
       "2                       30  (2023/01/01:3000/12/31[Date - Publication] AND...   \n",
       "3                       30  (2023/01/01:3000/12/31[Date - Publication] AND...   \n",
       "4                       30  (2023/01/01:3000/12/31[Date - Publication] AND...   \n",
       "\n",
       "   num_total_matches                                 all_matching_pmids   \n",
       "0               9701  37256976,37070653,37147285,37723305,36585452,3...  \\\n",
       "1               9701  37256976,37070653,37147285,37723305,36585452,3...   \n",
       "2               9701  37256976,37070653,37147285,37723305,36585452,3...   \n",
       "3               9701  37256976,37070653,37147285,37723305,36585452,3...   \n",
       "4               9701  37256976,37070653,37147285,37723305,36585452,3...   \n",
       "\n",
       "  acquisition_date        disease  \n",
       "0       2024-03-21  breast+cancer  \n",
       "1       2024-03-21  breast+cancer  \n",
       "2       2024-03-21  breast+cancer  \n",
       "3       2024-03-21  breast+cancer  \n",
       "4       2024-03-21  breast+cancer  "
      ]
     },
     "execution_count": 8,
     "metadata": {},
     "output_type": "execute_result"
    }
   ],
   "source": [
    "pubmed_df.head()"
   ]
  },
  {
   "cell_type": "markdown",
   "id": "e04f75cd",
   "metadata": {},
   "source": [
    "# Use GPT-4 to create training data"
   ]
  },
  {
   "cell_type": "markdown",
   "id": "f0497cd0",
   "metadata": {},
   "source": [
    "## Base prompt files containing system and user messages/instructions"
   ]
  },
  {
   "cell_type": "markdown",
   "id": "e7ceded2",
   "metadata": {},
   "source": [
    "**Following system text and user instructions will be the basis of the prompt text going inside the messages list when calling the openai API. These are present in json files. The abstract text will have to be appended to the user text, beneath 'TASKS'.**"
   ]
  },
  {
   "cell_type": "code",
   "execution_count": 10,
   "id": "c00bf769",
   "metadata": {},
   "outputs": [],
   "source": [
    "with open(system_path,\"r\") as system_json:\n",
    "    system_prompt = json.load(system_json)"
   ]
  },
  {
   "cell_type": "code",
   "execution_count": 11,
   "id": "ace93cbb",
   "metadata": {},
   "outputs": [],
   "source": [
    "with open(user_path,\"r\") as user_json:\n",
    "    user_prompt = json.load(user_json)"
   ]
  },
  {
   "cell_type": "markdown",
   "id": "0d6fde93",
   "metadata": {},
   "source": [
    "**These are the messages for reference.**"
   ]
  },
  {
   "cell_type": "code",
   "execution_count": 12,
   "id": "d78335a7",
   "metadata": {},
   "outputs": [
    {
     "data": {
      "text/plain": [
       "{'role': 'system',\n",
       " 'content': 'You are a meticulous data scientist working on named entity recognition and building out a drug-target dataset from biomedical text. Only consider the text given to you.'}"
      ]
     },
     "execution_count": 12,
     "metadata": {},
     "output_type": "execute_result"
    }
   ],
   "source": [
    "system_prompt"
   ]
  },
  {
   "cell_type": "code",
   "execution_count": 17,
   "id": "0b726ff2",
   "metadata": {},
   "outputs": [
    {
     "name": "stdout",
     "output_type": "stream",
     "text": [
      "Look at the examples delimited by ### and the rules delimited by ***.\n",
      "*** RULES\n",
      "For each of the text shown under TASKS, do the following:\n",
      "1. Identify which drugs have been tested and create a set for each. \n",
      "2. Return multiple sets if more than drug is present in the text.\n",
      "For each drug:\n",
      "3. Get direct target: Use the following logic: if the text clearly and directly mentions that the drug targets a gene and has also defined the type of interaction\n",
      "4. Get interaction type between the drug and direct target: if explicitly and clearly mentioned, then get the drug-direct target relationship type. What does the drug do to the direct target? inhibitor, activator, etc.?\n",
      "5. Get groups tested: specify which type of genes was the drug tested on, eg. if drug was tested on samples showing high expression of certain gene.\n",
      "6. Collect all disease names for which the drug has been tested into 1 list.\n",
      "7. Extract any specific ClinicalTrials.gov identifier or number.\n",
      "8. For each drug, construct a set consisting of (drug name, direct target, drug-direct target interaction, tested or effective group, ClinicalTrials.gov number, all diseases that the drug is tested in)\n",
      "9. Any empty values should be indicated by null and not an empty string.\n",
      "10. Double check your logic and see if the data you have collected is actually reflected in the text. If not, make revisions.\n",
      "11. Both, direct target, and drug-direct target interaction fields should have been filled or both should be null. Only one of these fields cannot be null.\n",
      "12. Assemble all sets and produce 1 final JSON output in a single line without any whitespaces.\n",
      "***\n",
      "### EXAMPLES\n",
      "PMID23:LKB1/STK11 is a serine/threonine kinase that plays a major role in controlling cell metabolism, resulting in potential therapeutic vulnerabilities in LKB1-mutant cancers. Here, we identify the NAD + degrading ectoenzyme, CD38, as a new target in LKB1-mutant NSCLC. Metabolic profiling of genetically engineered mouse models (GEMMs) revealed that LKB1 mutant lung cancers have a striking increase in ADP-ribose, a breakdown product of the critical redox co-factor, NAD + . Surprisingly, compared with other genetic subsets, murine and human LKB1-mutant NSCLC show marked overexpression of the NAD+-catabolizing ectoenzyme, CD38 on the surface of tumor cells. Loss of LKB1 or inactivation of Salt-Inducible Kinases (SIKs)-key downstream effectors of LKB1- induces CD38 transcription induction via a CREB binding site in the CD38 promoter. Treatment with the FDA-approved anti-CD38 antibody, daratumumab, inhibited growth of LKB1-mutant NSCLC xenografts. Together, these results reveal CD38 as a promising therapeutic target in patients with LKB1 mutant lung cancer.\n",
      "Output:{\"PMID23\": [{\"drug name\": \"daratumumab\",\"target\": [{\"direct target\": \"CD38\",\"drug-direct target interaction\": \"anti-CD38 monoclonal antibody\"},],\"tested or effective group\": [\"LKB-1/STK-11 mutant NSCLC\"],\"drug tested in following diseases\": [\"lung cancer\", \"NSCLC\"],\"ClinicalTrials.gov ID\": []}]}\n",
      "###\n",
      "TASKS:\n",
      "Use the RULES and EXAMPLES and create a similar outputs for the following text delimited by ID:\n",
      "\n"
     ]
    }
   ],
   "source": [
    "print(user_prompt['content'])"
   ]
  },
  {
   "cell_type": "markdown",
   "id": "7b923238",
   "metadata": {},
   "source": [
    "## Run 87 papers through GPT-4 to extract entitites such as drug names, their targets, cancer types tested in"
   ]
  },
  {
   "cell_type": "markdown",
   "id": "cf203468",
   "metadata": {},
   "source": [
    "Only PMID and abstract text is passed through the LLM."
   ]
  },
  {
   "cell_type": "code",
   "execution_count": 20,
   "id": "4ef5720c",
   "metadata": {},
   "outputs": [],
   "source": [
    "pubmed_df2 = pubmed_df[['pmid','abstract']].copy()"
   ]
  },
  {
   "cell_type": "code",
   "execution_count": 21,
   "id": "399c90a7",
   "metadata": {},
   "outputs": [
    {
     "data": {
      "text/plain": [
       "87"
      ]
     },
     "execution_count": 21,
     "metadata": {},
     "output_type": "execute_result"
    }
   ],
   "source": [
    "len(pubmed_df2)"
   ]
  },
  {
   "cell_type": "code",
   "execution_count": 47,
   "id": "f1930a5b",
   "metadata": {},
   "outputs": [
    {
     "data": {
      "text/plain": [
       "87"
      ]
     },
     "execution_count": 47,
     "metadata": {},
     "output_type": "execute_result"
    }
   ],
   "source": [
    "pubmed_df2['pmid'].nunique()"
   ]
  },
  {
   "cell_type": "code",
   "execution_count": 24,
   "id": "e136cae5",
   "metadata": {},
   "outputs": [
    {
     "data": {
      "text/html": [
       "<div>\n",
       "<style scoped>\n",
       "    .dataframe tbody tr th:only-of-type {\n",
       "        vertical-align: middle;\n",
       "    }\n",
       "\n",
       "    .dataframe tbody tr th {\n",
       "        vertical-align: top;\n",
       "    }\n",
       "\n",
       "    .dataframe thead th {\n",
       "        text-align: right;\n",
       "    }\n",
       "</style>\n",
       "<table border=\"1\" class=\"dataframe\">\n",
       "  <thead>\n",
       "    <tr style=\"text-align: right;\">\n",
       "      <th></th>\n",
       "      <th>pmid</th>\n",
       "      <th>abstract</th>\n",
       "    </tr>\n",
       "  </thead>\n",
       "  <tbody>\n",
       "    <tr>\n",
       "      <th>0</th>\n",
       "      <td>37256976</td>\n",
       "      <td>[BACKGROUND]AKT pathway activation is implicat...</td>\n",
       "    </tr>\n",
       "    <tr>\n",
       "      <th>1</th>\n",
       "      <td>37070653</td>\n",
       "      <td>ESR1 mutation (ESR1m) is a frequent cause of a...</td>\n",
       "    </tr>\n",
       "    <tr>\n",
       "      <th>2</th>\n",
       "      <td>37147285</td>\n",
       "      <td>Failure to achieve complete elimination of tri...</td>\n",
       "    </tr>\n",
       "    <tr>\n",
       "      <th>3</th>\n",
       "      <td>37723305</td>\n",
       "      <td>Acetate metabolism is an important metabolic p...</td>\n",
       "    </tr>\n",
       "    <tr>\n",
       "      <th>4</th>\n",
       "      <td>36585452</td>\n",
       "      <td>Inhibiting individual histone deacetylase (HDA...</td>\n",
       "    </tr>\n",
       "  </tbody>\n",
       "</table>\n",
       "</div>"
      ],
      "text/plain": [
       "       pmid                                           abstract\n",
       "0  37256976  [BACKGROUND]AKT pathway activation is implicat...\n",
       "1  37070653  ESR1 mutation (ESR1m) is a frequent cause of a...\n",
       "2  37147285  Failure to achieve complete elimination of tri...\n",
       "3  37723305  Acetate metabolism is an important metabolic p...\n",
       "4  36585452  Inhibiting individual histone deacetylase (HDA..."
      ]
     },
     "execution_count": 24,
     "metadata": {},
     "output_type": "execute_result"
    }
   ],
   "source": [
    "pubmed_df2.head()"
   ]
  },
  {
   "cell_type": "code",
   "execution_count": 26,
   "id": "bdd61d22",
   "metadata": {},
   "outputs": [
    {
     "name": "stdout",
     "output_type": "stream",
     "text": [
      "\tBase prompt messages loaded.\n",
      "\tNecessary columns present in the input df.\n",
      "Function setup_client complete.\n",
      "\tClient setup complete.\n",
      "\tProcessing abstracts through the API.\n",
      "Function process_pubmed_data complete in 0:06:54.823003. This run costed $1.17.\n"
     ]
    }
   ],
   "source": [
    "completions = openai_api.process_pubmed_data(system_path=system_path,\n",
    "                                             user_path=user_path,\n",
    "                                             data_df1=pubmed_df2,\n",
    "                                             openai_key_path=openai_key_path,\n",
    "                                             seed=1,\n",
    "                                             temperature=0.0)"
   ]
  },
  {
   "cell_type": "markdown",
   "id": "26673ea3",
   "metadata": {},
   "source": [
    "**Save the completions dictionary as a JSON.**"
   ]
  },
  {
   "cell_type": "code",
   "execution_count": 27,
   "id": "8e5969ef",
   "metadata": {},
   "outputs": [],
   "source": [
    "with open(completions_path, \"w\") as json_file:\n",
    "    json.dump(completions, json_file)"
   ]
  },
  {
   "cell_type": "markdown",
   "id": "f518c911",
   "metadata": {},
   "source": [
    "**Extract information from the completions endpoint json into a df.**"
   ]
  },
  {
   "cell_type": "code",
   "execution_count": 64,
   "id": "11febb43",
   "metadata": {},
   "outputs": [
    {
     "name": "stdout",
     "output_type": "stream",
     "text": [
      "Function get_df_from_completions complete.\n"
     ]
    }
   ],
   "source": [
    "ner_df = openai_api.get_df_from_completions(all_completions=completions)"
   ]
  },
  {
   "cell_type": "code",
   "execution_count": 65,
   "id": "c952ec22",
   "metadata": {},
   "outputs": [
    {
     "data": {
      "text/plain": [
       "87"
      ]
     },
     "execution_count": 65,
     "metadata": {},
     "output_type": "execute_result"
    }
   ],
   "source": [
    "ner_df['pmid'].nunique()"
   ]
  },
  {
   "cell_type": "code",
   "execution_count": 67,
   "id": "cffd5d97",
   "metadata": {},
   "outputs": [
    {
     "data": {
      "text/html": [
       "<div>\n",
       "<style scoped>\n",
       "    .dataframe tbody tr th:only-of-type {\n",
       "        vertical-align: middle;\n",
       "    }\n",
       "\n",
       "    .dataframe tbody tr th {\n",
       "        vertical-align: top;\n",
       "    }\n",
       "\n",
       "    .dataframe thead th {\n",
       "        text-align: right;\n",
       "    }\n",
       "</style>\n",
       "<table border=\"1\" class=\"dataframe\">\n",
       "  <thead>\n",
       "    <tr style=\"text-align: right;\">\n",
       "      <th></th>\n",
       "      <th>completion_id</th>\n",
       "      <th>completion_tokens</th>\n",
       "      <th>prompt_tokens</th>\n",
       "      <th>total_tokens</th>\n",
       "      <th>drug_name</th>\n",
       "      <th>tested_or_effective_group</th>\n",
       "      <th>drug_tested_in_diseases</th>\n",
       "      <th>clinical_trials_id</th>\n",
       "      <th>pmid</th>\n",
       "      <th>direct_target</th>\n",
       "      <th>drug-direct_target_interaction</th>\n",
       "    </tr>\n",
       "  </thead>\n",
       "  <tbody>\n",
       "    <tr>\n",
       "      <th>0</th>\n",
       "      <td>chatcmpl-9ALbxPL1dFBz1PnWgwRGbA5XXVZ8n</td>\n",
       "      <td>81.0</td>\n",
       "      <td>1386.0</td>\n",
       "      <td>1467.0</td>\n",
       "      <td>capivasertib</td>\n",
       "      <td>[hormone receptor-positive, human epidermal gr...</td>\n",
       "      <td>[breast cancer]</td>\n",
       "      <td>[NCT04305496]</td>\n",
       "      <td>37256976</td>\n",
       "      <td>AKT</td>\n",
       "      <td>inhibitor</td>\n",
       "    </tr>\n",
       "    <tr>\n",
       "      <th>1</th>\n",
       "      <td>chatcmpl-9ALc00y8DQWDaDcUlccb6c6BwA9dy</td>\n",
       "      <td>88.0</td>\n",
       "      <td>1402.0</td>\n",
       "      <td>1490.0</td>\n",
       "      <td>camizestrant</td>\n",
       "      <td>[ESR1 mutation (ESR1m)]</td>\n",
       "      <td>[advanced breast cancer, HR+/HER2- ABC]</td>\n",
       "      <td>[NCT04964934]</td>\n",
       "      <td>37070653</td>\n",
       "      <td>ESR1</td>\n",
       "      <td>selective estrogen receptor degrader (SERD)</td>\n",
       "    </tr>\n",
       "    <tr>\n",
       "      <th>2</th>\n",
       "      <td>chatcmpl-9ALc60zRPUnEaEICzRPGnAqrGVtnQ</td>\n",
       "      <td>69.0</td>\n",
       "      <td>1040.0</td>\n",
       "      <td>1109.0</td>\n",
       "      <td>Z839878730</td>\n",
       "      <td>[TNBC ALDH+ cells]</td>\n",
       "      <td>[triple negative breast cancer]</td>\n",
       "      <td>None</td>\n",
       "      <td>37147285</td>\n",
       "      <td>KK-LC-1</td>\n",
       "      <td>inhibitor</td>\n",
       "    </tr>\n",
       "    <tr>\n",
       "      <th>3</th>\n",
       "      <td>chatcmpl-9ALcBBOMqs6mF6TPwXkeMrBj7Z6PE</td>\n",
       "      <td>59.0</td>\n",
       "      <td>995.0</td>\n",
       "      <td>1054.0</td>\n",
       "      <td>None</td>\n",
       "      <td>[breast cancer models]</td>\n",
       "      <td>[breast cancer]</td>\n",
       "      <td>None</td>\n",
       "      <td>37723305</td>\n",
       "      <td>ACSS2</td>\n",
       "      <td>inhibitor</td>\n",
       "    </tr>\n",
       "    <tr>\n",
       "      <th>4</th>\n",
       "      <td>chatcmpl-9ALcFuaYe1CFLrKl4AYOGK9hNbilZ</td>\n",
       "      <td>132.0</td>\n",
       "      <td>1040.0</td>\n",
       "      <td>1172.0</td>\n",
       "      <td>ricolinostat</td>\n",
       "      <td>[HR+/HER2- breast cancer]</td>\n",
       "      <td>[breast cancer, metastatic breast cancer]</td>\n",
       "      <td>[NCT02632071]</td>\n",
       "      <td>36585452</td>\n",
       "      <td>HDAC6</td>\n",
       "      <td>inhibitor</td>\n",
       "    </tr>\n",
       "  </tbody>\n",
       "</table>\n",
       "</div>"
      ],
      "text/plain": [
       "                            completion_id completion_tokens prompt_tokens   \n",
       "0  chatcmpl-9ALbxPL1dFBz1PnWgwRGbA5XXVZ8n              81.0        1386.0  \\\n",
       "1  chatcmpl-9ALc00y8DQWDaDcUlccb6c6BwA9dy              88.0        1402.0   \n",
       "2  chatcmpl-9ALc60zRPUnEaEICzRPGnAqrGVtnQ              69.0        1040.0   \n",
       "3  chatcmpl-9ALcBBOMqs6mF6TPwXkeMrBj7Z6PE              59.0         995.0   \n",
       "4  chatcmpl-9ALcFuaYe1CFLrKl4AYOGK9hNbilZ             132.0        1040.0   \n",
       "\n",
       "  total_tokens     drug_name   \n",
       "0       1467.0  capivasertib  \\\n",
       "1       1490.0  camizestrant   \n",
       "2       1109.0    Z839878730   \n",
       "3       1054.0          None   \n",
       "4       1172.0  ricolinostat   \n",
       "\n",
       "                           tested_or_effective_group   \n",
       "0  [hormone receptor-positive, human epidermal gr...  \\\n",
       "1                            [ESR1 mutation (ESR1m)]   \n",
       "2                                 [TNBC ALDH+ cells]   \n",
       "3                             [breast cancer models]   \n",
       "4                          [HR+/HER2- breast cancer]   \n",
       "\n",
       "                     drug_tested_in_diseases clinical_trials_id      pmid   \n",
       "0                            [breast cancer]      [NCT04305496]  37256976  \\\n",
       "1    [advanced breast cancer, HR+/HER2- ABC]      [NCT04964934]  37070653   \n",
       "2            [triple negative breast cancer]               None  37147285   \n",
       "3                            [breast cancer]               None  37723305   \n",
       "4  [breast cancer, metastatic breast cancer]      [NCT02632071]  36585452   \n",
       "\n",
       "  direct_target               drug-direct_target_interaction  \n",
       "0           AKT                                    inhibitor  \n",
       "1          ESR1  selective estrogen receptor degrader (SERD)  \n",
       "2       KK-LC-1                                    inhibitor  \n",
       "3         ACSS2                                    inhibitor  \n",
       "4         HDAC6                                    inhibitor  "
      ]
     },
     "execution_count": 67,
     "metadata": {},
     "output_type": "execute_result"
    }
   ],
   "source": [
    "ner_df.head()"
   ]
  },
  {
   "cell_type": "markdown",
   "id": "d64549a9",
   "metadata": {},
   "source": [
    "**Save the results from the API as a CSV.**"
   ]
  },
  {
   "cell_type": "code",
   "execution_count": 68,
   "id": "3695bb99",
   "metadata": {},
   "outputs": [],
   "source": [
    "ner_df.to_csv(ner_path,index=False)"
   ]
  },
  {
   "cell_type": "markdown",
   "id": "5883d973",
   "metadata": {},
   "source": [
    "**Write the PMIDs to Google Sheets so that manually curated data can be added in Sheets.**"
   ]
  },
  {
   "cell_type": "code",
   "execution_count": 91,
   "id": "a214b4ca",
   "metadata": {},
   "outputs": [],
   "source": [
    "columns_to_write = ['pmid','drug_name','direct_target','drug-direct_target_interaction','clinical_trials_id']"
   ]
  },
  {
   "cell_type": "markdown",
   "id": "32919494",
   "metadata": {},
   "source": [
    "**Anything other than string will throw an error while writing into Sheets. First, cast all column values as strings.**"
   ]
  },
  {
   "cell_type": "code",
   "execution_count": 93,
   "id": "e5e4a200",
   "metadata": {},
   "outputs": [],
   "source": [
    "ner_df2 = ner_df.copy()\n",
    "for col in ner_df2.columns:\n",
    "    \n",
    "    ner_df2[col] = ner_df2[col].astype('str')"
   ]
  },
  {
   "cell_type": "code",
   "execution_count": 94,
   "id": "62a903d8",
   "metadata": {},
   "outputs": [],
   "source": [
    "utils.write_data_to_sheets(df=ner_df2,\n",
    "                           credentials_path=credentials_path,\n",
    "                           sheets_filename='pubmed_manual_curated',\n",
    "                           sheets_sheetname='gpt4_run_2',\n",
    "                           columns_to_write=columns_to_write)"
   ]
  },
  {
   "cell_type": "markdown",
   "id": "5b726764",
   "metadata": {},
   "source": [
    "## Use outputs generated by GPT-4 as a starting point and curate/annotate the data manually"
   ]
  },
  {
   "cell_type": "markdown",
   "id": "46ca77c1",
   "metadata": {},
   "source": [
    "* For the next step of fine-tuning the model and for building a manually annotated dataset, only the following fields were curated:\n",
    "    * drug name, \n",
    "    * direct-target, \n",
    "    * drug-direct target interaction, and \n",
    "    * clinical trials ID\n",
    "\n",
    "* The output shown above (ner_df) from GPT-4 was used only as a starting point to make manual curation faster and easier rather than developing the training set from scratch."
   ]
  },
  {
   "cell_type": "code",
   "execution_count": 277,
   "id": "abd8ea01",
   "metadata": {},
   "outputs": [],
   "source": [
    "training_df = utils.read_data_from_sheets(credentials_path=credentials_path,\n",
    "                                          sheets_filename='pubmed_manual_curated',\n",
    "                                          sheets_sheetname='gpt4_run_2',\n",
    "                                          start_cell='A1',\n",
    "                                          end_cell='E173')"
   ]
  },
  {
   "cell_type": "markdown",
   "id": "dcd721d4",
   "metadata": {},
   "source": [
    "**Run cleaning steps and read specific data types consistently.**"
   ]
  },
  {
   "cell_type": "code",
   "execution_count": 278,
   "id": "ec6bb4a5",
   "metadata": {},
   "outputs": [],
   "source": [
    "training_df2 = utils.clean_missing_data(training_df)"
   ]
  },
  {
   "cell_type": "code",
   "execution_count": 279,
   "id": "3b6832be",
   "metadata": {},
   "outputs": [],
   "source": [
    "training_df2['clinical_trials_id'] = training_df2['clinical_trials_id'].apply(utils.convert_string_to_structure)"
   ]
  },
  {
   "cell_type": "code",
   "execution_count": 280,
   "id": "56f17564",
   "metadata": {},
   "outputs": [
    {
     "data": {
      "text/html": [
       "<div>\n",
       "<style scoped>\n",
       "    .dataframe tbody tr th:only-of-type {\n",
       "        vertical-align: middle;\n",
       "    }\n",
       "\n",
       "    .dataframe tbody tr th {\n",
       "        vertical-align: top;\n",
       "    }\n",
       "\n",
       "    .dataframe thead th {\n",
       "        text-align: right;\n",
       "    }\n",
       "</style>\n",
       "<table border=\"1\" class=\"dataframe\">\n",
       "  <thead>\n",
       "    <tr style=\"text-align: right;\">\n",
       "      <th></th>\n",
       "      <th>pmid</th>\n",
       "      <th>drug_name</th>\n",
       "      <th>direct_target</th>\n",
       "      <th>drug-direct_target_interaction</th>\n",
       "      <th>clinical_trials_id</th>\n",
       "    </tr>\n",
       "  </thead>\n",
       "  <tbody>\n",
       "    <tr>\n",
       "      <th>0</th>\n",
       "      <td>37256976</td>\n",
       "      <td>capivasertib</td>\n",
       "      <td>AKT</td>\n",
       "      <td>inhibitor</td>\n",
       "      <td>[NCT04305496]</td>\n",
       "    </tr>\n",
       "    <tr>\n",
       "      <th>1</th>\n",
       "      <td>37256976</td>\n",
       "      <td>fulvestrant</td>\n",
       "      <td>None</td>\n",
       "      <td>None</td>\n",
       "      <td>[NCT04305496]</td>\n",
       "    </tr>\n",
       "    <tr>\n",
       "      <th>2</th>\n",
       "      <td>37070653</td>\n",
       "      <td>camizestrant</td>\n",
       "      <td>ESR1</td>\n",
       "      <td>selective estrogen receptor degrader (SERD)</td>\n",
       "      <td>[NCT04964934]</td>\n",
       "    </tr>\n",
       "    <tr>\n",
       "      <th>3</th>\n",
       "      <td>37070653</td>\n",
       "      <td>fulvestrant</td>\n",
       "      <td>None</td>\n",
       "      <td>None</td>\n",
       "      <td>[NCT04964934]</td>\n",
       "    </tr>\n",
       "    <tr>\n",
       "      <th>4</th>\n",
       "      <td>37147285</td>\n",
       "      <td>Z839878730 (Z8)</td>\n",
       "      <td>KK-LC-1</td>\n",
       "      <td>inhibitor</td>\n",
       "      <td>None</td>\n",
       "    </tr>\n",
       "  </tbody>\n",
       "</table>\n",
       "</div>"
      ],
      "text/plain": [
       "       pmid        drug_name direct_target   \n",
       "0  37256976     capivasertib           AKT  \\\n",
       "1  37256976      fulvestrant          None   \n",
       "2  37070653     camizestrant          ESR1   \n",
       "3  37070653      fulvestrant          None   \n",
       "4  37147285  Z839878730 (Z8)       KK-LC-1   \n",
       "\n",
       "                drug-direct_target_interaction clinical_trials_id  \n",
       "0                                    inhibitor      [NCT04305496]  \n",
       "1                                         None      [NCT04305496]  \n",
       "2  selective estrogen receptor degrader (SERD)      [NCT04964934]  \n",
       "3                                         None      [NCT04964934]  \n",
       "4                                    inhibitor               None  "
      ]
     },
     "execution_count": 280,
     "metadata": {},
     "output_type": "execute_result"
    }
   ],
   "source": [
    "training_df2.head()"
   ]
  },
  {
   "cell_type": "markdown",
   "id": "20950f8b",
   "metadata": {},
   "source": [
    "# Create base prompt messages for finetuning"
   ]
  },
  {
   "cell_type": "raw",
   "id": "8823fd10",
   "metadata": {},
   "source": [
    "# How it should look per ID: This is 1 example.\n",
    "\n",
    "{\"messages\": [{\"role\": \"system\", \"content\": \"Marv is a factual chatbot that is also sarcastic.\"}, \n",
    "              {\"role\": \"user\", \"content\": \"What's the capital of France?\"}, \n",
    "              {\"role\": \"assistant\", \"content\": \"Paris, as if everyone doesn't know that already.\"}]}"
   ]
  },
  {
   "cell_type": "markdown",
   "id": "192ebf12",
   "metadata": {},
   "source": [
    "**Base prompt message for the role 'user'. This is a shortened prompt that is one option. However, per OpenAI's recommendations, it is best to use the same prompt that got te best results with a non-finetuned model. So, another option was generated (below) that takes the same wording as the prompt used above while generating the training data. The only difference here is that finetuning is being done only for collecting drug name, target, drug-target relationship, and clinical trials number (without cancer types and tested groups). So instructions relevant to these 4 entities have been copied from the longer prompt shown above.**"
   ]
  },
  {
   "cell_type": "code",
   "execution_count": 222,
   "id": "1b97f556",
   "metadata": {},
   "outputs": [],
   "source": [
    "ft_user_data = {\"role\":\"user\",\"content\":\"\"\"For the text under TASK, starting with an identifier, identify any drugs, their targets, drug-target relationship, and ClinicalTrials.gov identifier or number. Produce a JSON output.\n",
    "TASK\"\"\"}\n"
   ]
  },
  {
   "cell_type": "code",
   "execution_count": 223,
   "id": "a6d89122",
   "metadata": {},
   "outputs": [
    {
     "data": {
      "text/plain": [
       "{'role': 'user',\n",
       " 'content': 'For the text under TASK, starting with an identifier, identify any drugs, their targets, drug-target relationship, and ClinicalTrials.gov identifier or number. Produce a JSON output.\\nTASK'}"
      ]
     },
     "execution_count": 223,
     "metadata": {},
     "output_type": "execute_result"
    }
   ],
   "source": [
    "ft_user_data"
   ]
  },
  {
   "cell_type": "code",
   "execution_count": 224,
   "id": "f99aacc5",
   "metadata": {},
   "outputs": [],
   "source": [
    "with open(ft_user_path, \"w\") as json_file:\n",
    "    json.dump(ft_user_data, json_file)"
   ]
  },
  {
   "cell_type": "markdown",
   "id": "e492d74a",
   "metadata": {},
   "source": [
    "**User prompt subset taken from the one used with GPT-4 non fine-tuned model, while generating training data. Example was removed and some instructions pertaining to entities that will not be extracted for finetuning, were also removed.**"
   ]
  },
  {
   "cell_type": "code",
   "execution_count": 270,
   "id": "49ba72f6",
   "metadata": {},
   "outputs": [],
   "source": [
    "ft_user_data_2 = {\"role\":\"user\",\"content\":\"\"\"Look at the rules delimited by ***.\n",
    "*** RULES\n",
    "For the text under TASK, starting with an identifier, identify any drugs, their targets, drug-target relationship, and ClinicalTrials.gov identifier or number.\n",
    "1. Identify which drugs have been tested and create a set for each. \n",
    "2. Return multiple sets if more than drug is present in the text.\n",
    "For each drug:\n",
    "3. Get direct target: Use the following logic: if the text clearly and directly mentions that the drug targets a gene and has also defined the type of interaction\n",
    "4. Get interaction type between the drug and direct target: if explicitly and clearly mentioned, then get the drug-direct target relationship type. What does the drug do to the direct target? inhibitor, activator, etc.?\n",
    "5. Extract any specific ClinicalTrials.gov identifier or number.\n",
    "6. For each drug, construct a set consisting of (drug name, direct target, drug-direct target interaction, ClinicalTrials.gov number)\n",
    "7. Any empty values should be indicated by null and not an empty string.\n",
    "8. Double check your logic and see if the data you have collected is actually reflected in the text. If not, make revisions.\n",
    "9. Assemble all sets and produce 1 final JSON output in a single line without any whitespaces.\n",
    "***\n",
    "TASK\"\"\"}"
   ]
  },
  {
   "cell_type": "code",
   "execution_count": 271,
   "id": "0fd596bb",
   "metadata": {},
   "outputs": [
    {
     "data": {
      "text/plain": [
       "{'role': 'user',\n",
       " 'content': 'Look at the rules delimited by ***.\\n*** RULES\\nFor the text under TASK, starting with an identifier, identify any drugs, their targets, drug-target relationship, and ClinicalTrials.gov identifier or number.\\n1. Identify which drugs have been tested and create a set for each. \\n2. Return multiple sets if more than drug is present in the text.\\nFor each drug:\\n3. Get direct target: Use the following logic: if the text clearly and directly mentions that the drug targets a gene and has also defined the type of interaction\\n4. Get interaction type between the drug and direct target: if explicitly and clearly mentioned, then get the drug-direct target relationship type. What does the drug do to the direct target? inhibitor, activator, etc.?\\n5. Extract any specific ClinicalTrials.gov identifier or number.\\n6. For each drug, construct a set consisting of (drug name, direct target, drug-direct target interaction, ClinicalTrials.gov number)\\n7. Any empty values should be indicated by null and not an empty string.\\n8. Double check your logic and see if the data you have collected is actually reflected in the text. If not, make revisions.\\n9. Assemble all sets and produce 1 final JSON output in a single line without any whitespaces.\\n***\\nTASK'}"
      ]
     },
     "execution_count": 271,
     "metadata": {},
     "output_type": "execute_result"
    }
   ],
   "source": [
    "ft_user_data_2"
   ]
  },
  {
   "cell_type": "code",
   "execution_count": 272,
   "id": "8f053fac",
   "metadata": {},
   "outputs": [],
   "source": [
    "with open(ft_user_path_2, \"w\") as json_file:\n",
    "    json.dump(ft_user_data_2, json_file)"
   ]
  },
  {
   "cell_type": "markdown",
   "id": "7b396920",
   "metadata": {},
   "source": [
    "**System prompt message will be the same as was used for the non-fine tuned model.**"
   ]
  },
  {
   "cell_type": "code",
   "execution_count": 217,
   "id": "ded43a10",
   "metadata": {},
   "outputs": [
    {
     "data": {
      "text/plain": [
       "{'role': 'system',\n",
       " 'content': 'You are a meticulous data scientist working on named entity recognition and building out a drug-target dataset from biomedical text. Only consider the text given to you.'}"
      ]
     },
     "execution_count": 217,
     "metadata": {},
     "output_type": "execute_result"
    }
   ],
   "source": [
    "system_prompt"
   ]
  },
  {
   "cell_type": "markdown",
   "id": "d4d8cd66",
   "metadata": {},
   "source": [
    "# Prepare training and test set jsonl files"
   ]
  },
  {
   "cell_type": "markdown",
   "id": "fae12ee2",
   "metadata": {},
   "source": [
    "**Load test set.**"
   ]
  },
  {
   "cell_type": "code",
   "execution_count": 226,
   "id": "388890b2",
   "metadata": {},
   "outputs": [],
   "source": [
    "test_df = utils.read_data_from_sheets(credentials_path=credentials_path,\n",
    "                                          sheets_filename='pubmed_manual_curated',\n",
    "                                          sheets_sheetname='run_1',\n",
    "                                          start_cell='A1',\n",
    "                                          end_cell='A57')"
   ]
  },
  {
   "cell_type": "code",
   "execution_count": 227,
   "id": "1c4e672e",
   "metadata": {},
   "outputs": [],
   "source": [
    "test_ids = openai_finetuning.get_test_set_ids(test_df,\n",
    "                                              id_column='pmid')"
   ]
  },
  {
   "cell_type": "code",
   "execution_count": 228,
   "id": "9ed270e8",
   "metadata": {},
   "outputs": [
    {
     "data": {
      "text/plain": [
       "30"
      ]
     },
     "execution_count": 228,
     "metadata": {},
     "output_type": "execute_result"
    }
   ],
   "source": [
    "len(test_ids)"
   ]
  },
  {
   "cell_type": "markdown",
   "id": "6d31a5d2",
   "metadata": {},
   "source": [
    "**Create training and test jsonl files using pubmed abstract text, and base system and user messages.** "
   ]
  },
  {
   "cell_type": "code",
   "execution_count": 281,
   "id": "cf880f39",
   "metadata": {},
   "outputs": [],
   "source": [
    "pubmed_df = pd.read_csv(pubmed_path,dtype={'pmid':'str'})\n",
    "pubmed_df2 = pubmed_df[['pmid','abstract']].copy()\n",
    "\n",
    "openai_finetuning.prepare_train_val_data(main_df=training_df2,\n",
    "                                           test_ids=test_ids,\n",
    "                                           system_path=system_path,\n",
    "                                           user_path=ft_user_path_2,\n",
    "                                           pubmed_df=pubmed_df,\n",
    "                                           training_path=training_path,\n",
    "                                           test_path=test_path)"
   ]
  },
  {
   "cell_type": "markdown",
   "id": "0b10f30f",
   "metadata": {},
   "source": [
    "**Run the jsonl files through OpenAI's code that checks for formatting and number of examples.**"
   ]
  },
  {
   "cell_type": "code",
   "execution_count": 282,
   "id": "c5fe57f8",
   "metadata": {
    "scrolled": false
   },
   "outputs": [
    {
     "name": "stdout",
     "output_type": "stream",
     "text": [
      "Num examples: 57\n",
      "First example:\n",
      "{'role': 'system', 'content': 'You are a meticulous data scientist working on named entity recognition and building out a drug-target dataset from biomedical text. Only consider the text given to you.'}\n",
      "{'role': 'user', 'content': 'Look at the rules delimited by ***.\\n*** RULES\\nFor the text under TASK, starting with an identifier, identify any drugs, their targets, drug-target relationship, and ClinicalTrials.gov identifier or number.\\n1. Identify which drugs have been tested and create a set for each. \\n2. Return multiple sets if more than drug is present in the text.\\nFor each drug:\\n3. Get direct target: Use the following logic: if the text clearly and directly mentions that the drug targets a gene and has also defined the type of interaction\\n4. Get interaction type between the drug and direct target: if explicitly and clearly mentioned, then get the drug-direct target relationship type. What does the drug do to the direct target? inhibitor, activator, etc.?\\n5. Extract any specific ClinicalTrials.gov identifier or number.\\n6. For each drug, construct a set consisting of (drug name, direct target, drug-direct target interaction, ClinicalTrials.gov number)\\n7. Any empty values should be indicated by null and not an empty string.\\n8. Double check your logic and see if the data you have collected is actually reflected in the text. If not, make revisions.\\n9. Assemble all sets and produce 1 final JSON output in a single line without any whitespaces.\\n***\\nTASK\\n37256976:[BACKGROUND]AKT pathway activation is implicated in endocrine-therapy resistance. Data on the efficacy and safety of the AKT inhibitor capivasertib, as an addition to fulvestrant therapy, in patients with hormone receptor-positive advanced breast cancer are limited.[METHODS]In a phase 3, randomized, double-blind trial, we enrolled eligible pre-, peri-, and postmenopausal women and men with hormone receptor-positive, human epidermal growth factor receptor 2-negative advanced breast cancer who had had a relapse or disease progression during or after treatment with an aromatase inhibitor, with or without previous cyclin-dependent kinase 4 and 6 (CDK4/6) inhibitor therapy. Patients were randomly assigned in a 1:1 ratio to receive capivasertib plus fulvestrant or placebo plus fulvestrant. The dual primary end point was investigator-assessed progression-free survival assessed both in the overall population and among patients with AKT pathway-altered ([RESULTS]Overall, 708 patients underwent randomization; 289 patients (40.8%) had AKT pathway alterations, and 489 (69.1%) had received a CDK4/6 inhibitor previously for advanced breast cancer. In the overall population, the median progression-free survival was 7.2 months in the capivasertib-fulvestrant group, as compared with 3.6 months in the placebo-fulvestrant group (hazard ratio for progression or death, 0.60; 95% confidence interval [CI], 0.51 to 0.71; P<0.001). In the AKT pathway-altered population, the median progression-free survival was 7.3 months in the capivasertib-fulvestrant group, as compared with 3.1 months in the placebo-fulvestrant group (hazard ratio, 0.50; 95% CI, 0.38 to 0.65; P<0.001). The most frequent adverse events of grade 3 or higher in patients receiving capivasertib-fulvestrant were rash (in 12.1% of patients, vs. in 0.3% of those receiving placebo-fulvestrant) and diarrhea (in 9.3% vs. 0.3%). Adverse events leading to discontinuation were reported in 13.0% of the patients receiving capivasertib and in 2.3% of those receiving placebo.[CONCLUSIONS]Capivasertib-fulvestrant therapy resulted in significantly longer progression-free survival than treatment with fulvestrant alone among patients with hormone receptor-positive advanced breast cancer whose disease had progressed during or after previous aromatase inhibitor therapy with or without a CDK4/6 inhibitor. (Funded by AstraZeneca and the National Cancer Institute; CAPItello-291 ClinicalTrials.gov number, NCT04305496.).'}\n",
      "{'role': 'assistant', 'content': '{\"37256976\": [{\"drug_name\": \"capivasertib\", \"direct_target\": \"AKT\", \"drug-direct_target_interaction\": \"inhibitor\", \"clinical_trials_id\": [\"NCT04305496\"]}, {\"drug_name\": \"fulvestrant\", \"direct_target\": null, \"drug-direct_target_interaction\": null, \"clinical_trials_id\": [\"NCT04305496\"]}]}'}\n",
      "No errors found\n"
     ]
    }
   ],
   "source": [
    "openai_finetuning.check_data_formatting(training_path)"
   ]
  },
  {
   "cell_type": "code",
   "execution_count": 283,
   "id": "c68f190c",
   "metadata": {
    "scrolled": false
   },
   "outputs": [
    {
     "name": "stdout",
     "output_type": "stream",
     "text": [
      "Num examples: 30\n",
      "First example:\n",
      "{'role': 'system', 'content': 'You are a meticulous data scientist working on named entity recognition and building out a drug-target dataset from biomedical text. Only consider the text given to you.'}\n",
      "{'role': 'user', 'content': 'Look at the rules delimited by ***.\\n*** RULES\\nFor the text under TASK, starting with an identifier, identify any drugs, their targets, drug-target relationship, and ClinicalTrials.gov identifier or number.\\n1. Identify which drugs have been tested and create a set for each. \\n2. Return multiple sets if more than drug is present in the text.\\nFor each drug:\\n3. Get direct target: Use the following logic: if the text clearly and directly mentions that the drug targets a gene and has also defined the type of interaction\\n4. Get interaction type between the drug and direct target: if explicitly and clearly mentioned, then get the drug-direct target relationship type. What does the drug do to the direct target? inhibitor, activator, etc.?\\n5. Extract any specific ClinicalTrials.gov identifier or number.\\n6. For each drug, construct a set consisting of (drug name, direct target, drug-direct target interaction, ClinicalTrials.gov number)\\n7. Any empty values should be indicated by null and not an empty string.\\n8. Double check your logic and see if the data you have collected is actually reflected in the text. If not, make revisions.\\n9. Assemble all sets and produce 1 final JSON output in a single line without any whitespaces.\\n***\\nTASK\\n37147285:Failure to achieve complete elimination of triple negative breast cancer (TNBC) stem cells after adjuvant therapy is associated with poor outcomes. Aldehyde dehydrogenase 1 (ALDH1) is a marker of breast cancer stem cells (BCSCs), and its enzymatic activity regulates tumor stemness. Identifying upstream targets to control ALDH+ cells may facilitate TNBC tumor suppression. Here, we show that KK-LC-1 determines the stemness of TNBC ALDH+ cells via binding with FAT1 and subsequently promoting its ubiquitination and degradation. This compromises the Hippo pathway and leads to nuclear translocation of YAP1 and ALDH1A1 transcription. These findings identify the KK-LC-1-FAT1-Hippo-ALDH1A1 pathway in TNBC ALDH+ cells as a therapeutic target. To reverse the malignancy due to KK-LC-1 expression, we employ a computational approach and discover Z839878730 (Z8) as an small-molecule inhibitor which may disrupt KK-LC-1 and FAT1 binding. We demonstrate that Z8 suppresses TNBC tumor growth via a mechanism that reactivates the Hippo pathway and decreases TNBC ALDH+ cell stemness and viability.'}\n",
      "{'role': 'assistant', 'content': '{\"37147285\": [{\"drug_name\": \"Z839878730 (Z8)\", \"direct_target\": \"KK-LC-1\", \"drug-direct_target_interaction\": \"inhibitor\", \"clinical_trials_id\": null}, {\"drug_name\": \"Z839878730 (Z8)\", \"direct_target\": \"KK-LC-1/FAT1\", \"drug-direct_target_interaction\": \"binding disruptor\", \"clinical_trials_id\": null}]}'}\n",
      "No errors found\n"
     ]
    }
   ],
   "source": [
    "openai_finetuning.check_data_formatting(test_path)"
   ]
  },
  {
   "cell_type": "markdown",
   "id": "7f32f2a9",
   "metadata": {},
   "source": [
    "# Estimate tokens and finetuning cost"
   ]
  },
  {
   "cell_type": "code",
   "execution_count": 284,
   "id": "79117654",
   "metadata": {
    "scrolled": true
   },
   "outputs": [
    {
     "name": "stdout",
     "output_type": "stream",
     "text": [
      "Max tokens in 1 example: 1021\n",
      "Number of examples where token limit exceeded 16385: 0\n",
      "Total number of tokens: 38734\n",
      "There are 57 examples in the finetuning dataset.\n",
      "Based on default epoch and training example numbers, epochs should be 3.\n",
      "Based on the finetuning cost of $8e-06 per token, estimated cost is $0.93 for a dataset with 57 examples and 38734 tokens.\n"
     ]
    }
   ],
   "source": [
    "openai_finetuning.estimate_finetuning_cost(training_path)"
   ]
  },
  {
   "cell_type": "markdown",
   "id": "d47ffdaa",
   "metadata": {},
   "source": [
    "# Upload training data and get file IDs"
   ]
  },
  {
   "cell_type": "code",
   "execution_count": 286,
   "id": "fa888645",
   "metadata": {},
   "outputs": [
    {
     "name": "stdout",
     "output_type": "stream",
     "text": [
      "Function setup_client complete.\n"
     ]
    }
   ],
   "source": [
    "training_upload = openai_finetuning.upload_file(jsonl_path=training_path,\n",
    "                                                openai_key_path=openai_key_path)"
   ]
  },
  {
   "cell_type": "code",
   "execution_count": 293,
   "id": "8e51da77",
   "metadata": {},
   "outputs": [
    {
     "data": {
      "text/plain": [
       "FileObject(id='file-SlWH0nzMct3JkrpTFywml1LX', bytes=182909, created_at=1712939124, filename='training_finetuning_v1.jsonl', object='file', purpose='fine-tune', status='processed', status_details=None)"
      ]
     },
     "execution_count": 293,
     "metadata": {},
     "output_type": "execute_result"
    }
   ],
   "source": [
    "training_upload"
   ]
  },
  {
   "cell_type": "code",
   "execution_count": 294,
   "id": "21cfa452",
   "metadata": {},
   "outputs": [
    {
     "name": "stdout",
     "output_type": "stream",
     "text": [
      "Function setup_client complete.\n"
     ]
    }
   ],
   "source": [
    "test_upload = openai_finetuning.upload_file(jsonl_path=test_path,\n",
    "                                            openai_key_path=openai_key_path)"
   ]
  },
  {
   "cell_type": "code",
   "execution_count": 295,
   "id": "855bfde1",
   "metadata": {},
   "outputs": [
    {
     "data": {
      "text/plain": [
       "FileObject(id='file-wTBMhZeKQ3aemQT5RDghLtcE', bytes=100129, created_at=1712939689, filename='test_finetuning_v1.jsonl', object='file', purpose='fine-tune', status='processed', status_details=None)"
      ]
     },
     "execution_count": 295,
     "metadata": {},
     "output_type": "execute_result"
    }
   ],
   "source": [
    "test_upload"
   ]
  },
  {
   "cell_type": "markdown",
   "id": "d49f29bd",
   "metadata": {},
   "source": [
    "**Extract file IDs.**"
   ]
  },
  {
   "cell_type": "code",
   "execution_count": 296,
   "id": "2abda0ac",
   "metadata": {},
   "outputs": [],
   "source": [
    "training_id = training_upload.id"
   ]
  },
  {
   "cell_type": "code",
   "execution_count": 297,
   "id": "8936c395",
   "metadata": {},
   "outputs": [],
   "source": [
    "test_id = test_upload.id"
   ]
  },
  {
   "cell_type": "markdown",
   "id": "9d6676bb",
   "metadata": {},
   "source": [
    "# Fine tune GPT3.5-turbo"
   ]
  },
  {
   "cell_type": "markdown",
   "id": "555c98a6",
   "metadata": {},
   "source": [
    "**The API is throwing errors here, however the job did get logged and ran successfully in the UI. The fine tuning details were obtained directly from the UI.**"
   ]
  },
  {
   "cell_type": "code",
   "execution_count": 299,
   "id": "f021012f",
   "metadata": {
    "scrolled": true
   },
   "outputs": [
    {
     "name": "stdout",
     "output_type": "stream",
     "text": [
      "Function setup_client complete.\n"
     ]
    },
    {
     "ename": "TypeError",
     "evalue": "Pydantic models must subclass our base model type, e.g. `from openai import BaseModel`",
     "output_type": "error",
     "traceback": [
      "\u001b[0;31m---------------------------------------------------------------------------\u001b[0m",
      "\u001b[0;31mTypeError\u001b[0m                                 Traceback (most recent call last)",
      "\u001b[0;32m/var/folders/dk/wfg559q158x290pwcj2w20dc0000gp/T/ipykernel_63743/1539969666.py\u001b[0m in \u001b[0;36m<module>\u001b[0;34m\u001b[0m\n\u001b[1;32m      1\u001b[0m \u001b[0mhyperparameters\u001b[0m \u001b[0;34m=\u001b[0m \u001b[0;34m{\u001b[0m\u001b[0;34m\"n_epochs\"\u001b[0m\u001b[0;34m:\u001b[0m \u001b[0;36m3\u001b[0m\u001b[0;34m}\u001b[0m\u001b[0;34m\u001b[0m\u001b[0;34m\u001b[0m\u001b[0m\n\u001b[1;32m      2\u001b[0m \u001b[0;34m\u001b[0m\u001b[0m\n\u001b[0;32m----> 3\u001b[0;31m ft_object = openai_finetuning.finetune_model(\n\u001b[0m\u001b[1;32m      4\u001b[0m         \u001b[0mopenai_key_path\u001b[0m\u001b[0;34m=\u001b[0m\u001b[0mopenai_key_path\u001b[0m\u001b[0;34m,\u001b[0m\u001b[0;34m\u001b[0m\u001b[0;34m\u001b[0m\u001b[0m\n\u001b[1;32m      5\u001b[0m         \u001b[0mtraining_file_id\u001b[0m\u001b[0;34m=\u001b[0m\u001b[0mtraining_id\u001b[0m\u001b[0;34m,\u001b[0m\u001b[0;34m\u001b[0m\u001b[0;34m\u001b[0m\u001b[0m\n",
      "\u001b[0;32m~/Library/CloudStorage/GoogleDrive-muktirparikh@gmail.com/My Drive/learning_courses/mparikh20_github/gen_ai_gh/scripts/openai_finetuning.py\u001b[0m in \u001b[0;36mfinetune_model\u001b[0;34m(openai_key_path, training_file_id, hyperparameters, model_suffix, validation_file_id)\u001b[0m\n\u001b[1;32m    325\u001b[0m     \u001b[0mclient\u001b[0m \u001b[0;34m=\u001b[0m \u001b[0mopenai_api\u001b[0m\u001b[0;34m.\u001b[0m\u001b[0msetup_client\u001b[0m\u001b[0;34m(\u001b[0m\u001b[0mopenai_key_path\u001b[0m\u001b[0;34m)\u001b[0m\u001b[0;34m\u001b[0m\u001b[0;34m\u001b[0m\u001b[0m\n\u001b[1;32m    326\u001b[0m \u001b[0;34m\u001b[0m\u001b[0m\n\u001b[0;32m--> 327\u001b[0;31m     finetuning_object = client.fine_tuning.jobs.create(model=MODEL,\n\u001b[0m\u001b[1;32m    328\u001b[0m                                                        \u001b[0mtraining_file\u001b[0m\u001b[0;34m=\u001b[0m\u001b[0mtraining_file_id\u001b[0m\u001b[0;34m,\u001b[0m\u001b[0;34m\u001b[0m\u001b[0;34m\u001b[0m\u001b[0m\n\u001b[1;32m    329\u001b[0m                                                        \u001b[0mhyperparameters\u001b[0m\u001b[0;34m=\u001b[0m\u001b[0mhyperparameters\u001b[0m\u001b[0;34m,\u001b[0m\u001b[0;34m\u001b[0m\u001b[0;34m\u001b[0m\u001b[0m\n",
      "\u001b[0;32m~/miniconda3/lib/python3.9/site-packages/openai/resources/fine_tuning/jobs.py\u001b[0m in \u001b[0;36mcreate\u001b[0;34m(self, model, training_file, hyperparameters, suffix, validation_file, extra_headers, extra_query, extra_body, timeout)\u001b[0m\n\u001b[1;32m    107\u001b[0m \u001b[0;34m\u001b[0m\u001b[0m\n\u001b[1;32m    108\u001b[0m           \u001b[0mextra_body\u001b[0m\u001b[0;34m:\u001b[0m \u001b[0mAdd\u001b[0m \u001b[0madditional\u001b[0m \u001b[0mJSON\u001b[0m \u001b[0mproperties\u001b[0m \u001b[0mto\u001b[0m \u001b[0mthe\u001b[0m \u001b[0mrequest\u001b[0m\u001b[0;34m\u001b[0m\u001b[0;34m\u001b[0m\u001b[0m\n\u001b[0;32m--> 109\u001b[0;31m \u001b[0;34m\u001b[0m\u001b[0m\n\u001b[0m\u001b[1;32m    110\u001b[0m           \u001b[0mtimeout\u001b[0m\u001b[0;34m:\u001b[0m \u001b[0mOverride\u001b[0m \u001b[0mthe\u001b[0m \u001b[0mclient\u001b[0m\u001b[0;34m-\u001b[0m\u001b[0mlevel\u001b[0m \u001b[0mdefault\u001b[0m \u001b[0mtimeout\u001b[0m \u001b[0;32mfor\u001b[0m \u001b[0mthis\u001b[0m \u001b[0mrequest\u001b[0m\u001b[0;34m,\u001b[0m \u001b[0;32min\u001b[0m \u001b[0mseconds\u001b[0m\u001b[0;34m\u001b[0m\u001b[0;34m\u001b[0m\u001b[0m\n\u001b[1;32m    111\u001b[0m         \"\"\"\n",
      "\u001b[0;32m~/miniconda3/lib/python3.9/site-packages/openai/_base_client.py\u001b[0m in \u001b[0;36mpost\u001b[0;34m(self, path, cast_to, body, options, files, stream, stream_cls)\u001b[0m\n\u001b[1;32m   1231\u001b[0m             \u001b[0mmethod\u001b[0m\u001b[0;34m=\u001b[0m\u001b[0;34m\"post\"\u001b[0m\u001b[0;34m,\u001b[0m \u001b[0murl\u001b[0m\u001b[0;34m=\u001b[0m\u001b[0mpath\u001b[0m\u001b[0;34m,\u001b[0m \u001b[0mjson_data\u001b[0m\u001b[0;34m=\u001b[0m\u001b[0mbody\u001b[0m\u001b[0;34m,\u001b[0m \u001b[0mfiles\u001b[0m\u001b[0;34m=\u001b[0m\u001b[0mto_httpx_files\u001b[0m\u001b[0;34m(\u001b[0m\u001b[0mfiles\u001b[0m\u001b[0;34m)\u001b[0m\u001b[0;34m,\u001b[0m \u001b[0;34m**\u001b[0m\u001b[0moptions\u001b[0m\u001b[0;34m\u001b[0m\u001b[0;34m\u001b[0m\u001b[0m\n\u001b[1;32m   1232\u001b[0m         )\n\u001b[0;32m-> 1233\u001b[0;31m         \u001b[0;32mreturn\u001b[0m \u001b[0mcast\u001b[0m\u001b[0;34m(\u001b[0m\u001b[0mResponseT\u001b[0m\u001b[0;34m,\u001b[0m \u001b[0mself\u001b[0m\u001b[0;34m.\u001b[0m\u001b[0mrequest\u001b[0m\u001b[0;34m(\u001b[0m\u001b[0mcast_to\u001b[0m\u001b[0;34m,\u001b[0m \u001b[0mopts\u001b[0m\u001b[0;34m,\u001b[0m \u001b[0mstream\u001b[0m\u001b[0;34m=\u001b[0m\u001b[0mstream\u001b[0m\u001b[0;34m,\u001b[0m \u001b[0mstream_cls\u001b[0m\u001b[0;34m=\u001b[0m\u001b[0mstream_cls\u001b[0m\u001b[0;34m)\u001b[0m\u001b[0;34m)\u001b[0m\u001b[0;34m\u001b[0m\u001b[0;34m\u001b[0m\u001b[0m\n\u001b[0m\u001b[1;32m   1234\u001b[0m \u001b[0;34m\u001b[0m\u001b[0m\n\u001b[1;32m   1235\u001b[0m     def patch(\n",
      "\u001b[0;32m~/miniconda3/lib/python3.9/site-packages/openai/_base_client.py\u001b[0m in \u001b[0;36mrequest\u001b[0;34m(self, cast_to, options, remaining_retries, stream, stream_cls)\u001b[0m\n\u001b[1;32m    920\u001b[0m         \u001b[0mstream_cls\u001b[0m\u001b[0;34m:\u001b[0m \u001b[0mtype\u001b[0m\u001b[0;34m[\u001b[0m\u001b[0m_StreamT\u001b[0m\u001b[0;34m]\u001b[0m \u001b[0;34m|\u001b[0m \u001b[0;32mNone\u001b[0m \u001b[0;34m=\u001b[0m \u001b[0;32mNone\u001b[0m\u001b[0;34m,\u001b[0m\u001b[0;34m\u001b[0m\u001b[0;34m\u001b[0m\u001b[0m\n\u001b[1;32m    921\u001b[0m     ) -> ResponseT | _StreamT:\n\u001b[0;32m--> 922\u001b[0;31m         return self._request(\n\u001b[0m\u001b[1;32m    923\u001b[0m             \u001b[0mcast_to\u001b[0m\u001b[0;34m=\u001b[0m\u001b[0mcast_to\u001b[0m\u001b[0;34m,\u001b[0m\u001b[0;34m\u001b[0m\u001b[0;34m\u001b[0m\u001b[0m\n\u001b[1;32m    924\u001b[0m             \u001b[0moptions\u001b[0m\u001b[0;34m=\u001b[0m\u001b[0moptions\u001b[0m\u001b[0;34m,\u001b[0m\u001b[0;34m\u001b[0m\u001b[0;34m\u001b[0m\u001b[0m\n",
      "\u001b[0;32m~/miniconda3/lib/python3.9/site-packages/openai/_base_client.py\u001b[0m in \u001b[0;36m_request\u001b[0;34m(self, cast_to, options, remaining_retries, stream, stream_cls)\u001b[0m\n\u001b[1;32m   1013\u001b[0m             \u001b[0;32mraise\u001b[0m \u001b[0mself\u001b[0m\u001b[0;34m.\u001b[0m\u001b[0m_make_status_error_from_response\u001b[0m\u001b[0;34m(\u001b[0m\u001b[0merr\u001b[0m\u001b[0;34m.\u001b[0m\u001b[0mresponse\u001b[0m\u001b[0;34m)\u001b[0m \u001b[0;32mfrom\u001b[0m \u001b[0;32mNone\u001b[0m\u001b[0;34m\u001b[0m\u001b[0;34m\u001b[0m\u001b[0m\n\u001b[1;32m   1014\u001b[0m \u001b[0;34m\u001b[0m\u001b[0m\n\u001b[0;32m-> 1015\u001b[0;31m         return self._process_response(\n\u001b[0m\u001b[1;32m   1016\u001b[0m             \u001b[0mcast_to\u001b[0m\u001b[0;34m=\u001b[0m\u001b[0mcast_to\u001b[0m\u001b[0;34m,\u001b[0m\u001b[0;34m\u001b[0m\u001b[0;34m\u001b[0m\u001b[0m\n\u001b[1;32m   1017\u001b[0m             \u001b[0moptions\u001b[0m\u001b[0;34m=\u001b[0m\u001b[0moptions\u001b[0m\u001b[0;34m,\u001b[0m\u001b[0;34m\u001b[0m\u001b[0;34m\u001b[0m\u001b[0m\n",
      "\u001b[0;32m~/miniconda3/lib/python3.9/site-packages/openai/_base_client.py\u001b[0m in \u001b[0;36m_process_response\u001b[0;34m(self, cast_to, options, response, stream, stream_cls)\u001b[0m\n\u001b[1;32m   1107\u001b[0m             \u001b[0;32mreturn\u001b[0m \u001b[0mcast\u001b[0m\u001b[0;34m(\u001b[0m\u001b[0mResponseT\u001b[0m\u001b[0;34m,\u001b[0m \u001b[0mapi_response\u001b[0m\u001b[0;34m)\u001b[0m\u001b[0;34m\u001b[0m\u001b[0;34m\u001b[0m\u001b[0m\n\u001b[1;32m   1108\u001b[0m \u001b[0;34m\u001b[0m\u001b[0m\n\u001b[0;32m-> 1109\u001b[0;31m         \u001b[0;32mreturn\u001b[0m \u001b[0mapi_response\u001b[0m\u001b[0;34m.\u001b[0m\u001b[0mparse\u001b[0m\u001b[0;34m(\u001b[0m\u001b[0;34m)\u001b[0m\u001b[0;34m\u001b[0m\u001b[0;34m\u001b[0m\u001b[0m\n\u001b[0m\u001b[1;32m   1110\u001b[0m \u001b[0;34m\u001b[0m\u001b[0m\n\u001b[1;32m   1111\u001b[0m     def _request_api_list(\n",
      "\u001b[0;32m~/miniconda3/lib/python3.9/site-packages/openai/_response.py\u001b[0m in \u001b[0;36mparse\u001b[0;34m(self, to)\u001b[0m\n\u001b[1;32m    305\u001b[0m             \u001b[0mself\u001b[0m\u001b[0;34m.\u001b[0m\u001b[0mread\u001b[0m\u001b[0;34m(\u001b[0m\u001b[0;34m)\u001b[0m\u001b[0;34m\u001b[0m\u001b[0;34m\u001b[0m\u001b[0m\n\u001b[1;32m    306\u001b[0m \u001b[0;34m\u001b[0m\u001b[0m\n\u001b[0;32m--> 307\u001b[0;31m         \u001b[0mparsed\u001b[0m \u001b[0;34m=\u001b[0m \u001b[0mself\u001b[0m\u001b[0;34m.\u001b[0m\u001b[0m_parse\u001b[0m\u001b[0;34m(\u001b[0m\u001b[0mto\u001b[0m\u001b[0;34m=\u001b[0m\u001b[0mto\u001b[0m\u001b[0;34m)\u001b[0m\u001b[0;34m\u001b[0m\u001b[0;34m\u001b[0m\u001b[0m\n\u001b[0m\u001b[1;32m    308\u001b[0m         \u001b[0;32mif\u001b[0m \u001b[0mis_given\u001b[0m\u001b[0;34m(\u001b[0m\u001b[0mself\u001b[0m\u001b[0;34m.\u001b[0m\u001b[0m_options\u001b[0m\u001b[0;34m.\u001b[0m\u001b[0mpost_parser\u001b[0m\u001b[0;34m)\u001b[0m\u001b[0;34m:\u001b[0m\u001b[0;34m\u001b[0m\u001b[0;34m\u001b[0m\u001b[0m\n\u001b[1;32m    309\u001b[0m             \u001b[0mparsed\u001b[0m \u001b[0;34m=\u001b[0m \u001b[0mself\u001b[0m\u001b[0;34m.\u001b[0m\u001b[0m_options\u001b[0m\u001b[0;34m.\u001b[0m\u001b[0mpost_parser\u001b[0m\u001b[0;34m(\u001b[0m\u001b[0mparsed\u001b[0m\u001b[0;34m)\u001b[0m\u001b[0;34m\u001b[0m\u001b[0;34m\u001b[0m\u001b[0m\n",
      "\u001b[0;32m~/miniconda3/lib/python3.9/site-packages/openai/_response.py\u001b[0m in \u001b[0;36m_parse\u001b[0;34m(self, to)\u001b[0m\n\u001b[1;32m    208\u001b[0m \u001b[0;34m\u001b[0m\u001b[0m\n\u001b[1;32m    209\u001b[0m         \u001b[0;32mif\u001b[0m \u001b[0minspect\u001b[0m\u001b[0;34m.\u001b[0m\u001b[0misclass\u001b[0m\u001b[0;34m(\u001b[0m\u001b[0morigin\u001b[0m\u001b[0;34m)\u001b[0m \u001b[0;32mand\u001b[0m \u001b[0;32mnot\u001b[0m \u001b[0missubclass\u001b[0m\u001b[0;34m(\u001b[0m\u001b[0morigin\u001b[0m\u001b[0;34m,\u001b[0m \u001b[0mBaseModel\u001b[0m\u001b[0;34m)\u001b[0m \u001b[0;32mand\u001b[0m \u001b[0missubclass\u001b[0m\u001b[0;34m(\u001b[0m\u001b[0morigin\u001b[0m\u001b[0;34m,\u001b[0m \u001b[0mpydantic\u001b[0m\u001b[0;34m.\u001b[0m\u001b[0mBaseModel\u001b[0m\u001b[0;34m)\u001b[0m\u001b[0;34m:\u001b[0m\u001b[0;34m\u001b[0m\u001b[0;34m\u001b[0m\u001b[0m\n\u001b[0;32m--> 210\u001b[0;31m             \u001b[0;32mraise\u001b[0m \u001b[0mTypeError\u001b[0m\u001b[0;34m(\u001b[0m\u001b[0;34m\"Pydantic models must subclass our base model type, e.g. `from openai import BaseModel`\"\u001b[0m\u001b[0;34m)\u001b[0m\u001b[0;34m\u001b[0m\u001b[0;34m\u001b[0m\u001b[0m\n\u001b[0m\u001b[1;32m    211\u001b[0m \u001b[0;34m\u001b[0m\u001b[0m\n\u001b[1;32m    212\u001b[0m         if (\n",
      "\u001b[0;31mTypeError\u001b[0m: Pydantic models must subclass our base model type, e.g. `from openai import BaseModel`"
     ]
    }
   ],
   "source": [
    "hyperparameters = {\"n_epochs\": 3}\n",
    "\n",
    "ft_object = openai_finetuning.finetune_model(\n",
    "        openai_key_path=openai_key_path,\n",
    "        training_file_id=training_id,\n",
    "        hyperparameters=hyperparameters,\n",
    "        model_suffix=\"pubmed_ft1\",\n",
    "        validation_file_id=test_id)"
   ]
  },
  {
   "cell_type": "markdown",
   "id": "86ddfc9e",
   "metadata": {},
   "source": [
    "# Retrieve finetuning results files (shows loss)"
   ]
  },
  {
   "cell_type": "markdown",
   "id": "0d380dec",
   "metadata": {},
   "source": [
    "**The retrieve method gives the following finetuning object.**"
   ]
  },
  {
   "cell_type": "code",
   "execution_count": 181,
   "id": "ee0a7a54",
   "metadata": {},
   "outputs": [
    {
     "data": {
      "text/plain": [
       "FineTuningJob(id='ftjob-UFODqMiAmi8fhrSUGt66xg12', created_at=1712942228, error=Error(code=None, message=None, param=None, error=None), fine_tuned_model='ft:gpt-3.5-turbo-0125:personal:pubmed-ft1:9DEzhV1U', finished_at=1712942929, hyperparameters=Hyperparameters(n_epochs=3, batch_size=1, learning_rate_multiplier=8), model='gpt-3.5-turbo-0125', object='fine_tuning.job', organization_id='org-TiGpR8e9PD7GZN8Q5WVQSSGp', result_files=['file-OwEWi43IClCacRfe1NqBGoIe'], status='succeeded', trained_tokens=116373, training_file='file-SlWH0nzMct3JkrpTFywml1LX', validation_file='file-wTBMhZeKQ3aemQT5RDghLtcE', user_provided_suffix='pubmed_ft1', seed=1082501239, integrations=[])"
      ]
     },
     "execution_count": 181,
     "metadata": {},
     "output_type": "execute_result"
    }
   ],
   "source": [
    "# The job ID was obtained from the UI online\n",
    "ft_job_id = 'ftjob-UFODqMiAmi8fhrSUGt66xg12'\n",
    "client.fine_tuning.jobs.retrieve(ft_job_id)"
   ]
  },
  {
   "cell_type": "code",
   "execution_count": 178,
   "id": "8aaab664",
   "metadata": {},
   "outputs": [
    {
     "name": "stdout",
     "output_type": "stream",
     "text": [
      "Function setup_client complete.\n"
     ]
    }
   ],
   "source": [
    "# The job ID was obtained from the UI online\n",
    "openai_finetuning.get_finetuning_results(openai_key_path=openai_key_path,\n",
    "                                         finetuning_job_id='ftjob-UFODqMiAmi8fhrSUGt66xg12',\n",
    "                                         ft_results_path=ft_results_path)"
   ]
  },
  {
   "cell_type": "code",
   "execution_count": 9,
   "id": "cdb3f06d",
   "metadata": {},
   "outputs": [],
   "source": [
    "ft_results_df = pd.read_csv(ft_results_path,dtype={'step':'int',\n",
    "                                                   'train_loss':'float',\n",
    "                                                   'valid_loss':'float',\n",
    "                                                   'valid_mean_token_accuracy':'float'})"
   ]
  },
  {
   "cell_type": "code",
   "execution_count": 54,
   "id": "aaa68943",
   "metadata": {},
   "outputs": [
    {
     "data": {
      "text/html": [
       "<div>\n",
       "<style scoped>\n",
       "    .dataframe tbody tr th:only-of-type {\n",
       "        vertical-align: middle;\n",
       "    }\n",
       "\n",
       "    .dataframe tbody tr th {\n",
       "        vertical-align: top;\n",
       "    }\n",
       "\n",
       "    .dataframe thead th {\n",
       "        text-align: right;\n",
       "    }\n",
       "</style>\n",
       "<table border=\"1\" class=\"dataframe\">\n",
       "  <thead>\n",
       "    <tr style=\"text-align: right;\">\n",
       "      <th></th>\n",
       "      <th>step</th>\n",
       "      <th>train_loss</th>\n",
       "      <th>train_accuracy</th>\n",
       "      <th>valid_loss</th>\n",
       "      <th>valid_mean_token_accuracy</th>\n",
       "      <th>model_id</th>\n",
       "      <th>base_model</th>\n",
       "      <th>seed</th>\n",
       "      <th>hyperparameters</th>\n",
       "    </tr>\n",
       "  </thead>\n",
       "  <tbody>\n",
       "    <tr>\n",
       "      <th>9</th>\n",
       "      <td>10</td>\n",
       "      <td>0.14821</td>\n",
       "      <td>0.93976</td>\n",
       "      <td>0.29864</td>\n",
       "      <td>0.92632</td>\n",
       "      <td>ft:gpt-3.5-turbo-0125:personal:pubmed-ft1:9DEz...</td>\n",
       "      <td>gpt-3.5-turbo-0125</td>\n",
       "      <td>1082501239</td>\n",
       "      <td>Hyperparameters(n_epochs=3, batch_size=1, lear...</td>\n",
       "    </tr>\n",
       "    <tr>\n",
       "      <th>19</th>\n",
       "      <td>20</td>\n",
       "      <td>0.15401</td>\n",
       "      <td>0.97143</td>\n",
       "      <td>0.02946</td>\n",
       "      <td>1.00000</td>\n",
       "      <td>ft:gpt-3.5-turbo-0125:personal:pubmed-ft1:9DEz...</td>\n",
       "      <td>gpt-3.5-turbo-0125</td>\n",
       "      <td>1082501239</td>\n",
       "      <td>Hyperparameters(n_epochs=3, batch_size=1, lear...</td>\n",
       "    </tr>\n",
       "    <tr>\n",
       "      <th>29</th>\n",
       "      <td>30</td>\n",
       "      <td>0.01677</td>\n",
       "      <td>0.98765</td>\n",
       "      <td>0.19023</td>\n",
       "      <td>0.96815</td>\n",
       "      <td>ft:gpt-3.5-turbo-0125:personal:pubmed-ft1:9DEz...</td>\n",
       "      <td>gpt-3.5-turbo-0125</td>\n",
       "      <td>1082501239</td>\n",
       "      <td>Hyperparameters(n_epochs=3, batch_size=1, lear...</td>\n",
       "    </tr>\n",
       "    <tr>\n",
       "      <th>39</th>\n",
       "      <td>40</td>\n",
       "      <td>0.00007</td>\n",
       "      <td>1.00000</td>\n",
       "      <td>0.50135</td>\n",
       "      <td>0.95789</td>\n",
       "      <td>ft:gpt-3.5-turbo-0125:personal:pubmed-ft1:9DEz...</td>\n",
       "      <td>gpt-3.5-turbo-0125</td>\n",
       "      <td>1082501239</td>\n",
       "      <td>Hyperparameters(n_epochs=3, batch_size=1, lear...</td>\n",
       "    </tr>\n",
       "    <tr>\n",
       "      <th>49</th>\n",
       "      <td>50</td>\n",
       "      <td>0.00031</td>\n",
       "      <td>1.00000</td>\n",
       "      <td>0.13132</td>\n",
       "      <td>0.97143</td>\n",
       "      <td>ft:gpt-3.5-turbo-0125:personal:pubmed-ft1:9DEz...</td>\n",
       "      <td>gpt-3.5-turbo-0125</td>\n",
       "      <td>1082501239</td>\n",
       "      <td>Hyperparameters(n_epochs=3, batch_size=1, lear...</td>\n",
       "    </tr>\n",
       "    <tr>\n",
       "      <th>59</th>\n",
       "      <td>60</td>\n",
       "      <td>0.06616</td>\n",
       "      <td>0.97619</td>\n",
       "      <td>0.46730</td>\n",
       "      <td>0.90164</td>\n",
       "      <td>ft:gpt-3.5-turbo-0125:personal:pubmed-ft1:9DEz...</td>\n",
       "      <td>gpt-3.5-turbo-0125</td>\n",
       "      <td>1082501239</td>\n",
       "      <td>Hyperparameters(n_epochs=3, batch_size=1, lear...</td>\n",
       "    </tr>\n",
       "    <tr>\n",
       "      <th>69</th>\n",
       "      <td>70</td>\n",
       "      <td>0.07903</td>\n",
       "      <td>0.97727</td>\n",
       "      <td>0.14440</td>\n",
       "      <td>0.98039</td>\n",
       "      <td>ft:gpt-3.5-turbo-0125:personal:pubmed-ft1:9DEz...</td>\n",
       "      <td>gpt-3.5-turbo-0125</td>\n",
       "      <td>1082501239</td>\n",
       "      <td>Hyperparameters(n_epochs=3, batch_size=1, lear...</td>\n",
       "    </tr>\n",
       "    <tr>\n",
       "      <th>79</th>\n",
       "      <td>80</td>\n",
       "      <td>0.00035</td>\n",
       "      <td>1.00000</td>\n",
       "      <td>0.24976</td>\n",
       "      <td>0.96970</td>\n",
       "      <td>ft:gpt-3.5-turbo-0125:personal:pubmed-ft1:9DEz...</td>\n",
       "      <td>gpt-3.5-turbo-0125</td>\n",
       "      <td>1082501239</td>\n",
       "      <td>Hyperparameters(n_epochs=3, batch_size=1, lear...</td>\n",
       "    </tr>\n",
       "    <tr>\n",
       "      <th>89</th>\n",
       "      <td>90</td>\n",
       "      <td>0.27230</td>\n",
       "      <td>0.96591</td>\n",
       "      <td>0.15812</td>\n",
       "      <td>0.97619</td>\n",
       "      <td>ft:gpt-3.5-turbo-0125:personal:pubmed-ft1:9DEz...</td>\n",
       "      <td>gpt-3.5-turbo-0125</td>\n",
       "      <td>1082501239</td>\n",
       "      <td>Hyperparameters(n_epochs=3, batch_size=1, lear...</td>\n",
       "    </tr>\n",
       "    <tr>\n",
       "      <th>99</th>\n",
       "      <td>100</td>\n",
       "      <td>0.00000</td>\n",
       "      <td>1.00000</td>\n",
       "      <td>0.03009</td>\n",
       "      <td>0.97872</td>\n",
       "      <td>ft:gpt-3.5-turbo-0125:personal:pubmed-ft1:9DEz...</td>\n",
       "      <td>gpt-3.5-turbo-0125</td>\n",
       "      <td>1082501239</td>\n",
       "      <td>Hyperparameters(n_epochs=3, batch_size=1, lear...</td>\n",
       "    </tr>\n",
       "    <tr>\n",
       "      <th>109</th>\n",
       "      <td>110</td>\n",
       "      <td>1.14173</td>\n",
       "      <td>0.91111</td>\n",
       "      <td>0.24408</td>\n",
       "      <td>0.95092</td>\n",
       "      <td>ft:gpt-3.5-turbo-0125:personal:pubmed-ft1:9DEz...</td>\n",
       "      <td>gpt-3.5-turbo-0125</td>\n",
       "      <td>1082501239</td>\n",
       "      <td>Hyperparameters(n_epochs=3, batch_size=1, lear...</td>\n",
       "    </tr>\n",
       "    <tr>\n",
       "      <th>119</th>\n",
       "      <td>120</td>\n",
       "      <td>0.00001</td>\n",
       "      <td>1.00000</td>\n",
       "      <td>0.32452</td>\n",
       "      <td>0.94118</td>\n",
       "      <td>ft:gpt-3.5-turbo-0125:personal:pubmed-ft1:9DEz...</td>\n",
       "      <td>gpt-3.5-turbo-0125</td>\n",
       "      <td>1082501239</td>\n",
       "      <td>Hyperparameters(n_epochs=3, batch_size=1, lear...</td>\n",
       "    </tr>\n",
       "    <tr>\n",
       "      <th>129</th>\n",
       "      <td>130</td>\n",
       "      <td>0.10831</td>\n",
       "      <td>0.98235</td>\n",
       "      <td>0.03928</td>\n",
       "      <td>0.99713</td>\n",
       "      <td>ft:gpt-3.5-turbo-0125:personal:pubmed-ft1:9DEz...</td>\n",
       "      <td>gpt-3.5-turbo-0125</td>\n",
       "      <td>1082501239</td>\n",
       "      <td>Hyperparameters(n_epochs=3, batch_size=1, lear...</td>\n",
       "    </tr>\n",
       "    <tr>\n",
       "      <th>139</th>\n",
       "      <td>140</td>\n",
       "      <td>0.00000</td>\n",
       "      <td>1.00000</td>\n",
       "      <td>0.00000</td>\n",
       "      <td>1.00000</td>\n",
       "      <td>ft:gpt-3.5-turbo-0125:personal:pubmed-ft1:9DEz...</td>\n",
       "      <td>gpt-3.5-turbo-0125</td>\n",
       "      <td>1082501239</td>\n",
       "      <td>Hyperparameters(n_epochs=3, batch_size=1, lear...</td>\n",
       "    </tr>\n",
       "    <tr>\n",
       "      <th>149</th>\n",
       "      <td>150</td>\n",
       "      <td>0.00000</td>\n",
       "      <td>1.00000</td>\n",
       "      <td>0.00159</td>\n",
       "      <td>1.00000</td>\n",
       "      <td>ft:gpt-3.5-turbo-0125:personal:pubmed-ft1:9DEz...</td>\n",
       "      <td>gpt-3.5-turbo-0125</td>\n",
       "      <td>1082501239</td>\n",
       "      <td>Hyperparameters(n_epochs=3, batch_size=1, lear...</td>\n",
       "    </tr>\n",
       "    <tr>\n",
       "      <th>159</th>\n",
       "      <td>160</td>\n",
       "      <td>0.00000</td>\n",
       "      <td>1.00000</td>\n",
       "      <td>0.00000</td>\n",
       "      <td>1.00000</td>\n",
       "      <td>ft:gpt-3.5-turbo-0125:personal:pubmed-ft1:9DEz...</td>\n",
       "      <td>gpt-3.5-turbo-0125</td>\n",
       "      <td>1082501239</td>\n",
       "      <td>Hyperparameters(n_epochs=3, batch_size=1, lear...</td>\n",
       "    </tr>\n",
       "    <tr>\n",
       "      <th>169</th>\n",
       "      <td>170</td>\n",
       "      <td>0.00001</td>\n",
       "      <td>1.00000</td>\n",
       "      <td>0.44724</td>\n",
       "      <td>0.95506</td>\n",
       "      <td>ft:gpt-3.5-turbo-0125:personal:pubmed-ft1:9DEz...</td>\n",
       "      <td>gpt-3.5-turbo-0125</td>\n",
       "      <td>1082501239</td>\n",
       "      <td>Hyperparameters(n_epochs=3, batch_size=1, lear...</td>\n",
       "    </tr>\n",
       "  </tbody>\n",
       "</table>\n",
       "</div>"
      ],
      "text/plain": [
       "     step  train_loss  train_accuracy  valid_loss  valid_mean_token_accuracy   \n",
       "9      10     0.14821         0.93976     0.29864                    0.92632  \\\n",
       "19     20     0.15401         0.97143     0.02946                    1.00000   \n",
       "29     30     0.01677         0.98765     0.19023                    0.96815   \n",
       "39     40     0.00007         1.00000     0.50135                    0.95789   \n",
       "49     50     0.00031         1.00000     0.13132                    0.97143   \n",
       "59     60     0.06616         0.97619     0.46730                    0.90164   \n",
       "69     70     0.07903         0.97727     0.14440                    0.98039   \n",
       "79     80     0.00035         1.00000     0.24976                    0.96970   \n",
       "89     90     0.27230         0.96591     0.15812                    0.97619   \n",
       "99    100     0.00000         1.00000     0.03009                    0.97872   \n",
       "109   110     1.14173         0.91111     0.24408                    0.95092   \n",
       "119   120     0.00001         1.00000     0.32452                    0.94118   \n",
       "129   130     0.10831         0.98235     0.03928                    0.99713   \n",
       "139   140     0.00000         1.00000     0.00000                    1.00000   \n",
       "149   150     0.00000         1.00000     0.00159                    1.00000   \n",
       "159   160     0.00000         1.00000     0.00000                    1.00000   \n",
       "169   170     0.00001         1.00000     0.44724                    0.95506   \n",
       "\n",
       "                                              model_id          base_model   \n",
       "9    ft:gpt-3.5-turbo-0125:personal:pubmed-ft1:9DEz...  gpt-3.5-turbo-0125  \\\n",
       "19   ft:gpt-3.5-turbo-0125:personal:pubmed-ft1:9DEz...  gpt-3.5-turbo-0125   \n",
       "29   ft:gpt-3.5-turbo-0125:personal:pubmed-ft1:9DEz...  gpt-3.5-turbo-0125   \n",
       "39   ft:gpt-3.5-turbo-0125:personal:pubmed-ft1:9DEz...  gpt-3.5-turbo-0125   \n",
       "49   ft:gpt-3.5-turbo-0125:personal:pubmed-ft1:9DEz...  gpt-3.5-turbo-0125   \n",
       "59   ft:gpt-3.5-turbo-0125:personal:pubmed-ft1:9DEz...  gpt-3.5-turbo-0125   \n",
       "69   ft:gpt-3.5-turbo-0125:personal:pubmed-ft1:9DEz...  gpt-3.5-turbo-0125   \n",
       "79   ft:gpt-3.5-turbo-0125:personal:pubmed-ft1:9DEz...  gpt-3.5-turbo-0125   \n",
       "89   ft:gpt-3.5-turbo-0125:personal:pubmed-ft1:9DEz...  gpt-3.5-turbo-0125   \n",
       "99   ft:gpt-3.5-turbo-0125:personal:pubmed-ft1:9DEz...  gpt-3.5-turbo-0125   \n",
       "109  ft:gpt-3.5-turbo-0125:personal:pubmed-ft1:9DEz...  gpt-3.5-turbo-0125   \n",
       "119  ft:gpt-3.5-turbo-0125:personal:pubmed-ft1:9DEz...  gpt-3.5-turbo-0125   \n",
       "129  ft:gpt-3.5-turbo-0125:personal:pubmed-ft1:9DEz...  gpt-3.5-turbo-0125   \n",
       "139  ft:gpt-3.5-turbo-0125:personal:pubmed-ft1:9DEz...  gpt-3.5-turbo-0125   \n",
       "149  ft:gpt-3.5-turbo-0125:personal:pubmed-ft1:9DEz...  gpt-3.5-turbo-0125   \n",
       "159  ft:gpt-3.5-turbo-0125:personal:pubmed-ft1:9DEz...  gpt-3.5-turbo-0125   \n",
       "169  ft:gpt-3.5-turbo-0125:personal:pubmed-ft1:9DEz...  gpt-3.5-turbo-0125   \n",
       "\n",
       "           seed                                    hyperparameters  \n",
       "9    1082501239  Hyperparameters(n_epochs=3, batch_size=1, lear...  \n",
       "19   1082501239  Hyperparameters(n_epochs=3, batch_size=1, lear...  \n",
       "29   1082501239  Hyperparameters(n_epochs=3, batch_size=1, lear...  \n",
       "39   1082501239  Hyperparameters(n_epochs=3, batch_size=1, lear...  \n",
       "49   1082501239  Hyperparameters(n_epochs=3, batch_size=1, lear...  \n",
       "59   1082501239  Hyperparameters(n_epochs=3, batch_size=1, lear...  \n",
       "69   1082501239  Hyperparameters(n_epochs=3, batch_size=1, lear...  \n",
       "79   1082501239  Hyperparameters(n_epochs=3, batch_size=1, lear...  \n",
       "89   1082501239  Hyperparameters(n_epochs=3, batch_size=1, lear...  \n",
       "99   1082501239  Hyperparameters(n_epochs=3, batch_size=1, lear...  \n",
       "109  1082501239  Hyperparameters(n_epochs=3, batch_size=1, lear...  \n",
       "119  1082501239  Hyperparameters(n_epochs=3, batch_size=1, lear...  \n",
       "129  1082501239  Hyperparameters(n_epochs=3, batch_size=1, lear...  \n",
       "139  1082501239  Hyperparameters(n_epochs=3, batch_size=1, lear...  \n",
       "149  1082501239  Hyperparameters(n_epochs=3, batch_size=1, lear...  \n",
       "159  1082501239  Hyperparameters(n_epochs=3, batch_size=1, lear...  \n",
       "169  1082501239  Hyperparameters(n_epochs=3, batch_size=1, lear...  "
      ]
     },
     "execution_count": 54,
     "metadata": {},
     "output_type": "execute_result"
    }
   ],
   "source": [
    "ft_results_df[~ft_results_df['valid_mean_token_accuracy'].isna()]"
   ]
  },
  {
   "cell_type": "markdown",
   "id": "c67c2b30",
   "metadata": {},
   "source": [
    "**Total 3 epochs x 57 training examples = 171 steps.**"
   ]
  },
  {
   "cell_type": "code",
   "execution_count": 11,
   "id": "d22cacd9",
   "metadata": {},
   "outputs": [
    {
     "data": {
      "text/plain": [
       "171"
      ]
     },
     "execution_count": 11,
     "metadata": {},
     "output_type": "execute_result"
    }
   ],
   "source": [
    "ft_results_df['step'].max()"
   ]
  },
  {
   "cell_type": "markdown",
   "id": "7e9c6466",
   "metadata": {},
   "source": [
    "## Training and validation loss during finetuning"
   ]
  },
  {
   "cell_type": "markdown",
   "id": "408d8aaf",
   "metadata": {},
   "source": [
    "**Restructure the df for plotting.**"
   ]
  },
  {
   "cell_type": "code",
   "execution_count": 29,
   "id": "bf2674ea",
   "metadata": {},
   "outputs": [],
   "source": [
    "ft_results_df2 = pd.melt(ft_results_df[~ft_results_df['valid_loss'].isna()],id_vars=['step'],value_vars=['train_loss','valid_loss'])"
   ]
  },
  {
   "cell_type": "code",
   "execution_count": 33,
   "id": "a7a8fcfb",
   "metadata": {},
   "outputs": [
    {
     "data": {
      "text/html": [
       "<div>\n",
       "<style scoped>\n",
       "    .dataframe tbody tr th:only-of-type {\n",
       "        vertical-align: middle;\n",
       "    }\n",
       "\n",
       "    .dataframe tbody tr th {\n",
       "        vertical-align: top;\n",
       "    }\n",
       "\n",
       "    .dataframe thead th {\n",
       "        text-align: right;\n",
       "    }\n",
       "</style>\n",
       "<table border=\"1\" class=\"dataframe\">\n",
       "  <thead>\n",
       "    <tr style=\"text-align: right;\">\n",
       "      <th></th>\n",
       "      <th>step</th>\n",
       "      <th>variable</th>\n",
       "      <th>value</th>\n",
       "    </tr>\n",
       "  </thead>\n",
       "  <tbody>\n",
       "    <tr>\n",
       "      <th>0</th>\n",
       "      <td>10</td>\n",
       "      <td>train_loss</td>\n",
       "      <td>0.14821</td>\n",
       "    </tr>\n",
       "    <tr>\n",
       "      <th>1</th>\n",
       "      <td>20</td>\n",
       "      <td>train_loss</td>\n",
       "      <td>0.15401</td>\n",
       "    </tr>\n",
       "    <tr>\n",
       "      <th>2</th>\n",
       "      <td>30</td>\n",
       "      <td>train_loss</td>\n",
       "      <td>0.01677</td>\n",
       "    </tr>\n",
       "    <tr>\n",
       "      <th>3</th>\n",
       "      <td>40</td>\n",
       "      <td>train_loss</td>\n",
       "      <td>0.00007</td>\n",
       "    </tr>\n",
       "    <tr>\n",
       "      <th>4</th>\n",
       "      <td>50</td>\n",
       "      <td>train_loss</td>\n",
       "      <td>0.00031</td>\n",
       "    </tr>\n",
       "  </tbody>\n",
       "</table>\n",
       "</div>"
      ],
      "text/plain": [
       "   step    variable    value\n",
       "0    10  train_loss  0.14821\n",
       "1    20  train_loss  0.15401\n",
       "2    30  train_loss  0.01677\n",
       "3    40  train_loss  0.00007\n",
       "4    50  train_loss  0.00031"
      ]
     },
     "execution_count": 33,
     "metadata": {},
     "output_type": "execute_result"
    }
   ],
   "source": [
    "ft_results_df2.head()"
   ]
  },
  {
   "cell_type": "code",
   "execution_count": 52,
   "id": "c29211ba",
   "metadata": {
    "scrolled": false
   },
   "outputs": [
    {
     "data": {
      "image/png": "[encoded data removed]",
      "text/plain": [
       "<Figure size 720x432 with 1 Axes>"
      ]
     },
     "metadata": {
      "needs_background": "light"
     },
     "output_type": "display_data"
    }
   ],
   "source": [
    "plt.figure(figsize=(10, 6))\n",
    "sns.lineplot(x='step',\n",
    "             y='value',\n",
    "             hue='variable',\n",
    "             data=ft_results_df2[~ft_results_df2['value'].isna()])\n",
    "plt.xticks(fontsize=12)\n",
    "plt.yticks(fontsize=12)\n",
    "plt.title('Training and validation loss at every 10 steps',fontsize=15)\n",
    "plt.xlabel('Step',fontsize=15)\n",
    "plt.ylabel('Loss',fontsize=15)\n",
    "plt.show()"
   ]
  },
  {
   "cell_type": "markdown",
   "id": "7beb3cec",
   "metadata": {},
   "source": [
    "## Validation token accuracy\n",
    "validation_token_accuracy: the percentage of tokens in the validation batch that were correctly predicted by the model."
   ]
  },
  {
   "cell_type": "code",
   "execution_count": 59,
   "id": "8fbb6590",
   "metadata": {},
   "outputs": [],
   "source": [
    "ft_results_df3 = pd.melt(ft_results_df[~ft_results_df['valid_mean_token_accuracy'].isna()],id_vars=['step'],value_vars=['train_accuracy','valid_mean_token_accuracy'])\n"
   ]
  },
  {
   "cell_type": "code",
   "execution_count": 61,
   "id": "1aa867e5",
   "metadata": {},
   "outputs": [
    {
     "data": {
      "image/png": "[encoded data removed]",
      "text/plain": [
       "<Figure size 720x432 with 1 Axes>"
      ]
     },
     "metadata": {
      "needs_background": "light"
     },
     "output_type": "display_data"
    }
   ],
   "source": [
    "plt.figure(figsize=(10, 6))\n",
    "sns.scatterplot(x='step',\n",
    "             y='value',\n",
    "             hue='variable',\n",
    "             data=ft_results_df3)\n",
    "plt.xticks(fontsize=12)\n",
    "plt.yticks(fontsize=12)\n",
    "plt.title('Token accuracy at every 10 steps',fontsize=15)\n",
    "plt.xlabel('Step',fontsize=15)\n",
    "plt.ylabel('Token accuracy',fontsize=15)\n",
    "plt.show()"
   ]
  },
  {
   "cell_type": "markdown",
   "id": "d036572b",
   "metadata": {},
   "source": [
    "# Use the fine tuned model for inference on test set"
   ]
  },
  {
   "cell_type": "code",
   "execution_count": 50,
   "id": "6ef549de",
   "metadata": {},
   "outputs": [],
   "source": [
    "test_df = utils.read_data_from_sheets(credentials_path=credentials_path,\n",
    "                                          sheets_filename='pubmed_manual_curated',\n",
    "                                          sheets_sheetname='run_1',\n",
    "                                          start_cell='A1',\n",
    "                                          end_cell='A57')"
   ]
  },
  {
   "cell_type": "code",
   "execution_count": 51,
   "id": "77f64300",
   "metadata": {},
   "outputs": [],
   "source": [
    "test_ids = openai_finetuning.get_test_set_ids(test_df,\n",
    "                                              id_column='pmid')"
   ]
  },
  {
   "cell_type": "code",
   "execution_count": 53,
   "id": "214bd4cc",
   "metadata": {},
   "outputs": [],
   "source": [
    "pubmed_df = pd.read_csv(pubmed_path,dtype={'pmid':'str'})\n",
    "test_df2 = pubmed_df[pubmed_df['pmid'].isin(test_ids)][['pmid','abstract']].copy()"
   ]
  },
  {
   "cell_type": "code",
   "execution_count": 56,
   "id": "7e05be9f",
   "metadata": {},
   "outputs": [
    {
     "data": {
      "text/html": [
       "<div>\n",
       "<style scoped>\n",
       "    .dataframe tbody tr th:only-of-type {\n",
       "        vertical-align: middle;\n",
       "    }\n",
       "\n",
       "    .dataframe tbody tr th {\n",
       "        vertical-align: top;\n",
       "    }\n",
       "\n",
       "    .dataframe thead th {\n",
       "        text-align: right;\n",
       "    }\n",
       "</style>\n",
       "<table border=\"1\" class=\"dataframe\">\n",
       "  <thead>\n",
       "    <tr style=\"text-align: right;\">\n",
       "      <th></th>\n",
       "      <th>pmid</th>\n",
       "      <th>abstract</th>\n",
       "    </tr>\n",
       "  </thead>\n",
       "  <tbody>\n",
       "    <tr>\n",
       "      <th>2</th>\n",
       "      <td>37147285</td>\n",
       "      <td>Failure to achieve complete elimination of tri...</td>\n",
       "    </tr>\n",
       "    <tr>\n",
       "      <th>10</th>\n",
       "      <td>36841821</td>\n",
       "      <td>Pellino-1 (PELI1) is an E3 ubiquitin ligase ac...</td>\n",
       "    </tr>\n",
       "    <tr>\n",
       "      <th>16</th>\n",
       "      <td>37264081</td>\n",
       "      <td>Activation of the PI3K-mTOR pathway is central...</td>\n",
       "    </tr>\n",
       "    <tr>\n",
       "      <th>20</th>\n",
       "      <td>37141396</td>\n",
       "      <td>Triple-negative breast cancers (TNBC) represen...</td>\n",
       "    </tr>\n",
       "    <tr>\n",
       "      <th>28</th>\n",
       "      <td>37091185</td>\n",
       "      <td>[INTRODUCTION]Brain metastasis is the terminal...</td>\n",
       "    </tr>\n",
       "  </tbody>\n",
       "</table>\n",
       "</div>"
      ],
      "text/plain": [
       "        pmid                                           abstract\n",
       "2   37147285  Failure to achieve complete elimination of tri...\n",
       "10  36841821  Pellino-1 (PELI1) is an E3 ubiquitin ligase ac...\n",
       "16  37264081  Activation of the PI3K-mTOR pathway is central...\n",
       "20  37141396  Triple-negative breast cancers (TNBC) represen...\n",
       "28  37091185  [INTRODUCTION]Brain metastasis is the terminal..."
      ]
     },
     "execution_count": 56,
     "metadata": {},
     "output_type": "execute_result"
    }
   ],
   "source": [
    "test_df2.head()"
   ]
  },
  {
   "cell_type": "code",
   "execution_count": 58,
   "id": "65926009",
   "metadata": {},
   "outputs": [
    {
     "name": "stdout",
     "output_type": "stream",
     "text": [
      "\tBase prompt messages loaded.\n",
      "\tNecessary columns present in the input df.\n",
      "Function setup_client complete.\n",
      "\tClient setup complete.\n",
      "\tProcessing abstracts through the API.\n",
      "Function process_pubmed_data complete in 0:00:59.513211. This run costed $0.07.\n"
     ]
    }
   ],
   "source": [
    "ft_completions = openai_api.process_pubmed_data(\n",
    "                        system_path=system_path,\n",
    "                        user_path=ft_user_path_2,\n",
    "                        data_df1=test_df2,\n",
    "                        openai_key_path=openai_key_path,\n",
    "                        seed=1,\n",
    "                        temperature=0.0,\n",
    "                        model='ft:gpt-3.5-turbo-0125:personal:pubmed-ft1:9DEzhV1U',\n",
    "                        total_tokens=11800,\n",
    "                        cost_per_input_token=3e-06,\n",
    "                        cost_per_output_token=6e-06)"
   ]
  },
  {
   "cell_type": "markdown",
   "id": "81188e30",
   "metadata": {},
   "source": [
    "**Save the completions dictionary as a json.**"
   ]
  },
  {
   "cell_type": "code",
   "execution_count": 61,
   "id": "b86ed169",
   "metadata": {},
   "outputs": [],
   "source": [
    "with open(ft_completions_path, \"w\") as ft_file:\n",
    "    json.dump(ft_completions, ft_file)"
   ]
  },
  {
   "cell_type": "markdown",
   "id": "cba75613",
   "metadata": {},
   "source": [
    "**Extract information from the completions endpoint json into a df.**"
   ]
  },
  {
   "cell_type": "code",
   "execution_count": 78,
   "id": "5206dd47",
   "metadata": {},
   "outputs": [],
   "source": [
    "ft_ner_df = openai_finetuning.get_df_from_completions(ft_completions)"
   ]
  },
  {
   "cell_type": "code",
   "execution_count": 81,
   "id": "c569779e",
   "metadata": {},
   "outputs": [
    {
     "data": {
      "text/plain": [
       "30"
      ]
     },
     "execution_count": 81,
     "metadata": {},
     "output_type": "execute_result"
    }
   ],
   "source": [
    "ft_ner_df['pmid'].nunique()"
   ]
  },
  {
   "cell_type": "markdown",
   "id": "3770f0ac",
   "metadata": {},
   "source": [
    "**Save the results as a CSV.**"
   ]
  },
  {
   "cell_type": "code",
   "execution_count": 83,
   "id": "e727a6fa",
   "metadata": {},
   "outputs": [],
   "source": [
    "ft_ner_df.to_csv(ft_ner_path,index=False)"
   ]
  },
  {
   "cell_type": "markdown",
   "id": "606c614b",
   "metadata": {},
   "source": [
    "**Write the data to Google Sheets.**"
   ]
  },
  {
   "cell_type": "code",
   "execution_count": 84,
   "id": "5cebca7f",
   "metadata": {},
   "outputs": [],
   "source": [
    "ft_ner_df2 = ft_ner_df.copy()\n",
    "for col in ft_ner_df2.columns:\n",
    "    \n",
    "    ft_ner_df2[col] = ft_ner_df2[col].astype('str')"
   ]
  },
  {
   "cell_type": "code",
   "execution_count": 87,
   "id": "91c8a29d",
   "metadata": {},
   "outputs": [],
   "source": [
    "ft_columns_to_write = ['pmid','drug_name','direct_target','drug-direct_target_interaction','clinical_trials_id']\n",
    "\n",
    "utils.write_data_to_sheets(df=ft_ner_df2,\n",
    "                           credentials_path=credentials_path,\n",
    "                           sheets_filename='pubmed_manual_curated',\n",
    "                           sheets_sheetname='finetuned_gpt3.5_run_3',\n",
    "                           columns_to_write=ft_columns_to_write)"
   ]
  },
  {
   "cell_type": "code",
   "execution_count": 89,
   "id": "a32881fa",
   "metadata": {},
   "outputs": [
    {
     "data": {
      "text/plain": [
       "array(['[INTRODUCTION]D-1553 (garsorasib) is a potent and selective oral KRAS[METHODS]Patients with KRAS G12C-mutated NSCLC have administrated D-1553 600 mg orally once daily, 800 mg once daily, 1200 mg once daily, 400 mg twice a day, or 600 mg twice a day in dose escalation. In dose-expansion, all patients received 600 mg twice a day. The safety, pharmacokinetics, and efficacy of D-1553 were evaluated.[RESULTS]Among a total of 79 treated patients, 75 patients (94.9%) reported treatment-related adverse events with 30 patients experiencing grade 3 or 4 events (38.0%). Most of the adverse events were manageable and the patients tolerated the study treatment well. Among 74 patients assessable for efficacy analysis, 30 patients had a partial response and 38 had stable disease with a confirmed objective response rate (ORR) and disease control rate (DCR) of 40.5% and 91.9%, respectively. The median progression-free survival was 8.2 months, and the median duration of response was 7.1 months. Among 62 patients assessable for response at the recommended phase 2 dose, partial response occurred in 24 patients (ORR, 38.7%) and stable disease in 32 patients (DCR, 90.3%). The median progression-free survival and duration of response were 7.6 months and 6.9 months, respectively. In patients with brain metastasis, ORR and DCR were 17% and 100%, respectively.[CONCLUSIONS]D-1553 represents a promising therapeutic option for patients with KRAS G12C-mutated NSCLC with a well-tolerated safety profile and encouraging antitumor activity.'],\n",
       "      dtype=object)"
      ]
     },
     "execution_count": 89,
     "metadata": {},
     "output_type": "execute_result"
    }
   ],
   "source": [
    "test_df2[test_df2['pmid']=='36948246']['abstract'].values"
   ]
  },
  {
   "cell_type": "markdown",
   "id": "1bc77510",
   "metadata": {},
   "source": [
    "# Evaluation"
   ]
  },
  {
   "cell_type": "markdown",
   "id": "88475ec0",
   "metadata": {},
   "source": [
    "## Prepare model results and ground truth results"
   ]
  },
  {
   "cell_type": "markdown",
   "id": "ee403a1d",
   "metadata": {},
   "source": [
    "**Entities extracted by the finetuned model.**"
   ]
  },
  {
   "cell_type": "code",
   "execution_count": 9,
   "id": "3dd5ff1b",
   "metadata": {},
   "outputs": [],
   "source": [
    "ft_ner_df = pd.read_csv(ft_ner_path,dtype={'pmid':'str'})"
   ]
  },
  {
   "cell_type": "code",
   "execution_count": 11,
   "id": "1fb2a104",
   "metadata": {
    "scrolled": false
   },
   "outputs": [],
   "source": [
    "ft_ner_df2 = ft_ner_df[['pmid','drug_name','direct_target','drug-direct_target_interaction','clinical_trials_id']].copy()"
   ]
  },
  {
   "cell_type": "code",
   "execution_count": 27,
   "id": "9ecd4dc1",
   "metadata": {},
   "outputs": [
    {
     "data": {
      "text/html": [
       "<div>\n",
       "<style scoped>\n",
       "    .dataframe tbody tr th:only-of-type {\n",
       "        vertical-align: middle;\n",
       "    }\n",
       "\n",
       "    .dataframe tbody tr th {\n",
       "        vertical-align: top;\n",
       "    }\n",
       "\n",
       "    .dataframe thead th {\n",
       "        text-align: right;\n",
       "    }\n",
       "</style>\n",
       "<table border=\"1\" class=\"dataframe\">\n",
       "  <thead>\n",
       "    <tr style=\"text-align: right;\">\n",
       "      <th></th>\n",
       "      <th>pmid</th>\n",
       "      <th>drug_name</th>\n",
       "      <th>direct_target</th>\n",
       "      <th>drug-direct_target_interaction</th>\n",
       "      <th>clinical_trials_id</th>\n",
       "    </tr>\n",
       "  </thead>\n",
       "  <tbody>\n",
       "    <tr>\n",
       "      <th>0</th>\n",
       "      <td>37147285</td>\n",
       "      <td>Z839878730 (Z8)</td>\n",
       "      <td>KK-LC-1</td>\n",
       "      <td>inhibitor</td>\n",
       "      <td>NaN</td>\n",
       "    </tr>\n",
       "    <tr>\n",
       "      <th>1</th>\n",
       "      <td>36841821</td>\n",
       "      <td>S62</td>\n",
       "      <td>PELI1/EGFR</td>\n",
       "      <td>disruptor</td>\n",
       "      <td>NaN</td>\n",
       "    </tr>\n",
       "    <tr>\n",
       "      <th>2</th>\n",
       "      <td>37264081</td>\n",
       "      <td>RMC-6272</td>\n",
       "      <td>mTORC1</td>\n",
       "      <td>inhibitor</td>\n",
       "      <td>NaN</td>\n",
       "    </tr>\n",
       "    <tr>\n",
       "      <th>3</th>\n",
       "      <td>37264081</td>\n",
       "      <td>everolimus</td>\n",
       "      <td>mTORC1</td>\n",
       "      <td>inhibitor</td>\n",
       "      <td>NaN</td>\n",
       "    </tr>\n",
       "    <tr>\n",
       "      <th>4</th>\n",
       "      <td>37141396</td>\n",
       "      <td>pralsetinib (BLU-667)</td>\n",
       "      <td>RET</td>\n",
       "      <td>inhibitor</td>\n",
       "      <td>NaN</td>\n",
       "    </tr>\n",
       "  </tbody>\n",
       "</table>\n",
       "</div>"
      ],
      "text/plain": [
       "       pmid              drug_name direct_target   \n",
       "0  37147285        Z839878730 (Z8)       KK-LC-1  \\\n",
       "1  36841821                    S62    PELI1/EGFR   \n",
       "2  37264081               RMC-6272        mTORC1   \n",
       "3  37264081             everolimus        mTORC1   \n",
       "4  37141396  pralsetinib (BLU-667)           RET   \n",
       "\n",
       "  drug-direct_target_interaction clinical_trials_id  \n",
       "0                      inhibitor                NaN  \n",
       "1                      disruptor                NaN  \n",
       "2                      inhibitor                NaN  \n",
       "3                      inhibitor                NaN  \n",
       "4                      inhibitor                NaN  "
      ]
     },
     "execution_count": 27,
     "metadata": {},
     "output_type": "execute_result"
    }
   ],
   "source": [
    "ft_ner_df2.head()"
   ]
  },
  {
   "cell_type": "code",
   "execution_count": 118,
   "id": "c335decb",
   "metadata": {},
   "outputs": [
    {
     "data": {
      "text/plain": [
       "30"
      ]
     },
     "execution_count": 118,
     "metadata": {},
     "output_type": "execute_result"
    }
   ],
   "source": [
    "ft_ner_df2['pmid'].nunique()"
   ]
  },
  {
   "cell_type": "markdown",
   "id": "ec0b44e2",
   "metadata": {},
   "source": [
    "**Manually curated, ground truth data.**"
   ]
  },
  {
   "cell_type": "code",
   "execution_count": 31,
   "id": "6c91973b",
   "metadata": {},
   "outputs": [],
   "source": [
    "gt_df = utils.read_data_from_sheets(credentials_path=credentials_path,\n",
    "                                    sheets_filename='pubmed_manual_curated',\n",
    "                                    sheets_sheetname='gpt4_run_2',\n",
    "                                    start_cell='A1',\n",
    "                                    end_cell='E173')"
   ]
  },
  {
   "cell_type": "markdown",
   "id": "4e554822",
   "metadata": {},
   "source": [
    "**Select only test IDs of interest. This sheet has data for all IDs including the ones used for training.**"
   ]
  },
  {
   "cell_type": "code",
   "execution_count": 119,
   "id": "2825b879",
   "metadata": {},
   "outputs": [],
   "source": [
    "pmids = ft_ner_df2['pmid'].unique()"
   ]
  },
  {
   "cell_type": "code",
   "execution_count": 124,
   "id": "daf0c39f",
   "metadata": {},
   "outputs": [],
   "source": [
    "gt_df2 = gt_df[gt_df['pmid'].isin(pmids)].copy()"
   ]
  },
  {
   "cell_type": "code",
   "execution_count": 125,
   "id": "1459788b",
   "metadata": {},
   "outputs": [
    {
     "data": {
      "text/html": [
       "<div>\n",
       "<style scoped>\n",
       "    .dataframe tbody tr th:only-of-type {\n",
       "        vertical-align: middle;\n",
       "    }\n",
       "\n",
       "    .dataframe tbody tr th {\n",
       "        vertical-align: top;\n",
       "    }\n",
       "\n",
       "    .dataframe thead th {\n",
       "        text-align: right;\n",
       "    }\n",
       "</style>\n",
       "<table border=\"1\" class=\"dataframe\">\n",
       "  <thead>\n",
       "    <tr style=\"text-align: right;\">\n",
       "      <th></th>\n",
       "      <th>pmid</th>\n",
       "      <th>drug_name</th>\n",
       "      <th>direct_target</th>\n",
       "      <th>drug-direct_target_interaction</th>\n",
       "      <th>clinical_trials_id</th>\n",
       "    </tr>\n",
       "  </thead>\n",
       "  <tbody>\n",
       "    <tr>\n",
       "      <th>4</th>\n",
       "      <td>37147285</td>\n",
       "      <td>Z839878730 (Z8)</td>\n",
       "      <td>KK-LC-1</td>\n",
       "      <td>inhibitor</td>\n",
       "      <td>None</td>\n",
       "    </tr>\n",
       "    <tr>\n",
       "      <th>5</th>\n",
       "      <td>37147285</td>\n",
       "      <td>Z839878730 (Z8)</td>\n",
       "      <td>KK-LC-1/FAT1</td>\n",
       "      <td>binding disruptor</td>\n",
       "      <td>None</td>\n",
       "    </tr>\n",
       "    <tr>\n",
       "      <th>18</th>\n",
       "      <td>36841821</td>\n",
       "      <td>S62</td>\n",
       "      <td>PELI1/EGFR</td>\n",
       "      <td>disruptor</td>\n",
       "      <td>None</td>\n",
       "    </tr>\n",
       "    <tr>\n",
       "      <th>28</th>\n",
       "      <td>37264081</td>\n",
       "      <td>RMC-6272</td>\n",
       "      <td>mTORC1</td>\n",
       "      <td>bi-steric selective inhibitor</td>\n",
       "      <td>None</td>\n",
       "    </tr>\n",
       "    <tr>\n",
       "      <th>29</th>\n",
       "      <td>37264081</td>\n",
       "      <td>RMC-6272</td>\n",
       "      <td>mTORC2</td>\n",
       "      <td>bi-steric inhibitor</td>\n",
       "      <td>None</td>\n",
       "    </tr>\n",
       "  </tbody>\n",
       "</table>\n",
       "</div>"
      ],
      "text/plain": [
       "        pmid        drug_name direct_target drug-direct_target_interaction   \n",
       "4   37147285  Z839878730 (Z8)       KK-LC-1                      inhibitor  \\\n",
       "5   37147285  Z839878730 (Z8)  KK-LC-1/FAT1              binding disruptor   \n",
       "18  36841821              S62    PELI1/EGFR                      disruptor   \n",
       "28  37264081         RMC-6272        mTORC1  bi-steric selective inhibitor   \n",
       "29  37264081         RMC-6272        mTORC2            bi-steric inhibitor   \n",
       "\n",
       "   clinical_trials_id  \n",
       "4                None  \n",
       "5                None  \n",
       "18               None  \n",
       "28               None  \n",
       "29               None  "
      ]
     },
     "execution_count": 125,
     "metadata": {},
     "output_type": "execute_result"
    }
   ],
   "source": [
    "gt_df2.head()"
   ]
  },
  {
   "cell_type": "code",
   "execution_count": 126,
   "id": "4efb36a1",
   "metadata": {},
   "outputs": [
    {
     "data": {
      "text/plain": [
       "30"
      ]
     },
     "execution_count": 126,
     "metadata": {},
     "output_type": "execute_result"
    }
   ],
   "source": [
    "gt_df2['pmid'].nunique()"
   ]
  },
  {
   "cell_type": "markdown",
   "id": "18367c77",
   "metadata": {},
   "source": [
    "**Clean up both the dfs for consistently handling missing values and for reading specific data types consistently.**"
   ]
  },
  {
   "cell_type": "code",
   "execution_count": 127,
   "id": "a34e2891",
   "metadata": {},
   "outputs": [],
   "source": [
    "ft_ner_df3 = utils.clean_missing_data(ft_ner_df2)\n",
    "gt_df3 = utils.clean_missing_data(gt_df2)"
   ]
  },
  {
   "cell_type": "code",
   "execution_count": 128,
   "id": "daca1cbb",
   "metadata": {},
   "outputs": [],
   "source": [
    "ft_ner_df3['clinical_trials_id'] = ft_ner_df3['clinical_trials_id'].apply(utils.convert_string_to_structure)"
   ]
  },
  {
   "cell_type": "code",
   "execution_count": 129,
   "id": "04f9c329",
   "metadata": {},
   "outputs": [],
   "source": [
    "gt_df3['clinical_trials_id'] = gt_df3['clinical_trials_id'].apply(utils.convert_string_to_structure)"
   ]
  },
  {
   "cell_type": "markdown",
   "id": "3fff5082",
   "metadata": {},
   "source": [
    "## Compare ground truth drug names vs model extracted drug names using partial matching"
   ]
  },
  {
   "cell_type": "code",
   "execution_count": 470,
   "id": "c6858264",
   "metadata": {},
   "outputs": [
    {
     "name": "stdout",
     "output_type": "stream",
     "text": [
      "PMID 37066699: 2 false negatives.\n",
      "PMID 37264081: 1 false negatives.\n",
      "PMID 37507782: 1 false negatives.\n",
      "PMID 36521103: 2 false negatives.\n",
      "PMID 36399643: 1 false negatives.\n",
      "PMID 36966152: 1 false negatives.\n"
     ]
    }
   ],
   "source": [
    "metrics, pmids_errors, matches = ner_evaluation.get_drug_metrics(model_df=ft_ner_df3,\n",
    "                                                                  gtruth_df=gt_df3,\n",
    "                                                                  column_name='drug_name',\n",
    "                                                                  score_cutoff=100)"
   ]
  },
  {
   "cell_type": "code",
   "execution_count": 389,
   "id": "f336ff9a",
   "metadata": {},
   "outputs": [
    {
     "data": {
      "text/plain": [
       "{'tp': 43, 'fp': 0, 'fn': 8, 'tn': 8}"
      ]
     },
     "execution_count": 389,
     "metadata": {},
     "output_type": "execute_result"
    }
   ],
   "source": [
    "metrics"
   ]
  },
  {
   "cell_type": "code",
   "execution_count": 390,
   "id": "3f78f52c",
   "metadata": {},
   "outputs": [
    {
     "data": {
      "image/png": "[encoded data removed]",
      "text/plain": [
       "<Figure size 720x432 with 2 Axes>"
      ]
     },
     "metadata": {
      "needs_background": "light"
     },
     "output_type": "display_data"
    }
   ],
   "source": [
    "plt.figure(figsize=(10, 6))\n",
    "\n",
    "plot = sns.heatmap(np.array([[43,0],\n",
    " [8,8]]), annot=True,xticklabels=['Positive','Negative'],yticklabels=['Positive','Negative'])\n",
    "plot.set(xlabel='Groundtruth',ylabel='Finetuned GPT predicted')\n",
    "plt.show()"
   ]
  },
  {
   "cell_type": "code",
   "execution_count": 391,
   "id": "96f25e6e",
   "metadata": {},
   "outputs": [],
   "source": [
    "eval_metrics = ner_evaluation.calculate_metrics(metrics)"
   ]
  },
  {
   "cell_type": "code",
   "execution_count": 392,
   "id": "3d4383de",
   "metadata": {},
   "outputs": [
    {
     "data": {
      "text/plain": [
       "{'accuracy': 0.86,\n",
       " 'precision': 1.0,\n",
       " 'recall': 0.84,\n",
       " 'f1_score': 0.91,\n",
       " 'neg_pred_value': 0.5}"
      ]
     },
     "execution_count": 392,
     "metadata": {},
     "output_type": "execute_result"
    }
   ],
   "source": [
    "eval_metrics"
   ]
  },
  {
   "cell_type": "markdown",
   "id": "ea296e87",
   "metadata": {},
   "source": [
    "### Deep dive into false negative errors"
   ]
  },
  {
   "cell_type": "markdown",
   "id": "945fd9d5",
   "metadata": {},
   "source": [
    "**Out of 30 papers in the test set, 6 papers had false negatives and none had false positives.**"
   ]
  },
  {
   "cell_type": "code",
   "execution_count": 393,
   "id": "d4bfadb8",
   "metadata": {},
   "outputs": [
    {
     "data": {
      "text/plain": [
       "{'fp': [],\n",
       " 'fn': ['37066699',\n",
       "  '37264081',\n",
       "  '37507782',\n",
       "  '36521103',\n",
       "  '36399643',\n",
       "  '36966152']}"
      ]
     },
     "execution_count": 393,
     "metadata": {},
     "output_type": "execute_result"
    }
   ],
   "source": [
    "pmids_errors"
   ]
  },
  {
   "cell_type": "markdown",
   "id": "2bc1ab55",
   "metadata": {},
   "source": [
    "**This also confirms that the errors caught are not due to a limitation of the string matching code.**"
   ]
  },
  {
   "cell_type": "code",
   "execution_count": 394,
   "id": "4ff2fd03",
   "metadata": {},
   "outputs": [
    {
     "name": "stdout",
     "output_type": "stream",
     "text": [
      "\n",
      "For pmid 37066699: 33.33 percent of drug names were extracted correctly.\n",
      "Model = {'aloe-emodin (AE)'}\n",
      "Groundtruth = {'transferrin and polyethylene glycol-poly (lactic-co-glycolic acid) aloe-emodin nanocarrier (Tf-PEG-PLGA modified AE@ZIF-8 NPs)', 'aloe-emodin nanocarrier (AE@ZIF-8 NPs)', 'aloe-emodin (AE)'}\n",
      "\n",
      "For pmid 37264081: 66.67 percent of drug names were extracted correctly.\n",
      "Model = {'everolimus', 'RMC-6272'}\n",
      "Groundtruth = {'rapamycin', 'everolimus', 'RMC-6272'}\n",
      "\n",
      "For pmid 37507782: 0.0 percent of drug names were extracted correctly.\n",
      "Model = {'sertaconazole'}\n",
      "Groundtruth = {'sertaconazole (STZ)', 'sertaconazole (STZ) repurposed nanoplatform (HTS NP)'}\n",
      "\n",
      "For pmid 36521103: 50.0 percent of drug names were extracted correctly.\n",
      "Model = {'temozolomide (TMZ)', 'SurVaxM'}\n",
      "Groundtruth = {'montanide ISA-51', 'sargramostim', 'temozolomide (TMZ)', 'SurVaxM'}\n",
      "\n",
      "For pmid 36399643: 66.67 percent of drug names were extracted correctly.\n",
      "Model = {'temozolomide', 'regorafenib'}\n",
      "Groundtruth = {'H-ferritin (HFn), regorafenib, and Cu2+ nanoplatform (HFn-Cu-REGO NPs)', 'temozolomide', 'regorafenib'}\n",
      "\n",
      "For pmid 36966152: 50.0 percent of drug names were extracted correctly.\n",
      "Model = {'fatostatin'}\n",
      "Groundtruth = {'p28-functionalized PLGA nanoparticle with fatostatin', 'fatostatin'}\n"
     ]
    }
   ],
   "source": [
    "for pmid in pmids_errors['fn']:\n",
    "    gt = set(gt_df3[gt_df3['pmid']==pmid]['drug_name'].unique())\n",
    "    model = set(ft_ner_df3[ft_ner_df3['pmid']==pmid]['drug_name'].unique())\n",
    "    \n",
    "    matched = round((len(gt.intersection(model)) / len(gt))*100,2)\n",
    "    print(f'\\nFor pmid {pmid}: {matched} percent of drug names were extracted correctly.')\n",
    "    print(f'Model = {model}')\n",
    "    print(f'Groundtruth = {gt}')"
   ]
  },
  {
   "cell_type": "markdown",
   "id": "0c15b1aa",
   "metadata": {},
   "source": [
    "## Compare ground truth targets vs model extracted targets"
   ]
  },
  {
   "cell_type": "markdown",
   "id": "aa44af50",
   "metadata": {},
   "source": [
    "* For only drugs that matched:\n",
    "    * TP - target correctly ID'd\n",
    "    * TN - targets dont exist and were not extracted\n",
    "    * FP - targets dont exist but were incorrectly extracted\n",
    "    * FN - targets exist but were missed"
   ]
  },
  {
   "cell_type": "code",
   "execution_count": 458,
   "id": "daaddca3",
   "metadata": {},
   "outputs": [],
   "source": [
    "target_metrics, targets_pmids_errors, target_matches = ner_evaluation.get_target_metrics(ft_ner_df3,\n",
    "                                                                                         gt_df3,\n",
    "                                                                                         matches=matches,\n",
    "                                                                                         score_cutoff=90)"
   ]
  },
  {
   "cell_type": "code",
   "execution_count": 459,
   "id": "05d776f5",
   "metadata": {},
   "outputs": [
    {
     "data": {
      "text/plain": [
       "{'fp': 1, 'fn': 9, 'tp': 22, 'tn': 20}"
      ]
     },
     "execution_count": 459,
     "metadata": {},
     "output_type": "execute_result"
    }
   ],
   "source": [
    "target_metrics"
   ]
  },
  {
   "cell_type": "code",
   "execution_count": 460,
   "id": "1100cc78",
   "metadata": {},
   "outputs": [
    {
     "data": {
      "text/plain": [
       "{'37147437'}"
      ]
     },
     "execution_count": 460,
     "metadata": {},
     "output_type": "execute_result"
    }
   ],
   "source": [
    "set(targets_pmids_errors['fp'])"
   ]
  },
  {
   "cell_type": "code",
   "execution_count": 461,
   "id": "c2f4ad53",
   "metadata": {},
   "outputs": [
    {
     "data": {
      "text/plain": [
       "{'fp': ['37147437'],\n",
       " 'fn': ['35849035',\n",
       "  '37264081',\n",
       "  '36650267',\n",
       "  '37147285',\n",
       "  '37141396',\n",
       "  '36272139',\n",
       "  '37147437']}"
      ]
     },
     "execution_count": 461,
     "metadata": {},
     "output_type": "execute_result"
    }
   ],
   "source": [
    "targets_pmids_errors"
   ]
  },
  {
   "cell_type": "code",
   "execution_count": 462,
   "id": "a0dca5c2",
   "metadata": {},
   "outputs": [],
   "source": [
    "target_eval_metrics = ner_evaluation.calculate_metrics(target_metrics)"
   ]
  },
  {
   "cell_type": "code",
   "execution_count": 463,
   "id": "4a1f67fb",
   "metadata": {},
   "outputs": [
    {
     "data": {
      "text/plain": [
       "{'accuracy': 0.81,\n",
       " 'precision': 0.96,\n",
       " 'recall': 0.71,\n",
       " 'f1_score': 0.81,\n",
       " 'neg_pred_value': 0.69}"
      ]
     },
     "execution_count": 463,
     "metadata": {},
     "output_type": "execute_result"
    }
   ],
   "source": [
    "target_eval_metrics"
   ]
  },
  {
   "cell_type": "markdown",
   "id": "1ddf88f8",
   "metadata": {},
   "source": [
    "## Compare ground truth targets vs model extracted drug-target interaction types"
   ]
  },
  {
   "cell_type": "code",
   "execution_count": 578,
   "id": "b7abc760",
   "metadata": {},
   "outputs": [
    {
     "name": "stdout",
     "output_type": "stream",
     "text": [
      "['binder/interactor'] 37321064\n",
      "['activator and binder'] 37321064\n",
      "['activated'] 35849035\n",
      "['antibody-drug conjugate/binder '] 35849035\n",
      "['interactor'] 36272139\n",
      "['binding disruptor'] 36272139\n"
     ]
    }
   ],
   "source": [
    "int_metrics, int_pmids_errors, int_matches = ner_evaluation.get_interaction_metrics(ft_ner_df3,\n",
    "                                                                                    gt_df3,\n",
    "                                                                                    target_matches,\n",
    "                                                                                    score_cutoff=80)"
   ]
  },
  {
   "cell_type": "code",
   "execution_count": 579,
   "id": "9a134be9",
   "metadata": {},
   "outputs": [
    {
     "data": {
      "text/plain": [
       "{'fp': 3, 'fn': 3, 'tp': 19, 'tn': 20}"
      ]
     },
     "execution_count": 579,
     "metadata": {},
     "output_type": "execute_result"
    }
   ],
   "source": [
    "int_metrics"
   ]
  },
  {
   "cell_type": "code",
   "execution_count": 580,
   "id": "701f1a90",
   "metadata": {},
   "outputs": [],
   "source": [
    "int_eval_metrics = ner_evaluation.calculate_metrics(int_metrics)"
   ]
  },
  {
   "cell_type": "code",
   "execution_count": 581,
   "id": "1a91bfee",
   "metadata": {},
   "outputs": [
    {
     "data": {
      "text/plain": [
       "{'accuracy': 0.87,\n",
       " 'precision': 0.86,\n",
       " 'recall': 0.86,\n",
       " 'f1_score': 0.86,\n",
       " 'neg_pred_value': 0.87}"
      ]
     },
     "execution_count": 581,
     "metadata": {},
     "output_type": "execute_result"
    }
   ],
   "source": [
    "int_eval_metrics"
   ]
  },
  {
   "cell_type": "code",
   "execution_count": null,
   "id": "ff0d621e",
   "metadata": {},
   "outputs": [],
   "source": []
  },
  {
   "cell_type": "markdown",
   "id": "921bbed7",
   "metadata": {},
   "source": [
    "# Test code"
   ]
  },
  {
   "cell_type": "code",
   "execution_count": 268,
   "id": "34431583",
   "metadata": {},
   "outputs": [],
   "source": [
    "df1 = pd.DataFrame({'drug name':['tak228','cpt24','kfj24','kgj34'],\n",
    "                       'targets':[['a','b','c'],['d','e'],['f'],['h']],\n",
    "                        'pmid':['7436','7436','3974','9735']})"
   ]
  },
  {
   "cell_type": "code",
   "execution_count": 269,
   "id": "dbeeb07e",
   "metadata": {},
   "outputs": [
    {
     "data": {
      "text/html": [
       "<div>\n",
       "<style scoped>\n",
       "    .dataframe tbody tr th:only-of-type {\n",
       "        vertical-align: middle;\n",
       "    }\n",
       "\n",
       "    .dataframe tbody tr th {\n",
       "        vertical-align: top;\n",
       "    }\n",
       "\n",
       "    .dataframe thead th {\n",
       "        text-align: right;\n",
       "    }\n",
       "</style>\n",
       "<table border=\"1\" class=\"dataframe\">\n",
       "  <thead>\n",
       "    <tr style=\"text-align: right;\">\n",
       "      <th></th>\n",
       "      <th>drug name</th>\n",
       "      <th>targets</th>\n",
       "      <th>pmid</th>\n",
       "    </tr>\n",
       "  </thead>\n",
       "  <tbody>\n",
       "    <tr>\n",
       "      <th>0</th>\n",
       "      <td>tak228</td>\n",
       "      <td>[a, b, c]</td>\n",
       "      <td>7436</td>\n",
       "    </tr>\n",
       "    <tr>\n",
       "      <th>1</th>\n",
       "      <td>cpt24</td>\n",
       "      <td>[d, e]</td>\n",
       "      <td>7436</td>\n",
       "    </tr>\n",
       "    <tr>\n",
       "      <th>2</th>\n",
       "      <td>kfj24</td>\n",
       "      <td>[f]</td>\n",
       "      <td>3974</td>\n",
       "    </tr>\n",
       "    <tr>\n",
       "      <th>3</th>\n",
       "      <td>kgj34</td>\n",
       "      <td>[h]</td>\n",
       "      <td>9735</td>\n",
       "    </tr>\n",
       "  </tbody>\n",
       "</table>\n",
       "</div>"
      ],
      "text/plain": [
       "  drug name    targets  pmid\n",
       "0    tak228  [a, b, c]  7436\n",
       "1     cpt24     [d, e]  7436\n",
       "2     kfj24        [f]  3974\n",
       "3     kgj34        [h]  9735"
      ]
     },
     "execution_count": 269,
     "metadata": {},
     "output_type": "execute_result"
    }
   ],
   "source": [
    "df1"
   ]
  },
  {
   "cell_type": "code",
   "execution_count": 270,
   "id": "d3064d2f",
   "metadata": {},
   "outputs": [
    {
     "data": {
      "text/html": [
       "<div>\n",
       "<style scoped>\n",
       "    .dataframe tbody tr th:only-of-type {\n",
       "        vertical-align: middle;\n",
       "    }\n",
       "\n",
       "    .dataframe tbody tr th {\n",
       "        vertical-align: top;\n",
       "    }\n",
       "\n",
       "    .dataframe thead th {\n",
       "        text-align: right;\n",
       "    }\n",
       "</style>\n",
       "<table border=\"1\" class=\"dataframe\">\n",
       "  <thead>\n",
       "    <tr style=\"text-align: right;\">\n",
       "      <th></th>\n",
       "      <th>drug name</th>\n",
       "      <th>targets</th>\n",
       "      <th>pmid</th>\n",
       "    </tr>\n",
       "  </thead>\n",
       "  <tbody>\n",
       "    <tr>\n",
       "      <th>2</th>\n",
       "      <td>kfj24</td>\n",
       "      <td>[f]</td>\n",
       "      <td>3974</td>\n",
       "    </tr>\n",
       "    <tr>\n",
       "      <th>1</th>\n",
       "      <td>cpt24</td>\n",
       "      <td>[d, e]</td>\n",
       "      <td>7436</td>\n",
       "    </tr>\n",
       "    <tr>\n",
       "      <th>0</th>\n",
       "      <td>tak228</td>\n",
       "      <td>[a, b, c]</td>\n",
       "      <td>7436</td>\n",
       "    </tr>\n",
       "    <tr>\n",
       "      <th>3</th>\n",
       "      <td>kgj34</td>\n",
       "      <td>[h]</td>\n",
       "      <td>9735</td>\n",
       "    </tr>\n",
       "  </tbody>\n",
       "</table>\n",
       "</div>"
      ],
      "text/plain": [
       "  drug name    targets  pmid\n",
       "2     kfj24        [f]  3974\n",
       "1     cpt24     [d, e]  7436\n",
       "0    tak228  [a, b, c]  7436\n",
       "3     kgj34        [h]  9735"
      ]
     },
     "execution_count": 270,
     "metadata": {},
     "output_type": "execute_result"
    }
   ],
   "source": [
    "df1.sort_values(['pmid','drug name'],ascending=True)"
   ]
  },
  {
   "cell_type": "code",
   "execution_count": 271,
   "id": "55afab26",
   "metadata": {},
   "outputs": [],
   "source": [
    "df2 = pd.DataFrame({'drug name':['tak228','jfknkj','ksjdnf'],\n",
    "                       'targets':[['a','b','c'],['f'],['h']],\n",
    "                        'pmid':['7436','3974','9735']})"
   ]
  },
  {
   "cell_type": "code",
   "execution_count": 272,
   "id": "542b5458",
   "metadata": {},
   "outputs": [
    {
     "data": {
      "text/html": [
       "<div>\n",
       "<style scoped>\n",
       "    .dataframe tbody tr th:only-of-type {\n",
       "        vertical-align: middle;\n",
       "    }\n",
       "\n",
       "    .dataframe tbody tr th {\n",
       "        vertical-align: top;\n",
       "    }\n",
       "\n",
       "    .dataframe thead th {\n",
       "        text-align: right;\n",
       "    }\n",
       "</style>\n",
       "<table border=\"1\" class=\"dataframe\">\n",
       "  <thead>\n",
       "    <tr style=\"text-align: right;\">\n",
       "      <th></th>\n",
       "      <th>drug name</th>\n",
       "      <th>targets</th>\n",
       "      <th>pmid</th>\n",
       "    </tr>\n",
       "  </thead>\n",
       "  <tbody>\n",
       "    <tr>\n",
       "      <th>0</th>\n",
       "      <td>tak228</td>\n",
       "      <td>[a, b, c]</td>\n",
       "      <td>7436</td>\n",
       "    </tr>\n",
       "    <tr>\n",
       "      <th>1</th>\n",
       "      <td>jfknkj</td>\n",
       "      <td>[f]</td>\n",
       "      <td>3974</td>\n",
       "    </tr>\n",
       "    <tr>\n",
       "      <th>2</th>\n",
       "      <td>ksjdnf</td>\n",
       "      <td>[h]</td>\n",
       "      <td>9735</td>\n",
       "    </tr>\n",
       "  </tbody>\n",
       "</table>\n",
       "</div>"
      ],
      "text/plain": [
       "  drug name    targets  pmid\n",
       "0    tak228  [a, b, c]  7436\n",
       "1    jfknkj        [f]  3974\n",
       "2    ksjdnf        [h]  9735"
      ]
     },
     "execution_count": 272,
     "metadata": {},
     "output_type": "execute_result"
    }
   ],
   "source": [
    "df2"
   ]
  },
  {
   "cell_type": "code",
   "execution_count": 102,
   "id": "710b2de5",
   "metadata": {},
   "outputs": [
    {
     "data": {
      "text/plain": [
       "2"
      ]
     },
     "execution_count": 102,
     "metadata": {},
     "output_type": "execute_result"
    }
   ],
   "source": [
    "len({'a','b'}.difference({}))"
   ]
  },
  {
   "cell_type": "code",
   "execution_count": 103,
   "id": "26c82a37",
   "metadata": {},
   "outputs": [],
   "source": [
    "gtruth_drugs = {'a','b'}\n",
    "gtruth_matched = {'a'}"
   ]
  },
  {
   "cell_type": "code",
   "execution_count": 104,
   "id": "183258b6",
   "metadata": {},
   "outputs": [
    {
     "data": {
      "text/plain": [
       "{'b'}"
      ]
     },
     "execution_count": 104,
     "metadata": {},
     "output_type": "execute_result"
    }
   ],
   "source": [
    "gtruth_drugs.difference(gtruth_matched)"
   ]
  },
  {
   "cell_type": "code",
   "execution_count": null,
   "id": "13076afb",
   "metadata": {},
   "outputs": [],
   "source": []
  },
  {
   "cell_type": "code",
   "execution_count": 72,
   "id": "1bd94631",
   "metadata": {},
   "outputs": [
    {
     "data": {
      "text/plain": [
       "75"
      ]
     },
     "execution_count": 72,
     "metadata": {},
     "output_type": "execute_result"
    }
   ],
   "source": [
    "fuzz.ratio('non-covalent selective inhibitor','selective inhibitor')"
   ]
  },
  {
   "cell_type": "code",
   "execution_count": null,
   "id": "2ea50520",
   "metadata": {},
   "outputs": [],
   "source": []
  },
  {
   "cell_type": "code",
   "execution_count": null,
   "id": "f635fddf",
   "metadata": {},
   "outputs": [],
   "source": []
  },
  {
   "cell_type": "code",
   "execution_count": 52,
   "id": "15f2fcdf",
   "metadata": {},
   "outputs": [],
   "source": [
    "import string"
   ]
  },
  {
   "cell_type": "code",
   "execution_count": 54,
   "id": "f8e3f75b",
   "metadata": {},
   "outputs": [
    {
     "data": {
      "text/plain": [
       "'!\"#$%&\\'()*+,-./:;<=>?@[\\\\]^_`{|}~'"
      ]
     },
     "execution_count": 54,
     "metadata": {},
     "output_type": "execute_result"
    }
   ],
   "source": [
    "string.punctuation"
   ]
  },
  {
   "cell_type": "code",
   "execution_count": null,
   "id": "76edb35f",
   "metadata": {},
   "outputs": [],
   "source": []
  },
  {
   "cell_type": "code",
   "execution_count": 150,
   "id": "24ce0d00",
   "metadata": {},
   "outputs": [],
   "source": [
    "a = 'PEL1/EGFR'"
   ]
  },
  {
   "cell_type": "code",
   "execution_count": 151,
   "id": "875fd7af",
   "metadata": {},
   "outputs": [
    {
     "data": {
      "text/plain": [
       "'PEL1EGFR'"
      ]
     },
     "execution_count": 151,
     "metadata": {},
     "output_type": "execute_result"
    }
   ],
   "source": [
    "a.translate(str.maketrans('', '', string.punctuation))"
   ]
  },
  {
   "cell_type": "code",
   "execution_count": 83,
   "id": "8b76b4db",
   "metadata": {},
   "outputs": [
    {
     "data": {
      "text/plain": [
       "'KK-LC-1'"
      ]
     },
     "execution_count": 83,
     "metadata": {},
     "output_type": "execute_result"
    }
   ],
   "source": [
    "a"
   ]
  },
  {
   "cell_type": "code",
   "execution_count": null,
   "id": "a551f70f",
   "metadata": {},
   "outputs": [],
   "source": []
  },
  {
   "cell_type": "code",
   "execution_count": null,
   "id": "9770d3ed",
   "metadata": {},
   "outputs": [],
   "source": []
  },
  {
   "cell_type": "code",
   "execution_count": 184,
   "id": "ee417b7b",
   "metadata": {},
   "outputs": [
    {
     "data": {
      "text/plain": [
       "[{'drug name': 'tak228', 'targets': ['a', 'b', 'c'], 'pmid': '7436'},\n",
       " {'drug name': 'cpt24', 'targets': ['d', 'e'], 'pmid': '7436'},\n",
       " {'drug name': 'kfj24', 'targets': ['f'], 'pmid': '3974'},\n",
       " {'drug name': 'kgj34', 'targets': ['h'], 'pmid': '9735'}]"
      ]
     },
     "execution_count": 184,
     "metadata": {},
     "output_type": "execute_result"
    }
   ],
   "source": [
    "df1.to_dict(orient='records')"
   ]
  },
  {
   "cell_type": "raw",
   "id": "7811c8c5",
   "metadata": {},
   "source": [
    "{\"pmid1\": [{row1},{row2}]}"
   ]
  },
  {
   "cell_type": "code",
   "execution_count": 185,
   "id": "39539345",
   "metadata": {},
   "outputs": [],
   "source": [
    "all_rows = []\n",
    "test_dict = {}\n",
    "for data in df1.to_dict(orient='records'):\n",
    "    \n",
    "    pmid = data.pop('pmid')\n",
    "    \n",
    "    if pmid not in test_dict:\n",
    "        test_dict[pmid] = [data]\n",
    "    else:\n",
    "        test_dict[pmid].append(data)\n",
    "\n",
    "for key,val in test_dict.items():\n",
    "    all_rows.append({key:val})\n",
    "    "
   ]
  },
  {
   "cell_type": "code",
   "execution_count": 186,
   "id": "9a022fd8",
   "metadata": {},
   "outputs": [
    {
     "data": {
      "text/plain": [
       "{'7436': [{'drug name': 'tak228', 'targets': ['a', 'b', 'c']},\n",
       "  {'drug name': 'cpt24', 'targets': ['d', 'e']}],\n",
       " '3974': [{'drug name': 'kfj24', 'targets': ['f']}],\n",
       " '9735': [{'drug name': 'kgj34', 'targets': ['h']}]}"
      ]
     },
     "execution_count": 186,
     "metadata": {},
     "output_type": "execute_result"
    }
   ],
   "source": [
    "test_dict"
   ]
  },
  {
   "cell_type": "code",
   "execution_count": 187,
   "id": "95346979",
   "metadata": {},
   "outputs": [
    {
     "data": {
      "text/plain": [
       "[{'7436': [{'drug name': 'tak228', 'targets': ['a', 'b', 'c']},\n",
       "   {'drug name': 'cpt24', 'targets': ['d', 'e']}]},\n",
       " {'3974': [{'drug name': 'kfj24', 'targets': ['f']}]},\n",
       " {'9735': [{'drug name': 'kgj34', 'targets': ['h']}]}]"
      ]
     },
     "execution_count": 187,
     "metadata": {},
     "output_type": "execute_result"
    }
   ],
   "source": [
    "all_rows"
   ]
  },
  {
   "cell_type": "code",
   "execution_count": 195,
   "id": "fd1c4f4f",
   "metadata": {},
   "outputs": [
    {
     "data": {
      "text/plain": [
       "dict_keys(['7436'])"
      ]
     },
     "execution_count": 195,
     "metadata": {},
     "output_type": "execute_result"
    }
   ],
   "source": [
    "all_rows[0].keys()"
   ]
  },
  {
   "cell_type": "code",
   "execution_count": 197,
   "id": "b5f37a52",
   "metadata": {},
   "outputs": [
    {
     "data": {
      "text/plain": [
       "'7436'"
      ]
     },
     "execution_count": 197,
     "metadata": {},
     "output_type": "execute_result"
    }
   ],
   "source": [
    "next(iter(all_rows[0].keys()))"
   ]
  },
  {
   "cell_type": "code",
   "execution_count": null,
   "id": "6b174bf3",
   "metadata": {},
   "outputs": [],
   "source": []
  },
  {
   "cell_type": "code",
   "execution_count": 192,
   "id": "fc1ab690",
   "metadata": {},
   "outputs": [
    {
     "name": "stdout",
     "output_type": "stream",
     "text": [
      "dict_keys(['7436'])\n",
      "dict_keys(['3974'])\n",
      "dict_keys(['9735'])\n"
     ]
    }
   ],
   "source": [
    "for b in all_rows:\n",
    "    print(b.keys())"
   ]
  },
  {
   "cell_type": "code",
   "execution_count": 142,
   "id": "4095798a",
   "metadata": {},
   "outputs": [],
   "source": [
    "a = {'drug name': 'tak228', 'targets': ['a', 'b', 'c'], 'pmid': '7436'}"
   ]
  },
  {
   "cell_type": "code",
   "execution_count": 175,
   "id": "0186022d",
   "metadata": {},
   "outputs": [
    {
     "data": {
      "text/plain": [
       "'7436'"
      ]
     },
     "execution_count": 175,
     "metadata": {},
     "output_type": "execute_result"
    }
   ],
   "source": [
    "a.pop('pmid')"
   ]
  },
  {
   "cell_type": "code",
   "execution_count": 176,
   "id": "3e75b984",
   "metadata": {},
   "outputs": [
    {
     "data": {
      "text/plain": [
       "{'drug name': 'tak228', 'targets': ['a', 'b', 'c']}"
      ]
     },
     "execution_count": 176,
     "metadata": {},
     "output_type": "execute_result"
    }
   ],
   "source": [
    "a"
   ]
  },
  {
   "cell_type": "code",
   "execution_count": null,
   "id": "5a66ec4d",
   "metadata": {},
   "outputs": [],
   "source": []
  }
 ],
 "metadata": {
  "kernelspec": {
   "display_name": "Python 3 (ipykernel)",
   "language": "python",
   "name": "python3"
  },
  "language_info": {
   "codemirror_mode": {
    "name": "ipython",
    "version": 3
   },
   "file_extension": ".py",
   "mimetype": "text/x-python",
   "name": "python",
   "nbconvert_exporter": "python",
   "pygments_lexer": "ipython3",
   "version": "3.9.12"
  }
 },
 "nbformat": 4,
 "nbformat_minor": 5
}
