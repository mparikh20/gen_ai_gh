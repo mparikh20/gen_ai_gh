{
 "cells": [
  {
   "cell_type": "markdown",
   "id": "d053f0b1",
   "metadata": {},
   "source": [
    "# Table of contents"
   ]
  },
  {
   "cell_type": "markdown",
   "id": "7e1d1ea2",
   "metadata": {},
   "source": [
    "* [Overview](#overview)\n",
    "* [Imports](#imports)\n",
    "* [Paths](#paths)\n",
    "* [1.Get literature from PubMed](#pubmed)\n",
    "* [2.Prepare prompt text](#prompt)\n",
    "* [3.Run a pipeline to process 30 randomly selected abstracts](#pipeline)\n",
    "* [4.Evaluate](#evaluate)\n",
    "    * [Evaluation metrics for drug names extracted by GPT-4 [Level 1]](#level1)\n",
    "    * [Evaluation metrics for target names extracted by GPT-4 [Level 2]](#level2)\n",
    "    * [Evaluation metrics for drug-target interactions extracted by GPT-4 [Level 3]](#level3)\n",
    "* [Conclusions and next steps](#conclusion)\n",
    "* [References & Accessory links](#refs)"
   ]
  },
  {
   "cell_type": "markdown",
   "id": "fd26f790",
   "metadata": {},
   "source": [
    "# Overview"
   ]
  },
  {
   "cell_type": "markdown",
   "id": "b78d2948",
   "metadata": {},
   "source": [
    "A Retrieval Augmented Generation project showing creation of a drug-target dataset from biomedical literature, using GPT-4, and evaluation of performance.\n",
    "This project involved the following steps:\n",
    "* Use of NCBI API to automatically access abstracts and metadata.\n",
    "* Prompt engineering to finalize prompt text that gave the best output (not shown in this notebook.)\n",
    "* Pipeline packaging each abstract and prompt specific to the OpenAI API and output generation through GPT-4.\n",
    "* Comparison of GPT-4 extracted entities with ground truth, manually curated data to get performance metrics.\n",
    "\n",
    "<font color='blue'>**For a quick glance, major outputs in the pipeline are marked in blue text.**</font>\n"
   ]
  },
  {
   "cell_type": "markdown",
   "id": "6b095348",
   "metadata": {},
   "source": [
    "# Imports<a id=\"imports\"></a>"
   ]
  },
  {
   "cell_type": "code",
   "execution_count": 1,
   "id": "6a61863d",
   "metadata": {},
   "outputs": [],
   "source": [
    "%load_ext autoreload\n",
    "%autoreload 2"
   ]
  },
  {
   "cell_type": "code",
   "execution_count": 38,
   "id": "72300313",
   "metadata": {},
   "outputs": [],
   "source": [
    "import json\n",
    "import pandas as pd\n",
    "from pathlib import Path\n",
    "import sys\n",
    "import tiktoken"
   ]
  },
  {
   "cell_type": "markdown",
   "id": "30643776",
   "metadata": {},
   "source": [
    "### pubmed\n",
    "Contains code for querying PubMed, collecting metadata, organizing abstracts and other information into a df."
   ]
  },
  {
   "cell_type": "code",
   "execution_count": 39,
   "id": "84af3bfc",
   "metadata": {},
   "outputs": [],
   "source": [
    "cwd = Path.cwd()"
   ]
  },
  {
   "cell_type": "code",
   "execution_count": 40,
   "id": "6647a3d0",
   "metadata": {},
   "outputs": [],
   "source": [
    "module_dir = cwd.parent / 'scripts'"
   ]
  },
  {
   "cell_type": "code",
   "execution_count": 41,
   "id": "b69f55c9",
   "metadata": {},
   "outputs": [],
   "source": [
    "sys.path.append(str(module_dir))"
   ]
  },
  {
   "cell_type": "code",
   "execution_count": 7,
   "id": "ba1d0ea1",
   "metadata": {},
   "outputs": [],
   "source": [
    "import pubmed"
   ]
  },
  {
   "cell_type": "markdown",
   "id": "a2dc5a7f",
   "metadata": {},
   "source": [
    "### openai_api\n",
    "Contains code for running a pipeline using the GPT API - packaging pubmed abstracts into the prompts, creating messages, estimating tokens, cost, extracting relevant parts of a completion into a df."
   ]
  },
  {
   "cell_type": "code",
   "execution_count": 8,
   "id": "f5d9259b",
   "metadata": {},
   "outputs": [],
   "source": [
    "import openai_api"
   ]
  },
  {
   "cell_type": "markdown",
   "id": "7a84a45c",
   "metadata": {},
   "source": [
    "### utils\n",
    "Contains code for interacting with the Google Sheets API and some data cleaning functions."
   ]
  },
  {
   "cell_type": "code",
   "execution_count": 48,
   "id": "bd4d3073",
   "metadata": {},
   "outputs": [],
   "source": [
    "import utils"
   ]
  },
  {
   "cell_type": "markdown",
   "id": "5f8989c7",
   "metadata": {},
   "source": [
    "### ner_evaluation\n",
    "Contains code to evaluate model extracted entities against manually curated ground truth data."
   ]
  },
  {
   "cell_type": "code",
   "execution_count": 126,
   "id": "fb39527b",
   "metadata": {},
   "outputs": [],
   "source": [
    "import ner_evaluation"
   ]
  },
  {
   "cell_type": "markdown",
   "id": "bd743ec9",
   "metadata": {},
   "source": [
    "# Paths<a id=\"paths\"></a>"
   ]
  },
  {
   "cell_type": "markdown",
   "id": "39ee1247",
   "metadata": {},
   "source": [
    "## PubMed output path"
   ]
  },
  {
   "cell_type": "code",
   "execution_count": 42,
   "id": "fc23aef9",
   "metadata": {},
   "outputs": [],
   "source": [
    "\n",
    "output_dir = cwd.parent / 'outputs'"
   ]
  },
  {
   "cell_type": "markdown",
   "id": "66111226",
   "metadata": {},
   "source": [
    "**Path to CSV containing literature from 87 papers from PubMed.**"
   ]
  },
  {
   "cell_type": "code",
   "execution_count": 9,
   "id": "a624e5b0",
   "metadata": {},
   "outputs": [],
   "source": [
    "pubmed_output = output_dir / 'pubmed_data_run_1.csv'"
   ]
  },
  {
   "cell_type": "markdown",
   "id": "35e553f4",
   "metadata": {},
   "source": [
    "## Prompt language - system and user instructions"
   ]
  },
  {
   "cell_type": "code",
   "execution_count": 10,
   "id": "8e60356e",
   "metadata": {},
   "outputs": [],
   "source": [
    "input_dir = cwd.parent / 'inputs'"
   ]
  },
  {
   "cell_type": "code",
   "execution_count": 11,
   "id": "503360eb",
   "metadata": {},
   "outputs": [],
   "source": [
    "system_path = input_dir / 'system_prompt_v1.json'\n",
    "user_path = input_dir / 'user_prompt_v1.json'"
   ]
  },
  {
   "cell_type": "markdown",
   "id": "2ec76244",
   "metadata": {},
   "source": [
    "## Completions jsons"
   ]
  },
  {
   "cell_type": "markdown",
   "id": "9f0c28a9",
   "metadata": {},
   "source": [
    "**Run 1 - Completions for 30 pubmed abstracts processed for entity extraction via OpenAI API.**"
   ]
  },
  {
   "cell_type": "code",
   "execution_count": 12,
   "id": "08f44d41",
   "metadata": {},
   "outputs": [],
   "source": [
    "completions_path = output_dir / 'completions_run_1.json'"
   ]
  },
  {
   "cell_type": "markdown",
   "id": "1380ec73",
   "metadata": {},
   "source": [
    "**Run 1 - results from completions extracted into a CSV.**"
   ]
  },
  {
   "cell_type": "code",
   "execution_count": 43,
   "id": "2a76b083",
   "metadata": {},
   "outputs": [],
   "source": [
    "ner_path = output_dir / 'pubmed_ner_run_1.csv'"
   ]
  },
  {
   "cell_type": "code",
   "execution_count": null,
   "id": "6d7a1745",
   "metadata": {},
   "outputs": [],
   "source": []
  },
  {
   "cell_type": "markdown",
   "id": "4e72c592",
   "metadata": {},
   "source": [
    "# 1. Get literature from PubMed<a id=\"pubmed\"></a>"
   ]
  },
  {
   "cell_type": "markdown",
   "id": "4e880378",
   "metadata": {},
   "source": [
    "<span style=\"font-size:20px;\">**Method**</span>\n",
    "\n",
    "* Since the focus of the project is to create a drug-target dataset, published biomedical articles involving drug(s) within specific cancers of interest were obtained from PubMed. \n",
    "* A total of 87 articles (30 breast cancer, 30 glioblastoma, and 27 lung cancer) were obtained using NCBI's E-utilities API.\n",
    "* To get updated content, the date range of 2023 onwards to current was used.\n"
   ]
  },
  {
   "cell_type": "markdown",
   "id": "7adcf83c",
   "metadata": {},
   "source": [
    "<span style=\"font-size:20px;\">**Steps**</span>"
   ]
  },
  {
   "cell_type": "markdown",
   "id": "62e0ac45",
   "metadata": {},
   "source": [
    "**What query should be used?** \n",
    "\n",
    "Optimal search query was first figured out on PubMed's website to ensure relevant and similar results were obtained programmatically as well as the language expected by the API was correct."
   ]
  },
  {
   "cell_type": "raw",
   "id": "597dbf8c",
   "metadata": {},
   "source": [
    "Query used for advanced search on the website:\n",
    "\n",
    "'''(((\"2023/01/01\"[Date - Publication] : \"3000\"[Date - Publication])) \n",
    "NOT (Review[Publication Type] OR Scientific Integrity Review OR Systematic Review[Publication Type])) \n",
    "AND (breast cancer[Title/Abstract])'''\n",
    "\n",
    "'''(((\"2023/01/01\"[Date - Publication] : \"3000\"[Date - Publication])) \n",
    "NOT (Review[Publication Type] OR Scientific Integrity Review OR Systematic Review[Publication Type])) \n",
    "AND (lung cancer[Title/Abstract])'''\n"
   ]
  },
  {
   "cell_type": "markdown",
   "id": "36776df8",
   "metadata": {},
   "source": [
    "**Establish base criteria for querying.**\n",
    "\n",
    "Variables show data range (2023-current (date of development), search terms that should be present in the abstract text so that we are getting studies involving drugs in cancer types of interest. Different types of review articles were removed."
   ]
  },
  {
   "cell_type": "code",
   "execution_count": 12,
   "id": "49dcfbd1",
   "metadata": {},
   "outputs": [],
   "source": [
    "date_criteria = '(2023/01/01:3000[pdat])'\n",
    "drug_criteria = '(drug[tiab]+OR+inhibitor[tiab]+OR+compound[tiab]+OR+small+molecule[tiab]+OR+clinical+trial[tiab]+OR+therapy[tiab]+OR+agent[tiab])'\n",
    "pub_criteria = '(Review[pt]+OR+Scientific+Integrity+Review[pt]+OR+Systematic+Review[pt])'\n"
   ]
  },
  {
   "cell_type": "markdown",
   "id": "ad214665",
   "metadata": {},
   "source": [
    "**Run the PubMed pipeline for getting papers for 3 cancer types.**\n",
    "\n",
    "The pipeline takes care of searching PubMed, getting results, metadata about the results, and from the total matched articles, it pulls only 30 articles.\n",
    "Full article content was not pulled as the purpose was to only use abstract text and identify different types of information pertaining to the drug.\n",
    "Contents for all required number of papers are returned in an XML format.\n",
    "The XML string goes through data cleanup and parsing steps so that relevant details specific to each paper are properly extracted and then structured into a dataframe.\n"
   ]
  },
  {
   "cell_type": "code",
   "execution_count": 13,
   "id": "0f539a22",
   "metadata": {
    "scrolled": false
   },
   "outputs": [
    {
     "name": "stdout",
     "output_type": "stream",
     "text": [
      "----Running pipeline for the following query:----\n",
      "(2023/01/01:3000[pdat])+AND+(breast+cancer[tiab])+AND+(drug[tiab]+OR+inhibitor[tiab]+OR+compound[tiab]+OR+small+molecule[tiab]+OR+clinical+trial[tiab]+OR+therapy[tiab]+OR+agent[tiab])+NOT+(Review[pt]+OR+Scientific+Integrity+Review[pt]+OR+Systematic+Review[pt])\n",
      "Using PubMed esearch API to get PMIDs matching the search query.\n",
      "\tThe actual total number of records matching the search for is 9701\n",
      "\tThe number of ids present in the esearch json is 9701\n",
      "\tFunction get_pmids complete.\n",
      "Collecting metadata about the search results into a dictionary.\n",
      "\tMetadata obtained and saved in a dictionary.\n",
      "Using PubMed efetch API to get abstract and other details for relevant PMIDs into an XML string.\n",
      "\tThe number of matching PMIDs based on the server: 30\n",
      "\tFunction get_abstracts complete.\n",
      "Extracting data from XML string and organizing it into a dataframe.\n",
      "\tPerforming basic cleanup.\n",
      "\t&#xa0 left: 0\n",
      "\t&#x3ba left: 0\n",
      "\t&# left: 0\n",
      "Iterating through each article and collecting information.\n",
      "\t<FLAG> Additional PMID 38323464 found in association with 37070653, not collected.\n",
      "\t<FLAG> Additional PMID 36585451 found in association with 36585452, not collected.\n",
      "\t<FLAG> Additional PMID 37322365 found in association with 36585452, not collected.\n",
      "\t<FLAG> Additional PMID 37322366 found in association with 36585452, not collected.\n",
      "\t<FLAG> Additional PMID 37205914 found in association with 36909163, not collected.\n",
      "\t<FLAG> Additional PMID 37779428 found in association with 37071495, not collected.\n",
      "\tFunction get_data_from_xml complete.\n",
      "Adding in metadata information.\n",
      "Pipeline complete, dataframe ready.\n",
      "Num rows in df: 30\n",
      "Pipeline complete for breast+cancer\n",
      "----Running pipeline for the following query:----\n",
      "(2023/01/01:3000[pdat])+AND+(lung+cancer[tiab])+AND+(drug[tiab]+OR+inhibitor[tiab]+OR+compound[tiab]+OR+small+molecule[tiab]+OR+clinical+trial[tiab]+OR+therapy[tiab]+OR+agent[tiab])+NOT+(Review[pt]+OR+Scientific+Integrity+Review[pt]+OR+Systematic+Review[pt])\n",
      "Using PubMed esearch API to get PMIDs matching the search query.\n",
      "\tThe actual total number of records matching the search for is 6642\n",
      "\tThe number of ids present in the esearch json is 6642\n",
      "\tFunction get_pmids complete.\n",
      "Collecting metadata about the search results into a dictionary.\n",
      "\tMetadata obtained and saved in a dictionary.\n",
      "Using PubMed efetch API to get abstract and other details for relevant PMIDs into an XML string.\n",
      "\tThe number of matching PMIDs based on the server: 30\n",
      "\tFunction get_abstracts complete.\n",
      "Extracting data from XML string and organizing it into a dataframe.\n",
      "\tPerforming basic cleanup.\n",
      "\t&#xa0 left: 0\n",
      "\t&#x3ba left: 0\n",
      "\t&# left: 0\n",
      "Iterating through each article and collecting information.\n",
      "\t<FLAG> Additional PMID 36812886 found in association with 36657446, not collected.\n",
      "\t<FLAG> Additional PMID 37524811 found in association with 37407818, not collected.\n",
      "\t<FLAG> Additional PMID 37269291 found in association with 37269335, not collected.\n",
      "\t<FLAG> Additional PMID 37348992 found in association with 36948246, not collected.\n",
      "\t<FLAG> Additional PMID 37620619 found in association with 36650267, not collected.\n",
      "\t<FLAG> Additional PMID 38366163 found in association with 37491889, not collected.\n",
      "\tFunction get_data_from_xml complete.\n",
      "Adding in metadata information.\n",
      "Pipeline complete, dataframe ready.\n",
      "Num rows in df: 27\n",
      "Pipeline complete for lung+cancer\n",
      "----Running pipeline for the following query:----\n",
      "(2023/01/01:3000[pdat])+AND+(glioblastoma[tiab])+AND+(drug[tiab]+OR+inhibitor[tiab]+OR+compound[tiab]+OR+small+molecule[tiab]+OR+clinical+trial[tiab]+OR+therapy[tiab]+OR+agent[tiab])+NOT+(Review[pt]+OR+Scientific+Integrity+Review[pt]+OR+Systematic+Review[pt])\n",
      "Using PubMed esearch API to get PMIDs matching the search query.\n",
      "\tThe actual total number of records matching the search for is 1886\n",
      "\tThe number of ids present in the esearch json is 1886\n",
      "\tFunction get_pmids complete.\n",
      "Collecting metadata about the search results into a dictionary.\n",
      "\tMetadata obtained and saved in a dictionary.\n",
      "Using PubMed efetch API to get abstract and other details for relevant PMIDs into an XML string.\n",
      "\tThe number of matching PMIDs based on the server: 30\n",
      "\tFunction get_abstracts complete.\n",
      "Extracting data from XML string and organizing it into a dataframe.\n",
      "\tPerforming basic cleanup.\n",
      "\t&#xa0 left: 0\n",
      "\t&#x3ba left: 0\n",
      "\t&# left: 0\n",
      "Iterating through each article and collecting information.\n",
      "\t<FLAG> Additional PMID 37477398 found in association with 37451272, not collected.\n",
      "\t<FLAG> Additional PMID 36750686 found in association with 36652537, not collected.\n",
      "\t<FLAG> Additional PMID 38171329 found in association with 38134929, not collected.\n",
      "\t<FLAG> Additional PMID 38443336 found in association with 37886538, not collected.\n",
      "\t<FLAG> Additional PMID 37523556 found in association with 37672559, not collected.\n",
      "\tFunction get_data_from_xml complete.\n",
      "Adding in metadata information.\n",
      "Pipeline complete, dataframe ready.\n",
      "Num rows in df: 30\n",
      "Pipeline complete for glioblastoma\n"
     ]
    }
   ],
   "source": [
    "# Collect all dfs to merge later\n",
    "all_dfs = []\n",
    "\n",
    "for cancer_type in ['breast+cancer','lung+cancer','glioblastoma']:\n",
    "    disease_criteria = f'({cancer_type}[tiab])'\n",
    "    \n",
    "    query = date_criteria + '+AND+' + disease_criteria + '+AND+' + drug_criteria + '+NOT+' + pub_criteria\n",
    "    \n",
    "    df = pubmed.run_pubmed_pipeline(query=query,\n",
    "                                    save_on_server='y',\n",
    "                                    search_format='json',\n",
    "                                    search_starting_index=0,\n",
    "                                    search_max_records=9999,\n",
    "                                    sorting_criteria='relevance',\n",
    "                                    content_type='abstract',\n",
    "                                    fetch_starting_index=0,\n",
    "                                    fetch_max_records=30)\n",
    "    \n",
    "    # Add an identifier column for cancer type for easy searching\n",
    "    df['disease'] = cancer_type\n",
    "    print(f'Num rows in df: {len(df)}')\n",
    "    all_dfs.append(df)\n",
    "    \n",
    "    print(f'Pipeline complete for {cancer_type}')\n",
    "\n",
    "# Combine all dfs\n",
    "final_df = pd.concat(all_dfs)"
   ]
  },
  {
   "cell_type": "code",
   "execution_count": 14,
   "id": "8a54daca",
   "metadata": {},
   "outputs": [
    {
     "data": {
      "text/plain": [
       "87"
      ]
     },
     "execution_count": 14,
     "metadata": {},
     "output_type": "execute_result"
    }
   ],
   "source": [
    "len(final_df)"
   ]
  },
  {
   "cell_type": "markdown",
   "id": "b81f9178",
   "metadata": {},
   "source": [
    "<font color='blue'>**Final dataframe ready with content extracted from PubMed.**</font>"
   ]
  },
  {
   "cell_type": "code",
   "execution_count": 15,
   "id": "34b06813",
   "metadata": {},
   "outputs": [
    {
     "data": {
      "text/html": [
       "<div>\n",
       "<style scoped>\n",
       "    .dataframe tbody tr th:only-of-type {\n",
       "        vertical-align: middle;\n",
       "    }\n",
       "\n",
       "    .dataframe tbody tr th {\n",
       "        vertical-align: top;\n",
       "    }\n",
       "\n",
       "    .dataframe thead th {\n",
       "        text-align: right;\n",
       "    }\n",
       "</style>\n",
       "<table border=\"1\" class=\"dataframe\">\n",
       "  <thead>\n",
       "    <tr style=\"text-align: right;\">\n",
       "      <th></th>\n",
       "      <th>pmid</th>\n",
       "      <th>publication_date</th>\n",
       "      <th>publication_type</th>\n",
       "      <th>article_title</th>\n",
       "      <th>abstract</th>\n",
       "      <th>keywords</th>\n",
       "      <th>journal</th>\n",
       "      <th>num_abstracts_retrieved</th>\n",
       "      <th>num_abstracts_requested</th>\n",
       "      <th>query_string</th>\n",
       "      <th>num_total_matches</th>\n",
       "      <th>all_matching_pmids</th>\n",
       "      <th>acquisition_date</th>\n",
       "      <th>disease</th>\n",
       "    </tr>\n",
       "  </thead>\n",
       "  <tbody>\n",
       "    <tr>\n",
       "      <th>0</th>\n",
       "      <td>37256976</td>\n",
       "      <td>2023 Jun 01</td>\n",
       "      <td>Clinical Trial, Phase III|Journal Article|Rand...</td>\n",
       "      <td>Capivasertib in Hormone Receptor-Positive Adva...</td>\n",
       "      <td>[BACKGROUND]AKT pathway activation is implicat...</td>\n",
       "      <td></td>\n",
       "      <td>The New England journal of medicine</td>\n",
       "      <td>30</td>\n",
       "      <td>30</td>\n",
       "      <td>(2023/01/01:3000/12/31[Date - Publication] AND...</td>\n",
       "      <td>9701</td>\n",
       "      <td>37256976,37070653,37147285,37723305,36585452,3...</td>\n",
       "      <td>2024-03-21</td>\n",
       "      <td>breast+cancer</td>\n",
       "    </tr>\n",
       "    <tr>\n",
       "      <th>1</th>\n",
       "      <td>37070653</td>\n",
       "      <td>2023 Mar</td>\n",
       "      <td>Clinical Trial Protocol|Journal Article</td>\n",
       "      <td>Design of SERENA-6, a phase III switching tria...</td>\n",
       "      <td>ESR1 mutation (ESR1m) is a frequent cause of a...</td>\n",
       "      <td>ESR1 mutation|advanced breast cancer|camizestr...</td>\n",
       "      <td>Future oncology (London, England)</td>\n",
       "      <td>30</td>\n",
       "      <td>30</td>\n",
       "      <td>(2023/01/01:3000/12/31[Date - Publication] AND...</td>\n",
       "      <td>9701</td>\n",
       "      <td>37256976,37070653,37147285,37723305,36585452,3...</td>\n",
       "      <td>2024-03-21</td>\n",
       "      <td>breast+cancer</td>\n",
       "    </tr>\n",
       "    <tr>\n",
       "      <th>2</th>\n",
       "      <td>37147285</td>\n",
       "      <td>2023 May 05</td>\n",
       "      <td>Journal Article|Research Support, Non-U.S. Gov't</td>\n",
       "      <td>KK-LC-1 as a therapeutic target to eliminate ALDH</td>\n",
       "      <td>Failure to achieve complete elimination of tri...</td>\n",
       "      <td></td>\n",
       "      <td>Nature communications</td>\n",
       "      <td>30</td>\n",
       "      <td>30</td>\n",
       "      <td>(2023/01/01:3000/12/31[Date - Publication] AND...</td>\n",
       "      <td>9701</td>\n",
       "      <td>37256976,37070653,37147285,37723305,36585452,3...</td>\n",
       "      <td>2024-03-21</td>\n",
       "      <td>breast+cancer</td>\n",
       "    </tr>\n",
       "    <tr>\n",
       "      <th>3</th>\n",
       "      <td>37723305</td>\n",
       "      <td>2023 Oct</td>\n",
       "      <td>Journal Article</td>\n",
       "      <td>Acetate acts as a metabolic immunomodulator by...</td>\n",
       "      <td>Acetate metabolism is an important metabolic p...</td>\n",
       "      <td></td>\n",
       "      <td>Nature cancerMain References:Methods Only Refe...</td>\n",
       "      <td>30</td>\n",
       "      <td>30</td>\n",
       "      <td>(2023/01/01:3000/12/31[Date - Publication] AND...</td>\n",
       "      <td>9701</td>\n",
       "      <td>37256976,37070653,37147285,37723305,36585452,3...</td>\n",
       "      <td>2024-03-21</td>\n",
       "      <td>breast+cancer</td>\n",
       "    </tr>\n",
       "    <tr>\n",
       "      <th>4</th>\n",
       "      <td>36585452</td>\n",
       "      <td>2023 Feb</td>\n",
       "      <td>Journal Article|Research Support, Non-U.S. Gov...</td>\n",
       "      <td>Network-based assessment of HDAC6 activity pre...</td>\n",
       "      <td>Inhibiting individual histone deacetylase (HDA...</td>\n",
       "      <td></td>\n",
       "      <td>Nature cancerMETHODS-ONLY REFERENCES</td>\n",
       "      <td>30</td>\n",
       "      <td>30</td>\n",
       "      <td>(2023/01/01:3000/12/31[Date - Publication] AND...</td>\n",
       "      <td>9701</td>\n",
       "      <td>37256976,37070653,37147285,37723305,36585452,3...</td>\n",
       "      <td>2024-03-21</td>\n",
       "      <td>breast+cancer</td>\n",
       "    </tr>\n",
       "    <tr>\n",
       "      <th>...</th>\n",
       "      <td>...</td>\n",
       "      <td>...</td>\n",
       "      <td>...</td>\n",
       "      <td>...</td>\n",
       "      <td>...</td>\n",
       "      <td>...</td>\n",
       "      <td>...</td>\n",
       "      <td>...</td>\n",
       "      <td>...</td>\n",
       "      <td>...</td>\n",
       "      <td>...</td>\n",
       "      <td>...</td>\n",
       "      <td>...</td>\n",
       "      <td>...</td>\n",
       "    </tr>\n",
       "    <tr>\n",
       "      <th>25</th>\n",
       "      <td>37460404</td>\n",
       "      <td>2023 Nov</td>\n",
       "      <td>Journal Article</td>\n",
       "      <td>Drug Repurposing-Based Brain-Targeting Self-As...</td>\n",
       "      <td>Glioblastoma (GBM), the most aggressive and le...</td>\n",
       "      <td>blood-brain barriers|chemophototherapy|drug re...</td>\n",
       "      <td>Small (Weinheim an der Bergstrasse, Germany)</td>\n",
       "      <td>30</td>\n",
       "      <td>30</td>\n",
       "      <td>(2023/01/01:3000/12/31[Date - Publication] AND...</td>\n",
       "      <td>1886</td>\n",
       "      <td>36791206,37451272,36749723,37935665,36966152,3...</td>\n",
       "      <td>2024-03-21</td>\n",
       "      <td>glioblastoma</td>\n",
       "    </tr>\n",
       "    <tr>\n",
       "      <th>26</th>\n",
       "      <td>37244935</td>\n",
       "      <td>2023 May 27</td>\n",
       "      <td>Journal Article|Research Support, Non-U.S. Gov't</td>\n",
       "      <td>macroH2A2 antagonizes epigenetic programs of s...</td>\n",
       "      <td>Self-renewal is a crucial property of glioblas...</td>\n",
       "      <td></td>\n",
       "      <td>Nature communications</td>\n",
       "      <td>30</td>\n",
       "      <td>30</td>\n",
       "      <td>(2023/01/01:3000/12/31[Date - Publication] AND...</td>\n",
       "      <td>1886</td>\n",
       "      <td>36791206,37451272,36749723,37935665,36966152,3...</td>\n",
       "      <td>2024-03-21</td>\n",
       "      <td>glioblastoma</td>\n",
       "    </tr>\n",
       "    <tr>\n",
       "      <th>27</th>\n",
       "      <td>37886538</td>\n",
       "      <td>2023 Oct 05</td>\n",
       "      <td>Preprint</td>\n",
       "      <td>LDHA-regulated tumor-macrophage symbiosis prom...</td>\n",
       "      <td>Abundant macrophage infiltration and altered t...</td>\n",
       "      <td></td>\n",
       "      <td>Research square</td>\n",
       "      <td>30</td>\n",
       "      <td>30</td>\n",
       "      <td>(2023/01/01:3000/12/31[Date - Publication] AND...</td>\n",
       "      <td>1886</td>\n",
       "      <td>36791206,37451272,36749723,37935665,36966152,3...</td>\n",
       "      <td>2024-03-21</td>\n",
       "      <td>glioblastoma</td>\n",
       "    </tr>\n",
       "    <tr>\n",
       "      <th>28</th>\n",
       "      <td>37672559</td>\n",
       "      <td>2023 Sep 19</td>\n",
       "      <td>Research Support, N.I.H., Extramural|Editorial...</td>\n",
       "      <td>Overcoming EGFR inhibitor resistance in Gliobl...</td>\n",
       "      <td></td>\n",
       "      <td></td>\n",
       "      <td>Proceedings of the National Academy of Science...</td>\n",
       "      <td>30</td>\n",
       "      <td>30</td>\n",
       "      <td>(2023/01/01:3000/12/31[Date - Publication] AND...</td>\n",
       "      <td>1886</td>\n",
       "      <td>36791206,37451272,36749723,37935665,36966152,3...</td>\n",
       "      <td>2024-03-21</td>\n",
       "      <td>glioblastoma</td>\n",
       "    </tr>\n",
       "    <tr>\n",
       "      <th>29</th>\n",
       "      <td>37147437</td>\n",
       "      <td>2023 Jun</td>\n",
       "      <td>Journal Article</td>\n",
       "      <td>EZH2-Myc driven glioblastoma elicited by cytom...</td>\n",
       "      <td>Mounting evidence is identifying human cytomeg...</td>\n",
       "      <td></td>\n",
       "      <td>Oncogene</td>\n",
       "      <td>30</td>\n",
       "      <td>30</td>\n",
       "      <td>(2023/01/01:3000/12/31[Date - Publication] AND...</td>\n",
       "      <td>1886</td>\n",
       "      <td>36791206,37451272,36749723,37935665,36966152,3...</td>\n",
       "      <td>2024-03-21</td>\n",
       "      <td>glioblastoma</td>\n",
       "    </tr>\n",
       "  </tbody>\n",
       "</table>\n",
       "<p>87 rows × 14 columns</p>\n",
       "</div>"
      ],
      "text/plain": [
       "        pmid publication_date   \n",
       "0   37256976      2023 Jun 01  \\\n",
       "1   37070653         2023 Mar   \n",
       "2   37147285      2023 May 05   \n",
       "3   37723305         2023 Oct   \n",
       "4   36585452         2023 Feb   \n",
       "..       ...              ...   \n",
       "25  37460404         2023 Nov   \n",
       "26  37244935      2023 May 27   \n",
       "27  37886538      2023 Oct 05   \n",
       "28  37672559      2023 Sep 19   \n",
       "29  37147437         2023 Jun   \n",
       "\n",
       "                                     publication_type   \n",
       "0   Clinical Trial, Phase III|Journal Article|Rand...  \\\n",
       "1             Clinical Trial Protocol|Journal Article   \n",
       "2    Journal Article|Research Support, Non-U.S. Gov't   \n",
       "3                                     Journal Article   \n",
       "4   Journal Article|Research Support, Non-U.S. Gov...   \n",
       "..                                                ...   \n",
       "25                                    Journal Article   \n",
       "26   Journal Article|Research Support, Non-U.S. Gov't   \n",
       "27                                           Preprint   \n",
       "28  Research Support, N.I.H., Extramural|Editorial...   \n",
       "29                                    Journal Article   \n",
       "\n",
       "                                        article_title   \n",
       "0   Capivasertib in Hormone Receptor-Positive Adva...  \\\n",
       "1   Design of SERENA-6, a phase III switching tria...   \n",
       "2   KK-LC-1 as a therapeutic target to eliminate ALDH   \n",
       "3   Acetate acts as a metabolic immunomodulator by...   \n",
       "4   Network-based assessment of HDAC6 activity pre...   \n",
       "..                                                ...   \n",
       "25  Drug Repurposing-Based Brain-Targeting Self-As...   \n",
       "26  macroH2A2 antagonizes epigenetic programs of s...   \n",
       "27  LDHA-regulated tumor-macrophage symbiosis prom...   \n",
       "28  Overcoming EGFR inhibitor resistance in Gliobl...   \n",
       "29  EZH2-Myc driven glioblastoma elicited by cytom...   \n",
       "\n",
       "                                             abstract   \n",
       "0   [BACKGROUND]AKT pathway activation is implicat...  \\\n",
       "1   ESR1 mutation (ESR1m) is a frequent cause of a...   \n",
       "2   Failure to achieve complete elimination of tri...   \n",
       "3   Acetate metabolism is an important metabolic p...   \n",
       "4   Inhibiting individual histone deacetylase (HDA...   \n",
       "..                                                ...   \n",
       "25  Glioblastoma (GBM), the most aggressive and le...   \n",
       "26  Self-renewal is a crucial property of glioblas...   \n",
       "27  Abundant macrophage infiltration and altered t...   \n",
       "28                                                      \n",
       "29  Mounting evidence is identifying human cytomeg...   \n",
       "\n",
       "                                             keywords   \n",
       "0                                                      \\\n",
       "1   ESR1 mutation|advanced breast cancer|camizestr...   \n",
       "2                                                       \n",
       "3                                                       \n",
       "4                                                       \n",
       "..                                                ...   \n",
       "25  blood-brain barriers|chemophototherapy|drug re...   \n",
       "26                                                      \n",
       "27                                                      \n",
       "28                                                      \n",
       "29                                                      \n",
       "\n",
       "                                              journal   \n",
       "0                 The New England journal of medicine  \\\n",
       "1                   Future oncology (London, England)   \n",
       "2                               Nature communications   \n",
       "3   Nature cancerMain References:Methods Only Refe...   \n",
       "4                Nature cancerMETHODS-ONLY REFERENCES   \n",
       "..                                                ...   \n",
       "25       Small (Weinheim an der Bergstrasse, Germany)   \n",
       "26                              Nature communications   \n",
       "27                                    Research square   \n",
       "28  Proceedings of the National Academy of Science...   \n",
       "29                                           Oncogene   \n",
       "\n",
       "    num_abstracts_retrieved  num_abstracts_requested   \n",
       "0                        30                       30  \\\n",
       "1                        30                       30   \n",
       "2                        30                       30   \n",
       "3                        30                       30   \n",
       "4                        30                       30   \n",
       "..                      ...                      ...   \n",
       "25                       30                       30   \n",
       "26                       30                       30   \n",
       "27                       30                       30   \n",
       "28                       30                       30   \n",
       "29                       30                       30   \n",
       "\n",
       "                                         query_string  num_total_matches   \n",
       "0   (2023/01/01:3000/12/31[Date - Publication] AND...               9701  \\\n",
       "1   (2023/01/01:3000/12/31[Date - Publication] AND...               9701   \n",
       "2   (2023/01/01:3000/12/31[Date - Publication] AND...               9701   \n",
       "3   (2023/01/01:3000/12/31[Date - Publication] AND...               9701   \n",
       "4   (2023/01/01:3000/12/31[Date - Publication] AND...               9701   \n",
       "..                                                ...                ...   \n",
       "25  (2023/01/01:3000/12/31[Date - Publication] AND...               1886   \n",
       "26  (2023/01/01:3000/12/31[Date - Publication] AND...               1886   \n",
       "27  (2023/01/01:3000/12/31[Date - Publication] AND...               1886   \n",
       "28  (2023/01/01:3000/12/31[Date - Publication] AND...               1886   \n",
       "29  (2023/01/01:3000/12/31[Date - Publication] AND...               1886   \n",
       "\n",
       "                                   all_matching_pmids acquisition_date   \n",
       "0   37256976,37070653,37147285,37723305,36585452,3...       2024-03-21  \\\n",
       "1   37256976,37070653,37147285,37723305,36585452,3...       2024-03-21   \n",
       "2   37256976,37070653,37147285,37723305,36585452,3...       2024-03-21   \n",
       "3   37256976,37070653,37147285,37723305,36585452,3...       2024-03-21   \n",
       "4   37256976,37070653,37147285,37723305,36585452,3...       2024-03-21   \n",
       "..                                                ...              ...   \n",
       "25  36791206,37451272,36749723,37935665,36966152,3...       2024-03-21   \n",
       "26  36791206,37451272,36749723,37935665,36966152,3...       2024-03-21   \n",
       "27  36791206,37451272,36749723,37935665,36966152,3...       2024-03-21   \n",
       "28  36791206,37451272,36749723,37935665,36966152,3...       2024-03-21   \n",
       "29  36791206,37451272,36749723,37935665,36966152,3...       2024-03-21   \n",
       "\n",
       "          disease  \n",
       "0   breast+cancer  \n",
       "1   breast+cancer  \n",
       "2   breast+cancer  \n",
       "3   breast+cancer  \n",
       "4   breast+cancer  \n",
       "..            ...  \n",
       "25   glioblastoma  \n",
       "26   glioblastoma  \n",
       "27   glioblastoma  \n",
       "28   glioblastoma  \n",
       "29   glioblastoma  \n",
       "\n",
       "[87 rows x 14 columns]"
      ]
     },
     "execution_count": 15,
     "metadata": {},
     "output_type": "execute_result"
    }
   ],
   "source": [
    "final_df"
   ]
  },
  {
   "cell_type": "markdown",
   "id": "7db788dc",
   "metadata": {},
   "source": [
    "**Final df with the PubMed data showing the information extracted and their dtypes.**"
   ]
  },
  {
   "cell_type": "code",
   "execution_count": 16,
   "id": "9df2271e",
   "metadata": {},
   "outputs": [
    {
     "data": {
      "text/plain": [
       "pmid                       object\n",
       "publication_date           object\n",
       "publication_type           object\n",
       "article_title              object\n",
       "abstract                   object\n",
       "keywords                   object\n",
       "journal                    object\n",
       "num_abstracts_retrieved     int64\n",
       "num_abstracts_requested     int64\n",
       "query_string               object\n",
       "num_total_matches           int64\n",
       "all_matching_pmids         object\n",
       "acquisition_date           object\n",
       "disease                    object\n",
       "dtype: object"
      ]
     },
     "execution_count": 16,
     "metadata": {},
     "output_type": "execute_result"
    }
   ],
   "source": [
    "final_df.dtypes"
   ]
  },
  {
   "cell_type": "markdown",
   "id": "53e6d697",
   "metadata": {},
   "source": [
    "**Save the df as a CSV.**"
   ]
  },
  {
   "cell_type": "code",
   "execution_count": 43,
   "id": "126c8f7a",
   "metadata": {},
   "outputs": [],
   "source": [
    "final_df.to_csv(pubmed_output,index=False)"
   ]
  },
  {
   "cell_type": "markdown",
   "id": "1cba9eb0",
   "metadata": {},
   "source": [
    "# 2. Prepare prompt text<a id=\"prompt\"></a>"
   ]
  },
  {
   "cell_type": "markdown",
   "id": "4e1e13f3",
   "metadata": {},
   "source": [
    "<span style=\"font-size:20px;\">**Method**</span>\n",
    "\n",
    "* Please see the notebook llms_playground which shows extensive experimentation to determine OpenAI API workflow, feasibility of using GPT for entity extraction, prompt language testing, including one-shot and few shot learning, and extraction of relevant data from completions into a df.\n",
    "* The following prompt was selected after testing a series of zero-shot, one-shot, and few-shot prompt formats.\n",
    "* Following system text and user instructions are the basis of the prompt text going inside the messages list when calling the openai API. These are first saved into json files.\n",
    "* The abstract text is appended to the user text, beneath 'TASKS'."
   ]
  },
  {
   "cell_type": "code",
   "execution_count": 20,
   "id": "01ec781f",
   "metadata": {},
   "outputs": [
    {
     "data": {
      "text/plain": [
       "{'role': 'system',\n",
       " 'content': 'You are a meticulous data scientist working on named entity recognition and building out a drug-target dataset from biomedical text. Only consider the text given to you.'}"
      ]
     },
     "execution_count": 20,
     "metadata": {},
     "output_type": "execute_result"
    }
   ],
   "source": [
    "system_data = {\"role\":\"system\",\"content\": \"You are a meticulous data scientist working on named entity recognition and building out a drug-target dataset from biomedical text. Only consider the text given to you.\"}\n",
    "system_data"
   ]
  },
  {
   "cell_type": "code",
   "execution_count": 21,
   "id": "f8402a43",
   "metadata": {},
   "outputs": [],
   "source": [
    "user_data = {\"role\":\"user\",\"content\":\"\"\"Look at the examples delimited by ### and the rules delimited by ***.\n",
    "*** RULES\n",
    "For each of the text shown under TASKS, do the following:\n",
    "1. Identify which drugs have been tested and create a set for each. \n",
    "2. Return multiple sets if more than drug is present in the text.\n",
    "For each drug:\n",
    "3. Get direct target: Use the following logic: if the text clearly and directly mentions that the drug targets a gene and has also defined the type of interaction\n",
    "4. Get interaction type between the drug and direct target: if explicitly and clearly mentioned, then get the drug-direct target relationship type. What does the drug do to the direct target? inhibitor, activator, etc.?\n",
    "5. Get groups tested: specify which type of genes was the drug tested on, eg. if drug was tested on samples showing high expression of certain gene.\n",
    "6. Collect all disease names for which the drug has been tested into 1 list.\n",
    "7. Extract any specific ClinicalTrials.gov identifier or number.\n",
    "8. For each drug, construct a set consisting of (drug name, direct target, drug-direct target interaction, tested or effective group, ClinicalTrials.gov number, all diseases that the drug is tested in)\n",
    "9. Any empty values should be indicated by null and not an empty string.\n",
    "10. Double check your logic and see if the data you have collected is actually reflected in the text. If not, make revisions.\n",
    "11. Both, direct target, and drug-direct target interaction fields should have been filled or both should be null. Only one of these fields cannot be null.\n",
    "12. Assemble all sets and produce 1 final JSON output in a single line without any whitespaces.\n",
    "***\n",
    "### EXAMPLES\n",
    "PMID23:LKB1/STK11 is a serine/threonine kinase that plays a major role in controlling cell metabolism, resulting in potential therapeutic vulnerabilities in LKB1-mutant cancers. Here, we identify the NAD + degrading ectoenzyme, CD38, as a new target in LKB1-mutant NSCLC. Metabolic profiling of genetically engineered mouse models (GEMMs) revealed that LKB1 mutant lung cancers have a striking increase in ADP-ribose, a breakdown product of the critical redox co-factor, NAD + . Surprisingly, compared with other genetic subsets, murine and human LKB1-mutant NSCLC show marked overexpression of the NAD+-catabolizing ectoenzyme, CD38 on the surface of tumor cells. Loss of LKB1 or inactivation of Salt-Inducible Kinases (SIKs)-key downstream effectors of LKB1- induces CD38 transcription induction via a CREB binding site in the CD38 promoter. Treatment with the FDA-approved anti-CD38 antibody, daratumumab, inhibited growth of LKB1-mutant NSCLC xenografts. Together, these results reveal CD38 as a promising therapeutic target in patients with LKB1 mutant lung cancer.\n",
    "Output:{\"PMID23\": [{\"drug name\": \"daratumumab\",\"target\": [{\"direct target\": \"CD38\",\"drug-direct target interaction\": \"anti-CD38 monoclonal antibody\"},],\"tested or effective group\": [\"LKB-1/STK-11 mutant NSCLC\"],\"drug tested in following diseases\": [\"lung cancer\", \"NSCLC\"],\"ClinicalTrials.gov ID\": []}]}\n",
    "###\n",
    "TASKS:\n",
    "Use the RULES and EXAMPLES and create a similar outputs for the following text delimited by ID:\n",
    "\"\"\"}"
   ]
  },
  {
   "cell_type": "markdown",
   "id": "7ffcac28",
   "metadata": {},
   "source": [
    "**Save these in json files.**"
   ]
  },
  {
   "cell_type": "code",
   "execution_count": 22,
   "id": "a3f63588",
   "metadata": {},
   "outputs": [],
   "source": [
    "with open(system_path, \"w\") as json_file:\n",
    "    json.dump(system_data, json_file)"
   ]
  },
  {
   "cell_type": "code",
   "execution_count": 23,
   "id": "ee12c690",
   "metadata": {},
   "outputs": [],
   "source": [
    "with open(user_path, \"w\") as json_file:\n",
    "    json.dump(user_data, json_file)"
   ]
  },
  {
   "cell_type": "markdown",
   "id": "8af1e314",
   "metadata": {},
   "source": [
    "# 3. Run a pipeline to process 30 randomly selected abstracts<a id=\"pipeline\"></a>"
   ]
  },
  {
   "cell_type": "markdown",
   "id": "2c60cc20",
   "metadata": {},
   "source": [
    "<span style=\"font-size:20px;\">**Method**</span>\n",
    "\n",
    "* Out of the total 87 pubmed articles, only 30 were randomly chosen to generate drug-target dataset using GPT.\n",
    "* A small subset was chosen to confirm feasibility of the approach and show proof of concept.\n",
    "* The GPT chat completions API was used, where the API was called for each abstract.\n",
    "* Each abstract was appended to the user prompt shown above.\n",
    "* Each API call returned the completions as a json output.\n",
    "* After collecting all outputs, entities of interest were extracted from the completions output and organized into a df."
   ]
  },
  {
   "cell_type": "markdown",
   "id": "29a52d16",
   "metadata": {},
   "source": [
    "<span style=\"font-size:20px;\">**Steps**</span>"
   ]
  },
  {
   "cell_type": "markdown",
   "id": "199ba526",
   "metadata": {},
   "source": [
    "**Get the df containing pubmed data (generated above in Step 1).**"
   ]
  },
  {
   "cell_type": "code",
   "execution_count": 24,
   "id": "dc5be52a",
   "metadata": {},
   "outputs": [],
   "source": [
    "df = pd.read_csv(pubmed_output,dtype={'pmid':'str'})"
   ]
  },
  {
   "cell_type": "code",
   "execution_count": 25,
   "id": "6b19185e",
   "metadata": {},
   "outputs": [
    {
     "name": "stdout",
     "output_type": "stream",
     "text": [
      "Function select_pubmed_data complete.\n"
     ]
    }
   ],
   "source": [
    "df1 = openai_api.select_pubmed_data(data_df=df,\n",
    "                                    cols=['pmid','abstract'],\n",
    "                                    num_rows=30,\n",
    "                                    random_state=1)"
   ]
  },
  {
   "cell_type": "markdown",
   "id": "cf0f5060",
   "metadata": {},
   "source": [
    "**Only pubmed ID (PMID) and abstract text are used in the prompts.**"
   ]
  },
  {
   "cell_type": "code",
   "execution_count": 26,
   "id": "16ae5ba8",
   "metadata": {
    "scrolled": false
   },
   "outputs": [
    {
     "data": {
      "text/html": [
       "<div>\n",
       "<style scoped>\n",
       "    .dataframe tbody tr th:only-of-type {\n",
       "        vertical-align: middle;\n",
       "    }\n",
       "\n",
       "    .dataframe tbody tr th {\n",
       "        vertical-align: top;\n",
       "    }\n",
       "\n",
       "    .dataframe thead th {\n",
       "        text-align: right;\n",
       "    }\n",
       "</style>\n",
       "<table border=\"1\" class=\"dataframe\">\n",
       "  <thead>\n",
       "    <tr style=\"text-align: right;\">\n",
       "      <th></th>\n",
       "      <th>pmid</th>\n",
       "      <th>abstract</th>\n",
       "    </tr>\n",
       "  </thead>\n",
       "  <tbody>\n",
       "    <tr>\n",
       "      <th>10</th>\n",
       "      <td>36841821</td>\n",
       "      <td>Pellino-1 (PELI1) is an E3 ubiquitin ligase ac...</td>\n",
       "    </tr>\n",
       "    <tr>\n",
       "      <th>69</th>\n",
       "      <td>36399643</td>\n",
       "      <td>Durable glioblastoma multiforme (GBM) manageme...</td>\n",
       "    </tr>\n",
       "    <tr>\n",
       "      <th>61</th>\n",
       "      <td>36966152</td>\n",
       "      <td>Glioblastoma multiforme (GBM) is the most comm...</td>\n",
       "    </tr>\n",
       "    <tr>\n",
       "      <th>34</th>\n",
       "      <td>37321064</td>\n",
       "      <td>Drug resistance is a major challenge in cancer...</td>\n",
       "    </tr>\n",
       "    <tr>\n",
       "      <th>86</th>\n",
       "      <td>37147437</td>\n",
       "      <td>Mounting evidence is identifying human cytomeg...</td>\n",
       "    </tr>\n",
       "  </tbody>\n",
       "</table>\n",
       "</div>"
      ],
      "text/plain": [
       "        pmid                                           abstract\n",
       "10  36841821  Pellino-1 (PELI1) is an E3 ubiquitin ligase ac...\n",
       "69  36399643  Durable glioblastoma multiforme (GBM) manageme...\n",
       "61  36966152  Glioblastoma multiforme (GBM) is the most comm...\n",
       "34  37321064  Drug resistance is a major challenge in cancer...\n",
       "86  37147437  Mounting evidence is identifying human cytomeg..."
      ]
     },
     "execution_count": 26,
     "metadata": {},
     "output_type": "execute_result"
    }
   ],
   "source": [
    "df1.head()"
   ]
  },
  {
   "cell_type": "code",
   "execution_count": 27,
   "id": "0f88a148",
   "metadata": {},
   "outputs": [
    {
     "data": {
      "text/plain": [
       "30"
      ]
     },
     "execution_count": 27,
     "metadata": {},
     "output_type": "execute_result"
    }
   ],
   "source": [
    "len(df1)"
   ]
  },
  {
   "cell_type": "code",
   "execution_count": 28,
   "id": "a586c35d",
   "metadata": {},
   "outputs": [
    {
     "data": {
      "text/plain": [
       "30"
      ]
     },
     "execution_count": 28,
     "metadata": {},
     "output_type": "execute_result"
    }
   ],
   "source": [
    "df1['pmid'].nunique()"
   ]
  },
  {
   "cell_type": "code",
   "execution_count": 29,
   "id": "273e0fe5",
   "metadata": {},
   "outputs": [
    {
     "data": {
      "text/plain": [
       "dtype('O')"
      ]
     },
     "execution_count": 29,
     "metadata": {},
     "output_type": "execute_result"
    }
   ],
   "source": [
    "df1['pmid'].dtype"
   ]
  },
  {
   "cell_type": "markdown",
   "id": "9ef471f9",
   "metadata": {},
   "source": [
    "**Pass each abstract to the prompt and call the API. Run the whole pipeline for all 30 abstracts, collect all completions in a single dictionary.**"
   ]
  },
  {
   "cell_type": "code",
   "execution_count": 32,
   "id": "648ba64c",
   "metadata": {
    "scrolled": false
   },
   "outputs": [
    {
     "name": "stdout",
     "output_type": "stream",
     "text": [
      "\tBase prompt messages loaded.\n",
      "\tNecessary columns present in the input df.\n",
      "Function setup_client complete.\n",
      "\tClient setup complete.\n",
      "\tProcessing abstracts through the API.\n",
      "Function process_pubmed_data complete in 0:03:21.925227. This run costed $0.41.\n"
     ]
    }
   ],
   "source": [
    "all_completions = openai_api.process_pubmed_data(system_path=system_path,\n",
    "                                                 user_path=user_path,\n",
    "                                                 data_df1=df1,\n",
    "                                                 openai_key_path=openai_key_path,\n",
    "                                                 seed=1,\n",
    "                                                 temperature=0.0)"
   ]
  },
  {
   "cell_type": "markdown",
   "id": "dc4e4cfb",
   "metadata": {},
   "source": [
    "**Save the completions dictionary as a JSON.**"
   ]
  },
  {
   "cell_type": "code",
   "execution_count": 41,
   "id": "da451357",
   "metadata": {},
   "outputs": [],
   "source": [
    "with open(completions_path, \"w\") as json_file:\n",
    "    json.dump(all_completions, json_file)"
   ]
  },
  {
   "cell_type": "markdown",
   "id": "04066a0a",
   "metadata": {},
   "source": [
    "**Take GPT completions and organize them into a df.**"
   ]
  },
  {
   "cell_type": "code",
   "execution_count": 14,
   "id": "a0abddb6",
   "metadata": {},
   "outputs": [],
   "source": [
    "with open(completions_path,\"r\") as json_file:\n",
    "    all_completions = json.load(json_file)\n",
    "    "
   ]
  },
  {
   "cell_type": "code",
   "execution_count": 19,
   "id": "ad3bec14",
   "metadata": {},
   "outputs": [
    {
     "name": "stdout",
     "output_type": "stream",
     "text": [
      "Function get_df_from_completions complete.\n"
     ]
    }
   ],
   "source": [
    "ner_df = openai_api.get_df_from_completions(all_completions=all_completions)"
   ]
  },
  {
   "cell_type": "markdown",
   "id": "7871db6b",
   "metadata": {},
   "source": [
    "<font color='blue'>**Entities extracted by GPT from PubMed abstracts.**</font>\n",
    "\n",
    "* completion_id: ID given by the GPT API for each 'chat' converstation, in this case, each API call processing an abstract and completing the tasks specified in the prompt.\n",
    "\n",
    "* completion_tokens: number of output tokens \n",
    "* prompt_tokens: number of tokens in the input messages\n",
    "* total_tokens: sum of completion and prompt tokens\n",
    "* pmid: PubMed ID\n",
    "\n",
    "Following are extracted by GPT from the abstract text. Brackets indicate the associated task mentioned in the user_data prompt instruction given to the GPT.\n",
    "* drug_name: drug name (Instruction 1)\n",
    "* direct_target: target of the drug (Instruction 3)\n",
    "* drug-direct_target_interaction: relationship or the type of interaction between the drug and the target (Instruction 4)\n",
    "* tested_or_effective_group: a list of specific sample groups that the drug was tested in (Instruction 5)\n",
    "* drug_tested_in_diseases: a list of disease types that the drug was tested in (Instruction 6)\n",
    "* clinical_trials_id: ClinicalTrials.gov identifier if mentioned (Instruction 7)\n"
   ]
  },
  {
   "cell_type": "code",
   "execution_count": 22,
   "id": "0519c71c",
   "metadata": {},
   "outputs": [
    {
     "data": {
      "text/html": [
       "<div>\n",
       "<style scoped>\n",
       "    .dataframe tbody tr th:only-of-type {\n",
       "        vertical-align: middle;\n",
       "    }\n",
       "\n",
       "    .dataframe tbody tr th {\n",
       "        vertical-align: top;\n",
       "    }\n",
       "\n",
       "    .dataframe thead th {\n",
       "        text-align: right;\n",
       "    }\n",
       "</style>\n",
       "<table border=\"1\" class=\"dataframe\">\n",
       "  <thead>\n",
       "    <tr style=\"text-align: right;\">\n",
       "      <th></th>\n",
       "      <th>completion_id</th>\n",
       "      <th>completion_tokens</th>\n",
       "      <th>prompt_tokens</th>\n",
       "      <th>total_tokens</th>\n",
       "      <th>drug_name</th>\n",
       "      <th>tested_or_effective_group</th>\n",
       "      <th>drug_tested_in_diseases</th>\n",
       "      <th>clinical_trials_id</th>\n",
       "      <th>direct_target</th>\n",
       "      <th>drug-direct_target_interaction</th>\n",
       "      <th>pmid</th>\n",
       "    </tr>\n",
       "  </thead>\n",
       "  <tbody>\n",
       "    <tr>\n",
       "      <th>0</th>\n",
       "      <td>chatcmpl-95Fz5ygwhHbh6fS34y9rl6UCQzw7V</td>\n",
       "      <td>61.0</td>\n",
       "      <td>1073.0</td>\n",
       "      <td>1134.0</td>\n",
       "      <td>S62</td>\n",
       "      <td>None</td>\n",
       "      <td>[breast cancer]</td>\n",
       "      <td>None</td>\n",
       "      <td>PELI1/EGFR</td>\n",
       "      <td>disruptor</td>\n",
       "      <td>36841821</td>\n",
       "    </tr>\n",
       "    <tr>\n",
       "      <th>1</th>\n",
       "      <td>chatcmpl-95FzB5d0oHjWiZz8uYJofalUBnFuB</td>\n",
       "      <td>99.0</td>\n",
       "      <td>1131.0</td>\n",
       "      <td>1230.0</td>\n",
       "      <td>regorafenib</td>\n",
       "      <td>None</td>\n",
       "      <td>[GBM]</td>\n",
       "      <td>None</td>\n",
       "      <td>autophagosome-lysosome fusion</td>\n",
       "      <td>inhibitor</td>\n",
       "      <td>36399643</td>\n",
       "    </tr>\n",
       "    <tr>\n",
       "      <th>2</th>\n",
       "      <td>chatcmpl-95FzLUxdFBE1KNul7adDXyaq1Ds0Q</td>\n",
       "      <td>70.0</td>\n",
       "      <td>1086.0</td>\n",
       "      <td>1156.0</td>\n",
       "      <td>fatostatin</td>\n",
       "      <td>None</td>\n",
       "      <td>[glioblastoma, GBM]</td>\n",
       "      <td>None</td>\n",
       "      <td>AKT/mTORC1/GPX4 signaling pathway</td>\n",
       "      <td>inhibitor</td>\n",
       "      <td>36966152</td>\n",
       "    </tr>\n",
       "    <tr>\n",
       "      <th>3</th>\n",
       "      <td>chatcmpl-95FzTMkaW3MDTzy0nvTisQfDIP9bc</td>\n",
       "      <td>78.0</td>\n",
       "      <td>1171.0</td>\n",
       "      <td>1249.0</td>\n",
       "      <td>MAM</td>\n",
       "      <td>[cisplatin-resistant A549, AZD9291-resistant H...</td>\n",
       "      <td>[non-small cell lung cancer, NSCLC]</td>\n",
       "      <td>None</td>\n",
       "      <td>NQO1</td>\n",
       "      <td>activator</td>\n",
       "      <td>37321064</td>\n",
       "    </tr>\n",
       "    <tr>\n",
       "      <th>4</th>\n",
       "      <td>chatcmpl-95FzZlGTV1CFR13ye9QStxhproc0a</td>\n",
       "      <td>130.0</td>\n",
       "      <td>1111.0</td>\n",
       "      <td>1241.0</td>\n",
       "      <td>ganciclovir</td>\n",
       "      <td>[HCMV-induced glioblastoma]</td>\n",
       "      <td>[glioblastoma]</td>\n",
       "      <td>None</td>\n",
       "      <td>EZH2</td>\n",
       "      <td>inhibitor</td>\n",
       "      <td>37147437</td>\n",
       "    </tr>\n",
       "  </tbody>\n",
       "</table>\n",
       "</div>"
      ],
      "text/plain": [
       "                            completion_id completion_tokens prompt_tokens   \n",
       "0  chatcmpl-95Fz5ygwhHbh6fS34y9rl6UCQzw7V              61.0        1073.0  \\\n",
       "1  chatcmpl-95FzB5d0oHjWiZz8uYJofalUBnFuB              99.0        1131.0   \n",
       "2  chatcmpl-95FzLUxdFBE1KNul7adDXyaq1Ds0Q              70.0        1086.0   \n",
       "3  chatcmpl-95FzTMkaW3MDTzy0nvTisQfDIP9bc              78.0        1171.0   \n",
       "4  chatcmpl-95FzZlGTV1CFR13ye9QStxhproc0a             130.0        1111.0   \n",
       "\n",
       "  total_tokens    drug_name   \n",
       "0       1134.0          S62  \\\n",
       "1       1230.0  regorafenib   \n",
       "2       1156.0   fatostatin   \n",
       "3       1249.0          MAM   \n",
       "4       1241.0  ganciclovir   \n",
       "\n",
       "                           tested_or_effective_group   \n",
       "0                                               None  \\\n",
       "1                                               None   \n",
       "2                                               None   \n",
       "3  [cisplatin-resistant A549, AZD9291-resistant H...   \n",
       "4                        [HCMV-induced glioblastoma]   \n",
       "\n",
       "               drug_tested_in_diseases clinical_trials_id   \n",
       "0                      [breast cancer]               None  \\\n",
       "1                                [GBM]               None   \n",
       "2                  [glioblastoma, GBM]               None   \n",
       "3  [non-small cell lung cancer, NSCLC]               None   \n",
       "4                       [glioblastoma]               None   \n",
       "\n",
       "                       direct_target drug-direct_target_interaction      pmid  \n",
       "0                         PELI1/EGFR                      disruptor  36841821  \n",
       "1      autophagosome-lysosome fusion                      inhibitor  36399643  \n",
       "2  AKT/mTORC1/GPX4 signaling pathway                      inhibitor  36966152  \n",
       "3                               NQO1                      activator  37321064  \n",
       "4                               EZH2                      inhibitor  37147437  "
      ]
     },
     "execution_count": 22,
     "metadata": {},
     "output_type": "execute_result"
    }
   ],
   "source": [
    "ner_df.head()"
   ]
  },
  {
   "cell_type": "markdown",
   "id": "d4bb2d56",
   "metadata": {},
   "source": [
    "**Save the results from the API as a CSV.**"
   ]
  },
  {
   "cell_type": "code",
   "execution_count": 23,
   "id": "afdf1420",
   "metadata": {},
   "outputs": [],
   "source": [
    "ner_df.to_csv(ner_path,index=False)"
   ]
  },
  {
   "cell_type": "markdown",
   "id": "b4b5a088",
   "metadata": {},
   "source": [
    "**Write the PMIDs to Google Sheets so that manually curated data can be added in Sheets.**"
   ]
  },
  {
   "cell_type": "code",
   "execution_count": 62,
   "id": "f1222f0b",
   "metadata": {},
   "outputs": [],
   "source": [
    "utils.write_data_to_sheets(df=ner_df,\n",
    "                           credentials_path=credentials_path,\n",
    "                           sheets_filename='pubmed_manual_curated',\n",
    "                           sheets_sheetname='run_1',\n",
    "                           columns_to_write=['pmid'])"
   ]
  },
  {
   "cell_type": "markdown",
   "id": "09e9a955",
   "metadata": {},
   "source": [
    "# 4. Evaluate<a id=\"evaluate\"></a>"
   ]
  },
  {
   "cell_type": "markdown",
   "id": "0bb85a09",
   "metadata": {},
   "source": [
    "<span style=\"font-size:20px;\">**Method**</span>"
   ]
  },
  {
   "cell_type": "markdown",
   "id": "894c9f4c",
   "metadata": {},
   "source": [
    "* For evaluation, a manually curated dataset was prepared for all the 30 abstracts.\n",
    "* Of all the extracted information types, the following 3 are the most important and complex to identify:\n",
    "drug name, target, and drug-target interaction types.\n",
    "* Hence, metrics were obtained only for these 3 data types by comparing the results from GPT-4 and the manually curated dataset.\n",
    "* In general, the fuzzywuzzy package was used for comparing two strings. However, different scorers and cutoffs were used for assessing each data type and the logic behind each are explained further in the sections below.\n",
    "* Overall, this is the strategy used for evaluation, in comparison with manually curated data:"
   ]
  },
  {
   "cell_type": "raw",
   "id": "39c6448f",
   "metadata": {},
   "source": [
    "LEVEL 1 - Drug name\n",
    "  |       For each abstract/PMID, get drug names correctly identified by GPT-4.\n",
    "  |\n",
    "  |_ LEVEL 2 - Target\n",
    "       |       For drugs that were extracted correctly, did GPT-4 identified the associated targets correctly?\n",
    "       |\n",
    "       |_ LEVEL 3 - Drug-Target interaction\n",
    "            For drug-target pairs that were extracted correctly, did GPT-4 capture their interaction type properly? "
   ]
  },
  {
   "cell_type": "markdown",
   "id": "75091a0c",
   "metadata": {},
   "source": [
    "* As shown in the above schematic, level 2 evaluation is dependent on level 1, and level 3 evaluation is dependent on entities (drug-target pairs) captured in level 2.\n",
    "* Drug name is the most important and primary data type.\n",
    "* So, in level 2, targets aren't assessed if their drug was not extracted correctly from the abstract.\n",
    "* Similarly, in level 3, drug-target interaction type values are not assessed if both, the drug and corresponding targets were captured correctly by GPT-4."
   ]
  },
  {
   "cell_type": "markdown",
   "id": "6c0635ed",
   "metadata": {},
   "source": [
    "<span style=\"font-size:20px;\">**Steps**</span>"
   ]
  },
  {
   "cell_type": "markdown",
   "id": "8860a009",
   "metadata": {},
   "source": [
    "**Get the entities extracted by GPT-4.**"
   ]
  },
  {
   "cell_type": "code",
   "execution_count": 115,
   "id": "ddaa383a",
   "metadata": {},
   "outputs": [],
   "source": [
    "ner_df = pd.read_csv(ner_path,\n",
    "                     dtype={'pmid':'str'})"
   ]
  },
  {
   "cell_type": "code",
   "execution_count": 116,
   "id": "1f18fe0f",
   "metadata": {},
   "outputs": [
    {
     "data": {
      "text/html": [
       "<div>\n",
       "<style scoped>\n",
       "    .dataframe tbody tr th:only-of-type {\n",
       "        vertical-align: middle;\n",
       "    }\n",
       "\n",
       "    .dataframe tbody tr th {\n",
       "        vertical-align: top;\n",
       "    }\n",
       "\n",
       "    .dataframe thead th {\n",
       "        text-align: right;\n",
       "    }\n",
       "</style>\n",
       "<table border=\"1\" class=\"dataframe\">\n",
       "  <thead>\n",
       "    <tr style=\"text-align: right;\">\n",
       "      <th></th>\n",
       "      <th>completion_id</th>\n",
       "      <th>completion_tokens</th>\n",
       "      <th>prompt_tokens</th>\n",
       "      <th>total_tokens</th>\n",
       "      <th>drug_name</th>\n",
       "      <th>tested_or_effective_group</th>\n",
       "      <th>drug_tested_in_diseases</th>\n",
       "      <th>clinical_trials_id</th>\n",
       "      <th>direct_target</th>\n",
       "      <th>drug-direct_target_interaction</th>\n",
       "      <th>pmid</th>\n",
       "    </tr>\n",
       "  </thead>\n",
       "  <tbody>\n",
       "    <tr>\n",
       "      <th>0</th>\n",
       "      <td>chatcmpl-95Fz5ygwhHbh6fS34y9rl6UCQzw7V</td>\n",
       "      <td>61.0</td>\n",
       "      <td>1073.0</td>\n",
       "      <td>1134.0</td>\n",
       "      <td>S62</td>\n",
       "      <td>NaN</td>\n",
       "      <td>['breast cancer']</td>\n",
       "      <td>NaN</td>\n",
       "      <td>PELI1/EGFR</td>\n",
       "      <td>disruptor</td>\n",
       "      <td>36841821</td>\n",
       "    </tr>\n",
       "    <tr>\n",
       "      <th>1</th>\n",
       "      <td>chatcmpl-95FzB5d0oHjWiZz8uYJofalUBnFuB</td>\n",
       "      <td>99.0</td>\n",
       "      <td>1131.0</td>\n",
       "      <td>1230.0</td>\n",
       "      <td>regorafenib</td>\n",
       "      <td>NaN</td>\n",
       "      <td>['GBM']</td>\n",
       "      <td>NaN</td>\n",
       "      <td>autophagosome-lysosome fusion</td>\n",
       "      <td>inhibitor</td>\n",
       "      <td>36399643</td>\n",
       "    </tr>\n",
       "    <tr>\n",
       "      <th>2</th>\n",
       "      <td>chatcmpl-95FzLUxdFBE1KNul7adDXyaq1Ds0Q</td>\n",
       "      <td>70.0</td>\n",
       "      <td>1086.0</td>\n",
       "      <td>1156.0</td>\n",
       "      <td>fatostatin</td>\n",
       "      <td>NaN</td>\n",
       "      <td>['glioblastoma', 'GBM']</td>\n",
       "      <td>NaN</td>\n",
       "      <td>AKT/mTORC1/GPX4 signaling pathway</td>\n",
       "      <td>inhibitor</td>\n",
       "      <td>36966152</td>\n",
       "    </tr>\n",
       "    <tr>\n",
       "      <th>3</th>\n",
       "      <td>chatcmpl-95FzTMkaW3MDTzy0nvTisQfDIP9bc</td>\n",
       "      <td>78.0</td>\n",
       "      <td>1171.0</td>\n",
       "      <td>1249.0</td>\n",
       "      <td>MAM</td>\n",
       "      <td>['cisplatin-resistant A549', 'AZD9291-resistan...</td>\n",
       "      <td>['non-small cell lung cancer', 'NSCLC']</td>\n",
       "      <td>NaN</td>\n",
       "      <td>NQO1</td>\n",
       "      <td>activator</td>\n",
       "      <td>37321064</td>\n",
       "    </tr>\n",
       "    <tr>\n",
       "      <th>4</th>\n",
       "      <td>chatcmpl-95FzZlGTV1CFR13ye9QStxhproc0a</td>\n",
       "      <td>130.0</td>\n",
       "      <td>1111.0</td>\n",
       "      <td>1241.0</td>\n",
       "      <td>ganciclovir</td>\n",
       "      <td>['HCMV-induced glioblastoma']</td>\n",
       "      <td>['glioblastoma']</td>\n",
       "      <td>NaN</td>\n",
       "      <td>EZH2</td>\n",
       "      <td>inhibitor</td>\n",
       "      <td>37147437</td>\n",
       "    </tr>\n",
       "  </tbody>\n",
       "</table>\n",
       "</div>"
      ],
      "text/plain": [
       "                            completion_id  completion_tokens  prompt_tokens   \n",
       "0  chatcmpl-95Fz5ygwhHbh6fS34y9rl6UCQzw7V               61.0         1073.0  \\\n",
       "1  chatcmpl-95FzB5d0oHjWiZz8uYJofalUBnFuB               99.0         1131.0   \n",
       "2  chatcmpl-95FzLUxdFBE1KNul7adDXyaq1Ds0Q               70.0         1086.0   \n",
       "3  chatcmpl-95FzTMkaW3MDTzy0nvTisQfDIP9bc               78.0         1171.0   \n",
       "4  chatcmpl-95FzZlGTV1CFR13ye9QStxhproc0a              130.0         1111.0   \n",
       "\n",
       "   total_tokens    drug_name   \n",
       "0        1134.0          S62  \\\n",
       "1        1230.0  regorafenib   \n",
       "2        1156.0   fatostatin   \n",
       "3        1249.0          MAM   \n",
       "4        1241.0  ganciclovir   \n",
       "\n",
       "                           tested_or_effective_group   \n",
       "0                                                NaN  \\\n",
       "1                                                NaN   \n",
       "2                                                NaN   \n",
       "3  ['cisplatin-resistant A549', 'AZD9291-resistan...   \n",
       "4                      ['HCMV-induced glioblastoma']   \n",
       "\n",
       "                   drug_tested_in_diseases clinical_trials_id   \n",
       "0                        ['breast cancer']                NaN  \\\n",
       "1                                  ['GBM']                NaN   \n",
       "2                  ['glioblastoma', 'GBM']                NaN   \n",
       "3  ['non-small cell lung cancer', 'NSCLC']                NaN   \n",
       "4                         ['glioblastoma']                NaN   \n",
       "\n",
       "                       direct_target drug-direct_target_interaction      pmid  \n",
       "0                         PELI1/EGFR                      disruptor  36841821  \n",
       "1      autophagosome-lysosome fusion                      inhibitor  36399643  \n",
       "2  AKT/mTORC1/GPX4 signaling pathway                      inhibitor  36966152  \n",
       "3                               NQO1                      activator  37321064  \n",
       "4                               EZH2                      inhibitor  37147437  "
      ]
     },
     "execution_count": 116,
     "metadata": {},
     "output_type": "execute_result"
    }
   ],
   "source": [
    "ner_df.head()"
   ]
  },
  {
   "cell_type": "markdown",
   "id": "2c0bc8fa",
   "metadata": {},
   "source": [
    "**Run cleaning steps and read specific data types consistently.**"
   ]
  },
  {
   "cell_type": "code",
   "execution_count": 117,
   "id": "46218b52",
   "metadata": {},
   "outputs": [],
   "source": [
    "ner_df['tested_or_effective_group'] = ner_df['tested_or_effective_group'].apply(utils.convert_string_to_structure)"
   ]
  },
  {
   "cell_type": "code",
   "execution_count": 118,
   "id": "12c5147f",
   "metadata": {},
   "outputs": [],
   "source": [
    "ner_df['drug_tested_in_diseases'] = ner_df['drug_tested_in_diseases'].apply(utils.convert_string_to_structure)"
   ]
  },
  {
   "cell_type": "code",
   "execution_count": 119,
   "id": "422986da",
   "metadata": {},
   "outputs": [],
   "source": [
    "ner_df2 = utils.clean_missing_data(ner_df)"
   ]
  },
  {
   "cell_type": "markdown",
   "id": "08e4ba9f",
   "metadata": {},
   "source": [
    "**Get manually curated data present in Google Sheets.**"
   ]
  },
  {
   "cell_type": "code",
   "execution_count": 120,
   "id": "8969dffb",
   "metadata": {},
   "outputs": [],
   "source": [
    "sheets_filename='pubmed_manual_curated'\n",
    "sheets_sheetname='run_1'\n",
    "start_cell='A1'\n",
    "end_cell='G68'"
   ]
  },
  {
   "cell_type": "code",
   "execution_count": 121,
   "id": "83df7593",
   "metadata": {},
   "outputs": [],
   "source": [
    "manual_df = utils.read_data_from_sheets(credentials_path,\n",
    "                                        sheets_filename,\n",
    "                                        sheets_sheetname,\n",
    "                                        start_cell,\n",
    "                                        end_cell)"
   ]
  },
  {
   "cell_type": "markdown",
   "id": "e2c0c8ed",
   "metadata": {},
   "source": [
    "**Run cleaning steps and read specific data types consistently.**"
   ]
  },
  {
   "cell_type": "code",
   "execution_count": 122,
   "id": "69d856db",
   "metadata": {
    "scrolled": false
   },
   "outputs": [],
   "source": [
    "manual_df2 = utils.clean_missing_data(manual_df)"
   ]
  },
  {
   "cell_type": "code",
   "execution_count": 123,
   "id": "2ca624ac",
   "metadata": {},
   "outputs": [],
   "source": [
    "manual_df2['tested_or_effective_group'] = manual_df2['tested_or_effective_group'].apply(utils.convert_string_to_structure)\n"
   ]
  },
  {
   "cell_type": "code",
   "execution_count": 124,
   "id": "c0c21b75",
   "metadata": {},
   "outputs": [],
   "source": [
    "manual_df2['drug_tested_in_diseases'] = manual_df2['drug_tested_in_diseases'].apply(utils.convert_string_to_structure)\n"
   ]
  },
  {
   "cell_type": "markdown",
   "id": "10097fb1",
   "metadata": {},
   "source": [
    "## 4.1 Evaluation metrics for drug names extracted by GPT-4 [Level 1]<a id=\"level1\"></a>"
   ]
  },
  {
   "cell_type": "markdown",
   "id": "559b3c30",
   "metadata": {},
   "source": [
    "<span style=\"font-size:20px;\">**Method**</span>\n",
    "\n",
    "* To compare drug name strings extracted by GPT-4 with manually curated string, any characters were removed from the strings (!\"#$%&\\'()*+,-./:;<=>?@[\\\\]^_`{|}~) and then a score was obtained using the token_set_ratio from the fuzzywuzzy package.\n",
    "* The assessment did not rely on exact string matching but on GPT-4 being able to capture bulk of the drug name.\n",
    "* A score cutoff of 100 was used so that with the token_set_ratio. As an example, this means that when two strings 'sotorasib (AMG510)' and 'sotorasib' are compared, it is considered a match. Even if the model failed to capture the abbreviated or alternative drug name AMG510, it was still able to correctly identify the drug from the abstract.\n",
    "* A potential downside of this approach would be that when 'erlotinib' and 'erlotinib phosphate' (an analog of the same drug) are compared, it is still considered a match."
   ]
  },
  {
   "cell_type": "markdown",
   "id": "c15e6fb4",
   "metadata": {},
   "source": [
    "<span style=\"font-size:20px;\">**Steps**</span>"
   ]
  },
  {
   "cell_type": "markdown",
   "id": "ce3cc0ea",
   "metadata": {},
   "source": [
    "**Compare GPT-4 extracted drug names with manually curated data: About 45% of the false negatives are coming from a single paper 36942434.**"
   ]
  },
  {
   "cell_type": "code",
   "execution_count": 127,
   "id": "ba4542d3",
   "metadata": {},
   "outputs": [
    {
     "name": "stdout",
     "output_type": "stream",
     "text": [
      "PMID 37451272 has a false positive.\n",
      "PMID 37066699 has a false positive.\n",
      "PMID 37066699: 1 false negatives.\n",
      "PMID 36942434: 10 false negatives.\n",
      "PMID 36966152: 1 false negatives.\n",
      "PMID 37036151: 1 false negatives.\n",
      "PMID 37816716 has a false positive.\n",
      "PMID 35849035: 1 false negatives.\n",
      "PMID 37507782: 1 false negatives.\n",
      "PMID 36399643: 2 false negatives.\n",
      "PMID 36521103: 3 false negatives.\n",
      "PMID 37264081: 2 false negatives.\n"
     ]
    }
   ],
   "source": [
    "metrics, pmids_errors, matches = ner_evaluation.get_drug_metrics(ner_df2,\n",
    "                                                        manual_df2,\n",
    "                                                        'drug_name',\n",
    "                                                        score_cutoff=100)"
   ]
  },
  {
   "cell_type": "markdown",
   "id": "b432a9ed",
   "metadata": {},
   "source": [
    "**Metrics comparing the ground truth set and the model extracted set.**"
   ]
  },
  {
   "cell_type": "code",
   "execution_count": 128,
   "id": "49357b04",
   "metadata": {},
   "outputs": [
    {
     "data": {
      "text/plain": [
       "{'tp': 29, 'fp': 3, 'fn': 22, 'tn': 6}"
      ]
     },
     "execution_count": 128,
     "metadata": {},
     "output_type": "execute_result"
    }
   ],
   "source": [
    "metrics"
   ]
  },
  {
   "cell_type": "markdown",
   "id": "85eb8436",
   "metadata": {},
   "source": [
    "<font color='blue'>**The accuracy is low but the model gets drug names with 91% precision when drug names were fuzzy matched.**</font>"
   ]
  },
  {
   "cell_type": "code",
   "execution_count": 129,
   "id": "0a46f376",
   "metadata": {},
   "outputs": [],
   "source": [
    "eval_metrics = ner_evaluation.calculate_metrics(metrics)"
   ]
  },
  {
   "cell_type": "code",
   "execution_count": 130,
   "id": "164df584",
   "metadata": {},
   "outputs": [
    {
     "data": {
      "text/plain": [
       "{'accuracy': 0.58,\n",
       " 'precision': 0.91,\n",
       " 'recall': 0.57,\n",
       " 'f1_score': 0.7,\n",
       " 'neg_pred_value': 0.21}"
      ]
     },
     "execution_count": 130,
     "metadata": {},
     "output_type": "execute_result"
    }
   ],
   "source": [
    "eval_metrics"
   ]
  },
  {
   "cell_type": "markdown",
   "id": "649ba2d0",
   "metadata": {},
   "source": [
    "**Deep dive into the PMIDs where the model made errors.**"
   ]
  },
  {
   "cell_type": "code",
   "execution_count": 131,
   "id": "714fcc18",
   "metadata": {
    "scrolled": false
   },
   "outputs": [
    {
     "data": {
      "text/plain": [
       "{'fp': ['37451272', '37066699', '37816716'],\n",
       " 'fn': ['37066699',\n",
       "  '36942434',\n",
       "  '36966152',\n",
       "  '37036151',\n",
       "  '35849035',\n",
       "  '37507782',\n",
       "  '36399643',\n",
       "  '36521103',\n",
       "  '37264081']}"
      ]
     },
     "execution_count": 131,
     "metadata": {},
     "output_type": "execute_result"
    }
   ],
   "source": [
    "pmids_errors"
   ]
  },
  {
   "cell_type": "markdown",
   "id": "c7d3c002",
   "metadata": {},
   "source": [
    "**FALSE POSITIVES:**\n",
    "1. GPT extracted non-specific phrases as drug names:\n",
    "    * 'PKC inhibitors' would be a class of drugs.\n",
    "    * 'F3-targeting agent' isn't a drug name.\n",
    "    \n",
    "2. The drug name extracted wasn't complete enough due to extremely complex text.\n",
    "    * GPT extracted 'AE-NPs' and the actual manually curated string was 'transferrin and polyethylene glycol-poly (lactic-co-glycolic acid) aloe-emodin nanocarrier (Tf-PEG-PLGA modified AE@ZIF-8 NPs)'. In this case, even manual curation was difficult as it required consideration of context from a bunch of sentences in the text."
   ]
  },
  {
   "cell_type": "markdown",
   "id": "f4603707",
   "metadata": {},
   "source": [
    "Model results showing PMIDs where false positives were present."
   ]
  },
  {
   "cell_type": "code",
   "execution_count": 132,
   "id": "378a0263",
   "metadata": {},
   "outputs": [
    {
     "data": {
      "text/html": [
       "<div>\n",
       "<style scoped>\n",
       "    .dataframe tbody tr th:only-of-type {\n",
       "        vertical-align: middle;\n",
       "    }\n",
       "\n",
       "    .dataframe tbody tr th {\n",
       "        vertical-align: top;\n",
       "    }\n",
       "\n",
       "    .dataframe thead th {\n",
       "        text-align: right;\n",
       "    }\n",
       "</style>\n",
       "<table border=\"1\" class=\"dataframe\">\n",
       "  <thead>\n",
       "    <tr style=\"text-align: right;\">\n",
       "      <th></th>\n",
       "      <th>pmid</th>\n",
       "      <th>drug_name</th>\n",
       "    </tr>\n",
       "  </thead>\n",
       "  <tbody>\n",
       "    <tr>\n",
       "      <th>11</th>\n",
       "      <td>37451272</td>\n",
       "      <td>F3-targeting agent</td>\n",
       "    </tr>\n",
       "    <tr>\n",
       "      <th>12</th>\n",
       "      <td>37066699</td>\n",
       "      <td>Aloe-emodin</td>\n",
       "    </tr>\n",
       "    <tr>\n",
       "      <th>13</th>\n",
       "      <td>37066699</td>\n",
       "      <td>AE@ZIF-8 NPs</td>\n",
       "    </tr>\n",
       "    <tr>\n",
       "      <th>14</th>\n",
       "      <td>37066699</td>\n",
       "      <td>AE-NPs</td>\n",
       "    </tr>\n",
       "    <tr>\n",
       "      <th>33</th>\n",
       "      <td>37816716</td>\n",
       "      <td>PKC inhibitors</td>\n",
       "    </tr>\n",
       "  </tbody>\n",
       "</table>\n",
       "</div>"
      ],
      "text/plain": [
       "        pmid           drug_name\n",
       "11  37451272  F3-targeting agent\n",
       "12  37066699         Aloe-emodin\n",
       "13  37066699        AE@ZIF-8 NPs\n",
       "14  37066699              AE-NPs\n",
       "33  37816716      PKC inhibitors"
      ]
     },
     "execution_count": 132,
     "metadata": {},
     "output_type": "execute_result"
    }
   ],
   "source": [
    "ner_df2[ner_df2['pmid'].isin(['37066699', '37816716', '37451272'])][['pmid','drug_name']]"
   ]
  },
  {
   "cell_type": "markdown",
   "id": "c6ab6226",
   "metadata": {},
   "source": [
    "Ground truth data showing these same PMIDs."
   ]
  },
  {
   "cell_type": "code",
   "execution_count": 157,
   "id": "cee4b38c",
   "metadata": {},
   "outputs": [
    {
     "data": {
      "text/html": [
       "<div>\n",
       "<style scoped>\n",
       "    .dataframe tbody tr th:only-of-type {\n",
       "        vertical-align: middle;\n",
       "    }\n",
       "\n",
       "    .dataframe tbody tr th {\n",
       "        vertical-align: top;\n",
       "    }\n",
       "\n",
       "    .dataframe thead th {\n",
       "        text-align: right;\n",
       "    }\n",
       "</style>\n",
       "<table border=\"1\" class=\"dataframe\">\n",
       "  <thead>\n",
       "    <tr style=\"text-align: right;\">\n",
       "      <th></th>\n",
       "      <th>pmid</th>\n",
       "      <th>drug_name</th>\n",
       "    </tr>\n",
       "  </thead>\n",
       "  <tbody>\n",
       "    <tr>\n",
       "      <th>16</th>\n",
       "      <td>37451272</td>\n",
       "      <td>None</td>\n",
       "    </tr>\n",
       "    <tr>\n",
       "      <th>17</th>\n",
       "      <td>37066699</td>\n",
       "      <td>aloe-emodin (AE)</td>\n",
       "    </tr>\n",
       "    <tr>\n",
       "      <th>18</th>\n",
       "      <td>37066699</td>\n",
       "      <td>aloe-emodin nanocarrier (AE@ZIF-8 NPs)</td>\n",
       "    </tr>\n",
       "    <tr>\n",
       "      <th>19</th>\n",
       "      <td>37066699</td>\n",
       "      <td>transferrin and polyethylene glycol-poly (lact...</td>\n",
       "    </tr>\n",
       "    <tr>\n",
       "      <th>60</th>\n",
       "      <td>37816716</td>\n",
       "      <td>None</td>\n",
       "    </tr>\n",
       "  </tbody>\n",
       "</table>\n",
       "</div>"
      ],
      "text/plain": [
       "        pmid                                          drug_name\n",
       "16  37451272                                               None\n",
       "17  37066699                                   aloe-emodin (AE)\n",
       "18  37066699             aloe-emodin nanocarrier (AE@ZIF-8 NPs)\n",
       "19  37066699  transferrin and polyethylene glycol-poly (lact...\n",
       "60  37816716                                               None"
      ]
     },
     "execution_count": 157,
     "metadata": {},
     "output_type": "execute_result"
    }
   ],
   "source": [
    "manual_df2[manual_df2['pmid'].isin(['37066699', '37816716', '37451272'])][['pmid','drug_name']]"
   ]
  },
  {
   "cell_type": "markdown",
   "id": "80d3d907",
   "metadata": {},
   "source": [
    "**FALSE NEGATIVES: The following shows drugs that were correctly extracted along with those that were missed from each paper.**\n",
    "\n",
    "* PMID 36942434 is an outlier as it has >10 drugs listed in the abstract. GPT correctly extracted the primary drug that the paper was about. It definitely failed to extract all other 10 names but metrics are recalculated after the paper is eliminated from consideration. (shown below)\n",
    "* Surprisingly, in many cases, GPT-4 only captured 1 of the drug names in the text but failed to capture others. (36942434 and 37264081 are some examples.)\n",
    "* Drug names were also missed if the names weren't explicitly mentioned in the text but something that a researcher could put together manually after getting the context from neighboring sentences.\n",
    "    eg. \"H-ferritin (HFn), regorafenib, and Cu2+ nanoplatform (HFn-Cu-REGO NPs)\" from ID 36399643."
   ]
  },
  {
   "cell_type": "code",
   "execution_count": 134,
   "id": "dbd90ba9",
   "metadata": {
    "scrolled": false
   },
   "outputs": [
    {
     "name": "stdout",
     "output_type": "stream",
     "text": [
      "PMID 35849035\n",
      "GPT result: ['depatuxizumab mafodotin']\n",
      "Ground truth result:['depatuxizumab mafodotin (depatux-m)' 'temozolomide']\n",
      "PMID 37507782\n",
      "GPT result: ['sertaconazole']\n",
      "Ground truth result:['Sertaconazole (STZ)'\n",
      " 'sertaconazole (STZ) repurposed nanoplatform (HTS NP)']\n",
      "PMID 37066699\n",
      "GPT result: ['Aloe-emodin' 'AE@ZIF-8 NPs' 'AE-NPs']\n",
      "Ground truth result:['aloe-emodin (AE)' 'aloe-emodin nanocarrier (AE@ZIF-8 NPs)'\n",
      " 'transferrin and polyethylene glycol-poly (lactic-co-glycolic acid) aloe-emodin nanocarrier (Tf-PEG-PLGA modified AE@ZIF-8 NPs)']\n",
      "PMID 36942434\n",
      "GPT result: ['osimertinib']\n",
      "Ground truth result:['osimertinib' 'afatinib' 'gefitinib' 'carboplatin' 'pemetrexed'\n",
      " 'rosuvastatin' 'dabigatran' 'bisoprolol' 'digoxin' 'ramipril'\n",
      " 'spironolactone']\n",
      "PMID 36399643\n",
      "GPT result: ['regorafenib']\n",
      "Ground truth result:['regorafenib'\n",
      " 'H-ferritin (HFn), regorafenib, and Cu2+ nanoplatform (HFn-Cu-REGO NPs)'\n",
      " 'temozolomide']\n",
      "PMID 36966152\n",
      "GPT result: ['fatostatin']\n",
      "Ground truth result:['fatostatin' 'p28-functionalized PLGA nanoparticle with fatostatin']\n",
      "PMID 37036151\n",
      "GPT result: ['Eltrombopag']\n",
      "Ground truth result:['Eltrombopag' 'temozolomide']\n",
      "PMID 36521103\n",
      "GPT result: ['SurVaxM']\n",
      "Ground truth result:['SurVaxM' 'temozolomide (TMZ)' 'montanide ISA-51' 'sargramostim']\n",
      "PMID 37264081\n",
      "GPT result: ['RMC-6272']\n",
      "Ground truth result:['RMC-6272' 'rapamycin' 'everolimus']\n"
     ]
    }
   ],
   "source": [
    "for pmid in set(pmids_errors['fn']):\n",
    "    print(f'PMID {pmid}')\n",
    "    print(f\"GPT result: {ner_df2[ner_df2['pmid']==pmid]['drug_name'].unique()}\")\n",
    "    print(f\"Ground truth result:{manual_df2[manual_df2['pmid']==pmid]['drug_name'].unique()}\")\n",
    "    "
   ]
  },
  {
   "cell_type": "markdown",
   "id": "792e5afd",
   "metadata": {},
   "source": [
    "**Since majority false negatives are coming from PMID 36942434, if this paper is eliminated from consideration for evaluation, these are the metrics. The accuracy and recall improve (57% to 70%) but are still low.**"
   ]
  },
  {
   "cell_type": "code",
   "execution_count": 135,
   "id": "5c4f4a9a",
   "metadata": {},
   "outputs": [],
   "source": [
    "ner_df3 = ner_df2[ner_df2['pmid']!='36942434'].copy()\n",
    "manual_df3 = manual_df2[manual_df2['pmid']!='36942434'].copy()"
   ]
  },
  {
   "cell_type": "code",
   "execution_count": 136,
   "id": "4e21e959",
   "metadata": {},
   "outputs": [
    {
     "name": "stdout",
     "output_type": "stream",
     "text": [
      "PMID 37451272 has a false positive.\n",
      "PMID 37066699 has a false positive.\n",
      "PMID 37066699: 1 false negatives.\n",
      "PMID 36966152: 1 false negatives.\n",
      "PMID 37036151: 1 false negatives.\n",
      "PMID 37816716 has a false positive.\n",
      "PMID 35849035: 1 false negatives.\n",
      "PMID 37507782: 1 false negatives.\n",
      "PMID 36399643: 2 false negatives.\n",
      "PMID 36521103: 3 false negatives.\n",
      "PMID 37264081: 2 false negatives.\n"
     ]
    }
   ],
   "source": [
    "re_metrics, re_pmids_errors, re_matches = ner_evaluation.get_drug_metrics(ner_df3,\n",
    "                                                                         manual_df3,\n",
    "                                                                         'drug_name',\n",
    "                                                                         score_cutoff=100)"
   ]
  },
  {
   "cell_type": "code",
   "execution_count": 137,
   "id": "953cce80",
   "metadata": {},
   "outputs": [
    {
     "data": {
      "text/plain": [
       "{'tp': 28, 'fp': 3, 'fn': 12, 'tn': 6}"
      ]
     },
     "execution_count": 137,
     "metadata": {},
     "output_type": "execute_result"
    }
   ],
   "source": [
    "re_metrics"
   ]
  },
  {
   "cell_type": "code",
   "execution_count": 138,
   "id": "c4050a85",
   "metadata": {},
   "outputs": [],
   "source": [
    "re_eval_metrics = ner_evaluation.calculate_metrics(re_metrics)"
   ]
  },
  {
   "cell_type": "code",
   "execution_count": 139,
   "id": "af93b975",
   "metadata": {},
   "outputs": [
    {
     "data": {
      "text/plain": [
       "{'accuracy': 0.69,\n",
       " 'precision': 0.9,\n",
       " 'recall': 0.7,\n",
       " 'f1_score': 0.79,\n",
       " 'neg_pred_value': 0.33}"
      ]
     },
     "execution_count": 139,
     "metadata": {},
     "output_type": "execute_result"
    }
   ],
   "source": [
    "re_eval_metrics"
   ]
  },
  {
   "cell_type": "markdown",
   "id": "9d3a0984",
   "metadata": {},
   "source": [
    "## 4.2 Evaluation metrics for target names extracted by GPT-4 [Level 2]<a id=\"level2\"></a>"
   ]
  },
  {
   "cell_type": "markdown",
   "id": "29030b77",
   "metadata": {},
   "source": [
    "<span style=\"font-size:20px;\">**Method**</span>\n",
    "\n",
    "* As shown in the schematic above, only drugs that were correctly identified by GPT-4 were considered for evaluating targets (35 entities). If the drug itself is not correctly identified, even though the target is captured correctly from an abstract, such data point would lead to inaccurate computational analyses.\n",
    "* To compare target name strings extracted by GPT-4 with manually curated string, any characters were removed from the strings (!\"#$%&\\'()*+,-./:;<=>?@[\\\\]^_`{|}~) and then a score was obtained using the token_sort_ratio from the fuzzywuzzy package.\n",
    "* A stricter matching criteria was used in case of targets as a slight difference in target names could mean different genes or mutation variants.\n",
    "\n",
    "* As an example, when 'KRAS' and 'KRAS G12C' (a specific mutation of the KRAS gene) are compared, token_sort_ratio will give a score of 62 and will not be considered a match when a score-cutoff of 90 is used. If the same scorer as the drug name was used, it would have given a score of 100 here and it would not be accurate.\n",
    "\n",
    "* For only drugs that matched:\n",
    "    * TP - target correctly ID'd\n",
    "    * TN - targets dont exist and were not extracted\n",
    "    * FP - targets dont exist but were incorrectly extracted\n",
    "    * FN - targets exist but were missed"
   ]
  },
  {
   "cell_type": "markdown",
   "id": "65c5b503",
   "metadata": {},
   "source": [
    "<span style=\"font-size:20px;\">**Steps**</span>"
   ]
  },
  {
   "cell_type": "markdown",
   "id": "f093ea31",
   "metadata": {},
   "source": [
    "**For each correctly identified drug, compare GPT-4 extracted target names with manually curated data.**"
   ]
  },
  {
   "cell_type": "code",
   "execution_count": 140,
   "id": "3c7106e5",
   "metadata": {},
   "outputs": [],
   "source": [
    "target_metrics, targets_pmids_errors, target_matches = ner_evaluation.get_target_metrics(ner_df2,\n",
    "                                                                                         manual_df2,\n",
    "                                                                                         matches=matches,\n",
    "                                                                                         score_cutoff=90)"
   ]
  },
  {
   "cell_type": "code",
   "execution_count": 141,
   "id": "9c036688",
   "metadata": {},
   "outputs": [
    {
     "data": {
      "text/plain": [
       "{'fp': 6, 'fn': 12, 'tp': 18, 'tn': 4}"
      ]
     },
     "execution_count": 141,
     "metadata": {},
     "output_type": "execute_result"
    }
   ],
   "source": [
    "target_metrics"
   ]
  },
  {
   "cell_type": "code",
   "execution_count": 142,
   "id": "6646c6b3",
   "metadata": {},
   "outputs": [
    {
     "data": {
      "text/plain": [
       "{'fp': ['36966152',\n",
       "  '36272139',\n",
       "  '36272139',\n",
       "  '36650267',\n",
       "  '37147437',\n",
       "  '36399643'],\n",
       " 'fn': ['37141396',\n",
       "  '36966152',\n",
       "  '36272139',\n",
       "  '37147285',\n",
       "  '35849035',\n",
       "  '36650267',\n",
       "  '36650267',\n",
       "  '36970205',\n",
       "  '36240971',\n",
       "  '37264081']}"
      ]
     },
     "execution_count": 142,
     "metadata": {},
     "output_type": "execute_result"
    }
   ],
   "source": [
    "targets_pmids_errors"
   ]
  },
  {
   "cell_type": "code",
   "execution_count": 143,
   "id": "968e730e",
   "metadata": {},
   "outputs": [],
   "source": [
    "target_eval_metrics = ner_evaluation.calculate_metrics(target_metrics)"
   ]
  },
  {
   "cell_type": "markdown",
   "id": "3c72b4cd",
   "metadata": {},
   "source": [
    "<font color='blue'>**For drugs that were correctly captured from the abstracts by GPT-4, it showed poor performance in correctly identifying associated targets or the lack of.**</font>"
   ]
  },
  {
   "cell_type": "code",
   "execution_count": 144,
   "id": "0e87e9d0",
   "metadata": {},
   "outputs": [
    {
     "data": {
      "text/plain": [
       "{'accuracy': 0.55,\n",
       " 'precision': 0.75,\n",
       " 'recall': 0.6,\n",
       " 'f1_score': 0.67,\n",
       " 'neg_pred_value': 0.25}"
      ]
     },
     "execution_count": 144,
     "metadata": {},
     "output_type": "execute_result"
    }
   ],
   "source": [
    "target_eval_metrics"
   ]
  },
  {
   "cell_type": "markdown",
   "id": "9338f01f",
   "metadata": {},
   "source": [
    "**FALSE POSITIVES:**\n",
    " \n",
    "1. GPT-4 extracted entities as targets even if they weren't actually associated with the target.\n",
    "   eg. PMID 36272139 where it listed MGMT as a target for the drug temozolomide.\n",
    "   eg. PMID 37147437, where it listed EZH2 as the target for temozolomide in addition to the correctly paired second drug mentioned in the abstract.\n",
    "\n",
    "2. It extracted pathway names or processes as target names. \n",
    "   eg. 36272139 - PMID DNA damage repair pathway "
   ]
  },
  {
   "cell_type": "markdown",
   "id": "9f89776c",
   "metadata": {},
   "source": [
    "Model results showing PMIDs where false positives were present."
   ]
  },
  {
   "cell_type": "code",
   "execution_count": 146,
   "id": "398c661c",
   "metadata": {
    "scrolled": true
   },
   "outputs": [
    {
     "data": {
      "text/html": [
       "<div>\n",
       "<style scoped>\n",
       "    .dataframe tbody tr th:only-of-type {\n",
       "        vertical-align: middle;\n",
       "    }\n",
       "\n",
       "    .dataframe tbody tr th {\n",
       "        vertical-align: top;\n",
       "    }\n",
       "\n",
       "    .dataframe thead th {\n",
       "        text-align: right;\n",
       "    }\n",
       "</style>\n",
       "<table border=\"1\" class=\"dataframe\">\n",
       "  <thead>\n",
       "    <tr style=\"text-align: right;\">\n",
       "      <th></th>\n",
       "      <th>pmid</th>\n",
       "      <th>drug_name</th>\n",
       "      <th>direct_target</th>\n",
       "    </tr>\n",
       "  </thead>\n",
       "  <tbody>\n",
       "    <tr>\n",
       "      <th>1</th>\n",
       "      <td>36399643</td>\n",
       "      <td>regorafenib</td>\n",
       "      <td>autophagosome-lysosome fusion</td>\n",
       "    </tr>\n",
       "    <tr>\n",
       "      <th>2</th>\n",
       "      <td>36966152</td>\n",
       "      <td>fatostatin</td>\n",
       "      <td>AKT/mTORC1/GPX4 signaling pathway</td>\n",
       "    </tr>\n",
       "    <tr>\n",
       "      <th>4</th>\n",
       "      <td>37147437</td>\n",
       "      <td>ganciclovir</td>\n",
       "      <td>EZH2</td>\n",
       "    </tr>\n",
       "    <tr>\n",
       "      <th>5</th>\n",
       "      <td>37147437</td>\n",
       "      <td>temozolomide</td>\n",
       "      <td>EZH2</td>\n",
       "    </tr>\n",
       "    <tr>\n",
       "      <th>16</th>\n",
       "      <td>36272139</td>\n",
       "      <td>EPIC-0412</td>\n",
       "      <td>MGMT</td>\n",
       "    </tr>\n",
       "    <tr>\n",
       "      <th>17</th>\n",
       "      <td>36272139</td>\n",
       "      <td>EPIC-0412</td>\n",
       "      <td>DNA damage repair pathway</td>\n",
       "    </tr>\n",
       "    <tr>\n",
       "      <th>18</th>\n",
       "      <td>36272139</td>\n",
       "      <td>Temozolomide</td>\n",
       "      <td>MGMT</td>\n",
       "    </tr>\n",
       "    <tr>\n",
       "      <th>25</th>\n",
       "      <td>36650267</td>\n",
       "      <td>KU60019</td>\n",
       "      <td>ATM</td>\n",
       "    </tr>\n",
       "    <tr>\n",
       "      <th>26</th>\n",
       "      <td>36650267</td>\n",
       "      <td>VP-16</td>\n",
       "      <td>TOP2β</td>\n",
       "    </tr>\n",
       "  </tbody>\n",
       "</table>\n",
       "</div>"
      ],
      "text/plain": [
       "        pmid     drug_name                      direct_target\n",
       "1   36399643   regorafenib      autophagosome-lysosome fusion\n",
       "2   36966152    fatostatin  AKT/mTORC1/GPX4 signaling pathway\n",
       "4   37147437   ganciclovir                               EZH2\n",
       "5   37147437  temozolomide                               EZH2\n",
       "16  36272139     EPIC-0412                               MGMT\n",
       "17  36272139     EPIC-0412          DNA damage repair pathway\n",
       "18  36272139  Temozolomide                               MGMT\n",
       "25  36650267       KU60019                                ATM\n",
       "26  36650267         VP-16                              TOP2β"
      ]
     },
     "execution_count": 146,
     "metadata": {},
     "output_type": "execute_result"
    }
   ],
   "source": [
    "ner_df2[ner_df2['pmid'].isin(['36966152',\n",
    "  '36272139',\n",
    "  '36272139',\n",
    "  '36650267',\n",
    "  '37147437',\n",
    "  '36399643'])][['pmid','drug_name','direct_target']]"
   ]
  },
  {
   "cell_type": "markdown",
   "id": "f080a542",
   "metadata": {},
   "source": [
    "Ground truth data showing PMIDs where false positives were present."
   ]
  },
  {
   "cell_type": "code",
   "execution_count": 147,
   "id": "ca0190c0",
   "metadata": {
    "scrolled": true
   },
   "outputs": [
    {
     "data": {
      "text/html": [
       "<div>\n",
       "<style scoped>\n",
       "    .dataframe tbody tr th:only-of-type {\n",
       "        vertical-align: middle;\n",
       "    }\n",
       "\n",
       "    .dataframe tbody tr th {\n",
       "        vertical-align: top;\n",
       "    }\n",
       "\n",
       "    .dataframe thead th {\n",
       "        text-align: right;\n",
       "    }\n",
       "</style>\n",
       "<table border=\"1\" class=\"dataframe\">\n",
       "  <thead>\n",
       "    <tr style=\"text-align: right;\">\n",
       "      <th></th>\n",
       "      <th>pmid</th>\n",
       "      <th>drug_name</th>\n",
       "      <th>direct_target</th>\n",
       "    </tr>\n",
       "  </thead>\n",
       "  <tbody>\n",
       "    <tr>\n",
       "      <th>1</th>\n",
       "      <td>36399643</td>\n",
       "      <td>regorafenib</td>\n",
       "      <td>None</td>\n",
       "    </tr>\n",
       "    <tr>\n",
       "      <th>2</th>\n",
       "      <td>36399643</td>\n",
       "      <td>H-ferritin (HFn), regorafenib, and Cu2+ nanopl...</td>\n",
       "      <td>None</td>\n",
       "    </tr>\n",
       "    <tr>\n",
       "      <th>3</th>\n",
       "      <td>36399643</td>\n",
       "      <td>temozolomide</td>\n",
       "      <td>None</td>\n",
       "    </tr>\n",
       "    <tr>\n",
       "      <th>4</th>\n",
       "      <td>36966152</td>\n",
       "      <td>fatostatin</td>\n",
       "      <td>SREBP</td>\n",
       "    </tr>\n",
       "    <tr>\n",
       "      <th>5</th>\n",
       "      <td>36966152</td>\n",
       "      <td>p28-functionalized PLGA nanoparticle with fato...</td>\n",
       "      <td>SREBP</td>\n",
       "    </tr>\n",
       "    <tr>\n",
       "      <th>7</th>\n",
       "      <td>37147437</td>\n",
       "      <td>ganciclovir</td>\n",
       "      <td>EZH2</td>\n",
       "    </tr>\n",
       "    <tr>\n",
       "      <th>8</th>\n",
       "      <td>37147437</td>\n",
       "      <td>temozolomide</td>\n",
       "      <td>None</td>\n",
       "    </tr>\n",
       "    <tr>\n",
       "      <th>23</th>\n",
       "      <td>36272139</td>\n",
       "      <td>EPIC-0412</td>\n",
       "      <td>HOTAIR/EZH2</td>\n",
       "    </tr>\n",
       "    <tr>\n",
       "      <th>24</th>\n",
       "      <td>36272139</td>\n",
       "      <td>EPIC-0412</td>\n",
       "      <td>MGMT</td>\n",
       "    </tr>\n",
       "    <tr>\n",
       "      <th>25</th>\n",
       "      <td>36272139</td>\n",
       "      <td>EPIC-0412</td>\n",
       "      <td>ATF3-p-p65-HADC1 axis</td>\n",
       "    </tr>\n",
       "    <tr>\n",
       "      <th>26</th>\n",
       "      <td>36272139</td>\n",
       "      <td>temozolomide (TMZ)</td>\n",
       "      <td>None</td>\n",
       "    </tr>\n",
       "    <tr>\n",
       "      <th>33</th>\n",
       "      <td>36650267</td>\n",
       "      <td>KU60019</td>\n",
       "      <td>ATM</td>\n",
       "    </tr>\n",
       "    <tr>\n",
       "      <th>34</th>\n",
       "      <td>36650267</td>\n",
       "      <td>KU60019</td>\n",
       "      <td>ATM/TOP2β</td>\n",
       "    </tr>\n",
       "    <tr>\n",
       "      <th>35</th>\n",
       "      <td>36650267</td>\n",
       "      <td>KU60019</td>\n",
       "      <td>TOP2β-DNA</td>\n",
       "    </tr>\n",
       "    <tr>\n",
       "      <th>36</th>\n",
       "      <td>36650267</td>\n",
       "      <td>VP-16</td>\n",
       "      <td>TOP2</td>\n",
       "    </tr>\n",
       "  </tbody>\n",
       "</table>\n",
       "</div>"
      ],
      "text/plain": [
       "        pmid                                          drug_name   \n",
       "1   36399643                                        regorafenib  \\\n",
       "2   36399643  H-ferritin (HFn), regorafenib, and Cu2+ nanopl...   \n",
       "3   36399643                                       temozolomide   \n",
       "4   36966152                                         fatostatin   \n",
       "5   36966152  p28-functionalized PLGA nanoparticle with fato...   \n",
       "7   37147437                                        ganciclovir   \n",
       "8   37147437                                       temozolomide   \n",
       "23  36272139                                          EPIC-0412   \n",
       "24  36272139                                          EPIC-0412   \n",
       "25  36272139                                          EPIC-0412   \n",
       "26  36272139                                 temozolomide (TMZ)   \n",
       "33  36650267                                            KU60019   \n",
       "34  36650267                                            KU60019   \n",
       "35  36650267                                            KU60019   \n",
       "36  36650267                                              VP-16   \n",
       "\n",
       "            direct_target  \n",
       "1                    None  \n",
       "2                    None  \n",
       "3                    None  \n",
       "4                   SREBP  \n",
       "5                   SREBP  \n",
       "7                    EZH2  \n",
       "8                    None  \n",
       "23            HOTAIR/EZH2  \n",
       "24                   MGMT  \n",
       "25  ATF3-p-p65-HADC1 axis  \n",
       "26                   None  \n",
       "33                    ATM  \n",
       "34              ATM/TOP2β  \n",
       "35              TOP2β-DNA  \n",
       "36                   TOP2  "
      ]
     },
     "execution_count": 147,
     "metadata": {},
     "output_type": "execute_result"
    }
   ],
   "source": [
    "manual_df2[manual_df2['pmid'].isin(['36966152',\n",
    "  '36272139',\n",
    "  '36272139',\n",
    "  '36650267',\n",
    "  '37147437',\n",
    "  '36399643'])][['pmid','drug_name','direct_target']]"
   ]
  },
  {
   "cell_type": "markdown",
   "id": "c1124790",
   "metadata": {},
   "source": [
    "**FALSE NEGATIVES:**\n",
    "\n",
    "1. In some cases, the drug was mentioned to target an association between 2 genes or their interaction. Manual curation identified these associations as targets by listing both genes. eg. HOTAIR/EZH2. But such complexity was missed by GPT-4. In GPT-4's defense, instructions weren't given to handle such a scenario. Such cases warrant fine-tuning a model on specific data and outputs rather than trying to specify prompts for every possible scenario.\n",
    "\n",
    "2. GPT-4 also missed out on targets explicitly mentioned in the text. \n",
    "   eg. PMID 36240971 - glutaminase is a target of CB-839; PMID 36970205: MEK is a target of trametinib\n",
    "   \n",
    "3. Another complexity that was missed and warrants finetuning a model comes where a gene and it's variant were mentioned for a drug in the same abstract.\n",
    "   eg. PMID 35849035 - depatuxizumab mafodotin (depatux-m) targets EGFR and EGFRvIII, a variant. But GPT-4 missed on capturing the latter as a target."
   ]
  },
  {
   "cell_type": "markdown",
   "id": "ac78c529",
   "metadata": {},
   "source": [
    "Model results showing PMIDs with false negatives"
   ]
  },
  {
   "cell_type": "code",
   "execution_count": 148,
   "id": "f9a3cf99",
   "metadata": {
    "scrolled": true
   },
   "outputs": [
    {
     "data": {
      "text/html": [
       "<div>\n",
       "<style scoped>\n",
       "    .dataframe tbody tr th:only-of-type {\n",
       "        vertical-align: middle;\n",
       "    }\n",
       "\n",
       "    .dataframe tbody tr th {\n",
       "        vertical-align: top;\n",
       "    }\n",
       "\n",
       "    .dataframe thead th {\n",
       "        text-align: right;\n",
       "    }\n",
       "</style>\n",
       "<table border=\"1\" class=\"dataframe\">\n",
       "  <thead>\n",
       "    <tr style=\"text-align: right;\">\n",
       "      <th></th>\n",
       "      <th>pmid</th>\n",
       "      <th>drug_name</th>\n",
       "      <th>direct_target</th>\n",
       "    </tr>\n",
       "  </thead>\n",
       "  <tbody>\n",
       "    <tr>\n",
       "      <th>2</th>\n",
       "      <td>36966152</td>\n",
       "      <td>fatostatin</td>\n",
       "      <td>AKT/mTORC1/GPX4 signaling pathway</td>\n",
       "    </tr>\n",
       "    <tr>\n",
       "      <th>8</th>\n",
       "      <td>36240971</td>\n",
       "      <td>TAK-228</td>\n",
       "      <td>TORC1/2</td>\n",
       "    </tr>\n",
       "    <tr>\n",
       "      <th>9</th>\n",
       "      <td>36240971</td>\n",
       "      <td>CB-839</td>\n",
       "      <td>None</td>\n",
       "    </tr>\n",
       "    <tr>\n",
       "      <th>15</th>\n",
       "      <td>35849035</td>\n",
       "      <td>depatuxizumab mafodotin</td>\n",
       "      <td>EGFR</td>\n",
       "    </tr>\n",
       "    <tr>\n",
       "      <th>16</th>\n",
       "      <td>36272139</td>\n",
       "      <td>EPIC-0412</td>\n",
       "      <td>MGMT</td>\n",
       "    </tr>\n",
       "    <tr>\n",
       "      <th>17</th>\n",
       "      <td>36272139</td>\n",
       "      <td>EPIC-0412</td>\n",
       "      <td>DNA damage repair pathway</td>\n",
       "    </tr>\n",
       "    <tr>\n",
       "      <th>18</th>\n",
       "      <td>36272139</td>\n",
       "      <td>Temozolomide</td>\n",
       "      <td>MGMT</td>\n",
       "    </tr>\n",
       "    <tr>\n",
       "      <th>19</th>\n",
       "      <td>36970205</td>\n",
       "      <td>trametinib</td>\n",
       "      <td>None</td>\n",
       "    </tr>\n",
       "    <tr>\n",
       "      <th>20</th>\n",
       "      <td>36970205</td>\n",
       "      <td>IACS-010759</td>\n",
       "      <td>mitochondrial complex I</td>\n",
       "    </tr>\n",
       "    <tr>\n",
       "      <th>25</th>\n",
       "      <td>36650267</td>\n",
       "      <td>KU60019</td>\n",
       "      <td>ATM</td>\n",
       "    </tr>\n",
       "    <tr>\n",
       "      <th>26</th>\n",
       "      <td>36650267</td>\n",
       "      <td>VP-16</td>\n",
       "      <td>TOP2β</td>\n",
       "    </tr>\n",
       "    <tr>\n",
       "      <th>28</th>\n",
       "      <td>37147285</td>\n",
       "      <td>Z839878730</td>\n",
       "      <td>KK-LC-1</td>\n",
       "    </tr>\n",
       "    <tr>\n",
       "      <th>31</th>\n",
       "      <td>37264081</td>\n",
       "      <td>RMC-6272</td>\n",
       "      <td>mTORC1</td>\n",
       "    </tr>\n",
       "    <tr>\n",
       "      <th>34</th>\n",
       "      <td>37141396</td>\n",
       "      <td>pralsetinib</td>\n",
       "      <td>RET</td>\n",
       "    </tr>\n",
       "  </tbody>\n",
       "</table>\n",
       "</div>"
      ],
      "text/plain": [
       "        pmid                drug_name                      direct_target\n",
       "2   36966152               fatostatin  AKT/mTORC1/GPX4 signaling pathway\n",
       "8   36240971                  TAK-228                            TORC1/2\n",
       "9   36240971                   CB-839                               None\n",
       "15  35849035  depatuxizumab mafodotin                               EGFR\n",
       "16  36272139                EPIC-0412                               MGMT\n",
       "17  36272139                EPIC-0412          DNA damage repair pathway\n",
       "18  36272139             Temozolomide                               MGMT\n",
       "19  36970205               trametinib                               None\n",
       "20  36970205              IACS-010759            mitochondrial complex I\n",
       "25  36650267                  KU60019                                ATM\n",
       "26  36650267                    VP-16                              TOP2β\n",
       "28  37147285               Z839878730                            KK-LC-1\n",
       "31  37264081                 RMC-6272                             mTORC1\n",
       "34  37141396              pralsetinib                                RET"
      ]
     },
     "execution_count": 148,
     "metadata": {},
     "output_type": "execute_result"
    }
   ],
   "source": [
    "ner_df2[ner_df2['pmid'].isin(['37141396',\n",
    "  '36966152',\n",
    "  '36272139',\n",
    "  '37147285',\n",
    "  '35849035',\n",
    "  '36650267',\n",
    "  '36650267',\n",
    "  '36970205',\n",
    "  '36240971',\n",
    "  '37264081'])][['pmid','drug_name','direct_target']]"
   ]
  },
  {
   "cell_type": "markdown",
   "id": "f32d3131",
   "metadata": {},
   "source": [
    "Ground truth data from PMIDs where false negatives were present:"
   ]
  },
  {
   "cell_type": "code",
   "execution_count": 149,
   "id": "a55457c0",
   "metadata": {
    "scrolled": true
   },
   "outputs": [
    {
     "data": {
      "text/html": [
       "<div>\n",
       "<style scoped>\n",
       "    .dataframe tbody tr th:only-of-type {\n",
       "        vertical-align: middle;\n",
       "    }\n",
       "\n",
       "    .dataframe tbody tr th {\n",
       "        vertical-align: top;\n",
       "    }\n",
       "\n",
       "    .dataframe thead th {\n",
       "        text-align: right;\n",
       "    }\n",
       "</style>\n",
       "<table border=\"1\" class=\"dataframe\">\n",
       "  <thead>\n",
       "    <tr style=\"text-align: right;\">\n",
       "      <th></th>\n",
       "      <th>pmid</th>\n",
       "      <th>drug_name</th>\n",
       "      <th>direct_target</th>\n",
       "    </tr>\n",
       "  </thead>\n",
       "  <tbody>\n",
       "    <tr>\n",
       "      <th>4</th>\n",
       "      <td>36966152</td>\n",
       "      <td>fatostatin</td>\n",
       "      <td>SREBP</td>\n",
       "    </tr>\n",
       "    <tr>\n",
       "      <th>5</th>\n",
       "      <td>36966152</td>\n",
       "      <td>p28-functionalized PLGA nanoparticle with fato...</td>\n",
       "      <td>SREBP</td>\n",
       "    </tr>\n",
       "    <tr>\n",
       "      <th>12</th>\n",
       "      <td>36240971</td>\n",
       "      <td>TAK-228</td>\n",
       "      <td>TORC1/2</td>\n",
       "    </tr>\n",
       "    <tr>\n",
       "      <th>13</th>\n",
       "      <td>36240971</td>\n",
       "      <td>CB-839</td>\n",
       "      <td>glutaminase</td>\n",
       "    </tr>\n",
       "    <tr>\n",
       "      <th>20</th>\n",
       "      <td>35849035</td>\n",
       "      <td>depatuxizumab mafodotin (depatux-m)</td>\n",
       "      <td>EGFR</td>\n",
       "    </tr>\n",
       "    <tr>\n",
       "      <th>21</th>\n",
       "      <td>35849035</td>\n",
       "      <td>depatuxizumab mafodotin (depatux-m)</td>\n",
       "      <td>EGFRvIII</td>\n",
       "    </tr>\n",
       "    <tr>\n",
       "      <th>22</th>\n",
       "      <td>35849035</td>\n",
       "      <td>temozolomide</td>\n",
       "      <td>None</td>\n",
       "    </tr>\n",
       "    <tr>\n",
       "      <th>23</th>\n",
       "      <td>36272139</td>\n",
       "      <td>EPIC-0412</td>\n",
       "      <td>HOTAIR/EZH2</td>\n",
       "    </tr>\n",
       "    <tr>\n",
       "      <th>24</th>\n",
       "      <td>36272139</td>\n",
       "      <td>EPIC-0412</td>\n",
       "      <td>MGMT</td>\n",
       "    </tr>\n",
       "    <tr>\n",
       "      <th>25</th>\n",
       "      <td>36272139</td>\n",
       "      <td>EPIC-0412</td>\n",
       "      <td>ATF3-p-p65-HADC1 axis</td>\n",
       "    </tr>\n",
       "    <tr>\n",
       "      <th>26</th>\n",
       "      <td>36272139</td>\n",
       "      <td>temozolomide (TMZ)</td>\n",
       "      <td>None</td>\n",
       "    </tr>\n",
       "    <tr>\n",
       "      <th>27</th>\n",
       "      <td>36970205</td>\n",
       "      <td>trametinib</td>\n",
       "      <td>MEK</td>\n",
       "    </tr>\n",
       "    <tr>\n",
       "      <th>28</th>\n",
       "      <td>36970205</td>\n",
       "      <td>IACS-010759</td>\n",
       "      <td>mitochondrial complex I</td>\n",
       "    </tr>\n",
       "    <tr>\n",
       "      <th>33</th>\n",
       "      <td>36650267</td>\n",
       "      <td>KU60019</td>\n",
       "      <td>ATM</td>\n",
       "    </tr>\n",
       "    <tr>\n",
       "      <th>34</th>\n",
       "      <td>36650267</td>\n",
       "      <td>KU60019</td>\n",
       "      <td>ATM/TOP2β</td>\n",
       "    </tr>\n",
       "    <tr>\n",
       "      <th>35</th>\n",
       "      <td>36650267</td>\n",
       "      <td>KU60019</td>\n",
       "      <td>TOP2β-DNA</td>\n",
       "    </tr>\n",
       "    <tr>\n",
       "      <th>36</th>\n",
       "      <td>36650267</td>\n",
       "      <td>VP-16</td>\n",
       "      <td>TOP2</td>\n",
       "    </tr>\n",
       "    <tr>\n",
       "      <th>38</th>\n",
       "      <td>37147285</td>\n",
       "      <td>Z839878730 (Z8)</td>\n",
       "      <td>KK-LC-1</td>\n",
       "    </tr>\n",
       "    <tr>\n",
       "      <th>39</th>\n",
       "      <td>37147285</td>\n",
       "      <td>Z839878730 (Z8)</td>\n",
       "      <td>KK-LC-1/FAT1</td>\n",
       "    </tr>\n",
       "    <tr>\n",
       "      <th>52</th>\n",
       "      <td>37264081</td>\n",
       "      <td>RMC-6272</td>\n",
       "      <td>mTORC1</td>\n",
       "    </tr>\n",
       "    <tr>\n",
       "      <th>53</th>\n",
       "      <td>37264081</td>\n",
       "      <td>RMC-6272</td>\n",
       "      <td>mTORC2</td>\n",
       "    </tr>\n",
       "    <tr>\n",
       "      <th>54</th>\n",
       "      <td>37264081</td>\n",
       "      <td>rapamycin</td>\n",
       "      <td>None</td>\n",
       "    </tr>\n",
       "    <tr>\n",
       "      <th>55</th>\n",
       "      <td>37264081</td>\n",
       "      <td>everolimus</td>\n",
       "      <td>mTORC1</td>\n",
       "    </tr>\n",
       "    <tr>\n",
       "      <th>61</th>\n",
       "      <td>37141396</td>\n",
       "      <td>pralsetinib (BLU-667)</td>\n",
       "      <td>RET</td>\n",
       "    </tr>\n",
       "    <tr>\n",
       "      <th>62</th>\n",
       "      <td>37141396</td>\n",
       "      <td>pralsetinib (BLU-667)</td>\n",
       "      <td>CCDC6-RET fusion</td>\n",
       "    </tr>\n",
       "  </tbody>\n",
       "</table>\n",
       "</div>"
      ],
      "text/plain": [
       "        pmid                                          drug_name   \n",
       "4   36966152                                         fatostatin  \\\n",
       "5   36966152  p28-functionalized PLGA nanoparticle with fato...   \n",
       "12  36240971                                            TAK-228   \n",
       "13  36240971                                             CB-839   \n",
       "20  35849035                depatuxizumab mafodotin (depatux-m)   \n",
       "21  35849035                depatuxizumab mafodotin (depatux-m)   \n",
       "22  35849035                                       temozolomide   \n",
       "23  36272139                                          EPIC-0412   \n",
       "24  36272139                                          EPIC-0412   \n",
       "25  36272139                                          EPIC-0412   \n",
       "26  36272139                                 temozolomide (TMZ)   \n",
       "27  36970205                                         trametinib   \n",
       "28  36970205                                        IACS-010759   \n",
       "33  36650267                                            KU60019   \n",
       "34  36650267                                            KU60019   \n",
       "35  36650267                                            KU60019   \n",
       "36  36650267                                              VP-16   \n",
       "38  37147285                                    Z839878730 (Z8)   \n",
       "39  37147285                                    Z839878730 (Z8)   \n",
       "52  37264081                                           RMC-6272   \n",
       "53  37264081                                           RMC-6272   \n",
       "54  37264081                                          rapamycin   \n",
       "55  37264081                                         everolimus   \n",
       "61  37141396                              pralsetinib (BLU-667)   \n",
       "62  37141396                              pralsetinib (BLU-667)   \n",
       "\n",
       "              direct_target  \n",
       "4                     SREBP  \n",
       "5                     SREBP  \n",
       "12                  TORC1/2  \n",
       "13              glutaminase  \n",
       "20                     EGFR  \n",
       "21                 EGFRvIII  \n",
       "22                     None  \n",
       "23              HOTAIR/EZH2  \n",
       "24                     MGMT  \n",
       "25    ATF3-p-p65-HADC1 axis  \n",
       "26                     None  \n",
       "27                      MEK  \n",
       "28  mitochondrial complex I  \n",
       "33                      ATM  \n",
       "34                ATM/TOP2β  \n",
       "35                TOP2β-DNA  \n",
       "36                     TOP2  \n",
       "38                  KK-LC-1  \n",
       "39             KK-LC-1/FAT1  \n",
       "52                   mTORC1  \n",
       "53                   mTORC2  \n",
       "54                     None  \n",
       "55                   mTORC1  \n",
       "61                      RET  \n",
       "62         CCDC6-RET fusion  "
      ]
     },
     "execution_count": 149,
     "metadata": {},
     "output_type": "execute_result"
    }
   ],
   "source": [
    "manual_df2[manual_df2['pmid'].isin(['37141396',\n",
    "  '36966152',\n",
    "  '36272139',\n",
    "  '37147285',\n",
    "  '35849035',\n",
    "  '36650267',\n",
    "  '36650267',\n",
    "  '36970205',\n",
    "  '36240971',\n",
    "  '37264081'])][['pmid','drug_name','direct_target']]"
   ]
  },
  {
   "cell_type": "markdown",
   "id": "cc26b032",
   "metadata": {},
   "source": [
    "## 4.3 Evaluation metrics for drug-target interactions extracted by GPT-4 [Level 3]<a id=\"level3\"></a>"
   ]
  },
  {
   "cell_type": "markdown",
   "id": "bc0a3021",
   "metadata": {},
   "source": [
    "<span style=\"font-size:20px;\">**Method**</span>\n",
    "\n",
    "* As shown in the schematic above, only drug-target pairs that were correctly identified by GPT-4 were considered for evaluating targets. Drug, targets, and their relationship are all inter-connected entitites. So, if the drug itself is correctly identified but the target is not identified properly, even though the interaction is captured correctly from an abstract, such data point would lead to inaccurate computational analyses.\n",
    "* To compare target name strings extracted by GPT-4 with manually curated string, any characters were removed from the strings (!\"#$%&\\'()*+,-./:;<=>?@[\\\\]^_`{|}~) and then a score was obtained using the token_set_ratio from the fuzzywuzzy package.\n",
    "* Here, a relaxed criteria was used for comparing the strings as it was more important to capture the primary context than the exact string.\n",
    "\n",
    "* As an example, if manually curated string was 'non-covalent inhibitor' and GPT-4 output said 'inhibitor', these were assessed as correct. In this case if the token_sort_ratio would have been used (like for target evaluation), it would have given a poor matching score.\n",
    "\n",
    "* For only drugs and their target (pairs) that matched:\n",
    "    * TP - interaction correctly ID'd\n",
    "    * TN - interaction doesn't exist and was not extracted\n",
    "    * FP - interaction doesn't exist but was incorrectly extracted\n",
    "    * FN - interaction exists but was missed by GPT"
   ]
  },
  {
   "cell_type": "markdown",
   "id": "bfd56886",
   "metadata": {},
   "source": [
    "<span style=\"font-size:20px;\">**Steps**</span>"
   ]
  },
  {
   "cell_type": "markdown",
   "id": "65bed719",
   "metadata": {},
   "source": [
    "**For each correctly identified drug-target pair, compare GPT-4 extracted interaction string with manually curated string.**"
   ]
  },
  {
   "cell_type": "code",
   "execution_count": 150,
   "id": "01ba1098",
   "metadata": {},
   "outputs": [],
   "source": [
    "int_metrics, int_pmids_errors, int_matches = ner_evaluation.get_interaction_metrics(ner_df2,\n",
    "                                                                                    manual_df2,\n",
    "                                                                                    target_matches,\n",
    "                                                                                    score_cutoff=80)"
   ]
  },
  {
   "cell_type": "code",
   "execution_count": 151,
   "id": "9dd86c00",
   "metadata": {},
   "outputs": [
    {
     "data": {
      "text/plain": [
       "{'fp': 2, 'fn': 2, 'tp': 16, 'tn': 4}"
      ]
     },
     "execution_count": 151,
     "metadata": {},
     "output_type": "execute_result"
    }
   ],
   "source": [
    "int_metrics"
   ]
  },
  {
   "cell_type": "code",
   "execution_count": 152,
   "id": "31bf8064",
   "metadata": {},
   "outputs": [],
   "source": [
    "int_eval_metrics = ner_evaluation.calculate_metrics(int_metrics)"
   ]
  },
  {
   "cell_type": "code",
   "execution_count": 154,
   "id": "ca3f9136",
   "metadata": {},
   "outputs": [
    {
     "data": {
      "text/plain": [
       "{'fp': ['36272139', '36521103'], 'fn': ['36272139', '36521103']}"
      ]
     },
     "execution_count": 154,
     "metadata": {},
     "output_type": "execute_result"
    }
   ],
   "source": [
    "int_pmids_errors"
   ]
  },
  {
   "cell_type": "markdown",
   "id": "96cb145a",
   "metadata": {},
   "source": [
    "<font color='blue'>**For drug-target pairs that were correctly captured from the abstracts by GPT-4, it showed good performance in correctly identifying their interactions.**</font>"
   ]
  },
  {
   "cell_type": "code",
   "execution_count": 153,
   "id": "7bb55de6",
   "metadata": {},
   "outputs": [
    {
     "data": {
      "text/plain": [
       "{'accuracy': 0.83,\n",
       " 'precision': 0.89,\n",
       " 'recall': 0.89,\n",
       " 'f1_score': 0.89,\n",
       " 'neg_pred_value': 0.67}"
      ]
     },
     "execution_count": 153,
     "metadata": {},
     "output_type": "execute_result"
    }
   ],
   "source": [
    "int_eval_metrics"
   ]
  },
  {
   "cell_type": "code",
   "execution_count": 155,
   "id": "b944ef9e",
   "metadata": {},
   "outputs": [
    {
     "name": "stdout",
     "output_type": "stream",
     "text": [
      "36272139\n",
      "Interaction extracted by model =['inhibitor']\n",
      "Ground truth =['epigenetic silencer']\n",
      "36521103\n",
      "Interaction extracted by model =['activator']\n",
      "Ground truth =['peptide vaccine conjugate against target']\n"
     ]
    }
   ],
   "source": [
    "for pmid in int_pmids_errors['fp']:\n",
    "    \n",
    "    for pair in target_matches:\n",
    "        if pair['pmid'] == pmid:\n",
    "            model = ner_df2[(ner_df2['pmid']==pmid) & (ner_df2['drug_name']==pair['model_drug_name']) &\n",
    "                               (ner_df2['direct_target']==pair['model_direct_target'])]['drug-direct_target_interaction'].unique()\n",
    "            gt = manual_df2[(manual_df2['pmid']==pmid) & (manual_df2['drug_name']==pair['gtruth_drug_name']) &\n",
    "                               (manual_df2['direct_target']==pair['gtruth_direct_target'])]['drug-direct_target_interaction'].unique()\n",
    "            \n",
    "            print(pmid)\n",
    "            print(f'Interaction extracted by model ={model}')\n",
    "            print(f'Ground truth ={gt}')"
   ]
  },
  {
   "cell_type": "code",
   "execution_count": 156,
   "id": "746c3eac",
   "metadata": {},
   "outputs": [
    {
     "data": {
      "text/html": [
       "<div>\n",
       "<style scoped>\n",
       "    .dataframe tbody tr th:only-of-type {\n",
       "        vertical-align: middle;\n",
       "    }\n",
       "\n",
       "    .dataframe tbody tr th {\n",
       "        vertical-align: top;\n",
       "    }\n",
       "\n",
       "    .dataframe thead th {\n",
       "        text-align: right;\n",
       "    }\n",
       "</style>\n",
       "<table border=\"1\" class=\"dataframe\">\n",
       "  <thead>\n",
       "    <tr style=\"text-align: right;\">\n",
       "      <th></th>\n",
       "      <th>completion_id</th>\n",
       "      <th>completion_tokens</th>\n",
       "      <th>prompt_tokens</th>\n",
       "      <th>total_tokens</th>\n",
       "      <th>drug_name</th>\n",
       "      <th>tested_or_effective_group</th>\n",
       "      <th>drug_tested_in_diseases</th>\n",
       "      <th>clinical_trials_id</th>\n",
       "      <th>direct_target</th>\n",
       "      <th>drug-direct_target_interaction</th>\n",
       "      <th>pmid</th>\n",
       "    </tr>\n",
       "  </thead>\n",
       "  <tbody>\n",
       "    <tr>\n",
       "      <th>16</th>\n",
       "      <td>chatcmpl-95G0Wc7vcVsPnVWNFT1pvp6WdmDPY</td>\n",
       "      <td>142.0</td>\n",
       "      <td>1227.0</td>\n",
       "      <td>1369.0</td>\n",
       "      <td>EPIC-0412</td>\n",
       "      <td>[GBM]</td>\n",
       "      <td>[Glioblastoma multiforme]</td>\n",
       "      <td>None</td>\n",
       "      <td>MGMT</td>\n",
       "      <td>inhibitor</td>\n",
       "      <td>36272139</td>\n",
       "    </tr>\n",
       "    <tr>\n",
       "      <th>17</th>\n",
       "      <td>chatcmpl-95G0Wc7vcVsPnVWNFT1pvp6WdmDPY</td>\n",
       "      <td>142.0</td>\n",
       "      <td>1227.0</td>\n",
       "      <td>1369.0</td>\n",
       "      <td>EPIC-0412</td>\n",
       "      <td>[GBM]</td>\n",
       "      <td>[Glioblastoma multiforme]</td>\n",
       "      <td>None</td>\n",
       "      <td>DNA damage repair pathway</td>\n",
       "      <td>inhibitor</td>\n",
       "      <td>36272139</td>\n",
       "    </tr>\n",
       "    <tr>\n",
       "      <th>18</th>\n",
       "      <td>chatcmpl-95G0Wc7vcVsPnVWNFT1pvp6WdmDPY</td>\n",
       "      <td>142.0</td>\n",
       "      <td>1227.0</td>\n",
       "      <td>1369.0</td>\n",
       "      <td>Temozolomide</td>\n",
       "      <td>[GBM]</td>\n",
       "      <td>[Glioblastoma multiforme]</td>\n",
       "      <td>None</td>\n",
       "      <td>MGMT</td>\n",
       "      <td>affected by resistance</td>\n",
       "      <td>36272139</td>\n",
       "    </tr>\n",
       "  </tbody>\n",
       "</table>\n",
       "</div>"
      ],
      "text/plain": [
       "                             completion_id completion_tokens prompt_tokens   \n",
       "16  chatcmpl-95G0Wc7vcVsPnVWNFT1pvp6WdmDPY             142.0        1227.0  \\\n",
       "17  chatcmpl-95G0Wc7vcVsPnVWNFT1pvp6WdmDPY             142.0        1227.0   \n",
       "18  chatcmpl-95G0Wc7vcVsPnVWNFT1pvp6WdmDPY             142.0        1227.0   \n",
       "\n",
       "   total_tokens     drug_name tested_or_effective_group   \n",
       "16       1369.0     EPIC-0412                     [GBM]  \\\n",
       "17       1369.0     EPIC-0412                     [GBM]   \n",
       "18       1369.0  Temozolomide                     [GBM]   \n",
       "\n",
       "      drug_tested_in_diseases clinical_trials_id              direct_target   \n",
       "16  [Glioblastoma multiforme]               None                       MGMT  \\\n",
       "17  [Glioblastoma multiforme]               None  DNA damage repair pathway   \n",
       "18  [Glioblastoma multiforme]               None                       MGMT   \n",
       "\n",
       "   drug-direct_target_interaction      pmid  \n",
       "16                      inhibitor  36272139  \n",
       "17                      inhibitor  36272139  \n",
       "18         affected by resistance  36272139  "
      ]
     },
     "execution_count": 156,
     "metadata": {},
     "output_type": "execute_result"
    }
   ],
   "source": [
    "ner_df2[ner_df2['pmid']=='36272139']"
   ]
  },
  {
   "cell_type": "code",
   "execution_count": null,
   "id": "49ca6926",
   "metadata": {},
   "outputs": [],
   "source": []
  },
  {
   "cell_type": "markdown",
   "id": "e38765fd",
   "metadata": {},
   "source": [
    "# Conclusions and next steps<a id=\"conclusion\"></a>\n",
    "\n",
    "1. This proof of concept study shows generation of an updated drug-centric dataset from PubMed abstracts using GPT-4 and confirms feasibility of the approach.\n",
    "2. GPT-4 extracted drug names, their targets, and the drug-target interactions with the following precision, recall as shown in the schematic.\n",
    "3. Even with exhaustive instructions included in the prompt, GPT-4 doesn't give good performance at all levels of evaluation (shown in the schematic below.). \n",
    "4. Edge cases and some deep dives into GPT errors shown in Section 4 provide a rationale for finetuning a model on a training dataset.\n",
    "5. The prompt used in this project was selected after testing various prompts. Since biomedical context can be pretty complex, further prompt engineering is not expected to significantly improve performance, necessitating application of a model fine-tuned on this specific dataset. This next step is shown in the notebook pubmed_finetuning [LINK]."
   ]
  },
  {
   "cell_type": "raw",
   "id": "d6ea874a",
   "metadata": {},
   "source": [
    "LEVEL 1 - Drug name\n",
    "  |       For each abstract/PMID, get drug names correctly identified by GPT-4.\n",
    "  |       Precision=91%, Recall = 57%\n",
    "  |\n",
    "  |_ LEVEL 2 - Target\n",
    "       |       For drugs that were extracted correctly, did GPT-4 identified the associated targets correctly?\n",
    "       |       Precision=75%, Recall = 60%\n",
    "       |\n",
    "       |_ LEVEL 3 - Drug-Target interaction\n",
    "            For drug-target pairs that were extracted correctly, did GPT-4 capture their interaction type properly?\n",
    "            Precision=89%, Recall = 89%"
   ]
  },
  {
   "cell_type": "markdown",
   "id": "af3e88f3",
   "metadata": {},
   "source": [
    "# References & Accessory links<a id=\"refs\"></a>\n",
    "\n",
    "*Additional, detailed references are present in the notebooks linked here.*\n",
    "\n",
    "**REFERENCES**\n",
    "* NCBI PubMed https://pubmed.ncbi.nlm.nih.gov/\n",
    "* Setting up service account https://medium.com/@jb.ranchana/write-and-append-dataframes-to-google-sheets-in-python-f62479460cf0\n",
    "* GPT API https://platform.openai.com/docs/api-reference\n",
    "\n",
    "**ACCESSORY LINKS**\n",
    "* Notebook where the PubMed API workflow was determined to arrive at the development of the pubmed module - \n",
    "* Notebook showing GPT API testing, prompt engineering to arrive at development of the openai_api module - "
   ]
  },
  {
   "cell_type": "markdown",
   "id": "98dde64e",
   "metadata": {},
   "source": [
    "# Scratchpad"
   ]
  },
  {
   "cell_type": "code",
   "execution_count": 9,
   "id": "7c6729a5",
   "metadata": {},
   "outputs": [],
   "source": [
    "df = pd.DataFrame([{'pmid':34245,'col1':'ggtt'},\n",
    "                   {'pmid':35355,'col1':None},\n",
    "                   {'pmid':35355,'col1':'dfhg'},\n",
    "                   {'pmid':23986,'col1':'ksjf'}])"
   ]
  },
  {
   "cell_type": "code",
   "execution_count": 10,
   "id": "bbcccb7b",
   "metadata": {},
   "outputs": [
    {
     "data": {
      "text/html": [
       "<div>\n",
       "<style scoped>\n",
       "    .dataframe tbody tr th:only-of-type {\n",
       "        vertical-align: middle;\n",
       "    }\n",
       "\n",
       "    .dataframe tbody tr th {\n",
       "        vertical-align: top;\n",
       "    }\n",
       "\n",
       "    .dataframe thead th {\n",
       "        text-align: right;\n",
       "    }\n",
       "</style>\n",
       "<table border=\"1\" class=\"dataframe\">\n",
       "  <thead>\n",
       "    <tr style=\"text-align: right;\">\n",
       "      <th></th>\n",
       "      <th>pmid</th>\n",
       "      <th>col1</th>\n",
       "    </tr>\n",
       "  </thead>\n",
       "  <tbody>\n",
       "    <tr>\n",
       "      <th>0</th>\n",
       "      <td>34245</td>\n",
       "      <td>ggtt</td>\n",
       "    </tr>\n",
       "    <tr>\n",
       "      <th>1</th>\n",
       "      <td>35355</td>\n",
       "      <td>None</td>\n",
       "    </tr>\n",
       "    <tr>\n",
       "      <th>2</th>\n",
       "      <td>35355</td>\n",
       "      <td>dfhg</td>\n",
       "    </tr>\n",
       "    <tr>\n",
       "      <th>3</th>\n",
       "      <td>23986</td>\n",
       "      <td>ksjf</td>\n",
       "    </tr>\n",
       "  </tbody>\n",
       "</table>\n",
       "</div>"
      ],
      "text/plain": [
       "    pmid  col1\n",
       "0  34245  ggtt\n",
       "1  35355  None\n",
       "2  35355  dfhg\n",
       "3  23986  ksjf"
      ]
     },
     "execution_count": 10,
     "metadata": {},
     "output_type": "execute_result"
    }
   ],
   "source": [
    "df"
   ]
  },
  {
   "cell_type": "code",
   "execution_count": 11,
   "id": "8b4a39e0",
   "metadata": {},
   "outputs": [
    {
     "data": {
      "text/plain": [
       "Index([], dtype='int64', name='pmid')"
      ]
     },
     "execution_count": 11,
     "metadata": {},
     "output_type": "execute_result"
    }
   ],
   "source": [
    "df.groupby('pmid')['col1'].nunique()[lambda x: x==0].index"
   ]
  },
  {
   "cell_type": "code",
   "execution_count": 12,
   "id": "f2065c88",
   "metadata": {},
   "outputs": [
    {
     "data": {
      "text/plain": [
       "pmid\n",
       "23986    1\n",
       "34245    1\n",
       "35355    1\n",
       "Name: col1, dtype: int64"
      ]
     },
     "execution_count": 12,
     "metadata": {},
     "output_type": "execute_result"
    }
   ],
   "source": [
    "df.groupby('pmid')['col1'].nunique()"
   ]
  },
  {
   "cell_type": "code",
   "execution_count": null,
   "id": "ae3112d7",
   "metadata": {},
   "outputs": [],
   "source": []
  }
 ],
 "metadata": {
  "kernelspec": {
   "display_name": "Python 3 (ipykernel)",
   "language": "python",
   "name": "python3"
  },
  "language_info": {
   "codemirror_mode": {
    "name": "ipython",
    "version": 3
   },
   "file_extension": ".py",
   "mimetype": "text/x-python",
   "name": "python",
   "nbconvert_exporter": "python",
   "pygments_lexer": "ipython3",
   "version": "3.9.12"
  }
 },
 "nbformat": 4,
 "nbformat_minor": 5
}
