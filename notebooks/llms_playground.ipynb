{
 "cells": [
  {
   "cell_type": "markdown",
   "id": "24753516",
   "metadata": {},
   "source": [
    "# Table of contents\n",
    "\n"
   ]
  },
  {
   "cell_type": "markdown",
   "id": "94392046",
   "metadata": {},
   "source": [
    "* [Overview](#overview)\n",
    "* [Notes and links about LLMs](#notes)\n",
    "* [Imports](#imports)\n",
    "* [Gemini](#gemini)\n",
    "* [GPT](#gpt)\n",
    "    * [Set-up](#setup)\n",
    "    * [Use cases - Q/A and entity extraction](#usecases)\n",
    "    * [Ideas to reduce the cost per query](#cost)\n",
    "        * [Model alternatives](#models)\n",
    "    * [Testing some examples for drug and gene name extraction](#druggene)\n",
    "* [Hugging Face](#hf)"
   ]
  },
  {
   "cell_type": "markdown",
   "id": "415b5046",
   "metadata": {},
   "source": [
    "# Overview<a id=\"overview\"></a>\n",
    "\n",
    "Purpose of this notebook is to try out different LLMs."
   ]
  },
  {
   "cell_type": "markdown",
   "id": "83ba8b8d",
   "metadata": {},
   "source": [
    "FREE:\n",
    "* Llama-2 [encoder-decoder]\n",
    "* BERT [encoder only]\n",
    "* Gemini [encoder-decoder]\n",
    "* T5 [encoder-decoder]\n",
    "\n",
    "PAID:\n",
    "GPT4 (OpenAI) [decoder only]"
   ]
  },
  {
   "cell_type": "markdown",
   "id": "d4b7a1c6",
   "metadata": {},
   "source": [
    "# Notes and links about LLMs<a id=\"notes\"></a>\n",
    "\n",
    "1. Gemini 1.0 [Google]\n",
    "    * is free to use: https://ai.google.dev/pricing\n",
    "    * Python package: https://pypi.org/project/google-generativeai/\n",
    "    * How to: https://ai.google.dev/tutorials/python_quickstart\n",
    "    * API key was obtained by going to Create API Key (New Project) - https://aistudio.google.com/app/apikey\n",
    "    * Free v 1.0 and allows 60 queries per minute. The prompts and responses are used to improve their products.\n",
    "    \n",
    "    \n",
    "2. OpenAI API\n",
    "    * Is not free but it doesn't require upgrading to Plus.\n",
    "    * You have to first purchase credits (\\\\$ 5 minimum) to use the API.\n",
    "    * Pricing for GPT4: https://openai.com/pricing#language-models\n",
    "    \n",
    "        Input: \\\\$0.03 / 1K tokens\n",
    "        \n",
    "        Output: \\\\$0.06 / 1K tokens\n",
    "        \n",
    "    * API ref: https://platform.openai.com/docs/api-reference\n",
    "    * Python quickstart: https://platform.openai.com/docs/quickstart?context=python\n",
    "    * How to / cookbook on formatting inputs. https://cookbook.openai.com/examples/how_to_format_inputs_to_chatgpt_models\n",
    "    * Model types and compatibility with endpoints - https://platform.openai.com/docs/models/model-endpoint-compatibility\n",
    "    * How to count tokens to get an estimate of cost: https://cookbook.openai.com/examples/how_to_format_inputs_to_chatgpt_models#4-counting-tokens\n",
    "    \n",
    "    \n",
    "3. Llama-2\n",
    "    * Free to use from Meta\n",
    "    * Getting started guide - https://ai.meta.com/blog/5-steps-to-getting-started-with-llama-2/#:~:text=Llama%202%20is%20available%20for%20free%20for%20research%20and%20commercial%20use.\n",
    "    * Does not have an API through Meta.\n",
    "    * Try Hugging Face https://huggingface.co/docs/transformers/v4.38.1/en/autoclass_tutorial\n",
    "    "
   ]
  },
  {
   "cell_type": "markdown",
   "id": "27c915eb",
   "metadata": {},
   "source": [
    "# Imports<a id=\"imports\"></a>"
   ]
  },
  {
   "cell_type": "code",
   "execution_count": 78,
   "id": "ff0667ca",
   "metadata": {},
   "outputs": [],
   "source": [
    "from dotenv import load_dotenv\n",
    "import google.generativeai as genai\n",
    "import json\n",
    "from openai import OpenAI\n",
    "import os\n",
    "import pandas as pd\n",
    "from pathlib import Path\n",
    "import torch\n",
    "import transformers"
   ]
  },
  {
   "cell_type": "markdown",
   "id": "e72efb88",
   "metadata": {},
   "source": [
    "# Gemini<a id=\"gemini\"></a>"
   ]
  },
  {
   "cell_type": "markdown",
   "id": "158dd5e2",
   "metadata": {},
   "source": [
    "**Load environment variables.**"
   ]
  },
  {
   "cell_type": "code",
   "execution_count": 14,
   "id": "a0adae9c",
   "metadata": {},
   "outputs": [
    {
     "data": {
      "text/plain": [
       "True"
      ]
     },
     "execution_count": 14,
     "metadata": {},
     "output_type": "execute_result"
    }
   ],
   "source": [
    "load_dotenv(dotenv_path=dotenv_path)"
   ]
  },
  {
   "cell_type": "markdown",
   "id": "83ff664f",
   "metadata": {},
   "source": [
    "**Access environment variables.**"
   ]
  },
  {
   "cell_type": "code",
   "execution_count": 17,
   "id": "3df2b020",
   "metadata": {},
   "outputs": [],
   "source": [
    "api_key_gemini = os.environ['API_KEY_GEMINI']"
   ]
  },
  {
   "cell_type": "markdown",
   "id": "91eaa534",
   "metadata": {},
   "source": [
    "**Pass the key to the gemini API.**"
   ]
  },
  {
   "cell_type": "code",
   "execution_count": 18,
   "id": "e4e5c405",
   "metadata": {},
   "outputs": [],
   "source": [
    "genai.configure(api_key=api_key_gemini)"
   ]
  },
  {
   "cell_type": "code",
   "execution_count": 26,
   "id": "b40a2d60",
   "metadata": {},
   "outputs": [
    {
     "data": {
      "text/plain": [
       "generator"
      ]
     },
     "execution_count": 26,
     "metadata": {},
     "output_type": "execute_result"
    }
   ],
   "source": [
    "genai.list_models()  "
   ]
  },
  {
   "cell_type": "markdown",
   "id": "3e42844e",
   "metadata": {},
   "source": [
    "**This code from the Python tutorial - does not work and gives an AttributeError**\n",
    "https://ai.google.dev/tutorials/python_quickstart\n",
    "This should show a list of available models. This problem persists with other users too but it looks like it hasn't been solved. https://github.com/google/generative-ai-python/issues/145"
   ]
  },
  {
   "cell_type": "raw",
   "id": "1447c5ac",
   "metadata": {},
   "source": [
    "\n",
    "for m in genai.list_models():\n",
    "    if 'generateContent' in m.supported_generation_methods:\n",
    "        print(m.name)"
   ]
  },
  {
   "cell_type": "markdown",
   "id": "49f8cb9f",
   "metadata": {},
   "source": [
    "**Try some queries with Gemini-Pro**"
   ]
  },
  {
   "cell_type": "markdown",
   "id": "710dc4a6",
   "metadata": {},
   "source": [
    "Load the model."
   ]
  },
  {
   "cell_type": "code",
   "execution_count": 39,
   "id": "fa5979df",
   "metadata": {},
   "outputs": [],
   "source": [
    "model = genai.GenerativeModel('gemini-pro')"
   ]
  },
  {
   "cell_type": "code",
   "execution_count": 38,
   "id": "e032abd3",
   "metadata": {},
   "outputs": [],
   "source": [
    "response = model.generate_content('What is BRCA1?')"
   ]
  },
  {
   "cell_type": "code",
   "execution_count": 42,
   "id": "f5c90c34",
   "metadata": {},
   "outputs": [
    {
     "ename": "TypeError",
     "evalue": "argument of type 'Part' is not iterable",
     "output_type": "error",
     "traceback": [
      "\u001b[0;31m---------------------------------------------------------------------------\u001b[0m",
      "\u001b[0;31mTypeError\u001b[0m                                 Traceback (most recent call last)",
      "\u001b[0;32m/var/folders/dk/wfg559q158x290pwcj2w20dc0000gp/T/ipykernel_6681/2651009382.py\u001b[0m in \u001b[0;36m<module>\u001b[0;34m\u001b[0m\n\u001b[0;32m----> 1\u001b[0;31m \u001b[0mprint\u001b[0m\u001b[0;34m(\u001b[0m\u001b[0mresponse\u001b[0m\u001b[0;34m.\u001b[0m\u001b[0mtext\u001b[0m\u001b[0;34m)\u001b[0m\u001b[0;34m\u001b[0m\u001b[0;34m\u001b[0m\u001b[0m\n\u001b[0m",
      "\u001b[0;32m~/miniconda3/lib/python3.9/site-packages/google/generativeai/types/generation_types.py\u001b[0m in \u001b[0;36mtext\u001b[0;34m(self)\u001b[0m\n\u001b[1;32m    325\u001b[0m         \"\"\"\n\u001b[1;32m    326\u001b[0m         \u001b[0mparts\u001b[0m \u001b[0;34m=\u001b[0m \u001b[0mself\u001b[0m\u001b[0;34m.\u001b[0m\u001b[0mparts\u001b[0m\u001b[0;34m\u001b[0m\u001b[0;34m\u001b[0m\u001b[0m\n\u001b[0;32m--> 327\u001b[0;31m         \u001b[0;32mif\u001b[0m \u001b[0mlen\u001b[0m\u001b[0;34m(\u001b[0m\u001b[0mparts\u001b[0m\u001b[0;34m)\u001b[0m \u001b[0;34m!=\u001b[0m \u001b[0;36m1\u001b[0m \u001b[0;32mor\u001b[0m \u001b[0;34m\"text\"\u001b[0m \u001b[0;32mnot\u001b[0m \u001b[0;32min\u001b[0m \u001b[0mparts\u001b[0m\u001b[0;34m[\u001b[0m\u001b[0;36m0\u001b[0m\u001b[0;34m]\u001b[0m\u001b[0;34m:\u001b[0m\u001b[0;34m\u001b[0m\u001b[0;34m\u001b[0m\u001b[0m\n\u001b[0m\u001b[1;32m    328\u001b[0m             raise ValueError(\n\u001b[1;32m    329\u001b[0m                 \u001b[0;34m\"The `response.text` quick accessor only works for \"\u001b[0m\u001b[0;34m\u001b[0m\u001b[0;34m\u001b[0m\u001b[0m\n",
      "\u001b[0;31mTypeError\u001b[0m: argument of type 'Part' is not iterable"
     ]
    }
   ],
   "source": [
    "print(response.text)"
   ]
  },
  {
   "cell_type": "markdown",
   "id": "7d360a20",
   "metadata": {},
   "source": [
    "# GPT4<a id=\"gpt\"></a>"
   ]
  },
  {
   "cell_type": "markdown",
   "id": "b7551c62",
   "metadata": {},
   "source": [
    "## Set up the client.<a id=\"setup\"></a>"
   ]
  },
  {
   "cell_type": "markdown",
   "id": "400469b8",
   "metadata": {},
   "source": [
    "**Load API key.**"
   ]
  },
  {
   "cell_type": "code",
   "execution_count": 8,
   "id": "8d38fbd1",
   "metadata": {
    "scrolled": false
   },
   "outputs": [
    {
     "data": {
      "text/plain": [
       "True"
      ]
     },
     "execution_count": 8,
     "metadata": {},
     "output_type": "execute_result"
    }
   ],
   "source": [
    "load_dotenv(dotenv_path=openai_key_path)"
   ]
  },
  {
   "cell_type": "markdown",
   "id": "3bfba5d2",
   "metadata": {},
   "source": [
    "**Access the API key.**"
   ]
  },
  {
   "cell_type": "code",
   "execution_count": 9,
   "id": "f8687c46",
   "metadata": {},
   "outputs": [],
   "source": [
    "openai_api_key = os.environ['OPENAI_API_KEY']"
   ]
  },
  {
   "cell_type": "code",
   "execution_count": 10,
   "id": "6c2e1029",
   "metadata": {},
   "outputs": [],
   "source": [
    "client = OpenAI(api_key=openai_api_key)"
   ]
  },
  {
   "cell_type": "markdown",
   "id": "f2da53d4",
   "metadata": {},
   "source": [
    "**Use the chat completions endpoint.**\n",
    "\n",
    "First try with just the two required arguments.\n",
    "\n",
    "The messages input is basically a list of dictionaries, where each dictionary also shows where the instruction or content is coming from. \n",
    "In short: \n",
    "\n",
    "    * 'user' role means you as a user who is talking to the model\n",
    "    \n",
    "    * 'assistant' role means the GPT server\n",
    "    \n",
    "    * 'system' role means you can as a developer set instructions such as 'Frame the answer for a non-engineer'.\n",
    "    "
   ]
  },
  {
   "cell_type": "markdown",
   "id": "7b991d58",
   "metadata": {},
   "source": [
    "## Try a Q/A and a entity recognition use case.<a id=\"usecases\"></a>"
   ]
  },
  {
   "cell_type": "markdown",
   "id": "382ff86b",
   "metadata": {},
   "source": [
    "**USE CASE 1 - Q/A.**"
   ]
  },
  {
   "cell_type": "markdown",
   "id": "bcd7e222",
   "metadata": {},
   "source": [
    "**You can see that a slight change in the query can produce different results.**"
   ]
  },
  {
   "cell_type": "code",
   "execution_count": 67,
   "id": "f2007a52",
   "metadata": {},
   "outputs": [],
   "source": [
    "MODEL = \"gpt-4\"\n",
    "response = client.chat.completions.create(\n",
    "    model=MODEL,\n",
    "    messages=[\n",
    "        {\"role\": \"system\", \"content\": \"Provide explanation to a lay audience in JSON format.\"},\n",
    "        {\"role\": \"user\", \"content\": \"What is BRCA1?\"}\n",
    "    ]\n",
    ")\n"
   ]
  },
  {
   "cell_type": "code",
   "execution_count": 68,
   "id": "a36c2e6b",
   "metadata": {},
   "outputs": [
    {
     "data": {
      "text/plain": [
       "ChatCompletion(id='chatcmpl-8vqqmLFCoJSAcoEQxWHNVsLdX9Mgh', choices=[Choice(finish_reason='stop', index=0, logprobs=None, message=ChatCompletionMessage(content='{\\n  \"BRCA1\": {\\n    \"Definition\": \"BRCA1 is a gene that produces a protein responsible for repairing damaged DNA and maintaining the cell\\'s genetic stability.\",\\n    \"Significance\": \"Mutations or changes in this gene can lead to the development of hereditary breast and ovarian cancer. When functioning normally, this gene helps prevent uncontrolled cell growth. However, a mutation can lead to an increased risk of developing cancer.\",\\n    \"Testing\": \"Genetic tests are available to check for BRCA1 mutations. These tests are often recommended for individuals with a strong family history of breast or ovarian cancer.\"\\n  }\\n}', role='assistant', function_call=None, tool_calls=None))], created=1708798544, model='gpt-4-0613', object='chat.completion', system_fingerprint=None, usage=CompletionUsage(completion_tokens=128, prompt_tokens=27, total_tokens=155))"
      ]
     },
     "execution_count": 68,
     "metadata": {},
     "output_type": "execute_result"
    }
   ],
   "source": [
    "response"
   ]
  },
  {
   "cell_type": "code",
   "execution_count": 65,
   "id": "ca3d4c77",
   "metadata": {},
   "outputs": [],
   "source": [
    "MODEL = \"gpt-4\"\n",
    "response = client.chat.completions.create(\n",
    "    model=MODEL,\n",
    "    messages=[\n",
    "        {\"role\": \"system\", \"content\": \"Explain to a lay audience.\"},\n",
    "        {\"role\": \"user\", \"content\": \"What is BRCA1?\"}\n",
    "    ]\n",
    ")\n"
   ]
  },
  {
   "cell_type": "code",
   "execution_count": 66,
   "id": "2ccd7399",
   "metadata": {},
   "outputs": [
    {
     "data": {
      "text/plain": [
       "ChatCompletion(id='chatcmpl-8vqnbzu6mE7CIFprnlx6qGbHe5waT', choices=[Choice(finish_reason='stop', index=0, logprobs=None, message=ChatCompletionMessage(content=\"BRCA1 is a gene that everyone has in their cells. This gene plays an important role in repairing damaged DNA and keeping our cells' genetic material stable. When this gene works properly, it helps prevent uncontrolled cell growth that could otherwise lead to cancer.\\n\\nHowever, some people carry changes or mutations in the BRCA1 gene that they inherited from their parents. These changes can prevent the gene from working properly, which increases the risk of breast and ovarian cancer, and to a lesser extent, other types of cancer.\\n\\nTesting for these gene changes is sometimes recommended for people with a strong family history of breast or ovarian cancer. If an individual knows they carry a mutated BRCA1 gene, they can make certain decisions about preventative measures, early detection and treatment options.\", role='assistant', function_call=None, tool_calls=None))], created=1708798347, model='gpt-4-0613', object='chat.completion', system_fingerprint=None, usage=CompletionUsage(completion_tokens=153, prompt_tokens=24, total_tokens=177))"
      ]
     },
     "execution_count": 66,
     "metadata": {},
     "output_type": "execute_result"
    }
   ],
   "source": [
    "response"
   ]
  },
  {
   "cell_type": "markdown",
   "id": "70a83538",
   "metadata": {},
   "source": [
    "**USE CASE 2 - EXTRACT ENTITIES FROM GIVEN INFORMATION.**"
   ]
  },
  {
   "cell_type": "code",
   "execution_count": 8,
   "id": "49253151",
   "metadata": {},
   "outputs": [],
   "source": [
    "MODEL = \"gpt-4\"\n",
    "response = client.chat.completions.create(\n",
    "    model=MODEL,\n",
    "    messages=[\n",
    "        {\"role\": \"user\", \"content\": \"\"\"Extract the target gene name and associated drug names from a chunk of text:\n",
    "        In this phase 1 study, patients with ALK-positive stage III or IV NSCLC received oral crizotinib 250 mg twice daily in 28-day cycles. \n",
    "        Endpoints included tumour responses, duration of response, time to tumour response, progression-free survival (PFS), overall survival at 6 and 12 months, and determination of the safety and tolerability and characterisation of the plasma pharmacokinetic profile of crizotinib after oral administration. \n",
    "        Responses were analysed in evaluable patients and PFS and safety were analysed in all patients. \n",
    "        This study is registered with ClinicalTrials.gov, number NCT00585195.\n",
    "        \"\"\"}\n",
    "    ]\n",
    ")\n"
   ]
  },
  {
   "cell_type": "code",
   "execution_count": 9,
   "id": "51232c90",
   "metadata": {},
   "outputs": [
    {
     "data": {
      "text/plain": [
       "ChatCompletion(id='chatcmpl-8wXyu0JFHegsYnSMhXuBgfGUlrmVQ', choices=[Choice(finish_reason='stop', index=0, logprobs=None, message=ChatCompletionMessage(content='Target Gene Name: ALK \\n\\nAssociated Drug Names: Crizotinib', role='assistant', function_call=None, tool_calls=None))], created=1708964340, model='gpt-4-0613', object='chat.completion', system_fingerprint=None, usage=CompletionUsage(completion_tokens=16, prompt_tokens=164, total_tokens=180))"
      ]
     },
     "execution_count": 9,
     "metadata": {},
     "output_type": "execute_result"
    }
   ],
   "source": [
    "response"
   ]
  },
  {
   "cell_type": "code",
   "execution_count": 10,
   "id": "bb82a2e4",
   "metadata": {},
   "outputs": [],
   "source": [
    "MODEL = \"gpt-4\"\n",
    "response = client.chat.completions.create(\n",
    "    model=MODEL,\n",
    "    messages=[\n",
    "        {\"role\": \"user\", \"content\": \"\"\"Extract the target gene name and associated drug names from a chunk of text:\n",
    "        In this phase 1 study, patients with ALK-positive stage III or IV NSCLC received oral crizotinib 250 mg twice daily in 28-day cycles. \n",
    "        Endpoints included tumour responses, duration of response, time to tumour response, progression-free survival (PFS), overall survival at 6 and 12 months, and determination of the safety and tolerability and characterisation of the plasma pharmacokinetic profile of crizotinib after oral administration. \n",
    "        Responses were analysed in evaluable patients and PFS and safety were analysed in all patients. \n",
    "        This study is registered with ClinicalTrials.gov, number NCT00585195.\n",
    "        \"\"\"},\n",
    "        {\"role\":\"system\",\"content\":\"Try to also extract any aliases for gene or drug names from any external links to other databases provided in the text.\"}\n",
    "    ]\n",
    ")"
   ]
  },
  {
   "cell_type": "code",
   "execution_count": 11,
   "id": "a08db6fc",
   "metadata": {},
   "outputs": [
    {
     "data": {
      "text/plain": [
       "ChatCompletion(id='chatcmpl-8wY80Uwnsruad1FSr3QpcTPSbbd1R', choices=[Choice(finish_reason='stop', index=0, logprobs=None, message=ChatCompletionMessage(content='The text does not provide information about any external links to other databases for gene or drug names. Please provide the text that contains these details.', role='assistant', function_call=None, tool_calls=None))], created=1708964904, model='gpt-4-0613', object='chat.completion', system_fingerprint=None, usage=CompletionUsage(completion_tokens=28, prompt_tokens=191, total_tokens=219))"
      ]
     },
     "execution_count": 11,
     "metadata": {},
     "output_type": "execute_result"
    }
   ],
   "source": [
    "response"
   ]
  },
  {
   "cell_type": "code",
   "execution_count": 12,
   "id": "bcdfedf8",
   "metadata": {},
   "outputs": [],
   "source": [
    "MODEL = \"gpt-4\"\n",
    "response = client.chat.completions.create(\n",
    "    model=MODEL,\n",
    "    messages=[\n",
    "        {\"role\": \"user\", \"content\": \"\"\"Extract the target gene name and associated drug names from a chunk of text:\n",
    "        In this phase 1 study, patients with ALK-positive stage III or IV NSCLC received oral crizotinib 250 mg twice daily in 28-day cycles. \n",
    "        Endpoints included tumour responses, duration of response, time to tumour response, progression-free survival (PFS), overall survival at 6 and 12 months, and determination of the safety and tolerability and characterisation of the plasma pharmacokinetic profile of crizotinib after oral administration. \n",
    "        Responses were analysed in evaluable patients and PFS and safety were analysed in all patients. \n",
    "        This study is registered with ClinicalTrials.gov, number NCT00585195.\n",
    "        \"\"\"},\n",
    "        {\"role\":\"system\",\"content\":\"Extract details if any of the following database ids are provided: Clinical trials, PubChem, Entrez or similar.\"}\n",
    "    ]\n",
    ")"
   ]
  },
  {
   "cell_type": "code",
   "execution_count": 13,
   "id": "65022359",
   "metadata": {},
   "outputs": [
    {
     "data": {
      "text/plain": [
       "ChatCompletion(id='chatcmpl-8wYA7dq8MRbcDKGgaK2qHi7d1RNPE', choices=[Choice(finish_reason='stop', index=0, logprobs=None, message=ChatCompletionMessage(content='The text does not provide database ids for Clinical trials, PubChem, Entrez or similar.', role='assistant', function_call=None, tool_calls=None))], created=1708965035, model='gpt-4-0613', object='chat.completion', system_fingerprint=None, usage=CompletionUsage(completion_tokens=19, prompt_tokens=191, total_tokens=210))"
      ]
     },
     "execution_count": 13,
     "metadata": {},
     "output_type": "execute_result"
    }
   ],
   "source": [
    "response"
   ]
  },
  {
   "cell_type": "code",
   "execution_count": 14,
   "id": "54887af9",
   "metadata": {},
   "outputs": [],
   "source": [
    "MODEL = \"gpt-4\"\n",
    "response = client.chat.completions.create(\n",
    "    model=MODEL,\n",
    "    messages=[\n",
    "        {\"role\": \"user\", \"content\": \"\"\"Extract the target gene name and associated drug names from a chunk of text:\n",
    "        In this phase 1 study, patients with ALK-positive stage III or IV NSCLC received oral crizotinib 250 mg twice daily in 28-day cycles. \n",
    "        Endpoints included tumour responses, duration of response, time to tumour response, progression-free survival (PFS), overall survival at 6 and 12 months, and determination of the safety and tolerability and characterisation of the plasma pharmacokinetic profile of crizotinib after oral administration. \n",
    "        Responses were analysed in evaluable patients and PFS and safety were analysed in all patients. \n",
    "        This study is registered with ClinicalTrials.gov, number NCT00585195.\n",
    "        \"\"\"},\n",
    "        {\"role\":\"system\",\"content\":\"If ClinicalTrials.gov id or a number starting with NCT is given, extract the title of the study.\"}\n",
    "    ]\n",
    ")"
   ]
  },
  {
   "cell_type": "code",
   "execution_count": 15,
   "id": "546101aa",
   "metadata": {},
   "outputs": [
    {
     "data": {
      "text/plain": [
       "ChatCompletion(id='chatcmpl-8wYBQttEtHrUrQgz3gUNs8c6PE0EG', choices=[Choice(finish_reason='stop', index=0, logprobs=None, message=ChatCompletionMessage(content='The target gene name is \"ALK\". The associated drug name is \"crizotinib\".', role='assistant', function_call=None, tool_calls=None))], created=1708965116, model='gpt-4-0613', object='chat.completion', system_fingerprint=None, usage=CompletionUsage(completion_tokens=20, prompt_tokens=191, total_tokens=211))"
      ]
     },
     "execution_count": 15,
     "metadata": {},
     "output_type": "execute_result"
    }
   ],
   "source": [
    "response"
   ]
  },
  {
   "cell_type": "markdown",
   "id": "79e7070c",
   "metadata": {},
   "source": [
    "**Looks like it's not good to have 2 sets of instructions coming from the user vs the system. The system instructions will override the user instructions.**"
   ]
  },
  {
   "cell_type": "code",
   "execution_count": 16,
   "id": "9f0b8094",
   "metadata": {},
   "outputs": [],
   "source": [
    "MODEL = \"gpt-4\"\n",
    "response = client.chat.completions.create(\n",
    "    model=MODEL,\n",
    "    messages=[\n",
    "        {\"role\": \"user\", \"content\": \"\"\"Extract the target gene name and associated drug names from a chunk of text:\n",
    "        In this phase 1 study, patients with ALK-positive stage III or IV NSCLC received oral crizotinib 250 mg twice daily in 28-day cycles. \n",
    "        Endpoints included tumour responses, duration of response, time to tumour response, progression-free survival (PFS), overall survival at 6 and 12 months, and determination of the safety and tolerability and characterisation of the plasma pharmacokinetic profile of crizotinib after oral administration. \n",
    "        Responses were analysed in evaluable patients and PFS and safety were analysed in all patients. \n",
    "        This study is registered with ClinicalTrials.gov, number NCT00585195.\n",
    "        \"\"\"},\n",
    "        {\"role\":\"system\",\"content\":\"Extract ClinicalTrials.gov number.\"}\n",
    "    ]\n",
    ")"
   ]
  },
  {
   "cell_type": "code",
   "execution_count": 17,
   "id": "fab315af",
   "metadata": {},
   "outputs": [
    {
     "data": {
      "text/plain": [
       "ChatCompletion(id='chatcmpl-8wYCITXZRp7j1KllxerKfpTb9pOUx', choices=[Choice(finish_reason='stop', index=0, logprobs=None, message=ChatCompletionMessage(content='NCT00585195', role='assistant', function_call=None, tool_calls=None))], created=1708965170, model='gpt-4-0613', object='chat.completion', system_fingerprint=None, usage=CompletionUsage(completion_tokens=5, prompt_tokens=175, total_tokens=180))"
      ]
     },
     "execution_count": 17,
     "metadata": {},
     "output_type": "execute_result"
    }
   ],
   "source": [
    "response"
   ]
  },
  {
   "cell_type": "markdown",
   "id": "2b212a49",
   "metadata": {},
   "source": [
    "**Put all instructions as system.**\n",
    "This seems to have worked better."
   ]
  },
  {
   "cell_type": "code",
   "execution_count": 20,
   "id": "a64fde4b",
   "metadata": {},
   "outputs": [],
   "source": [
    "MODEL = \"gpt-4\"\n",
    "response = client.chat.completions.create(\n",
    "    model=MODEL,\n",
    "    messages=[\n",
    "        {\"role\": \"user\", \"content\": \"\"\"\n",
    "        In this phase 1 study, patients with ALK-positive stage III or IV NSCLC received oral crizotinib 250 mg twice daily in 28-day cycles. \n",
    "        Endpoints included tumour responses, duration of response, time to tumour response, progression-free survival (PFS), overall survival at 6 and 12 months, and determination of the safety and tolerability and characterisation of the plasma pharmacokinetic profile of crizotinib after oral administration. \n",
    "        Responses were analysed in evaluable patients and PFS and safety were analysed in all patients. \n",
    "        This study is registered with ClinicalTrials.gov, number NCT00585195.\n",
    "        \"\"\"},\n",
    "        {\"role\":\"system\",\"content\":\"Extract the target gene name, associated drug names, and ClinicalTrials.gov number.\"}\n",
    "    ]\n",
    ")"
   ]
  },
  {
   "cell_type": "code",
   "execution_count": 19,
   "id": "807d99b4",
   "metadata": {},
   "outputs": [
    {
     "data": {
      "text/plain": [
       "ChatCompletion(id='chatcmpl-8wYEbRAu9nGXArcK5FlJXNi4o8W4O', choices=[Choice(finish_reason='stop', index=0, logprobs=None, message=ChatCompletionMessage(content='Target Gene Name: ALK\\nAssociated Drug Names: Crizotinib\\nClinicalTrials.gov number: NCT00585195', role='assistant', function_call=None, tool_calls=None))], created=1708965313, model='gpt-4-0613', object='chat.completion', system_fingerprint=None, usage=CompletionUsage(completion_tokens=28, prompt_tokens=171, total_tokens=199))"
      ]
     },
     "execution_count": 19,
     "metadata": {},
     "output_type": "execute_result"
    }
   ],
   "source": [
    "response"
   ]
  },
  {
   "cell_type": "code",
   "execution_count": null,
   "id": "b7dde407",
   "metadata": {},
   "outputs": [],
   "source": []
  },
  {
   "cell_type": "markdown",
   "id": "25c1827d",
   "metadata": {},
   "source": [
    "## Ideas to reduce the cost per query.<a id=\"cost\"></a>"
   ]
  },
  {
   "cell_type": "markdown",
   "id": "8e75575c",
   "metadata": {},
   "source": [
    "1. Calculate the length of different text queries and see how many tokens they would be. Even an estimate will give an idea about whether it will be feasible to use GPT 3.5 and reduce the cost. The context window should be able to take in the whole input text along with the role and content key-values.\n",
    "\n",
    "2. If step 1 confirms that the longest text query in the dataset can fit in the context window for GPT-4 and GPT-3.5, then test if GPT-3.5 gives the same quality of response as GPT-4. \n",
    "\n",
    "3. Perform a cleaning step on the text from the dataset before it goes into a prompt - remove extra spaces, trailing spaces and the last period. This small step can reduce the total number of tokens."
   ]
  },
  {
   "cell_type": "markdown",
   "id": "abb5ed63",
   "metadata": {},
   "source": [
    "### Model alternatives - shortlist acceptable models based on context window size, cost, and use case.<a id=\"models\"></a>"
   ]
  },
  {
   "cell_type": "markdown",
   "id": "7b69a641",
   "metadata": {},
   "source": [
    "1. gpt-3.5-turbo-0125\n",
    "    * 16,385 tokens\n",
    "    * But training data only upto Sep 2021\n",
    "    * Input - \\$0.0005 / 1K tokens\n",
    "    * Output - \\$0.0015 / 1K tokens\n",
    "    * you can set response_format to { \"type\": \"json_object\" } to enable JSON mode.\n",
    "\n",
    "\n",
    "2. gpt-4\n",
    "    * Currently points to gpt-4-0613.\n",
    "    * 8,192 tokens\n",
    "    * Up to Sep 2021\n",
    "    * Input - \\$0.03 / 1K tokens\n",
    "    * Output - \\$0.06 / 1K tokens\n",
    "    \n",
    "\n",
    "3. gpt-4-turbo-preview\n",
    "    * New\n",
    "    * 128,000 tokens\n",
    "    * Up to Dec 2023\n",
    "    * Input - \\$0.01 / 1K tokens\n",
    "    * Output - \\$0.03 / 1K tokens\n",
    "    * you can set response_format to { \"type\": \"json_object\" } to enable JSON mode."
   ]
  },
  {
   "cell_type": "markdown",
   "id": "eb499ef6",
   "metadata": {},
   "source": [
    "#### Test if these 3 models give the same response quality."
   ]
  },
  {
   "cell_type": "markdown",
   "id": "708d8482",
   "metadata": {},
   "source": [
    "This is the model we've used so far: "
   ]
  },
  {
   "cell_type": "code",
   "execution_count": 21,
   "id": "a771720c",
   "metadata": {},
   "outputs": [],
   "source": [
    "MODEL = \"gpt-4\"\n",
    "response = client.chat.completions.create(\n",
    "    model=MODEL,\n",
    "    messages=[\n",
    "        {\"role\": \"user\", \"content\": \"\"\"\n",
    "        In this phase 1 study, patients with ALK-positive stage III or IV NSCLC received oral crizotinib 250 mg twice daily in 28-day cycles. \n",
    "        Endpoints included tumour responses, duration of response, time to tumour response, progression-free survival (PFS), overall survival at 6 and 12 months, and determination of the safety and tolerability and characterisation of the plasma pharmacokinetic profile of crizotinib after oral administration. \n",
    "        Responses were analysed in evaluable patients and PFS and safety were analysed in all patients. \n",
    "        This study is registered with ClinicalTrials.gov, number NCT00585195.\n",
    "        \"\"\"},\n",
    "        {\"role\":\"system\",\"content\":\"Extract the target gene name, associated drug names, and ClinicalTrials.gov number.\"}\n",
    "    ]\n",
    ")"
   ]
  },
  {
   "cell_type": "code",
   "execution_count": 22,
   "id": "c2257f0e",
   "metadata": {},
   "outputs": [
    {
     "data": {
      "text/plain": [
       "ChatCompletion(id='chatcmpl-8wZ4ANHsg2yXIrK1GeXF2aRXcDpPA', choices=[Choice(finish_reason='stop', index=0, logprobs=None, message=ChatCompletionMessage(content='Target gene name: ALK\\nAssociated drug names: Crizotinib\\nClinicalTrials.gov number: NCT00585195', role='assistant', function_call=None, tool_calls=None))], created=1708968510, model='gpt-4-0613', object='chat.completion', system_fingerprint=None, usage=CompletionUsage(completion_tokens=28, prompt_tokens=171, total_tokens=199))"
      ]
     },
     "execution_count": 22,
     "metadata": {},
     "output_type": "execute_result"
    }
   ],
   "source": [
    "response"
   ]
  },
  {
   "cell_type": "markdown",
   "id": "becf9403",
   "metadata": {},
   "source": [
    "Test these 2 models - the first one is more expensive but most updated and the last one is lease expensive but less updated compared to the first one."
   ]
  },
  {
   "cell_type": "markdown",
   "id": "84e1da22",
   "metadata": {},
   "source": [
    "**Conclusion - GPT-4-turbo-preview is more accurate compared to the cheaper gpt-3.5. GPT-4-turbo-preview produces the same output as GPT-4 and is less expensive than GPT-4.**"
   ]
  },
  {
   "cell_type": "code",
   "execution_count": 26,
   "id": "212d78ae",
   "metadata": {},
   "outputs": [
    {
     "name": "stdout",
     "output_type": "stream",
     "text": [
      "ChatCompletion(id='chatcmpl-8wZ9kPCdHjS0SIdLUSv9ZQpFK4O23', choices=[Choice(finish_reason='stop', index=0, logprobs=None, message=ChatCompletionMessage(content='{\\n  \"target_gene\": \"ALK\",\\n  \"associated_drug_names\": [\"crizotinib\"],\\n  \"ClinicalTrials.gov_number\": \"NCT00585195\"\\n}', role='assistant', function_call=None, tool_calls=None))], created=1708968856, model='gpt-4-0125-preview', object='chat.completion', system_fingerprint='fp_91aa3742b1', usage=CompletionUsage(completion_tokens=39, prompt_tokens=174, total_tokens=213))\n",
      "ChatCompletion(id='chatcmpl-8wZ9mw6TGouFg8MuIl1D1P5P5Xz1t', choices=[Choice(finish_reason='stop', index=0, logprobs=None, message=ChatCompletionMessage(content='{\\n  \"target_gene\": \"ALK-positive\",\\n  \"drug_name\": \"crizotinib\",\\n  \"ClinicalTrials.gov_number\": \"NCT00585195\"\\n}', role='assistant', function_call=None, tool_calls=None))], created=1708968858, model='gpt-3.5-turbo-0125', object='chat.completion', system_fingerprint='fp_86156a94a0', usage=CompletionUsage(completion_tokens=38, prompt_tokens=174, total_tokens=212))\n"
     ]
    }
   ],
   "source": [
    "models_to_test = ['gpt-4-turbo-preview', 'gpt-3.5-turbo-0125']\n",
    "# models_to_test = ['gpt-3.5-turbo-0125']\n",
    "\n",
    "# Here we can add an additional argument for JSON format.\n",
    "\n",
    "for MODEL in models_to_test:\n",
    "    \n",
    "    response = client.chat.completions.create(\n",
    "        model=MODEL,\n",
    "        response_format={ \"type\": \"json_object\" },\n",
    "        messages=[\n",
    "            {\"role\": \"user\", \"content\": \"\"\"\n",
    "            In this phase 1 study, patients with ALK-positive stage III or IV NSCLC received oral crizotinib 250 mg twice daily in 28-day cycles. \n",
    "            Endpoints included tumour responses, duration of response, time to tumour response, progression-free survival (PFS), overall survival at 6 and 12 months, and determination of the safety and tolerability and characterisation of the plasma pharmacokinetic profile of crizotinib after oral administration. \n",
    "            Responses were analysed in evaluable patients and PFS and safety were analysed in all patients. \n",
    "            This study is registered with ClinicalTrials.gov, number NCT00585195.\n",
    "            \"\"\"},\n",
    "            {\"role\":\"system\",\"content\":\"Extract the target gene name, associated drug names, and ClinicalTrials.gov number and give JSON.\"}\n",
    "        ]\n",
    "    )\n",
    "    \n",
    "    print(response)"
   ]
  },
  {
   "cell_type": "markdown",
   "id": "3504b30e",
   "metadata": {},
   "source": [
    "## Testing some more use cases for entity extraction - gene name and drug names<a id=\"druggene\"></a>"
   ]
  },
  {
   "cell_type": "markdown",
   "id": "00edef03",
   "metadata": {},
   "source": [
    "First, create a messages variable to swap out different abstract examples and system level instructions."
   ]
  },
  {
   "cell_type": "code",
   "execution_count": 45,
   "id": "4ad8a4b0",
   "metadata": {},
   "outputs": [],
   "source": [
    "MODEL = 'gpt-4-turbo-preview'\n",
    "\n",
    "messages = [{\"role\": \"user\", \"content\": \"\"\"\"\"\"},\n",
    "            {'role': 'system',\"content\": \"\"\"\"\"\"}]"
   ]
  },
  {
   "cell_type": "code",
   "execution_count": 53,
   "id": "ee273974",
   "metadata": {},
   "outputs": [],
   "source": [
    "user_content = [\"\"\"\n",
    "In this phase 1 study, patients with ALK-positive stage III or IV NSCLC received oral crizotinib 250 mg twice daily in 28-day cycles.\n",
    "Endpoints included tumour responses, duration of response, time to tumour response, progression-free survival (PFS), overall survival at 6 and 12 months, and determination of the safety and tolerability and characterisation of the plasma pharmacokinetic profile of crizotinib after oral administration. \n",
    "Responses were analysed in evaluable patients and PFS and safety were analysed in all patients. \n",
    "This study is registered with ClinicalTrials.gov, number NCT00585195.\n",
    "\"\"\",\n",
    "\"\"\"\n",
    "Conventional chemotherapeutic drugs such as doxorubicin (DOX) are associated with severe adverse effects such as cardiac, hepatic, and gastrointestinal (GI) toxicities. Excessive production of reactive oxygen species (ROS) was reported to be one of the main mechanisms underlying these severe adverse effects. Recently, we have developed 2 types of novel redox nanoparticles (RNPs) including pH-sensitive redox nanoparticle (RNP(N)) and pH-insensitive redox nanoparticle (RNP(O)), which effectively scavenge overproduced ROS in inflamed and cancerous tissues. In this study, we investigated the effects of these RNPs on DOX-induced adverse effects during cancer chemotherapy. The DOX-induced body weight loss was significantly attenuated in the mice treated with RNPs, particularly pH-insensitive RNP(O). We also found that cardiac ROS levels in the DOX-treated mice were dramatically decreased by treatment with RNPs, resulting in the reversal of cardiac damage, as confirmed by both plasma cardiac biomarkers and histological analysis. It was interesting to notice that, during cotreatment with DOX and RNPs, the DOX uptake was significantly enhanced in the cancer cells, but not in healthy aortic endothelial cells in vitro. Treatment with RNPs also improved anticancer efficacy of DOX in the colitis-associated colon cancer model mice in vivo. On the basis of these results, a combination of the novel antioxidative nanotherapeutics (RNPs) with conventional anticancer drugs seems to be a robust strategy for well-tolerated anticancer therapy.\n",
    "\"\"\",\n",
    "\"\"\"\n",
    "Background: Sotorasib showed anticancer activity in patients with KRAS p.G12C-mutated advanced solid tumors in a phase 1 study, and particularly promising anticancer activity was observed in a subgroup of patients with non-small-cell lung cancer (NSCLC).\n",
    "Methods: In a single-group, phase 2 trial, we investigated the activity of sotorasib, administered orally at a dose of 960 mg once daily, in patients with KRAS p.G12C-mutated advanced NSCLC previously treated with standard therapies. The primary end point was objective response (complete or partial response) according to independent central review. Key secondary end points included duration of response, disease control (defined as complete response, partial response, or stable disease), progression-free survival, overall survival, and safety. Exploratory biomarkers were evaluated for their association with response to sotorasib therapy.\n",
    "Results: Among the 126 enrolled patients, the majority (81.0%) had previously received both platinum-based chemotherapy and inhibitors of programmed death 1 (PD-1) or programmed death ligand 1 (PD-L1). According to central review, 124 patients had measurable disease at baseline and were evaluated for response. An objective response was observed in 46 patients (37.1%; 95% confidence interval [CI], 28.6 to 46.2), including in 4 (3.2%) who had a complete response and in 42 (33.9%) who had a partial response. The median duration of response was 11.1 months (95% CI, 6.9 to could not be evaluated). Disease control occurred in 100 patients (80.6%; 95% CI, 72.6 to 87.2). The median progression-free survival was 6.8 months (95% CI, 5.1 to 8.2), and the median overall survival was 12.5 months (95% CI, 10.0 to could not be evaluated). Treatment-related adverse events occurred in 88 of 126 patients (69.8%), including grade 3 events in 25 patients (19.8%) and a grade 4 event in 1 (0.8%). Responses were observed in subgroups defined according to PD-L1 expression, tumor mutational burden, and co-occurring mutations in STK11, KEAP1, or TP53.\n",
    "\"\"\",\n",
    "\n",
    "\"\"\"\n",
    "Background: KRAS G12C is a mutation that occurs in approximately 3 to 4% of patients with metastatic colorectal cancer. Monotherapy with KRAS G12C inhibitors has yielded only modest efficacy. Combining the KRAS G12C inhibitor sotorasib with panitumumab, an epidermal growth factor receptor (EGFR) inhibitor, may be an effective strategy.\n",
    "Methods: In this phase 3, multicenter, open-label, randomized trial, we assigned patients with chemorefractory metastatic colorectal cancer with mutated KRAS G12C who had not received previous treatment with a KRAS G12C inhibitor to receive sotorasib at a dose of 960 mg once daily plus panitumumab (53 patients), sotorasib at a dose of 240 mg once daily plus panitumumab (53 patients), or the investigator's choice of trifluridine-tipiracil or regorafenib (standard care; 54 patients). The primary end point was progression-free survival as assessed by blinded independent central review according to the Response Evaluation Criteria in Solid Tumors, version 1.1. Key secondary end points were overall survival and objective response.\n",
    "Results: After a median follow-up of 7.8 months (range, 0.1 to 13.9), the median progression-free survival was 5.6 months (95% confidence interval [CI], 4.2 to 6.3) and 3.9 months (95% CI, 3.7 to 5.8) in the 960-mg sotorasib-panitumumab and 240-mg sotorasib-panitumumab groups, respectively, as compared with 2.2 months (95% CI, 1.9 to 3.9) in the standard-care group. The hazard ratio for disease progression or death in the 960-mg sotorasib-panitumumab group as compared with the standard-care group was 0.49 (95% CI, 0.30 to 0.80; P = 0.006), and the hazard ratio in the 240-mg sotorasib-panitumumab group was 0.58 (95% CI, 0.36 to 0.93; P = 0.03). Overall survival data are maturing. The objective response was 26.4% (95% CI, 15.3 to 40.3), 5.7% (95% CI, 1.2 to 15.7), and 0% (95% CI, 0.0 to 6.6) in the 960-mg sotorasib-panitumumab, 240-mg sotorasib-panitumumab, and standard-care groups, respectively. Treatment-related adverse events of grade 3 or higher occurred in 35.8%, 30.2%, and 43.1% of patients, respectively. Skin-related toxic effects and hypomagnesemia were the most common adverse events observed with sotorasib-panitumumab.\n",
    "Conclusions: In this phase 3 trial of a KRAS G12C inhibitor plus an EGFR inhibitor in patients with chemorefractory metastatic colorectal cancer, both doses of sotorasib in combination with panitumumab resulted in longer progression-free survival than standard treatment. Toxic effects were as expected for either agent alone and resulted in few discontinuations of treatment. (Funded by Amgen; CodeBreaK 300 ClinicalTrials.gov number, NCT05198934.).\n",
    "\"\"\"\n",
    "]"
   ]
  },
  {
   "cell_type": "code",
   "execution_count": 54,
   "id": "557f62e5",
   "metadata": {},
   "outputs": [],
   "source": [
    "system_content = [\"\"\"\n",
    "Extract the target gene name, associated drug names, and ClinicalTrials.gov number and give JSON.\n",
    "\"\"\"]"
   ]
  },
  {
   "cell_type": "code",
   "execution_count": 55,
   "id": "e290ce6f",
   "metadata": {
    "scrolled": false
   },
   "outputs": [
    {
     "name": "stdout",
     "output_type": "stream",
     "text": [
      "----RESULT---- ChatCompletion(id='chatcmpl-8wadqdx5J8ZLVT8EM27zqROfaHvIL', choices=[Choice(finish_reason='stop', index=0, logprobs=None, message=ChatCompletionMessage(content='{\\n  \"target_gene\": \"ALK\",\\n  \"associated_drug_names\": [\"crizotinib\"],\\n  \"ClinicalTrials.gov_number\": \"NCT00585195\"\\n}', role='assistant', function_call=None, tool_calls=None))], created=1708974566, model='gpt-4-0125-preview', object='chat.completion', system_fingerprint='fp_89b1a570e1', usage=CompletionUsage(completion_tokens=39, prompt_tokens=168, total_tokens=207))\n",
      "----RESULT---- ChatCompletion(id='chatcmpl-8wadtC7gTMDxkBKgAlQM6UJEcd6Ui', choices=[Choice(finish_reason='stop', index=0, logprobs=None, message=ChatCompletionMessage(content='\\n{\\n  \"target_gene_name\": null,\\n  \"associated_drug_names\": [\"doxorubicin (DOX)\"],\\n  \"ClinicalTrials.gov_number\": null\\n}', role='assistant', function_call=None, tool_calls=None))], created=1708974569, model='gpt-4-0125-preview', object='chat.completion', system_fingerprint='fp_89b1a570e1', usage=CompletionUsage(completion_tokens=38, prompt_tokens=352, total_tokens=390))\n",
      "----RESULT---- ChatCompletion(id='chatcmpl-8wadxT90RZWUB6tNsTJviV5iVpv9a', choices=[Choice(finish_reason='stop', index=0, logprobs=None, message=ChatCompletionMessage(content='{\\n  \"target_gene\": \"KRAS p.G12C\",\\n  \"associated_drug\": \"Sotorasib\",\\n  \"ClinicalTrials.gov_number\": null\\n}', role='assistant', function_call=None, tool_calls=None))], created=1708974573, model='gpt-4-0125-preview', object='chat.completion', system_fingerprint='fp_89b1a570e1', usage=CompletionUsage(completion_tokens=37, prompt_tokens=532, total_tokens=569))\n",
      "----RESULT---- ChatCompletion(id='chatcmpl-8wae0OXlsT5BndFjKltijDecDHW2r', choices=[Choice(finish_reason='stop', index=0, logprobs=None, message=ChatCompletionMessage(content='{\\n  \"target_gene\": \"KRAS G12C\",\\n  \"associated_drug_names\": [\\n    \"sotorasib\",\\n    \"panitumumab\",\\n    \"trifluridine-tipiracil\",\\n    \"regorafenib\"\\n  ],\\n  \"ClinicalTrials.gov_number\": \"NCT05198934\"\\n}', role='assistant', function_call=None, tool_calls=None))], created=1708974576, model='gpt-4-0125-preview', object='chat.completion', system_fingerprint='fp_89b1a570e1', usage=CompletionUsage(completion_tokens=72, prompt_tokens=808, total_tokens=880))\n"
     ]
    }
   ],
   "source": [
    "for user_text in user_content:\n",
    "    messages[0]['content'] = user_text\n",
    "    messages[1]['content'] = system_content[0]\n",
    "    \n",
    "    response = client.chat.completions.create(\n",
    "        model=MODEL,\n",
    "        response_format={ \"type\": \"json_object\" },\n",
    "        messages=messages\n",
    "    )\n",
    "    print(f'''----RESULT---- {response}''')"
   ]
  },
  {
   "cell_type": "markdown",
   "id": "99ac1c28",
   "metadata": {},
   "source": [
    "## Test use cases to see if any drug-target interaction type can also be extracted from the abstract"
   ]
  },
  {
   "cell_type": "code",
   "execution_count": 3,
   "id": "17d6058e",
   "metadata": {},
   "outputs": [],
   "source": [
    "MODEL = 'gpt-4-turbo-preview'\n",
    "\n",
    "messages = [{\"role\": \"user\", \"content\": \"\"\"\"\"\"},\n",
    "            {'role': 'system',\"content\": \"\"\"\"\"\"}]"
   ]
  },
  {
   "cell_type": "code",
   "execution_count": 4,
   "id": "259526ea",
   "metadata": {},
   "outputs": [],
   "source": [
    "system_content = [\"\"\"\n",
    "Extract the target gene name, associated drug names, type of drug mechanism or interaction, and ClinicalTrials.gov number as JSON\n",
    "\"\"\"]"
   ]
  },
  {
   "cell_type": "code",
   "execution_count": 5,
   "id": "6b54454b",
   "metadata": {},
   "outputs": [],
   "source": [
    "user_content = [\n",
    "\"\"\"\n",
    "Background: Sotorasib is a specific, irreversible inhibitor of the GTPase protein, KRASG12C. \n",
    "We compared the efficacy and safety of sotorasib with a standard-of-care treatment in patients with non-small-cell lung cancer (NSCLC) with the KRASG12C mutation who had been previously treated with other anticancer drugs.\n",
    "\"\"\"\n",
    "    \n",
    "]"
   ]
  },
  {
   "cell_type": "markdown",
   "id": "b1e12e6f",
   "metadata": {},
   "source": [
    "**This 1 example shows that it is able to extract the type of drug-target interaction as well. \n",
    "Test another example where it's worded differently.**"
   ]
  },
  {
   "cell_type": "code",
   "execution_count": 11,
   "id": "4de74e44",
   "metadata": {},
   "outputs": [
    {
     "name": "stdout",
     "output_type": "stream",
     "text": [
      "----RESULT---- ChatCompletion(id='chatcmpl-8wuvDO53HHEH4kvYtUjwzdqlIRkEj', choices=[Choice(finish_reason='stop', index=0, logprobs=None, message=ChatCompletionMessage(content='{\\n  \"target_gene_name\": \"KRASG12C\",\\n  \"associated_drug_names\": [\"Sotorasib\"],\\n  \"type_of_drug_mechanism\": \"Specific, irreversible inhibitor of the GTPase protein\",\\n  \"ClinicalTrials.gov_number\": null\\n}', role='assistant', function_call=None, tool_calls=None))], created=1709052523, model='gpt-4-0125-preview', object='chat.completion', system_fingerprint='fp_91aa3742b1', usage=CompletionUsage(completion_tokens=60, prompt_tokens=114, total_tokens=174))\n"
     ]
    }
   ],
   "source": [
    "for user_text in user_content:\n",
    "    messages[0]['content'] = user_text\n",
    "    messages[1]['content'] = system_content[0]\n",
    "    \n",
    "    response = client.chat.completions.create(\n",
    "        model=MODEL,\n",
    "        response_format={ \"type\": \"json_object\" },\n",
    "        messages=messages\n",
    "    )\n",
    "    print(f'''----RESULT---- {response}''')"
   ]
  },
  {
   "cell_type": "markdown",
   "id": "4a6dcab1",
   "metadata": {},
   "source": [
    "**Here too, it was able to extract the correct drug and gene name.**"
   ]
  },
  {
   "cell_type": "code",
   "execution_count": 12,
   "id": "774e140f",
   "metadata": {},
   "outputs": [],
   "source": [
    "user_content = [\n",
    "\"\"\"\n",
    "Lung adenocarcinoma (LUAD) is the most common lung cancer, with high mortality. \n",
    "As a tumor-suppressor gene, JWA plays an important role in blocking pan-tumor progression. \n",
    "JAC4, a small molecular-compound agonist, transcriptionally activates JWA expression both in vivo and in vitro.\n",
    "\"\"\"\n",
    "    \n",
    "]"
   ]
  },
  {
   "cell_type": "code",
   "execution_count": 13,
   "id": "e3b30077",
   "metadata": {},
   "outputs": [
    {
     "name": "stdout",
     "output_type": "stream",
     "text": [
      "----RESULT---- ChatCompletion(id='chatcmpl-8wuzc0WQUb3FOcxnCIhJT6e3H2cWR', choices=[Choice(finish_reason='stop', index=0, logprobs=None, message=ChatCompletionMessage(content='{\\n  \"target_gene\": \"JWA\",\\n  \"associated_drug_names\": [\\n    \"JAC4\"\\n  ],\\n  \"type_of_drug_mechanism_or_interaction\": \"agonist\",\\n  \"ClinicalTrials.gov_number\": null\\n}', role='assistant', function_call=None, tool_calls=None))], created=1709052796, model='gpt-4-0125-preview', object='chat.completion', system_fingerprint='fp_91aa3742b1', usage=CompletionUsage(completion_tokens=53, prompt_tokens=108, total_tokens=161))\n"
     ]
    }
   ],
   "source": [
    "for user_text in user_content:\n",
    "    messages[0]['content'] = user_text\n",
    "    messages[1]['content'] = system_content[0]\n",
    "    \n",
    "    response = client.chat.completions.create(\n",
    "        model=MODEL,\n",
    "        response_format={ \"type\": \"json_object\" },\n",
    "        messages=messages\n",
    "    )\n",
    "    print(f'''----RESULT---- {response}''')"
   ]
  },
  {
   "cell_type": "markdown",
   "id": "51987831",
   "metadata": {},
   "source": [
    "## Modify the prompt for it to return pairs or a set consisting of {gene, drug, interaction, clinical trial}. There should be a separate set if multiple entities are present"
   ]
  },
  {
   "cell_type": "markdown",
   "id": "9aba14db",
   "metadata": {},
   "source": [
    "First test the usual prompt:\n",
    "Here the output is incomplete as it didn't catch the second gene BRAF and associated drug."
   ]
  },
  {
   "cell_type": "code",
   "execution_count": 14,
   "id": "24a8e7ce",
   "metadata": {},
   "outputs": [
    {
     "name": "stdout",
     "output_type": "stream",
     "text": [
      "----RESULT---- ChatCompletion(id='chatcmpl-8wvEkFhdoII94FjUa1DL3rlxNpNO5', choices=[Choice(finish_reason='stop', index=0, logprobs=None, message=ChatCompletionMessage(content='{\\n  \"target_gene_name\": \"AXL\",\\n  \"associated_drug_names\": [\\n    \"BGB324\",\\n    \"vemurafenib\"\\n  ],\\n  \"type_of_drug_mechanism_or_interaction\": [\\n    \"AXLi (AXL inhibitor) potentiates BRAFi (BRAF inhibitor)-induced apoptosis\",\\n    \"stimulates ferroptosis\",\\n    \"inhibits autophagy\"\\n  ],\\n  \"ClinicalTrials.gov_number\": null\\n}', role='assistant', function_call=None, tool_calls=None))], created=1709053734, model='gpt-4-0125-preview', object='chat.completion', system_fingerprint='fp_91aa3742b1', usage=CompletionUsage(completion_tokens=103, prompt_tokens=291, total_tokens=394))\n"
     ]
    }
   ],
   "source": [
    "MODEL = 'gpt-4-turbo-preview'\n",
    "\n",
    "messages = [{\"role\": \"user\", \"content\": \"\"\"\"\"\"},\n",
    "            {'role': 'system',\"content\": \"\"\"\"\"\"}]\n",
    "\n",
    "system_content = [\"\"\"\n",
    "Extract the target gene name, associated drug names, type of drug mechanism or interaction, and ClinicalTrials.gov number as JSON\n",
    "\"\"\"]\n",
    "\n",
    "user_content = [\n",
    "\"\"\"\n",
    "More than half of metastatic melanoma patients receiving standard therapy fail to achieve a long-term survival due to primary and/or acquired resistance. \n",
    "Tumor cell ability to switch from epithelial to a more aggressive mesenchymal phenotype, attributed with AXLhigh molecular profile in melanoma, has been recently linked to such event, limiting treatment efficacy. \n",
    "In the current study, we investigated the therapeutic potential of the AXL inhibitor (AXLi) BGB324 alone or in combination with the clinically relevant BRAF inhibitor (BRAFi) vemurafenib. \n",
    "Firstly, AXL was shown to be expressed in majority of melanoma lymph node metastases.\n",
    "When treated ex vivo, the largest reduction in cell viability was observed when the two drugs were combined. \n",
    "In addition, a therapeutic benefit of adding AXLi to the BRAF-targeted therapy was observed in pre-clinical AXLhigh melanoma models in vitro and in vivo. When searching for mechanistic insights, AXLi was found to potentiate BRAFi-induced apoptosis, stimulate ferroptosis and inhibit autophagy. Altogether, our findings propose AXLi as a promising treatment in combination with standard therapy to improve therapeutic outcome in metastatic melanoma.\n",
    "\"\"\"\n",
    "    \n",
    "]\n",
    "\n",
    "for user_text in user_content:\n",
    "    messages[0]['content'] = user_text\n",
    "    messages[1]['content'] = system_content[0]\n",
    "    \n",
    "    response = client.chat.completions.create(\n",
    "        model=MODEL,\n",
    "        response_format={ \"type\": \"json_object\" },\n",
    "        messages=messages\n",
    "    )\n",
    "    print(f'''----RESULT---- {response}''')"
   ]
  },
  {
   "cell_type": "markdown",
   "id": "f9c9c8ca",
   "metadata": {},
   "source": [
    "**Try changing the prompt instruction to get the intended output.\n",
    "We can see that changing the instruction and asking the model to discriminate between different combinations of gene-drug pairs works.\n",
    "The output could be cleaner and more concise by using a 1 shot approach. This should be the next test.**"
   ]
  },
  {
   "cell_type": "code",
   "execution_count": 17,
   "id": "027e4e47",
   "metadata": {},
   "outputs": [],
   "source": [
    "system_content = [\"\"\"\n",
    "Return a JSON output with a set consisting of (target gene name,drug name, drug-target interaction, ClinicalTrials.gov number).\n",
    "Return multiple sets if more than 1 gene-drug combinations are present in the text.\n",
    "\"\"\"]\n"
   ]
  },
  {
   "cell_type": "markdown",
   "id": "554fec42",
   "metadata": {},
   "source": [
    "**It extracts multiple drug-target combinations correctly for the first article. \n",
    "However, for the second article it returns inaccurate information and places the drug type as the drug name.\n",
    "Also, it just reproduces the sentence from the paper to inform us about the type of drug interaction.\n",
    "This present an opportunity for:**\n",
    "1. Experimenting with the system instruction within the prompt.\n",
    "2. Testing if a one-shot approach gives a cleaner output."
   ]
  },
  {
   "cell_type": "code",
   "execution_count": 25,
   "id": "bc91eebd",
   "metadata": {},
   "outputs": [
    {
     "name": "stdout",
     "output_type": "stream",
     "text": [
      "----RESULT---- ChatCompletion(id='chatcmpl-8wwTTSJhidKa2PRZamGg8Wn0USUCf', choices=[Choice(finish_reason='stop', index=0, logprobs=None, message=ChatCompletionMessage(content='{\\n  \"gene-drug combinations\": [\\n    {\\n      \"target gene name\": \"AXL\",\\n      \"drug name\": \"BGB324\",\\n      \"drug-target interaction\": \"AXL inhibitor (AXLi)\",\\n      \"ClinicalTrials.gov number\": null\\n    },\\n    {\\n      \"target gene name\": \"BRAF\",\\n      \"drug name\": \"vemurafenib\",\\n      \"drug-target interaction\": \"BRAF inhibitor (BRAFi)\",\\n      \"ClinicalTrials.gov number\": null\\n    }\\n  ]\\n}', role='assistant', function_call=None, tool_calls=None))], created=1709058491, model='gpt-4-0125-preview', object='chat.completion', system_fingerprint='fp_91aa3742b1', usage=CompletionUsage(completion_tokens=113, prompt_tokens=310, total_tokens=423))\n"
     ]
    }
   ],
   "source": [
    "MODEL = 'gpt-4-turbo-preview'\n",
    "\n",
    "messages = [{\"role\": \"user\", \"content\": \"\"\"\"\"\"},\n",
    "            {'role': 'system',\"content\": \"\"\"\"\"\"}]\n",
    "\n",
    "user_content = [\n",
    "\"\"\"\n",
    "More than half of metastatic melanoma patients receiving standard therapy fail to achieve a long-term survival due to primary and/or acquired resistance. \n",
    "Tumor cell ability to switch from epithelial to a more aggressive mesenchymal phenotype, attributed with AXLhigh molecular profile in melanoma, has been recently linked to such event, limiting treatment efficacy. \n",
    "In the current study, we investigated the therapeutic potential of the AXL inhibitor (AXLi) BGB324 alone or in combination with the clinically relevant BRAF inhibitor (BRAFi) vemurafenib. \n",
    "Firstly, AXL was shown to be expressed in majority of melanoma lymph node metastases.\n",
    "When treated ex vivo, the largest reduction in cell viability was observed when the two drugs were combined. \n",
    "In addition, a therapeutic benefit of adding AXLi to the BRAF-targeted therapy was observed in pre-clinical AXLhigh melanoma models in vitro and in vivo. When searching for mechanistic insights, AXLi was found to potentiate BRAFi-induced apoptosis, stimulate ferroptosis and inhibit autophagy. Altogether, our findings propose AXLi as a promising treatment in combination with standard therapy to improve therapeutic outcome in metastatic melanoma.\n",
    "\"\"\"\n",
    "    \n",
    "]\n",
    "\n",
    "for user_text in user_content:\n",
    "    messages[0]['content'] = user_text\n",
    "    messages[1]['content'] = system_content[0]\n",
    "    \n",
    "    response = client.chat.completions.create(\n",
    "        model=MODEL,\n",
    "        response_format={ \"type\": \"json_object\" },\n",
    "        messages=messages\n",
    "    )\n",
    "    print(f'''----RESULT---- {response}''')"
   ]
  },
  {
   "cell_type": "markdown",
   "id": "122f1c31",
   "metadata": {},
   "source": [
    "* Entities captured correctly."
   ]
  },
  {
   "cell_type": "code",
   "execution_count": 26,
   "id": "45e5f5b3",
   "metadata": {},
   "outputs": [
    {
     "name": "stdout",
     "output_type": "stream",
     "text": [
      "{\n",
      "  \"gene-drug combinations\": [\n",
      "    {\n",
      "      \"target gene name\": \"AXL\",\n",
      "      \"drug name\": \"BGB324\",\n",
      "      \"drug-target interaction\": \"AXL inhibitor (AXLi)\",\n",
      "      \"ClinicalTrials.gov number\": null\n",
      "    },\n",
      "    {\n",
      "      \"target gene name\": \"BRAF\",\n",
      "      \"drug name\": \"vemurafenib\",\n",
      "      \"drug-target interaction\": \"BRAF inhibitor (BRAFi)\",\n",
      "      \"ClinicalTrials.gov number\": null\n",
      "    }\n",
      "  ]\n",
      "}\n"
     ]
    }
   ],
   "source": [
    "print(response.choices[0].message.content)"
   ]
  },
  {
   "cell_type": "code",
   "execution_count": 27,
   "id": "74b7692b",
   "metadata": {},
   "outputs": [
    {
     "name": "stdout",
     "output_type": "stream",
     "text": [
      "----RESULT---- ChatCompletion(id='chatcmpl-8wwTvHEIUzOfazMNWe66ycUfjgiq8', choices=[Choice(finish_reason='stop', index=0, logprobs=None, message=ChatCompletionMessage(content='{\\n  \"gene-drug combinations\": [\\n    {\\n      \"target gene name\": \"MDM2\",\\n      \"drug name\": \"MDM2-PROTAC\",\\n      \"drug-target interaction\": \"PROTAC selectively targets MDM2 for proteasome-mediated degradation with high-affinity binding and VHL recruitment\",\\n      \"ClinicalTrials.gov number\": null\\n    }\\n  ]\\n}', role='assistant', function_call=None, tool_calls=None))], created=1709058519, model='gpt-4-0125-preview', object='chat.completion', system_fingerprint='fp_8c864dca93', usage=CompletionUsage(completion_tokens=82, prompt_tokens=312, total_tokens=394))\n"
     ]
    }
   ],
   "source": [
    "MODEL = 'gpt-4-turbo-preview'\n",
    "\n",
    "messages = [{\"role\": \"user\", \"content\": \"\"\"\"\"\"},\n",
    "            {'role': 'system',\"content\": \"\"\"\"\"\"}]\n",
    "\n",
    "user_content = [\n",
    "\"\"\"\n",
    "Triple-negative breast cancers (TNBC) frequently inactivate p53, increasing their aggressiveness and therapy resistance. We identified an unexpected protein vulnerability in p53-inactivated TNBC and designed a new PROteolysis TArgeting Chimera (PROTAC) to target it. Our PROTAC selectively targets MDM2 for proteasome-mediated degradation with high-affinity binding and VHL recruitment. MDM2 loss in p53 mutant/deleted TNBC cells in two-dimensional/three-dimensional culture and TNBC patient explants, including relapsed tumors, causes apoptosis while sparing normal cells. Our MDM2-PROTAC is stable in vivo, and treatment of TNBC xenograft-bearing mice demonstrates tumor on-target efficacy with no toxicity to normal cells, significantly extending survival. Transcriptomic analyses revealed upregulation of p53 family target genes. Investigations showed activation and a required role for TAp73 to mediate MDM2-PROTAC-induced apoptosis. Our data, challenging the current MDM2/p53 paradigm, show MDM2 is required for p53-inactivated TNBC cell survival, and PROTAC-targeted MDM2 degradation is an innovative potential therapeutic strategy for TNBC and superior to existing MDM2 inhibitors.\n",
    "\"\"\"\n",
    "    \n",
    "]\n",
    "\n",
    "for user_text in user_content:\n",
    "    messages[0]['content'] = user_text\n",
    "    messages[1]['content'] = system_content[0]\n",
    "    \n",
    "    response = client.chat.completions.create(\n",
    "        model=MODEL,\n",
    "        response_format={ \"type\": \"json_object\" },\n",
    "        messages=messages\n",
    "    )\n",
    "    print(f'''----RESULT---- {response}''')"
   ]
  },
  {
   "cell_type": "markdown",
   "id": "d1e8c94f",
   "metadata": {},
   "source": [
    "* Entities captured incorrectly."
   ]
  },
  {
   "cell_type": "code",
   "execution_count": 28,
   "id": "d695775e",
   "metadata": {
    "scrolled": true
   },
   "outputs": [
    {
     "name": "stdout",
     "output_type": "stream",
     "text": [
      "{\n",
      "  \"gene-drug combinations\": [\n",
      "    {\n",
      "      \"target gene name\": \"MDM2\",\n",
      "      \"drug name\": \"MDM2-PROTAC\",\n",
      "      \"drug-target interaction\": \"PROTAC selectively targets MDM2 for proteasome-mediated degradation with high-affinity binding and VHL recruitment\",\n",
      "      \"ClinicalTrials.gov number\": null\n",
      "    }\n",
      "  ]\n",
      "}\n"
     ]
    }
   ],
   "source": [
    "print(response.choices[0].message.content)"
   ]
  },
  {
   "cell_type": "markdown",
   "id": "631e8419",
   "metadata": {},
   "source": [
    "## Can multiple abstracts be sent in 1 call with just one system instruction?\n",
    "\n",
    "Answer: Yes"
   ]
  },
  {
   "cell_type": "code",
   "execution_count": 29,
   "id": "3ba60d5e",
   "metadata": {},
   "outputs": [],
   "source": [
    "MODEL = 'gpt-4-turbo-preview'\n",
    "\n",
    "messages = [\n",
    "    {\"role\": \"system\",\"content\": \"\"\"\n",
    "    For each of the user text delimited by triple quotes, do the following:\n",
    "    1. Return a set consisting of (target gene name,drug name, drug-target interaction, ClinicalTrials.gov number).\n",
    "    2. Return multiple sets if more than 1 gene-drug combinations are present in the text.\n",
    "    3. Assemble all sets and produce 1 final JSON output.\n",
    "    \"\"\" },\n",
    "    {\n",
    "        \"role\": \"user\", \"content\": \"\"\"\n",
    "        More than half of metastatic melanoma patients receiving standard therapy fail to achieve a long-term survival due to primary and/or acquired resistance. \n",
    "Tumor cell ability to switch from epithelial to a more aggressive mesenchymal phenotype, attributed with AXLhigh molecular profile in melanoma, has been recently linked to such event, limiting treatment efficacy. \n",
    "In the current study, we investigated the therapeutic potential of the AXL inhibitor (AXLi) BGB324 alone or in combination with the clinically relevant BRAF inhibitor (BRAFi) vemurafenib. \n",
    "Firstly, AXL was shown to be expressed in majority of melanoma lymph node metastases.\n",
    "When treated ex vivo, the largest reduction in cell viability was observed when the two drugs were combined. \n",
    "In addition, a therapeutic benefit of adding AXLi to the BRAF-targeted therapy was observed in pre-clinical AXLhigh melanoma models in vitro and in vivo. When searching for mechanistic insights, AXLi was found to potentiate BRAFi-induced apoptosis, stimulate ferroptosis and inhibit autophagy. Altogether, our findings propose AXLi as a promising treatment in combination with standard therapy to improve therapeutic outcome in metastatic melanoma.\n",
    "        \"\"\"\n",
    "    },\n",
    "    {\n",
    "        \"role\": \"user\", \"content\": \"\"\"\n",
    "        Lung adenocarcinoma (LUAD) is the most common lung cancer, with high mortality. \n",
    "As a tumor-suppressor gene, JWA plays an important role in blocking pan-tumor progression. \n",
    "JAC4, a small molecular-compound agonist, transcriptionally activates JWA expression both in vivo and in vitro.\n",
    "        \"\"\"\n",
    "    }\n",
    "]\n",
    "\n",
    "response = client.chat.completions.create(\n",
    "        model=MODEL,\n",
    "        response_format={ \"type\": \"json_object\" },\n",
    "        messages=messages\n",
    "    )"
   ]
  },
  {
   "cell_type": "code",
   "execution_count": 35,
   "id": "567369c1",
   "metadata": {},
   "outputs": [
    {
     "data": {
      "text/plain": [
       "ChatCompletion(id='chatcmpl-8wzCWPeaRKazsJa7W5gRPuqgGPj09', choices=[Choice(finish_reason='stop', index=0, logprobs=None, message=ChatCompletionMessage(content='{\\n  \"sets\": [\\n    {\\n      \"target gene name\": \"AXL\",\\n      \"drug name\": \"BGB324\",\\n      \"drug-target interaction\": \"inhibitor\",\\n      \"ClinicalTrials.gov number\": null\\n    },\\n    {\\n      \"target gene name\": \"BRAF\",\\n      \"drug name\": \"vemurafenib\",\\n      \"drug-target interaction\": \"inhibitor\",\\n      \"ClinicalTrials.gov number\": null\\n    },\\n    {\\n      \"target gene name\": \"JWA\",\\n      \"drug name\": \"JAC4\",\\n      \"drug-target interaction\": \"agonist\",\\n      \"ClinicalTrials.gov number\": null\\n    }\\n  ]\\n}', role='assistant', function_call=None, tool_calls=None))], created=1709068972, model='gpt-4-0125-preview', object='chat.completion', system_fingerprint='fp_89b1a570e1', usage=CompletionUsage(completion_tokens=146, prompt_tokens=424, total_tokens=570))"
      ]
     },
     "execution_count": 35,
     "metadata": {},
     "output_type": "execute_result"
    }
   ],
   "source": [
    "response"
   ]
  },
  {
   "cell_type": "code",
   "execution_count": 31,
   "id": "9e7467d6",
   "metadata": {},
   "outputs": [
    {
     "name": "stdout",
     "output_type": "stream",
     "text": [
      "{\n",
      "  \"sets\": [\n",
      "    {\n",
      "      \"target gene name\": \"AXL\",\n",
      "      \"drug name\": \"BGB324\",\n",
      "      \"drug-target interaction\": \"inhibitor\",\n",
      "      \"ClinicalTrials.gov number\": null\n",
      "    },\n",
      "    {\n",
      "      \"target gene name\": \"BRAF\",\n",
      "      \"drug name\": \"vemurafenib\",\n",
      "      \"drug-target interaction\": \"inhibitor\",\n",
      "      \"ClinicalTrials.gov number\": null\n",
      "    },\n",
      "    {\n",
      "      \"target gene name\": \"JWA\",\n",
      "      \"drug name\": \"JAC4\",\n",
      "      \"drug-target interaction\": \"agonist\",\n",
      "      \"ClinicalTrials.gov number\": null\n",
      "    }\n",
      "  ]\n",
      "}\n"
     ]
    }
   ],
   "source": [
    "print(response.choices[0].message.content)"
   ]
  },
  {
   "cell_type": "markdown",
   "id": "6f953be4",
   "metadata": {},
   "source": [
    "## How to extract details from the Chat completion object?\n",
    "\n",
    "* In addition to the results, it's useful to extract the model and usage details.\n",
    "* While constructing the main code processing abstracts in batches, have a batch ID to track which PMIDs got processed in which batch and then add model and usage / token details for each batch. This metadata would help to plan future costs based on abstract lengths."
   ]
  },
  {
   "cell_type": "markdown",
   "id": "b724a494",
   "metadata": {},
   "source": [
    "**The response JSON object can be loaded as a Python object.**"
   ]
  },
  {
   "cell_type": "code",
   "execution_count": 58,
   "id": "53b47fb8",
   "metadata": {},
   "outputs": [],
   "source": [
    "result = json.loads(response.model_dump_json())"
   ]
  },
  {
   "cell_type": "markdown",
   "id": "865dc8b9",
   "metadata": {},
   "source": [
    "* Model string can be extracted like:"
   ]
  },
  {
   "cell_type": "code",
   "execution_count": 81,
   "id": "8f42ec02",
   "metadata": {},
   "outputs": [
    {
     "data": {
      "text/plain": [
       "'gpt-4-0125-preview'"
      ]
     },
     "execution_count": 81,
     "metadata": {},
     "output_type": "execute_result"
    }
   ],
   "source": [
    "result['model']"
   ]
  },
  {
   "cell_type": "markdown",
   "id": "9f77783b",
   "metadata": {},
   "source": [
    "* Usage details can be extracted like:"
   ]
  },
  {
   "cell_type": "code",
   "execution_count": 82,
   "id": "8f6f3891",
   "metadata": {},
   "outputs": [
    {
     "data": {
      "text/plain": [
       "{'completion_tokens': 146, 'prompt_tokens': 424, 'total_tokens': 570}"
      ]
     },
     "execution_count": 82,
     "metadata": {},
     "output_type": "execute_result"
    }
   ],
   "source": [
    "result['usage']"
   ]
  },
  {
   "cell_type": "markdown",
   "id": "bf30c878",
   "metadata": {},
   "source": [
    "**The main results are contained within 'message' key in the 'choices' list.**"
   ]
  },
  {
   "cell_type": "code",
   "execution_count": 80,
   "id": "b1bd047b",
   "metadata": {},
   "outputs": [
    {
     "data": {
      "text/plain": [
       "{'id': 'chatcmpl-8wzCWPeaRKazsJa7W5gRPuqgGPj09',\n",
       " 'choices': [{'finish_reason': 'stop',\n",
       "   'index': 0,\n",
       "   'logprobs': None,\n",
       "   'message': {'content': '{\\n  \"sets\": [\\n    {\\n      \"target gene name\": \"AXL\",\\n      \"drug name\": \"BGB324\",\\n      \"drug-target interaction\": \"inhibitor\",\\n      \"ClinicalTrials.gov number\": null\\n    },\\n    {\\n      \"target gene name\": \"BRAF\",\\n      \"drug name\": \"vemurafenib\",\\n      \"drug-target interaction\": \"inhibitor\",\\n      \"ClinicalTrials.gov number\": null\\n    },\\n    {\\n      \"target gene name\": \"JWA\",\\n      \"drug name\": \"JAC4\",\\n      \"drug-target interaction\": \"agonist\",\\n      \"ClinicalTrials.gov number\": null\\n    }\\n  ]\\n}',\n",
       "    'role': 'assistant',\n",
       "    'function_call': None,\n",
       "    'tool_calls': None}}],\n",
       " 'created': 1709068972,\n",
       " 'model': 'gpt-4-0125-preview',\n",
       " 'object': 'chat.completion',\n",
       " 'system_fingerprint': 'fp_89b1a570e1',\n",
       " 'usage': {'completion_tokens': 146,\n",
       "  'prompt_tokens': 424,\n",
       "  'total_tokens': 570}}"
      ]
     },
     "execution_count": 80,
     "metadata": {},
     "output_type": "execute_result"
    }
   ],
   "source": [
    "result"
   ]
  },
  {
   "cell_type": "markdown",
   "id": "79a1759d",
   "metadata": {},
   "source": [
    "**Extract the results into a df.**"
   ]
  },
  {
   "cell_type": "code",
   "execution_count": 75,
   "id": "e6be84cf",
   "metadata": {},
   "outputs": [],
   "source": [
    "data_dict = json.loads(result['choices'][0]['message']['content'])"
   ]
  },
  {
   "cell_type": "code",
   "execution_count": 77,
   "id": "3b7c395f",
   "metadata": {},
   "outputs": [
    {
     "data": {
      "text/plain": [
       "[{'target gene name': 'AXL',\n",
       "  'drug name': 'BGB324',\n",
       "  'drug-target interaction': 'inhibitor',\n",
       "  'ClinicalTrials.gov number': None},\n",
       " {'target gene name': 'BRAF',\n",
       "  'drug name': 'vemurafenib',\n",
       "  'drug-target interaction': 'inhibitor',\n",
       "  'ClinicalTrials.gov number': None},\n",
       " {'target gene name': 'JWA',\n",
       "  'drug name': 'JAC4',\n",
       "  'drug-target interaction': 'agonist',\n",
       "  'ClinicalTrials.gov number': None}]"
      ]
     },
     "execution_count": 77,
     "metadata": {},
     "output_type": "execute_result"
    }
   ],
   "source": [
    "data_dict['sets']"
   ]
  },
  {
   "cell_type": "code",
   "execution_count": 79,
   "id": "cad498b6",
   "metadata": {},
   "outputs": [
    {
     "data": {
      "text/html": [
       "<div>\n",
       "<style scoped>\n",
       "    .dataframe tbody tr th:only-of-type {\n",
       "        vertical-align: middle;\n",
       "    }\n",
       "\n",
       "    .dataframe tbody tr th {\n",
       "        vertical-align: top;\n",
       "    }\n",
       "\n",
       "    .dataframe thead th {\n",
       "        text-align: right;\n",
       "    }\n",
       "</style>\n",
       "<table border=\"1\" class=\"dataframe\">\n",
       "  <thead>\n",
       "    <tr style=\"text-align: right;\">\n",
       "      <th></th>\n",
       "      <th>target gene name</th>\n",
       "      <th>drug name</th>\n",
       "      <th>drug-target interaction</th>\n",
       "      <th>ClinicalTrials.gov number</th>\n",
       "    </tr>\n",
       "  </thead>\n",
       "  <tbody>\n",
       "    <tr>\n",
       "      <th>0</th>\n",
       "      <td>AXL</td>\n",
       "      <td>BGB324</td>\n",
       "      <td>inhibitor</td>\n",
       "      <td>None</td>\n",
       "    </tr>\n",
       "    <tr>\n",
       "      <th>1</th>\n",
       "      <td>BRAF</td>\n",
       "      <td>vemurafenib</td>\n",
       "      <td>inhibitor</td>\n",
       "      <td>None</td>\n",
       "    </tr>\n",
       "    <tr>\n",
       "      <th>2</th>\n",
       "      <td>JWA</td>\n",
       "      <td>JAC4</td>\n",
       "      <td>agonist</td>\n",
       "      <td>None</td>\n",
       "    </tr>\n",
       "  </tbody>\n",
       "</table>\n",
       "</div>"
      ],
      "text/plain": [
       "  target gene name    drug name drug-target interaction   \n",
       "0              AXL       BGB324               inhibitor  \\\n",
       "1             BRAF  vemurafenib               inhibitor   \n",
       "2              JWA         JAC4                 agonist   \n",
       "\n",
       "  ClinicalTrials.gov number  \n",
       "0                      None  \n",
       "1                      None  \n",
       "2                      None  "
      ]
     },
     "execution_count": 79,
     "metadata": {},
     "output_type": "execute_result"
    }
   ],
   "source": [
    "pd.DataFrame(data_dict['sets'])"
   ]
  },
  {
   "cell_type": "code",
   "execution_count": null,
   "id": "194672f0",
   "metadata": {},
   "outputs": [],
   "source": []
  },
  {
   "cell_type": "markdown",
   "id": "8835bebc",
   "metadata": {},
   "source": [
    "Things to figure out / next steps:\n",
    "\n",
    "1. How to send multiple abstracts and how many? - for the first part, test 3 text chunks. - DONE\n",
    "2. How to extract details from a JSON object? - DONE\n",
    "3. Experiment with the temperature setting?\n",
    "4. One shot learning"
   ]
  },
  {
   "cell_type": "code",
   "execution_count": null,
   "id": "03600450",
   "metadata": {},
   "outputs": [],
   "source": []
  }
 ],
 "metadata": {
  "kernelspec": {
   "display_name": "Python 3 (ipykernel)",
   "language": "python",
   "name": "python3"
  },
  "language_info": {
   "codemirror_mode": {
    "name": "ipython",
    "version": 3
   },
   "file_extension": ".py",
   "mimetype": "text/x-python",
   "name": "python",
   "nbconvert_exporter": "python",
   "pygments_lexer": "ipython3",
   "version": "3.9.12"
  }
 },
 "nbformat": 4,
 "nbformat_minor": 5
}
